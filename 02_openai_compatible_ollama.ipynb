{
 "cells": [
  {
   "cell_type": "code",
   "execution_count": 1,
   "metadata": {},
   "outputs": [
    {
     "data": {
      "text/plain": [
       "<openai.OpenAI at 0x1ae131aab70>"
      ]
     },
     "execution_count": 1,
     "metadata": {},
     "output_type": "execute_result"
    }
   ],
   "source": [
    "from openai import OpenAI\n",
    "import openai\n",
    "import json\n",
    "from typing import List\n",
    "from pydantic import BaseModel\n",
    "\n",
    "client = OpenAI(base_url=\"http://localhost:11434/v1\", api_key=\"ollama\")\n",
    "client"
   ]
  },
  {
   "cell_type": "code",
   "execution_count": 2,
   "metadata": {},
   "outputs": [
    {
     "name": "stdout",
     "output_type": "stream",
     "text": [
      "<think>\n",
      "Alright, let me tackle this step by step. The user is asking where the 2020 World Series was played.\n",
      "\n",
      "First, from the conversation history, I see that the user initially asked who won and I confirmed that the LA Dodgers were the winners. Now, they’re following up with a location question.\n",
      "\n",
      "I know that in 2020, COVID-19 was a big deal, so probably it wasn't held at the usual venues. Arlington-Fort Worth was hosting the World Series that year because of health protocols. Texas had fewer restrictions, making it a safer option for players and staff.\n",
      "\n",
      "The Dodgers won in six games against the Tampa Bay Rays. I should mention both the location, the teams, and maybe add a bit about the impact of COVID-19 rules to give context.\n",
      "\n",
      "Let me make sure to structure this clearly. Start with the location, then who played, how many games it took, and maybe a brief note on why the venue was chosen.\n",
      "</think>\n",
      "\n",
      "The 2020 World Series was played at Globe Life Field in Arlington, Texas. The Los Angeles Dodgers defeated the Tampa Bay Rays in six games to win the championship.\n"
     ]
    }
   ],
   "source": [
    "response = client.chat.completions.create(\n",
    "  model=\"deepseek-r1:8b\",\n",
    "  messages=[\n",
    "    {\"role\": \"system\", \"content\": \"You are a helpful assistant.\"},\n",
    "    {\"role\": \"user\", \"content\": \"Who won the world series in 2020?\"},\n",
    "    {\"role\": \"assistant\", \"content\": \"The LA Dodgers won in 2020.\"},\n",
    "    {\"role\": \"user\", \"content\": \"Where was it played?\"}\n",
    "  ]\n",
    ")\n",
    "print(response.choices[0].message.content)"
   ]
  },
  {
   "cell_type": "code",
   "execution_count": 32,
   "metadata": {},
   "outputs": [
    {
     "name": "stdout",
     "output_type": "stream",
     "text": [
      "{'location': 'Hard Rock Stadium', 'city': 'Miami Gardens'}\n"
     ]
    }
   ],
   "source": [
    "def structured_output_chatbot(question:str):\n",
    "    command = f'''\n",
    "    YOU MUST STRICTLY ADHERE TO THE GIVEN FORMAT.\n",
    "    format your response so that is follows a JSON format, for example:\n",
    "    //\n",
    "    {{\n",
    "    \"location\": \"Globe Life Field\", \"city\": \"Arlington\"\n",
    "    }}\n",
    "\n",
    "    your response should only contain the JSON format and nothing else.\n",
    "    '''\n",
    "\n",
    "    response = client.chat.completions.create(\n",
    "    model=\"llama3.2:latest\",\n",
    "    response_format={ \"type\": \"json_object\" },\n",
    "    messages=[\n",
    "        {\"role\": \"system\", \"content\": \"You are a helpful assistant.\"},\n",
    "        {\"role\": \"user\", \"content\": f\"{question}\"},\n",
    "        {\"role\": \"user\", \"content\": f\"{command}\"}\n",
    "    ]\n",
    "    )\n",
    "\n",
    "    result = json.loads(response.choices[0].message.content)\n",
    "    return result\n",
    "\n",
    "question = \"Where was the world series in 2020 played?\"\n",
    "print(structured_output_chatbot(question))"
   ]
  },
  {
   "cell_type": "code",
   "execution_count": 25,
   "metadata": {},
   "outputs": [
    {
     "data": {
      "text/plain": [
       "[Person(name='John', age=30), Person(name='Alice', age=25)]"
      ]
     },
     "execution_count": 25,
     "metadata": {},
     "output_type": "execute_result"
    }
   ],
   "source": [
    "from openai import OpenAI\n",
    "from pydantic import BaseModel\n",
    "\n",
    "class Person(BaseModel):\n",
    "    name: str\n",
    "    age: int\n",
    "\n",
    "completion = client.beta.chat.completions.parse(\n",
    "    model=\"llama3.2:latest\",\n",
    "    messages=[\n",
    "        {\n",
    "            \"role\": \"system\",\n",
    "            \"content\": \"Extract the names and ages of the people mentioned in the following text.\"\n",
    "        },\n",
    "        {\n",
    "            \"role\": \"user\",\n",
    "            \"content\": \"John is 30 years old and his sister Alice is 25.\"\n",
    "        }\n",
    "    ],\n",
    "    tools=[\n",
    "        openai.pydantic_function_tool(Person)\n",
    "    ]\n",
    ")\n",
    "\n",
    "results = [i.function.parsed_arguments for i in completion.choices[0].message.tool_calls]\n",
    "results"
   ]
  },
  {
   "cell_type": "code",
   "execution_count": 29,
   "metadata": {},
   "outputs": [
    {
     "name": "stdout",
     "output_type": "stream",
     "text": [
      "[Pet(name='Luna', animal='cat', age=5, color='grey', favorite_toy='yarn'), Pet(name='black cat', animal='cat', age=2, color='', favorite_toy='tennis balls')]\n"
     ]
    }
   ],
   "source": [
    "class Pet(BaseModel):\n",
    "    name: str\n",
    "    animal: str\n",
    "    age: int\n",
    "    color: str | None\n",
    "    favorite_toy: str | None\n",
    "\n",
    "try:\n",
    "    completion = client.beta.chat.completions.parse(\n",
    "        temperature=0,\n",
    "        model=\"llama3.2:latest\",\n",
    "        messages=[\n",
    "            {\"role\": \"user\", \n",
    "            \"content\": '''\n",
    "                I have two pets.\n",
    "                A cat named Luna who is 5 years old and loves playing with yarn. She has grey fur.\n",
    "                I also have a 2 year old black cat named Loki who loves tennis balls.\n",
    "            '''}\n",
    "        ],\n",
    "        tools=[openai.pydantic_function_tool(Pet)]\n",
    "    )\n",
    "    results = [i.function.parsed_arguments for i in completion.choices[0].message.tool_calls]\n",
    "    print(results)\n",
    "\n",
    "except Exception as e:\n",
    "    if type(e) == openai.LengthFinishReasonError:\n",
    "        print(\"Too many tokens: \", e)\n",
    "        pass\n",
    "    else:\n",
    "        print(e)\n",
    "        pass"
   ]
  },
  {
   "cell_type": "code",
   "execution_count": null,
   "metadata": {},
   "outputs": [],
   "source": []
  }
 ],
 "metadata": {
  "kernelspec": {
   "display_name": ".venv",
   "language": "python",
   "name": "python3"
  },
  "language_info": {
   "codemirror_mode": {
    "name": "ipython",
    "version": 3
   },
   "file_extension": ".py",
   "mimetype": "text/x-python",
   "name": "python",
   "nbconvert_exporter": "python",
   "pygments_lexer": "ipython3",
   "version": "3.12.6"
  }
 },
 "nbformat": 4,
 "nbformat_minor": 2
}
