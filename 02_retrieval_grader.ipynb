{
 "cells": [
  {
   "cell_type": "code",
   "execution_count": 2,
   "metadata": {},
   "outputs": [],
   "source": [
    "from typing import Literal\n",
    "from langchain_core.prompts import ChatPromptTemplate\n",
    "from langchain_groq import ChatGroq\n",
    "from langchain_ollama.chat_models import ChatOllama\n",
    "from pydantic import BaseModel, Field\n",
    "from langchain_chroma import Chroma\n",
    "from langchain_ollama import OllamaEmbeddings"
   ]
  },
  {
   "cell_type": "code",
   "execution_count": 14,
   "metadata": {},
   "outputs": [
    {
     "name": "stdout",
     "output_type": "stream",
     "text": [
      "model='bge-m3:latest' base_url='http://localhost:11434' client_kwargs={}\n"
     ]
    },
    {
     "data": {
      "text/plain": [
       "VectorStoreRetriever(tags=['Chroma', 'OllamaEmbeddings'], vectorstore=<langchain_chroma.vectorstores.Chroma object at 0x000001DEF060C560>, search_kwargs={})"
      ]
     },
     "execution_count": 14,
     "metadata": {},
     "output_type": "execute_result"
    }
   ],
   "source": [
    "embed_model = OllamaEmbeddings(base_url=\"http://localhost:11434\", model=\"bge-m3:latest\")\n",
    "print(embed_model)\n",
    "vectorstore = Chroma(persist_directory=\"./db/chroma_langchain_db\", embedding_function=embed_model)\n",
    "retriever = vectorstore.as_retriever()\n",
    "\n",
    "# retriever = vectorstore.as_retriever(search_type=\"mmr\", search_kwargs={'k': 3, \"fetch_k\":5})\n",
    "\n",
    "retriever"
   ]
  },
  {
   "cell_type": "code",
   "execution_count": 15,
   "metadata": {},
   "outputs": [],
   "source": [
    "# Data model\n",
    "class GradeDocuments(BaseModel):\n",
    "    \"\"\"Binary score for relevance check on retrieved documents.\"\"\"\n",
    "\n",
    "    binary_score: str = Field(\n",
    "        description=\"Documents are relevant to the question, 'yes' or 'no'\"\n",
    "    )"
   ]
  },
  {
   "cell_type": "code",
   "execution_count": 16,
   "metadata": {},
   "outputs": [
    {
     "data": {
      "text/plain": [
       "RunnableBinding(bound=ChatGroq(client=<groq.resources.chat.completions.Completions object at 0x000001DEF060D7F0>, async_client=<groq.resources.chat.completions.AsyncCompletions object at 0x000001DEF060DEB0>, model_name='llama-3.2-11b-text-preview', temperature=1e-08, model_kwargs={}, groq_api_key=SecretStr('**********')), kwargs={'tools': [{'type': 'function', 'function': {'name': 'GradeDocuments', 'description': 'Binary score for relevance check on retrieved documents.', 'parameters': {'properties': {'binary_score': {'description': \"Documents are relevant to the question, 'yes' or 'no'\", 'type': 'string'}}, 'required': ['binary_score'], 'type': 'object'}}}], 'tool_choice': {'type': 'function', 'function': {'name': 'GradeDocuments'}}}, config={}, config_factories=[])\n",
       "| PydanticToolsParser(first_tool_only=True, tools=[<class '__main__.GradeDocuments'>])"
      ]
     },
     "execution_count": 16,
     "metadata": {},
     "output_type": "execute_result"
    }
   ],
   "source": [
    "llm = ChatGroq(temperature=0, model_name= \"llama-3.2-11b-text-preview\")\n",
    "# llm = ChatOllama(base_url=\"http://localhost:11434\", model=\"llama3.2:latest\")\n",
    "\n",
    "structured_llm_grader = llm.with_structured_output(GradeDocuments)\n",
    "structured_llm_grader"
   ]
  },
  {
   "cell_type": "code",
   "execution_count": 17,
   "metadata": {},
   "outputs": [
    {
     "data": {
      "text/plain": [
       "ChatPromptTemplate(input_variables=['document', 'question'], input_types={}, partial_variables={}, messages=[SystemMessagePromptTemplate(prompt=PromptTemplate(input_variables=[], input_types={}, partial_variables={}, template=\"You are a grader assessing relevance of a retrieved document to a user question. \\n \\n    If the document contains keyword(s) or semantic meaning related to the user question, grade it as relevant. \\n\\n    It does not need to be a stringent test. The goal is to filter out erroneous retrievals. \\n\\n    Give a binary score 'yes' or 'no' score to indicate whether the document is relevant to the question.\"), additional_kwargs={}), HumanMessagePromptTemplate(prompt=PromptTemplate(input_variables=['document', 'question'], input_types={}, partial_variables={}, template='Retrieved document: \\n\\n {document} \\n\\n User question: {question}'), additional_kwargs={})])\n",
       "| RunnableBinding(bound=ChatGroq(client=<groq.resources.chat.completions.Completions object at 0x000001DEF060D7F0>, async_client=<groq.resources.chat.completions.AsyncCompletions object at 0x000001DEF060DEB0>, model_name='llama-3.2-11b-text-preview', temperature=1e-08, model_kwargs={}, groq_api_key=SecretStr('**********')), kwargs={'tools': [{'type': 'function', 'function': {'name': 'GradeDocuments', 'description': 'Binary score for relevance check on retrieved documents.', 'parameters': {'properties': {'binary_score': {'description': \"Documents are relevant to the question, 'yes' or 'no'\", 'type': 'string'}}, 'required': ['binary_score'], 'type': 'object'}}}], 'tool_choice': {'type': 'function', 'function': {'name': 'GradeDocuments'}}}, config={}, config_factories=[])\n",
       "| PydanticToolsParser(first_tool_only=True, tools=[<class '__main__.GradeDocuments'>])"
      ]
     },
     "execution_count": 17,
     "metadata": {},
     "output_type": "execute_result"
    }
   ],
   "source": [
    "# Prompt\n",
    "system = \"\"\"You are a grader assessing relevance of a retrieved document to a user question. \\n \n",
    "    If the document contains keyword(s) or semantic meaning related to the user question, grade it as relevant. \\n\n",
    "    It does not need to be a stringent test. The goal is to filter out erroneous retrievals. \\n\n",
    "    Give a binary score 'yes' or 'no' score to indicate whether the document is relevant to the question.\"\"\"\n",
    "grade_prompt = ChatPromptTemplate.from_messages(\n",
    "    [\n",
    "        (\"system\", system),\n",
    "        (\"human\", \"Retrieved document: \\n\\n {document} \\n\\n User question: {question}\"),\n",
    "    ]\n",
    ")\n",
    "retrieval_grader = grade_prompt | structured_llm_grader\n",
    "retrieval_grader\n"
   ]
  },
  {
   "cell_type": "code",
   "execution_count": 19,
   "metadata": {},
   "outputs": [
    {
     "data": {
      "text/plain": [
       "[]"
      ]
     },
     "execution_count": 19,
     "metadata": {},
     "output_type": "execute_result"
    }
   ],
   "source": [
    "%timeit\n",
    "question = \"what is noon report?\"\n",
    "docs = retriever.invoke(question)\n",
    "docs"
   ]
  },
  {
   "cell_type": "code",
   "execution_count": 73,
   "metadata": {},
   "outputs": [
    {
     "data": {
      "text/plain": [
       "\"pipe. 19)  Drawing of general layout showing plan / elevation / section view shall be included in. the approval drawing.. 20) Eye-plate to be suitably fitted for rotor of generaforsteam turbines, electric motors, pumpsheat exchanger's.cover/tube/bundles and.heawystrainer's.cover/filter/element of about 40 kg & above (And lifting eyes to have a min. diameter of 23 mm). 21) Test provision such as three way test cock to be provided for pressure switches and pressure transmitters. 22) The surfaces having normal operating temperatures above 60 C to be Insulated by temperature and for personal protection and at least the a preparation work(insulation stopper and/or pin) should be done by supplier before equipment delivery. AHYUNDAI HEAVY INDUSTRIES CO., LTD. PRINT 2024-06-17 07:38/H3#:/3037930\""
      ]
     },
     "execution_count": 73,
     "metadata": {},
     "output_type": "execute_result"
    }
   ],
   "source": [
    "doc_txt = docs[2].page_content\n",
    "doc_txt"
   ]
  },
  {
   "cell_type": "code",
   "execution_count": 74,
   "metadata": {},
   "outputs": [
    {
     "data": {
      "text/plain": [
       "'yes'"
      ]
     },
     "execution_count": 74,
     "metadata": {},
     "output_type": "execute_result"
    }
   ],
   "source": [
    "result = retrieval_grader.invoke({\"question\": question, \"document\": doc_txt})\n",
    "result.binary_score"
   ]
  },
  {
   "cell_type": "code",
   "execution_count": 75,
   "metadata": {},
   "outputs": [
    {
     "data": {
      "text/plain": [
       "[]"
      ]
     },
     "execution_count": 75,
     "metadata": {},
     "output_type": "execute_result"
    }
   ],
   "source": [
    "grade_no_docs = [grade_no_doc for grade_no_doc in docs if retrieval_grader.invoke({\"question\": question, \"document\": doc_txt}).binary_score == 'no']\n",
    "grade_no_docs"
   ]
  },
  {
   "cell_type": "code",
   "execution_count": 76,
   "metadata": {},
   "outputs": [
    {
     "data": {
      "text/plain": [
       "[Document(metadata={'File Name': 'FWG', 'File Path': '.\\\\documents\\\\pos\\\\FWG.pdf', 'First Division': 'documents', 'Page': 0, 'Second Division': 'pos'}, page_content='|None||None|None|None|F.W. GENERATOR|None|None|None|None|\\n|TEL. NO.|SHIP NO.|None|None|None|None|None|None|None|None|\\n|*1-6325|8250/8251|None|None|None|None|None|None|None|None|\\n||APPROVED|None|Hyunseung Kim||None|None|None|None|None|\\n|None||None||||None|None|None|None|\\n|None|CHECKED|None|Seungho Han|||None|None|None|None|\\n|None||None||||None|None|None|None|\\n|None|DRAWN|None|Junsuk Yoon||REFERENCE DRAWING NO. 8250536-0|None|None|DRAWING SCALE|None|\\n|HYUNDAI HEAVY INDUSTRIES CO., LTD. SAMHO SHIPYARD. KOREA|None|None|None|None|None|None|None|None|None|\\n|None|None|None|None|None|SEQUENCE NO.|None||None|None|\\n|None|None|None|None|None||None|None|None|None|'),\n",
       " Document(metadata={'File Name': 'FW Generator', 'File Path': '.\\\\documents\\\\pos\\\\FW Generator.pdf', 'First Division': 'documents', 'Page': 0, 'Second Division': 'pos'}, page_content='|None||None|None|None|F.W. GENERATOR|None|None|None|None|\\n|TEL. NO.|SHIP NO.|None|None|None|None|None|None|None|None|\\n|*1-6325|8250/8251|None|None|None|None|None|None|None|None|\\n||APPROVED|None|Hyunseung Kim||None|None|None|None|None|\\n|None||None||||None|None|None|None|\\n|None|CHECKED|None|Seungho Han|||None|None|None|None|\\n|None||None||||None|None|None|None|\\n|None|DRAWN|None|Junsuk Yoon||REFERENCE DRAWING NO. 8250536-0|None|None|DRAWING SCALE|None|\\n|HYUNDAI HEAVY INDUSTRIES CO., LTD. SAMHO SHIPYARD. KOREA|None|None|None|None|None|None|None|None|None|\\n|None|None|None|None|None|SEQUENCE NO.|None||None|None|\\n|None|None|None|None|None||None|None|None|None|'),\n",
       " Document(metadata={'File Name': 'Air Compressor', 'File Path': '.\\\\documents\\\\pos\\\\Air Compressor.pdf', 'First Division': 'documents', 'Page': 5, 'Second Division': 'pos'}, page_content=\"pipe. 19)  Drawing of general layout showing plan / elevation / section view shall be included in. the approval drawing.. 20) Eye-plate to be suitably fitted for rotor of generaforsteam turbines, electric motors, pumpsheat exchanger's.cover/tube/bundles and.heawystrainer's.cover/filter/element of about 40 kg & above (And lifting eyes to have a min. diameter of 23 mm). 21) Test provision such as three way test cock to be provided for pressure switches and pressure transmitters. 22) The surfaces having normal operating temperatures above 60 C to be Insulated by temperature and for personal protection and at least the a preparation work(insulation stopper and/or pin) should be done by supplier before equipment delivery. AHYUNDAI HEAVY INDUSTRIES CO., LTD. PRINT 2024-06-17 07:38/H3#:/3037930\")]"
      ]
     },
     "execution_count": 76,
     "metadata": {},
     "output_type": "execute_result"
    }
   ],
   "source": [
    "grade_yes_docs = [grade_yes_doc for grade_yes_doc in docs if retrieval_grader.invoke({\"question\": question, \"document\": doc_txt}).binary_score == 'yes']\n",
    "grade_yes_docs"
   ]
  },
  {
   "cell_type": "code",
   "execution_count": null,
   "metadata": {},
   "outputs": [],
   "source": []
  },
  {
   "cell_type": "code",
   "execution_count": null,
   "metadata": {},
   "outputs": [],
   "source": []
  }
 ],
 "metadata": {
  "kernelspec": {
   "display_name": ".venv",
   "language": "python",
   "name": "python3"
  },
  "language_info": {
   "codemirror_mode": {
    "name": "ipython",
    "version": 3
   },
   "file_extension": ".py",
   "mimetype": "text/x-python",
   "name": "python",
   "nbconvert_exporter": "python",
   "pygments_lexer": "ipython3",
   "version": "3.12.6"
  }
 },
 "nbformat": 4,
 "nbformat_minor": 2
}
