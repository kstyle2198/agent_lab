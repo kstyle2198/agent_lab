{
 "cells": [
  {
   "cell_type": "code",
   "execution_count": 1,
   "metadata": {},
   "outputs": [],
   "source": [
    "from typing import Literal\n",
    "from langchain_core.prompts import ChatPromptTemplate\n",
    "from langchain_groq import ChatGroq\n",
    "from langchain_ollama.chat_models import ChatOllama\n",
    "from pydantic import BaseModel, Field\n",
    "from langchain_chroma import Chroma\n",
    "from langchain_ollama import OllamaEmbeddings"
   ]
  },
  {
   "cell_type": "code",
   "execution_count": 2,
   "metadata": {},
   "outputs": [
    {
     "name": "stdout",
     "output_type": "stream",
     "text": [
      "model='bge-m3:latest' base_url='http://localhost:11434' client_kwargs={}\n"
     ]
    },
    {
     "data": {
      "text/plain": [
       "VectorStoreRetriever(tags=['Chroma', 'OllamaEmbeddings'], vectorstore=<langchain_chroma.vectorstores.Chroma object at 0x000001ADF1943F50>, search_type='mmr', search_kwargs={'k': 3, 'fetch_k': 5})"
      ]
     },
     "execution_count": 2,
     "metadata": {},
     "output_type": "execute_result"
    }
   ],
   "source": [
    "embed_model = OllamaEmbeddings(base_url=\"http://localhost:11434\", model=\"bge-m3:latest\")\n",
    "print(embed_model)\n",
    "vectorstore = Chroma(collection_name=\"collection_01\", persist_directory=\"./db/chroma_db_02\", embedding_function=embed_model)\n",
    "# retriever = vectorstore.as_retriever()\n",
    "retriever = vectorstore.as_retriever(search_type=\"mmr\", search_kwargs={'k': 3, \"fetch_k\":5})\n",
    "retriever"
   ]
  },
  {
   "cell_type": "code",
   "execution_count": 3,
   "metadata": {},
   "outputs": [],
   "source": [
    "# Data model\n",
    "class GradeDocuments(BaseModel):\n",
    "    \"\"\"Binary score for relevance check on retrieved documents.\"\"\"\n",
    "\n",
    "    binary_score: str = Field(\n",
    "        description=\"Documents are relevant to the question, 'yes' or 'no'\"\n",
    "    )"
   ]
  },
  {
   "cell_type": "code",
   "execution_count": 4,
   "metadata": {},
   "outputs": [
    {
     "data": {
      "text/plain": [
       "RunnableBinding(bound=ChatGroq(client=<groq.resources.chat.completions.Completions object at 0x000001ADF313A6F0>, async_client=<groq.resources.chat.completions.AsyncCompletions object at 0x000001ADF32A0C80>, model_name='llama-3.2-11b-text-preview', temperature=1e-08, model_kwargs={}, groq_api_key=SecretStr('**********')), kwargs={'tools': [{'type': 'function', 'function': {'name': 'GradeDocuments', 'description': 'Binary score for relevance check on retrieved documents.', 'parameters': {'properties': {'binary_score': {'description': \"Documents are relevant to the question, 'yes' or 'no'\", 'type': 'string'}}, 'required': ['binary_score'], 'type': 'object'}}}], 'tool_choice': {'type': 'function', 'function': {'name': 'GradeDocuments'}}}, config={}, config_factories=[])\n",
       "| PydanticToolsParser(first_tool_only=True, tools=[<class '__main__.GradeDocuments'>])"
      ]
     },
     "execution_count": 4,
     "metadata": {},
     "output_type": "execute_result"
    }
   ],
   "source": [
    "llm = ChatGroq(temperature=0, model_name= \"llama-3.2-11b-text-preview\")\n",
    "# llm = ChatOllama(base_url=\"http://localhost:11434\", model=\"llama3.2:latest\")\n",
    "structured_llm_grader = llm.with_structured_output(GradeDocuments)\n",
    "structured_llm_grader"
   ]
  },
  {
   "cell_type": "code",
   "execution_count": 5,
   "metadata": {},
   "outputs": [
    {
     "data": {
      "text/plain": [
       "ChatPromptTemplate(input_variables=['document', 'question'], input_types={}, partial_variables={}, messages=[SystemMessagePromptTemplate(prompt=PromptTemplate(input_variables=[], input_types={}, partial_variables={}, template=\"You are a grader assessing relevance of a retrieved document to a user question. \\n \\n    If the document contains keyword(s) or semantic meaning related to the user question, grade it as relevant. \\n\\n    It does not need to be a stringent test. The goal is to filter out erroneous retrievals. \\n\\n    Give a binary score 'yes' or 'no' score to indicate whether the document is relevant to the question.\"), additional_kwargs={}), HumanMessagePromptTemplate(prompt=PromptTemplate(input_variables=['document', 'question'], input_types={}, partial_variables={}, template='Retrieved document: \\n\\n {document} \\n\\n User question: {question}'), additional_kwargs={})])\n",
       "| RunnableBinding(bound=ChatGroq(client=<groq.resources.chat.completions.Completions object at 0x000001ADF313A6F0>, async_client=<groq.resources.chat.completions.AsyncCompletions object at 0x000001ADF32A0C80>, model_name='llama-3.2-11b-text-preview', temperature=1e-08, model_kwargs={}, groq_api_key=SecretStr('**********')), kwargs={'tools': [{'type': 'function', 'function': {'name': 'GradeDocuments', 'description': 'Binary score for relevance check on retrieved documents.', 'parameters': {'properties': {'binary_score': {'description': \"Documents are relevant to the question, 'yes' or 'no'\", 'type': 'string'}}, 'required': ['binary_score'], 'type': 'object'}}}], 'tool_choice': {'type': 'function', 'function': {'name': 'GradeDocuments'}}}, config={}, config_factories=[])\n",
       "| PydanticToolsParser(first_tool_only=True, tools=[<class '__main__.GradeDocuments'>])"
      ]
     },
     "execution_count": 5,
     "metadata": {},
     "output_type": "execute_result"
    }
   ],
   "source": [
    "# Prompt\n",
    "system = \"\"\"You are a grader assessing relevance of a retrieved document to a user question. \\n \n",
    "    If the document contains keyword(s) or semantic meaning related to the user question, grade it as relevant. \\n\n",
    "    It does not need to be a stringent test. The goal is to filter out erroneous retrievals. \\n\n",
    "    Give a binary score 'yes' or 'no' score to indicate whether the document is relevant to the question.\"\"\"\n",
    "grade_prompt = ChatPromptTemplate.from_messages(\n",
    "    [\n",
    "        (\"system\", system),\n",
    "        (\"human\", \"Retrieved document: \\n\\n {document} \\n\\n User question: {question}\"),\n",
    "    ]\n",
    ")\n",
    "retrieval_grader = grade_prompt | structured_llm_grader\n",
    "retrieval_grader\n"
   ]
  },
  {
   "cell_type": "code",
   "execution_count": 6,
   "metadata": {},
   "outputs": [
    {
     "data": {
      "text/plain": [
       "[Document(metadata={'File Name': 'DNV Rules for Classification of Ships _2016_08_Introduction to Ship Classification', 'File Path': '/content/drive/MyDrive/Rules/DNV/DNV Rules for Classification of Ships _2016_08_Introduction to Ship Classification.pdf', 'First Division': 'Rules', 'Page': 4, 'Second Division': 'DNV'}, page_content=\"This page explains DNV Rules for Classification of Ships _2016_08_Introduction to Ship Classification, that belongs to catogories of Rules and DNV./ndisclosed to any party, apart fro m the national authorities in volved, without the owners consent. The Society also undertakes all reporting to national authorities required in connection with the safety certificates. B 200 Who needs classification? 201  Classification serves as verification system for a number of parties who have special interest in the safety and quality of ships, such as: — National authorities, who accept ships for registry, or let ships into thei r territorial waters, need assurance that they are safe to sail on and represe nt a minimum hazard to their surroundings. — Insurance underwriters require ships to be classed in order to give insurance. — Owners, who need the technical stan dard of the rules as basis for build ing contracts and to document the ships' standard when seeking insurance or financ ing, or when hiring out or selling the ship. — Building yards and sub-contractors use the rules as a to ol for design and construction, as required by their client.\"),\n",
       " Document(metadata={'File Name': 'DNV Rules for Classification of Ships _2016_08_Introduction to Ship Classification', 'File Path': '/content/drive/MyDrive/Rules/DNV/DNV Rules for Classification of Ships _2016_08_Introduction to Ship Classification.pdf', 'First Division': 'Rules', 'Page': 4, 'Second Division': 'DNV'}, page_content=\"This page explains DNV Rules for Classification of Ships _2016_08_Introduction to Ship Classification, that belongs to catogories of Rules and DNV./nand construction, as required by their client. — Finance institutions use classification as a documented indicator of the ships' value. — Charterers or cargo owners require confirma tion of the ships' standard before hire.\"),\n",
       " Document(metadata={'File Name': '00-part-1A-ships-jul24_Conditions of Classification', 'File Path': '/content/drive/MyDrive/Rules/ABS/00-part-1A-ships-jul24_Conditions of Classification.pdf', 'First Division': 'Rules', 'Page': 153, 'Second Division': 'ABS'}, page_content='This page explains 00-part-1A-ships-jul24_Conditions of Classification, that belongs to catogories of Rules and ABS./nC H A P T E R 1 1 Classification Requirements for Naval Ships S E C T I O N 6 Naval Administration Requirements 1 Ship Specifications Ship specifications capture Naval Administration requirements that are contractually passed to designers and builders and may be written in terms of performance level specifications, system level specifications, detail level specifications, or a combination of these. Typically included (if not called out directly in the body of the contract) will be the Naval Administration requirement to the designer or builder to obtain Classification and various certifications required from other Certification Authorities, along with additional technical requirements the Naval Administration may have for specific systems, equipment, or materials. Those developing and approving ship specifications are responsible for avoiding conflict with the requirements in the Rules and Guides. Where uncertainty exists on the potential for conflict, ABS should be consulted to ensure')]"
      ]
     },
     "execution_count": 6,
     "metadata": {},
     "output_type": "execute_result"
    }
   ],
   "source": [
    "%timeit\n",
    "question = \"\"\"\n",
    "Classification serves as verification system for a number of parties who have special interest in the safety\n",
    "and quality of ships, such as:\n",
    "— National authorities, who accept ships for registry, or let ships into their territorial waters, need assurance\n",
    "that they are safe to sail on and represent a minimum hazard to their surroundings.\n",
    "— Insurance underwriters require ships to be classed in order to give insurance.\n",
    "— Owners, who need the technical standard of the rules as basis for building contracts and to document the\n",
    "ships' standard when seeking insurance or financing, or when hiring out or selling the ship.\n",
    "— Building yards and sub-contractors use the rules as a tool for design and construction, as required by their\n",
    "client.\n",
    "— Finance institutions use classification as a documented indicator of the\n",
    "\"\"\"\n",
    "docs = retriever.invoke(question)\n",
    "docs"
   ]
  },
  {
   "cell_type": "code",
   "execution_count": 7,
   "metadata": {},
   "outputs": [
    {
     "data": {
      "text/plain": [
       "'This page explains 00-part-1A-ships-jul24_Conditions of Classification, that belongs to catogories of Rules and ABS./nC H A P T E R 1 1 Classification Requirements for Naval Ships S E C T I O N 6 Naval Administration Requirements 1 Ship Specifications Ship specifications capture Naval Administration requirements that are contractually passed to designers and builders and may be written in terms of performance level specifications, system level specifications, detail level specifications, or a combination of these. Typically included (if not called out directly in the body of the contract) will be the Naval Administration requirement to the designer or builder to obtain Classification and various certifications required from other Certification Authorities, along with additional technical requirements the Naval Administration may have for specific systems, equipment, or materials. Those developing and approving ship specifications are responsible for avoiding conflict with the requirements in the Rules and Guides. Where uncertainty exists on the potential for conflict, ABS should be consulted to ensure'"
      ]
     },
     "execution_count": 7,
     "metadata": {},
     "output_type": "execute_result"
    }
   ],
   "source": [
    "doc_txt = docs[2].page_content\n",
    "doc_txt"
   ]
  },
  {
   "cell_type": "code",
   "execution_count": 8,
   "metadata": {},
   "outputs": [
    {
     "data": {
      "text/plain": [
       "'yes'"
      ]
     },
     "execution_count": 8,
     "metadata": {},
     "output_type": "execute_result"
    }
   ],
   "source": [
    "result = retrieval_grader.invoke({\"question\": question, \"document\": doc_txt})\n",
    "result.binary_score"
   ]
  },
  {
   "cell_type": "code",
   "execution_count": 9,
   "metadata": {},
   "outputs": [
    {
     "data": {
      "text/plain": [
       "[]"
      ]
     },
     "execution_count": 9,
     "metadata": {},
     "output_type": "execute_result"
    }
   ],
   "source": [
    "grade_no_docs = [grade_no_doc for grade_no_doc in docs if retrieval_grader.invoke({\"question\": question, \"document\": doc_txt}).binary_score == 'no']\n",
    "grade_no_docs"
   ]
  },
  {
   "cell_type": "code",
   "execution_count": 10,
   "metadata": {},
   "outputs": [
    {
     "data": {
      "text/plain": [
       "[Document(metadata={'File Name': 'DNV Rules for Classification of Ships _2016_08_Introduction to Ship Classification', 'File Path': '/content/drive/MyDrive/Rules/DNV/DNV Rules for Classification of Ships _2016_08_Introduction to Ship Classification.pdf', 'First Division': 'Rules', 'Page': 4, 'Second Division': 'DNV'}, page_content=\"This page explains DNV Rules for Classification of Ships _2016_08_Introduction to Ship Classification, that belongs to catogories of Rules and DNV./ndisclosed to any party, apart fro m the national authorities in volved, without the owners consent. The Society also undertakes all reporting to national authorities required in connection with the safety certificates. B 200 Who needs classification? 201  Classification serves as verification system for a number of parties who have special interest in the safety and quality of ships, such as: — National authorities, who accept ships for registry, or let ships into thei r territorial waters, need assurance that they are safe to sail on and represe nt a minimum hazard to their surroundings. — Insurance underwriters require ships to be classed in order to give insurance. — Owners, who need the technical stan dard of the rules as basis for build ing contracts and to document the ships' standard when seeking insurance or financ ing, or when hiring out or selling the ship. — Building yards and sub-contractors use the rules as a to ol for design and construction, as required by their client.\"),\n",
       " Document(metadata={'File Name': 'DNV Rules for Classification of Ships _2016_08_Introduction to Ship Classification', 'File Path': '/content/drive/MyDrive/Rules/DNV/DNV Rules for Classification of Ships _2016_08_Introduction to Ship Classification.pdf', 'First Division': 'Rules', 'Page': 4, 'Second Division': 'DNV'}, page_content=\"This page explains DNV Rules for Classification of Ships _2016_08_Introduction to Ship Classification, that belongs to catogories of Rules and DNV./nand construction, as required by their client. — Finance institutions use classification as a documented indicator of the ships' value. — Charterers or cargo owners require confirma tion of the ships' standard before hire.\"),\n",
       " Document(metadata={'File Name': '00-part-1A-ships-jul24_Conditions of Classification', 'File Path': '/content/drive/MyDrive/Rules/ABS/00-part-1A-ships-jul24_Conditions of Classification.pdf', 'First Division': 'Rules', 'Page': 153, 'Second Division': 'ABS'}, page_content='This page explains 00-part-1A-ships-jul24_Conditions of Classification, that belongs to catogories of Rules and ABS./nC H A P T E R 1 1 Classification Requirements for Naval Ships S E C T I O N 6 Naval Administration Requirements 1 Ship Specifications Ship specifications capture Naval Administration requirements that are contractually passed to designers and builders and may be written in terms of performance level specifications, system level specifications, detail level specifications, or a combination of these. Typically included (if not called out directly in the body of the contract) will be the Naval Administration requirement to the designer or builder to obtain Classification and various certifications required from other Certification Authorities, along with additional technical requirements the Naval Administration may have for specific systems, equipment, or materials. Those developing and approving ship specifications are responsible for avoiding conflict with the requirements in the Rules and Guides. Where uncertainty exists on the potential for conflict, ABS should be consulted to ensure')]"
      ]
     },
     "execution_count": 10,
     "metadata": {},
     "output_type": "execute_result"
    }
   ],
   "source": [
    "grade_yes_docs = [grade_yes_doc for grade_yes_doc in docs if retrieval_grader.invoke({\"question\": question, \"document\": doc_txt}).binary_score == 'yes']\n",
    "grade_yes_docs"
   ]
  },
  {
   "cell_type": "code",
   "execution_count": null,
   "metadata": {},
   "outputs": [],
   "source": []
  },
  {
   "cell_type": "code",
   "execution_count": null,
   "metadata": {},
   "outputs": [],
   "source": []
  }
 ],
 "metadata": {
  "kernelspec": {
   "display_name": ".venv",
   "language": "python",
   "name": "python3"
  },
  "language_info": {
   "codemirror_mode": {
    "name": "ipython",
    "version": 3
   },
   "file_extension": ".py",
   "mimetype": "text/x-python",
   "name": "python",
   "nbconvert_exporter": "python",
   "pygments_lexer": "ipython3",
   "version": "3.12.7"
  }
 },
 "nbformat": 4,
 "nbformat_minor": 2
}
