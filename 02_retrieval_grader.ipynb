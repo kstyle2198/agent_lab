{
 "cells": [
  {
   "cell_type": "code",
   "execution_count": 1,
   "metadata": {},
   "outputs": [],
   "source": [
    "from typing import Literal\n",
    "from langchain_core.prompts import ChatPromptTemplate\n",
    "from langchain_groq import ChatGroq\n",
    "from langchain_ollama.chat_models import ChatOllama\n",
    "from pydantic import BaseModel, Field\n",
    "from langchain_chroma import Chroma\n",
    "from langchain_ollama import OllamaEmbeddings"
   ]
  },
  {
   "cell_type": "code",
   "execution_count": 2,
   "metadata": {},
   "outputs": [
    {
     "name": "stdout",
     "output_type": "stream",
     "text": [
      "model='bge-m3:latest' base_url='http://localhost:11434' client_kwargs={}\n"
     ]
    },
    {
     "data": {
      "text/plain": [
       "VectorStoreRetriever(tags=['Chroma', 'OllamaEmbeddings'], vectorstore=<langchain_chroma.vectorstores.Chroma object at 0x00000259EA5ABCE0>, search_type='mmr', search_kwargs={'k': 3, 'fetch_k': 5})"
      ]
     },
     "execution_count": 2,
     "metadata": {},
     "output_type": "execute_result"
    }
   ],
   "source": [
    "embed_model = OllamaEmbeddings(base_url=\"http://localhost:11434\", model=\"bge-m3:latest\")\n",
    "print(embed_model)\n",
    "vectorstore = Chroma(collection_name=\"collection_01\", persist_directory=\"./db/chroma_db_02\", embedding_function=embed_model)\n",
    "# retriever = vectorstore.as_retriever()\n",
    "retriever = vectorstore.as_retriever(search_type=\"mmr\", search_kwargs={'k': 3, \"fetch_k\":5})\n",
    "retriever"
   ]
  },
  {
   "cell_type": "code",
   "execution_count": 3,
   "metadata": {},
   "outputs": [],
   "source": [
    "# Data model\n",
    "class GradeDocuments(BaseModel):\n",
    "    \"\"\"Binary score for relevance check on retrieved documents.\"\"\"\n",
    "\n",
    "    binary_score: str = Field(\n",
    "        description=\"Documents are relevant to the question, 'yes' or 'no'\"\n",
    "    )"
   ]
  },
  {
   "cell_type": "code",
   "execution_count": 4,
   "metadata": {},
   "outputs": [
    {
     "data": {
      "text/plain": [
       "RunnableBinding(bound=ChatOllama(model='llama3.2:latest', temperature=0.0, base_url='http://localhost:11434'), kwargs={'tools': [{'type': 'function', 'function': {'name': 'GradeDocuments', 'description': 'Binary score for relevance check on retrieved documents.', 'parameters': {'properties': {'binary_score': {'description': \"Documents are relevant to the question, 'yes' or 'no'\", 'type': 'string'}}, 'required': ['binary_score'], 'type': 'object'}}}], 'tool_choice': 'any'}, config={}, config_factories=[])\n",
       "| PydanticToolsParser(first_tool_only=True, tools=[<class '__main__.GradeDocuments'>])"
      ]
     },
     "execution_count": 4,
     "metadata": {},
     "output_type": "execute_result"
    }
   ],
   "source": [
    "# llm = ChatGroq(temperature=0, model_name= \"llama-3.2-11b-text-preview\")\n",
    "llm = ChatOllama(base_url=\"http://localhost:11434\", model=\"llama3.2:latest\", temperature=0)\n",
    "structured_llm_grader = llm.with_structured_output(GradeDocuments)\n",
    "structured_llm_grader"
   ]
  },
  {
   "cell_type": "code",
   "execution_count": 5,
   "metadata": {},
   "outputs": [
    {
     "data": {
      "text/plain": [
       "ChatPromptTemplate(input_variables=['document', 'question'], input_types={}, partial_variables={}, messages=[SystemMessagePromptTemplate(prompt=PromptTemplate(input_variables=[], input_types={}, partial_variables={}, template=\"You are a grader assessing relevance of a retrieved document to a user question. \\n \\n    If the document contains keyword(s) or semantic meaning related to the user question, grade it as relevant. \\n\\n    It does not need to be a stringent test. The goal is to filter out erroneous retrievals. \\n\\n    Give a binary score 'yes' or 'no' score to indicate whether the document is relevant to the question.\"), additional_kwargs={}), HumanMessagePromptTemplate(prompt=PromptTemplate(input_variables=['document', 'question'], input_types={}, partial_variables={}, template='Retrieved document: \\n\\n {document} \\n\\n User question: {question}'), additional_kwargs={})])\n",
       "| RunnableBinding(bound=ChatOllama(model='llama3.2:latest', temperature=0.0, base_url='http://localhost:11434'), kwargs={'tools': [{'type': 'function', 'function': {'name': 'GradeDocuments', 'description': 'Binary score for relevance check on retrieved documents.', 'parameters': {'properties': {'binary_score': {'description': \"Documents are relevant to the question, 'yes' or 'no'\", 'type': 'string'}}, 'required': ['binary_score'], 'type': 'object'}}}], 'tool_choice': 'any'}, config={}, config_factories=[])\n",
       "| PydanticToolsParser(first_tool_only=True, tools=[<class '__main__.GradeDocuments'>])"
      ]
     },
     "execution_count": 5,
     "metadata": {},
     "output_type": "execute_result"
    }
   ],
   "source": [
    "# Prompt\n",
    "system = \"\"\"You are a grader assessing relevance of a retrieved document to a user question. \\n \n",
    "    If the document contains keyword(s) or semantic meaning related to the user question, grade it as relevant. \\n\n",
    "    It does not need to be a stringent test. The goal is to filter out erroneous retrievals. \\n\n",
    "    Give a binary score 'yes' or 'no' score to indicate whether the document is relevant to the question.\"\"\"\n",
    "grade_prompt = ChatPromptTemplate.from_messages(\n",
    "    [\n",
    "        (\"system\", system),\n",
    "        (\"human\", \"Retrieved document: \\n\\n {document} \\n\\n User question: {question}\"),\n",
    "    ]\n",
    ")\n",
    "retrieval_grader = grade_prompt | structured_llm_grader\n",
    "retrieval_grader\n"
   ]
  },
  {
   "cell_type": "code",
   "execution_count": 6,
   "metadata": {},
   "outputs": [
    {
     "data": {
      "text/plain": [
       "[Document(metadata={'File Name': \"Lloyd's Register Rules and Regulations for the Classification of Ships, July 2022\", 'File Path': \"/content/drive/MyDrive/Rules/LR/Lloyd's Register Rules and Regulations for the Classification of Ships, July 2022.pdf\", 'First Division': 'Rules', 'Page': 1650, 'Second Division': 'LR'}, page_content=\"This page explains Lloyd's Register Rules and Regulations for the Classification of Ships, July 2022, that belongs to catogories of Rules and LR./nwith the process plant are to be submitted, including: • Arrangements for preventing the ingress of water into the ship or structure where process plant and equipment protrude through the weather deck. • Proposed emergency flooding procedures and their control. 3.2.6 Particulars of the proposed storage arrangements of hazardous and/or toxic substances, feedstocks and products in bulk, on the ship or structure, are to be submitted. 3.3 Process plant 3.3.1 A description of the expected method of operation of the process plant and a diagram showing the process flow are to be submitted. 3.3.2 General arrangement plans of the process plant showing the hazardous and safe zones and spaces are to be submitted, indicating the following:Rules and Regulations for the Classification of Ships, July 2022 Ships with Installed Process Plant for Chemicals, Liquified Gases and Related ProductsPart 7, Chapter 2 Section 3 Lloyd 's Register 1649\"),\n",
       " Document(metadata={'File Name': \"Lloyd's Register Rules and Regulations for the Classification of Ships, July 2022\", 'File Path': \"/content/drive/MyDrive/Rules/LR/Lloyd's Register Rules and Regulations for the Classification of Ships, July 2022.pdf\", 'First Division': 'Rules', 'Page': 1649, 'Second Division': 'LR'}, page_content=\"This page explains Lloyd's Register Rules and Regulations for the Classification of Ships, July 2022, that belongs to catogories of Rules and LR./n2.2.1 A special chemical cargoes notation may be assigned to ships where raw materials or products are stored or retained on board in bulk. 2.2.2 The Committee may append details of process, product storage, safety or other particulars to the notation as it considers necessary. 2.2.3 Ships of Category 1B or 2 which have process plants installed solely for the purposes of the physical liquefaction of impure feedstock gases at low temperatures and the storage of the purified liquefied gases (where the chemical treatment of the impurities is an incidental process) will be assigned additional notations to those stated in Pt 7, Ch 2, 2.1 Ship notations 2.1.2 or Pt 7, Ch 2, 2.1 Ship notations 2.1.3 such as `for liquefaction and storage of methane, etc. in independent tanks Type B, etc. − maximum pressure − minimum temperature'. 2.3 Special mooring and linking arrangements 2.3.1 Where the process plant is operable only when the ship is specially moored, anchored or otherwise linked to the\"),\n",
       " Document(metadata={'File Name': \"Lloyd's Register Rules and Regulations for the Classification of Ships, July 2022\", 'File Path': \"/content/drive/MyDrive/Rules/LR/Lloyd's Register Rules and Regulations for the Classification of Ships, July 2022.pdf\", 'First Division': 'Rules', 'Page': 1649, 'Second Division': 'LR'}, page_content=\"This page explains Lloyd's Register Rules and Regulations for the Classification of Ships, July 2022, that belongs to catogories of Rules and LR./nor otherwise linked to the shore, sea bed or other stationary vessel or structure, will be eligible to be classed `100A1 (T) moored (oil, ammonia, etc.) processing (tanker, barge, etc.) for service at . . .', see also Pt 7, Ch 2, 1.4 Certification of process plant 1.4.5 . 2.1.3 Ships of Category 2, which have chemical plants installed and designed for operation while the ship is in harbour, will be eligible to be classed `100A(T) chemical process plant installed − for operation only when moored in harbour', see also Pt 7, Ch 2, 1.4 Certification of process plant 1.4.5 . 2.1.4 Specialised ships of Category 3 which have chemical plants designed to operate only while the ship is fully supported on the sea bed, will be eligible to be classed `A chemical process plant pontoon/platform − to be operated only when grounded on prepared foundations at...', see also Pt 7, Ch 2, 1.4 Certification of process plant 1.4.5 . 2.2 Additional notations 2.2.1 A special chemical cargoes notation may be\")]"
      ]
     },
     "execution_count": 6,
     "metadata": {},
     "output_type": "execute_result"
    }
   ],
   "source": [
    "%timeit\n",
    "question = \"\"\"\n",
    "according to lr rule, explain about ships with installed process plant for chemicals\n",
    "\"\"\"\n",
    "docs = retriever.invoke(question)\n",
    "docs"
   ]
  },
  {
   "cell_type": "code",
   "execution_count": 7,
   "metadata": {},
   "outputs": [
    {
     "data": {
      "text/plain": [
       "\"This page explains Lloyd's Register Rules and Regulations for the Classification of Ships, July 2022, that belongs to catogories of Rules and LR./nor otherwise linked to the shore, sea bed or other stationary vessel or structure, will be eligible to be classed `100A1 (T) moored (oil, ammonia, etc.) processing (tanker, barge, etc.) for service at . . .', see also Pt 7, Ch 2, 1.4 Certification of process plant 1.4.5 . 2.1.3 Ships of Category 2, which have chemical plants installed and designed for operation while the ship is in harbour, will be eligible to be classed `100A(T) chemical process plant installed − for operation only when moored in harbour', see also Pt 7, Ch 2, 1.4 Certification of process plant 1.4.5 . 2.1.4 Specialised ships of Category 3 which have chemical plants designed to operate only while the ship is fully supported on the sea bed, will be eligible to be classed `A chemical process plant pontoon/platform − to be operated only when grounded on prepared foundations at...', see also Pt 7, Ch 2, 1.4 Certification of process plant 1.4.5 . 2.2 Additional notations 2.2.1 A special chemical cargoes notation may be\""
      ]
     },
     "execution_count": 7,
     "metadata": {},
     "output_type": "execute_result"
    }
   ],
   "source": [
    "doc_txt = docs[2].page_content\n",
    "doc_txt"
   ]
  },
  {
   "cell_type": "code",
   "execution_count": 8,
   "metadata": {},
   "outputs": [
    {
     "data": {
      "text/plain": [
       "'yes'"
      ]
     },
     "execution_count": 8,
     "metadata": {},
     "output_type": "execute_result"
    }
   ],
   "source": [
    "result = retrieval_grader.invoke({\"question\": question, \"document\": doc_txt})\n",
    "result.binary_score"
   ]
  },
  {
   "cell_type": "code",
   "execution_count": 9,
   "metadata": {},
   "outputs": [
    {
     "data": {
      "text/plain": [
       "[]"
      ]
     },
     "execution_count": 9,
     "metadata": {},
     "output_type": "execute_result"
    }
   ],
   "source": [
    "grade_no_docs = [grade_no_doc for grade_no_doc in docs if retrieval_grader.invoke({\"question\": question, \"document\": doc_txt}).binary_score == 'no']\n",
    "grade_no_docs"
   ]
  },
  {
   "cell_type": "code",
   "execution_count": 10,
   "metadata": {},
   "outputs": [
    {
     "data": {
      "text/plain": [
       "[Document(metadata={'File Name': \"Lloyd's Register Rules and Regulations for the Classification of Ships, July 2022\", 'File Path': \"/content/drive/MyDrive/Rules/LR/Lloyd's Register Rules and Regulations for the Classification of Ships, July 2022.pdf\", 'First Division': 'Rules', 'Page': 1650, 'Second Division': 'LR'}, page_content=\"This page explains Lloyd's Register Rules and Regulations for the Classification of Ships, July 2022, that belongs to catogories of Rules and LR./nwith the process plant are to be submitted, including: • Arrangements for preventing the ingress of water into the ship or structure where process plant and equipment protrude through the weather deck. • Proposed emergency flooding procedures and their control. 3.2.6 Particulars of the proposed storage arrangements of hazardous and/or toxic substances, feedstocks and products in bulk, on the ship or structure, are to be submitted. 3.3 Process plant 3.3.1 A description of the expected method of operation of the process plant and a diagram showing the process flow are to be submitted. 3.3.2 General arrangement plans of the process plant showing the hazardous and safe zones and spaces are to be submitted, indicating the following:Rules and Regulations for the Classification of Ships, July 2022 Ships with Installed Process Plant for Chemicals, Liquified Gases and Related ProductsPart 7, Chapter 2 Section 3 Lloyd 's Register 1649\"),\n",
       " Document(metadata={'File Name': \"Lloyd's Register Rules and Regulations for the Classification of Ships, July 2022\", 'File Path': \"/content/drive/MyDrive/Rules/LR/Lloyd's Register Rules and Regulations for the Classification of Ships, July 2022.pdf\", 'First Division': 'Rules', 'Page': 1649, 'Second Division': 'LR'}, page_content=\"This page explains Lloyd's Register Rules and Regulations for the Classification of Ships, July 2022, that belongs to catogories of Rules and LR./n2.2.1 A special chemical cargoes notation may be assigned to ships where raw materials or products are stored or retained on board in bulk. 2.2.2 The Committee may append details of process, product storage, safety or other particulars to the notation as it considers necessary. 2.2.3 Ships of Category 1B or 2 which have process plants installed solely for the purposes of the physical liquefaction of impure feedstock gases at low temperatures and the storage of the purified liquefied gases (where the chemical treatment of the impurities is an incidental process) will be assigned additional notations to those stated in Pt 7, Ch 2, 2.1 Ship notations 2.1.2 or Pt 7, Ch 2, 2.1 Ship notations 2.1.3 such as `for liquefaction and storage of methane, etc. in independent tanks Type B, etc. − maximum pressure − minimum temperature'. 2.3 Special mooring and linking arrangements 2.3.1 Where the process plant is operable only when the ship is specially moored, anchored or otherwise linked to the\"),\n",
       " Document(metadata={'File Name': \"Lloyd's Register Rules and Regulations for the Classification of Ships, July 2022\", 'File Path': \"/content/drive/MyDrive/Rules/LR/Lloyd's Register Rules and Regulations for the Classification of Ships, July 2022.pdf\", 'First Division': 'Rules', 'Page': 1649, 'Second Division': 'LR'}, page_content=\"This page explains Lloyd's Register Rules and Regulations for the Classification of Ships, July 2022, that belongs to catogories of Rules and LR./nor otherwise linked to the shore, sea bed or other stationary vessel or structure, will be eligible to be classed `100A1 (T) moored (oil, ammonia, etc.) processing (tanker, barge, etc.) for service at . . .', see also Pt 7, Ch 2, 1.4 Certification of process plant 1.4.5 . 2.1.3 Ships of Category 2, which have chemical plants installed and designed for operation while the ship is in harbour, will be eligible to be classed `100A(T) chemical process plant installed − for operation only when moored in harbour', see also Pt 7, Ch 2, 1.4 Certification of process plant 1.4.5 . 2.1.4 Specialised ships of Category 3 which have chemical plants designed to operate only while the ship is fully supported on the sea bed, will be eligible to be classed `A chemical process plant pontoon/platform − to be operated only when grounded on prepared foundations at...', see also Pt 7, Ch 2, 1.4 Certification of process plant 1.4.5 . 2.2 Additional notations 2.2.1 A special chemical cargoes notation may be\")]"
      ]
     },
     "execution_count": 10,
     "metadata": {},
     "output_type": "execute_result"
    }
   ],
   "source": [
    "grade_yes_docs = [grade_yes_doc for grade_yes_doc in docs if retrieval_grader.invoke({\"question\": question, \"document\": doc_txt}).binary_score == 'yes']\n",
    "grade_yes_docs"
   ]
  },
  {
   "cell_type": "code",
   "execution_count": null,
   "metadata": {},
   "outputs": [],
   "source": []
  },
  {
   "cell_type": "code",
   "execution_count": null,
   "metadata": {},
   "outputs": [],
   "source": []
  }
 ],
 "metadata": {
  "kernelspec": {
   "display_name": ".venv",
   "language": "python",
   "name": "python3"
  },
  "language_info": {
   "codemirror_mode": {
    "name": "ipython",
    "version": 3
   },
   "file_extension": ".py",
   "mimetype": "text/x-python",
   "name": "python",
   "nbconvert_exporter": "python",
   "pygments_lexer": "ipython3",
   "version": "3.12.7"
  }
 },
 "nbformat": 4,
 "nbformat_minor": 2
}
