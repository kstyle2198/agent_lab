{
 "cells": [
  {
   "cell_type": "code",
   "execution_count": 1,
   "metadata": {},
   "outputs": [],
   "source": [
    "from typing import Literal\n",
    "from langchain_core.prompts import ChatPromptTemplate\n",
    "from langchain_groq import ChatGroq\n",
    "from pydantic import BaseModel, Field\n",
    "from langchain_chroma import Chroma\n",
    "from langchain_ollama import OllamaEmbeddings"
   ]
  },
  {
   "cell_type": "code",
   "execution_count": 12,
   "metadata": {},
   "outputs": [],
   "source": [
    "# Data model\n",
    "class GradeState(BaseModel):\n",
    "    \"\"\"Binary score for relevance check on retrieved documents.\"\"\"\n",
    "    \n",
    "    binary_score: str = Field(\n",
    "        description=\"Documents are relevant to the question, 'yes' or 'no'\"\n",
    "    )"
   ]
  },
  {
   "cell_type": "code",
   "execution_count": 13,
   "metadata": {},
   "outputs": [
    {
     "data": {
      "text/plain": [
       "VectorStoreRetriever(tags=['Chroma', 'OllamaEmbeddings'], vectorstore=<langchain_chroma.vectorstores.Chroma object at 0x000001DC02A78410>, search_type='mmr', search_kwargs={'k': 3, 'fetch_k': 10})"
      ]
     },
     "execution_count": 13,
     "metadata": {},
     "output_type": "execute_result"
    }
   ],
   "source": [
    "def retrieval_agent(fetch_k:int, k:int):\n",
    "    embed_model = OllamaEmbeddings(base_url=\"http://localhost:11434\", model=\"bge-m3:latest\")\n",
    "    vectorstore = Chroma(collection_name=\"collection_01\", persist_directory=\"./db/chroma_db_02\", embedding_function=embed_model)\n",
    "    retriever = vectorstore.as_retriever(search_type=\"mmr\", search_kwargs={'k': k, \"fetch_k\":fetch_k})\n",
    "    return retriever\n",
    "\n",
    "retriever = retrieval_agent(fetch_k=10, k=3)\n",
    "retriever\n"
   ]
  },
  {
   "cell_type": "code",
   "execution_count": 14,
   "metadata": {},
   "outputs": [
    {
     "data": {
      "text/plain": [
       "[Document(metadata={'File Name': \"Lloyd's Register Rules and Regulations for the Classification of Ships, July 2022\", 'File Path': \"/content/drive/MyDrive/Rules/LR/Lloyd's Register Rules and Regulations for the Classification of Ships, July 2022.pdf\", 'First Division': 'Rules', 'Page': 1650, 'Second Division': 'LR'}, page_content=\"This page explains Lloyd's Register Rules and Regulations for the Classification of Ships, July 2022, that belongs to catogories of Rules and LR./nwith the process plant are to be submitted, including: • Arrangements for preventing the ingress of water into the ship or structure where process plant and equipment protrude through the weather deck. • Proposed emergency flooding procedures and their control. 3.2.6 Particulars of the proposed storage arrangements of hazardous and/or toxic substances, feedstocks and products in bulk, on the ship or structure, are to be submitted. 3.3 Process plant 3.3.1 A description of the expected method of operation of the process plant and a diagram showing the process flow are to be submitted. 3.3.2 General arrangement plans of the process plant showing the hazardous and safe zones and spaces are to be submitted, indicating the following:Rules and Regulations for the Classification of Ships, July 2022 Ships with Installed Process Plant for Chemicals, Liquified Gases and Related ProductsPart 7, Chapter 2 Section 3 Lloyd 's Register 1649\"),\n",
       " Document(metadata={'File Name': \"Lloyd's Register Rules and Regulations for the Classification of Ships, July 2022\", 'File Path': \"/content/drive/MyDrive/Rules/LR/Lloyd's Register Rules and Regulations for the Classification of Ships, July 2022.pdf\", 'First Division': 'Rules', 'Page': 1649, 'Second Division': 'LR'}, page_content=\"This page explains Lloyd's Register Rules and Regulations for the Classification of Ships, July 2022, that belongs to catogories of Rules and LR./n2.2.1 A special chemical cargoes notation may be assigned to ships where raw materials or products are stored or retained on board in bulk. 2.2.2 The Committee may append details of process, product storage, safety or other particulars to the notation as it considers necessary. 2.2.3 Ships of Category 1B or 2 which have process plants installed solely for the purposes of the physical liquefaction of impure feedstock gases at low temperatures and the storage of the purified liquefied gases (where the chemical treatment of the impurities is an incidental process) will be assigned additional notations to those stated in Pt 7, Ch 2, 2.1 Ship notations 2.1.2 or Pt 7, Ch 2, 2.1 Ship notations 2.1.3 such as `for liquefaction and storage of methane, etc. in independent tanks Type B, etc. − maximum pressure − minimum temperature'. 2.3 Special mooring and linking arrangements 2.3.1 Where the process plant is operable only when the ship is specially moored, anchored or otherwise linked to the\"),\n",
       " Document(metadata={'File Name': \"Lloyd's Register Rules and Regulations for the Classification of Ships, July 2022\", 'File Path': \"/content/drive/MyDrive/Rules/LR/Lloyd's Register Rules and Regulations for the Classification of Ships, July 2022.pdf\", 'First Division': 'Rules', 'Page': 1649, 'Second Division': 'LR'}, page_content=\"This page explains Lloyd's Register Rules and Regulations for the Classification of Ships, July 2022, that belongs to catogories of Rules and LR./nor otherwise linked to the shore, sea bed or other stationary vessel or structure, will be eligible to be classed `100A1 (T) moored (oil, ammonia, etc.) processing (tanker, barge, etc.) for service at . . .', see also Pt 7, Ch 2, 1.4 Certification of process plant 1.4.5 . 2.1.3 Ships of Category 2, which have chemical plants installed and designed for operation while the ship is in harbour, will be eligible to be classed `100A(T) chemical process plant installed − for operation only when moored in harbour', see also Pt 7, Ch 2, 1.4 Certification of process plant 1.4.5 . 2.1.4 Specialised ships of Category 3 which have chemical plants designed to operate only while the ship is fully supported on the sea bed, will be eligible to be classed `A chemical process plant pontoon/platform − to be operated only when grounded on prepared foundations at...', see also Pt 7, Ch 2, 1.4 Certification of process plant 1.4.5 . 2.2 Additional notations 2.2.1 A special chemical cargoes notation may be\")]"
      ]
     },
     "execution_count": 14,
     "metadata": {},
     "output_type": "execute_result"
    }
   ],
   "source": [
    "question = \"\"\"\n",
    "according to lr rule, explain about ships with installed process plant for chemicals\n",
    "\"\"\"\n",
    "docs = retriever.invoke(question)\n",
    "docs"
   ]
  },
  {
   "cell_type": "code",
   "execution_count": 15,
   "metadata": {},
   "outputs": [
    {
     "data": {
      "text/plain": [
       "ChatPromptTemplate(input_variables=['document', 'question'], input_types={}, partial_variables={}, messages=[SystemMessagePromptTemplate(prompt=PromptTemplate(input_variables=[], input_types={}, partial_variables={}, template=\"You are a grader assessing relevance of a retrieved document to a user question. \\n \\n        If the document contains keyword(s) or semantic meaning related to the user question, grade it as relevant. \\n\\n        It does not need to be a stringent test. The goal is to filter out erroneous retrievals. \\n\\n        Give a binary score 'yes' or 'no' score to indicate whether the document is relevant to the question.\"), additional_kwargs={}), HumanMessagePromptTemplate(prompt=PromptTemplate(input_variables=['document', 'question'], input_types={}, partial_variables={}, template='Retrieved document: \\n\\n {document} \\n\\n User question: {question}'), additional_kwargs={})])\n",
       "| RunnableBinding(bound=ChatGroq(client=<groq.resources.chat.completions.Completions object at 0x000001DC03C54890>, async_client=<groq.resources.chat.completions.AsyncCompletions object at 0x000001DC28BDFE60>, model_name='llama-3.3-70b-versatile', temperature=1e-08, model_kwargs={}, groq_api_key=SecretStr('**********')), kwargs={'tools': [{'type': 'function', 'function': {'name': 'GradeState', 'description': 'Binary score for relevance check on retrieved documents.', 'parameters': {'properties': {'binary_score': {'description': \"Documents are relevant to the question, 'yes' or 'no'\", 'type': 'string'}}, 'required': ['binary_score'], 'type': 'object'}}}], 'tool_choice': {'type': 'function', 'function': {'name': 'GradeState'}}}, config={}, config_factories=[])\n",
       "| PydanticToolsParser(first_tool_only=True, tools=[<class '__main__.GradeState'>])"
      ]
     },
     "execution_count": 15,
     "metadata": {},
     "output_type": "execute_result"
    }
   ],
   "source": [
    "def retrieval_grader_agent(state):\n",
    "   \n",
    "    llm = ChatGroq(temperature=0, model_name= \"deepseek-r1-distill-llama-70b\")  # deepseek-r1-distill-llama-70b   llama-3.3-70b-versatile\n",
    "    structured_llm_grader = llm.with_structured_output(state)\n",
    "    # Prompt\n",
    "    system = \"\"\"You are a grader assessing relevance of a retrieved document to a user question. \\n \n",
    "        If the document contains keyword(s) or semantic meaning related to the user question, grade it as relevant. \\n\n",
    "        It does not need to be a stringent test. The goal is to filter out erroneous retrievals. \\n\n",
    "        Give a binary score 'yes' or 'no' score to indicate whether the document is relevant to the question.\"\"\"\n",
    "    grade_prompt = ChatPromptTemplate.from_messages(\n",
    "        [\n",
    "            (\"system\", system),\n",
    "            (\"human\", \"Retrieved document: \\n\\n {document} \\n\\n User question: {question}\"),\n",
    "        ]\n",
    "    )\n",
    "    retrieval_grader = grade_prompt | structured_llm_grader\n",
    "    return retrieval_grader\n",
    "\n",
    "retrieval_grader = retrieval_grader_agent(state=GradeState)\n",
    "retrieval_grader"
   ]
  },
  {
   "cell_type": "code",
   "execution_count": 16,
   "metadata": {},
   "outputs": [
    {
     "name": "stdout",
     "output_type": "stream",
     "text": [
      "yes\n",
      "yes\n",
      "yes\n"
     ]
    }
   ],
   "source": [
    "for doc in docs:\n",
    "    result = retrieval_grader.invoke({\"question\": question, \"document\": doc.page_content})\n",
    "    print(result.binary_score)"
   ]
  },
  {
   "cell_type": "code",
   "execution_count": 17,
   "metadata": {},
   "outputs": [
    {
     "data": {
      "text/plain": [
       "[Document(metadata={'File Name': \"Lloyd's Register Rules and Regulations for the Classification of Ships, July 2022\", 'File Path': \"/content/drive/MyDrive/Rules/LR/Lloyd's Register Rules and Regulations for the Classification of Ships, July 2022.pdf\", 'First Division': 'Rules', 'Page': 1650, 'Second Division': 'LR'}, page_content=\"This page explains Lloyd's Register Rules and Regulations for the Classification of Ships, July 2022, that belongs to catogories of Rules and LR./nwith the process plant are to be submitted, including: • Arrangements for preventing the ingress of water into the ship or structure where process plant and equipment protrude through the weather deck. • Proposed emergency flooding procedures and their control. 3.2.6 Particulars of the proposed storage arrangements of hazardous and/or toxic substances, feedstocks and products in bulk, on the ship or structure, are to be submitted. 3.3 Process plant 3.3.1 A description of the expected method of operation of the process plant and a diagram showing the process flow are to be submitted. 3.3.2 General arrangement plans of the process plant showing the hazardous and safe zones and spaces are to be submitted, indicating the following:Rules and Regulations for the Classification of Ships, July 2022 Ships with Installed Process Plant for Chemicals, Liquified Gases and Related ProductsPart 7, Chapter 2 Section 3 Lloyd 's Register 1649\"),\n",
       " Document(metadata={'File Name': \"Lloyd's Register Rules and Regulations for the Classification of Ships, July 2022\", 'File Path': \"/content/drive/MyDrive/Rules/LR/Lloyd's Register Rules and Regulations for the Classification of Ships, July 2022.pdf\", 'First Division': 'Rules', 'Page': 1649, 'Second Division': 'LR'}, page_content=\"This page explains Lloyd's Register Rules and Regulations for the Classification of Ships, July 2022, that belongs to catogories of Rules and LR./n2.2.1 A special chemical cargoes notation may be assigned to ships where raw materials or products are stored or retained on board in bulk. 2.2.2 The Committee may append details of process, product storage, safety or other particulars to the notation as it considers necessary. 2.2.3 Ships of Category 1B or 2 which have process plants installed solely for the purposes of the physical liquefaction of impure feedstock gases at low temperatures and the storage of the purified liquefied gases (where the chemical treatment of the impurities is an incidental process) will be assigned additional notations to those stated in Pt 7, Ch 2, 2.1 Ship notations 2.1.2 or Pt 7, Ch 2, 2.1 Ship notations 2.1.3 such as `for liquefaction and storage of methane, etc. in independent tanks Type B, etc. − maximum pressure − minimum temperature'. 2.3 Special mooring and linking arrangements 2.3.1 Where the process plant is operable only when the ship is specially moored, anchored or otherwise linked to the\"),\n",
       " Document(metadata={'File Name': \"Lloyd's Register Rules and Regulations for the Classification of Ships, July 2022\", 'File Path': \"/content/drive/MyDrive/Rules/LR/Lloyd's Register Rules and Regulations for the Classification of Ships, July 2022.pdf\", 'First Division': 'Rules', 'Page': 1649, 'Second Division': 'LR'}, page_content=\"This page explains Lloyd's Register Rules and Regulations for the Classification of Ships, July 2022, that belongs to catogories of Rules and LR./nor otherwise linked to the shore, sea bed or other stationary vessel or structure, will be eligible to be classed `100A1 (T) moored (oil, ammonia, etc.) processing (tanker, barge, etc.) for service at . . .', see also Pt 7, Ch 2, 1.4 Certification of process plant 1.4.5 . 2.1.3 Ships of Category 2, which have chemical plants installed and designed for operation while the ship is in harbour, will be eligible to be classed `100A(T) chemical process plant installed − for operation only when moored in harbour', see also Pt 7, Ch 2, 1.4 Certification of process plant 1.4.5 . 2.1.4 Specialised ships of Category 3 which have chemical plants designed to operate only while the ship is fully supported on the sea bed, will be eligible to be classed `A chemical process plant pontoon/platform − to be operated only when grounded on prepared foundations at...', see also Pt 7, Ch 2, 1.4 Certification of process plant 1.4.5 . 2.2 Additional notations 2.2.1 A special chemical cargoes notation may be\")]"
      ]
     },
     "execution_count": 17,
     "metadata": {},
     "output_type": "execute_result"
    }
   ],
   "source": [
    "yes_result = [doc for doc in docs if retrieval_grader.invoke({\"question\": question, \"document\": doc.page_content}).binary_score == 'yes']\n",
    "yes_result\n"
   ]
  },
  {
   "cell_type": "code",
   "execution_count": 18,
   "metadata": {},
   "outputs": [
    {
     "data": {
      "text/plain": [
       "[]"
      ]
     },
     "execution_count": 18,
     "metadata": {},
     "output_type": "execute_result"
    }
   ],
   "source": [
    "no_result = [doc for doc in docs if retrieval_grader.invoke({\"question\": question, \"document\": doc.page_content}).binary_score == 'no']\n",
    "no_result"
   ]
  },
  {
   "cell_type": "code",
   "execution_count": null,
   "metadata": {},
   "outputs": [],
   "source": []
  }
 ],
 "metadata": {
  "kernelspec": {
   "display_name": ".venv",
   "language": "python",
   "name": "python3"
  },
  "language_info": {
   "codemirror_mode": {
    "name": "ipython",
    "version": 3
   },
   "file_extension": ".py",
   "mimetype": "text/x-python",
   "name": "python",
   "nbconvert_exporter": "python",
   "pygments_lexer": "ipython3",
   "version": "3.12.6"
  }
 },
 "nbformat": 4,
 "nbformat_minor": 2
}
