{
 "cells": [
  {
   "cell_type": "code",
   "execution_count": 20,
   "metadata": {},
   "outputs": [],
   "source": [
    "from langchain import hub\n",
    "from langchain_core.output_parsers import StrOutputParser\n",
    "from langchain_core.prompts import ChatPromptTemplate\n",
    "from typing import Literal\n",
    "from langchain_core.prompts import ChatPromptTemplate\n",
    "from langchain_groq import ChatGroq\n",
    "from langchain_ollama.chat_models import ChatOllama\n",
    "from pydantic import BaseModel, Field"
   ]
  },
  {
   "cell_type": "code",
   "execution_count": 21,
   "metadata": {},
   "outputs": [],
   "source": [
    "from typing import Literal\n",
    "from langchain_core.prompts import ChatPromptTemplate\n",
    "from langchain_groq import ChatGroq\n",
    "from langchain_ollama.chat_models import ChatOllama\n",
    "from pydantic import BaseModel, Field\n",
    "from langchain_chroma import Chroma\n",
    "from langchain_ollama import OllamaEmbeddings"
   ]
  },
  {
   "cell_type": "code",
   "execution_count": 22,
   "metadata": {},
   "outputs": [
    {
     "data": {
      "text/plain": [
       "VectorStoreRetriever(tags=['Chroma', 'OllamaEmbeddings'], vectorstore=<langchain_chroma.vectorstores.Chroma object at 0x0000029882899360>, search_kwargs={'k': 3})"
      ]
     },
     "execution_count": 22,
     "metadata": {},
     "output_type": "execute_result"
    }
   ],
   "source": [
    "embed_model = OllamaEmbeddings(base_url=\"http://localhost:11434\", model=\"bge-m3:latest\")\n",
    "vectorstore = Chroma(persist_directory=\"./db/chroma_index\", embedding_function=embed_model)\n",
    "retriever = vectorstore.as_retriever(search_kwargs={'k': 3})\n",
    "retriever"
   ]
  },
  {
   "cell_type": "code",
   "execution_count": 51,
   "metadata": {},
   "outputs": [
    {
     "data": {
      "text/plain": [
       "[Document(metadata={'File Name': 'FWG', 'File Path': '.\\\\documents\\\\pos\\\\FWG.pdf', 'First Division': 'documents', 'Page': 0, 'Second Division': 'pos'}, page_content='|None||None|None|None|F.W. GENERATOR|None|None|None|None|\\n|TEL. NO.|SHIP NO.|None|None|None|None|None|None|None|None|\\n|*1-6325|8250/8251|None|None|None|None|None|None|None|None|\\n||APPROVED|None|Hyunseung Kim||None|None|None|None|None|\\n|None||None||||None|None|None|None|\\n|None|CHECKED|None|Seungho Han|||None|None|None|None|\\n|None||None||||None|None|None|None|\\n|None|DRAWN|None|Junsuk Yoon||REFERENCE DRAWING NO. 8250536-0|None|None|DRAWING SCALE|None|\\n|HYUNDAI HEAVY INDUSTRIES CO., LTD. SAMHO SHIPYARD. KOREA|None|None|None|None|None|None|None|None|None|\\n|None|None|None|None|None|SEQUENCE NO.|None||None|None|\\n|None|None|None|None|None||None|None|None|None|'),\n",
       " Document(metadata={'File Name': 'FW Generator', 'File Path': '.\\\\documents\\\\pos\\\\FW Generator.pdf', 'First Division': 'documents', 'Page': 0, 'Second Division': 'pos'}, page_content='|None||None|None|None|F.W. GENERATOR|None|None|None|None|\\n|TEL. NO.|SHIP NO.|None|None|None|None|None|None|None|None|\\n|*1-6325|8250/8251|None|None|None|None|None|None|None|None|\\n||APPROVED|None|Hyunseung Kim||None|None|None|None|None|\\n|None||None||||None|None|None|None|\\n|None|CHECKED|None|Seungho Han|||None|None|None|None|\\n|None||None||||None|None|None|None|\\n|None|DRAWN|None|Junsuk Yoon||REFERENCE DRAWING NO. 8250536-0|None|None|DRAWING SCALE|None|\\n|HYUNDAI HEAVY INDUSTRIES CO., LTD. SAMHO SHIPYARD. KOREA|None|None|None|None|None|None|None|None|None|\\n|None|None|None|None|None|SEQUENCE NO.|None||None|None|\\n|None|None|None|None|None||None|None|None|None|'),\n",
       " Document(metadata={'File Name': 'Air Compressor', 'File Path': '.\\\\documents\\\\pos\\\\Air Compressor.pdf', 'First Division': 'documents', 'Page': 5, 'Second Division': 'pos'}, page_content=\"pipe. 19)  Drawing of general layout showing plan / elevation / section view shall be included in. the approval drawing.. 20) Eye-plate to be suitably fitted for rotor of generaforsteam turbines, electric motors, pumpsheat exchanger's.cover/tube/bundles and.heawystrainer's.cover/filter/element of about 40 kg & above (And lifting eyes to have a min. diameter of 23 mm). 21) Test provision such as three way test cock to be provided for pressure switches and pressure transmitters. 22) The surfaces having normal operating temperatures above 60 C to be Insulated by temperature and for personal protection and at least the a preparation work(insulation stopper and/or pin) should be done by supplier before equipment delivery. AHYUNDAI HEAVY INDUSTRIES CO., LTD. PRINT 2024-06-17 07:38/H3#:/3037930\")]"
      ]
     },
     "execution_count": 51,
     "metadata": {},
     "output_type": "execute_result"
    }
   ],
   "source": [
    "question = \" generator?\"\n",
    "docs = retriever.invoke(question)\n",
    "docs"
   ]
  },
  {
   "cell_type": "code",
   "execution_count": 52,
   "metadata": {},
   "outputs": [
    {
     "data": {
      "text/plain": [
       "ChatPromptTemplate(input_variables=['context', 'question'], input_types={}, partial_variables={}, messages=[HumanMessagePromptTemplate(prompt=PromptTemplate(input_variables=['context', 'question'], input_types={}, partial_variables={}, template=\"You are an assistant for question-answering tasks. \\n    Use the following pieces of retrieved context to answer the question. \\n    If you don't know the answer, just say that you don't know. \\n    Use three sentences maximum and keep the answer concise.\\n    Question: {question} \\n    Context: {context} \\n    Answer:\"), additional_kwargs={})])"
      ]
     },
     "execution_count": 52,
     "metadata": {},
     "output_type": "execute_result"
    }
   ],
   "source": [
    "# Prompt   (rlm/rag-prompt)\n",
    "prompt = ChatPromptTemplate.from_messages([\n",
    "    (\"human\", \n",
    "    \"\"\"You are an assistant for question-answering tasks. \n",
    "    Use the following pieces of retrieved context to answer the question. \n",
    "    If you don't know the answer, just say that you don't know. \n",
    "    Use three sentences maximum and keep the answer concise.\n",
    "    Question: {question} \n",
    "    Context: {context} \n",
    "    Answer:\"\"\"),\n",
    "    ])\n",
    "prompt"
   ]
  },
  {
   "cell_type": "code",
   "execution_count": 53,
   "metadata": {},
   "outputs": [],
   "source": [
    "# llm = ChatGroq(temperature=0, model_name= \"llama-3.2-90b-text-preview\")\n",
    "llm = ChatOllama(base_url=\"http://localhost:11434\", model=\"llama3.2:latest\")"
   ]
  },
  {
   "cell_type": "code",
   "execution_count": 54,
   "metadata": {},
   "outputs": [],
   "source": [
    "# Post-processing\n",
    "def format_docs(docs):\n",
    "    return \"\\n\\n\".join(doc.page_content for doc in docs)"
   ]
  },
  {
   "cell_type": "code",
   "execution_count": 55,
   "metadata": {},
   "outputs": [
    {
     "data": {
      "text/plain": [
       "\"|None||None|None|None|F.W. GENERATOR|None|None|None|None|\\n|TEL. NO.|SHIP NO.|None|None|None|None|None|None|None|None|\\n|*1-6325|8250/8251|None|None|None|None|None|None|None|None|\\n||APPROVED|None|Hyunseung Kim||None|None|None|None|None|\\n|None||None||||None|None|None|None|\\n|None|CHECKED|None|Seungho Han|||None|None|None|None|\\n|None||None||||None|None|None|None|\\n|None|DRAWN|None|Junsuk Yoon||REFERENCE DRAWING NO. 8250536-0|None|None|DRAWING SCALE|None|\\n|HYUNDAI HEAVY INDUSTRIES CO., LTD. SAMHO SHIPYARD. KOREA|None|None|None|None|None|None|None|None|None|\\n|None|None|None|None|None|SEQUENCE NO.|None||None|None|\\n|None|None|None|None|None||None|None|None|None|\\n\\n|None||None|None|None|F.W. GENERATOR|None|None|None|None|\\n|TEL. NO.|SHIP NO.|None|None|None|None|None|None|None|None|\\n|*1-6325|8250/8251|None|None|None|None|None|None|None|None|\\n||APPROVED|None|Hyunseung Kim||None|None|None|None|None|\\n|None||None||||None|None|None|None|\\n|None|CHECKED|None|Seungho Han|||None|None|None|None|\\n|None||None||||None|None|None|None|\\n|None|DRAWN|None|Junsuk Yoon||REFERENCE DRAWING NO. 8250536-0|None|None|DRAWING SCALE|None|\\n|HYUNDAI HEAVY INDUSTRIES CO., LTD. SAMHO SHIPYARD. KOREA|None|None|None|None|None|None|None|None|None|\\n|None|None|None|None|None|SEQUENCE NO.|None||None|None|\\n|None|None|None|None|None||None|None|None|None|\\n\\npipe. 19)  Drawing of general layout showing plan / elevation / section view shall be included in. the approval drawing.. 20) Eye-plate to be suitably fitted for rotor of generaforsteam turbines, electric motors, pumpsheat exchanger's.cover/tube/bundles and.heawystrainer's.cover/filter/element of about 40 kg & above (And lifting eyes to have a min. diameter of 23 mm). 21) Test provision such as three way test cock to be provided for pressure switches and pressure transmitters. 22) The surfaces having normal operating temperatures above 60 C to be Insulated by temperature and for personal protection and at least the a preparation work(insulation stopper and/or pin) should be done by supplier before equipment delivery. AHYUNDAI HEAVY INDUSTRIES CO., LTD. PRINT 2024-06-17 07:38/H3#:/3037930\""
      ]
     },
     "execution_count": 55,
     "metadata": {},
     "output_type": "execute_result"
    }
   ],
   "source": [
    "total_docs = format_docs(docs)\n",
    "total_docs"
   ]
  },
  {
   "cell_type": "code",
   "execution_count": 56,
   "metadata": {},
   "outputs": [
    {
     "name": "stdout",
     "output_type": "stream",
     "text": [
      "The context doesn't provide a clear indication of what \"generator\" refers to in this case. I don't know the answer to your question about \"generator\".\n"
     ]
    }
   ],
   "source": [
    "# Chain\n",
    "rag_chain = prompt | llm | StrOutputParser()\n",
    "\n",
    "# Run\n",
    "generation = rag_chain.invoke({\"context\": total_docs, \"question\": question})\n",
    "print(generation)"
   ]
  },
  {
   "cell_type": "code",
   "execution_count": null,
   "metadata": {},
   "outputs": [],
   "source": []
  }
 ],
 "metadata": {
  "kernelspec": {
   "display_name": ".venv",
   "language": "python",
   "name": "python3"
  },
  "language_info": {
   "codemirror_mode": {
    "name": "ipython",
    "version": 3
   },
   "file_extension": ".py",
   "mimetype": "text/x-python",
   "name": "python",
   "nbconvert_exporter": "python",
   "pygments_lexer": "ipython3",
   "version": "3.12.6"
  }
 },
 "nbformat": 4,
 "nbformat_minor": 2
}
