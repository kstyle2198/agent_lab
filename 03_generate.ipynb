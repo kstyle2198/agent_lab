{
 "cells": [
  {
   "cell_type": "code",
   "execution_count": 1,
   "metadata": {},
   "outputs": [],
   "source": [
    "import time\n",
    "from langchain_core.output_parsers import StrOutputParser\n",
    "from langchain_core.prompts import ChatPromptTemplate\n",
    "from langchain_groq import ChatGroq\n",
    "from langchain_ollama import OllamaLLM, ChatOllama\n",
    "from pydantic import BaseModel, Field\n",
    "from langchain_chroma import Chroma\n",
    "from langchain_ollama import OllamaEmbeddings\n",
    "from langgraph.graph import StateGraph, MessagesState, START, END"
   ]
  },
  {
   "cell_type": "code",
   "execution_count": 2,
   "metadata": {},
   "outputs": [
    {
     "data": {
      "text/plain": [
       "VectorStoreRetriever(tags=['Chroma', 'OllamaEmbeddings'], vectorstore=<langchain_chroma.vectorstores.Chroma object at 0x00000187D7463AA0>, search_type='mmr', search_kwargs={'k': 3, 'fetch_k': 10})"
      ]
     },
     "execution_count": 2,
     "metadata": {},
     "output_type": "execute_result"
    }
   ],
   "source": [
    "def retrieval_agent(fetch_k:int, k:int):\n",
    "    embed_model = OllamaEmbeddings(base_url=\"http://localhost:11434\", model=\"bge-m3:latest\")\n",
    "    vectorstore = Chroma(collection_name=\"collection_01\", persist_directory=\"./db/chroma_db_02\", embedding_function=embed_model)\n",
    "    retriever = vectorstore.as_retriever(search_type=\"mmr\", search_kwargs={'k': k, \"fetch_k\":fetch_k})\n",
    "    return retriever\n",
    "\n",
    "retriever = retrieval_agent(fetch_k=10, k=3)\n",
    "retriever"
   ]
  },
  {
   "cell_type": "code",
   "execution_count": 3,
   "metadata": {},
   "outputs": [],
   "source": [
    "from typing import List\n",
    "from langgraph.graph import StateGraph, MessagesState, START, END\n",
    "class GraphState(MessagesState):\n",
    "    context : List[str]\n",
    "    generation : str"
   ]
  },
  {
   "cell_type": "code",
   "execution_count": 13,
   "metadata": {},
   "outputs": [],
   "source": [
    "# def generate_agent(question:str, context:list):\n",
    "def generate_agent(state):\n",
    "\n",
    "    prompt = ChatPromptTemplate.from_messages([\n",
    "    (\"human\", \n",
    "    \"\"\"You are an assistant for question-answering tasks. \n",
    "    Use the following pieces of retrieved context to answer the question. \n",
    "    If you don't know the answer, just say that you don't know. \n",
    "    Use three sentences maximum and keep the answer concise.\n",
    "    Question: {messages} \n",
    "    Context: {context} \n",
    "    Answer:\"\"\"),\n",
    "    ])\n",
    "    llm = ChatGroq(temperature=0, model_name= \"deepseek-r1-distill-llama-70b\")  # deepseek-r1-distill-llama-70b  llama-3.3-70b-versatile\n",
    "\n",
    "    rag_chain = prompt | llm | StrOutputParser()\n",
    "\n",
    "    # Post-processing\n",
    "    def format_docs(docs):\n",
    "        return \"\\n\\n\".join(doc.page_content for doc in docs)\n",
    "    \n",
    "    total_docs = format_docs(state['context'])\n",
    "\n",
    "    # Static the Response\n",
    "    generation = rag_chain.invoke({\"context\": total_docs, \"messages\": state['messages']})\n",
    "    return {\"generation\": generation}"
   ]
  },
  {
   "cell_type": "code",
   "execution_count": 14,
   "metadata": {},
   "outputs": [
    {
     "data": {
      "image/png": "[encoded data removed]",
      "text/plain": [
       "<langgraph.graph.state.CompiledStateGraph object at 0x00000187D97086E0>"
      ]
     },
     "execution_count": 14,
     "metadata": {},
     "output_type": "execute_result"
    }
   ],
   "source": [
    "def rag_builder(state):\n",
    "    rag_builder = StateGraph(state)\n",
    "\n",
    "    rag_builder.add_node(\"generate_agent\", generate_agent)\n",
    "    \n",
    "    rag_builder.add_edge(START, \"generate_agent\")\n",
    "    rag_builder.add_edge(\"generate_agent\", END)\n",
    "\n",
    "    graph = rag_builder.compile()\n",
    "\n",
    "    return graph\n",
    "\n",
    "app = rag_builder(GraphState)\n",
    "app"
   ]
  },
  {
   "cell_type": "code",
   "execution_count": 15,
   "metadata": {},
   "outputs": [
    {
     "data": {
      "text/plain": [
       "[Document(metadata={'File Name': \"Lloyd's Register Rules and Regulations for the Classification of Ships, July 2022\", 'File Path': \"/content/drive/MyDrive/Rules/LR/Lloyd's Register Rules and Regulations for the Classification of Ships, July 2022.pdf\", 'First Division': 'Rules', 'Page': 1650, 'Second Division': 'LR'}, page_content=\"This page explains Lloyd's Register Rules and Regulations for the Classification of Ships, July 2022, that belongs to catogories of Rules and LR./nwith the process plant are to be submitted, including: • Arrangements for preventing the ingress of water into the ship or structure where process plant and equipment protrude through the weather deck. • Proposed emergency flooding procedures and their control. 3.2.6 Particulars of the proposed storage arrangements of hazardous and/or toxic substances, feedstocks and products in bulk, on the ship or structure, are to be submitted. 3.3 Process plant 3.3.1 A description of the expected method of operation of the process plant and a diagram showing the process flow are to be submitted. 3.3.2 General arrangement plans of the process plant showing the hazardous and safe zones and spaces are to be submitted, indicating the following:Rules and Regulations for the Classification of Ships, July 2022 Ships with Installed Process Plant for Chemicals, Liquified Gases and Related ProductsPart 7, Chapter 2 Section 3 Lloyd 's Register 1649\"),\n",
       " Document(metadata={'File Name': \"Lloyd's Register Rules and Regulations for the Classification of Ships, July 2022\", 'File Path': \"/content/drive/MyDrive/Rules/LR/Lloyd's Register Rules and Regulations for the Classification of Ships, July 2022.pdf\", 'First Division': 'Rules', 'Page': 1649, 'Second Division': 'LR'}, page_content=\"This page explains Lloyd's Register Rules and Regulations for the Classification of Ships, July 2022, that belongs to catogories of Rules and LR./n2.2.1 A special chemical cargoes notation may be assigned to ships where raw materials or products are stored or retained on board in bulk. 2.2.2 The Committee may append details of process, product storage, safety or other particulars to the notation as it considers necessary. 2.2.3 Ships of Category 1B or 2 which have process plants installed solely for the purposes of the physical liquefaction of impure feedstock gases at low temperatures and the storage of the purified liquefied gases (where the chemical treatment of the impurities is an incidental process) will be assigned additional notations to those stated in Pt 7, Ch 2, 2.1 Ship notations 2.1.2 or Pt 7, Ch 2, 2.1 Ship notations 2.1.3 such as `for liquefaction and storage of methane, etc. in independent tanks Type B, etc. − maximum pressure − minimum temperature'. 2.3 Special mooring and linking arrangements 2.3.1 Where the process plant is operable only when the ship is specially moored, anchored or otherwise linked to the\"),\n",
       " Document(metadata={'File Name': \"Lloyd's Register Rules and Regulations for the Classification of Ships, July 2022\", 'File Path': \"/content/drive/MyDrive/Rules/LR/Lloyd's Register Rules and Regulations for the Classification of Ships, July 2022.pdf\", 'First Division': 'Rules', 'Page': 1649, 'Second Division': 'LR'}, page_content=\"This page explains Lloyd's Register Rules and Regulations for the Classification of Ships, July 2022, that belongs to catogories of Rules and LR./nor otherwise linked to the shore, sea bed or other stationary vessel or structure, will be eligible to be classed `100A1 (T) moored (oil, ammonia, etc.) processing (tanker, barge, etc.) for service at . . .', see also Pt 7, Ch 2, 1.4 Certification of process plant 1.4.5 . 2.1.3 Ships of Category 2, which have chemical plants installed and designed for operation while the ship is in harbour, will be eligible to be classed `100A(T) chemical process plant installed − for operation only when moored in harbour', see also Pt 7, Ch 2, 1.4 Certification of process plant 1.4.5 . 2.1.4 Specialised ships of Category 3 which have chemical plants designed to operate only while the ship is fully supported on the sea bed, will be eligible to be classed `A chemical process plant pontoon/platform − to be operated only when grounded on prepared foundations at...', see also Pt 7, Ch 2, 1.4 Certification of process plant 1.4.5 . 2.2 Additional notations 2.2.1 A special chemical cargoes notation may be\")]"
      ]
     },
     "execution_count": 15,
     "metadata": {},
     "output_type": "execute_result"
    }
   ],
   "source": [
    "question = \" according to lr rule, explain about ships with installed process plant for chemicals\"\n",
    "docs = retriever.invoke(question)\n",
    "docs"
   ]
  },
  {
   "cell_type": "code",
   "execution_count": 16,
   "metadata": {},
   "outputs": [
    {
     "data": {
      "text/plain": [
       "{'messages': [{'role': 'user',\n",
       "   'content': ' according to lr rule, explain about ships with installed process plant for chemicals'}],\n",
       " 'context': [Document(metadata={'File Name': \"Lloyd's Register Rules and Regulations for the Classification of Ships, July 2022\", 'File Path': \"/content/drive/MyDrive/Rules/LR/Lloyd's Register Rules and Regulations for the Classification of Ships, July 2022.pdf\", 'First Division': 'Rules', 'Page': 1650, 'Second Division': 'LR'}, page_content=\"This page explains Lloyd's Register Rules and Regulations for the Classification of Ships, July 2022, that belongs to catogories of Rules and LR./nwith the process plant are to be submitted, including: • Arrangements for preventing the ingress of water into the ship or structure where process plant and equipment protrude through the weather deck. • Proposed emergency flooding procedures and their control. 3.2.6 Particulars of the proposed storage arrangements of hazardous and/or toxic substances, feedstocks and products in bulk, on the ship or structure, are to be submitted. 3.3 Process plant 3.3.1 A description of the expected method of operation of the process plant and a diagram showing the process flow are to be submitted. 3.3.2 General arrangement plans of the process plant showing the hazardous and safe zones and spaces are to be submitted, indicating the following:Rules and Regulations for the Classification of Ships, July 2022 Ships with Installed Process Plant for Chemicals, Liquified Gases and Related ProductsPart 7, Chapter 2 Section 3 Lloyd 's Register 1649\"),\n",
       "  Document(metadata={'File Name': \"Lloyd's Register Rules and Regulations for the Classification of Ships, July 2022\", 'File Path': \"/content/drive/MyDrive/Rules/LR/Lloyd's Register Rules and Regulations for the Classification of Ships, July 2022.pdf\", 'First Division': 'Rules', 'Page': 1649, 'Second Division': 'LR'}, page_content=\"This page explains Lloyd's Register Rules and Regulations for the Classification of Ships, July 2022, that belongs to catogories of Rules and LR./n2.2.1 A special chemical cargoes notation may be assigned to ships where raw materials or products are stored or retained on board in bulk. 2.2.2 The Committee may append details of process, product storage, safety or other particulars to the notation as it considers necessary. 2.2.3 Ships of Category 1B or 2 which have process plants installed solely for the purposes of the physical liquefaction of impure feedstock gases at low temperatures and the storage of the purified liquefied gases (where the chemical treatment of the impurities is an incidental process) will be assigned additional notations to those stated in Pt 7, Ch 2, 2.1 Ship notations 2.1.2 or Pt 7, Ch 2, 2.1 Ship notations 2.1.3 such as `for liquefaction and storage of methane, etc. in independent tanks Type B, etc. − maximum pressure − minimum temperature'. 2.3 Special mooring and linking arrangements 2.3.1 Where the process plant is operable only when the ship is specially moored, anchored or otherwise linked to the\"),\n",
       "  Document(metadata={'File Name': \"Lloyd's Register Rules and Regulations for the Classification of Ships, July 2022\", 'File Path': \"/content/drive/MyDrive/Rules/LR/Lloyd's Register Rules and Regulations for the Classification of Ships, July 2022.pdf\", 'First Division': 'Rules', 'Page': 1649, 'Second Division': 'LR'}, page_content=\"This page explains Lloyd's Register Rules and Regulations for the Classification of Ships, July 2022, that belongs to catogories of Rules and LR./nor otherwise linked to the shore, sea bed or other stationary vessel or structure, will be eligible to be classed `100A1 (T) moored (oil, ammonia, etc.) processing (tanker, barge, etc.) for service at . . .', see also Pt 7, Ch 2, 1.4 Certification of process plant 1.4.5 . 2.1.3 Ships of Category 2, which have chemical plants installed and designed for operation while the ship is in harbour, will be eligible to be classed `100A(T) chemical process plant installed − for operation only when moored in harbour', see also Pt 7, Ch 2, 1.4 Certification of process plant 1.4.5 . 2.1.4 Specialised ships of Category 3 which have chemical plants designed to operate only while the ship is fully supported on the sea bed, will be eligible to be classed `A chemical process plant pontoon/platform − to be operated only when grounded on prepared foundations at...', see also Pt 7, Ch 2, 1.4 Certification of process plant 1.4.5 . 2.2 Additional notations 2.2.1 A special chemical cargoes notation may be\")]}"
      ]
     },
     "execution_count": 16,
     "metadata": {},
     "output_type": "execute_result"
    }
   ],
   "source": [
    "inputs = []\n",
    "input = {\"role\": \"user\", \"content\": question}\n",
    "inputs.append(input)\n",
    "full_input = {\"messages\": inputs, \"context\": docs}\n",
    "full_input"
   ]
  },
  {
   "cell_type": "code",
   "execution_count": 17,
   "metadata": {},
   "outputs": [
    {
     "name": "stdout",
     "output_type": "stream",
     "text": [
      "<think>\n",
      "Okay, I need to explain the Lloyd's Register Rules for ships with installed process plants for chemicals. Let me go through the context provided.\n",
      "\n",
      "First, the context mentions that ships with process plants must submit various details. These include arrangements to prevent water ingress, emergency flooding procedures, and storage plans for hazardous substances. So, I should mention these requirements.\n",
      "\n",
      "Next, the process plant itself needs a description of its operation and a process flow diagram. Also, general arrangement plans showing hazardous and safe zones are required. I should include this in the explanation.\n",
      "\n",
      "The context also talks about special notations for ships handling chemical cargoes. These notations depend on the ship's category and operational conditions, like being moored or in harbor. I should explain how these notations are assigned based on the ship's design and operation.\n",
      "\n",
      "Putting it all together, I'll structure the answer to cover the submission requirements, process plant specifics, and the notation system based on ship category and operation.\n",
      "</think>\n",
      "\n",
      "Ships with installed process plants for chemicals must submit details like water ingress prevention, emergency procedures, and storage arrangements for hazardous substances. They need to provide a process flow diagram and general arrangement plans showing hazardous zones. Special notations are assigned based on ship category and operational conditions, such as being moored or in harbor."
     ]
    }
   ],
   "source": [
    "temp = []\n",
    "async for event in app.astream_events(full_input, version=\"v1\"):\n",
    "    if event['event'] == 'on_chat_model_stream' or event['event'] == 'on_llm_stream':\n",
    "        # print(event)\n",
    "        try:\n",
    "            response = event['data']['chunk'].content\n",
    "            temp.append(response)\n",
    "            print(response, end=\"\")   # groq\n",
    "            time.sleep(0.1)\n",
    "        except:\n",
    "            response = event['data']['chunk']\n",
    "            temp.append(response)\n",
    "            print(response, end=\"\")    # ollama\n",
    "            time.sleep(0.1)\n",
    "        finally: pass\n",
    "    else: pass"
   ]
  },
  {
   "cell_type": "code",
   "execution_count": 10,
   "metadata": {},
   "outputs": [
    {
     "name": "stdout",
     "output_type": "stream",
     "text": [
      "[{'role': 'user', 'content': ' according to lr rule, explain about ships with installed process plant for chemicals'}, {'role': 'ai', 'content': \"<think>\\nOkay, I need to answer the question about Lloyd's Register rules for ships with installed process plants for chemicals. Let me go through the context provided.\\n\\nFirst, the context mentions that ships with process plants must submit various details. These include arrangements to prevent water ingress, emergency flooding procedures, and storage plans for hazardous substances. So, I should mention these requirements.\\n\\nNext, the process plant itself needs a description of its operation and a process flow diagram. Also, general arrangement plans showing hazardous and safe zones are required. I should include this in the answer.\\n\\nAdditionally, the context talks about special notations for ships based on their category and operation. For example, Category 1B or 2 ships with liquefaction plants get specific notations. Ships that can only operate when moored or in harbor have their own classifications. I should note these special notations as well.\\n\\nI need to keep the answer concise, within three sentences. I'll structure it by first stating the submission requirements, then the process plant specifics, and finally the special notations based on ship category and operation.\\n</think>\\n\\nShips with installed process plants for chemicals must submit details like water ingress prevention, emergency procedures, and hazardous substance storage arrangements. They need to provide operational descriptions, process flow diagrams, and zone plans. Special notations are assigned based on ship category, process type, and operational conditions.\"}]\n",
      "2\n"
     ]
    }
   ],
   "source": [
    "total_res = \"\".join(temp[:])\n",
    "inputs.append({\"role\": \"ai\", \"content\": total_res})\n",
    "print(inputs)\n",
    "print(len(inputs))"
   ]
  },
  {
   "cell_type": "code",
   "execution_count": 11,
   "metadata": {},
   "outputs": [
    {
     "name": "stdout",
     "output_type": "stream",
     "text": [
      "3\n"
     ]
    },
    {
     "data": {
      "text/plain": [
       "{'messages': [{'role': 'user',\n",
       "   'content': ' according to lr rule, explain about ships with installed process plant for chemicals'},\n",
       "  {'role': 'ai',\n",
       "   'content': \"<think>\\nOkay, I need to answer the question about Lloyd's Register rules for ships with installed process plants for chemicals. Let me go through the context provided.\\n\\nFirst, the context mentions that ships with process plants must submit various details. These include arrangements to prevent water ingress, emergency flooding procedures, and storage plans for hazardous substances. So, I should mention these requirements.\\n\\nNext, the process plant itself needs a description of its operation and a process flow diagram. Also, general arrangement plans showing hazardous and safe zones are required. I should include this in the answer.\\n\\nAdditionally, the context talks about special notations for ships based on their category and operation. For example, Category 1B or 2 ships with liquefaction plants get specific notations. Ships that can only operate when moored or in harbor have their own classifications. I should note these special notations as well.\\n\\nI need to keep the answer concise, within three sentences. I'll structure it by first stating the submission requirements, then the process plant specifics, and finally the special notations based on ship category and operation.\\n</think>\\n\\nShips with installed process plants for chemicals must submit details like water ingress prevention, emergency procedures, and hazardous substance storage arrangements. They need to provide operational descriptions, process flow diagrams, and zone plans. Special notations are assigned based on ship category, process type, and operational conditions.\"},\n",
       "  {'role': 'user', 'content': 'what is the noon report in iss system?'}],\n",
       " 'context': [Document(metadata={'File Name': 'Focus on IMO - SOLAS, the International Convention for the Safety, of Life at Sea, 1974 (October 1998)', 'File Path': '/content/drive/MyDrive/Rules/SOLAS/Focus on IMO - SOLAS, the International Convention for the Safety, of Life at Sea, 1974 (October 1998).pdf', 'First Division': 'Rules', 'Page': 17, 'Second Division': 'SOLAS'}, page_content='This page explains Focus on IMO - SOLAS, the International Convention for the Safety, of Life at Sea, 1974 (October 1998), that belongs to catogories of Rules and SOLAS./nreports. The information is used for search and rescue operations, VTS, weather forecasting and the prevention of marine pollution.  By making IMO -adopted ship report ing systems mandatory, the SOLAS amendments make it obligatory for ships entering or using a system to give their position, identity and other information. This will enable their journey through the system to be tracked.  All ship reporting systems must c omply with international law, including the provisions of the United Nations Convention on the Law of the Sea and participation shall be free of charge to the ships concerned.  Two other changes have been made to Chapter V.  A new regulation 15 -1 requires al l tankers of 20,000 dwt and above after 1 January 1996 to be fitted with an emergency towing arrangement fitted at both ends of the ship. Existing tankers must be fitted with a similar arrangement at the first scheduled dry -docking after 1 January 1996 but not later than 1 January 1999.  A new regulation 22 has'),\n",
       "  Document(metadata={'File Name': '490_RULES FOR NAVIGATION BRIDGE SYSTEMS_202406', 'File Path': '/content/drive/MyDrive/Rules/NK/490_RULES FOR NAVIGATION BRIDGE SYSTEMS_202406.pdf', 'First Division': 'Rules', 'Page': 23, 'Second Division': 'NK'}, page_content='This page explains 490_RULES FOR NAVIGATION BRIDGE SYSTEMS_202406, that belongs to catogories of Rules and NK./nis to be in accordance with ISO 8468.  6.2.3 Electronic Chart Display and Information Systems (ECDIS)  The wording “performance standards deemed appropriate by the Society” specified in 6.2.3 of the Rules means those performance standards specified in IMO Resolution MSC. 232(82) . 6.2.4 Track Control Systems (TCS)  The wording “performance standards deemed appropriate by the Society” specified in 6.2.4 of the Rules means those performance standards specified in IMO Resolution MSC. 74(69) ANNEX 2.'),\n",
       "  Document(metadata={'File Name': '370_RULES FOR THE AUDIT AND REGISTRATION OF SAFETY MANAGEMENT SYSTEMS_202406', 'File Path': '/content/drive/MyDrive/Rules/NK/370_RULES FOR THE AUDIT AND REGISTRATION OF SAFETY MANAGEMENT SYSTEMS_202406.pdf', 'First Division': 'Rules', 'Page': 14, 'Second Division': 'NK'}, page_content='This page explains 370_RULES FOR THE AUDIT AND REGISTRATION OF SAFETY MANAGEMENT SYSTEMS_202406, that belongs to catogories of Rules and NK./nplaced under the management either partially or wholly of a person or entity other than the company in possession of a DOC or Interim DOC conforming to the Rules, the ship will be deemed as not being subject to ISM registration.  2 Date of completion of audit  (1) The date of completion of each audit described in 3.2(1), 3.2(4) and 3.2(5) of the Rules is the last day of the audit. Even when non-conformities are found during the audit, a certificate may be issued or endorsed if it is judged that the company is prepared  to take appropriate corrective actions to remedy such non -conformities within the pre scribed period.  (2) The day of completion of each audit described in 3.2(2) and 3.2(3) of the Rules is the day on which compliance with the provisions of 4.2 and 5.2 of the Rules is verified.  3 Date of ISM Registration  When a DOC or a SMC is issued for the SMS of the Company or ship on the day of completion of the Initial Audit described in 3.2(1) of the Rules, the day of')]}"
      ]
     },
     "execution_count": 11,
     "metadata": {},
     "output_type": "execute_result"
    }
   ],
   "source": [
    "question = \"what is the noon report in iss system?\"\n",
    "docs = retriever.invoke(question)\n",
    "print(len(docs))\n",
    "input = {\"role\": \"user\", \"content\": question}\n",
    "inputs.append(input)\n",
    "full_input = {\"messages\": inputs, \"context\": docs}\n",
    "full_input"
   ]
  },
  {
   "cell_type": "code",
   "execution_count": 12,
   "metadata": {},
   "outputs": [
    {
     "name": "stdout",
     "output_type": "stream",
     "text": [
      "<think>\n",
      "Okay, so I need to figure out what the noon report in the ISS system is. I remember that the user provided some context, but I'm not sure if it's relevant. Let me look through the context again.\n",
      "\n",
      "The context talks about SOLAS, ship reporting systems, ECDIS, and ISM audits. It mentions things like mandatory reporting for search and rescue, VTS, weather forecasting, and pollution prevention. There's also stuff about tankers having emergency towing arrangements and some rules about navigation bridge systems and safety management audits.\n",
      "\n",
      "Hmm, I don't see anything about a \"noon report\" specifically. Maybe it's related to daily reporting practices? Ships often have noon reports that include position, weather, fuel, etc., but the context doesn't mention this. The ISS system might be a specific system, but the provided context doesn't explain it. I don't have enough information here to answer accurately.\n",
      "</think>\n",
      "\n",
      "The noon report in the ISS system isn't explained in the provided context. I don't know the answer."
     ]
    }
   ],
   "source": [
    "temp = []\n",
    "async for event in app.astream_events(full_input, version=\"v1\"):\n",
    "    if event['event'] == 'on_chat_model_stream' or event['event'] == 'on_llm_stream':\n",
    "        # print(event)\n",
    "        try:\n",
    "            response = event['data']['chunk'].content   # groq\n",
    "            temp.append(response)\n",
    "            print(response, end=\"\")  \n",
    "            time.sleep(0.1)\n",
    "        except:\n",
    "            response = event['data']['chunk']  # ollama\n",
    "            temp.append(response)\n",
    "            print(response, end=\"\")    \n",
    "            time.sleep(0.1)\n",
    "        finally: pass\n",
    "    else: pass"
   ]
  },
  {
   "cell_type": "code",
   "execution_count": 13,
   "metadata": {},
   "outputs": [
    {
     "data": {
      "text/plain": [
       "\"I don't know about ships with installed process plants for chemicals. The retrieved context only mentions IMO-SOLAS regulations and rules for navigation bridge systems, audit and registration of safety management systems, but not process plants for chemicals.\""
      ]
     },
     "execution_count": 13,
     "metadata": {},
     "output_type": "execute_result"
    }
   ],
   "source": [
    "total_res = \"\".join(temp[:])\n",
    "total_res"
   ]
  },
  {
   "cell_type": "code",
   "execution_count": null,
   "metadata": {},
   "outputs": [],
   "source": []
  }
 ],
 "metadata": {
  "kernelspec": {
   "display_name": ".venv",
   "language": "python",
   "name": "python3"
  },
  "language_info": {
   "codemirror_mode": {
    "name": "ipython",
    "version": 3
   },
   "file_extension": ".py",
   "mimetype": "text/x-python",
   "name": "python",
   "nbconvert_exporter": "python",
   "pygments_lexer": "ipython3",
   "version": "3.12.6"
  }
 },
 "nbformat": 4,
 "nbformat_minor": 2
}
