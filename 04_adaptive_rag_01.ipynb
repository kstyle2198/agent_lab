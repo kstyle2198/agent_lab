{
 "cells": [
  {
   "cell_type": "code",
   "execution_count": 59,
   "metadata": {},
   "outputs": [],
   "source": [
    "from typing import Literal\n",
    "from langchain_core.prompts import ChatPromptTemplate\n",
    "from langchain_groq import ChatGroq\n",
    "from langchain_ollama.chat_models import ChatOllama\n",
    "from pydantic import BaseModel, Field\n",
    "from langchain_chroma import Chroma\n",
    "from langchain_core.output_parsers import StrOutputParser\n",
    "from langchain_ollama import OllamaEmbeddings\n",
    "import chromadb\n",
    "import pandas as pd\n",
    "from pprint import pprint\n",
    "from IPython.display import Image, display"
   ]
  },
  {
   "cell_type": "markdown",
   "metadata": {},
   "source": [
    "## LLM & VectorDB "
   ]
  },
  {
   "cell_type": "code",
   "execution_count": 60,
   "metadata": {},
   "outputs": [],
   "source": [
    "def get_semantic_search_docs(query:str, vectorstore, k:int=100, fetch_k:int=200):\n",
    "    retriever = vectorstore.as_retriever(\n",
    "        search_type=\"mmr\", \n",
    "        search_kwargs={'k': 100, \"fetch_k\":200}\n",
    "        )\n",
    "    result = retriever.invoke(query)\n",
    "    return result\n",
    "\n",
    "import re\n",
    "import numpy as np\n",
    "from rank_bm25 import BM25Okapi\n",
    "\n",
    "def get_bm25_top_docs(query:str, documents:list, top_k:int=20):\n",
    "\n",
    "    tokenized_corpus = [doc.page_content for doc in documents]\n",
    "    bm25 = BM25Okapi(tokenized_corpus)\n",
    "\n",
    "    pattern = r'\"(.*?)\"'  # 따옴표로 둘러싸인 단어만 검색 대상으로 리스트에 담기\n",
    "    extracted_keywords = re.findall(pattern, query)\n",
    "    doc_scores = bm25.get_scores(extracted_keywords)\n",
    "\n",
    "    sorted_indices = np.argsort(doc_scores)  # 값에 대한 정렬된 인덱스\n",
    "    order_values = np.empty_like(sorted_indices)\n",
    "    order_values[sorted_indices] = np.arange(len(doc_scores))\n",
    "\n",
    "    top_index = [i for i, value in enumerate(order_values) if value < top_k]\n",
    "    top_docs = [i for i in documents if documents.index(i) in top_index ]\n",
    "    return top_docs\n",
    "\n",
    "def get_keywords_matched_docs(query:str, documents:list, and_condition:bool=True):\n",
    "    pattern = r'\"(.*?)\"'  # 따옴표로 둘러싸인 단어만 검색 대상으로 리스트에 담기\n",
    "    extracted_keywords = re.findall(pattern, query)\n",
    "    lower_keywors = [keyword.lower() for keyword in extracted_keywords]\n",
    "\n",
    "    lower_docs = [doc.page_content.lower() for doc in documents]\n",
    "    if and_condition: matching_sentences = [sentence for sentence in lower_docs if all(keyword in sentence for keyword in lower_keywors)]\n",
    "    else: matching_sentences = [sentence for sentence in lower_docs if any(keyword in sentence for keyword in lower_keywors)]\n",
    "\n",
    "    matched_index = [lower_docs.index(doc) for doc in matching_sentences]\n",
    "    final_matched_docs = [documents[i] for i in matched_index]\n",
    "\n",
    "    return final_matched_docs"
   ]
  },
  {
   "cell_type": "code",
   "execution_count": 16,
   "metadata": {},
   "outputs": [
    {
     "data": {
      "text/plain": [
       "ChatGroq(client=<groq.resources.chat.completions.Completions object at 0x000001BC4B880380>, async_client=<groq.resources.chat.completions.AsyncCompletions object at 0x000001BC4B880890>, model_name='llama-3.2-11b-text-preview', temperature=1e-08, model_kwargs={}, groq_api_key=SecretStr('**********'))"
      ]
     },
     "execution_count": 16,
     "metadata": {},
     "output_type": "execute_result"
    }
   ],
   "source": [
    "llm = ChatGroq(temperature=0, model_name= \"llama-3.2-11b-text-preview\")\n",
    "# llm = ChatOllama(base_url=\"http://localhost:11434\", model=\"llama3.2:latest\")\n",
    "llm"
   ]
  },
  {
   "cell_type": "code",
   "execution_count": 53,
   "metadata": {},
   "outputs": [
    {
     "data": {
      "text/plain": [
       "[(Document(metadata={'File Name': '370_RULES FOR THE AUDIT AND REGISTRATION OF SHIP SECURITY MANAGEMENT SYSTEMS_202406', 'File Path': '/content/drive/MyDrive/Rules/NK/370_RULES FOR THE AUDIT AND REGISTRATION OF SHIP SECURITY MANAGEMENT SYSTEMS_202406.pdf', 'First Division': 'Rules', 'Page': 10, 'Second Division': 'NK'}, page_content='This page explains 370_RULES FOR THE AUDIT AND REGISTRATION OF SHIP SECURITY MANAGEMENT SYSTEMS_202406, that belongs to catogories of Rules and NK./nto carry out any activities required by Chapter XI -2 of SOLAS  and ISPS Code Part A . (2) “Date of ISPS registration” means the date of the last day of the Initial Audit prescribed in 3.3.1 -1 of the Rules. However, when the Audit for issuing the Interim ISSC prescribed in 3.5-1(1) of the Rules is carried out in advance of the Initial Audit, it means the date of the last day of the Audit for issuing the Interim ISSC.  (3) “Ship security assessment” means an assessment of the risks of security incident around ships including identification of possible threats, weaknesses, existing security measures, procedures and operations, and key shipboard operations that are important to protect.  (4) “Ship security alert system” means an alert system prescribed in Regulation 6, Chapter XI -2 of SOLAS .'),\n",
       "  0.32612002401180396),\n",
       " (Document(metadata={'File Name': '370_RULES FOR THE AUDIT AND REGISTRATION OF SAFETY MANAGEMENT SYSTEMS_202406', 'File Path': '/content/drive/MyDrive/Rules/NK/370_RULES FOR THE AUDIT AND REGISTRATION OF SAFETY MANAGEMENT SYSTEMS_202406.pdf', 'First Division': 'Rules', 'Page': 14, 'Second Division': 'NK'}, page_content='This page explains 370_RULES FOR THE AUDIT AND REGISTRATION OF SAFETY MANAGEMENT SYSTEMS_202406, that belongs to catogories of Rules and NK./nplaced under the management either partially or wholly of a person or entity other than the company in possession of a DOC or Interim DOC conforming to the Rules, the ship will be deemed as not being subject to ISM registration.  2 Date of completion of audit  (1) The date of completion of each audit described in 3.2(1), 3.2(4) and 3.2(5) of the Rules is the last day of the audit. Even when non-conformities are found during the audit, a certificate may be issued or endorsed if it is judged that the company is prepared  to take appropriate corrective actions to remedy such non -conformities within the pre scribed period.  (2) The day of completion of each audit described in 3.2(2) and 3.2(3) of the Rules is the day on which compliance with the provisions of 4.2 and 5.2 of the Rules is verified.  3 Date of ISM Registration  When a DOC or a SMC is issued for the SMS of the Company or ship on the day of completion of the Initial Audit described in 3.2(1) of the Rules, the day of'),\n",
       "  0.29811310600152674),\n",
       " (Document(metadata={'File Name': '370_RULES FOR THE AUDIT AND REGISTRATION OF SAFETY MANAGEMENT SYSTEMS_202406', 'File Path': '/content/drive/MyDrive/Rules/NK/370_RULES FOR THE AUDIT AND REGISTRATION OF SAFETY MANAGEMENT SYSTEMS_202406.pdf', 'First Division': 'Rules', 'Page': 14, 'Second Division': 'NK'}, page_content='This page explains 370_RULES FOR THE AUDIT AND REGISTRATION OF SAFETY MANAGEMENT SYSTEMS_202406, that belongs to catogories of Rules and NK./ndescribed in 3.2(1) of the Rules, the day of completion of such an Initial Audit may be regarded as the date of the ISM registration. However, where an audit is carried out for the Company or the ship for the purpose of issuing an Interim DOC or Interim SMC as described in 3.3.2 of the Rules , the day of completion of each audit may be regarded as the date of the ISM registration.'),\n",
       "  0.2882760315590841)]"
      ]
     },
     "execution_count": 53,
     "metadata": {},
     "output_type": "execute_result"
    }
   ],
   "source": [
    "%timeit\n",
    "db_path = \"./db/chroma_db_02\"\n",
    "vectorstore = Chroma(collection_name=\"collection_01\", persist_directory=db_path, embedding_function=OllamaEmbeddings(model=\"bge-m3:latest\"))\n",
    "query = 'according to \"iss\" manual, what is the \"noon report\" in iss system?'\n",
    "result = vectorstore.similarity_search_with_relevance_scores(query=query, k=3)\n",
    "result"
   ]
  },
  {
   "cell_type": "code",
   "execution_count": 18,
   "metadata": {},
   "outputs": [
    {
     "data": {
      "text/plain": [
       "[Document(metadata={'File Name': '370_RULES FOR THE AUDIT AND REGISTRATION OF SHIP SECURITY MANAGEMENT SYSTEMS_202406', 'File Path': '/content/drive/MyDrive/Rules/NK/370_RULES FOR THE AUDIT AND REGISTRATION OF SHIP SECURITY MANAGEMENT SYSTEMS_202406.pdf', 'First Division': 'Rules', 'Page': 10, 'Second Division': 'NK'}, page_content='This page explains 370_RULES FOR THE AUDIT AND REGISTRATION OF SHIP SECURITY MANAGEMENT SYSTEMS_202406, that belongs to catogories of Rules and NK./nto carry out any activities required by Chapter XI -2 of SOLAS  and ISPS Code Part A . (2) “Date of ISPS registration” means the date of the last day of the Initial Audit prescribed in 3.3.1 -1 of the Rules. However, when the Audit for issuing the Interim ISSC prescribed in 3.5-1(1) of the Rules is carried out in advance of the Initial Audit, it means the date of the last day of the Audit for issuing the Interim ISSC.  (3) “Ship security assessment” means an assessment of the risks of security incident around ships including identification of possible threats, weaknesses, existing security measures, procedures and operations, and key shipboard operations that are important to protect.  (4) “Ship security alert system” means an alert system prescribed in Regulation 6, Chapter XI -2 of SOLAS .'),\n",
       " Document(metadata={'File Name': 'RULES FOR THE CLASSIFICATION OF STEEL SHIPS_467-NR_PartC_2024-07', 'File Path': '/content/drive/MyDrive/Rules/BV/RULES FOR THE CLASSIFICATION OF STEEL SHIPS_467-NR_PartC_2024-07.pdf', 'First Division': 'Rules', 'Page': 592, 'Second Division': 'BV'}, page_content='This page explains RULES FOR THE CLASSIFICATION OF STEEL SHIPS_467-NR_PartC_2024-07, that belongs to catogories of Rules and BV./nth e applicable category for the system. Note 1: IEC/ISO31010 “Risk manageme nt Risk assessment techniques” may be used as guidance in order to determine method of ris k assessment. Verification: \\x81 For category I, II and III systems, the risk assessmen t report is to be upon request submitted for approval. 4.3.5 Define the ship’s system-architecture The System of Systems (SoS) is to be sp ecified and documented. This architecture specification prov ides the basis for category determination and development of the differ ent integrated systems by allocating functionality to individual systems and by identifying the main interfaces between the sy stems. It is also to serve as a basis for the testing of the integrated systems o n the ship level (see [4.3.7]). The ship’s system architecture is to at least contai n description of: \\x81 Overview of the total systems arch itecture (the syst em of systems) \\x81 Each system’s purpose and main functionality\\x81 Communication and in terface aspects'),\n",
       " Document(metadata={'File Name': 'DNV Rules for Classification of Ships _2016_64_Safety of Navigation for Naval Vessels', 'File Path': '/content/drive/MyDrive/Rules/DNV/DNV Rules for Classification of Ships _2016_64_Safety of Navigation for Naval Vessels.pdf', 'First Division': 'Rules', 'Page': 28, 'Second Division': 'DNV'}, page_content='This page explains DNV Rules for Classification of Ships _2016_64_Safety of Navigation for Naval Vessels, that belongs to catogories of Rules and DNV./nif certif ied in accordance with Sec.1 A402. ---e-n-d---of---G-u-i-d-a-n-c-e---n-o-t-e-- 302  Systems and equipment installed pr ior to the adoption of performance standards by the International Maritime Organization (IMO) may subsequently be exem pted from full comp liance with such standards at the discretion of the Society, having due regard to the re commended criteria adopted by the International Maritime Organization (IMO). However, for an electronic chart display and informa tion system (ECDIS) to be accepted as satisfying the chart carriage requirement of B1501, th at system shall conform to the relevant performance standards not inferior to those adop ted by the International Maritime Orga nization (IMO) in effect on the date of installation, or, for systems installed before 1 Ja nuary 1999, not inferior to the performance standards adopted by the International Maritime Orga nization (IMO) on 23 November 1995 *. Guidance note: See Sec.1 A300: * Recommendation on Performance')]"
      ]
     },
     "execution_count": 18,
     "metadata": {},
     "output_type": "execute_result"
    }
   ],
   "source": [
    "retriever = vectorstore.as_retriever(search_type=\"mmr\", search_kwargs={'k': 3, \"fetch_k\":5})\n",
    "retriever.invoke(query)"
   ]
  },
  {
   "cell_type": "code",
   "execution_count": 19,
   "metadata": {},
   "outputs": [
    {
     "data": {
      "text/html": [
       "<div>\n",
       "<style scoped>\n",
       "    .dataframe tbody tr th:only-of-type {\n",
       "        vertical-align: middle;\n",
       "    }\n",
       "\n",
       "    .dataframe tbody tr th {\n",
       "        vertical-align: top;\n",
       "    }\n",
       "\n",
       "    .dataframe thead th {\n",
       "        text-align: right;\n",
       "    }\n",
       "</style>\n",
       "<table border=\"1\" class=\"dataframe\">\n",
       "  <thead>\n",
       "    <tr style=\"text-align: right;\">\n",
       "      <th></th>\n",
       "      <th>ids</th>\n",
       "      <th>first_div</th>\n",
       "      <th>second_div</th>\n",
       "      <th>filename</th>\n",
       "      <th>documents</th>\n",
       "      <th>metadatas</th>\n",
       "    </tr>\n",
       "  </thead>\n",
       "  <tbody>\n",
       "    <tr>\n",
       "      <th>0</th>\n",
       "      <td>faace8c4-ab2c-43b4-9b4e-7fc15319bc78</td>\n",
       "      <td>MANUAL</td>\n",
       "      <td>Common</td>\n",
       "      <td>[KISA Insight 2023 Vol.03] ChatGPT(챗GPT) 보ᄋ...</td>\n",
       "      <td>This page explains [KISA Insight 2023 Vol.03] ...</td>\n",
       "      <td>{'File Name': '[KISA Insight 2023 Vol.03] Chat...</td>\n",
       "    </tr>\n",
       "    <tr>\n",
       "      <th>1</th>\n",
       "      <td>1a3d1b93-e5d3-4a96-990d-e4ba6b976e29</td>\n",
       "      <td>MANUAL</td>\n",
       "      <td>Common</td>\n",
       "      <td>[KISA Insight 2023 Vol.03] ChatGPT(챗GPT) 보ᄋ...</td>\n",
       "      <td>This page explains [KISA Insight 2023 Vol.03] ...</td>\n",
       "      <td>{'File Name': '[KISA Insight 2023 Vol.03] Chat...</td>\n",
       "    </tr>\n",
       "    <tr>\n",
       "      <th>2</th>\n",
       "      <td>f67ce384-3df7-4ffe-aa13-9d187d73cb13</td>\n",
       "      <td>MANUAL</td>\n",
       "      <td>Common</td>\n",
       "      <td>[KISA Insight 2023 Vol.03] ChatGPT(챗GPT) 보ᄋ...</td>\n",
       "      <td>This page explains [KISA Insight 2023 Vol.03] ...</td>\n",
       "      <td>{'File Name': '[KISA Insight 2023 Vol.03] Chat...</td>\n",
       "    </tr>\n",
       "    <tr>\n",
       "      <th>3</th>\n",
       "      <td>5f7bdc1f-deb2-4f3d-9afb-2eafbf5d5192</td>\n",
       "      <td>MANUAL</td>\n",
       "      <td>Common</td>\n",
       "      <td>[KISA Insight 2023 Vol.03] ChatGPT(챗GPT) 보ᄋ...</td>\n",
       "      <td>This page explains [KISA Insight 2023 Vol.03] ...</td>\n",
       "      <td>{'File Name': '[KISA Insight 2023 Vol.03] Chat...</td>\n",
       "    </tr>\n",
       "    <tr>\n",
       "      <th>4</th>\n",
       "      <td>5edec5fa-fdde-41e4-a688-b77fb1fb75c3</td>\n",
       "      <td>MANUAL</td>\n",
       "      <td>Common</td>\n",
       "      <td>[KISA Insight 2023 Vol.03] ChatGPT(챗GPT) 보ᄋ...</td>\n",
       "      <td>This page explains [KISA Insight 2023 Vol.03] ...</td>\n",
       "      <td>{'File Name': '[KISA Insight 2023 Vol.03] Chat...</td>\n",
       "    </tr>\n",
       "  </tbody>\n",
       "</table>\n",
       "</div>"
      ],
      "text/plain": [
       "                                    ids first_div second_div  \\\n",
       "0  faace8c4-ab2c-43b4-9b4e-7fc15319bc78    MANUAL     Common   \n",
       "1  1a3d1b93-e5d3-4a96-990d-e4ba6b976e29    MANUAL     Common   \n",
       "2  f67ce384-3df7-4ffe-aa13-9d187d73cb13    MANUAL     Common   \n",
       "3  5f7bdc1f-deb2-4f3d-9afb-2eafbf5d5192    MANUAL     Common   \n",
       "4  5edec5fa-fdde-41e4-a688-b77fb1fb75c3    MANUAL     Common   \n",
       "\n",
       "                                            filename  \\\n",
       "0  [KISA Insight 2023 Vol.03] ChatGPT(챗GPT) 보ᄋ...   \n",
       "1  [KISA Insight 2023 Vol.03] ChatGPT(챗GPT) 보ᄋ...   \n",
       "2  [KISA Insight 2023 Vol.03] ChatGPT(챗GPT) 보ᄋ...   \n",
       "3  [KISA Insight 2023 Vol.03] ChatGPT(챗GPT) 보ᄋ...   \n",
       "4  [KISA Insight 2023 Vol.03] ChatGPT(챗GPT) 보ᄋ...   \n",
       "\n",
       "                                           documents  \\\n",
       "0  This page explains [KISA Insight 2023 Vol.03] ...   \n",
       "1  This page explains [KISA Insight 2023 Vol.03] ...   \n",
       "2  This page explains [KISA Insight 2023 Vol.03] ...   \n",
       "3  This page explains [KISA Insight 2023 Vol.03] ...   \n",
       "4  This page explains [KISA Insight 2023 Vol.03] ...   \n",
       "\n",
       "                                           metadatas  \n",
       "0  {'File Name': '[KISA Insight 2023 Vol.03] Chat...  \n",
       "1  {'File Name': '[KISA Insight 2023 Vol.03] Chat...  \n",
       "2  {'File Name': '[KISA Insight 2023 Vol.03] Chat...  \n",
       "3  {'File Name': '[KISA Insight 2023 Vol.03] Chat...  \n",
       "4  {'File Name': '[KISA Insight 2023 Vol.03] Chat...  "
      ]
     },
     "execution_count": 19,
     "metadata": {},
     "output_type": "execute_result"
    }
   ],
   "source": [
    "def read_vectordb_as_df(db_path:str):\n",
    "    client = chromadb.PersistentClient(path=db_path)\n",
    "    for collection in client.list_collections():\n",
    "        data = collection.get(include=['embeddings', 'documents', 'metadatas'])\n",
    "        df = pd.DataFrame({\"ids\":data[\"ids\"], \n",
    "                            \"metadatas\":data[\"metadatas\"], \n",
    "                            \"documents\":data[\"documents\"]})\n",
    "        df[\"first_div\"] = df[\"metadatas\"].apply(lambda x: x[\"First Division\"])\n",
    "        df[\"second_div\"] = df[\"metadatas\"].apply(lambda x: x[\"Second Division\"])\n",
    "        df[\"filename\"] = df[\"metadatas\"].apply(lambda x: x[\"File Name\"])\n",
    "        df = df[[\"ids\", \"first_div\", \"second_div\",\"filename\",\"documents\", \"metadatas\"]]\n",
    "    return df\n",
    "\n",
    "df = read_vectordb_as_df(db_path=db_path)\n",
    "df.head()"
   ]
  },
  {
   "cell_type": "code",
   "execution_count": 20,
   "metadata": {},
   "outputs": [
    {
     "data": {
      "text/plain": [
       "['MANUAL',\n",
       " 'PORT',\n",
       " 'Rules',\n",
       " 'ABS',\n",
       " 'BV',\n",
       " 'Common',\n",
       " 'Cryostar',\n",
       " 'DNV',\n",
       " 'Integrated Smart Ship(ISS)',\n",
       " 'KR',\n",
       " 'LR',\n",
       " 'MARPOL',\n",
       " 'NK',\n",
       " 'Port Regulation',\n",
       " 'SOLAS',\n",
       " 'Win GD']"
      ]
     },
     "execution_count": 20,
     "metadata": {},
     "output_type": "execute_result"
    }
   ],
   "source": [
    "def get_first_div(db_path:str):\n",
    "    df = read_vectordb_as_df(db_path=db_path)\n",
    "    docs_list = df[\"first_div\"].unique().tolist()\n",
    "    docs_list.sort()\n",
    "    return docs_list\n",
    "\n",
    "def get_second_div(db_path:str):\n",
    "    df = read_vectordb_as_df(db_path=db_path)\n",
    "    docs_list = df[\"second_div\"].unique().tolist()\n",
    "    docs_list.sort()\n",
    "    return docs_list\n",
    "\n",
    "rag_target1 = get_first_div(db_path=db_path)\n",
    "rag_target2 = get_second_div(db_path=db_path)\n",
    "rag_target = rag_target1 + rag_target2\n",
    "rag_target"
   ]
  },
  {
   "cell_type": "code",
   "execution_count": 21,
   "metadata": {},
   "outputs": [
    {
     "data": {
      "text/plain": [
       "'vectordb, vectorstore, MANUAL, PORT, Rules, ABS, BV, Common, Cryostar, DNV, Integrated Smart Ship(ISS), KR, LR, MARPOL, NK, Port Regulation, SOLAS, Win GD'"
      ]
     },
     "execution_count": 21,
     "metadata": {},
     "output_type": "execute_result"
    }
   ],
   "source": [
    "rag_target.insert(0, \"vectorstore\")\n",
    "rag_target.insert(0, \"vectordb\")\n",
    "docs = \", \".join(rag_target)\n",
    "docs"
   ]
  },
  {
   "cell_type": "markdown",
   "metadata": {},
   "source": [
    "## Router"
   ]
  },
  {
   "cell_type": "code",
   "execution_count": 22,
   "metadata": {},
   "outputs": [
    {
     "data": {
      "text/plain": [
       "ChatPromptTemplate(input_variables=['question'], input_types={}, partial_variables={}, messages=[SystemMessagePromptTemplate(prompt=PromptTemplate(input_variables=[], input_types={}, partial_variables={}, template='You are an expert at routing a user question to a vectorstore, web search or database.\\nThe vectorstore contains documents related to vectordb, vectorstore, MANUAL, PORT, Rules, ABS, BV, Common, Cryostar, DNV, Integrated Smart Ship(ISS), KR, LR, MARPOL, NK, Port Regulation, SOLAS, Win GD.\\nUse the vectorstore for questions on these topics. \\nThe question contains words related to database.\\nUse the database for questions on these topics. \\nOtherwise, use web-search.'), additional_kwargs={}), HumanMessagePromptTemplate(prompt=PromptTemplate(input_variables=['question'], input_types={}, partial_variables={}, template='{question}'), additional_kwargs={})])"
      ]
     },
     "execution_count": 22,
     "metadata": {},
     "output_type": "execute_result"
    }
   ],
   "source": [
    "# Data model for Structured LLM\n",
    "class RouteQuery(BaseModel):\n",
    "    \"\"\"Route a user query to the most relevant datasource.\"\"\"\n",
    "\n",
    "    datasource: Literal[\"vectorstore\", \"web_search\", \"database\"] = Field(\n",
    "        ...,\n",
    "        description=\"Given a user question choose to route it to web search or a vectorstore or a database.\",\n",
    "    )\n",
    "\n",
    "# Prompt\n",
    "system = f\"\"\"You are an expert at routing a user question to a vectorstore, web search or database.\n",
    "The vectorstore contains documents related to {docs}.\n",
    "Use the vectorstore for questions on these topics. \n",
    "The question contains words related to database.\n",
    "Use the database for questions on these topics. \n",
    "Otherwise, use web-search.\"\"\"\n",
    "route_prompt = ChatPromptTemplate.from_messages(\n",
    "    [\n",
    "        (\"system\", system),\n",
    "        (\"human\", \"{question}\"),\n",
    "    ]\n",
    ")\n",
    "route_prompt"
   ]
  },
  {
   "cell_type": "code",
   "execution_count": 23,
   "metadata": {},
   "outputs": [
    {
     "data": {
      "text/plain": [
       "ChatPromptTemplate(input_variables=['question'], input_types={}, partial_variables={}, messages=[SystemMessagePromptTemplate(prompt=PromptTemplate(input_variables=[], input_types={}, partial_variables={}, template='You are an expert at routing a user question to a vectorstore, web search or database.\\nThe vectorstore contains documents related to vectordb, vectorstore, MANUAL, PORT, Rules, ABS, BV, Common, Cryostar, DNV, Integrated Smart Ship(ISS), KR, LR, MARPOL, NK, Port Regulation, SOLAS, Win GD.\\nUse the vectorstore for questions on these topics. \\nThe question contains words related to database.\\nUse the database for questions on these topics. \\nOtherwise, use web-search.'), additional_kwargs={}), HumanMessagePromptTemplate(prompt=PromptTemplate(input_variables=['question'], input_types={}, partial_variables={}, template='{question}'), additional_kwargs={})])\n",
       "| RunnableBinding(bound=ChatGroq(client=<groq.resources.chat.completions.Completions object at 0x000001BC4B880380>, async_client=<groq.resources.chat.completions.AsyncCompletions object at 0x000001BC4B880890>, model_name='llama-3.2-11b-text-preview', temperature=1e-08, model_kwargs={}, groq_api_key=SecretStr('**********')), kwargs={'tools': [{'type': 'function', 'function': {'name': 'RouteQuery', 'description': 'Route a user query to the most relevant datasource.', 'parameters': {'properties': {'datasource': {'description': 'Given a user question choose to route it to web search or a vectorstore or a database.', 'enum': ['vectorstore', 'web_search', 'database'], 'type': 'string'}}, 'required': ['datasource'], 'type': 'object'}}}], 'tool_choice': {'type': 'function', 'function': {'name': 'RouteQuery'}}}, config={}, config_factories=[])\n",
       "| PydanticToolsParser(first_tool_only=True, tools=[<class '__main__.RouteQuery'>])"
      ]
     },
     "execution_count": 23,
     "metadata": {},
     "output_type": "execute_result"
    }
   ],
   "source": [
    "structured_llm_router = llm.with_structured_output(RouteQuery)\n",
    "question_router = route_prompt | structured_llm_router\n",
    "question_router"
   ]
  },
  {
   "cell_type": "code",
   "execution_count": 24,
   "metadata": {},
   "outputs": [
    {
     "name": "stdout",
     "output_type": "stream",
     "text": [
      "datasource='web_search'\n",
      "datasource='database'\n",
      "datasource='vectorstore'\n"
     ]
    }
   ],
   "source": [
    "%timeit\n",
    "# print(question_router.invoke({\"question\": \"what is eda?\"}))\n",
    "# print(question_router.invoke({\"question\": \"according to vectorstore, what is eda?\"}))\n",
    "# print(question_router.invoke({\"question\": \"according to rule, what is eda?\"}))  # 살짝 다르게\n",
    "# print(question_router.invoke({\"question\": \"according to menual, what is eda?\"}))  # 일부러 오타\n",
    "# print(question_router.invoke({\"question\": \"summaize RESOLUTION MEPC.248(66) with reference to rules\"}))\n",
    "print(question_router.invoke({\"question\": \"who is Son Heung-min\"}))\n",
    "print(question_router.invoke({\"question\": \"according to database, who is Son Heung-min\"}))\n",
    "print(question_router.invoke({\"question\": \"according to vectordb, who is Son Heung-min\"}))"
   ]
  },
  {
   "cell_type": "code",
   "execution_count": 25,
   "metadata": {},
   "outputs": [
    {
     "name": "stdout",
     "output_type": "stream",
     "text": [
      "datasource='vectorstore'\n"
     ]
    }
   ],
   "source": [
    "# question = \"according to lr rule, explain about ships with installed process plant for chemicals\"\n",
    "question = query\n",
    "print(question_router.invoke({\"question\": question}))"
   ]
  },
  {
   "cell_type": "markdown",
   "metadata": {},
   "source": [
    "# Retrieval"
   ]
  },
  {
   "cell_type": "code",
   "execution_count": 31,
   "metadata": {},
   "outputs": [
    {
     "name": "stdout",
     "output_type": "stream",
     "text": [
      "100\n",
      "1\n",
      "1\n"
     ]
    },
    {
     "data": {
      "text/plain": [
       "[Document(metadata={'File Name': 'Integrated Smart Ship(ISS1.0)', 'File Path': '/content/drive/MyDrive/MANUAL/Integrated Smart Ship(ISS)/Integrated Smart Ship(ISS1.0).pdf', 'First Division': 'MANUAL', 'Page': 63, 'Second Division': 'Integrated Smart Ship(ISS)'}, page_content='This page explains Integrated Smart Ship(ISS1.0), that belongs to catogories of MANUAL and Integrated Smart Ship(ISS)./nAPPENDIX     63  \"Comparison\" button ( Area ② of Figure 64 ). The \"Comparison\" button, as illustrated in Figure 65, provides functionality to compare the sensor data values before the changes and the values modified by the ISS user.   Figure 64. Noon Report Confirm   Figure 65. Noon Report Comparison  Finally, there is a characteristic of issuing the Noon Report at noon, which entails the possibility of entering data values measured from the ship\\'s sensors into the report. The scenarios are as follows:  1. 00:00 ~ 12:00 : Enter real -time ship sensor data in to the report. (Applies to both the initial')]"
      ]
     },
     "execution_count": 31,
     "metadata": {},
     "output_type": "execute_result"
    }
   ],
   "source": [
    "%timeit\n",
    "docs = get_semantic_search_docs(query=query, vectorstore=vectorstore, k=100, fetch_k=200)\n",
    "print(len(docs))\n",
    "docs = get_bm25_top_docs(query=query, documents=result, top_k=20)\n",
    "print(len(docs))\n",
    "docs = get_keywords_matched_docs(query=query, documents=result, and_condition=True)\n",
    "print(len(docs))\n",
    "docs"
   ]
  },
  {
   "cell_type": "code",
   "execution_count": null,
   "metadata": {},
   "outputs": [],
   "source": [
    "# %timeit\n",
    "# docs = retriever.invoke(question)\n",
    "# docs"
   ]
  },
  {
   "cell_type": "markdown",
   "metadata": {},
   "source": [
    "## Retrieval Grader"
   ]
  },
  {
   "cell_type": "code",
   "execution_count": 32,
   "metadata": {},
   "outputs": [],
   "source": [
    "# Data model\n",
    "class GradeDocuments(BaseModel):\n",
    "    \"\"\"Binary score for relevance check on retrieved documents.\"\"\"\n",
    "\n",
    "    binary_score: str = Field(\n",
    "        description=\"Documents are relevant to the question, 'yes' or 'no'\"\n",
    "    )\n",
    "\n",
    "# Prompt\n",
    "system = \"\"\"You are a grader assessing relevance of a retrieved document to a user question. \\n \n",
    "    If the document contains keyword(s) or semantic meaning related to the user question, grade it as relevant. \\n\n",
    "    It does not need to be a stringent test. The goal is to filter out erroneous retrievals. \\n\n",
    "    Give a binary score 'yes' or 'no' score to indicate whether the document is relevant to the question.\"\"\"\n",
    "grade_prompt = ChatPromptTemplate.from_messages(\n",
    "    [\n",
    "        (\"system\", system),\n",
    "        (\"human\", \"Retrieved document: \\n\\n {document} \\n\\n User question: {question}\"),\n",
    "    ]\n",
    ")"
   ]
  },
  {
   "cell_type": "code",
   "execution_count": 33,
   "metadata": {},
   "outputs": [
    {
     "data": {
      "text/plain": [
       "ChatPromptTemplate(input_variables=['document', 'question'], input_types={}, partial_variables={}, messages=[SystemMessagePromptTemplate(prompt=PromptTemplate(input_variables=[], input_types={}, partial_variables={}, template=\"You are a grader assessing relevance of a retrieved document to a user question. \\n \\n    If the document contains keyword(s) or semantic meaning related to the user question, grade it as relevant. \\n\\n    It does not need to be a stringent test. The goal is to filter out erroneous retrievals. \\n\\n    Give a binary score 'yes' or 'no' score to indicate whether the document is relevant to the question.\"), additional_kwargs={}), HumanMessagePromptTemplate(prompt=PromptTemplate(input_variables=['document', 'question'], input_types={}, partial_variables={}, template='Retrieved document: \\n\\n {document} \\n\\n User question: {question}'), additional_kwargs={})])\n",
       "| RunnableBinding(bound=ChatGroq(client=<groq.resources.chat.completions.Completions object at 0x000001BC4B880380>, async_client=<groq.resources.chat.completions.AsyncCompletions object at 0x000001BC4B880890>, model_name='llama-3.2-11b-text-preview', temperature=1e-08, model_kwargs={}, groq_api_key=SecretStr('**********')), kwargs={'tools': [{'type': 'function', 'function': {'name': 'GradeDocuments', 'description': 'Binary score for relevance check on retrieved documents.', 'parameters': {'properties': {'binary_score': {'description': \"Documents are relevant to the question, 'yes' or 'no'\", 'type': 'string'}}, 'required': ['binary_score'], 'type': 'object'}}}], 'tool_choice': {'type': 'function', 'function': {'name': 'GradeDocuments'}}}, config={}, config_factories=[])\n",
       "| PydanticToolsParser(first_tool_only=True, tools=[<class '__main__.GradeDocuments'>])"
      ]
     },
     "execution_count": 33,
     "metadata": {},
     "output_type": "execute_result"
    }
   ],
   "source": [
    "structured_llm_grader = llm.with_structured_output(GradeDocuments)\n",
    "retrieval_grader = grade_prompt | structured_llm_grader\n",
    "retrieval_grader"
   ]
  },
  {
   "cell_type": "code",
   "execution_count": 34,
   "metadata": {},
   "outputs": [
    {
     "data": {
      "text/plain": [
       "'yes'"
      ]
     },
     "execution_count": 34,
     "metadata": {},
     "output_type": "execute_result"
    }
   ],
   "source": [
    "doc_txt = docs[0].page_content\n",
    "result = retrieval_grader.invoke({\"question\": question, \"document\": doc_txt})\n",
    "result.binary_score"
   ]
  },
  {
   "cell_type": "code",
   "execution_count": 35,
   "metadata": {},
   "outputs": [
    {
     "data": {
      "text/plain": [
       "[]"
      ]
     },
     "execution_count": 35,
     "metadata": {},
     "output_type": "execute_result"
    }
   ],
   "source": [
    "%timeit\n",
    "grade_no_docs = [doc for doc in docs if retrieval_grader.invoke({\"question\": question, \"document\": doc}).binary_score == 'no']\n",
    "grade_no_docs"
   ]
  },
  {
   "cell_type": "code",
   "execution_count": 36,
   "metadata": {},
   "outputs": [
    {
     "data": {
      "text/plain": [
       "[Document(metadata={'File Name': 'Integrated Smart Ship(ISS1.0)', 'File Path': '/content/drive/MyDrive/MANUAL/Integrated Smart Ship(ISS)/Integrated Smart Ship(ISS1.0).pdf', 'First Division': 'MANUAL', 'Page': 63, 'Second Division': 'Integrated Smart Ship(ISS)'}, page_content='This page explains Integrated Smart Ship(ISS1.0), that belongs to catogories of MANUAL and Integrated Smart Ship(ISS)./nAPPENDIX     63  \"Comparison\" button ( Area ② of Figure 64 ). The \"Comparison\" button, as illustrated in Figure 65, provides functionality to compare the sensor data values before the changes and the values modified by the ISS user.   Figure 64. Noon Report Confirm   Figure 65. Noon Report Comparison  Finally, there is a characteristic of issuing the Noon Report at noon, which entails the possibility of entering data values measured from the ship\\'s sensors into the report. The scenarios are as follows:  1. 00:00 ~ 12:00 : Enter real -time ship sensor data in to the report. (Applies to both the initial')]"
      ]
     },
     "execution_count": 36,
     "metadata": {},
     "output_type": "execute_result"
    }
   ],
   "source": [
    "%timeit\n",
    "grade_yes_docs = [doc for doc in docs if retrieval_grader.invoke({\"question\": question, \"document\": doc}).binary_score == 'yes']\n",
    "grade_yes_docs"
   ]
  },
  {
   "cell_type": "markdown",
   "metadata": {},
   "source": [
    "## Generate"
   ]
  },
  {
   "cell_type": "code",
   "execution_count": 37,
   "metadata": {},
   "outputs": [
    {
     "data": {
      "text/plain": [
       "ChatPromptTemplate(input_variables=['context', 'question'], input_types={}, partial_variables={}, messages=[HumanMessagePromptTemplate(prompt=PromptTemplate(input_variables=['context', 'question'], input_types={}, partial_variables={}, template=\"You are a knowledgable shipbuilding engineer for technical question-answering tasks. \\n    Use the following pieces of retrieved context to answer the question. \\n    Generate detailed answer including specified numbers, fomulas in the point of technical specifications. \\n    If you don't know the answer, just say that you don't know. \\n    Question: {question} \\n    Context: {context} \\n    Answer:\"), additional_kwargs={})])"
      ]
     },
     "execution_count": 37,
     "metadata": {},
     "output_type": "execute_result"
    }
   ],
   "source": [
    "# Prompt   (rlm/rag-prompt)\n",
    "from langchain import hub\n",
    "prompt = ChatPromptTemplate.from_messages([\n",
    "    (\"human\", \n",
    "    \"\"\"You are a knowledgable shipbuilding engineer for technical question-answering tasks. \n",
    "    Use the following pieces of retrieved context to answer the question. \n",
    "    Generate detailed answer including specified numbers, fomulas in the point of technical specifications. \n",
    "    If you don't know the answer, just say that you don't know. \n",
    "    Question: {question} \n",
    "    Context: {context} \n",
    "    Answer:\"\"\"),\n",
    "    ])\n",
    "prompt"
   ]
  },
  {
   "cell_type": "code",
   "execution_count": 38,
   "metadata": {},
   "outputs": [],
   "source": [
    "# Post-processing\n",
    "def format_docs(docs):\n",
    "    return \"\\n\\n\".join(doc.page_content for doc in docs)\n",
    "\n",
    "# pprint(len(grade_yes_docs))\n",
    "# docs = format_docs(docs)\n",
    "# pprint(docs)"
   ]
  },
  {
   "cell_type": "code",
   "execution_count": 39,
   "metadata": {},
   "outputs": [
    {
     "name": "stdout",
     "output_type": "stream",
     "text": [
      "According to the \"ISS\" manual, the \"Noon Report\" in the \"ISS System\" refers to a report that is issued at noon, which entails the possibility of entering data values measured from the ship's sensors into the report.\n",
      "\n",
      "The report can be entered in real-time from 00:00 to 12:00, and it applies to both the initial and modified data values. This means that the ISS user can enter the sensor data values before the changes and the values modified by the ISS user.\n",
      "\n",
      "In terms of technical specifications, the Noon Report can be considered as a data entry process that involves the following steps:\n",
      "\n",
      "1. Data collection: The ship's sensors collect data from 00:00 to 12:00.\n",
      "2. Data entry: The ISS user enters the collected data into the report.\n",
      "3. Data comparison: The ISS system provides a comparison functionality to compare the sensor data values before the changes and the values modified by the ISS user.\n",
      "\n",
      "The Noon Report can be used to track and record the ship's sensor data values at noon, which can be useful for monitoring and analyzing the ship's performance and condition.\n",
      "\n",
      "In terms of formulas, there are no specific mathematical formulas mentioned in the context. However, the following formula can be used to calculate the time available for data entry:\n",
      "\n",
      "Time available for data entry = 12 hours (from 00:00 to 12:00)\n",
      "\n",
      "This formula can be used to determine the time window during which the ISS user can enter the sensor data values into the report.\n",
      "\n",
      "In terms of technical specifications, the Noon Report can be considered as a data entry process that involves the following technical specifications:\n",
      "\n",
      "* Data entry time: 00:00 to 12:00\n",
      "* Data entry frequency: Real-time\n",
      "* Data entry method: Manual entry by ISS user\n",
      "* Data comparison functionality: Provided by ISS system\n",
      "\n",
      "Overall, the Noon Report is an important feature of the ISS system that allows the ISS user to track and record the ship's sensor data values at noon.\n"
     ]
    }
   ],
   "source": [
    "%timeit\n",
    "rag_chain = prompt | llm | StrOutputParser()\n",
    "generation = rag_chain.invoke({\"context\": grade_yes_docs, \"question\": question})\n",
    "print(generation)"
   ]
  },
  {
   "cell_type": "markdown",
   "metadata": {},
   "source": [
    "## Hallucination Grader"
   ]
  },
  {
   "cell_type": "code",
   "execution_count": 40,
   "metadata": {},
   "outputs": [],
   "source": [
    "# Data model\n",
    "class GradeHallucinations(BaseModel):\n",
    "    \"\"\"Binary score for hallucination present in generation answer.\"\"\"\n",
    "\n",
    "    binary_score: str = Field(\n",
    "        description=\"Answer is grounded in the facts, 'yes' or 'no'\"\n",
    "    )\n",
    "\n",
    "# Prompt\n",
    "system = \"\"\"You are a grader assessing whether an LLM generation is grounded in / supported by a set of retrieved facts. \\n \n",
    "     Give a binary score 'yes' or 'no'. 'Yes' means that the answer is grounded in / supported by the set of facts.\"\"\"\n",
    "hallucination_prompt = ChatPromptTemplate.from_messages(\n",
    "    [\n",
    "        (\"system\", system),\n",
    "        (\"human\", \"Set of facts: \\n\\n {documents} \\n\\n LLM generation: {generation}\"),\n",
    "    ]\n",
    ")"
   ]
  },
  {
   "cell_type": "code",
   "execution_count": 41,
   "metadata": {},
   "outputs": [
    {
     "name": "stdout",
     "output_type": "stream",
     "text": [
      "binary_score='yes'\n"
     ]
    }
   ],
   "source": [
    "%timeit\n",
    "structured_llm_grader = llm.with_structured_output(GradeHallucinations)\n",
    "hallucination_grader = hallucination_prompt | structured_llm_grader\n",
    "result = hallucination_grader.invoke({\"documents\": docs, \"generation\": generation})\n",
    "print(result)"
   ]
  },
  {
   "cell_type": "markdown",
   "metadata": {},
   "source": [
    "## Answer Grader"
   ]
  },
  {
   "cell_type": "code",
   "execution_count": 42,
   "metadata": {},
   "outputs": [],
   "source": [
    "# Data model\n",
    "class GradeAnswer(BaseModel):\n",
    "    \"\"\"Binary score to assess answer addresses question.\"\"\"\n",
    "    binary_score: str = Field(\n",
    "        description=\"Answer addresses the question, 'yes' or 'no'\"\n",
    "    )\n",
    "\n",
    "# Prompt\n",
    "system = \"\"\"You are a grader assessing whether an answer addresses / resolves a question \\n \n",
    "     Give a binary score 'yes' or 'no'. Yes' means that the answer resolves the question.\"\"\"\n",
    "answer_prompt = ChatPromptTemplate.from_messages(\n",
    "    [\n",
    "        (\"system\", system),\n",
    "        (\"human\", \"User question: \\n\\n {question} \\n\\n LLM generation: {generation}\"),\n",
    "    ]\n",
    ")"
   ]
  },
  {
   "cell_type": "code",
   "execution_count": 43,
   "metadata": {},
   "outputs": [
    {
     "data": {
      "text/plain": [
       "GradeAnswer(binary_score='yes')"
      ]
     },
     "execution_count": 43,
     "metadata": {},
     "output_type": "execute_result"
    }
   ],
   "source": [
    "%timeit\n",
    "structured_llm_grader = llm.with_structured_output(GradeAnswer)\n",
    "answer_grader = answer_prompt | structured_llm_grader\n",
    "answer_grader.invoke({\"question\": question, \"generation\": generation})"
   ]
  },
  {
   "cell_type": "markdown",
   "metadata": {},
   "source": [
    "## Question Re-Writer"
   ]
  },
  {
   "cell_type": "code",
   "execution_count": 56,
   "metadata": {},
   "outputs": [
    {
     "data": {
      "text/plain": [
       "'Here\\'s an improved version of the question optimized for vectorstore retrieval:\\n\\n\"What is the definition of \\'noon report\\' in the context of ISS (International Space Station) system, as per the ISS manual documentation?\"\\n\\nThis improved question:\\n\\n1. Uses more specific and descriptive terms like \"definition\" and \"context\" to capture the semantic intent.\\n2. Includes the acronym \"ISS\" to disambiguate the search space.\\n3. Specifies the source of the information (\"ISS manual documentation\") to help the vectorstore retrieve relevant documents.\\n4. Uses a more formal and structured language to make it easier for the vectorstore to understand the question.\\n\\nThis reformulation should help the vectorstore retrieve more accurate and relevant results.'"
      ]
     },
     "execution_count": 56,
     "metadata": {},
     "output_type": "execute_result"
    }
   ],
   "source": [
    "# Prompt\n",
    "system = \"\"\"You a question re-writer that converts an input question to a better version that is optimized \\n \n",
    "     for vectorstore retrieval. Look at the input and try to reason about the underlying semantic intent / meaning.\"\"\"\n",
    "re_write_prompt = ChatPromptTemplate.from_messages(\n",
    "    [\n",
    "        (\"system\", system),\n",
    "        (\n",
    "            \"human\",\n",
    "            \"Here is the initial question: \\n\\n {question} \\n Formulate an improved question.\",\n",
    "        ),\n",
    "    ]\n",
    ")\n",
    "%timeit\n",
    "question_rewriter = re_write_prompt | llm | StrOutputParser()\n",
    "question_rewriter.invoke({\"question\": question})"
   ]
  },
  {
   "cell_type": "markdown",
   "metadata": {},
   "source": [
    "## Web Search Tool"
   ]
  },
  {
   "cell_type": "code",
   "execution_count": 44,
   "metadata": {},
   "outputs": [
    {
     "data": {
      "text/plain": [
       "TavilySearchResults(api_wrapper=TavilySearchAPIWrapper(tavily_api_key=SecretStr('**********')))"
      ]
     },
     "execution_count": 44,
     "metadata": {},
     "output_type": "execute_result"
    }
   ],
   "source": [
    "from langchain_community.tools.tavily_search import TavilySearchResults\n",
    "\n",
    "web_search_tool = TavilySearchResults(k=3)\n",
    "web_search_tool"
   ]
  },
  {
   "cell_type": "markdown",
   "metadata": {},
   "source": [
    "## Construct Graph"
   ]
  },
  {
   "cell_type": "code",
   "execution_count": 45,
   "metadata": {},
   "outputs": [],
   "source": [
    "from typing import List\n",
    "from typing_extensions import TypedDict\n",
    "\n",
    "class GraphState(TypedDict):\n",
    "    \"\"\"\n",
    "    Represents the state of our graph.\n",
    "\n",
    "    Attributes:\n",
    "        question: question\n",
    "        generation: LLM generation\n",
    "        documents: list of documents\n",
    "    \"\"\"\n",
    "    question: str\n",
    "    generation: str\n",
    "    documents: List[str]"
   ]
  },
  {
   "cell_type": "code",
   "execution_count": null,
   "metadata": {},
   "outputs": [],
   "source": [
    "from langchain.schema import Document\n",
    "# Nodes\n",
    "\n",
    "def retrieve(state):\n",
    "    \"\"\"\n",
    "    Retrieve documents\n",
    "\n",
    "    Args:\n",
    "        state (dict): The current graph state\n",
    "\n",
    "    Returns:\n",
    "        state (dict): New key added to state, documents, that contains retrieved documents\n",
    "    \"\"\"\n",
    "    print(\"---RETRIEVE---\")\n",
    "    question = state[\"question\"]\n",
    "\n",
    "    # Retrieval\n",
    "    # documents = retriever.invoke(question)\n",
    "    # print(documents)\n",
    "    documents = get_semantic_search_docs(query=query, vectorstore=vectorstore, k=100, fetch_k=200)\n",
    "    documents = get_bm25_top_docs(query=query, documents=result, top_k=20)\n",
    "    documents = get_keywords_matched_docs(query=query, documents=result, and_condition=True)\n",
    "    documents\n",
    "    return {\"documents\": documents, \"question\": question}\n",
    "\n",
    "\n",
    "def generate(state):\n",
    "    \"\"\"\n",
    "    Generate answer\n",
    "\n",
    "    Args:\n",
    "        state (dict): The current graph state\n",
    "\n",
    "    Returns:\n",
    "        state (dict): New key added to state, generation, that contains LLM generation\n",
    "    \"\"\"\n",
    "    print(\"---GENERATE---\")\n",
    "    question = state[\"question\"]\n",
    "    documents = state[\"documents\"]\n",
    "\n",
    "    # RAG generation\n",
    "    generation = rag_chain.invoke({\"context\": documents, \"question\": question})\n",
    "    return {\"documents\": documents, \"question\": question, \"generation\": generation}\n",
    "\n",
    "\n",
    "def grade_documents(state):\n",
    "    \"\"\"\n",
    "    Determines whether the retrieved documents are relevant to the question.\n",
    "\n",
    "    Args:\n",
    "        state (dict): The current graph state\n",
    "\n",
    "    Returns:\n",
    "        state (dict): Updates documents key with only filtered relevant documents\n",
    "    \"\"\"\n",
    "\n",
    "    print(\"---CHECK DOCUMENT RELEVANCE TO QUESTION---\")\n",
    "    question = state[\"question\"]\n",
    "    documents = state[\"documents\"]\n",
    "\n",
    "    # Score each doc\n",
    "    filtered_docs = []\n",
    "    for d in documents:\n",
    "        score = retrieval_grader.invoke(\n",
    "            {\"question\": question, \"document\": d.page_content}\n",
    "        )\n",
    "        grade = score.binary_score\n",
    "        if grade == \"yes\":\n",
    "            print(\"---GRADE: DOCUMENT RELEVANT---\")\n",
    "            filtered_docs.append(d)\n",
    "        else:\n",
    "            print(\"---GRADE: DOCUMENT NOT RELEVANT---\")\n",
    "            continue\n",
    "    return {\"documents\": filtered_docs, \"question\": question}\n",
    "\n",
    "\n",
    "def transform_query(state):\n",
    "    \"\"\"\n",
    "    Transform the query to produce a better question.\n",
    "\n",
    "    Args:\n",
    "        state (dict): The current graph state\n",
    "\n",
    "    Returns:\n",
    "        state (dict): Updates question key with a re-phrased question\n",
    "    \"\"\"\n",
    "\n",
    "    print(\"---TRANSFORM QUERY---\")\n",
    "    question = state[\"question\"]\n",
    "    documents = state[\"documents\"]\n",
    "\n",
    "    # Re-write question\n",
    "    better_question = question_rewriter.invoke({\"question\": question})\n",
    "    return {\"documents\": documents, \"question\": better_question}\n",
    "\n",
    "\n",
    "def web_search(state):\n",
    "    \"\"\"\n",
    "    Web search based on the re-phrased question.\n",
    "\n",
    "    Args:\n",
    "        state (dict): The current graph state\n",
    "\n",
    "    Returns:\n",
    "        state (dict): Updates documents key with appended web results\n",
    "    \"\"\"\n",
    "\n",
    "    print(\"---WEB SEARCH---\")\n",
    "    question = state[\"question\"]\n",
    "\n",
    "    # Web search\n",
    "    docs = web_search_tool.invoke({\"query\": question})\n",
    "    web_results = \"\\n\".join([d[\"content\"] for d in docs])\n",
    "    web_results = Document(page_content=web_results)\n",
    "\n",
    "    return {\"documents\": web_results, \"question\": question}\n",
    "\n",
    "\n",
    "### Edges ###\n",
    "def route_question(state):\n",
    "    \"\"\"\n",
    "    Route question to web search or RAG.\n",
    "\n",
    "    Args:\n",
    "        state (dict): The current graph state\n",
    "\n",
    "    Returns:\n",
    "        str: Next node to call\n",
    "    \"\"\"\n",
    "\n",
    "    print(\"---ROUTE QUESTION---\")\n",
    "    question = state[\"question\"]\n",
    "    source = question_router.invoke({\"question\": question})\n",
    "    if source.datasource == \"web_search\":\n",
    "        print(\"---ROUTE QUESTION TO WEB SEARCH---\")\n",
    "        return \"web_search\"\n",
    "    elif source.datasource == \"vectorstore\":\n",
    "        print(\"---ROUTE QUESTION TO RAG---\")\n",
    "        return \"vectorstore\"\n",
    "\n",
    "\n",
    "def decide_to_generate(state):\n",
    "    \"\"\"\n",
    "    Determines whether to generate an answer, or re-generate a question.\n",
    "\n",
    "    Args:\n",
    "        state (dict): The current graph state\n",
    "\n",
    "    Returns:\n",
    "        str: Binary decision for next node to call\n",
    "    \"\"\"\n",
    "\n",
    "    print(\"---ASSESS GRADED DOCUMENTS---\")\n",
    "    state[\"question\"]\n",
    "    filtered_documents = state[\"documents\"]\n",
    "\n",
    "    if not filtered_documents:\n",
    "        # All documents have been filtered check_relevance\n",
    "        # We will re-generate a new query\n",
    "        print(\n",
    "            \"---DECISION: ALL DOCUMENTS ARE NOT RELEVANT TO QUESTION, TRANSFORM QUERY---\"\n",
    "        )\n",
    "        return \"transform_query\"\n",
    "    else:\n",
    "        # We have relevant documents, so generate answer\n",
    "        print(\"---DECISION: GENERATE---\")\n",
    "        return \"generate\"\n",
    "\n",
    "\n",
    "def grade_generation_v_documents_and_question(state):\n",
    "    \"\"\"\n",
    "    Determines whether the generation is grounded in the document and answers question.\n",
    "\n",
    "    Args:\n",
    "        state (dict): The current graph state\n",
    "\n",
    "    Returns:\n",
    "        str: Decision for next node to call\n",
    "    \"\"\"\n",
    "\n",
    "    print(\"---CHECK HALLUCINATIONS---\")\n",
    "    question = state[\"question\"]\n",
    "    documents = state[\"documents\"]\n",
    "    generation = state[\"generation\"]\n",
    "\n",
    "    score = hallucination_grader.invoke(\n",
    "        {\"documents\": documents, \"generation\": generation}\n",
    "    )\n",
    "    grade = score.binary_score\n",
    "\n",
    "    # Check hallucination\n",
    "    if grade == \"yes\":\n",
    "        print(\"---DECISION: GENERATION IS GROUNDED IN DOCUMENTS---\")\n",
    "        # Check question-answering\n",
    "        print(\"---GRADE GENERATION vs QUESTION---\")\n",
    "        score = answer_grader.invoke({\"question\": question, \"generation\": generation})\n",
    "        grade = score.binary_score\n",
    "        if grade == \"yes\":\n",
    "            print(\"---DECISION: GENERATION ADDRESSES QUESTION---\")\n",
    "            return \"useful\"\n",
    "        else:\n",
    "            print(\"---DECISION: GENERATION DOES NOT ADDRESS QUESTION---\")\n",
    "            return \"not useful\"\n",
    "    else:\n",
    "        print(\"---DECISION: GENERATION IS NOT GROUNDED IN DOCUMENTS, RE-TRY---\")\n",
    "        return \"not supported\""
   ]
  },
  {
   "cell_type": "markdown",
   "metadata": {},
   "source": [
    "## Compile Graph"
   ]
  },
  {
   "cell_type": "code",
   "execution_count": 47,
   "metadata": {},
   "outputs": [
    {
     "data": {
      "text/plain": [
       "<langgraph.graph.state.CompiledStateGraph at 0x1bc591bb920>"
      ]
     },
     "execution_count": 47,
     "metadata": {},
     "output_type": "execute_result"
    }
   ],
   "source": [
    "from langgraph.graph import StateGraph, START, END\n",
    "\n",
    "workflow = StateGraph(GraphState)\n",
    "\n",
    "# Define the nodes\n",
    "workflow.add_node(\"web_search\", web_search)  # web search\n",
    "workflow.add_node(\"retrieve\", retrieve)  # retrieve\n",
    "workflow.add_node(\"grade_documents\", grade_documents)  # grade documents\n",
    "workflow.add_node(\"generate\", generate)  # generatae\n",
    "workflow.add_node(\"transform_query\", transform_query)  # transform_query\n",
    "\n",
    "# Build graph\n",
    "workflow.add_conditional_edges(\n",
    "    START,\n",
    "    route_question,\n",
    "    {\n",
    "        \"web_search\": \"web_search\",\n",
    "        \"vectorstore\": \"retrieve\",\n",
    "    },\n",
    ")\n",
    "workflow.add_edge(\"web_search\", \"generate\")\n",
    "workflow.add_edge(\"retrieve\", \"grade_documents\")\n",
    "workflow.add_conditional_edges(\n",
    "    \"grade_documents\",\n",
    "    decide_to_generate,\n",
    "    {\n",
    "        \"transform_query\": \"transform_query\",\n",
    "        \"generate\": \"generate\",\n",
    "    },\n",
    ")\n",
    "workflow.add_edge(\"transform_query\", \"retrieve\")\n",
    "workflow.add_conditional_edges(\n",
    "    \"generate\",\n",
    "    grade_generation_v_documents_and_question,\n",
    "    {\n",
    "        \"not supported\": \"generate\",\n",
    "        \"useful\": END,\n",
    "        \"not useful\": \"transform_query\",\n",
    "    },\n",
    ")\n",
    "\n",
    "\n",
    "from langgraph.checkpoint.memory import MemorySaver\n",
    "### Adding Memory\n",
    "memory = MemorySaver()\n",
    "memory\n",
    "\n",
    "# Compile\n",
    "# app = workflow.compile(checkpointer=memory)\n",
    "app = workflow.compile()\n",
    "app"
   ]
  },
  {
   "cell_type": "code",
   "execution_count": 48,
   "metadata": {},
   "outputs": [
    {
     "data": {
      "image/jpeg": "[encoded data removed]",
      "text/plain": [
       "<IPython.core.display.Image object>"
      ]
     },
     "metadata": {
      "image/jpeg": {
       "width": 300
      }
     },
     "output_type": "display_data"
    }
   ],
   "source": [
    "display(Image(app.get_graph().draw_mermaid_png(), width=300))"
   ]
  },
  {
   "cell_type": "markdown",
   "metadata": {},
   "source": [
    "# App Stream"
   ]
  },
  {
   "cell_type": "code",
   "execution_count": 54,
   "metadata": {},
   "outputs": [
    {
     "data": {
      "text/plain": [
       "'according to \"iss\" manual, what is the \"noon report\" in iss system?'"
      ]
     },
     "execution_count": 54,
     "metadata": {},
     "output_type": "execute_result"
    }
   ],
   "source": [
    "query = query\n",
    "query"
   ]
  },
  {
   "cell_type": "code",
   "execution_count": 57,
   "metadata": {},
   "outputs": [
    {
     "name": "stdout",
     "output_type": "stream",
     "text": [
      "---ROUTE QUESTION---\n",
      "---ROUTE QUESTION TO RAG---\n",
      "---RETRIEVE---\n",
      "[Document(metadata={'File Name': '370_RULES FOR THE AUDIT AND REGISTRATION OF SHIP SECURITY MANAGEMENT SYSTEMS_202406', 'File Path': '/content/drive/MyDrive/Rules/NK/370_RULES FOR THE AUDIT AND REGISTRATION OF SHIP SECURITY MANAGEMENT SYSTEMS_202406.pdf', 'First Division': 'Rules', 'Page': 10, 'Second Division': 'NK'}, page_content='This page explains 370_RULES FOR THE AUDIT AND REGISTRATION OF SHIP SECURITY MANAGEMENT SYSTEMS_202406, that belongs to catogories of Rules and NK./nto carry out any activities required by Chapter XI -2 of SOLAS  and ISPS Code Part A . (2) “Date of ISPS registration” means the date of the last day of the Initial Audit prescribed in 3.3.1 -1 of the Rules. However, when the Audit for issuing the Interim ISSC prescribed in 3.5-1(1) of the Rules is carried out in advance of the Initial Audit, it means the date of the last day of the Audit for issuing the Interim ISSC.  (3) “Ship security assessment” means an assessment of the risks of security incident around ships including identification of possible threats, weaknesses, existing security measures, procedures and operations, and key shipboard operations that are important to protect.  (4) “Ship security alert system” means an alert system prescribed in Regulation 6, Chapter XI -2 of SOLAS .'), Document(metadata={'File Name': '370_RULES FOR THE AUDIT AND REGISTRATION OF SAFETY MANAGEMENT SYSTEMS_202406', 'File Path': '/content/drive/MyDrive/Rules/NK/370_RULES FOR THE AUDIT AND REGISTRATION OF SAFETY MANAGEMENT SYSTEMS_202406.pdf', 'First Division': 'Rules', 'Page': 14, 'Second Division': 'NK'}, page_content='This page explains 370_RULES FOR THE AUDIT AND REGISTRATION OF SAFETY MANAGEMENT SYSTEMS_202406, that belongs to catogories of Rules and NK./nplaced under the management either partially or wholly of a person or entity other than the company in possession of a DOC or Interim DOC conforming to the Rules, the ship will be deemed as not being subject to ISM registration.  2 Date of completion of audit  (1) The date of completion of each audit described in 3.2(1), 3.2(4) and 3.2(5) of the Rules is the last day of the audit. Even when non-conformities are found during the audit, a certificate may be issued or endorsed if it is judged that the company is prepared  to take appropriate corrective actions to remedy such non -conformities within the pre scribed period.  (2) The day of completion of each audit described in 3.2(2) and 3.2(3) of the Rules is the day on which compliance with the provisions of 4.2 and 5.2 of the Rules is verified.  3 Date of ISM Registration  When a DOC or a SMC is issued for the SMS of the Company or ship on the day of completion of the Initial Audit described in 3.2(1) of the Rules, the day of'), Document(metadata={'File Name': '370_RULES FOR THE AUDIT AND REGISTRATION OF SAFETY MANAGEMENT SYSTEMS_202406', 'File Path': '/content/drive/MyDrive/Rules/NK/370_RULES FOR THE AUDIT AND REGISTRATION OF SAFETY MANAGEMENT SYSTEMS_202406.pdf', 'First Division': 'Rules', 'Page': 15, 'Second Division': 'NK'}, page_content='This page explains 370_RULES FOR THE AUDIT AND REGISTRATION OF SAFETY MANAGEMENT SYSTEMS_202406, that belongs to catogories of Rules and NK./nGuidance for the Audit and Registration of Safety Management Systems Chapter 2 (November 2011)  3 Chapter 2 REGISTRATION OF SAFETY MANAGEMENT SYSTEMS  2.1 Registration of Safety Management Systems  1 If a multiple number of offices are covered by the SMS of the Company being registered, all offices are to be indicated in th e Safety Management System Register Book.  2 The following items are to be noted regarding the Company in the Safety Management System Register Book (Company) . (1) ISM company registration n umber  (2) Name and address of the Company and each office  (3) IMO company identification number  (4) Types of the ships under management of the Company  (5) Date of ISM registration  3 The following items are to be noted regarding the ship in the Safety Management System Register Book (Ship) . (1) ISM ship registration n umber  (2) Name and type of the ship  (3) Distinctive number(s) of the ship or signal letters  (4) Port of registry  (5) Gross tonnage  (6) Date of the ISM')]\n",
      "\"Node 'retrieve':\"\n",
      "'======================================================================'\n",
      "---CHECK DOCUMENT RELEVANCE TO QUESTION---\n",
      "---GRADE: DOCUMENT NOT RELEVANT---\n",
      "---GRADE: DOCUMENT NOT RELEVANT---\n",
      "---GRADE: DOCUMENT NOT RELEVANT---\n",
      "---ASSESS GRADED DOCUMENTS---\n",
      "---DECISION: ALL DOCUMENTS ARE NOT RELEVANT TO QUESTION, TRANSFORM QUERY---\n",
      "\"Node 'grade_documents':\"\n",
      "'======================================================================'\n",
      "---TRANSFORM QUERY---\n",
      "\"Node 'transform_query':\"\n",
      "'======================================================================'\n",
      "---RETRIEVE---\n",
      "[Document(metadata={'File Name': '370_RULES FOR THE AUDIT AND REGISTRATION OF SHIP SECURITY MANAGEMENT SYSTEMS_202406', 'File Path': '/content/drive/MyDrive/Rules/NK/370_RULES FOR THE AUDIT AND REGISTRATION OF SHIP SECURITY MANAGEMENT SYSTEMS_202406.pdf', 'First Division': 'Rules', 'Page': 2, 'Second Division': 'NK'}, page_content='This page explains 370_RULES FOR THE AUDIT AND REGISTRATION OF SHIP SECURITY MANAGEMENT SYSTEMS_202406, that belongs to catogories of Rules and NK./nRules for the Audit and Registration of Ship Security Management Systems Chapter 1 (November 2011)  3 for operation of the ship from the ship -owner and who on assuming such responsibility has agreed to take over all duties and responsibilities imposed by the requirements in Chapter IX of SOLAS . (9) “Certificate” refers to the International Ship Security Certificate (hereinafter referred to as “ISSC”) or the Interim International Ship Security Certificate (hereinafter referred to as “Interim ISSC”).  (10) “Periodical Audit” means the Renewal Audit or the Intermediate Audit specified in 3.4. (11) “Anniversary date” means the yearly date corresponding to the expiry date of the period of validity of ISSC, which excludes the expiry date of the period of validity of the certificate.  (12) “Document of Compliance” (DOC) means the document used in Regulation 4, Chapter IX of SOLAS .  \\n\\n|||||\\n|-||||'), Document(metadata={'File Name': '370_RULES FOR THE AUDIT AND REGISTRATION OF SAFETY MANAGEMENT SYSTEMS_202406', 'File Path': '/content/drive/MyDrive/Rules/NK/370_RULES FOR THE AUDIT AND REGISTRATION OF SAFETY MANAGEMENT SYSTEMS_202406.pdf', 'First Division': 'Rules', 'Page': 10, 'Second Division': 'NK'}, page_content='This page explains 370_RULES FOR THE AUDIT AND REGISTRATION OF SAFETY MANAGEMENT SYSTEMS_202406, that belongs to catogories of Rules and NK./nthe audit:  (1) when the ship to be audited is in possession of a valid DOC, or Interim DOC, relevant to that ship;  (2) when the SMS provided by the Company for the ship includes key elements of the ISM Code and has been assessed during the audit for issuance of the DOC or demonstrated for issuance of the Interim DOC;  (3) when the Master and relevant senior officers are familiar with the SMS and the planned arrangements for its implementation;  (4) when instructions which have been identified as essential to be provided prior to sailing have been given;  (5) when the Company has plans to conduct an audit of the ship within a period of three months; and  (6) when relevant information on the SMS is given in a working language or languages that can be understood by the personnel serving onboard the ship.'), Document(metadata={'File Name': 'RULES FOR THE CLASSIFICATION OF STEEL SHIPS_467-NR_PartC_2024-07', 'File Path': '/content/drive/MyDrive/Rules/BV/RULES FOR THE CLASSIFICATION OF STEEL SHIPS_467-NR_PartC_2024-07.pdf', 'First Division': 'Rules', 'Page': 587, 'Second Division': 'BV'}, page_content='This page explains RULES FOR THE CLASSIFICATION OF STEEL SHIPS_467-NR_PartC_2024-07, that belongs to catogories of Rules and BV./nCat I Cat II Cat III [4.3.2] Quality plan Systems Integrator I (1) I (1) [4.3.3] List of system categorisations Systems Integrator A (1) A (1) A (1) [4.3.4] Risk assessment report Systems Integrator A (1) A (1) A (1) [4.3.5] Ship’s system arch itecture Systems Integrator I (1) I (1) I (1) [4.3.6] System Acceptance Test (S AT) program Systems Integrator A A [4.3.6] SAT report Systems Integrator I I [4.3.7] System of System Test (S OST) program Systems Integrator A A [4.3.7] SOST report Systems Integrator I I [4.3.8] Change management procedur e for software Systems Integrator I (1) I (1) (1) Upon request Note 1: A = to be submitted for approval, I = to be submitted for information')]\n",
      "\"Node 'retrieve':\"\n",
      "'======================================================================'\n",
      "---CHECK DOCUMENT RELEVANCE TO QUESTION---\n",
      "---GRADE: DOCUMENT NOT RELEVANT---\n",
      "---GRADE: DOCUMENT NOT RELEVANT---\n",
      "---GRADE: DOCUMENT NOT RELEVANT---\n",
      "---ASSESS GRADED DOCUMENTS---\n",
      "---DECISION: ALL DOCUMENTS ARE NOT RELEVANT TO QUESTION, TRANSFORM QUERY---\n",
      "\"Node 'grade_documents':\"\n",
      "'======================================================================'\n",
      "---TRANSFORM QUERY---\n",
      "\"Node 'transform_query':\"\n",
      "'======================================================================'\n",
      "---RETRIEVE---\n",
      "[Document(metadata={'File Name': '370_RULES FOR THE AUDIT AND REGISTRATION OF SHIP SECURITY MANAGEMENT SYSTEMS_202406', 'File Path': '/content/drive/MyDrive/Rules/NK/370_RULES FOR THE AUDIT AND REGISTRATION OF SHIP SECURITY MANAGEMENT SYSTEMS_202406.pdf', 'First Division': 'Rules', 'Page': 2, 'Second Division': 'NK'}, page_content='This page explains 370_RULES FOR THE AUDIT AND REGISTRATION OF SHIP SECURITY MANAGEMENT SYSTEMS_202406, that belongs to catogories of Rules and NK./nRules for the Audit and Registration of Ship Security Management Systems Chapter 1 (November 2011)  3 for operation of the ship from the ship -owner and who on assuming such responsibility has agreed to take over all duties and responsibilities imposed by the requirements in Chapter IX of SOLAS . (9) “Certificate” refers to the International Ship Security Certificate (hereinafter referred to as “ISSC”) or the Interim International Ship Security Certificate (hereinafter referred to as “Interim ISSC”).  (10) “Periodical Audit” means the Renewal Audit or the Intermediate Audit specified in 3.4. (11) “Anniversary date” means the yearly date corresponding to the expiry date of the period of validity of ISSC, which excludes the expiry date of the period of validity of the certificate.  (12) “Document of Compliance” (DOC) means the document used in Regulation 4, Chapter IX of SOLAS .  \\n\\n|||||\\n|-||||'), Document(metadata={'File Name': '370_RULES FOR THE AUDIT AND REGISTRATION OF SHIP SECURITY MANAGEMENT SYSTEMS_202406', 'File Path': '/content/drive/MyDrive/Rules/NK/370_RULES FOR THE AUDIT AND REGISTRATION OF SHIP SECURITY MANAGEMENT SYSTEMS_202406.pdf', 'First Division': 'Rules', 'Page': 1, 'Second Division': 'NK'}, page_content='This page explains 370_RULES FOR THE AUDIT AND REGISTRATION OF SHIP SECURITY MANAGEMENT SYSTEMS_202406, that belongs to catogories of Rules and NK./nmanagement system may be deemed to comply with the Rules.  1.1.3 Definitions *  For the purposes of the Rules, the following definitions apply unless otherwise provided for:  (1) SOLAS means the International Convention for the Safety of Life at Sea, 1974 as amended . (2) ISPS Code means the International Code for the Security for Ships and Port Facilities adopted on 12 December 2002, by Resolution 2 of the Conference of Contracting Governments to SOLAS . (3) Ship security requirements which are deemed necessary by the Society refer to the following:  (a) Regulation 4, 5 and 8, Chapter XI -2 of SOLAS  (b) Section 5 through 13 of the ISPS Code Part A  (c) Section 8 through 13 of the ISPS Code Part B  (4) “Ship security management system” means a system built up to ensure the effective implementation and maintenance of the ship security plan.  (5) “Ship security plan” means a documented plan developed to ensure the application of measures on board the ship designed to protect persons on'), Document(metadata={'File Name': 'RULES FOR THE CLASSIFICATION OF STEEL SHIPS_467-NR_PartC_2024-07', 'File Path': '/content/drive/MyDrive/Rules/BV/RULES FOR THE CLASSIFICATION OF STEEL SHIPS_467-NR_PartC_2024-07.pdf', 'First Division': 'Rules', 'Page': 587, 'Second Division': 'BV'}, page_content='This page explains RULES FOR THE CLASSIFICATION OF STEEL SHIPS_467-NR_PartC_2024-07, that belongs to catogories of Rules and BV./nCat I Cat II Cat III [4.3.2] Quality plan Systems Integrator I (1) I (1) [4.3.3] List of system categorisations Systems Integrator A (1) A (1) A (1) [4.3.4] Risk assessment report Systems Integrator A (1) A (1) A (1) [4.3.5] Ship’s system arch itecture Systems Integrator I (1) I (1) I (1) [4.3.6] System Acceptance Test (S AT) program Systems Integrator A A [4.3.6] SAT report Systems Integrator I I [4.3.7] System of System Test (S OST) program Systems Integrator A A [4.3.7] SOST report Systems Integrator I I [4.3.8] Change management procedur e for software Systems Integrator I (1) I (1) (1) Upon request Note 1: A = to be submitted for approval, I = to be submitted for information')]\n",
      "\"Node 'retrieve':\"\n",
      "'======================================================================'\n",
      "---CHECK DOCUMENT RELEVANCE TO QUESTION---\n",
      "---GRADE: DOCUMENT NOT RELEVANT---\n",
      "---GRADE: DOCUMENT NOT RELEVANT---\n",
      "---GRADE: DOCUMENT NOT RELEVANT---\n",
      "---ASSESS GRADED DOCUMENTS---\n",
      "---DECISION: ALL DOCUMENTS ARE NOT RELEVANT TO QUESTION, TRANSFORM QUERY---\n",
      "\"Node 'grade_documents':\"\n",
      "'======================================================================'\n",
      "---TRANSFORM QUERY---\n",
      "\"Node 'transform_query':\"\n",
      "'======================================================================'\n",
      "---RETRIEVE---\n",
      "[Document(metadata={'File Name': '370_RULES FOR THE AUDIT AND REGISTRATION OF SHIP SECURITY MANAGEMENT SYSTEMS_202406', 'File Path': '/content/drive/MyDrive/Rules/NK/370_RULES FOR THE AUDIT AND REGISTRATION OF SHIP SECURITY MANAGEMENT SYSTEMS_202406.pdf', 'First Division': 'Rules', 'Page': 2, 'Second Division': 'NK'}, page_content='This page explains 370_RULES FOR THE AUDIT AND REGISTRATION OF SHIP SECURITY MANAGEMENT SYSTEMS_202406, that belongs to catogories of Rules and NK./nRules for the Audit and Registration of Ship Security Management Systems Chapter 1 (November 2011)  3 for operation of the ship from the ship -owner and who on assuming such responsibility has agreed to take over all duties and responsibilities imposed by the requirements in Chapter IX of SOLAS . (9) “Certificate” refers to the International Ship Security Certificate (hereinafter referred to as “ISSC”) or the Interim International Ship Security Certificate (hereinafter referred to as “Interim ISSC”).  (10) “Periodical Audit” means the Renewal Audit or the Intermediate Audit specified in 3.4. (11) “Anniversary date” means the yearly date corresponding to the expiry date of the period of validity of ISSC, which excludes the expiry date of the period of validity of the certificate.  (12) “Document of Compliance” (DOC) means the document used in Regulation 4, Chapter IX of SOLAS .  \\n\\n|||||\\n|-||||'), Document(metadata={'File Name': 'Approval of computerized maintenance management systems used on board ships_496-NR_2022-07', 'File Path': '/content/drive/MyDrive/Rules/BV/Approval of computerized maintenance management systems used on board ships_496-NR_2022-07.pdf', 'First Division': 'Rules', 'Page': 5, 'Second Division': 'BV'}, page_content='This page explains Approval of computerized maintenance management systems used on board ships_496-NR_2022-07, that belongs to catogories of Rules and BV./n2 Definitions 2.1 General definitions 2.1.1 The following general definitions are used in this Rule Note: • Class Equipment: equipment covered by Society’s Rules and subject to periodical survey for the maintenance of Class. •Critical Equipment: equipme nt for which the sudden operational failure may result in hazardous situations as per Requirement 10.3 of the IMO ISM C o de. •Date of (or running hours at) job completion: latest date (or running hours) on which a maintenance job is scheduled. •Done date (or done running hours): date (or running hours) on which a maintenance job is effectively performed. •Running hours (equipment): cumulative operatio n time (in hours). •Usage rate (equipment): ratio of the actual equipment running hours to the total hours available. •Planned maintenance job: any maintenance activity that is planned, documented, and scheduled (e.g. machine counter reporting, condition monitoring task...). •Unplanned maintenance job: any maintenance task that occurs'), Document(metadata={'File Name': '370_RULES FOR THE AUDIT AND REGISTRATION OF SHIP SECURITY MANAGEMENT SYSTEMS_202406', 'File Path': '/content/drive/MyDrive/Rules/NK/370_RULES FOR THE AUDIT AND REGISTRATION OF SHIP SECURITY MANAGEMENT SYSTEMS_202406.pdf', 'First Division': 'Rules', 'Page': 10, 'Second Division': 'NK'}, page_content='This page explains 370_RULES FOR THE AUDIT AND REGISTRATION OF SHIP SECURITY MANAGEMENT SYSTEMS_202406, that belongs to catogories of Rules and NK./nGuidance for the Audit and Registration of Ship Security Management Systems Chapter 1 (November 2011)  2 GUIDANCE FOR THE AUDIT AND REGISTRATION OF SHIP SECURITY MANAGEMENT SYSTEMS  Chapter 1 GENERAL PROVISIONS  1.1 General  1.1.2 Equivalency  1 For ships engaged on voyages in accordance with the alternative security agreement prescribed in Regulation 11, Chapter XI 2 of SOLAS , applicable requirements of the Rules may apply, in consideration of Section 19.3.6, ISPS Code Part A .  2 The ship security plan approved by the flag state or its recognized security organization is regarded equivalent to the one approved by the Society.  1.1.3 Definitions  For the purposes of the Guidance, the following definitions apply unless otherwise provided for:  (1) “Recognized security organization” means an organization with appropriate expertise in security matters and with appropriate knowledge of ship and port operations authorized by the flag state to carry out any activities required by Chapter')]\n",
      "\"Node 'retrieve':\"\n",
      "'======================================================================'\n",
      "---CHECK DOCUMENT RELEVANCE TO QUESTION---\n",
      "---GRADE: DOCUMENT NOT RELEVANT---\n",
      "---GRADE: DOCUMENT NOT RELEVANT---\n",
      "---GRADE: DOCUMENT NOT RELEVANT---\n",
      "---ASSESS GRADED DOCUMENTS---\n",
      "---DECISION: ALL DOCUMENTS ARE NOT RELEVANT TO QUESTION, TRANSFORM QUERY---\n",
      "\"Node 'grade_documents':\"\n",
      "'======================================================================'\n",
      "---TRANSFORM QUERY---\n",
      "\"Node 'transform_query':\"\n",
      "'======================================================================'\n",
      "---RETRIEVE---\n",
      "[Document(metadata={'File Name': 'PART 1_2024_Classification and Surveys', 'File Path': '/content/drive/MyDrive/Rules/KR/PART 1_2024_Classification and Surveys.pdf', 'First Division': 'Rules', 'Page': 178, 'Second Division': 'KR'}, page_content='This page explains PART 1_2024_Classification and Surveys, that belongs to catogories of Rules and KR./nPt1Classification andSurveys Ch3HullSurveys ofShips Subject totheEnhanced Survey Programme Pt1,Ch3 Rules fortheClassification ofSteel Ships 2024 173Special Survey No. 1Special Survey No. 2Special Survey No. 3Special Survey No. 4 and Subsequent 1. Suspect area 1. Suspect area 2. Within the cargo length: 1)Two transverse sections of deck plating outside line of cargo hatch openings 3.Wind and water strakes in way of the two transverse sections considered above 4. Selected wind and water strakes outside the cargo length area 5. Measurements, for general assessment and recording of corro sion pattern, of those structural members subject to Close-up Survey according to Table 1.3.13 1) or 2), as applicable1. Suspect area 2. Within the cargo length: 1)each deck plate outside line of cargo hatch openings 2)two transverse sections, one in the amidship area, outside line of cargo hatch openings 3)all wind and water strakes 3. Selected wind and water strakes outside the cargo length area'), Document(metadata={'File Name': 'PART 1_2024_Classification and Surveys', 'File Path': '/content/drive/MyDrive/Rules/KR/PART 1_2024_Classification and Surveys.pdf', 'First Division': 'Rules', 'Page': 240, 'Second Division': 'KR'}, page_content=\"This page explains PART 1_2024_Classification and Surveys, that belongs to catogories of Rules and KR./nPt1Classification andSurveys Annex 1-3 Example oftheSurvey Programme andtheSurvey Planning Questionnaire Pt1,Annex 1-3 56  Guidance Relating totheRules fortheClassification ofSteel Ships 2024Annex 1-3 Example of the Survey Programme and the Survey Planning Questionnaire 1. The following process may be considered to assist in identifying critical structural areas, nomination suspect areas and in focusing attention on structural elements or areas of structural elements which may be particularly susceptible to, or evidence a history of, wastage or damage in conjunction with the preparation of the survey programme, the example is shown in Table 1. (Use may be made of the IACS UR Z10's Annex I, if it necessary) Collection of InformationCoating Condition Usage of TanksInput: Drawings, Reports, Acceptable Corrosion Allowance Analyse Hull Damage for Similar Ships(Where Available)Design Related Risk Analyse: Hull Damage of This Ship Hull Damage: General Experience Present Areas where Damage has\"), Document(metadata={'File Name': 'PART 1_2024_Classification and Surveys', 'File Path': '/content/drive/MyDrive/Rules/KR/PART 1_2024_Classification and Surveys.pdf', 'First Division': 'Rules', 'Page': 133, 'Second Division': 'KR'}, page_content='This page explains PART 1_2024_Classification and Surveys, that belongs to catogories of Rules and KR./nPt1Classification andSurveys Ch3HullSurveys ofShips Subject totheEnhanced Survey Programme Pt1,Ch3 128  Rules fortheClassification ofSteel Ships 2024202. Annual Survey 1. General (1)The due range of Annual Survey is to be in accordance with the requirements of Ch 2, 201. (2)The survey is to consist of an examination for the purpose of ensuring, as far as practicable, that the hull, weather decks, hatch covers, coamings and piping are maintained in a satisfactory condition and should take into account the service history, condition and extent of the corrosion prevention system of ballast tanks and areas identified in the survey report file. (2019) 2. Examination of the hull (1)Examination of the hull plating and its closing appliances as far as can be seen. (2)Examination of watertight penetrations as far as practicable. 3. Examination of weather decks, hatch covers and coamings (1)Confirmation is to be obtained that no unapproved changes have been made to the hatch covers,  hatch')]\n",
      "\"Node 'retrieve':\"\n",
      "'======================================================================'\n",
      "---CHECK DOCUMENT RELEVANCE TO QUESTION---\n",
      "---GRADE: DOCUMENT NOT RELEVANT---\n",
      "---GRADE: DOCUMENT NOT RELEVANT---\n",
      "---GRADE: DOCUMENT NOT RELEVANT---\n",
      "---ASSESS GRADED DOCUMENTS---\n",
      "---DECISION: ALL DOCUMENTS ARE NOT RELEVANT TO QUESTION, TRANSFORM QUERY---\n",
      "\"Node 'grade_documents':\"\n",
      "'======================================================================'\n",
      "---TRANSFORM QUERY---\n",
      "\"Node 'transform_query':\"\n",
      "'======================================================================'\n",
      "---RETRIEVE---\n",
      "[Document(metadata={'File Name': 'Guidance for Maritime Cyber security System_2024', 'File Path': '/content/drive/MyDrive/Rules/KR/Guidance for Maritime Cyber security System_2024.pdf', 'First Division': 'Rules', 'Page': 7, 'Second Division': 'KR'}, page_content='This page explains Guidance for Maritime Cyber security System_2024, that belongs to catogories of Rules and KR./ncation corresponding to Company Cyber Security Compliance 1. (2022) (1) Results of special security training (if applicable) (2) Retiree security pledge (if applicable) (3) Access authority change record (4) Special authorization classification table (if applicable) (5) Log monitoring procedures and results (6) Intrusion prevention system policy status (if applicable) (7) Data and communication encryption status (8) New software test and transfer report (if applicable) (9) Vulnerability diagnosis result report and action implementation status 6. In addition to 203. 5, the following items should be surveyed during the on-site surveys for certifi cation corresponding to Company Cyber Security Compliance 2. (1) Change management record (2) Remote user management register (3) Amendment history of cyber security guidances and manuals (4) Training and check results for the outsourcers (5) Approval statements for issuance of outsourcers’ account (6) Vulnerability action plans and results 7.'), Document(metadata={'File Name': 'Guidance for Maritime Cyber security System_2024', 'File Path': '/content/drive/MyDrive/Rules/KR/Guidance for Maritime Cyber security System_2024.pdf', 'First Division': 'Rules', 'Page': 13, 'Second Division': 'KR'}, page_content='This page explains Guidance for Maritime Cyber security System_2024, that belongs to catogories of Rules and KR./nincident investigation analysis procedures (4) In addition to 403. 1. (3), the following items should be surveyed during the onboard surveys for maintaining the CS3 notation. (2022) (A) Cyber security audit results (B) Disaster recovery simulation training results 2. Special surveys should be conducted to renew the certification for Cyber security system onboard of the ship according to the special survey period of the ship. The details follows Ch. 2 302. and 303. in the Guidance.'), Document(metadata={'File Name': 'Rules on cyber security for the classification of marine units_659-NR_2024-07', 'File Path': '/content/drive/MyDrive/Rules/BV/Rules on cyber security for the classification of marine units_659-NR_2024-07.pdf', 'First Division': 'Rules', 'Page': 10, 'Second Division': 'BV'}, page_content='This page explains Rules on cyber security for the classification of marine units_659-NR_2024-07, that belongs to catogories of Rules and BV./n5.2 Responsibility verification 5.3 Procedures verification Section 3 Surveys for Nota tions CYBER RESILIENT 1 General 187 1.1 Initial survey 1.2 Surveys for maintenance of the notations during the ope rational life of the ship 2 Initial survey 187 2.1 General 3 First Annual survey 187 3.1 Ship cyber security and resilience program 4 Subsequent Annual survey and Intermediate survey 188 4.1 General 5 Class renewal survey 188 5.1 General Section 4 Surveys for Notation C YBER SECURE Moni toring Procedures 1 Definition 189 1.1 Monitoring procedures')]\n",
      "\"Node 'retrieve':\"\n",
      "'======================================================================'\n",
      "---CHECK DOCUMENT RELEVANCE TO QUESTION---\n",
      "---GRADE: DOCUMENT NOT RELEVANT---\n",
      "---GRADE: DOCUMENT NOT RELEVANT---\n",
      "---GRADE: DOCUMENT NOT RELEVANT---\n",
      "---ASSESS GRADED DOCUMENTS---\n",
      "---DECISION: ALL DOCUMENTS ARE NOT RELEVANT TO QUESTION, TRANSFORM QUERY---\n",
      "\"Node 'grade_documents':\"\n",
      "'======================================================================'\n",
      "---TRANSFORM QUERY---\n",
      "\"Node 'transform_query':\"\n",
      "'======================================================================'\n",
      "---RETRIEVE---\n",
      "[Document(metadata={'File Name': 'Port Regulations_EU_2017', 'File Path': '/content/drive/MyDrive/PORT/Port Regulation/Port Regulations_EU_2017.pdf', 'First Division': 'PORT', 'Page': 2, 'Second Division': 'Port Regulation'}, page_content='This page explains Port Regulations_EU_2017, that belongs to catogories of PORT and Port Regulation./nmarket barriers.  (21) The managing body of the port, or the competent authority, should publish its intention to conduct a selection procedure for the provision of a port service, including on the internet and, where appropriate, in the Official Journal of the European Union . Such publication should contain information on the selection procedure, the deadline for the submission of tenders, the relevant award criteria and information on how the relevant documents necessary to prepare an application can be accessed.  (22) In order to ensure transparency and equal treatment, amendments to the provisions of a contract during its term should be considered to constitute a new award of a contract when they render the contract materially different in character from the original contract and, therefore, such as to demonstrate the intention of the parties to renegotiate the essential terms of that contract.  (23) This Regulation should be without prejudice to the right of Member States to'), Document(metadata={'File Name': 'Port Regulations_EU_2017', 'File Path': '/content/drive/MyDrive/PORT/Port Regulation/Port Regulations_EU_2017.pdf', 'First Division': 'PORT', 'Page': 8, 'Second Division': 'Port Regulation'}, page_content='This page explains Port Regulations_EU_2017, that belongs to catogories of PORT and Port Regulation./nwould not assume or would not assume to the same extent or under the same conditions;  (15) ‘short sea shipping’ means the movement of cargo and passengers by sea between ports situated in geographical Europe or between those ports and ports situated in non-European countries having a coastline on the enclosed seas bordering Europe;EN 3.3.2017 Official Journal of the European Union L 57/9  ( 1 ) Directive 2000/59/EC of the European Parliament and of the Council of 27 November 2000 on port reception facilities for ship generated waste and cargo residues (OJ L 332, 28.12.2000, p. 81).'), Document(metadata={'File Name': 'Port Regulations_EU_2017', 'File Path': '/content/drive/MyDrive/PORT/Port Regulation/Port Regulations_EU_2017.pdf', 'First Division': 'PORT', 'Page': 1, 'Second Division': 'Port Regulation'}, page_content='This page explains Port Regulations_EU_2017, that belongs to catogories of PORT and Port Regulation./n1315/2013 of the European Parliament and of the Coun \\xad cil ( 1 ). In order to achieve the aim of this Regulation in a proportionate way without imposing any unnecessary burden on other ports, this Regulation should apply to the maritime ports of the trans-European transport network, each of which plays a significant role for the European transport system, either because it handles more than 0,1 % of the total EU freight or the total number of passengers, or because it improves the regional accessibility of island or peripheral areas. However, this Regulation should give Member States the possibility to decide whether or not to apply this Regulation to maritime ports of the comprehensive network located in the outermost regions. Member States should also have the possibility of introducing derogations in order to avoid disproportionate administrative burdens for those maritime ports of the comprehensive network annual freight traffic of which does not justify the full application of')]\n",
      "\"Node 'retrieve':\"\n",
      "'======================================================================'\n",
      "---CHECK DOCUMENT RELEVANCE TO QUESTION---\n",
      "---GRADE: DOCUMENT NOT RELEVANT---\n",
      "---GRADE: DOCUMENT NOT RELEVANT---\n",
      "---GRADE: DOCUMENT NOT RELEVANT---\n",
      "---ASSESS GRADED DOCUMENTS---\n",
      "---DECISION: ALL DOCUMENTS ARE NOT RELEVANT TO QUESTION, TRANSFORM QUERY---\n",
      "\"Node 'grade_documents':\"\n",
      "'======================================================================'\n",
      "---TRANSFORM QUERY---\n",
      "\"Node 'transform_query':\"\n",
      "'======================================================================'\n",
      "---RETRIEVE---\n",
      "[Document(metadata={'File Name': 'Port Regulations_EU_2017', 'File Path': '/content/drive/MyDrive/PORT/Port Regulation/Port Regulations_EU_2017.pdf', 'First Division': 'PORT', 'Page': 2, 'Second Division': 'Port Regulation'}, page_content='This page explains Port Regulations_EU_2017, that belongs to catogories of PORT and Port Regulation./nmarket barriers.  (21) The managing body of the port, or the competent authority, should publish its intention to conduct a selection procedure for the provision of a port service, including on the internet and, where appropriate, in the Official Journal of the European Union . Such publication should contain information on the selection procedure, the deadline for the submission of tenders, the relevant award criteria and information on how the relevant documents necessary to prepare an application can be accessed.  (22) In order to ensure transparency and equal treatment, amendments to the provisions of a contract during its term should be considered to constitute a new award of a contract when they render the contract materially different in character from the original contract and, therefore, such as to demonstrate the intention of the parties to renegotiate the essential terms of that contract.  (23) This Regulation should be without prejudice to the right of Member States to'), Document(metadata={'File Name': 'Port Regulations_EU_2017', 'File Path': '/content/drive/MyDrive/PORT/Port Regulation/Port Regulations_EU_2017.pdf', 'First Division': 'PORT', 'Page': 1, 'Second Division': 'Port Regulation'}, page_content='This page explains Port Regulations_EU_2017, that belongs to catogories of PORT and Port Regulation./n1315/2013 of the European Parliament and of the Coun \\xad cil ( 1 ). In order to achieve the aim of this Regulation in a proportionate way without imposing any unnecessary burden on other ports, this Regulation should apply to the maritime ports of the trans-European transport network, each of which plays a significant role for the European transport system, either because it handles more than 0,1 % of the total EU freight or the total number of passengers, or because it improves the regional accessibility of island or peripheral areas. However, this Regulation should give Member States the possibility to decide whether or not to apply this Regulation to maritime ports of the comprehensive network located in the outermost regions. Member States should also have the possibility of introducing derogations in order to avoid disproportionate administrative burdens for those maritime ports of the comprehensive network annual freight traffic of which does not justify the full application of'), Document(metadata={'File Name': 'Port Regulations_EU_2017', 'File Path': '/content/drive/MyDrive/PORT/Port Regulation/Port Regulations_EU_2017.pdf', 'First Division': 'PORT', 'Page': 0, 'Second Division': 'Port Regulation'}, page_content='This page explains Port Regulations_EU_2017, that belongs to catogories of PORT and Port Regulation./nand functioning of the trans-European transport network and the internal market. This requires modern port services that contribute to the efficient use of ports and a climate favourable to investments to develop ports in line with current and future transport and logistics requirements.  (2) Ports contribute to the long-term competitiveness of European industries in world markets while adding value and jobs in all Union coastal regions. In order to address the challenges facing the maritime transport sector and to improve the efficiency and the sustainability of transport and logistics chains, it is essential that the actions on administrative simplification set out in the Commission’s communication of 23 May 2013 entitled ‘Ports: an engine for growth’ be implemented in tandem with this Regulation.  (3) In its communication of 3 October 2012 entitled ‘Single Market Act II — Together for new growth’, the Commission recalled that the attractiveness of maritime transport is dependent on')]\n",
      "\"Node 'retrieve':\"\n",
      "'======================================================================'\n",
      "---CHECK DOCUMENT RELEVANCE TO QUESTION---\n"
     ]
    },
    {
     "ename": "KeyboardInterrupt",
     "evalue": "",
     "output_type": "error",
     "traceback": [
      "\u001b[1;31m---------------------------------------------------------------------------\u001b[0m",
      "\u001b[1;31mKeyboardInterrupt\u001b[0m                         Traceback (most recent call last)",
      "Cell \u001b[1;32mIn[57], line 18\u001b[0m\n\u001b[0;32m     13\u001b[0m config \u001b[38;5;241m=\u001b[39m {\n\u001b[0;32m     14\u001b[0m     \u001b[38;5;124m\"\u001b[39m\u001b[38;5;124mrecursion_limit\u001b[39m\u001b[38;5;124m\"\u001b[39m: \u001b[38;5;241m30\u001b[39m, \n\u001b[0;32m     15\u001b[0m     \u001b[38;5;66;03m# \"configurable\": {\"thread_id\": \"1\"}\u001b[39;00m\n\u001b[0;32m     16\u001b[0m     }\n\u001b[0;32m     17\u001b[0m \u001b[38;5;28;01mtry\u001b[39;00m:\n\u001b[1;32m---> 18\u001b[0m \u001b[43m    \u001b[49m\u001b[38;5;28;43;01mfor\u001b[39;49;00m\u001b[43m \u001b[49m\u001b[43moutput\u001b[49m\u001b[43m \u001b[49m\u001b[38;5;129;43;01min\u001b[39;49;00m\u001b[43m \u001b[49m\u001b[43mapp\u001b[49m\u001b[38;5;241;43m.\u001b[39;49m\u001b[43mstream\u001b[49m\u001b[43m(\u001b[49m\u001b[43minputs\u001b[49m\u001b[43m,\u001b[49m\u001b[43m \u001b[49m\n\u001b[0;32m     19\u001b[0m \u001b[43m                            \u001b[49m\u001b[43mconfig\u001b[49m\u001b[43m,\u001b[49m\u001b[43m \u001b[49m\n\u001b[0;32m     20\u001b[0m \u001b[43m                            \u001b[49m\u001b[38;5;66;43;03m#  stream_mode=\"values\"\u001b[39;49;00m\n\u001b[0;32m     21\u001b[0m \u001b[43m                            \u001b[49m\u001b[43m)\u001b[49m\u001b[43m:\u001b[49m\n\u001b[0;32m     22\u001b[0m \u001b[43m        \u001b[49m\u001b[38;5;28;43;01mfor\u001b[39;49;00m\u001b[43m \u001b[49m\u001b[43mkey\u001b[49m\u001b[43m,\u001b[49m\u001b[43m \u001b[49m\u001b[43mvalue\u001b[49m\u001b[43m \u001b[49m\u001b[38;5;129;43;01min\u001b[39;49;00m\u001b[43m \u001b[49m\u001b[43moutput\u001b[49m\u001b[38;5;241;43m.\u001b[39;49m\u001b[43mitems\u001b[49m\u001b[43m(\u001b[49m\u001b[43m)\u001b[49m\u001b[43m:\u001b[49m\n\u001b[0;32m     23\u001b[0m \u001b[43m            \u001b[49m\u001b[38;5;66;43;03m# Node\u001b[39;49;00m\n\u001b[0;32m     24\u001b[0m \u001b[43m            \u001b[49m\u001b[43mpprint\u001b[49m\u001b[43m(\u001b[49m\u001b[38;5;124;43mf\u001b[39;49m\u001b[38;5;124;43m\"\u001b[39;49m\u001b[38;5;124;43mNode \u001b[39;49m\u001b[38;5;124;43m'\u001b[39;49m\u001b[38;5;132;43;01m{\u001b[39;49;00m\u001b[43mkey\u001b[49m\u001b[38;5;132;43;01m}\u001b[39;49;00m\u001b[38;5;124;43m'\u001b[39;49m\u001b[38;5;124;43m:\u001b[39;49m\u001b[38;5;124;43m\"\u001b[39;49m\u001b[43m)\u001b[49m\n",
      "File \u001b[1;32md:\\agent_lab\\.venv\\Lib\\site-packages\\langgraph\\pregel\\__init__.py:1328\u001b[0m, in \u001b[0;36mPregel.stream\u001b[1;34m(self, input, config, stream_mode, output_keys, interrupt_before, interrupt_after, debug, subgraphs)\u001b[0m\n\u001b[0;32m   1317\u001b[0m     \u001b[38;5;66;03m# Similarly to Bulk Synchronous Parallel / Pregel model\u001b[39;00m\n\u001b[0;32m   1318\u001b[0m     \u001b[38;5;66;03m# computation proceeds in steps, while there are channel updates\u001b[39;00m\n\u001b[0;32m   1319\u001b[0m     \u001b[38;5;66;03m# channel updates from step N are only visible in step N+1\u001b[39;00m\n\u001b[0;32m   1320\u001b[0m     \u001b[38;5;66;03m# channels are guaranteed to be immutable for the duration of the step,\u001b[39;00m\n\u001b[0;32m   1321\u001b[0m     \u001b[38;5;66;03m# with channel updates applied only at the transition between steps\u001b[39;00m\n\u001b[0;32m   1322\u001b[0m     \u001b[38;5;28;01mwhile\u001b[39;00m loop\u001b[38;5;241m.\u001b[39mtick(\n\u001b[0;32m   1323\u001b[0m         input_keys\u001b[38;5;241m=\u001b[39m\u001b[38;5;28mself\u001b[39m\u001b[38;5;241m.\u001b[39minput_channels,\n\u001b[0;32m   1324\u001b[0m         interrupt_before\u001b[38;5;241m=\u001b[39minterrupt_before_,\n\u001b[0;32m   1325\u001b[0m         interrupt_after\u001b[38;5;241m=\u001b[39minterrupt_after_,\n\u001b[0;32m   1326\u001b[0m         manager\u001b[38;5;241m=\u001b[39mrun_manager,\n\u001b[0;32m   1327\u001b[0m     ):\n\u001b[1;32m-> 1328\u001b[0m \u001b[43m        \u001b[49m\u001b[38;5;28;43;01mfor\u001b[39;49;00m\u001b[43m \u001b[49m\u001b[43m_\u001b[49m\u001b[43m \u001b[49m\u001b[38;5;129;43;01min\u001b[39;49;00m\u001b[43m \u001b[49m\u001b[43mrunner\u001b[49m\u001b[38;5;241;43m.\u001b[39;49m\u001b[43mtick\u001b[49m\u001b[43m(\u001b[49m\n\u001b[0;32m   1329\u001b[0m \u001b[43m            \u001b[49m\u001b[43mloop\u001b[49m\u001b[38;5;241;43m.\u001b[39;49m\u001b[43mtasks\u001b[49m\u001b[38;5;241;43m.\u001b[39;49m\u001b[43mvalues\u001b[49m\u001b[43m(\u001b[49m\u001b[43m)\u001b[49m\u001b[43m,\u001b[49m\n\u001b[0;32m   1330\u001b[0m \u001b[43m            \u001b[49m\u001b[43mtimeout\u001b[49m\u001b[38;5;241;43m=\u001b[39;49m\u001b[38;5;28;43mself\u001b[39;49m\u001b[38;5;241;43m.\u001b[39;49m\u001b[43mstep_timeout\u001b[49m\u001b[43m,\u001b[49m\n\u001b[0;32m   1331\u001b[0m \u001b[43m            \u001b[49m\u001b[43mretry_policy\u001b[49m\u001b[38;5;241;43m=\u001b[39;49m\u001b[38;5;28;43mself\u001b[39;49m\u001b[38;5;241;43m.\u001b[39;49m\u001b[43mretry_policy\u001b[49m\u001b[43m,\u001b[49m\n\u001b[0;32m   1332\u001b[0m \u001b[43m            \u001b[49m\u001b[43mget_waiter\u001b[49m\u001b[38;5;241;43m=\u001b[39;49m\u001b[43mget_waiter\u001b[49m\u001b[43m,\u001b[49m\n\u001b[0;32m   1333\u001b[0m \u001b[43m        \u001b[49m\u001b[43m)\u001b[49m\u001b[43m:\u001b[49m\n\u001b[0;32m   1334\u001b[0m \u001b[43m            \u001b[49m\u001b[38;5;66;43;03m# emit output\u001b[39;49;00m\n\u001b[0;32m   1335\u001b[0m \u001b[43m            \u001b[49m\u001b[38;5;28;43;01myield from\u001b[39;49;00m\u001b[43m \u001b[49m\u001b[43moutput\u001b[49m\u001b[43m(\u001b[49m\u001b[43m)\u001b[49m\n\u001b[0;32m   1336\u001b[0m \u001b[38;5;66;03m# emit output\u001b[39;00m\n",
      "File \u001b[1;32md:\\agent_lab\\.venv\\Lib\\site-packages\\langgraph\\pregel\\runner.py:58\u001b[0m, in \u001b[0;36mPregelRunner.tick\u001b[1;34m(self, tasks, reraise, timeout, retry_policy, get_waiter)\u001b[0m\n\u001b[0;32m     56\u001b[0m t \u001b[38;5;241m=\u001b[39m tasks[\u001b[38;5;241m0\u001b[39m]\n\u001b[0;32m     57\u001b[0m \u001b[38;5;28;01mtry\u001b[39;00m:\n\u001b[1;32m---> 58\u001b[0m     \u001b[43mrun_with_retry\u001b[49m\u001b[43m(\u001b[49m\u001b[43mt\u001b[49m\u001b[43m,\u001b[49m\u001b[43m \u001b[49m\u001b[43mretry_policy\u001b[49m\u001b[43m)\u001b[49m\n\u001b[0;32m     59\u001b[0m     \u001b[38;5;28mself\u001b[39m\u001b[38;5;241m.\u001b[39mcommit(t, \u001b[38;5;28;01mNone\u001b[39;00m)\n\u001b[0;32m     60\u001b[0m \u001b[38;5;28;01mexcept\u001b[39;00m \u001b[38;5;167;01mException\u001b[39;00m \u001b[38;5;28;01mas\u001b[39;00m exc:\n",
      "File \u001b[1;32md:\\agent_lab\\.venv\\Lib\\site-packages\\langgraph\\pregel\\retry.py:29\u001b[0m, in \u001b[0;36mrun_with_retry\u001b[1;34m(task, retry_policy)\u001b[0m\n\u001b[0;32m     27\u001b[0m task\u001b[38;5;241m.\u001b[39mwrites\u001b[38;5;241m.\u001b[39mclear()\n\u001b[0;32m     28\u001b[0m \u001b[38;5;66;03m# run the task\u001b[39;00m\n\u001b[1;32m---> 29\u001b[0m \u001b[43mtask\u001b[49m\u001b[38;5;241;43m.\u001b[39;49m\u001b[43mproc\u001b[49m\u001b[38;5;241;43m.\u001b[39;49m\u001b[43minvoke\u001b[49m\u001b[43m(\u001b[49m\u001b[43mtask\u001b[49m\u001b[38;5;241;43m.\u001b[39;49m\u001b[43minput\u001b[49m\u001b[43m,\u001b[49m\u001b[43m \u001b[49m\u001b[43mconfig\u001b[49m\u001b[43m)\u001b[49m\n\u001b[0;32m     30\u001b[0m \u001b[38;5;66;03m# if successful, end\u001b[39;00m\n\u001b[0;32m     31\u001b[0m \u001b[38;5;28;01mbreak\u001b[39;00m\n",
      "File \u001b[1;32md:\\agent_lab\\.venv\\Lib\\site-packages\\langgraph\\utils\\runnable.py:410\u001b[0m, in \u001b[0;36mRunnableSeq.invoke\u001b[1;34m(self, input, config, **kwargs)\u001b[0m\n\u001b[0;32m    408\u001b[0m context\u001b[38;5;241m.\u001b[39mrun(_set_config_context, config)\n\u001b[0;32m    409\u001b[0m \u001b[38;5;28;01mif\u001b[39;00m i \u001b[38;5;241m==\u001b[39m \u001b[38;5;241m0\u001b[39m:\n\u001b[1;32m--> 410\u001b[0m     \u001b[38;5;28minput\u001b[39m \u001b[38;5;241m=\u001b[39m \u001b[43mcontext\u001b[49m\u001b[38;5;241;43m.\u001b[39;49m\u001b[43mrun\u001b[49m\u001b[43m(\u001b[49m\u001b[43mstep\u001b[49m\u001b[38;5;241;43m.\u001b[39;49m\u001b[43minvoke\u001b[49m\u001b[43m,\u001b[49m\u001b[43m \u001b[49m\u001b[38;5;28;43minput\u001b[39;49m\u001b[43m,\u001b[49m\u001b[43m \u001b[49m\u001b[43mconfig\u001b[49m\u001b[43m,\u001b[49m\u001b[43m \u001b[49m\u001b[38;5;241;43m*\u001b[39;49m\u001b[38;5;241;43m*\u001b[39;49m\u001b[43mkwargs\u001b[49m\u001b[43m)\u001b[49m\n\u001b[0;32m    411\u001b[0m \u001b[38;5;28;01melse\u001b[39;00m:\n\u001b[0;32m    412\u001b[0m     \u001b[38;5;28minput\u001b[39m \u001b[38;5;241m=\u001b[39m context\u001b[38;5;241m.\u001b[39mrun(step\u001b[38;5;241m.\u001b[39minvoke, \u001b[38;5;28minput\u001b[39m, config)\n",
      "File \u001b[1;32md:\\agent_lab\\.venv\\Lib\\site-packages\\langgraph\\utils\\runnable.py:184\u001b[0m, in \u001b[0;36mRunnableCallable.invoke\u001b[1;34m(self, input, config, **kwargs)\u001b[0m\n\u001b[0;32m    182\u001b[0m \u001b[38;5;28;01melse\u001b[39;00m:\n\u001b[0;32m    183\u001b[0m     context\u001b[38;5;241m.\u001b[39mrun(_set_config_context, config)\n\u001b[1;32m--> 184\u001b[0m     ret \u001b[38;5;241m=\u001b[39m \u001b[43mcontext\u001b[49m\u001b[38;5;241;43m.\u001b[39;49m\u001b[43mrun\u001b[49m\u001b[43m(\u001b[49m\u001b[38;5;28;43mself\u001b[39;49m\u001b[38;5;241;43m.\u001b[39;49m\u001b[43mfunc\u001b[49m\u001b[43m,\u001b[49m\u001b[43m \u001b[49m\u001b[38;5;28;43minput\u001b[39;49m\u001b[43m,\u001b[49m\u001b[43m \u001b[49m\u001b[38;5;241;43m*\u001b[39;49m\u001b[38;5;241;43m*\u001b[39;49m\u001b[43mkwargs\u001b[49m\u001b[43m)\u001b[49m\n\u001b[0;32m    185\u001b[0m \u001b[38;5;28;01mif\u001b[39;00m \u001b[38;5;28misinstance\u001b[39m(ret, Runnable) \u001b[38;5;129;01mand\u001b[39;00m \u001b[38;5;28mself\u001b[39m\u001b[38;5;241m.\u001b[39mrecurse:\n\u001b[0;32m    186\u001b[0m     \u001b[38;5;28;01mreturn\u001b[39;00m ret\u001b[38;5;241m.\u001b[39minvoke(\u001b[38;5;28minput\u001b[39m, config)\n",
      "Cell \u001b[1;32mIn[46], line 60\u001b[0m, in \u001b[0;36mgrade_documents\u001b[1;34m(state)\u001b[0m\n\u001b[0;32m     58\u001b[0m filtered_docs \u001b[38;5;241m=\u001b[39m []\n\u001b[0;32m     59\u001b[0m \u001b[38;5;28;01mfor\u001b[39;00m d \u001b[38;5;129;01min\u001b[39;00m documents:\n\u001b[1;32m---> 60\u001b[0m     score \u001b[38;5;241m=\u001b[39m \u001b[43mretrieval_grader\u001b[49m\u001b[38;5;241;43m.\u001b[39;49m\u001b[43minvoke\u001b[49m\u001b[43m(\u001b[49m\n\u001b[0;32m     61\u001b[0m \u001b[43m        \u001b[49m\u001b[43m{\u001b[49m\u001b[38;5;124;43m\"\u001b[39;49m\u001b[38;5;124;43mquestion\u001b[39;49m\u001b[38;5;124;43m\"\u001b[39;49m\u001b[43m:\u001b[49m\u001b[43m \u001b[49m\u001b[43mquestion\u001b[49m\u001b[43m,\u001b[49m\u001b[43m \u001b[49m\u001b[38;5;124;43m\"\u001b[39;49m\u001b[38;5;124;43mdocument\u001b[39;49m\u001b[38;5;124;43m\"\u001b[39;49m\u001b[43m:\u001b[49m\u001b[43m \u001b[49m\u001b[43md\u001b[49m\u001b[38;5;241;43m.\u001b[39;49m\u001b[43mpage_content\u001b[49m\u001b[43m}\u001b[49m\n\u001b[0;32m     62\u001b[0m \u001b[43m    \u001b[49m\u001b[43m)\u001b[49m\n\u001b[0;32m     63\u001b[0m     grade \u001b[38;5;241m=\u001b[39m score\u001b[38;5;241m.\u001b[39mbinary_score\n\u001b[0;32m     64\u001b[0m     \u001b[38;5;28;01mif\u001b[39;00m grade \u001b[38;5;241m==\u001b[39m \u001b[38;5;124m\"\u001b[39m\u001b[38;5;124myes\u001b[39m\u001b[38;5;124m\"\u001b[39m:\n",
      "File \u001b[1;32md:\\agent_lab\\.venv\\Lib\\site-packages\\langchain_core\\runnables\\base.py:3024\u001b[0m, in \u001b[0;36mRunnableSequence.invoke\u001b[1;34m(self, input, config, **kwargs)\u001b[0m\n\u001b[0;32m   3022\u001b[0m             \u001b[38;5;28minput\u001b[39m \u001b[38;5;241m=\u001b[39m context\u001b[38;5;241m.\u001b[39mrun(step\u001b[38;5;241m.\u001b[39minvoke, \u001b[38;5;28minput\u001b[39m, config, \u001b[38;5;241m*\u001b[39m\u001b[38;5;241m*\u001b[39mkwargs)\n\u001b[0;32m   3023\u001b[0m         \u001b[38;5;28;01melse\u001b[39;00m:\n\u001b[1;32m-> 3024\u001b[0m             \u001b[38;5;28minput\u001b[39m \u001b[38;5;241m=\u001b[39m \u001b[43mcontext\u001b[49m\u001b[38;5;241;43m.\u001b[39;49m\u001b[43mrun\u001b[49m\u001b[43m(\u001b[49m\u001b[43mstep\u001b[49m\u001b[38;5;241;43m.\u001b[39;49m\u001b[43minvoke\u001b[49m\u001b[43m,\u001b[49m\u001b[43m \u001b[49m\u001b[38;5;28;43minput\u001b[39;49m\u001b[43m,\u001b[49m\u001b[43m \u001b[49m\u001b[43mconfig\u001b[49m\u001b[43m)\u001b[49m\n\u001b[0;32m   3025\u001b[0m \u001b[38;5;66;03m# finish the root run\u001b[39;00m\n\u001b[0;32m   3026\u001b[0m \u001b[38;5;28;01mexcept\u001b[39;00m \u001b[38;5;167;01mBaseException\u001b[39;00m \u001b[38;5;28;01mas\u001b[39;00m e:\n",
      "File \u001b[1;32md:\\agent_lab\\.venv\\Lib\\site-packages\\langchain_core\\runnables\\base.py:5354\u001b[0m, in \u001b[0;36mRunnableBindingBase.invoke\u001b[1;34m(self, input, config, **kwargs)\u001b[0m\n\u001b[0;32m   5348\u001b[0m \u001b[38;5;28;01mdef\u001b[39;00m \u001b[38;5;21minvoke\u001b[39m(\n\u001b[0;32m   5349\u001b[0m     \u001b[38;5;28mself\u001b[39m,\n\u001b[0;32m   5350\u001b[0m     \u001b[38;5;28minput\u001b[39m: Input,\n\u001b[0;32m   5351\u001b[0m     config: Optional[RunnableConfig] \u001b[38;5;241m=\u001b[39m \u001b[38;5;28;01mNone\u001b[39;00m,\n\u001b[0;32m   5352\u001b[0m     \u001b[38;5;241m*\u001b[39m\u001b[38;5;241m*\u001b[39mkwargs: Optional[Any],\n\u001b[0;32m   5353\u001b[0m ) \u001b[38;5;241m-\u001b[39m\u001b[38;5;241m>\u001b[39m Output:\n\u001b[1;32m-> 5354\u001b[0m     \u001b[38;5;28;01mreturn\u001b[39;00m \u001b[38;5;28;43mself\u001b[39;49m\u001b[38;5;241;43m.\u001b[39;49m\u001b[43mbound\u001b[49m\u001b[38;5;241;43m.\u001b[39;49m\u001b[43minvoke\u001b[49m\u001b[43m(\u001b[49m\n\u001b[0;32m   5355\u001b[0m \u001b[43m        \u001b[49m\u001b[38;5;28;43minput\u001b[39;49m\u001b[43m,\u001b[49m\n\u001b[0;32m   5356\u001b[0m \u001b[43m        \u001b[49m\u001b[38;5;28;43mself\u001b[39;49m\u001b[38;5;241;43m.\u001b[39;49m\u001b[43m_merge_configs\u001b[49m\u001b[43m(\u001b[49m\u001b[43mconfig\u001b[49m\u001b[43m)\u001b[49m\u001b[43m,\u001b[49m\n\u001b[0;32m   5357\u001b[0m \u001b[43m        \u001b[49m\u001b[38;5;241;43m*\u001b[39;49m\u001b[38;5;241;43m*\u001b[39;49m\u001b[43m{\u001b[49m\u001b[38;5;241;43m*\u001b[39;49m\u001b[38;5;241;43m*\u001b[39;49m\u001b[38;5;28;43mself\u001b[39;49m\u001b[38;5;241;43m.\u001b[39;49m\u001b[43mkwargs\u001b[49m\u001b[43m,\u001b[49m\u001b[43m \u001b[49m\u001b[38;5;241;43m*\u001b[39;49m\u001b[38;5;241;43m*\u001b[39;49m\u001b[43mkwargs\u001b[49m\u001b[43m}\u001b[49m\u001b[43m,\u001b[49m\n\u001b[0;32m   5358\u001b[0m \u001b[43m    \u001b[49m\u001b[43m)\u001b[49m\n",
      "File \u001b[1;32md:\\agent_lab\\.venv\\Lib\\site-packages\\langchain_core\\language_models\\chat_models.py:286\u001b[0m, in \u001b[0;36mBaseChatModel.invoke\u001b[1;34m(self, input, config, stop, **kwargs)\u001b[0m\n\u001b[0;32m    275\u001b[0m \u001b[38;5;28;01mdef\u001b[39;00m \u001b[38;5;21minvoke\u001b[39m(\n\u001b[0;32m    276\u001b[0m     \u001b[38;5;28mself\u001b[39m,\n\u001b[0;32m    277\u001b[0m     \u001b[38;5;28minput\u001b[39m: LanguageModelInput,\n\u001b[1;32m   (...)\u001b[0m\n\u001b[0;32m    281\u001b[0m     \u001b[38;5;241m*\u001b[39m\u001b[38;5;241m*\u001b[39mkwargs: Any,\n\u001b[0;32m    282\u001b[0m ) \u001b[38;5;241m-\u001b[39m\u001b[38;5;241m>\u001b[39m BaseMessage:\n\u001b[0;32m    283\u001b[0m     config \u001b[38;5;241m=\u001b[39m ensure_config(config)\n\u001b[0;32m    284\u001b[0m     \u001b[38;5;28;01mreturn\u001b[39;00m cast(\n\u001b[0;32m    285\u001b[0m         ChatGeneration,\n\u001b[1;32m--> 286\u001b[0m         \u001b[38;5;28;43mself\u001b[39;49m\u001b[38;5;241;43m.\u001b[39;49m\u001b[43mgenerate_prompt\u001b[49m\u001b[43m(\u001b[49m\n\u001b[0;32m    287\u001b[0m \u001b[43m            \u001b[49m\u001b[43m[\u001b[49m\u001b[38;5;28;43mself\u001b[39;49m\u001b[38;5;241;43m.\u001b[39;49m\u001b[43m_convert_input\u001b[49m\u001b[43m(\u001b[49m\u001b[38;5;28;43minput\u001b[39;49m\u001b[43m)\u001b[49m\u001b[43m]\u001b[49m\u001b[43m,\u001b[49m\n\u001b[0;32m    288\u001b[0m \u001b[43m            \u001b[49m\u001b[43mstop\u001b[49m\u001b[38;5;241;43m=\u001b[39;49m\u001b[43mstop\u001b[49m\u001b[43m,\u001b[49m\n\u001b[0;32m    289\u001b[0m \u001b[43m            \u001b[49m\u001b[43mcallbacks\u001b[49m\u001b[38;5;241;43m=\u001b[39;49m\u001b[43mconfig\u001b[49m\u001b[38;5;241;43m.\u001b[39;49m\u001b[43mget\u001b[49m\u001b[43m(\u001b[49m\u001b[38;5;124;43m\"\u001b[39;49m\u001b[38;5;124;43mcallbacks\u001b[39;49m\u001b[38;5;124;43m\"\u001b[39;49m\u001b[43m)\u001b[49m\u001b[43m,\u001b[49m\n\u001b[0;32m    290\u001b[0m \u001b[43m            \u001b[49m\u001b[43mtags\u001b[49m\u001b[38;5;241;43m=\u001b[39;49m\u001b[43mconfig\u001b[49m\u001b[38;5;241;43m.\u001b[39;49m\u001b[43mget\u001b[49m\u001b[43m(\u001b[49m\u001b[38;5;124;43m\"\u001b[39;49m\u001b[38;5;124;43mtags\u001b[39;49m\u001b[38;5;124;43m\"\u001b[39;49m\u001b[43m)\u001b[49m\u001b[43m,\u001b[49m\n\u001b[0;32m    291\u001b[0m \u001b[43m            \u001b[49m\u001b[43mmetadata\u001b[49m\u001b[38;5;241;43m=\u001b[39;49m\u001b[43mconfig\u001b[49m\u001b[38;5;241;43m.\u001b[39;49m\u001b[43mget\u001b[49m\u001b[43m(\u001b[49m\u001b[38;5;124;43m\"\u001b[39;49m\u001b[38;5;124;43mmetadata\u001b[39;49m\u001b[38;5;124;43m\"\u001b[39;49m\u001b[43m)\u001b[49m\u001b[43m,\u001b[49m\n\u001b[0;32m    292\u001b[0m \u001b[43m            \u001b[49m\u001b[43mrun_name\u001b[49m\u001b[38;5;241;43m=\u001b[39;49m\u001b[43mconfig\u001b[49m\u001b[38;5;241;43m.\u001b[39;49m\u001b[43mget\u001b[49m\u001b[43m(\u001b[49m\u001b[38;5;124;43m\"\u001b[39;49m\u001b[38;5;124;43mrun_name\u001b[39;49m\u001b[38;5;124;43m\"\u001b[39;49m\u001b[43m)\u001b[49m\u001b[43m,\u001b[49m\n\u001b[0;32m    293\u001b[0m \u001b[43m            \u001b[49m\u001b[43mrun_id\u001b[49m\u001b[38;5;241;43m=\u001b[39;49m\u001b[43mconfig\u001b[49m\u001b[38;5;241;43m.\u001b[39;49m\u001b[43mpop\u001b[49m\u001b[43m(\u001b[49m\u001b[38;5;124;43m\"\u001b[39;49m\u001b[38;5;124;43mrun_id\u001b[39;49m\u001b[38;5;124;43m\"\u001b[39;49m\u001b[43m,\u001b[49m\u001b[43m \u001b[49m\u001b[38;5;28;43;01mNone\u001b[39;49;00m\u001b[43m)\u001b[49m\u001b[43m,\u001b[49m\n\u001b[0;32m    294\u001b[0m \u001b[43m            \u001b[49m\u001b[38;5;241;43m*\u001b[39;49m\u001b[38;5;241;43m*\u001b[39;49m\u001b[43mkwargs\u001b[49m\u001b[43m,\u001b[49m\n\u001b[0;32m    295\u001b[0m \u001b[43m        \u001b[49m\u001b[43m)\u001b[49m\u001b[38;5;241m.\u001b[39mgenerations[\u001b[38;5;241m0\u001b[39m][\u001b[38;5;241m0\u001b[39m],\n\u001b[0;32m    296\u001b[0m     )\u001b[38;5;241m.\u001b[39mmessage\n",
      "File \u001b[1;32md:\\agent_lab\\.venv\\Lib\\site-packages\\langchain_core\\language_models\\chat_models.py:786\u001b[0m, in \u001b[0;36mBaseChatModel.generate_prompt\u001b[1;34m(self, prompts, stop, callbacks, **kwargs)\u001b[0m\n\u001b[0;32m    778\u001b[0m \u001b[38;5;28;01mdef\u001b[39;00m \u001b[38;5;21mgenerate_prompt\u001b[39m(\n\u001b[0;32m    779\u001b[0m     \u001b[38;5;28mself\u001b[39m,\n\u001b[0;32m    780\u001b[0m     prompts: \u001b[38;5;28mlist\u001b[39m[PromptValue],\n\u001b[1;32m   (...)\u001b[0m\n\u001b[0;32m    783\u001b[0m     \u001b[38;5;241m*\u001b[39m\u001b[38;5;241m*\u001b[39mkwargs: Any,\n\u001b[0;32m    784\u001b[0m ) \u001b[38;5;241m-\u001b[39m\u001b[38;5;241m>\u001b[39m LLMResult:\n\u001b[0;32m    785\u001b[0m     prompt_messages \u001b[38;5;241m=\u001b[39m [p\u001b[38;5;241m.\u001b[39mto_messages() \u001b[38;5;28;01mfor\u001b[39;00m p \u001b[38;5;129;01min\u001b[39;00m prompts]\n\u001b[1;32m--> 786\u001b[0m     \u001b[38;5;28;01mreturn\u001b[39;00m \u001b[38;5;28;43mself\u001b[39;49m\u001b[38;5;241;43m.\u001b[39;49m\u001b[43mgenerate\u001b[49m\u001b[43m(\u001b[49m\u001b[43mprompt_messages\u001b[49m\u001b[43m,\u001b[49m\u001b[43m \u001b[49m\u001b[43mstop\u001b[49m\u001b[38;5;241;43m=\u001b[39;49m\u001b[43mstop\u001b[49m\u001b[43m,\u001b[49m\u001b[43m \u001b[49m\u001b[43mcallbacks\u001b[49m\u001b[38;5;241;43m=\u001b[39;49m\u001b[43mcallbacks\u001b[49m\u001b[43m,\u001b[49m\u001b[43m \u001b[49m\u001b[38;5;241;43m*\u001b[39;49m\u001b[38;5;241;43m*\u001b[39;49m\u001b[43mkwargs\u001b[49m\u001b[43m)\u001b[49m\n",
      "File \u001b[1;32md:\\agent_lab\\.venv\\Lib\\site-packages\\langchain_core\\language_models\\chat_models.py:643\u001b[0m, in \u001b[0;36mBaseChatModel.generate\u001b[1;34m(self, messages, stop, callbacks, tags, metadata, run_name, run_id, **kwargs)\u001b[0m\n\u001b[0;32m    641\u001b[0m         \u001b[38;5;28;01mif\u001b[39;00m run_managers:\n\u001b[0;32m    642\u001b[0m             run_managers[i]\u001b[38;5;241m.\u001b[39mon_llm_error(e, response\u001b[38;5;241m=\u001b[39mLLMResult(generations\u001b[38;5;241m=\u001b[39m[]))\n\u001b[1;32m--> 643\u001b[0m         \u001b[38;5;28;01mraise\u001b[39;00m e\n\u001b[0;32m    644\u001b[0m flattened_outputs \u001b[38;5;241m=\u001b[39m [\n\u001b[0;32m    645\u001b[0m     LLMResult(generations\u001b[38;5;241m=\u001b[39m[res\u001b[38;5;241m.\u001b[39mgenerations], llm_output\u001b[38;5;241m=\u001b[39mres\u001b[38;5;241m.\u001b[39mllm_output)  \u001b[38;5;66;03m# type: ignore[list-item]\u001b[39;00m\n\u001b[0;32m    646\u001b[0m     \u001b[38;5;28;01mfor\u001b[39;00m res \u001b[38;5;129;01min\u001b[39;00m results\n\u001b[0;32m    647\u001b[0m ]\n\u001b[0;32m    648\u001b[0m llm_output \u001b[38;5;241m=\u001b[39m \u001b[38;5;28mself\u001b[39m\u001b[38;5;241m.\u001b[39m_combine_llm_outputs([res\u001b[38;5;241m.\u001b[39mllm_output \u001b[38;5;28;01mfor\u001b[39;00m res \u001b[38;5;129;01min\u001b[39;00m results])\n",
      "File \u001b[1;32md:\\agent_lab\\.venv\\Lib\\site-packages\\langchain_core\\language_models\\chat_models.py:633\u001b[0m, in \u001b[0;36mBaseChatModel.generate\u001b[1;34m(self, messages, stop, callbacks, tags, metadata, run_name, run_id, **kwargs)\u001b[0m\n\u001b[0;32m    630\u001b[0m \u001b[38;5;28;01mfor\u001b[39;00m i, m \u001b[38;5;129;01min\u001b[39;00m \u001b[38;5;28menumerate\u001b[39m(messages):\n\u001b[0;32m    631\u001b[0m     \u001b[38;5;28;01mtry\u001b[39;00m:\n\u001b[0;32m    632\u001b[0m         results\u001b[38;5;241m.\u001b[39mappend(\n\u001b[1;32m--> 633\u001b[0m             \u001b[38;5;28;43mself\u001b[39;49m\u001b[38;5;241;43m.\u001b[39;49m\u001b[43m_generate_with_cache\u001b[49m\u001b[43m(\u001b[49m\n\u001b[0;32m    634\u001b[0m \u001b[43m                \u001b[49m\u001b[43mm\u001b[49m\u001b[43m,\u001b[49m\n\u001b[0;32m    635\u001b[0m \u001b[43m                \u001b[49m\u001b[43mstop\u001b[49m\u001b[38;5;241;43m=\u001b[39;49m\u001b[43mstop\u001b[49m\u001b[43m,\u001b[49m\n\u001b[0;32m    636\u001b[0m \u001b[43m                \u001b[49m\u001b[43mrun_manager\u001b[49m\u001b[38;5;241;43m=\u001b[39;49m\u001b[43mrun_managers\u001b[49m\u001b[43m[\u001b[49m\u001b[43mi\u001b[49m\u001b[43m]\u001b[49m\u001b[43m \u001b[49m\u001b[38;5;28;43;01mif\u001b[39;49;00m\u001b[43m \u001b[49m\u001b[43mrun_managers\u001b[49m\u001b[43m \u001b[49m\u001b[38;5;28;43;01melse\u001b[39;49;00m\u001b[43m \u001b[49m\u001b[38;5;28;43;01mNone\u001b[39;49;00m\u001b[43m,\u001b[49m\n\u001b[0;32m    637\u001b[0m \u001b[43m                \u001b[49m\u001b[38;5;241;43m*\u001b[39;49m\u001b[38;5;241;43m*\u001b[39;49m\u001b[43mkwargs\u001b[49m\u001b[43m,\u001b[49m\n\u001b[0;32m    638\u001b[0m \u001b[43m            \u001b[49m\u001b[43m)\u001b[49m\n\u001b[0;32m    639\u001b[0m         )\n\u001b[0;32m    640\u001b[0m     \u001b[38;5;28;01mexcept\u001b[39;00m \u001b[38;5;167;01mBaseException\u001b[39;00m \u001b[38;5;28;01mas\u001b[39;00m e:\n\u001b[0;32m    641\u001b[0m         \u001b[38;5;28;01mif\u001b[39;00m run_managers:\n",
      "File \u001b[1;32md:\\agent_lab\\.venv\\Lib\\site-packages\\langchain_core\\language_models\\chat_models.py:851\u001b[0m, in \u001b[0;36mBaseChatModel._generate_with_cache\u001b[1;34m(self, messages, stop, run_manager, **kwargs)\u001b[0m\n\u001b[0;32m    849\u001b[0m \u001b[38;5;28;01melse\u001b[39;00m:\n\u001b[0;32m    850\u001b[0m     \u001b[38;5;28;01mif\u001b[39;00m inspect\u001b[38;5;241m.\u001b[39msignature(\u001b[38;5;28mself\u001b[39m\u001b[38;5;241m.\u001b[39m_generate)\u001b[38;5;241m.\u001b[39mparameters\u001b[38;5;241m.\u001b[39mget(\u001b[38;5;124m\"\u001b[39m\u001b[38;5;124mrun_manager\u001b[39m\u001b[38;5;124m\"\u001b[39m):\n\u001b[1;32m--> 851\u001b[0m         result \u001b[38;5;241m=\u001b[39m \u001b[38;5;28;43mself\u001b[39;49m\u001b[38;5;241;43m.\u001b[39;49m\u001b[43m_generate\u001b[49m\u001b[43m(\u001b[49m\n\u001b[0;32m    852\u001b[0m \u001b[43m            \u001b[49m\u001b[43mmessages\u001b[49m\u001b[43m,\u001b[49m\u001b[43m \u001b[49m\u001b[43mstop\u001b[49m\u001b[38;5;241;43m=\u001b[39;49m\u001b[43mstop\u001b[49m\u001b[43m,\u001b[49m\u001b[43m \u001b[49m\u001b[43mrun_manager\u001b[49m\u001b[38;5;241;43m=\u001b[39;49m\u001b[43mrun_manager\u001b[49m\u001b[43m,\u001b[49m\u001b[43m \u001b[49m\u001b[38;5;241;43m*\u001b[39;49m\u001b[38;5;241;43m*\u001b[39;49m\u001b[43mkwargs\u001b[49m\n\u001b[0;32m    853\u001b[0m \u001b[43m        \u001b[49m\u001b[43m)\u001b[49m\n\u001b[0;32m    854\u001b[0m     \u001b[38;5;28;01melse\u001b[39;00m:\n\u001b[0;32m    855\u001b[0m         result \u001b[38;5;241m=\u001b[39m \u001b[38;5;28mself\u001b[39m\u001b[38;5;241m.\u001b[39m_generate(messages, stop\u001b[38;5;241m=\u001b[39mstop, \u001b[38;5;241m*\u001b[39m\u001b[38;5;241m*\u001b[39mkwargs)\n",
      "File \u001b[1;32md:\\agent_lab\\.venv\\Lib\\site-packages\\langchain_groq\\chat_models.py:474\u001b[0m, in \u001b[0;36mChatGroq._generate\u001b[1;34m(self, messages, stop, run_manager, **kwargs)\u001b[0m\n\u001b[0;32m    469\u001b[0m message_dicts, params \u001b[38;5;241m=\u001b[39m \u001b[38;5;28mself\u001b[39m\u001b[38;5;241m.\u001b[39m_create_message_dicts(messages, stop)\n\u001b[0;32m    470\u001b[0m params \u001b[38;5;241m=\u001b[39m {\n\u001b[0;32m    471\u001b[0m     \u001b[38;5;241m*\u001b[39m\u001b[38;5;241m*\u001b[39mparams,\n\u001b[0;32m    472\u001b[0m     \u001b[38;5;241m*\u001b[39m\u001b[38;5;241m*\u001b[39mkwargs,\n\u001b[0;32m    473\u001b[0m }\n\u001b[1;32m--> 474\u001b[0m response \u001b[38;5;241m=\u001b[39m \u001b[38;5;28;43mself\u001b[39;49m\u001b[38;5;241;43m.\u001b[39;49m\u001b[43mclient\u001b[49m\u001b[38;5;241;43m.\u001b[39;49m\u001b[43mcreate\u001b[49m\u001b[43m(\u001b[49m\u001b[43mmessages\u001b[49m\u001b[38;5;241;43m=\u001b[39;49m\u001b[43mmessage_dicts\u001b[49m\u001b[43m,\u001b[49m\u001b[43m \u001b[49m\u001b[38;5;241;43m*\u001b[39;49m\u001b[38;5;241;43m*\u001b[39;49m\u001b[43mparams\u001b[49m\u001b[43m)\u001b[49m\n\u001b[0;32m    475\u001b[0m \u001b[38;5;28;01mreturn\u001b[39;00m \u001b[38;5;28mself\u001b[39m\u001b[38;5;241m.\u001b[39m_create_chat_result(response)\n",
      "File \u001b[1;32md:\\agent_lab\\.venv\\Lib\\site-packages\\groq\\resources\\chat\\completions.py:287\u001b[0m, in \u001b[0;36mCompletions.create\u001b[1;34m(self, messages, model, frequency_penalty, function_call, functions, logit_bias, logprobs, max_tokens, n, parallel_tool_calls, presence_penalty, response_format, seed, stop, stream, temperature, tool_choice, tools, top_logprobs, top_p, user, extra_headers, extra_query, extra_body, timeout)\u001b[0m\n\u001b[0;32m    146\u001b[0m \u001b[38;5;28;01mdef\u001b[39;00m \u001b[38;5;21mcreate\u001b[39m(\n\u001b[0;32m    147\u001b[0m     \u001b[38;5;28mself\u001b[39m,\n\u001b[0;32m    148\u001b[0m     \u001b[38;5;241m*\u001b[39m,\n\u001b[1;32m   (...)\u001b[0m\n\u001b[0;32m    175\u001b[0m     timeout: \u001b[38;5;28mfloat\u001b[39m \u001b[38;5;241m|\u001b[39m httpx\u001b[38;5;241m.\u001b[39mTimeout \u001b[38;5;241m|\u001b[39m \u001b[38;5;28;01mNone\u001b[39;00m \u001b[38;5;241m|\u001b[39m NotGiven \u001b[38;5;241m=\u001b[39m NOT_GIVEN,\n\u001b[0;32m    176\u001b[0m ) \u001b[38;5;241m-\u001b[39m\u001b[38;5;241m>\u001b[39m ChatCompletion \u001b[38;5;241m|\u001b[39m Stream[ChatCompletionChunk]:\n\u001b[0;32m    177\u001b[0m \u001b[38;5;250m    \u001b[39m\u001b[38;5;124;03m\"\"\"\u001b[39;00m\n\u001b[0;32m    178\u001b[0m \u001b[38;5;124;03m    Creates a model response for the given chat conversation.\u001b[39;00m\n\u001b[0;32m    179\u001b[0m \n\u001b[1;32m   (...)\u001b[0m\n\u001b[0;32m    285\u001b[0m \u001b[38;5;124;03m      timeout: Override the client-level default timeout for this request, in seconds\u001b[39;00m\n\u001b[0;32m    286\u001b[0m \u001b[38;5;124;03m    \"\"\"\u001b[39;00m\n\u001b[1;32m--> 287\u001b[0m     \u001b[38;5;28;01mreturn\u001b[39;00m \u001b[38;5;28;43mself\u001b[39;49m\u001b[38;5;241;43m.\u001b[39;49m\u001b[43m_post\u001b[49m\u001b[43m(\u001b[49m\n\u001b[0;32m    288\u001b[0m \u001b[43m        \u001b[49m\u001b[38;5;124;43m\"\u001b[39;49m\u001b[38;5;124;43m/openai/v1/chat/completions\u001b[39;49m\u001b[38;5;124;43m\"\u001b[39;49m\u001b[43m,\u001b[49m\n\u001b[0;32m    289\u001b[0m \u001b[43m        \u001b[49m\u001b[43mbody\u001b[49m\u001b[38;5;241;43m=\u001b[39;49m\u001b[43mmaybe_transform\u001b[49m\u001b[43m(\u001b[49m\n\u001b[0;32m    290\u001b[0m \u001b[43m            \u001b[49m\u001b[43m{\u001b[49m\n\u001b[0;32m    291\u001b[0m \u001b[43m                \u001b[49m\u001b[38;5;124;43m\"\u001b[39;49m\u001b[38;5;124;43mmessages\u001b[39;49m\u001b[38;5;124;43m\"\u001b[39;49m\u001b[43m:\u001b[49m\u001b[43m \u001b[49m\u001b[43mmessages\u001b[49m\u001b[43m,\u001b[49m\n\u001b[0;32m    292\u001b[0m \u001b[43m                \u001b[49m\u001b[38;5;124;43m\"\u001b[39;49m\u001b[38;5;124;43mmodel\u001b[39;49m\u001b[38;5;124;43m\"\u001b[39;49m\u001b[43m:\u001b[49m\u001b[43m \u001b[49m\u001b[43mmodel\u001b[49m\u001b[43m,\u001b[49m\n\u001b[0;32m    293\u001b[0m \u001b[43m                \u001b[49m\u001b[38;5;124;43m\"\u001b[39;49m\u001b[38;5;124;43mfrequency_penalty\u001b[39;49m\u001b[38;5;124;43m\"\u001b[39;49m\u001b[43m:\u001b[49m\u001b[43m \u001b[49m\u001b[43mfrequency_penalty\u001b[49m\u001b[43m,\u001b[49m\n\u001b[0;32m    294\u001b[0m \u001b[43m                \u001b[49m\u001b[38;5;124;43m\"\u001b[39;49m\u001b[38;5;124;43mfunction_call\u001b[39;49m\u001b[38;5;124;43m\"\u001b[39;49m\u001b[43m:\u001b[49m\u001b[43m \u001b[49m\u001b[43mfunction_call\u001b[49m\u001b[43m,\u001b[49m\n\u001b[0;32m    295\u001b[0m \u001b[43m                \u001b[49m\u001b[38;5;124;43m\"\u001b[39;49m\u001b[38;5;124;43mfunctions\u001b[39;49m\u001b[38;5;124;43m\"\u001b[39;49m\u001b[43m:\u001b[49m\u001b[43m \u001b[49m\u001b[43mfunctions\u001b[49m\u001b[43m,\u001b[49m\n\u001b[0;32m    296\u001b[0m \u001b[43m                \u001b[49m\u001b[38;5;124;43m\"\u001b[39;49m\u001b[38;5;124;43mlogit_bias\u001b[39;49m\u001b[38;5;124;43m\"\u001b[39;49m\u001b[43m:\u001b[49m\u001b[43m \u001b[49m\u001b[43mlogit_bias\u001b[49m\u001b[43m,\u001b[49m\n\u001b[0;32m    297\u001b[0m \u001b[43m                \u001b[49m\u001b[38;5;124;43m\"\u001b[39;49m\u001b[38;5;124;43mlogprobs\u001b[39;49m\u001b[38;5;124;43m\"\u001b[39;49m\u001b[43m:\u001b[49m\u001b[43m \u001b[49m\u001b[43mlogprobs\u001b[49m\u001b[43m,\u001b[49m\n\u001b[0;32m    298\u001b[0m \u001b[43m                \u001b[49m\u001b[38;5;124;43m\"\u001b[39;49m\u001b[38;5;124;43mmax_tokens\u001b[39;49m\u001b[38;5;124;43m\"\u001b[39;49m\u001b[43m:\u001b[49m\u001b[43m \u001b[49m\u001b[43mmax_tokens\u001b[49m\u001b[43m,\u001b[49m\n\u001b[0;32m    299\u001b[0m \u001b[43m                \u001b[49m\u001b[38;5;124;43m\"\u001b[39;49m\u001b[38;5;124;43mn\u001b[39;49m\u001b[38;5;124;43m\"\u001b[39;49m\u001b[43m:\u001b[49m\u001b[43m \u001b[49m\u001b[43mn\u001b[49m\u001b[43m,\u001b[49m\n\u001b[0;32m    300\u001b[0m \u001b[43m                \u001b[49m\u001b[38;5;124;43m\"\u001b[39;49m\u001b[38;5;124;43mparallel_tool_calls\u001b[39;49m\u001b[38;5;124;43m\"\u001b[39;49m\u001b[43m:\u001b[49m\u001b[43m \u001b[49m\u001b[43mparallel_tool_calls\u001b[49m\u001b[43m,\u001b[49m\n\u001b[0;32m    301\u001b[0m \u001b[43m                \u001b[49m\u001b[38;5;124;43m\"\u001b[39;49m\u001b[38;5;124;43mpresence_penalty\u001b[39;49m\u001b[38;5;124;43m\"\u001b[39;49m\u001b[43m:\u001b[49m\u001b[43m \u001b[49m\u001b[43mpresence_penalty\u001b[49m\u001b[43m,\u001b[49m\n\u001b[0;32m    302\u001b[0m \u001b[43m                \u001b[49m\u001b[38;5;124;43m\"\u001b[39;49m\u001b[38;5;124;43mresponse_format\u001b[39;49m\u001b[38;5;124;43m\"\u001b[39;49m\u001b[43m:\u001b[49m\u001b[43m \u001b[49m\u001b[43mresponse_format\u001b[49m\u001b[43m,\u001b[49m\n\u001b[0;32m    303\u001b[0m \u001b[43m                \u001b[49m\u001b[38;5;124;43m\"\u001b[39;49m\u001b[38;5;124;43mseed\u001b[39;49m\u001b[38;5;124;43m\"\u001b[39;49m\u001b[43m:\u001b[49m\u001b[43m \u001b[49m\u001b[43mseed\u001b[49m\u001b[43m,\u001b[49m\n\u001b[0;32m    304\u001b[0m \u001b[43m                \u001b[49m\u001b[38;5;124;43m\"\u001b[39;49m\u001b[38;5;124;43mstop\u001b[39;49m\u001b[38;5;124;43m\"\u001b[39;49m\u001b[43m:\u001b[49m\u001b[43m \u001b[49m\u001b[43mstop\u001b[49m\u001b[43m,\u001b[49m\n\u001b[0;32m    305\u001b[0m \u001b[43m                \u001b[49m\u001b[38;5;124;43m\"\u001b[39;49m\u001b[38;5;124;43mstream\u001b[39;49m\u001b[38;5;124;43m\"\u001b[39;49m\u001b[43m:\u001b[49m\u001b[43m \u001b[49m\u001b[43mstream\u001b[49m\u001b[43m,\u001b[49m\n\u001b[0;32m    306\u001b[0m \u001b[43m                \u001b[49m\u001b[38;5;124;43m\"\u001b[39;49m\u001b[38;5;124;43mtemperature\u001b[39;49m\u001b[38;5;124;43m\"\u001b[39;49m\u001b[43m:\u001b[49m\u001b[43m \u001b[49m\u001b[43mtemperature\u001b[49m\u001b[43m,\u001b[49m\n\u001b[0;32m    307\u001b[0m \u001b[43m                \u001b[49m\u001b[38;5;124;43m\"\u001b[39;49m\u001b[38;5;124;43mtool_choice\u001b[39;49m\u001b[38;5;124;43m\"\u001b[39;49m\u001b[43m:\u001b[49m\u001b[43m \u001b[49m\u001b[43mtool_choice\u001b[49m\u001b[43m,\u001b[49m\n\u001b[0;32m    308\u001b[0m \u001b[43m                \u001b[49m\u001b[38;5;124;43m\"\u001b[39;49m\u001b[38;5;124;43mtools\u001b[39;49m\u001b[38;5;124;43m\"\u001b[39;49m\u001b[43m:\u001b[49m\u001b[43m \u001b[49m\u001b[43mtools\u001b[49m\u001b[43m,\u001b[49m\n\u001b[0;32m    309\u001b[0m \u001b[43m                \u001b[49m\u001b[38;5;124;43m\"\u001b[39;49m\u001b[38;5;124;43mtop_logprobs\u001b[39;49m\u001b[38;5;124;43m\"\u001b[39;49m\u001b[43m:\u001b[49m\u001b[43m \u001b[49m\u001b[43mtop_logprobs\u001b[49m\u001b[43m,\u001b[49m\n\u001b[0;32m    310\u001b[0m \u001b[43m                \u001b[49m\u001b[38;5;124;43m\"\u001b[39;49m\u001b[38;5;124;43mtop_p\u001b[39;49m\u001b[38;5;124;43m\"\u001b[39;49m\u001b[43m:\u001b[49m\u001b[43m \u001b[49m\u001b[43mtop_p\u001b[49m\u001b[43m,\u001b[49m\n\u001b[0;32m    311\u001b[0m \u001b[43m                \u001b[49m\u001b[38;5;124;43m\"\u001b[39;49m\u001b[38;5;124;43muser\u001b[39;49m\u001b[38;5;124;43m\"\u001b[39;49m\u001b[43m:\u001b[49m\u001b[43m \u001b[49m\u001b[43muser\u001b[49m\u001b[43m,\u001b[49m\n\u001b[0;32m    312\u001b[0m \u001b[43m            \u001b[49m\u001b[43m}\u001b[49m\u001b[43m,\u001b[49m\n\u001b[0;32m    313\u001b[0m \u001b[43m            \u001b[49m\u001b[43mcompletion_create_params\u001b[49m\u001b[38;5;241;43m.\u001b[39;49m\u001b[43mCompletionCreateParams\u001b[49m\u001b[43m,\u001b[49m\n\u001b[0;32m    314\u001b[0m \u001b[43m        \u001b[49m\u001b[43m)\u001b[49m\u001b[43m,\u001b[49m\n\u001b[0;32m    315\u001b[0m \u001b[43m        \u001b[49m\u001b[43moptions\u001b[49m\u001b[38;5;241;43m=\u001b[39;49m\u001b[43mmake_request_options\u001b[49m\u001b[43m(\u001b[49m\n\u001b[0;32m    316\u001b[0m \u001b[43m            \u001b[49m\u001b[43mextra_headers\u001b[49m\u001b[38;5;241;43m=\u001b[39;49m\u001b[43mextra_headers\u001b[49m\u001b[43m,\u001b[49m\u001b[43m \u001b[49m\u001b[43mextra_query\u001b[49m\u001b[38;5;241;43m=\u001b[39;49m\u001b[43mextra_query\u001b[49m\u001b[43m,\u001b[49m\u001b[43m \u001b[49m\u001b[43mextra_body\u001b[49m\u001b[38;5;241;43m=\u001b[39;49m\u001b[43mextra_body\u001b[49m\u001b[43m,\u001b[49m\u001b[43m \u001b[49m\u001b[43mtimeout\u001b[49m\u001b[38;5;241;43m=\u001b[39;49m\u001b[43mtimeout\u001b[49m\n\u001b[0;32m    317\u001b[0m \u001b[43m        \u001b[49m\u001b[43m)\u001b[49m\u001b[43m,\u001b[49m\n\u001b[0;32m    318\u001b[0m \u001b[43m        \u001b[49m\u001b[43mcast_to\u001b[49m\u001b[38;5;241;43m=\u001b[39;49m\u001b[43mChatCompletion\u001b[49m\u001b[43m,\u001b[49m\n\u001b[0;32m    319\u001b[0m \u001b[43m        \u001b[49m\u001b[43mstream\u001b[49m\u001b[38;5;241;43m=\u001b[39;49m\u001b[43mstream\u001b[49m\u001b[43m \u001b[49m\u001b[38;5;129;43;01mor\u001b[39;49;00m\u001b[43m \u001b[49m\u001b[38;5;28;43;01mFalse\u001b[39;49;00m\u001b[43m,\u001b[49m\n\u001b[0;32m    320\u001b[0m \u001b[43m        \u001b[49m\u001b[43mstream_cls\u001b[49m\u001b[38;5;241;43m=\u001b[39;49m\u001b[43mStream\u001b[49m\u001b[43m[\u001b[49m\u001b[43mChatCompletionChunk\u001b[49m\u001b[43m]\u001b[49m\u001b[43m,\u001b[49m\n\u001b[0;32m    321\u001b[0m \u001b[43m    \u001b[49m\u001b[43m)\u001b[49m\n",
      "File \u001b[1;32md:\\agent_lab\\.venv\\Lib\\site-packages\\groq\\_base_client.py:1244\u001b[0m, in \u001b[0;36mSyncAPIClient.post\u001b[1;34m(self, path, cast_to, body, options, files, stream, stream_cls)\u001b[0m\n\u001b[0;32m   1230\u001b[0m \u001b[38;5;28;01mdef\u001b[39;00m \u001b[38;5;21mpost\u001b[39m(\n\u001b[0;32m   1231\u001b[0m     \u001b[38;5;28mself\u001b[39m,\n\u001b[0;32m   1232\u001b[0m     path: \u001b[38;5;28mstr\u001b[39m,\n\u001b[1;32m   (...)\u001b[0m\n\u001b[0;32m   1239\u001b[0m     stream_cls: \u001b[38;5;28mtype\u001b[39m[_StreamT] \u001b[38;5;241m|\u001b[39m \u001b[38;5;28;01mNone\u001b[39;00m \u001b[38;5;241m=\u001b[39m \u001b[38;5;28;01mNone\u001b[39;00m,\n\u001b[0;32m   1240\u001b[0m ) \u001b[38;5;241m-\u001b[39m\u001b[38;5;241m>\u001b[39m ResponseT \u001b[38;5;241m|\u001b[39m _StreamT:\n\u001b[0;32m   1241\u001b[0m     opts \u001b[38;5;241m=\u001b[39m FinalRequestOptions\u001b[38;5;241m.\u001b[39mconstruct(\n\u001b[0;32m   1242\u001b[0m         method\u001b[38;5;241m=\u001b[39m\u001b[38;5;124m\"\u001b[39m\u001b[38;5;124mpost\u001b[39m\u001b[38;5;124m\"\u001b[39m, url\u001b[38;5;241m=\u001b[39mpath, json_data\u001b[38;5;241m=\u001b[39mbody, files\u001b[38;5;241m=\u001b[39mto_httpx_files(files), \u001b[38;5;241m*\u001b[39m\u001b[38;5;241m*\u001b[39moptions\n\u001b[0;32m   1243\u001b[0m     )\n\u001b[1;32m-> 1244\u001b[0m     \u001b[38;5;28;01mreturn\u001b[39;00m cast(ResponseT, \u001b[38;5;28;43mself\u001b[39;49m\u001b[38;5;241;43m.\u001b[39;49m\u001b[43mrequest\u001b[49m\u001b[43m(\u001b[49m\u001b[43mcast_to\u001b[49m\u001b[43m,\u001b[49m\u001b[43m \u001b[49m\u001b[43mopts\u001b[49m\u001b[43m,\u001b[49m\u001b[43m \u001b[49m\u001b[43mstream\u001b[49m\u001b[38;5;241;43m=\u001b[39;49m\u001b[43mstream\u001b[49m\u001b[43m,\u001b[49m\u001b[43m \u001b[49m\u001b[43mstream_cls\u001b[49m\u001b[38;5;241;43m=\u001b[39;49m\u001b[43mstream_cls\u001b[49m\u001b[43m)\u001b[49m)\n",
      "File \u001b[1;32md:\\agent_lab\\.venv\\Lib\\site-packages\\groq\\_base_client.py:936\u001b[0m, in \u001b[0;36mSyncAPIClient.request\u001b[1;34m(self, cast_to, options, remaining_retries, stream, stream_cls)\u001b[0m\n\u001b[0;32m    927\u001b[0m \u001b[38;5;28;01mdef\u001b[39;00m \u001b[38;5;21mrequest\u001b[39m(\n\u001b[0;32m    928\u001b[0m     \u001b[38;5;28mself\u001b[39m,\n\u001b[0;32m    929\u001b[0m     cast_to: Type[ResponseT],\n\u001b[1;32m   (...)\u001b[0m\n\u001b[0;32m    934\u001b[0m     stream_cls: \u001b[38;5;28mtype\u001b[39m[_StreamT] \u001b[38;5;241m|\u001b[39m \u001b[38;5;28;01mNone\u001b[39;00m \u001b[38;5;241m=\u001b[39m \u001b[38;5;28;01mNone\u001b[39;00m,\n\u001b[0;32m    935\u001b[0m ) \u001b[38;5;241m-\u001b[39m\u001b[38;5;241m>\u001b[39m ResponseT \u001b[38;5;241m|\u001b[39m _StreamT:\n\u001b[1;32m--> 936\u001b[0m     \u001b[38;5;28;01mreturn\u001b[39;00m \u001b[38;5;28;43mself\u001b[39;49m\u001b[38;5;241;43m.\u001b[39;49m\u001b[43m_request\u001b[49m\u001b[43m(\u001b[49m\n\u001b[0;32m    937\u001b[0m \u001b[43m        \u001b[49m\u001b[43mcast_to\u001b[49m\u001b[38;5;241;43m=\u001b[39;49m\u001b[43mcast_to\u001b[49m\u001b[43m,\u001b[49m\n\u001b[0;32m    938\u001b[0m \u001b[43m        \u001b[49m\u001b[43moptions\u001b[49m\u001b[38;5;241;43m=\u001b[39;49m\u001b[43moptions\u001b[49m\u001b[43m,\u001b[49m\n\u001b[0;32m    939\u001b[0m \u001b[43m        \u001b[49m\u001b[43mstream\u001b[49m\u001b[38;5;241;43m=\u001b[39;49m\u001b[43mstream\u001b[49m\u001b[43m,\u001b[49m\n\u001b[0;32m    940\u001b[0m \u001b[43m        \u001b[49m\u001b[43mstream_cls\u001b[49m\u001b[38;5;241;43m=\u001b[39;49m\u001b[43mstream_cls\u001b[49m\u001b[43m,\u001b[49m\n\u001b[0;32m    941\u001b[0m \u001b[43m        \u001b[49m\u001b[43mremaining_retries\u001b[49m\u001b[38;5;241;43m=\u001b[39;49m\u001b[43mremaining_retries\u001b[49m\u001b[43m,\u001b[49m\n\u001b[0;32m    942\u001b[0m \u001b[43m    \u001b[49m\u001b[43m)\u001b[49m\n",
      "File \u001b[1;32md:\\agent_lab\\.venv\\Lib\\site-packages\\groq\\_base_client.py:1024\u001b[0m, in \u001b[0;36mSyncAPIClient._request\u001b[1;34m(self, cast_to, options, remaining_retries, stream, stream_cls)\u001b[0m\n\u001b[0;32m   1022\u001b[0m \u001b[38;5;28;01mif\u001b[39;00m retries \u001b[38;5;241m>\u001b[39m \u001b[38;5;241m0\u001b[39m \u001b[38;5;129;01mand\u001b[39;00m \u001b[38;5;28mself\u001b[39m\u001b[38;5;241m.\u001b[39m_should_retry(err\u001b[38;5;241m.\u001b[39mresponse):\n\u001b[0;32m   1023\u001b[0m     err\u001b[38;5;241m.\u001b[39mresponse\u001b[38;5;241m.\u001b[39mclose()\n\u001b[1;32m-> 1024\u001b[0m     \u001b[38;5;28;01mreturn\u001b[39;00m \u001b[38;5;28;43mself\u001b[39;49m\u001b[38;5;241;43m.\u001b[39;49m\u001b[43m_retry_request\u001b[49m\u001b[43m(\u001b[49m\n\u001b[0;32m   1025\u001b[0m \u001b[43m        \u001b[49m\u001b[43minput_options\u001b[49m\u001b[43m,\u001b[49m\n\u001b[0;32m   1026\u001b[0m \u001b[43m        \u001b[49m\u001b[43mcast_to\u001b[49m\u001b[43m,\u001b[49m\n\u001b[0;32m   1027\u001b[0m \u001b[43m        \u001b[49m\u001b[43mretries\u001b[49m\u001b[43m,\u001b[49m\n\u001b[0;32m   1028\u001b[0m \u001b[43m        \u001b[49m\u001b[43merr\u001b[49m\u001b[38;5;241;43m.\u001b[39;49m\u001b[43mresponse\u001b[49m\u001b[38;5;241;43m.\u001b[39;49m\u001b[43mheaders\u001b[49m\u001b[43m,\u001b[49m\n\u001b[0;32m   1029\u001b[0m \u001b[43m        \u001b[49m\u001b[43mstream\u001b[49m\u001b[38;5;241;43m=\u001b[39;49m\u001b[43mstream\u001b[49m\u001b[43m,\u001b[49m\n\u001b[0;32m   1030\u001b[0m \u001b[43m        \u001b[49m\u001b[43mstream_cls\u001b[49m\u001b[38;5;241;43m=\u001b[39;49m\u001b[43mstream_cls\u001b[49m\u001b[43m,\u001b[49m\n\u001b[0;32m   1031\u001b[0m \u001b[43m    \u001b[49m\u001b[43m)\u001b[49m\n\u001b[0;32m   1033\u001b[0m \u001b[38;5;66;03m# If the response is streamed then we need to explicitly read the response\u001b[39;00m\n\u001b[0;32m   1034\u001b[0m \u001b[38;5;66;03m# to completion before attempting to access the response text.\u001b[39;00m\n\u001b[0;32m   1035\u001b[0m \u001b[38;5;28;01mif\u001b[39;00m \u001b[38;5;129;01mnot\u001b[39;00m err\u001b[38;5;241m.\u001b[39mresponse\u001b[38;5;241m.\u001b[39mis_closed:\n",
      "File \u001b[1;32md:\\agent_lab\\.venv\\Lib\\site-packages\\groq\\_base_client.py:1073\u001b[0m, in \u001b[0;36mSyncAPIClient._retry_request\u001b[1;34m(self, options, cast_to, remaining_retries, response_headers, stream, stream_cls)\u001b[0m\n\u001b[0;32m   1069\u001b[0m \u001b[38;5;66;03m# In a synchronous context we are blocking the entire thread. Up to the library user to run the client in a\u001b[39;00m\n\u001b[0;32m   1070\u001b[0m \u001b[38;5;66;03m# different thread if necessary.\u001b[39;00m\n\u001b[0;32m   1071\u001b[0m time\u001b[38;5;241m.\u001b[39msleep(timeout)\n\u001b[1;32m-> 1073\u001b[0m \u001b[38;5;28;01mreturn\u001b[39;00m \u001b[38;5;28;43mself\u001b[39;49m\u001b[38;5;241;43m.\u001b[39;49m\u001b[43m_request\u001b[49m\u001b[43m(\u001b[49m\n\u001b[0;32m   1074\u001b[0m \u001b[43m    \u001b[49m\u001b[43moptions\u001b[49m\u001b[38;5;241;43m=\u001b[39;49m\u001b[43moptions\u001b[49m\u001b[43m,\u001b[49m\n\u001b[0;32m   1075\u001b[0m \u001b[43m    \u001b[49m\u001b[43mcast_to\u001b[49m\u001b[38;5;241;43m=\u001b[39;49m\u001b[43mcast_to\u001b[49m\u001b[43m,\u001b[49m\n\u001b[0;32m   1076\u001b[0m \u001b[43m    \u001b[49m\u001b[43mremaining_retries\u001b[49m\u001b[38;5;241;43m=\u001b[39;49m\u001b[43mremaining\u001b[49m\u001b[43m,\u001b[49m\n\u001b[0;32m   1077\u001b[0m \u001b[43m    \u001b[49m\u001b[43mstream\u001b[49m\u001b[38;5;241;43m=\u001b[39;49m\u001b[43mstream\u001b[49m\u001b[43m,\u001b[49m\n\u001b[0;32m   1078\u001b[0m \u001b[43m    \u001b[49m\u001b[43mstream_cls\u001b[49m\u001b[38;5;241;43m=\u001b[39;49m\u001b[43mstream_cls\u001b[49m\u001b[43m,\u001b[49m\n\u001b[0;32m   1079\u001b[0m \u001b[43m\u001b[49m\u001b[43m)\u001b[49m\n",
      "File \u001b[1;32md:\\agent_lab\\.venv\\Lib\\site-packages\\groq\\_base_client.py:972\u001b[0m, in \u001b[0;36mSyncAPIClient._request\u001b[1;34m(self, cast_to, options, remaining_retries, stream, stream_cls)\u001b[0m\n\u001b[0;32m    969\u001b[0m log\u001b[38;5;241m.\u001b[39mdebug(\u001b[38;5;124m\"\u001b[39m\u001b[38;5;124mSending HTTP Request: \u001b[39m\u001b[38;5;132;01m%s\u001b[39;00m\u001b[38;5;124m \u001b[39m\u001b[38;5;132;01m%s\u001b[39;00m\u001b[38;5;124m\"\u001b[39m, request\u001b[38;5;241m.\u001b[39mmethod, request\u001b[38;5;241m.\u001b[39murl)\n\u001b[0;32m    971\u001b[0m \u001b[38;5;28;01mtry\u001b[39;00m:\n\u001b[1;32m--> 972\u001b[0m     response \u001b[38;5;241m=\u001b[39m \u001b[38;5;28;43mself\u001b[39;49m\u001b[38;5;241;43m.\u001b[39;49m\u001b[43m_client\u001b[49m\u001b[38;5;241;43m.\u001b[39;49m\u001b[43msend\u001b[49m\u001b[43m(\u001b[49m\n\u001b[0;32m    973\u001b[0m \u001b[43m        \u001b[49m\u001b[43mrequest\u001b[49m\u001b[43m,\u001b[49m\n\u001b[0;32m    974\u001b[0m \u001b[43m        \u001b[49m\u001b[43mstream\u001b[49m\u001b[38;5;241;43m=\u001b[39;49m\u001b[43mstream\u001b[49m\u001b[43m \u001b[49m\u001b[38;5;129;43;01mor\u001b[39;49;00m\u001b[43m \u001b[49m\u001b[38;5;28;43mself\u001b[39;49m\u001b[38;5;241;43m.\u001b[39;49m\u001b[43m_should_stream_response_body\u001b[49m\u001b[43m(\u001b[49m\u001b[43mrequest\u001b[49m\u001b[38;5;241;43m=\u001b[39;49m\u001b[43mrequest\u001b[49m\u001b[43m)\u001b[49m\u001b[43m,\u001b[49m\n\u001b[0;32m    975\u001b[0m \u001b[43m        \u001b[49m\u001b[38;5;241;43m*\u001b[39;49m\u001b[38;5;241;43m*\u001b[39;49m\u001b[43mkwargs\u001b[49m\u001b[43m,\u001b[49m\n\u001b[0;32m    976\u001b[0m \u001b[43m    \u001b[49m\u001b[43m)\u001b[49m\n\u001b[0;32m    977\u001b[0m \u001b[38;5;28;01mexcept\u001b[39;00m httpx\u001b[38;5;241m.\u001b[39mTimeoutException \u001b[38;5;28;01mas\u001b[39;00m err:\n\u001b[0;32m    978\u001b[0m     log\u001b[38;5;241m.\u001b[39mdebug(\u001b[38;5;124m\"\u001b[39m\u001b[38;5;124mEncountered httpx.TimeoutException\u001b[39m\u001b[38;5;124m\"\u001b[39m, exc_info\u001b[38;5;241m=\u001b[39m\u001b[38;5;28;01mTrue\u001b[39;00m)\n",
      "File \u001b[1;32md:\\agent_lab\\.venv\\Lib\\site-packages\\httpx\\_client.py:926\u001b[0m, in \u001b[0;36mClient.send\u001b[1;34m(self, request, stream, auth, follow_redirects)\u001b[0m\n\u001b[0;32m    922\u001b[0m \u001b[38;5;28mself\u001b[39m\u001b[38;5;241m.\u001b[39m_set_timeout(request)\n\u001b[0;32m    924\u001b[0m auth \u001b[38;5;241m=\u001b[39m \u001b[38;5;28mself\u001b[39m\u001b[38;5;241m.\u001b[39m_build_request_auth(request, auth)\n\u001b[1;32m--> 926\u001b[0m response \u001b[38;5;241m=\u001b[39m \u001b[38;5;28;43mself\u001b[39;49m\u001b[38;5;241;43m.\u001b[39;49m\u001b[43m_send_handling_auth\u001b[49m\u001b[43m(\u001b[49m\n\u001b[0;32m    927\u001b[0m \u001b[43m    \u001b[49m\u001b[43mrequest\u001b[49m\u001b[43m,\u001b[49m\n\u001b[0;32m    928\u001b[0m \u001b[43m    \u001b[49m\u001b[43mauth\u001b[49m\u001b[38;5;241;43m=\u001b[39;49m\u001b[43mauth\u001b[49m\u001b[43m,\u001b[49m\n\u001b[0;32m    929\u001b[0m \u001b[43m    \u001b[49m\u001b[43mfollow_redirects\u001b[49m\u001b[38;5;241;43m=\u001b[39;49m\u001b[43mfollow_redirects\u001b[49m\u001b[43m,\u001b[49m\n\u001b[0;32m    930\u001b[0m \u001b[43m    \u001b[49m\u001b[43mhistory\u001b[49m\u001b[38;5;241;43m=\u001b[39;49m\u001b[43m[\u001b[49m\u001b[43m]\u001b[49m\u001b[43m,\u001b[49m\n\u001b[0;32m    931\u001b[0m \u001b[43m\u001b[49m\u001b[43m)\u001b[49m\n\u001b[0;32m    932\u001b[0m \u001b[38;5;28;01mtry\u001b[39;00m:\n\u001b[0;32m    933\u001b[0m     \u001b[38;5;28;01mif\u001b[39;00m \u001b[38;5;129;01mnot\u001b[39;00m stream:\n",
      "File \u001b[1;32md:\\agent_lab\\.venv\\Lib\\site-packages\\httpx\\_client.py:954\u001b[0m, in \u001b[0;36mClient._send_handling_auth\u001b[1;34m(self, request, auth, follow_redirects, history)\u001b[0m\n\u001b[0;32m    951\u001b[0m request \u001b[38;5;241m=\u001b[39m \u001b[38;5;28mnext\u001b[39m(auth_flow)\n\u001b[0;32m    953\u001b[0m \u001b[38;5;28;01mwhile\u001b[39;00m \u001b[38;5;28;01mTrue\u001b[39;00m:\n\u001b[1;32m--> 954\u001b[0m     response \u001b[38;5;241m=\u001b[39m \u001b[38;5;28;43mself\u001b[39;49m\u001b[38;5;241;43m.\u001b[39;49m\u001b[43m_send_handling_redirects\u001b[49m\u001b[43m(\u001b[49m\n\u001b[0;32m    955\u001b[0m \u001b[43m        \u001b[49m\u001b[43mrequest\u001b[49m\u001b[43m,\u001b[49m\n\u001b[0;32m    956\u001b[0m \u001b[43m        \u001b[49m\u001b[43mfollow_redirects\u001b[49m\u001b[38;5;241;43m=\u001b[39;49m\u001b[43mfollow_redirects\u001b[49m\u001b[43m,\u001b[49m\n\u001b[0;32m    957\u001b[0m \u001b[43m        \u001b[49m\u001b[43mhistory\u001b[49m\u001b[38;5;241;43m=\u001b[39;49m\u001b[43mhistory\u001b[49m\u001b[43m,\u001b[49m\n\u001b[0;32m    958\u001b[0m \u001b[43m    \u001b[49m\u001b[43m)\u001b[49m\n\u001b[0;32m    959\u001b[0m     \u001b[38;5;28;01mtry\u001b[39;00m:\n\u001b[0;32m    960\u001b[0m         \u001b[38;5;28;01mtry\u001b[39;00m:\n",
      "File \u001b[1;32md:\\agent_lab\\.venv\\Lib\\site-packages\\httpx\\_client.py:991\u001b[0m, in \u001b[0;36mClient._send_handling_redirects\u001b[1;34m(self, request, follow_redirects, history)\u001b[0m\n\u001b[0;32m    988\u001b[0m \u001b[38;5;28;01mfor\u001b[39;00m hook \u001b[38;5;129;01min\u001b[39;00m \u001b[38;5;28mself\u001b[39m\u001b[38;5;241m.\u001b[39m_event_hooks[\u001b[38;5;124m\"\u001b[39m\u001b[38;5;124mrequest\u001b[39m\u001b[38;5;124m\"\u001b[39m]:\n\u001b[0;32m    989\u001b[0m     hook(request)\n\u001b[1;32m--> 991\u001b[0m response \u001b[38;5;241m=\u001b[39m \u001b[38;5;28;43mself\u001b[39;49m\u001b[38;5;241;43m.\u001b[39;49m\u001b[43m_send_single_request\u001b[49m\u001b[43m(\u001b[49m\u001b[43mrequest\u001b[49m\u001b[43m)\u001b[49m\n\u001b[0;32m    992\u001b[0m \u001b[38;5;28;01mtry\u001b[39;00m:\n\u001b[0;32m    993\u001b[0m     \u001b[38;5;28;01mfor\u001b[39;00m hook \u001b[38;5;129;01min\u001b[39;00m \u001b[38;5;28mself\u001b[39m\u001b[38;5;241m.\u001b[39m_event_hooks[\u001b[38;5;124m\"\u001b[39m\u001b[38;5;124mresponse\u001b[39m\u001b[38;5;124m\"\u001b[39m]:\n",
      "File \u001b[1;32md:\\agent_lab\\.venv\\Lib\\site-packages\\httpx\\_client.py:1027\u001b[0m, in \u001b[0;36mClient._send_single_request\u001b[1;34m(self, request)\u001b[0m\n\u001b[0;32m   1022\u001b[0m     \u001b[38;5;28;01mraise\u001b[39;00m \u001b[38;5;167;01mRuntimeError\u001b[39;00m(\n\u001b[0;32m   1023\u001b[0m         \u001b[38;5;124m\"\u001b[39m\u001b[38;5;124mAttempted to send an async request with a sync Client instance.\u001b[39m\u001b[38;5;124m\"\u001b[39m\n\u001b[0;32m   1024\u001b[0m     )\n\u001b[0;32m   1026\u001b[0m \u001b[38;5;28;01mwith\u001b[39;00m request_context(request\u001b[38;5;241m=\u001b[39mrequest):\n\u001b[1;32m-> 1027\u001b[0m     response \u001b[38;5;241m=\u001b[39m \u001b[43mtransport\u001b[49m\u001b[38;5;241;43m.\u001b[39;49m\u001b[43mhandle_request\u001b[49m\u001b[43m(\u001b[49m\u001b[43mrequest\u001b[49m\u001b[43m)\u001b[49m\n\u001b[0;32m   1029\u001b[0m \u001b[38;5;28;01massert\u001b[39;00m \u001b[38;5;28misinstance\u001b[39m(response\u001b[38;5;241m.\u001b[39mstream, SyncByteStream)\n\u001b[0;32m   1031\u001b[0m response\u001b[38;5;241m.\u001b[39mrequest \u001b[38;5;241m=\u001b[39m request\n",
      "File \u001b[1;32md:\\agent_lab\\.venv\\Lib\\site-packages\\httpx\\_transports\\default.py:236\u001b[0m, in \u001b[0;36mHTTPTransport.handle_request\u001b[1;34m(self, request)\u001b[0m\n\u001b[0;32m    223\u001b[0m req \u001b[38;5;241m=\u001b[39m httpcore\u001b[38;5;241m.\u001b[39mRequest(\n\u001b[0;32m    224\u001b[0m     method\u001b[38;5;241m=\u001b[39mrequest\u001b[38;5;241m.\u001b[39mmethod,\n\u001b[0;32m    225\u001b[0m     url\u001b[38;5;241m=\u001b[39mhttpcore\u001b[38;5;241m.\u001b[39mURL(\n\u001b[1;32m   (...)\u001b[0m\n\u001b[0;32m    233\u001b[0m     extensions\u001b[38;5;241m=\u001b[39mrequest\u001b[38;5;241m.\u001b[39mextensions,\n\u001b[0;32m    234\u001b[0m )\n\u001b[0;32m    235\u001b[0m \u001b[38;5;28;01mwith\u001b[39;00m map_httpcore_exceptions():\n\u001b[1;32m--> 236\u001b[0m     resp \u001b[38;5;241m=\u001b[39m \u001b[38;5;28;43mself\u001b[39;49m\u001b[38;5;241;43m.\u001b[39;49m\u001b[43m_pool\u001b[49m\u001b[38;5;241;43m.\u001b[39;49m\u001b[43mhandle_request\u001b[49m\u001b[43m(\u001b[49m\u001b[43mreq\u001b[49m\u001b[43m)\u001b[49m\n\u001b[0;32m    238\u001b[0m \u001b[38;5;28;01massert\u001b[39;00m \u001b[38;5;28misinstance\u001b[39m(resp\u001b[38;5;241m.\u001b[39mstream, typing\u001b[38;5;241m.\u001b[39mIterable)\n\u001b[0;32m    240\u001b[0m \u001b[38;5;28;01mreturn\u001b[39;00m Response(\n\u001b[0;32m    241\u001b[0m     status_code\u001b[38;5;241m=\u001b[39mresp\u001b[38;5;241m.\u001b[39mstatus,\n\u001b[0;32m    242\u001b[0m     headers\u001b[38;5;241m=\u001b[39mresp\u001b[38;5;241m.\u001b[39mheaders,\n\u001b[0;32m    243\u001b[0m     stream\u001b[38;5;241m=\u001b[39mResponseStream(resp\u001b[38;5;241m.\u001b[39mstream),\n\u001b[0;32m    244\u001b[0m     extensions\u001b[38;5;241m=\u001b[39mresp\u001b[38;5;241m.\u001b[39mextensions,\n\u001b[0;32m    245\u001b[0m )\n",
      "File \u001b[1;32md:\\agent_lab\\.venv\\Lib\\site-packages\\httpcore\\_sync\\connection_pool.py:216\u001b[0m, in \u001b[0;36mConnectionPool.handle_request\u001b[1;34m(self, request)\u001b[0m\n\u001b[0;32m    213\u001b[0m         closing \u001b[38;5;241m=\u001b[39m \u001b[38;5;28mself\u001b[39m\u001b[38;5;241m.\u001b[39m_assign_requests_to_connections()\n\u001b[0;32m    215\u001b[0m     \u001b[38;5;28mself\u001b[39m\u001b[38;5;241m.\u001b[39m_close_connections(closing)\n\u001b[1;32m--> 216\u001b[0m     \u001b[38;5;28;01mraise\u001b[39;00m exc \u001b[38;5;28;01mfrom\u001b[39;00m \u001b[38;5;28;01mNone\u001b[39;00m\n\u001b[0;32m    218\u001b[0m \u001b[38;5;66;03m# Return the response. Note that in this case we still have to manage\u001b[39;00m\n\u001b[0;32m    219\u001b[0m \u001b[38;5;66;03m# the point at which the response is closed.\u001b[39;00m\n\u001b[0;32m    220\u001b[0m \u001b[38;5;28;01massert\u001b[39;00m \u001b[38;5;28misinstance\u001b[39m(response\u001b[38;5;241m.\u001b[39mstream, Iterable)\n",
      "File \u001b[1;32md:\\agent_lab\\.venv\\Lib\\site-packages\\httpcore\\_sync\\connection_pool.py:196\u001b[0m, in \u001b[0;36mConnectionPool.handle_request\u001b[1;34m(self, request)\u001b[0m\n\u001b[0;32m    192\u001b[0m connection \u001b[38;5;241m=\u001b[39m pool_request\u001b[38;5;241m.\u001b[39mwait_for_connection(timeout\u001b[38;5;241m=\u001b[39mtimeout)\n\u001b[0;32m    194\u001b[0m \u001b[38;5;28;01mtry\u001b[39;00m:\n\u001b[0;32m    195\u001b[0m     \u001b[38;5;66;03m# Send the request on the assigned connection.\u001b[39;00m\n\u001b[1;32m--> 196\u001b[0m     response \u001b[38;5;241m=\u001b[39m \u001b[43mconnection\u001b[49m\u001b[38;5;241;43m.\u001b[39;49m\u001b[43mhandle_request\u001b[49m\u001b[43m(\u001b[49m\n\u001b[0;32m    197\u001b[0m \u001b[43m        \u001b[49m\u001b[43mpool_request\u001b[49m\u001b[38;5;241;43m.\u001b[39;49m\u001b[43mrequest\u001b[49m\n\u001b[0;32m    198\u001b[0m \u001b[43m    \u001b[49m\u001b[43m)\u001b[49m\n\u001b[0;32m    199\u001b[0m \u001b[38;5;28;01mexcept\u001b[39;00m ConnectionNotAvailable:\n\u001b[0;32m    200\u001b[0m     \u001b[38;5;66;03m# In some cases a connection may initially be available to\u001b[39;00m\n\u001b[0;32m    201\u001b[0m     \u001b[38;5;66;03m# handle a request, but then become unavailable.\u001b[39;00m\n\u001b[0;32m    202\u001b[0m     \u001b[38;5;66;03m#\u001b[39;00m\n\u001b[0;32m    203\u001b[0m     \u001b[38;5;66;03m# In this case we clear the connection and try again.\u001b[39;00m\n\u001b[0;32m    204\u001b[0m     pool_request\u001b[38;5;241m.\u001b[39mclear_connection()\n",
      "File \u001b[1;32md:\\agent_lab\\.venv\\Lib\\site-packages\\httpcore\\_sync\\connection.py:101\u001b[0m, in \u001b[0;36mHTTPConnection.handle_request\u001b[1;34m(self, request)\u001b[0m\n\u001b[0;32m     98\u001b[0m     \u001b[38;5;28mself\u001b[39m\u001b[38;5;241m.\u001b[39m_connect_failed \u001b[38;5;241m=\u001b[39m \u001b[38;5;28;01mTrue\u001b[39;00m\n\u001b[0;32m     99\u001b[0m     \u001b[38;5;28;01mraise\u001b[39;00m exc\n\u001b[1;32m--> 101\u001b[0m \u001b[38;5;28;01mreturn\u001b[39;00m \u001b[38;5;28;43mself\u001b[39;49m\u001b[38;5;241;43m.\u001b[39;49m\u001b[43m_connection\u001b[49m\u001b[38;5;241;43m.\u001b[39;49m\u001b[43mhandle_request\u001b[49m\u001b[43m(\u001b[49m\u001b[43mrequest\u001b[49m\u001b[43m)\u001b[49m\n",
      "File \u001b[1;32md:\\agent_lab\\.venv\\Lib\\site-packages\\httpcore\\_sync\\http11.py:143\u001b[0m, in \u001b[0;36mHTTP11Connection.handle_request\u001b[1;34m(self, request)\u001b[0m\n\u001b[0;32m    141\u001b[0m     \u001b[38;5;28;01mwith\u001b[39;00m Trace(\u001b[38;5;124m\"\u001b[39m\u001b[38;5;124mresponse_closed\u001b[39m\u001b[38;5;124m\"\u001b[39m, logger, request) \u001b[38;5;28;01mas\u001b[39;00m trace:\n\u001b[0;32m    142\u001b[0m         \u001b[38;5;28mself\u001b[39m\u001b[38;5;241m.\u001b[39m_response_closed()\n\u001b[1;32m--> 143\u001b[0m \u001b[38;5;28;01mraise\u001b[39;00m exc\n",
      "File \u001b[1;32md:\\agent_lab\\.venv\\Lib\\site-packages\\httpcore\\_sync\\http11.py:113\u001b[0m, in \u001b[0;36mHTTP11Connection.handle_request\u001b[1;34m(self, request)\u001b[0m\n\u001b[0;32m    102\u001b[0m     \u001b[38;5;28;01mpass\u001b[39;00m\n\u001b[0;32m    104\u001b[0m \u001b[38;5;28;01mwith\u001b[39;00m Trace(\n\u001b[0;32m    105\u001b[0m     \u001b[38;5;124m\"\u001b[39m\u001b[38;5;124mreceive_response_headers\u001b[39m\u001b[38;5;124m\"\u001b[39m, logger, request, kwargs\n\u001b[0;32m    106\u001b[0m ) \u001b[38;5;28;01mas\u001b[39;00m trace:\n\u001b[0;32m    107\u001b[0m     (\n\u001b[0;32m    108\u001b[0m         http_version,\n\u001b[0;32m    109\u001b[0m         status,\n\u001b[0;32m    110\u001b[0m         reason_phrase,\n\u001b[0;32m    111\u001b[0m         headers,\n\u001b[0;32m    112\u001b[0m         trailing_data,\n\u001b[1;32m--> 113\u001b[0m     ) \u001b[38;5;241m=\u001b[39m \u001b[38;5;28;43mself\u001b[39;49m\u001b[38;5;241;43m.\u001b[39;49m\u001b[43m_receive_response_headers\u001b[49m\u001b[43m(\u001b[49m\u001b[38;5;241;43m*\u001b[39;49m\u001b[38;5;241;43m*\u001b[39;49m\u001b[43mkwargs\u001b[49m\u001b[43m)\u001b[49m\n\u001b[0;32m    114\u001b[0m     trace\u001b[38;5;241m.\u001b[39mreturn_value \u001b[38;5;241m=\u001b[39m (\n\u001b[0;32m    115\u001b[0m         http_version,\n\u001b[0;32m    116\u001b[0m         status,\n\u001b[0;32m    117\u001b[0m         reason_phrase,\n\u001b[0;32m    118\u001b[0m         headers,\n\u001b[0;32m    119\u001b[0m     )\n\u001b[0;32m    121\u001b[0m network_stream \u001b[38;5;241m=\u001b[39m \u001b[38;5;28mself\u001b[39m\u001b[38;5;241m.\u001b[39m_network_stream\n",
      "File \u001b[1;32md:\\agent_lab\\.venv\\Lib\\site-packages\\httpcore\\_sync\\http11.py:186\u001b[0m, in \u001b[0;36mHTTP11Connection._receive_response_headers\u001b[1;34m(self, request)\u001b[0m\n\u001b[0;32m    183\u001b[0m timeout \u001b[38;5;241m=\u001b[39m timeouts\u001b[38;5;241m.\u001b[39mget(\u001b[38;5;124m\"\u001b[39m\u001b[38;5;124mread\u001b[39m\u001b[38;5;124m\"\u001b[39m, \u001b[38;5;28;01mNone\u001b[39;00m)\n\u001b[0;32m    185\u001b[0m \u001b[38;5;28;01mwhile\u001b[39;00m \u001b[38;5;28;01mTrue\u001b[39;00m:\n\u001b[1;32m--> 186\u001b[0m     event \u001b[38;5;241m=\u001b[39m \u001b[38;5;28;43mself\u001b[39;49m\u001b[38;5;241;43m.\u001b[39;49m\u001b[43m_receive_event\u001b[49m\u001b[43m(\u001b[49m\u001b[43mtimeout\u001b[49m\u001b[38;5;241;43m=\u001b[39;49m\u001b[43mtimeout\u001b[49m\u001b[43m)\u001b[49m\n\u001b[0;32m    187\u001b[0m     \u001b[38;5;28;01mif\u001b[39;00m \u001b[38;5;28misinstance\u001b[39m(event, h11\u001b[38;5;241m.\u001b[39mResponse):\n\u001b[0;32m    188\u001b[0m         \u001b[38;5;28;01mbreak\u001b[39;00m\n",
      "File \u001b[1;32md:\\agent_lab\\.venv\\Lib\\site-packages\\httpcore\\_sync\\http11.py:224\u001b[0m, in \u001b[0;36mHTTP11Connection._receive_event\u001b[1;34m(self, timeout)\u001b[0m\n\u001b[0;32m    221\u001b[0m     event \u001b[38;5;241m=\u001b[39m \u001b[38;5;28mself\u001b[39m\u001b[38;5;241m.\u001b[39m_h11_state\u001b[38;5;241m.\u001b[39mnext_event()\n\u001b[0;32m    223\u001b[0m \u001b[38;5;28;01mif\u001b[39;00m event \u001b[38;5;129;01mis\u001b[39;00m h11\u001b[38;5;241m.\u001b[39mNEED_DATA:\n\u001b[1;32m--> 224\u001b[0m     data \u001b[38;5;241m=\u001b[39m \u001b[38;5;28;43mself\u001b[39;49m\u001b[38;5;241;43m.\u001b[39;49m\u001b[43m_network_stream\u001b[49m\u001b[38;5;241;43m.\u001b[39;49m\u001b[43mread\u001b[49m\u001b[43m(\u001b[49m\n\u001b[0;32m    225\u001b[0m \u001b[43m        \u001b[49m\u001b[38;5;28;43mself\u001b[39;49m\u001b[38;5;241;43m.\u001b[39;49m\u001b[43mREAD_NUM_BYTES\u001b[49m\u001b[43m,\u001b[49m\u001b[43m \u001b[49m\u001b[43mtimeout\u001b[49m\u001b[38;5;241;43m=\u001b[39;49m\u001b[43mtimeout\u001b[49m\n\u001b[0;32m    226\u001b[0m \u001b[43m    \u001b[49m\u001b[43m)\u001b[49m\n\u001b[0;32m    228\u001b[0m     \u001b[38;5;66;03m# If we feed this case through h11 we'll raise an exception like:\u001b[39;00m\n\u001b[0;32m    229\u001b[0m     \u001b[38;5;66;03m#\u001b[39;00m\n\u001b[0;32m    230\u001b[0m     \u001b[38;5;66;03m#     httpcore.RemoteProtocolError: can't handle event type\u001b[39;00m\n\u001b[1;32m   (...)\u001b[0m\n\u001b[0;32m    234\u001b[0m     \u001b[38;5;66;03m# perspective. Instead we handle this case distinctly and treat\u001b[39;00m\n\u001b[0;32m    235\u001b[0m     \u001b[38;5;66;03m# it as a ConnectError.\u001b[39;00m\n\u001b[0;32m    236\u001b[0m     \u001b[38;5;28;01mif\u001b[39;00m data \u001b[38;5;241m==\u001b[39m \u001b[38;5;124mb\u001b[39m\u001b[38;5;124m\"\u001b[39m\u001b[38;5;124m\"\u001b[39m \u001b[38;5;129;01mand\u001b[39;00m \u001b[38;5;28mself\u001b[39m\u001b[38;5;241m.\u001b[39m_h11_state\u001b[38;5;241m.\u001b[39mtheir_state \u001b[38;5;241m==\u001b[39m h11\u001b[38;5;241m.\u001b[39mSEND_RESPONSE:\n",
      "File \u001b[1;32md:\\agent_lab\\.venv\\Lib\\site-packages\\httpcore\\_backends\\sync.py:126\u001b[0m, in \u001b[0;36mSyncStream.read\u001b[1;34m(self, max_bytes, timeout)\u001b[0m\n\u001b[0;32m    124\u001b[0m \u001b[38;5;28;01mwith\u001b[39;00m map_exceptions(exc_map):\n\u001b[0;32m    125\u001b[0m     \u001b[38;5;28mself\u001b[39m\u001b[38;5;241m.\u001b[39m_sock\u001b[38;5;241m.\u001b[39msettimeout(timeout)\n\u001b[1;32m--> 126\u001b[0m     \u001b[38;5;28;01mreturn\u001b[39;00m \u001b[38;5;28;43mself\u001b[39;49m\u001b[38;5;241;43m.\u001b[39;49m\u001b[43m_sock\u001b[49m\u001b[38;5;241;43m.\u001b[39;49m\u001b[43mrecv\u001b[49m\u001b[43m(\u001b[49m\u001b[43mmax_bytes\u001b[49m\u001b[43m)\u001b[49m\n",
      "File \u001b[1;32m~\\AppData\\Local\\Programs\\Python\\Python312\\Lib\\ssl.py:1232\u001b[0m, in \u001b[0;36mSSLSocket.recv\u001b[1;34m(self, buflen, flags)\u001b[0m\n\u001b[0;32m   1228\u001b[0m     \u001b[38;5;28;01mif\u001b[39;00m flags \u001b[38;5;241m!=\u001b[39m \u001b[38;5;241m0\u001b[39m:\n\u001b[0;32m   1229\u001b[0m         \u001b[38;5;28;01mraise\u001b[39;00m \u001b[38;5;167;01mValueError\u001b[39;00m(\n\u001b[0;32m   1230\u001b[0m             \u001b[38;5;124m\"\u001b[39m\u001b[38;5;124mnon-zero flags not allowed in calls to recv() on \u001b[39m\u001b[38;5;132;01m%s\u001b[39;00m\u001b[38;5;124m\"\u001b[39m \u001b[38;5;241m%\u001b[39m\n\u001b[0;32m   1231\u001b[0m             \u001b[38;5;28mself\u001b[39m\u001b[38;5;241m.\u001b[39m\u001b[38;5;18m__class__\u001b[39m)\n\u001b[1;32m-> 1232\u001b[0m     \u001b[38;5;28;01mreturn\u001b[39;00m \u001b[38;5;28;43mself\u001b[39;49m\u001b[38;5;241;43m.\u001b[39;49m\u001b[43mread\u001b[49m\u001b[43m(\u001b[49m\u001b[43mbuflen\u001b[49m\u001b[43m)\u001b[49m\n\u001b[0;32m   1233\u001b[0m \u001b[38;5;28;01melse\u001b[39;00m:\n\u001b[0;32m   1234\u001b[0m     \u001b[38;5;28;01mreturn\u001b[39;00m \u001b[38;5;28msuper\u001b[39m()\u001b[38;5;241m.\u001b[39mrecv(buflen, flags)\n",
      "File \u001b[1;32m~\\AppData\\Local\\Programs\\Python\\Python312\\Lib\\ssl.py:1105\u001b[0m, in \u001b[0;36mSSLSocket.read\u001b[1;34m(self, len, buffer)\u001b[0m\n\u001b[0;32m   1103\u001b[0m         \u001b[38;5;28;01mreturn\u001b[39;00m \u001b[38;5;28mself\u001b[39m\u001b[38;5;241m.\u001b[39m_sslobj\u001b[38;5;241m.\u001b[39mread(\u001b[38;5;28mlen\u001b[39m, buffer)\n\u001b[0;32m   1104\u001b[0m     \u001b[38;5;28;01melse\u001b[39;00m:\n\u001b[1;32m-> 1105\u001b[0m         \u001b[38;5;28;01mreturn\u001b[39;00m \u001b[38;5;28;43mself\u001b[39;49m\u001b[38;5;241;43m.\u001b[39;49m\u001b[43m_sslobj\u001b[49m\u001b[38;5;241;43m.\u001b[39;49m\u001b[43mread\u001b[49m\u001b[43m(\u001b[49m\u001b[38;5;28;43mlen\u001b[39;49m\u001b[43m)\u001b[49m\n\u001b[0;32m   1106\u001b[0m \u001b[38;5;28;01mexcept\u001b[39;00m SSLError \u001b[38;5;28;01mas\u001b[39;00m x:\n\u001b[0;32m   1107\u001b[0m     \u001b[38;5;28;01mif\u001b[39;00m x\u001b[38;5;241m.\u001b[39margs[\u001b[38;5;241m0\u001b[39m] \u001b[38;5;241m==\u001b[39m SSL_ERROR_EOF \u001b[38;5;129;01mand\u001b[39;00m \u001b[38;5;28mself\u001b[39m\u001b[38;5;241m.\u001b[39msuppress_ragged_eofs:\n",
      "\u001b[1;31mKeyboardInterrupt\u001b[0m: "
     ]
    }
   ],
   "source": [
    "from pprint import pprint\n",
    "from langgraph.errors import GraphRecursionError\n",
    "%timeit\n",
    "# Run\n",
    "# query = \"\"\"\n",
    "# what is the obligation of master of troubled vessel in \"singapore\" \"port\"\n",
    "# \"\"\"\n",
    "inputs = {\n",
    "    \"question\": query, \n",
    "    # \"max_retrieve\": 1,\n",
    "    \n",
    "}\n",
    "config = {\n",
    "    \"recursion_limit\": 30, \n",
    "    # \"configurable\": {\"thread_id\": \"1\"}\n",
    "    }\n",
    "try:\n",
    "    for output in app.stream(inputs, \n",
    "                            config, \n",
    "                            #  stream_mode=\"values\"\n",
    "                            ):\n",
    "        for key, value in output.items():\n",
    "            # Node\n",
    "            pprint(f\"Node '{key}':\")\n",
    "        pprint(\"=\"*70)\n",
    "\n",
    "    # Final generation\n",
    "    print(\"\")\n",
    "    pprint(value)\n",
    "except GraphRecursionError:\n",
    "    print(\"Recursion Error\")"
   ]
  },
  {
   "cell_type": "code",
   "execution_count": 45,
   "metadata": {},
   "outputs": [
    {
     "name": "stdout",
     "output_type": "stream",
     "text": [
      "Based on the provided context from the Lloyd's Register Rules and Regulations for the Classification of Ships, July 2022, ships with integrated chemical processing facilities need to comply with the following specific requirements and regulations:\n",
      "\n",
      "1. **Hull Structural Requirements**: Category 3 ships require additional hull structural requirements to enable them to be satisfactorily grounded (LR, page 1650).\n",
      "2. **Process Plant Arrangements**:\n",
      "\t* Arrangements for preventing water ingress into the ship or structure where process plant and equipment protrude through the weather deck (LR, page 1648).\n",
      "\t* Proposed emergency flooding procedures and their control (LR, page 1649).\n",
      "\t* Particulars of proposed storage arrangements of hazardous and/or toxic substances, feedstocks, and products in bulk on the ship or structure (LR, page 1649).\n",
      "3. **Process Plant Design**:\n",
      "\t* Description of the expected method of operation of the process plant and a diagram showing the process flow (LR, page 1649).\n",
      "\t* General arrangement plans of the process plant showing hazardous and safe zones and spaces, indicating compliance with specific rules and regulations (LR, page 1649).\n",
      "4. **Chemical Storage and Handling**:\n",
      "\t* Materials or inside coating used for chemical storage tanks, piping, and fittings must be resistant to the corresponding chemical substances (LR, page 1427).\n",
      "\t* Chemical substances and gas storage tanks must be designed, constructed, tested, inspected, certified, and maintained in accordance with specific rules and regulations, such as:\n",
      "\t\t+ LR Rules for pressure vessels of Class I or II, applicable to independent tanks containing dangerous liquids or gases (Pt 5, Ch 11 Other Pressure Vessels, LR, page 1427).\n",
      "5. **Classification**: Ships with integrated chemical processing facilities must comply with the Classification Rules for Ships with Installed Process Plant for Chemicals, Liquified Gases and Related Products (Part 7, Chapter 2 Section 3, Lloyd's Register, page 1649).\n",
      "\n",
      "These requirements and regulations aim to ensure the safe operation of ships with integrated chemical processing facilities, protecting both the ship and its crew from potential risks associated with the treatment process.\n",
      "\n",
      "If you have any further questions or would like me to clarify any specific requirement, please let me know.\n"
     ]
    }
   ],
   "source": [
    "print(value['generation'])"
   ]
  },
  {
   "cell_type": "code",
   "execution_count": null,
   "metadata": {},
   "outputs": [],
   "source": []
  }
 ],
 "metadata": {
  "kernelspec": {
   "display_name": ".venv",
   "language": "python",
   "name": "python3"
  },
  "language_info": {
   "codemirror_mode": {
    "name": "ipython",
    "version": 3
   },
   "file_extension": ".py",
   "mimetype": "text/x-python",
   "name": "python",
   "nbconvert_exporter": "python",
   "pygments_lexer": "ipython3",
   "version": "3.12.7"
  }
 },
 "nbformat": 4,
 "nbformat_minor": 2
}
