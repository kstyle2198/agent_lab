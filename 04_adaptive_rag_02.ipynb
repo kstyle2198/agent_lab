{
 "cells": [
  {
   "cell_type": "code",
   "execution_count": 180,
   "metadata": {},
   "outputs": [],
   "source": [
    "from typing import Literal\n",
    "from langchain_core.prompts import ChatPromptTemplate\n",
    "from langchain_groq import ChatGroq\n",
    "from langchain_ollama.chat_models import ChatOllama\n",
    "from pydantic import BaseModel, Field\n",
    "from langchain_chroma import Chroma\n",
    "from langchain_core.output_parsers import StrOutputParser\n",
    "from langchain_ollama import OllamaEmbeddings\n",
    "import chromadb\n",
    "import pandas as pd\n",
    "from pprint import pprint\n",
    "from IPython.display import Image, display\n",
    "import requests"
   ]
  },
  {
   "cell_type": "markdown",
   "metadata": {},
   "source": [
    "## Helper Function"
   ]
  },
  {
   "cell_type": "code",
   "execution_count": 181,
   "metadata": {},
   "outputs": [],
   "source": [
    "def get_semantic_search_docs(query:str, vectorstore, k:int=100, fetch_k:int=200):\n",
    "    retriever = vectorstore.as_retriever(\n",
    "        search_type=\"mmr\", \n",
    "        search_kwargs={'k': k, \"fetch_k\": fetch_k}\n",
    "        )\n",
    "    result = retriever.invoke(query)\n",
    "    return result\n",
    "\n",
    "import re\n",
    "import numpy as np\n",
    "from rank_bm25 import BM25Okapi\n",
    "\n",
    "def get_bm25_top_docs(query:str, documents:list, top_k:int=20):\n",
    "\n",
    "    tokenized_corpus = [doc.page_content for doc in documents]\n",
    "    bm25 = BM25Okapi(tokenized_corpus)\n",
    "\n",
    "    pattern = r'\"(.*?)\"'  # 따옴표로 둘러싸인 단어만 검색 대상으로 리스트에 담기\n",
    "    extracted_keywords = re.findall(pattern, query)\n",
    "\n",
    "    doc_scores = bm25.get_scores(extracted_keywords)\n",
    "    sorted_indices = np.argsort(doc_scores)  # 값에 대한 정렬된 인덱스\n",
    "    order_values = np.empty_like(sorted_indices)\n",
    "    order_values[sorted_indices] = np.arange(len(doc_scores))\n",
    "\n",
    "    top_index = [i for i, value in enumerate(order_values) if value < top_k]\n",
    "    top_docs = [i for i in documents if documents.index(i) in top_index ]\n",
    "    return top_docs\n",
    "    \n",
    "\n",
    "def get_keywords_matched_docs(query:str, documents:list, and_condition:bool=True):\n",
    "    pattern = r'\"(.*?)\"'  # 따옴표로 둘러싸인 단어만 검색 대상으로 리스트에 담기\n",
    "    extracted_keywords = re.findall(pattern, query)\n",
    "    lower_keywors = [keyword.lower() for keyword in extracted_keywords]\n",
    "\n",
    "    lower_docs = [doc.page_content.lower() for doc in documents]\n",
    "    if and_condition: matching_sentences = [sentence for sentence in lower_docs if all(keyword in sentence for keyword in lower_keywors)]\n",
    "    else: matching_sentences = [sentence for sentence in lower_docs if any(keyword in sentence for keyword in lower_keywors)]\n",
    "\n",
    "    matched_index = [lower_docs.index(doc) for doc in matching_sentences]\n",
    "    final_matched_docs = [documents[i] for i in matched_index]\n",
    "\n",
    "    return final_matched_docs\n"
   ]
  },
  {
   "cell_type": "code",
   "execution_count": 210,
   "metadata": {},
   "outputs": [
    {
     "data": {
      "text/plain": [
       "ChatOllama(model='llama3.2:latest', base_url='http://localhost:11434')"
      ]
     },
     "execution_count": 210,
     "metadata": {},
     "output_type": "execute_result"
    }
   ],
   "source": [
    "# llm = ChatGroq(temperature=0, model_name= \"llama-3.2-11b-text-preview\")\n",
    "llm = ChatOllama(base_url=\"http://localhost:11434\", model=\"llama3.2:latest\")\n",
    "llm"
   ]
  },
  {
   "cell_type": "code",
   "execution_count": 211,
   "metadata": {},
   "outputs": [
    {
     "data": {
      "text/plain": [
       "<langchain_chroma.vectorstores.Chroma at 0x18e9e2b8ce0>"
      ]
     },
     "execution_count": 211,
     "metadata": {},
     "output_type": "execute_result"
    }
   ],
   "source": [
    "%timeit\n",
    "db_path = \"./db/chroma_db_02\"\n",
    "vectorstore = Chroma(collection_name=\"collection_01\", persist_directory=db_path, embedding_function=OllamaEmbeddings(model=\"bge-m3:latest\"))\n",
    "vectorstore"
   ]
  },
  {
   "cell_type": "code",
   "execution_count": 212,
   "metadata": {},
   "outputs": [
    {
     "name": "stdout",
     "output_type": "stream",
     "text": [
      "['MANUAL', 'Rules', 'PORT']\n",
      "['ABS', 'Integrated Smart Ship(ISS)', 'KR', 'DNV', 'MARPOL', 'Win GD', 'NK', 'Common', 'Port Regulation', 'SOLAS', 'LR', 'BV', 'Cryostar']\n"
     ]
    },
    {
     "data": {
      "text/plain": [
       "'vectordb, vectorstore, MANUAL, Rules, PORT, ABS, Integrated Smart Ship(ISS), KR, DNV, MARPOL, Win GD, NK, Common, Port Regulation, SOLAS, LR, BV, Cryostar'"
      ]
     },
     "execution_count": 212,
     "metadata": {},
     "output_type": "execute_result"
    }
   ],
   "source": [
    "def vectordb_targets(db_path:str):\n",
    "    client = chromadb.PersistentClient(path=db_path)\n",
    "    for collection in client.list_collections():\n",
    "        data = collection.get(include=['metadatas'])\n",
    "    lv1 = list(set([d['First Division'] for d in data[\"metadatas\"]]))\n",
    "    print(lv1)\n",
    "    lv2 = list(set([d['Second Division'] for d in data[\"metadatas\"]]))\n",
    "    print(lv2)\n",
    "    rag_target = lv1 + lv2\n",
    "    rag_target.insert(0, \"vectorstore\")\n",
    "    rag_target.insert(0, \"vectordb\")\n",
    "    docs = \", \".join(rag_target)\n",
    "    return docs\n",
    "\n",
    "docs = vectordb_targets(db_path=db_path)\n",
    "docs"
   ]
  },
  {
   "cell_type": "markdown",
   "metadata": {},
   "source": [
    "## Router"
   ]
  },
  {
   "cell_type": "code",
   "execution_count": 213,
   "metadata": {},
   "outputs": [
    {
     "data": {
      "text/plain": [
       "ChatPromptTemplate(input_variables=['question'], input_types={}, partial_variables={}, messages=[SystemMessagePromptTemplate(prompt=PromptTemplate(input_variables=[], input_types={}, partial_variables={}, template='You are an expert at routing a user question to a vectorstore, web search or database.\\nThe vectorstore contains documents related to vectordb, vectorstore, MANUAL, Rules, PORT, ABS, Integrated Smart Ship(ISS), KR, DNV, MARPOL, Win GD, NK, Common, Port Regulation, SOLAS, LR, BV, Cryostar, Use the vectorstore for questions on these topics. \\nThe question contains words of similarity or sim search, Use similarity_search for the question.\\nThe question contains words related to database, Use the database for the question. \\nOtherwise, use web-search.'), additional_kwargs={}), HumanMessagePromptTemplate(prompt=PromptTemplate(input_variables=['question'], input_types={}, partial_variables={}, template='{question}'), additional_kwargs={})])\n",
       "| RunnableBinding(bound=ChatOllama(model='llama3.2:latest', base_url='http://localhost:11434'), kwargs={'tools': [{'type': 'function', 'function': {'name': 'RouteQuery', 'description': 'Route a user query to the most relevant datasource.', 'parameters': {'properties': {'datasource': {'description': 'Given a user question choose to route it to web search or a vectorstore or a similarity or a database.', 'enum': ['similarity_search', 'vectorstore', 'web_search', 'database'], 'type': 'string'}}, 'required': ['datasource'], 'type': 'object'}}}], 'tool_choice': 'any'}, config={}, config_factories=[])\n",
       "| PydanticToolsParser(first_tool_only=True, tools=[<class '__main__.RouteQuery'>])"
      ]
     },
     "execution_count": 213,
     "metadata": {},
     "output_type": "execute_result"
    }
   ],
   "source": [
    "# Data model for Structured LLM\n",
    "class RouteQuery(BaseModel):\n",
    "    \"\"\"Route a user query to the most relevant datasource.\"\"\"\n",
    "\n",
    "    datasource: Literal[\"similarity_search\", \"vectorstore\", \"web_search\", \"database\"] = Field(\n",
    "        ...,\n",
    "        description=\"Given a user question choose to route it to web search or a vectorstore or a similarity or a database.\",\n",
    "    )\n",
    "\n",
    "# Prompt\n",
    "system = f\"\"\"You are an expert at routing a user question to a vectorstore, web search or database.\n",
    "The vectorstore contains documents related to {docs}, Use the vectorstore for questions on these topics. \n",
    "The question contains words of similarity or sim search, Use similarity_search for the question.\n",
    "The question contains words related to database, Use the database for the question. \n",
    "Otherwise, use web-search.\"\"\"\n",
    "route_prompt = ChatPromptTemplate.from_messages(\n",
    "    [\n",
    "        (\"system\", system),\n",
    "        (\"human\", \"{question}\"),\n",
    "    ]\n",
    ")\n",
    "structured_llm_router = llm.with_structured_output(RouteQuery)\n",
    "question_router = route_prompt | structured_llm_router\n",
    "question_router"
   ]
  },
  {
   "cell_type": "code",
   "execution_count": 215,
   "metadata": {},
   "outputs": [
    {
     "name": "stdout",
     "output_type": "stream",
     "text": [
      "datasource='web_search'\n",
      "datasource='database'\n",
      "datasource='vectorstore'\n",
      "datasource='similarity_search'\n"
     ]
    }
   ],
   "source": [
    "%timeit\n",
    "print(question_router.invoke({\"question\": \"who is Son Heung-min\"}))\n",
    "print(question_router.invoke({\"question\": \"according to database, who is Son Heung-min\"}))\n",
    "print(question_router.invoke({\"question\": \"according to vectordb, who is Son Heung-min\"}))\n",
    "print(question_router.invoke({\"question\": \"sim search for Son Heung-min\"}))"
   ]
  },
  {
   "cell_type": "markdown",
   "metadata": {},
   "source": [
    "## Retrieval Grader"
   ]
  },
  {
   "cell_type": "code",
   "execution_count": 216,
   "metadata": {},
   "outputs": [
    {
     "data": {
      "text/plain": [
       "ChatPromptTemplate(input_variables=['document', 'question'], input_types={}, partial_variables={}, messages=[SystemMessagePromptTemplate(prompt=PromptTemplate(input_variables=[], input_types={}, partial_variables={}, template=\"You are a grader assessing relevance of a retrieved document to a user question. \\n \\n    If the document contains keyword(s) or semantic meaning related to the user question, grade it as relevant. \\n\\n    It does not need to be a stringent test. The goal is to filter out erroneous retrievals. \\n\\n    Give a binary score 'yes' or 'no' score to indicate whether the document is relevant to the question.\"), additional_kwargs={}), HumanMessagePromptTemplate(prompt=PromptTemplate(input_variables=['document', 'question'], input_types={}, partial_variables={}, template='Retrieved document: \\n\\n {document} \\n\\n User question: {question}'), additional_kwargs={})])\n",
       "| RunnableBinding(bound=ChatOllama(model='llama3.2:latest', base_url='http://localhost:11434'), kwargs={'tools': [{'type': 'function', 'function': {'name': 'GradeDocuments', 'description': 'Binary score for relevance check on retrieved documents.', 'parameters': {'properties': {'binary_score': {'description': \"Documents are relevant to the question, 'yes' or 'no'\", 'type': 'string'}}, 'required': ['binary_score'], 'type': 'object'}}}], 'tool_choice': 'any'}, config={}, config_factories=[])\n",
       "| PydanticToolsParser(first_tool_only=True, tools=[<class '__main__.GradeDocuments'>])"
      ]
     },
     "execution_count": 216,
     "metadata": {},
     "output_type": "execute_result"
    }
   ],
   "source": [
    "# Data model\n",
    "class GradeDocuments(BaseModel):\n",
    "    \"\"\"Binary score for relevance check on retrieved documents.\"\"\"\n",
    "\n",
    "    binary_score: str = Field(\n",
    "        description=\"Documents are relevant to the question, 'yes' or 'no'\"\n",
    "    )\n",
    "\n",
    "# Prompt\n",
    "system = \"\"\"You are a grader assessing relevance of a retrieved document to a user question. \\n \n",
    "    If the document contains keyword(s) or semantic meaning related to the user question, grade it as relevant. \\n\n",
    "    It does not need to be a stringent test. The goal is to filter out erroneous retrievals. \\n\n",
    "    Give a binary score 'yes' or 'no' score to indicate whether the document is relevant to the question.\"\"\"\n",
    "grade_prompt = ChatPromptTemplate.from_messages(\n",
    "    [\n",
    "        (\"system\", system),\n",
    "        (\"human\", \"Retrieved document: \\n\\n {document} \\n\\n User question: {question}\"),\n",
    "    ]\n",
    ")\n",
    "structured_llm_grader = llm.with_structured_output(GradeDocuments)\n",
    "retrieval_grader = grade_prompt | structured_llm_grader\n",
    "retrieval_grader"
   ]
  },
  {
   "cell_type": "markdown",
   "metadata": {},
   "source": [
    "## Generate"
   ]
  },
  {
   "cell_type": "code",
   "execution_count": 217,
   "metadata": {},
   "outputs": [
    {
     "data": {
      "text/plain": [
       "ChatPromptTemplate(input_variables=['context', 'question'], input_types={}, partial_variables={}, messages=[HumanMessagePromptTemplate(prompt=PromptTemplate(input_variables=['context', 'question'], input_types={}, partial_variables={}, template=\"You are a smart AI assistant. \\n    Use the following pieces of retrieved context to answer the question. \\n    Generate detailed answer including specified numbers, fomulas in the point of technical specifications. \\n    If you don't know the answer, just say that you don't know. \\n    Question: {question} \\n    Context: {context} \\n    Answer:\"), additional_kwargs={})])\n",
       "| ChatOllama(model='llama3.2:latest', base_url='http://localhost:11434')\n",
       "| StrOutputParser()"
      ]
     },
     "execution_count": 217,
     "metadata": {},
     "output_type": "execute_result"
    }
   ],
   "source": [
    "# Prompt   (rlm/rag-prompt)\n",
    "from langchain import hub\n",
    "prompt = ChatPromptTemplate.from_messages([\n",
    "    (\"human\", \n",
    "    \"\"\"You are a smart AI assistant. \n",
    "    Use the following pieces of retrieved context to answer the question. \n",
    "    Generate detailed answer including specified numbers, fomulas in the point of technical specifications. \n",
    "    If you don't know the answer, just say that you don't know. \n",
    "    Question: {question} \n",
    "    Context: {context} \n",
    "    Answer:\"\"\"),\n",
    "    ])\n",
    "\n",
    "rag_chain = prompt | llm | StrOutputParser()\n",
    "rag_chain\n"
   ]
  },
  {
   "cell_type": "markdown",
   "metadata": {},
   "source": [
    "## Hallucination Grader"
   ]
  },
  {
   "cell_type": "code",
   "execution_count": 218,
   "metadata": {},
   "outputs": [
    {
     "data": {
      "text/plain": [
       "ChatPromptTemplate(input_variables=['documents', 'generation'], input_types={}, partial_variables={}, messages=[SystemMessagePromptTemplate(prompt=PromptTemplate(input_variables=[], input_types={}, partial_variables={}, template=\"You are a grader assessing whether an LLM generation is grounded in / supported by a set of retrieved facts. \\n \\n     Give a binary score 'yes' or 'no'. 'Yes' means that the answer is grounded in / supported by the set of facts.\"), additional_kwargs={}), HumanMessagePromptTemplate(prompt=PromptTemplate(input_variables=['documents', 'generation'], input_types={}, partial_variables={}, template='Set of facts: \\n\\n {documents} \\n\\n LLM generation: {generation}'), additional_kwargs={})])\n",
       "| RunnableBinding(bound=ChatOllama(model='llama3.2:latest', base_url='http://localhost:11434'), kwargs={'tools': [{'type': 'function', 'function': {'name': 'GradeHallucinations', 'description': 'Binary score for hallucination present in generation answer.', 'parameters': {'properties': {'binary_score': {'description': \"Answer is grounded in the facts, 'yes' or 'no'\", 'type': 'string'}}, 'required': ['binary_score'], 'type': 'object'}}}], 'tool_choice': 'any'}, config={}, config_factories=[])\n",
       "| PydanticToolsParser(first_tool_only=True, tools=[<class '__main__.GradeHallucinations'>])"
      ]
     },
     "execution_count": 218,
     "metadata": {},
     "output_type": "execute_result"
    }
   ],
   "source": [
    "# Data model\n",
    "class GradeHallucinations(BaseModel):\n",
    "    \"\"\"Binary score for hallucination present in generation answer.\"\"\"\n",
    "\n",
    "    binary_score: str = Field(\n",
    "        description=\"Answer is grounded in the facts, 'yes' or 'no'\"\n",
    "    )\n",
    "\n",
    "# Prompt\n",
    "system = \"\"\"You are a grader assessing whether an LLM generation is grounded in / supported by a set of retrieved facts. \\n \n",
    "     Give a binary score 'yes' or 'no'. 'Yes' means that the answer is grounded in / supported by the set of facts.\"\"\"\n",
    "hallucination_prompt = ChatPromptTemplate.from_messages(\n",
    "    [\n",
    "        (\"system\", system),\n",
    "        (\"human\", \"Set of facts: \\n\\n {documents} \\n\\n LLM generation: {generation}\"),\n",
    "    ]\n",
    ")\n",
    "structured_llm_grader = llm.with_structured_output(GradeHallucinations)\n",
    "hallucination_grader = hallucination_prompt | structured_llm_grader\n",
    "hallucination_grader"
   ]
  },
  {
   "cell_type": "markdown",
   "metadata": {},
   "source": [
    "## Answer Grader"
   ]
  },
  {
   "cell_type": "code",
   "execution_count": 219,
   "metadata": {},
   "outputs": [
    {
     "data": {
      "text/plain": [
       "ChatPromptTemplate(input_variables=['generation', 'question'], input_types={}, partial_variables={}, messages=[SystemMessagePromptTemplate(prompt=PromptTemplate(input_variables=[], input_types={}, partial_variables={}, template=\"You are a grader assessing whether an answer addresses / resolves a question \\n \\n     Give a binary score 'yes' or 'no'. Yes' means that the answer resolves the question.\"), additional_kwargs={}), HumanMessagePromptTemplate(prompt=PromptTemplate(input_variables=['generation', 'question'], input_types={}, partial_variables={}, template='User question: \\n\\n {question} \\n\\n LLM generation: {generation}'), additional_kwargs={})])\n",
       "| RunnableBinding(bound=ChatOllama(model='llama3.2:latest', base_url='http://localhost:11434'), kwargs={'tools': [{'type': 'function', 'function': {'name': 'GradeAnswer', 'description': 'Binary score to assess answer addresses question.', 'parameters': {'properties': {'binary_score': {'description': \"Answer addresses the question, 'yes' or 'no'\", 'type': 'string'}}, 'required': ['binary_score'], 'type': 'object'}}}], 'tool_choice': 'any'}, config={}, config_factories=[])\n",
       "| PydanticToolsParser(first_tool_only=True, tools=[<class '__main__.GradeAnswer'>])"
      ]
     },
     "execution_count": 219,
     "metadata": {},
     "output_type": "execute_result"
    }
   ],
   "source": [
    "# Data model\n",
    "class GradeAnswer(BaseModel):\n",
    "    \"\"\"Binary score to assess answer addresses question.\"\"\"\n",
    "    binary_score: str = Field(\n",
    "        description=\"Answer addresses the question, 'yes' or 'no'\"\n",
    "    )\n",
    "\n",
    "# Prompt\n",
    "system = \"\"\"You are a grader assessing whether an answer addresses / resolves a question \\n \n",
    "     Give a binary score 'yes' or 'no'. Yes' means that the answer resolves the question.\"\"\"\n",
    "answer_prompt = ChatPromptTemplate.from_messages(\n",
    "    [\n",
    "        (\"system\", system),\n",
    "        (\"human\", \"User question: \\n\\n {question} \\n\\n LLM generation: {generation}\"),\n",
    "    ]\n",
    ")\n",
    "structured_llm_grader = llm.with_structured_output(GradeAnswer)\n",
    "answer_grader = answer_prompt | structured_llm_grader\n",
    "answer_grader"
   ]
  },
  {
   "cell_type": "markdown",
   "metadata": {},
   "source": [
    "## Question Re-Writer"
   ]
  },
  {
   "cell_type": "code",
   "execution_count": 220,
   "metadata": {},
   "outputs": [
    {
     "data": {
      "text/plain": [
       "ChatPromptTemplate(input_variables=['question'], input_types={}, partial_variables={}, messages=[SystemMessagePromptTemplate(prompt=PromptTemplate(input_variables=[], input_types={}, partial_variables={}, template='You a question re-writer that converts an input question to a better version that is optimized \\n \\n     for vectorstore retrieval. Look at the input and try to reason about the underlying semantic intent / meaning.'), additional_kwargs={}), HumanMessagePromptTemplate(prompt=PromptTemplate(input_variables=['question'], input_types={}, partial_variables={}, template='Here is the initial question: \\n\\n {question} \\n Formulate an improved question.'), additional_kwargs={})])\n",
       "| ChatOllama(model='llama3.2:latest', base_url='http://localhost:11434')\n",
       "| StrOutputParser()"
      ]
     },
     "execution_count": 220,
     "metadata": {},
     "output_type": "execute_result"
    }
   ],
   "source": [
    "# Prompt\n",
    "system = \"\"\"You a question re-writer that converts an input question to a better version that is optimized \\n \n",
    "     for vectorstore retrieval. Look at the input and try to reason about the underlying semantic intent / meaning.\"\"\"\n",
    "re_write_prompt = ChatPromptTemplate.from_messages(\n",
    "    [\n",
    "        (\"system\", system),\n",
    "        (\n",
    "            \"human\",\n",
    "            \"Here is the initial question: \\n\\n {question} \\n Formulate an improved question.\",\n",
    "        ),\n",
    "    ]\n",
    ")\n",
    "%timeit\n",
    "question_rewriter = re_write_prompt | llm | StrOutputParser()\n",
    "question_rewriter"
   ]
  },
  {
   "cell_type": "markdown",
   "metadata": {},
   "source": [
    "## Web Search Tool"
   ]
  },
  {
   "cell_type": "code",
   "execution_count": 221,
   "metadata": {},
   "outputs": [
    {
     "data": {
      "text/plain": [
       "TavilySearchResults(api_wrapper=TavilySearchAPIWrapper(tavily_api_key=SecretStr('**********')))"
      ]
     },
     "execution_count": 221,
     "metadata": {},
     "output_type": "execute_result"
    }
   ],
   "source": [
    "from langchain_community.tools.tavily_search import TavilySearchResults\n",
    "\n",
    "web_search_tool = TavilySearchResults(k=3)\n",
    "web_search_tool"
   ]
  },
  {
   "cell_type": "markdown",
   "metadata": {},
   "source": [
    "## Construct Graph"
   ]
  },
  {
   "cell_type": "code",
   "execution_count": 222,
   "metadata": {},
   "outputs": [],
   "source": [
    "from typing import List\n",
    "from typing_extensions import TypedDict\n",
    "\n",
    "class GraphState(TypedDict):\n",
    "    \"\"\"\n",
    "    Represents the state of our graph.\n",
    "\n",
    "    Attributes:\n",
    "        connection: web connection\n",
    "        question: question\n",
    "        generation: LLM generation\n",
    "        documents: list of documents\n",
    "    \"\"\"\n",
    "    connection: bool = False\n",
    "    question: str\n",
    "    generation: str\n",
    "    documents: List[str]"
   ]
  },
  {
   "cell_type": "code",
   "execution_count": 234,
   "metadata": {},
   "outputs": [],
   "source": [
    "from langchain.schema import Document\n",
    "\n",
    "# Nodes\n",
    "\n",
    "def similarity_search(state):\n",
    "    \"\"\"\n",
    "    do hybrid similarity search\n",
    "\n",
    "    Args:\n",
    "        state (dict): The current graph state\n",
    "\n",
    "    Returns:\n",
    "        state (dict): New key added to state, generation, that contains LLM generation\n",
    "\n",
    "    \"\"\"\n",
    "    print(\"---Similarity Search---\")\n",
    "    question = state[\"question\"]\n",
    "\n",
    "    # Retrieval\n",
    "    pattern = r'\"(.*?)\"'  # 따옴표로 둘러싸인 단어만 검색 대상으로 리스트에 담기\n",
    "    extracted_keywords = re.findall(pattern, question)\n",
    "    if len(extracted_keywords) > 0:\n",
    "        documents = get_semantic_search_docs(query=question, vectorstore=vectorstore, k=100, fetch_k=500)\n",
    "        print(len(documents))\n",
    "        documents = get_bm25_top_docs(query=question, documents=documents, top_k=10)\n",
    "        documents = get_keywords_matched_docs(query=question, documents=documents, and_condition=True)\n",
    "        print(len(documents))\n",
    "    else: documents = get_semantic_search_docs(query=question, vectorstore=vectorstore, k=3, fetch_k=500)\n",
    "    \n",
    "    return {\"documents\": documents, \"question\": question}\n",
    "\n",
    "def sql_search(state):\n",
    "    \"\"\"\n",
    "    Generate answer based on Databse\n",
    "\n",
    "    Args:\n",
    "        state (dict): The current graph state\n",
    "\n",
    "    Returns:\n",
    "        state (dict): New key added to state, generation, that contains LLM generation\n",
    "\n",
    "    \"\"\"\n",
    "    print(\"---SQL SEARCH---\")\n",
    "    question = state[\"question\"]\n",
    "    return {\"documents\": \"Under Construction\", \"question\": question, \"generation\": \"Under Construction\"}\n",
    "\n",
    "\n",
    "def retrieve(state):\n",
    "    \"\"\"\n",
    "    Retrieve documents\n",
    "\n",
    "    Args:\n",
    "        state (dict): The current graph state\n",
    "\n",
    "    Returns:\n",
    "        state (dict): New key added to state, documents, that contains retrieved documents\n",
    "    \"\"\"\n",
    "    print(\"---RETRIEVE---\")\n",
    "    question = state[\"question\"]\n",
    "\n",
    "    # Retrieval\n",
    "    pattern = r'\"(.*?)\"'  # 따옴표로 둘러싸인 단어만 검색 대상으로 리스트에 담기\n",
    "    extracted_keywords = re.findall(pattern, question)\n",
    "    if len(extracted_keywords) > 0:\n",
    "        documents = get_semantic_search_docs(query=question, vectorstore=vectorstore, k=100, fetch_k=500)\n",
    "        documents = get_bm25_top_docs(query=question, documents=documents, top_k=10)\n",
    "        documents = get_keywords_matched_docs(query=question, documents=documents, and_condition=True)\n",
    "    else: documents = get_semantic_search_docs(query=question, vectorstore=vectorstore, k=3, fetch_k=500)\n",
    "    \n",
    "    return {\"documents\": documents, \"question\": question}\n",
    "\n",
    "\n",
    "def generate(state):\n",
    "    \"\"\"\n",
    "    Generate answer\n",
    "\n",
    "    Args:\n",
    "        state (dict): The current graph state\n",
    "\n",
    "    Returns:\n",
    "        state (dict): New key added to state, generation, that contains LLM generation\n",
    "    \"\"\"\n",
    "    print(\"---GENERATE---\")\n",
    "    question = state[\"question\"]\n",
    "    documents = state[\"documents\"]\n",
    "\n",
    "    # RAG generation\n",
    "    generation = rag_chain.invoke({\"context\": documents, \"question\": question})\n",
    "    return {\"documents\": documents, \"question\": question, \"generation\": generation}\n",
    "\n",
    "\n",
    "def grade_documents(state):\n",
    "    \"\"\"\n",
    "    Determines whether the retrieved documents are relevant to the question.\n",
    "\n",
    "    Args:\n",
    "        state (dict): The current graph state\n",
    "\n",
    "    Returns:\n",
    "        state (dict): Updates documents key with only filtered relevant documents\n",
    "    \"\"\"\n",
    "\n",
    "    print(\"---CHECK DOCUMENT RELEVANCE TO QUESTION---\")\n",
    "    question = state[\"question\"]\n",
    "    documents = state[\"documents\"]\n",
    "\n",
    "    # Score each doc\n",
    "    try:\n",
    "        print(f\"Count of Retrieved Docs: {len(documents)}\")\n",
    "        filtered_docs = []\n",
    "        for d in documents:\n",
    "            score = retrieval_grader.invoke(\n",
    "                {\"question\": question, \"document\": d.page_content}\n",
    "            )\n",
    "            grade = score.binary_score\n",
    "            if grade == \"yes\":\n",
    "                print(\"---GRADE: DOCUMENT RELEVANT---\")\n",
    "                filtered_docs.append(d)\n",
    "            else:\n",
    "                print(\"---GRADE: DOCUMENT NOT RELEVANT---\")\n",
    "                continue\n",
    "        return {\"documents\": filtered_docs, \"question\": question}\n",
    "    except Exception as e:\n",
    "        print(f\"Count of Retrieved Docs: {len(documents)}\")\n",
    "        print(e)\n",
    "\n",
    "\n",
    "def transform_query(state):\n",
    "    \"\"\"\n",
    "    Transform the query to produce a better question.\n",
    "\n",
    "    Args:\n",
    "        state (dict): The current graph state\n",
    "\n",
    "    Returns:\n",
    "        state (dict): Updates question key with a re-phrased question\n",
    "    \"\"\"\n",
    "\n",
    "    print(\"---TRANSFORM QUERY---\")\n",
    "    question = state[\"question\"]\n",
    "    documents = state[\"documents\"]\n",
    "\n",
    "    # Re-write question\n",
    "    better_question = question_rewriter.invoke({\"question\": question})\n",
    "    return {\"documents\": documents, \"question\": better_question}\n",
    "\n",
    "\n",
    "def web_connection(state):\n",
    "    print(\"---WEB CONNECTION---\")\n",
    "    res = check_internet(state)\n",
    "    return {\"connection\": res}\n",
    "\n",
    "\n",
    "def web_search(state):\n",
    "    \"\"\"\n",
    "    Web search based on the re-phrased question.\n",
    "\n",
    "    Args:\n",
    "        state (dict): The current graph state\n",
    "\n",
    "    Returns:\n",
    "        state (dict): Updates documents key with appended web results\n",
    "    \"\"\"\n",
    "\n",
    "    print(\"---WEB SEARCH---\")\n",
    "    question = state[\"question\"]\n",
    "\n",
    "    # Web search\n",
    "    docs = web_search_tool.invoke({\"query\": question})\n",
    "    web_results = \"\\n\".join([d[\"content\"] for d in docs])\n",
    "    web_results = Document(page_content=web_results)\n",
    "\n",
    "    return {\"documents\": web_results, \"question\": question}\n",
    "\n",
    "\n",
    "### Edges ###\n",
    "\n",
    "def check_internet(state):\n",
    "    \"\"\"Check internet connection by pinging a website.\"\"\"\n",
    "    \n",
    "    print(\"---CHECK INTERNET CONNECTION---\")\n",
    "    # question = state[\"question\"]\n",
    "    try:\n",
    "        response = requests.get(\"https://www.google.com\", timeout=2)\n",
    "        # If the request is successful, we assume internet is ON\n",
    "        if response.status_code == 200:\n",
    "            # print(\"Internet is ON\")\n",
    "            return \"ON\"\n",
    "    except requests.ConnectionError:\n",
    "        # If there is a connection error, we assume internet is OFF\n",
    "        # print(\"Internet is OFF\")\n",
    "        return \"OFF\"\n",
    "    \n",
    "    \n",
    "def route_question(state):\n",
    "    \"\"\"\n",
    "    Route question to web search or RAG.\n",
    "\n",
    "    Args:\n",
    "        state (dict): The current graph state\n",
    "\n",
    "    Returns:\n",
    "        str: Next node to call\n",
    "    \"\"\"\n",
    "\n",
    "    print(\"---ROUTE QUESTION---\")\n",
    "    try:\n",
    "        question = state[\"question\"]\n",
    "        source = question_router.invoke({\"question\": question})\n",
    "        if source.datasource == \"web_search\":\n",
    "            print(\"---ROUTE QUESTION TO WEB SEARCH---\")\n",
    "            return \"web_search\"\n",
    "        elif source.datasource == \"vectorstore\":\n",
    "            print(\"---ROUTE QUESTION TO RAG---\")\n",
    "            return \"vectorstore\"\n",
    "        elif source.datasource == \"similarity_search\":\n",
    "            print(\"---ROUTE QUESTION TO SIMILARITY SEARCH---\")\n",
    "            return \"similarity_search\"\n",
    "        elif source.datasource == \"database\":\n",
    "            print(\"---ROUTE QUESTION TO DATABASE---\")\n",
    "            return \"database\"\n",
    "    except Exception as e:\n",
    "        print(f\"---ROUTING ERROR {e}---\")\n",
    "        return e\n",
    "\n",
    "\n",
    "def decide_to_generate(state):\n",
    "    \"\"\"\n",
    "    Determines whether to generate an answer, or re-generate a question.\n",
    "\n",
    "    Args:\n",
    "        state (dict): The current graph state\n",
    "\n",
    "    Returns:\n",
    "        str: Binary decision for next node to call\n",
    "    \"\"\"\n",
    "\n",
    "    print(\"---ASSESS GRADED DOCUMENTS---\")\n",
    "    state[\"question\"]\n",
    "    filtered_documents = state[\"documents\"]\n",
    "\n",
    "    if not filtered_documents:\n",
    "        # All documents have been filtered check_relevance\n",
    "        # We will re-generate a new query\n",
    "        print(\n",
    "            \"---DECISION: ALL DOCUMENTS ARE NOT RELEVANT TO QUESTION, TRANSFORM QUERY---\"\n",
    "        )\n",
    "        return \"transform_query\"\n",
    "    else:\n",
    "        # We have relevant documents, so generate answer\n",
    "        print(\"---DECISION: GENERATE---\")\n",
    "        return \"generate\"\n",
    "\n",
    "\n",
    "def grade_generation_v_documents_and_question(state):\n",
    "    \"\"\"\n",
    "    Determines whether the generation is grounded in the document and answers question.\n",
    "\n",
    "    Args:\n",
    "        state (dict): The current graph state\n",
    "\n",
    "    Returns:\n",
    "        str: Decision for next node to call\n",
    "    \"\"\"\n",
    "\n",
    "    print(\"---CHECK HALLUCINATIONS---\")\n",
    "    question = state[\"question\"]\n",
    "    documents = state[\"documents\"]\n",
    "    generation = state[\"generation\"]\n",
    "\n",
    "    score = hallucination_grader.invoke(\n",
    "        {\"documents\": documents, \"generation\": generation}\n",
    "    )\n",
    "    grade = score.binary_score\n",
    "\n",
    "    # Check hallucination\n",
    "    if grade == \"yes\":\n",
    "        print(\"---DECISION: GENERATION IS GROUNDED IN DOCUMENTS---\")\n",
    "        # Check question-answering\n",
    "        print(\"---GRADE GENERATION vs QUESTION---\")\n",
    "        score = answer_grader.invoke({\"question\": question, \"generation\": generation})\n",
    "        grade = score.binary_score\n",
    "        if grade == \"yes\":\n",
    "            print(\"---DECISION(Useful): GENERATION ADDRESSES QUESTION---\")\n",
    "            return \"useful\"\n",
    "        else:\n",
    "            print(\"---DECISION(Not Useful): GENERATION DOES NOT ADDRESS QUESTION---\")\n",
    "            return \"not useful\"\n",
    "    else:\n",
    "        print(\"---DECISION(Not Supported): GENERATION IS NOT GROUNDED IN DOCUMENTS, RE-TRY---\")\n",
    "        return \"not supported\""
   ]
  },
  {
   "cell_type": "markdown",
   "metadata": {},
   "source": [
    "## Compile Graph"
   ]
  },
  {
   "cell_type": "code",
   "execution_count": 235,
   "metadata": {},
   "outputs": [
    {
     "data": {
      "text/plain": [
       "<langgraph.graph.state.CompiledStateGraph at 0x18ea547cda0>"
      ]
     },
     "execution_count": 235,
     "metadata": {},
     "output_type": "execute_result"
    }
   ],
   "source": [
    "from langgraph.graph import StateGraph, START, END\n",
    "\n",
    "workflow = StateGraph(GraphState)\n",
    "\n",
    "# Define the nodes\n",
    "workflow.add_node(\"web_connection\", web_connection)  # check_internet\n",
    "workflow.add_node(\"similarity_search\", similarity_search)  # similarity_search\n",
    "workflow.add_node(\"web_search\", web_search)  # web search\n",
    "workflow.add_node(\"retrieve\", retrieve)  # retrieve\n",
    "workflow.add_node(\"sql_search\", sql_search)  # sql search\n",
    "workflow.add_node(\"grade_documents\", grade_documents)  # grade documents\n",
    "workflow.add_node(\"generate\", generate)  # generatae\n",
    "workflow.add_node(\"transform_query\", transform_query)  # transform_query\n",
    "\n",
    "# Build graph\n",
    "workflow.add_conditional_edges(\n",
    "    START,\n",
    "    route_question,\n",
    "    {\n",
    "        \"web_search\": \"web_connection\",\n",
    "        \"vectorstore\": \"retrieve\",\n",
    "        \"similarity_search\": \"similarity_search\",\n",
    "        \"database\": \"sql_search\"\n",
    "    },\n",
    ")\n",
    "\n",
    "workflow.add_conditional_edges(\n",
    "    \"web_connection\",\n",
    "    check_internet,\n",
    "    {\n",
    "        \"ON\": \"web_search\",\n",
    "        \"OFF\": END,\n",
    "    },\n",
    ")\n",
    "workflow.add_edge(\"web_search\", \"generate\")\n",
    "workflow.add_edge(\"retrieve\", \"grade_documents\")\n",
    "workflow.add_edge(\"similarity_search\", END)\n",
    "workflow.add_edge(\"sql_search\", END)\n",
    "\n",
    "workflow.add_conditional_edges(\n",
    "    \"grade_documents\",\n",
    "    decide_to_generate,\n",
    "    {\n",
    "        \"transform_query\": \"transform_query\",\n",
    "        \"generate\": \"generate\",\n",
    "    },\n",
    ")\n",
    "workflow.add_edge(\"transform_query\", \"retrieve\")\n",
    "workflow.add_conditional_edges(\n",
    "    \"generate\",\n",
    "    grade_generation_v_documents_and_question,\n",
    "    {\n",
    "        \"not supported\": \"generate\",\n",
    "        \"useful\": END,\n",
    "        \"not useful\": \"transform_query\",\n",
    "    },\n",
    ")\n",
    "\n",
    "### Adding Memory\n",
    "from langgraph.checkpoint.memory import MemorySaver\n",
    "memory = MemorySaver()\n",
    "memory\n",
    "\n",
    "# Compile\n",
    "# app = workflow.compile(checkpointer=memory)\n",
    "app = workflow.compile()\n",
    "app"
   ]
  },
  {
   "cell_type": "code",
   "execution_count": 236,
   "metadata": {},
   "outputs": [
    {
     "data": {
      "image/jpeg": "[encoded data removed]",
      "text/plain": [
       "<IPython.core.display.Image object>"
      ]
     },
     "metadata": {
      "image/jpeg": {
       "width": 500
      }
     },
     "output_type": "display_data"
    }
   ],
   "source": [
    "display(Image(app.get_graph().draw_mermaid_png(), width=500))"
   ]
  },
  {
   "cell_type": "markdown",
   "metadata": {},
   "source": [
    "# App Stream"
   ]
  },
  {
   "cell_type": "code",
   "execution_count": 237,
   "metadata": {},
   "outputs": [],
   "source": [
    "# from pprint import pprint\n",
    "from langgraph.errors import GraphRecursionError\n",
    "%timeit\n",
    "# Run\n",
    "def app_stream(question:str, recursion_limit:int=10):\n",
    "    inputs = {\n",
    "        \"question\": question, \n",
    "        }\n",
    "    config = {\n",
    "        \"recursion_limit\": recursion_limit, \n",
    "        # \"configurable\": {\"thread_id\": \"1\"}\n",
    "        }\n",
    "    try:\n",
    "        for output in app.stream(inputs, \n",
    "                                config, \n",
    "                                # stream_mode=\"debug\"\n",
    "                                ):\n",
    "            for key, value in output.items():\n",
    "                # Node\n",
    "                pprint(f\">>> Node : {key}\")\n",
    "            pprint(\"=\"*70)\n",
    "\n",
    "        # Final generation\n",
    "        print(\"\")\n",
    "        pprint(value)\n",
    "    except GraphRecursionError:\n",
    "        print(f\"=== Recursion Error - {recursion_limit} ===\")\n",
    "        value = f\"=== Recursion Error - {recursion_limit} ===\"\n",
    "    \n",
    "    return value"
   ]
  },
  {
   "cell_type": "code",
   "execution_count": 239,
   "metadata": {},
   "outputs": [
    {
     "name": "stdout",
     "output_type": "stream",
     "text": [
      "---ROUTE QUESTION---\n",
      "---ROUTE QUESTION TO SIMILARITY SEARCH---\n",
      "---Similarity Search---\n",
      "'>>> Node : similarity_search'\n",
      "'======================================================================'\n",
      "\n",
      "{'documents': [Document(metadata={'File Name': 'DNV Rules for Classification of Ships _2016_08_Introduction to Ship Classification', 'File Path': '/content/drive/MyDrive/Rules/DNV/DNV Rules for Classification of Ships _2016_08_Introduction to Ship Classification.pdf', 'First Division': 'Rules', 'Page': 6, 'Second Division': 'DNV'}, page_content=\"This page explains DNV Rules for Classification of Ships _2016_08_Introduction to Ship Classification, that belongs to catogories of Rules and DNV./nrepairs. Deferred repairs may be accepted by the Society, but always associated with a maximum time limit. 603  The rules allow periodical surveys to contain an elem ent of sampling. This sam pling must be sufficient to enable the surveyor to obtain a proper assessment of the condition of the ship. This a ssessment is based amongst other things on type, age and technical history of the ship. 604  Results of the surveys are reported to the owners an d to the Society's central office for updating records. Special findings are also recorded and used as basis for updating and development of the rules. 605  The “Register of vessels classed with DNV” is av ailable for supplying in formation on ships' main particulars and details of their classification. B 700 Owner's duties 701  In order to maintain valid class the classification sy stem specifies the following to be observed by the owner: — The ship has to be competently ha ndled in accordance with the rules. — The ship has to be\"),\n",
      "               Document(metadata={'File Name': 'Guidance for Cyber Resilience of Ships and Systems_2024', 'File Path': '/content/drive/MyDrive/Rules/KR/Guidance for Cyber Resilience of Ships and Systems_2024.pdf', 'First Division': 'Rules', 'Page': 14, 'Second Division': 'KR'}, page_content='This page explains Guidance for Cyber Resilience of Ships and Systems_2024, that belongs to catogories of Rules and KR./n(4) The shipowner shall prepare and implement operational procedures, provide periodic training and carry out drills for the onboard personnel and other concerned personnel ashore to familiarize them with the CBSs onboard the ship and the networks connecting such systems to each other and to other CBSs not onboard (e.g. ashore), and to properly manage the measures adopted for the fulfilment of requirements. (5) The shipowner, with the support of supplier, shall keep the measures adopted for the fulfilment'),\n",
      "               Document(metadata={'File Name': '00-part-1A-ships-jul24_Conditions of Classification', 'File Path': '/content/drive/MyDrive/Rules/ABS/00-part-1A-ships-jul24_Conditions of Classification.pdf', 'First Division': 'Rules', 'Page': 154, 'Second Division': 'ABS'}, page_content='This page explains 00-part-1A-ships-jul24_Conditions of Classification, that belongs to catogories of Rules and ABS./nare considered to be equivalent, they may be accepted as such by ABS as an alternative to the requirements in the Rules or Guides, provided additional data or analysis, if necessary, is submitted for review to document the technical justification for such acceptance ●Where such requirements do not conflict with and are merely in excess of the requirements in the Rules or Guides, they are considered Owner’s requirements and not addressed by the verification activities conducted by ABS for equipment/material certification, they are subject to such verification as deemed necessary by the Owner; however, ABS can include verification of these additional requirements if specifically requested by the manufacturer/supplier as Statement of Fact certifications, and provided any special criteria that may be needed regarding their verification is provided to ABS Specifications are not generally required to be submitted; where required with respect to certain systems and equipment, they are')],\n",
      " 'question': '\\n'\n",
      "             'similarity search for below paragraph.\\n'\n",
      "             '\\n'\n",
      "             \"B 700 Owner's duties\\n\"\n",
      "             '701 In order to maintain valid class the classification system '\n",
      "             'specifies the following to be observed by the\\n'\n",
      "             'owner:\\n'\n",
      "             '— The ship has to be competently handled in accordance with the '\n",
      "             'rules.\\n'\n",
      "             '— The ship has to be maintained to rule standard at all times. '\n",
      "             'Any conditions of class have to be carried out\\n'\n",
      "             'as specified.\\n'\n",
      "             '— The ship has to undergo prescribed periodical and renewal '\n",
      "             'surveys, as well as surveys of damage, repairs,\\n'\n",
      "             'conversions and alterations.\\n'\n",
      "             '— The Society must be furnished with all information that may '\n",
      "             'influence its decisions in connection with\\n'\n",
      "             'classification.\\n'\n",
      "             '\\n'}\n"
     ]
    },
    {
     "data": {
      "text/plain": [
       "{'question': \"\\nsimilarity search for below paragraph.\\n\\nB 700 Owner's duties\\n701 In order to maintain valid class the classification system specifies the following to be observed by the\\nowner:\\n— The ship has to be competently handled in accordance with the rules.\\n— The ship has to be maintained to rule standard at all times. Any conditions of class have to be carried out\\nas specified.\\n— The ship has to undergo prescribed periodical and renewal surveys, as well as surveys of damage, repairs,\\nconversions and alterations.\\n— The Society must be furnished with all information that may influence its decisions in connection with\\nclassification.\\n\\n\",\n",
       " 'documents': [Document(metadata={'File Name': 'DNV Rules for Classification of Ships _2016_08_Introduction to Ship Classification', 'File Path': '/content/drive/MyDrive/Rules/DNV/DNV Rules for Classification of Ships _2016_08_Introduction to Ship Classification.pdf', 'First Division': 'Rules', 'Page': 6, 'Second Division': 'DNV'}, page_content=\"This page explains DNV Rules for Classification of Ships _2016_08_Introduction to Ship Classification, that belongs to catogories of Rules and DNV./nrepairs. Deferred repairs may be accepted by the Society, but always associated with a maximum time limit. 603  The rules allow periodical surveys to contain an elem ent of sampling. This sam pling must be sufficient to enable the surveyor to obtain a proper assessment of the condition of the ship. This a ssessment is based amongst other things on type, age and technical history of the ship. 604  Results of the surveys are reported to the owners an d to the Society's central office for updating records. Special findings are also recorded and used as basis for updating and development of the rules. 605  The “Register of vessels classed with DNV” is av ailable for supplying in formation on ships' main particulars and details of their classification. B 700 Owner's duties 701  In order to maintain valid class the classification sy stem specifies the following to be observed by the owner: — The ship has to be competently ha ndled in accordance with the rules. — The ship has to be\"),\n",
       "  Document(metadata={'File Name': 'Guidance for Cyber Resilience of Ships and Systems_2024', 'File Path': '/content/drive/MyDrive/Rules/KR/Guidance for Cyber Resilience of Ships and Systems_2024.pdf', 'First Division': 'Rules', 'Page': 14, 'Second Division': 'KR'}, page_content='This page explains Guidance for Cyber Resilience of Ships and Systems_2024, that belongs to catogories of Rules and KR./n(4) The shipowner shall prepare and implement operational procedures, provide periodic training and carry out drills for the onboard personnel and other concerned personnel ashore to familiarize them with the CBSs onboard the ship and the networks connecting such systems to each other and to other CBSs not onboard (e.g. ashore), and to properly manage the measures adopted for the fulfilment of requirements. (5) The shipowner, with the support of supplier, shall keep the measures adopted for the fulfilment'),\n",
       "  Document(metadata={'File Name': '00-part-1A-ships-jul24_Conditions of Classification', 'File Path': '/content/drive/MyDrive/Rules/ABS/00-part-1A-ships-jul24_Conditions of Classification.pdf', 'First Division': 'Rules', 'Page': 154, 'Second Division': 'ABS'}, page_content='This page explains 00-part-1A-ships-jul24_Conditions of Classification, that belongs to catogories of Rules and ABS./nare considered to be equivalent, they may be accepted as such by ABS as an alternative to the requirements in the Rules or Guides, provided additional data or analysis, if necessary, is submitted for review to document the technical justification for such acceptance ●Where such requirements do not conflict with and are merely in excess of the requirements in the Rules or Guides, they are considered Owner’s requirements and not addressed by the verification activities conducted by ABS for equipment/material certification, they are subject to such verification as deemed necessary by the Owner; however, ABS can include verification of these additional requirements if specifically requested by the manufacturer/supplier as Statement of Fact certifications, and provided any special criteria that may be needed regarding their verification is provided to ABS Specifications are not generally required to be submitted; where required with respect to certain systems and equipment, they are')]}"
      ]
     },
     "execution_count": 239,
     "metadata": {},
     "output_type": "execute_result"
    }
   ],
   "source": [
    "# question = 'similarity search for the main function of the \"noon report\" in \"iss\" system'\n",
    "# question = 'sim search for the obligation of master of troubled vessel in \"singapore\" port'\n",
    "# question = 'similar search for the obligation of master of troubled vessel in \"singapore\" port'\n",
    "question = '''\n",
    "similarity search for below paragraph.\n",
    "\n",
    "B 700 Owner's duties\n",
    "701 In order to maintain valid class the classification system specifies the following to be observed by the\n",
    "owner:\n",
    "— The ship has to be competently handled in accordance with the rules.\n",
    "— The ship has to be maintained to rule standard at all times. Any conditions of class have to be carried out\n",
    "as specified.\n",
    "— The ship has to undergo prescribed periodical and renewal surveys, as well as surveys of damage, repairs,\n",
    "conversions and alterations.\n",
    "— The Society must be furnished with all information that may influence its decisions in connection with\n",
    "classification.\n",
    "\n",
    "'''\n",
    "\n",
    "# question = 'according to \"iss\" manual, what is the \"noon report\" in iss system?'\n",
    "# question = 'according to \"iss\" manual, is the noon report editable?'\n",
    "\n",
    "# question = 'with reference to \"dnv\" rules, explain the \"noise\" level of \"radar\" rooms.(vectorstore)'\n",
    "# question = 'from the vectorstore, what is the obligation of master of troubled vessel in \"singapore\" port'\n",
    "\n",
    "# question ='vectorstore, with reference to \"dnv\" rule, explain the measurement procedure of \"noise\"'\n",
    "# question = 'according to \"bv\" rule in vectorstore, explain the \"sloshing\" analysis model test in lng vessels'\n",
    "# question = 'check the \"presure\" of \"main engine\" from database'\n",
    "\n",
    "# question = \"Check today's weather condition of Seoul\"\n",
    "# question = \"explain me the basic concept of wig ship\"\n",
    "\n",
    "result = app_stream(question=question, recursion_limit=5)\n",
    "result"
   ]
  },
  {
   "cell_type": "code",
   "execution_count": 126,
   "metadata": {},
   "outputs": [
    {
     "name": "stdout",
     "output_type": "stream",
     "text": [
      "Under Construction\n"
     ]
    }
   ],
   "source": [
    "print(result['generation'])"
   ]
  },
  {
   "cell_type": "code",
   "execution_count": null,
   "metadata": {},
   "outputs": [],
   "source": []
  }
 ],
 "metadata": {
  "kernelspec": {
   "display_name": ".venv",
   "language": "python",
   "name": "python3"
  },
  "language_info": {
   "codemirror_mode": {
    "name": "ipython",
    "version": 3
   },
   "file_extension": ".py",
   "mimetype": "text/x-python",
   "name": "python",
   "nbconvert_exporter": "python",
   "pygments_lexer": "ipython3",
   "version": "3.12.7"
  }
 },
 "nbformat": 4,
 "nbformat_minor": 2
}
