{
 "cells": [
  {
   "cell_type": "code",
   "execution_count": 1,
   "metadata": {},
   "outputs": [],
   "source": [
    "from langchain_groq import ChatGroq\n",
    "llm = ChatGroq(temperature=0, model_name= \"llama-3.3-70b-versatile\")"
   ]
  },
  {
   "cell_type": "code",
   "execution_count": 10,
   "metadata": {},
   "outputs": [
    {
     "data": {
      "text/plain": [
       "ArxivAPIWrapper(arxiv_search=<class 'arxiv.Search'>, arxiv_exceptions=(<class 'arxiv.ArxivError'>, <class 'arxiv.UnexpectedEmptyPageError'>, <class 'arxiv.HTTPError'>), top_k_results=5, ARXIV_MAX_QUERY_LENGTH=300, continue_on_failure=False, load_max_docs=100, load_all_available_meta=False, doc_content_chars_max=4000)"
      ]
     },
     "execution_count": 10,
     "metadata": {},
     "output_type": "execute_result"
    }
   ],
   "source": [
    "from langchain_community.utilities import ArxivAPIWrapper\n",
    "arxiv = ArxivAPIWrapper(top_k_results=5)\n",
    "arxiv"
   ]
  },
  {
   "cell_type": "markdown",
   "metadata": {},
   "source": [
    "You can use the ArxivAPIWrapper to get information about a scientific article or articles. The query text is limited to 300 characters.\n",
    "\n",
    "The ArxivAPIWrapper returns these article fields:\n",
    "\n",
    "    Publishing date\n",
    "    Title\n",
    "    Authors\n",
    "    Summary\n"
   ]
  },
  {
   "cell_type": "code",
   "execution_count": 14,
   "metadata": {},
   "outputs": [
    {
     "name": "stdout",
     "output_type": "stream",
     "text": [
      "Published: 2012-10-02\n",
      "Title: Sticky steps inhibit step motions near equilibrium\n",
      "Authors: Noriko Akutsu\n",
      "Summary: Using a Monte Carlo method on a lattice model of a vicinal surface with\n",
      "short-range step-step attraction, we show that, at low temperature and near\n",
      "equilibrium, there is an inhibition of the motion of macro-steps. This\n",
      "inhibition leads to a pinning of steps without defects, adsorbates, or\n",
      "impurities (self-pinning of steps). We show that this inhibition of the\n",
      "macro-step motion is caused by faceted steps, which are macro-steps that have a\n",
      "smooth side surface. The faceted steps result from discontinuities in the\n",
      "anisotropic surface tension (the surface free energy per area). The\n",
      "discontinuities are brought into the surface tension by the short-range\n",
      "step-step attraction. The short-range step-step attraction also originates\n",
      "`step-droplets', which are locally merged steps, at higher temperatures. We\n",
      "derive an analytic equation of the surface stiffness tensor for the vicinal\n",
      "surface around the (001) surface. Using the surface stiffness tensor, we show\n",
      "that step-droplets roughen the vicinal surface. Contrary to what we expected,\n",
      "the step-droplets slow down the step velocity due to the diminishment of kinks\n",
      "in the merged steps (smoothing of the merged steps).\n",
      "\n",
      "Published: 2023-05-08\n",
      "Title: Improving Cross-Task Generalization with Step-by-Step Instructions\n",
      "Authors: Yang Wu, Yanyan Zhao, Zhongyang Li, Bing Qin, Kai Xiong\n",
      "Summary: Instruction tuning has been shown to be able to improve cross-task\n",
      "generalization of language models. However, it is still challenging for\n",
      "language models to complete the target tasks following the instructions, as the\n",
      "instructions are general and lack intermediate steps. To address this problem,\n",
      "we propose to incorporate the step-by-step instructions to help language models\n",
      "to decompose the tasks, which can provide the detailed and specific procedures\n",
      "for completing the target tasks. The step-by-step instructions are obtained\n",
      "automatically by prompting ChatGPT, which are further combined with the\n",
      "original instructions to tune language models. The extensive experiments on\n",
      "SUP-NATINST show that the high-quality step-by-step instructions can improve\n",
      "cross-task generalization across different model sizes. Moreover, the further\n",
      "analysis indicates the importance of the order of steps of the step-by-step\n",
      "instruction for the improvement. To facilitate future research, we release the\n",
      "step-by-step instructions and their human quality evaluation results.\n",
      "\n",
      "Published: 2023-06-01\n",
      "Title: Interpretable Math Word Problem Solution Generation Via Step-by-step Planning\n",
      "Authors: Mengxue Zhang, Zichao Wang, Zhichao Yang, Weiqi Feng, Andrew Lan\n",
      "Summary: Solutions to math word problems (MWPs) with step-by-step explanations are\n",
      "valuable, especially in education, to help students better comprehend\n",
      "problem-solving strategies. Most existing approaches only focus on obtaining\n",
      "the final correct answer. A few recent approaches leverage intermediate\n",
      "solution steps to improve final answer correctness but often cannot generate\n",
      "coherent steps with a clear solution strategy. Contrary to existing work, we\n",
      "focus on improving the correctness and coherence of the intermediate solutions\n",
      "steps. We propose a step-by-step planning approach for intermediate solution\n",
      "generation, which strategically plans the generation of the next solution step\n",
      "based on the MWP and the previous solution steps. Our approach first plans the\n",
      "next step by predicting the necessary math operation needed to proceed, given\n",
      "history steps, then generates the next step, token-by-token, by prompting a\n",
      "language model with the predicted math operation. Experiments on the GSM8K\n",
      "dataset demonstrate that our approach improves the accuracy and\n",
      "interpretability of the solution on both automatic metrics and human\n",
      "evaluation.\n",
      "\n",
      "Published: 2004-07-20\n",
      "Title: Drift-Induced Step Instabilities Due to the Gap in the Diffusion Coefficient\n",
      "Authors: Masahide Sato, Makio Uwaha, Yukio Saito\n",
      "Sum\n"
     ]
    }
   ],
   "source": [
    "docs = arxiv.run(\"ditilling step by step\")\n",
    "print(docs)"
   ]
  },
  {
   "cell_type": "code",
   "execution_count": null,
   "metadata": {},
   "outputs": [],
   "source": []
  }
 ],
 "metadata": {
  "kernelspec": {
   "display_name": ".venv",
   "language": "python",
   "name": "python3"
  },
  "language_info": {
   "codemirror_mode": {
    "name": "ipython",
    "version": 3
   },
   "file_extension": ".py",
   "mimetype": "text/x-python",
   "name": "python",
   "nbconvert_exporter": "python",
   "pygments_lexer": "ipython3",
   "version": "3.12.6"
  }
 },
 "nbformat": 4,
 "nbformat_minor": 2
}
