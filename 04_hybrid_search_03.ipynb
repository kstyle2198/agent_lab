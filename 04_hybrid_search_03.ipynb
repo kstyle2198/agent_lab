{
 "cells": [
  {
   "cell_type": "code",
   "execution_count": 1,
   "id": "b2760c10",
   "metadata": {},
   "outputs": [
    {
     "name": "stderr",
     "output_type": "stream",
     "text": [
      "d:\\agent_lab\\.venv\\Lib\\site-packages\\tqdm\\auto.py:21: TqdmWarning: IProgress not found. Please update jupyter and ipywidgets. See https://ipywidgets.readthedocs.io/en/stable/user_install.html\n",
      "  from .autonotebook import tqdm as notebook_tqdm\n"
     ]
    }
   ],
   "source": [
    "from langchain_text_splitters import RecursiveCharacterTextSplitter\n",
    "from langchain_community.document_loaders import PyPDFLoader\n",
    "from langchain_community.vectorstores import FAISS\n",
    "from langchain_ollama import OllamaEmbeddings\n",
    "from FlagEmbedding import FlagReranker\n",
    "from typing import Any\n",
    "import chromadb\n",
    "import ollama\n",
    "from langchain_chroma import Chroma\n",
    "from langchain_ollama import OllamaEmbeddings\n",
    "import pandas as pd\n",
    "from pprint import pprint"
   ]
  },
  {
   "cell_type": "markdown",
   "id": "48acd0c5",
   "metadata": {},
   "source": [
    "# Global Variables"
   ]
  },
  {
   "cell_type": "code",
   "execution_count": 2,
   "id": "5bf6084c",
   "metadata": {},
   "outputs": [
    {
     "data": {
      "text/plain": [
       "OllamaEmbeddings(model='bge-m3:latest', base_url='http://localhost:11434', client_kwargs={})"
      ]
     },
     "execution_count": 2,
     "metadata": {},
     "output_type": "execute_result"
    }
   ],
   "source": [
    "embeddings =  OllamaEmbeddings(base_url=\"http://localhost:11434\", model=\"bge-m3:latest\")\n",
    "embeddings"
   ]
  },
  {
   "cell_type": "code",
   "execution_count": 3,
   "id": "b51825e0",
   "metadata": {},
   "outputs": [
    {
     "data": {
      "text/plain": [
       "<langchain_chroma.vectorstores.Chroma at 0x28be9d57e90>"
      ]
     },
     "execution_count": 3,
     "metadata": {},
     "output_type": "execute_result"
    }
   ],
   "source": [
    "db_path = \"./db/chroma_db_02\"\n",
    "vectorstore = Chroma(collection_name=\"collection_01\", persist_directory=db_path, embedding_function=OllamaEmbeddings(base_url=\"http://localhost:11434\", model=\"bge-m3:latest\"))\n",
    "vectorstore"
   ]
  },
  {
   "cell_type": "code",
   "execution_count": null,
   "id": "fb87258e",
   "metadata": {},
   "outputs": [
    {
     "data": {
      "text/plain": [
       "<FlagEmbedding.inference.reranker.encoder_only.base.BaseReranker at 0x28be7d30950>"
      ]
     },
     "execution_count": 4,
     "metadata": {},
     "output_type": "execute_result"
    }
   ],
   "source": [
    "from FlagEmbedding import FlagReranker\n",
    "reranking_model_path = \"D:/LLMs/bge-reranker-v2-m3\"\n",
    "reranker = FlagReranker(model_name_or_path=reranking_model_path, \n",
    "                        use_fp16=True,\n",
    "                        batch_size=512,\n",
    "                        max_length=2048,\n",
    "                        normalize=True)\n",
    "reranker"
   ]
  },
  {
   "cell_type": "code",
   "execution_count": 5,
   "id": "fe87b8d3",
   "metadata": {},
   "outputs": [
    {
     "data": {
      "text/plain": [
       "'cargo compressor installation'"
      ]
     },
     "execution_count": 5,
     "metadata": {},
     "output_type": "execute_result"
    }
   ],
   "source": [
    "query = \"^Cargo Compressor^ installation\"\n",
    "refined_query = query.replace(\"^\", \"\").lower()\n",
    "refined_query"
   ]
  },
  {
   "cell_type": "markdown",
   "id": "70c52505",
   "metadata": {},
   "source": [
    "# Semantic Search"
   ]
  },
  {
   "cell_type": "code",
   "execution_count": 6,
   "id": "574897db",
   "metadata": {},
   "outputs": [],
   "source": [
    "def get_semantic_search_docs(query: str, k: int = 100, fetch_k: int = 200):\n",
    "    \"\"\"\n",
    "    doc string\n",
    "    \"\"\"\n",
    "    global vectorstore\n",
    "    print(\"--------------<Semantic Search>-----------------\")\n",
    "    retriever = vectorstore.as_retriever(\n",
    "        search_type=\"mmr\", \n",
    "        search_kwargs={'k': k, \"fetch_k\": fetch_k}\n",
    "    )\n",
    "    result = retriever.invoke(query)\n",
    "    print(f\">>> Semantic Search Counts: {len(result)}\")\n",
    "    return result\n"
   ]
  },
  {
   "cell_type": "code",
   "execution_count": 7,
   "id": "26ac77d0",
   "metadata": {},
   "outputs": [],
   "source": [
    "# result = get_semantic_search_docs(query=refined_query, k=50, fetch_k=100)\n",
    "# result"
   ]
  },
  {
   "cell_type": "markdown",
   "id": "288c1e8f",
   "metadata": {},
   "source": [
    "# Keywords Matching"
   ]
  },
  {
   "cell_type": "code",
   "execution_count": 8,
   "id": "c98a7de3",
   "metadata": {},
   "outputs": [],
   "source": [
    "import re\n",
    "\n",
    "def get_keywords_matched_docs(query: str, documents: list, and_condition: bool = True):\n",
    "    \"\"\"\n",
    "    doc string\n",
    "    \"\"\"\n",
    "    print(\"--------------<Keywords Search>-----------------\")\n",
    "    pattern = r\"\\^([^^]+)\\^\"  # ^로 둘러싸인 단어만 검색 대상으로 리스트에 담기\n",
    "    extracted_keywords = re.findall(pattern, query)\n",
    "    lower_keywords = [keyword.lower() for keyword in extracted_keywords]\n",
    "    print(f\">>> lower_keywords: {lower_keywords}\")\n",
    "\n",
    "    lower_docs = [doc.page_content.lower() for doc in documents]\n",
    "    if and_condition:\n",
    "        matching_sentences = [sentence for sentence in lower_docs if all(keyword in sentence for keyword in lower_keywords)]\n",
    "    else:\n",
    "        matching_sentences = [sentence for sentence in lower_docs if any(keyword in sentence for keyword in lower_keywords)]\n",
    "\n",
    "    matched_index = [lower_docs.index(doc) for doc in matching_sentences]\n",
    "    final_matched_docs = [documents[i] for i in matched_index]\n",
    "\n",
    "    print(f\">>> 키워드 매칭칭 문서개수: {len(final_matched_docs)}\")\n",
    "    return final_matched_docs"
   ]
  },
  {
   "cell_type": "code",
   "execution_count": 9,
   "id": "f7d2f694",
   "metadata": {},
   "outputs": [],
   "source": [
    "# result = get_keywords_matched_docs(query=query, documents=result, and_condition=True)\n",
    "# result"
   ]
  },
  {
   "cell_type": "markdown",
   "id": "be1e1dc4",
   "metadata": {},
   "source": [
    "# BM 25 "
   ]
  },
  {
   "cell_type": "code",
   "execution_count": 10,
   "id": "a558ad64",
   "metadata": {},
   "outputs": [],
   "source": [
    "import re\n",
    "import numpy as np\n",
    "from rank_bm25 import BM25Okapi\n",
    "\n",
    "\n",
    "def get_bm25_top_docs(query: str, documents: list, top_k: int = 10):\n",
    "    \"\"\"\n",
    "    doc string\n",
    "    \"\"\"\n",
    "    print(\"--------------<BM25 Search>-----------------\")\n",
    "    tokenized_corpus = [doc.page_content.lower() for doc in documents]\n",
    "    bm25 = BM25Okapi(tokenized_corpus)\n",
    "\n",
    "    query = query.split(\" \")\n",
    "    query = [word.lower() for word in query]\n",
    "    print(f\">>> bm25 query: {query}\")\n",
    "\n",
    "    doc_scores = bm25.get_scores(query)\n",
    "    sorted_indices = np.argsort(doc_scores)  # 값에 대한 정렬된 인덱스\n",
    "    order_values = np.empty_like(sorted_indices)\n",
    "    order_values[sorted_indices] = np.arange(len(doc_scores))\n",
    "    top_index = [i for i, value in enumerate(order_values) if value < top_k]\n",
    "    top_docs = [i for i in documents if documents.index(i) in top_index]\n",
    "    print(f\">>> 원 BM25 문서개수: {len(top_docs)}\")\n",
    "    \n",
    "    if len(top_docs) >= top_k:\n",
    "        top_docs = top_docs[:top_k]\n",
    "    \n",
    "    return top_docs\n",
    "\n"
   ]
  },
  {
   "cell_type": "code",
   "execution_count": 11,
   "id": "78bdd27f",
   "metadata": {},
   "outputs": [],
   "source": [
    "# result = get_bm25_top_docs(query=query, documents=result, top_k=20)\n",
    "# result"
   ]
  },
  {
   "cell_type": "markdown",
   "id": "41c12393",
   "metadata": {},
   "source": [
    "# Reranking"
   ]
  },
  {
   "cell_type": "code",
   "execution_count": 12,
   "id": "d2fe35bc",
   "metadata": {},
   "outputs": [],
   "source": [
    "# def reranking(query: str, docs: list, min_score: float = 0.5, top_k: int = 3):\n",
    "#     \"\"\"\n",
    "#     doc string\n",
    "#     \"\"\"\n",
    "#     global reranker\n",
    "#     print(\"--------------<Reranking>-----------------\")\n",
    "#     reranked_docs = []\n",
    "#     inputs = [[query, doc.page_content] for doc in docs]\n",
    "#     scores = reranker.compute_score(inputs)\n",
    "#     if not isinstance(scores, list):\n",
    "#         scores = [scores]\n",
    "#     score_index = [(score, idx) for idx, score in enumerate(scores) if score >= min_score]\n",
    "#     sorted_score_index = sorted(score_index, key=lambda x: x[0], reverse=True)\n",
    "#     sorted_indices = [idx for score, idx in sorted_score_index]\n",
    "#     if len(sorted_indices) >= top_k:\n",
    "#         sorted_indices = sorted_indices[:top_k]\n",
    "#         sorted_score_index = sorted_score_index[:top_k]\n",
    "#     reranked_docs = [docs[i] for i in sorted_indices]        \n",
    "#     return sorted_score_index, reranked_docs"
   ]
  },
  {
   "cell_type": "code",
   "execution_count": 13,
   "id": "ae4287fc",
   "metadata": {},
   "outputs": [],
   "source": [
    "import heapq\n",
    "\n",
    "def reranking(query: str, docs: list, min_score: float = 0.5, top_k: int = 3):\n",
    "    \"\"\"\n",
    "    doc string\n",
    "    \"\"\"\n",
    "    global reranker\n",
    "    print(\"--------------<Reranking>-----------------\")\n",
    "    inputs = [[query, doc.page_content.lower()] for doc in docs]\n",
    "    scores = reranker.compute_score(inputs)\n",
    "    if not isinstance(scores, list):\n",
    "        scores = [scores]\n",
    "\n",
    "    print(f\">>> scores: {scores}\")\n",
    "\n",
    "    # Filter scores by threshold and keep index\n",
    "    filtered_scores = [(score, idx) for idx, score in enumerate(scores) if score >= min_score]\n",
    "\n",
    "    # Get top_k using heapq (more efficient than sorting full list)\n",
    "    top_scores = heapq.nlargest(top_k, filtered_scores, key=lambda x: x[0])\n",
    "\n",
    "    # Get document objects from top indices\n",
    "    reranked_docs = [docs[idx] for _, idx in top_scores]\n",
    "\n",
    "    return top_scores, reranked_docs\n"
   ]
  },
  {
   "cell_type": "code",
   "execution_count": 14,
   "id": "ab3e4a9a",
   "metadata": {},
   "outputs": [],
   "source": [
    "# sorted_score_index, reranked_docs = reranking(query=refined_query, docs=result)\n",
    "# sorted_score_index, reranked_docs"
   ]
  },
  {
   "cell_type": "code",
   "execution_count": 15,
   "id": "d13703d5",
   "metadata": {},
   "outputs": [],
   "source": [
    "# reranked_docs[0].page_content"
   ]
  },
  {
   "cell_type": "markdown",
   "id": "c2ab5105",
   "metadata": {},
   "source": [
    "# Define Main Function"
   ]
  },
  {
   "cell_type": "code",
   "execution_count": 16,
   "id": "84f72abc",
   "metadata": {},
   "outputs": [],
   "source": [
    "def hybrid_search(query: str):\n",
    "    \"\"\"\n",
    "    doc string\n",
    "    \"\"\"\n",
    "    pattern = r\"\\^([^^]+)\\^\"  # ^로 둘러싸인 단어만 검색 대상으로 리스트에 담기\n",
    "    extracted_keywords = re.findall(pattern, query)\n",
    "    query = query.lower()\n",
    "    refined_query = query.replace(\"^\", \"\").lower()\n",
    "\n",
    "    print(f\">>> origin query: {query}\")\n",
    "    print(f\">>> refined_query: {refined_query}\")\n",
    "    \n",
    "    if len(extracted_keywords) > 0:\n",
    "        try: \n",
    "            docs = get_semantic_search_docs(query=refined_query, k=50, fetch_k=100)\n",
    "            docs = get_keywords_matched_docs(query=query, documents=docs, and_condition=True)  \n",
    "            top_scores, docs = reranking(query=refined_query, docs=docs, min_score=0.5, top_k=5)\n",
    "            return top_scores, docs\n",
    "        except IndexError:\n",
    "            return \"No Retrieved Docs\"\n",
    "    else: \n",
    "        try:\n",
    "            docs = get_semantic_search_docs(query=refined_query, k=20, fetch_k=100)  # 키워드 지정이 없는 경우, 시맨틱 개수는 20개로..\n",
    "            # docs = get_bm25_top_docs(query=refined_query, documents=docs, top_k=10)   # optional\n",
    "            top_scores, docs = reranking(query=refined_query, docs=docs, min_score=0.5, top_k=5)\n",
    "            return top_scores, docs\n",
    "        except IndexError:\n",
    "            return \"No Retrieved Docs\"\n"
   ]
  },
  {
   "cell_type": "code",
   "execution_count": 18,
   "id": "7592c56e",
   "metadata": {},
   "outputs": [
    {
     "name": "stdout",
     "output_type": "stream",
     "text": [
      ">>> origin query: technical specification for ^cargo compressor^ in lng carriers\n",
      ">>> refined_query: technical specification for cargo compressor in lng carriers\n",
      "--------------<Semantic Search>-----------------\n"
     ]
    },
    {
     "name": "stderr",
     "output_type": "stream",
     "text": [
      "You're using a XLMRobertaTokenizerFast tokenizer. Please note that with a fast tokenizer, using the `__call__` method is faster than using a method to encode the text followed by a call to the `pad` method to get a padded encoding.\n"
     ]
    },
    {
     "name": "stdout",
     "output_type": "stream",
     "text": [
      ">>> Semantic Search Counts: 50\n",
      "--------------<Keywords Search>-----------------\n",
      ">>> lower_keywords: ['cargo compressor']\n",
      ">>> 키워드 매칭칭 문서개수: 3\n",
      "--------------<Reranking>-----------------\n",
      ">>> scores: [0.5849905740604183, 0.1730955500070145, 0.689021202018376]\n"
     ]
    },
    {
     "data": {
      "text/plain": [
       "([(0.689021202018376, 2), (0.5849905740604183, 0)],\n",
       " [Document(metadata={'File Name': 'Classification of compressed natural gas carriers_517-NR_2007-04', 'File Path': '/content/drive/MyDrive/Rules/BV/Classification of compressed natural gas carriers_517-NR_2007-04.pdf', 'First Division': 'Rules', 'Page': 125, 'Second Division': 'BV'}, page_content='This page explains Classification of compressed natural gas carriers_517-NR_2007-04, that belongs to catogories of Rules and BV./nof water and/or condensate cargo in holds  2. the cargo heater low temperature alarm required in 4.2.7.2  3. the alarm signalling the presence of condensate cargo in the vent main as per 5.2.1.7  4. the indication of the pressure value in each cargo tank mentioned in 13.4.1; such indication is to give the setting pressure value of the relief valve and the minimum allowable pressure value in the cargo tank concerned  5. the high pressure and low pressure alarms, when required, for cargo tanks as per 13.4.1  6. the hull structure low temperature alarm required in 13.5.2  7. the gas detection equipment alarm required in 13.6.4  8. the cargo compressor high temperature alarm required in 17.4.2.2  9. the alarm for automatic shutdown of the cargo compressor for high pressure or high temperature, as required in 17.18.4.4. 10. Where the cargo control room is located within the accommodation spaces and is readily accessible, the alarms in 13.3.2 may be grouped in a single audible and visual'),\n",
       "  Document(metadata={'File Name': 'Catalogue_LNG T&T_WEB', 'File Path': '/content/drive/MyDrive/MANUAL/Cryostar/Catalogue_LNG T&T_WEB.pdf', 'First Division': 'MANUAL', 'Page': 4, 'Second Division': 'Cryostar'}, page_content='This page explains Catalogue_LNG T&T_WEB, that belongs to catogories of MANUAL and Cryostar./n5MARINE LNG APPLICATIONS LNG carrier 50 270,000 m3Cargo managementBOG Cargo Compressors Cargo Handling Heat Exchangers BOG control LNG Subcoolers Fuel Gas Compressors Fuel Gas Vaporizers and Heaters Fuel Gas PumpsCargo/Transfer PumpsFuel supplyLNG Bunker vessel 50 20,000 m3Merchant vessel Fuel gas tanks')])"
      ]
     },
     "execution_count": 18,
     "metadata": {},
     "output_type": "execute_result"
    }
   ],
   "source": [
    "query = \"technical specification for ^cargo compressor^ in lng carriers\"\n",
    "result = hybrid_search(query=query)\n",
    "result"
   ]
  },
  {
   "cell_type": "code",
   "execution_count": 19,
   "id": "3ee4ea64",
   "metadata": {},
   "outputs": [
    {
     "name": "stdout",
     "output_type": "stream",
     "text": [
      ">>> origin query: technical specification for ^cargo compressor^ in lng carriers\n",
      ">>> refined_query: technical specification for cargo compressor in lng carriers\n",
      "--------------<Semantic Search>-----------------\n",
      ">>> Semantic Search Counts: 50\n",
      "--------------<Keywords Search>-----------------\n",
      ">>> lower_keywords: ['cargo compressor']\n",
      ">>> 키워드 매칭칭 문서개수: 3\n",
      "--------------<Reranking>-----------------\n",
      ">>> scores: [0.5849905740604183, 0.1730955500070145, 0.689021202018376]\n"
     ]
    },
    {
     "data": {
      "text/plain": [
       "([(0.689021202018376, 2), (0.5849905740604183, 0)],\n",
       " [Document(metadata={'File Name': 'Classification of compressed natural gas carriers_517-NR_2007-04', 'File Path': '/content/drive/MyDrive/Rules/BV/Classification of compressed natural gas carriers_517-NR_2007-04.pdf', 'First Division': 'Rules', 'Page': 125, 'Second Division': 'BV'}, page_content='This page explains Classification of compressed natural gas carriers_517-NR_2007-04, that belongs to catogories of Rules and BV./nof water and/or condensate cargo in holds  2. the cargo heater low temperature alarm required in 4.2.7.2  3. the alarm signalling the presence of condensate cargo in the vent main as per 5.2.1.7  4. the indication of the pressure value in each cargo tank mentioned in 13.4.1; such indication is to give the setting pressure value of the relief valve and the minimum allowable pressure value in the cargo tank concerned  5. the high pressure and low pressure alarms, when required, for cargo tanks as per 13.4.1  6. the hull structure low temperature alarm required in 13.5.2  7. the gas detection equipment alarm required in 13.6.4  8. the cargo compressor high temperature alarm required in 17.4.2.2  9. the alarm for automatic shutdown of the cargo compressor for high pressure or high temperature, as required in 17.18.4.4. 10. Where the cargo control room is located within the accommodation spaces and is readily accessible, the alarms in 13.3.2 may be grouped in a single audible and visual'),\n",
       "  Document(metadata={'File Name': 'Catalogue_LNG T&T_WEB', 'File Path': '/content/drive/MyDrive/MANUAL/Cryostar/Catalogue_LNG T&T_WEB.pdf', 'First Division': 'MANUAL', 'Page': 4, 'Second Division': 'Cryostar'}, page_content='This page explains Catalogue_LNG T&T_WEB, that belongs to catogories of MANUAL and Cryostar./n5MARINE LNG APPLICATIONS LNG carrier 50 270,000 m3Cargo managementBOG Cargo Compressors Cargo Handling Heat Exchangers BOG control LNG Subcoolers Fuel Gas Compressors Fuel Gas Vaporizers and Heaters Fuel Gas PumpsCargo/Transfer PumpsFuel supplyLNG Bunker vessel 50 20,000 m3Merchant vessel Fuel gas tanks')])"
      ]
     },
     "execution_count": 19,
     "metadata": {},
     "output_type": "execute_result"
    }
   ],
   "source": [
    "query = \"Technical Specification for ^Cargo Compressor^ in lng carriers\"\n",
    "result = hybrid_search(query=query)\n",
    "result"
   ]
  },
  {
   "cell_type": "code",
   "execution_count": 20,
   "id": "56945de6",
   "metadata": {},
   "outputs": [
    {
     "name": "stdout",
     "output_type": "stream",
     "text": [
      ">>> origin query: technical specification for ^cargo^ ^compressor^ in ^lng^ carriers\n",
      ">>> refined_query: technical specification for cargo compressor in lng carriers\n",
      "--------------<Semantic Search>-----------------\n",
      ">>> Semantic Search Counts: 50\n",
      "--------------<Keywords Search>-----------------\n",
      ">>> lower_keywords: ['cargo', 'compressor', 'lng']\n",
      ">>> 키워드 매칭칭 문서개수: 2\n",
      "--------------<Reranking>-----------------\n",
      ">>> scores: [0.5849905740604183, 0.7768891679396638]\n"
     ]
    },
    {
     "data": {
      "text/plain": [
       "([(0.7768891679396638, 1), (0.5849905740604183, 0)],\n",
       " [Document(metadata={'File Name': 'Catalogue_LNG T&T_WEB', 'File Path': '/content/drive/MyDrive/MANUAL/Cryostar/Catalogue_LNG T&T_WEB.pdf', 'First Division': 'MANUAL', 'Page': 6, 'Second Division': 'Cryostar'}, page_content='This page explains Catalogue_LNG T&T_WEB, that belongs to catogories of MANUAL and Cryostar./n7BOIL/hyphen.capOFF GAS AS A FUEL The world’s most popular compressors on LNG carriersFROM STEAM TURBINES TO MEDIUM PRESSURE 2/hyphen.capSTROKE ENGINES CRYOSTAR began producing compressors to supply boilers /f_itted to steam turbine propelled vessels. As new propulsion technologies were proposed, close co-operation with engine makers, shipyards and ship-owners led to the most versatile designs allowing /f_lexibility for operational needs.CARGO HANDLING FOR LNG CARRIERS AND LNG BUNKER VESSELS CRYOSTAR has been facilitating safe and reliable cargo handling on LNG carriers and bunker vessels since the 90’s. Tank pressure control during loading and unloading is a critical aspect of vessel operation. During loading vapour return compressors move the necessary volume of gas ashore to maintain safe tank pressure levels. FUEL GAS COMPRESSORS FOR MEDIUM PRESSURE DUAL FUEL ENGINES Developments in current generation 2-stroke DF engines have resulted in a reduction in fuel gas pressure'),\n",
       "  Document(metadata={'File Name': 'Catalogue_LNG T&T_WEB', 'File Path': '/content/drive/MyDrive/MANUAL/Cryostar/Catalogue_LNG T&T_WEB.pdf', 'First Division': 'MANUAL', 'Page': 4, 'Second Division': 'Cryostar'}, page_content='This page explains Catalogue_LNG T&T_WEB, that belongs to catogories of MANUAL and Cryostar./n5MARINE LNG APPLICATIONS LNG carrier 50 270,000 m3Cargo managementBOG Cargo Compressors Cargo Handling Heat Exchangers BOG control LNG Subcoolers Fuel Gas Compressors Fuel Gas Vaporizers and Heaters Fuel Gas PumpsCargo/Transfer PumpsFuel supplyLNG Bunker vessel 50 20,000 m3Merchant vessel Fuel gas tanks')])"
      ]
     },
     "execution_count": 20,
     "metadata": {},
     "output_type": "execute_result"
    }
   ],
   "source": [
    "query = \"Technical Specification for ^Cargo^ ^Compressor^ in ^lng^ carriers\"\n",
    "result = hybrid_search(query=query)\n",
    "result"
   ]
  },
  {
   "cell_type": "code",
   "execution_count": 21,
   "id": "499c67f3",
   "metadata": {},
   "outputs": [
    {
     "name": "stdout",
     "output_type": "stream",
     "text": [
      ">>> origin query: technical specification for cargo compressor in lng carriers\n",
      ">>> refined_query: technical specification for cargo compressor in lng carriers\n",
      "--------------<Semantic Search>-----------------\n",
      ">>> Semantic Search Counts: 20\n",
      "--------------<Reranking>-----------------\n",
      ">>> scores: [0.1569672946113173, 0.6030500380564152, 0.02893004440771399, 0.1775094835100656, 0.06520510703508027, 0.018670043747696825, 0.1730955500070145, 0.0043683073263230884, 0.013259443205033306, 0.7768893952307212, 0.6890211381606427, 0.19652044888756204, 0.008722220750727957, 0.008618786335968253, 0.0017428683638135284, 0.017912353057448146, 0.017187023857348337, 0.006424878364377303, 0.03167653318531904, 0.011079503541905747]\n"
     ]
    },
    {
     "data": {
      "text/plain": [
       "([(0.7768893952307212, 9), (0.6890211381606427, 10), (0.6030500380564152, 1)],\n",
       " [Document(metadata={'File Name': 'Catalogue_LNG T&T_WEB', 'File Path': '/content/drive/MyDrive/MANUAL/Cryostar/Catalogue_LNG T&T_WEB.pdf', 'First Division': 'MANUAL', 'Page': 6, 'Second Division': 'Cryostar'}, page_content='This page explains Catalogue_LNG T&T_WEB, that belongs to catogories of MANUAL and Cryostar./n7BOIL/hyphen.capOFF GAS AS A FUEL The world’s most popular compressors on LNG carriersFROM STEAM TURBINES TO MEDIUM PRESSURE 2/hyphen.capSTROKE ENGINES CRYOSTAR began producing compressors to supply boilers /f_itted to steam turbine propelled vessels. As new propulsion technologies were proposed, close co-operation with engine makers, shipyards and ship-owners led to the most versatile designs allowing /f_lexibility for operational needs.CARGO HANDLING FOR LNG CARRIERS AND LNG BUNKER VESSELS CRYOSTAR has been facilitating safe and reliable cargo handling on LNG carriers and bunker vessels since the 90’s. Tank pressure control during loading and unloading is a critical aspect of vessel operation. During loading vapour return compressors move the necessary volume of gas ashore to maintain safe tank pressure levels. FUEL GAS COMPRESSORS FOR MEDIUM PRESSURE DUAL FUEL ENGINES Developments in current generation 2-stroke DF engines have resulted in a reduction in fuel gas pressure'),\n",
       "  Document(metadata={'File Name': 'Classification of compressed natural gas carriers_517-NR_2007-04', 'File Path': '/content/drive/MyDrive/Rules/BV/Classification of compressed natural gas carriers_517-NR_2007-04.pdf', 'First Division': 'Rules', 'Page': 125, 'Second Division': 'BV'}, page_content='This page explains Classification of compressed natural gas carriers_517-NR_2007-04, that belongs to catogories of Rules and BV./nof water and/or condensate cargo in holds  2. the cargo heater low temperature alarm required in 4.2.7.2  3. the alarm signalling the presence of condensate cargo in the vent main as per 5.2.1.7  4. the indication of the pressure value in each cargo tank mentioned in 13.4.1; such indication is to give the setting pressure value of the relief valve and the minimum allowable pressure value in the cargo tank concerned  5. the high pressure and low pressure alarms, when required, for cargo tanks as per 13.4.1  6. the hull structure low temperature alarm required in 13.5.2  7. the gas detection equipment alarm required in 13.6.4  8. the cargo compressor high temperature alarm required in 17.4.2.2  9. the alarm for automatic shutdown of the cargo compressor for high pressure or high temperature, as required in 17.18.4.4. 10. Where the cargo control room is located within the accommodation spaces and is readily accessible, the alarms in 13.3.2 may be grouped in a single audible and visual'),\n",
       "  Document(metadata={'File Name': 'Catalogue_LNG T&T_WEB', 'File Path': '/content/drive/MyDrive/MANUAL/Cryostar/Catalogue_LNG T&T_WEB.pdf', 'First Division': 'MANUAL', 'Page': 14, 'Second Division': 'Cryostar'}, page_content='This page explains Catalogue_LNG T&T_WEB, that belongs to catogories of MANUAL and Cryostar./n15LANDBASED LNG LANDBASED BOG COMPRESSORS AND BLOWERS LNG Receiving Terminals are equipped with blowers to balance the gas volumes when LNG carriers unload. These machines are derivatives of the similar machines installed on the carriers themselves. Built to diﬀerent regulations, they bene/f_it from the rugged reliability provided by the on-board machines. 0102030405060 0 5000 10000 15000 20000 25000 30000Adiabatic Head Rise [KJ/kg] Volume Flow [m3/h]Surge Line MIN+70°+50°0°-30° INLET GUIDE VANES SETTING Multi-stage BOG compressor Single stage return gas blower')])"
      ]
     },
     "execution_count": 21,
     "metadata": {},
     "output_type": "execute_result"
    }
   ],
   "source": [
    "query = \"Technical Specification for Cargo Compressor in lng carriers\"\n",
    "result = hybrid_search(query=query)\n",
    "result"
   ]
  },
  {
   "cell_type": "code",
   "execution_count": 22,
   "id": "69afb56f",
   "metadata": {},
   "outputs": [
    {
     "name": "stdout",
     "output_type": "stream",
     "text": [
      "('This page explains Catalogue_LNG T&T_WEB, that belongs to catogories of '\n",
      " 'MANUAL and Cryostar./n7BOIL/hyphen.capOFF GAS AS A FUEL The world’s most '\n",
      " 'popular compressors on LNG carriersFROM STEAM TURBINES TO MEDIUM PRESSURE '\n",
      " '2/hyphen.capSTROKE ENGINES CRYOSTAR began producing compressors to supply '\n",
      " 'boilers /f_itted to steam turbine propelled vessels. As new propulsion '\n",
      " 'technologies were proposed, close co-operation with engine makers, shipyards '\n",
      " 'and ship-owners led to the most versatile designs allowing /f_lexibility for '\n",
      " 'operational needs.CARGO HANDLING FOR LNG CARRIERS AND LNG BUNKER VESSELS '\n",
      " 'CRYOSTAR has been facilitating safe and reliable cargo handling on LNG '\n",
      " 'carriers and bunker vessels since the 90’s. Tank pressure control during '\n",
      " 'loading and unloading is a critical aspect of vessel operation. During '\n",
      " 'loading vapour return compressors move the necessary volume of gas ashore to '\n",
      " 'maintain safe tank pressure levels. FUEL GAS COMPRESSORS FOR MEDIUM PRESSURE '\n",
      " 'DUAL FUEL ENGINES Developments in current generation 2-stroke DF engines '\n",
      " 'have resulted in a reduction in fuel gas pressure')\n"
     ]
    }
   ],
   "source": [
    "from pprint import pprint\n",
    "pprint(result[1][0].page_content)"
   ]
  },
  {
   "cell_type": "code",
   "execution_count": 23,
   "id": "e6b803a7",
   "metadata": {},
   "outputs": [
    {
     "name": "stdout",
     "output_type": "stream",
     "text": [
      "('This page explains Classification of compressed natural gas '\n",
      " 'carriers_517-NR_2007-04, that belongs to catogories of Rules and BV./nof '\n",
      " 'water and/or condensate cargo in holds  2. the cargo heater low temperature '\n",
      " 'alarm required in 4.2.7.2  3. the alarm signalling the presence of '\n",
      " 'condensate cargo in the vent main as per 5.2.1.7  4. the indication of the '\n",
      " 'pressure value in each cargo tank mentioned in 13.4.1; such indication is to '\n",
      " 'give the setting pressure value of the relief valve and the minimum '\n",
      " 'allowable pressure value in the cargo tank concerned  5. the high pressure '\n",
      " 'and low pressure alarms, when required, for cargo tanks as per 13.4.1  6. '\n",
      " 'the hull structure low temperature alarm required in 13.5.2  7. the gas '\n",
      " 'detection equipment alarm required in 13.6.4  8. the cargo compressor high '\n",
      " 'temperature alarm required in 17.4.2.2  9. the alarm for automatic shutdown '\n",
      " 'of the cargo compressor for high pressure or high temperature, as required '\n",
      " 'in 17.18.4.4. 10. Where the cargo control room is located within the '\n",
      " 'accommodation spaces and is readily accessible, the alarms in 13.3.2 may be '\n",
      " 'grouped in a single audible and visual')\n"
     ]
    }
   ],
   "source": [
    "pprint(result[1][1].page_content)"
   ]
  },
  {
   "cell_type": "code",
   "execution_count": null,
   "id": "6557fffe",
   "metadata": {},
   "outputs": [],
   "source": []
  }
 ],
 "metadata": {
  "kernelspec": {
   "display_name": ".venv",
   "language": "python",
   "name": "python3"
  },
  "language_info": {
   "codemirror_mode": {
    "name": "ipython",
    "version": 3
   },
   "file_extension": ".py",
   "mimetype": "text/x-python",
   "name": "python",
   "nbconvert_exporter": "python",
   "pygments_lexer": "ipython3",
   "version": "3.12.6"
  }
 },
 "nbformat": 4,
 "nbformat_minor": 5
}
