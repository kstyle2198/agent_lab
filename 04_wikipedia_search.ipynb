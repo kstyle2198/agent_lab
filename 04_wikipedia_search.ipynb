{
 "cells": [
  {
   "cell_type": "code",
   "execution_count": 1,
   "metadata": {},
   "outputs": [],
   "source": [
    "from langchain_groq import ChatGroq\n",
    "llm = ChatGroq(temperature=0, model_name= \"llama-3.3-70b-versatile\")"
   ]
  },
  {
   "cell_type": "code",
   "execution_count": 7,
   "metadata": {},
   "outputs": [
    {
     "data": {
      "text/plain": [
       "WikipediaQueryRun(api_wrapper=WikipediaAPIWrapper(wiki_client=<module 'wikipedia' from 'd:\\\\agent_lab\\\\.venv\\\\Lib\\\\site-packages\\\\wikipedia\\\\__init__.py'>, top_k_results=3, lang='ko', load_all_available_meta=False, doc_content_chars_max=4000))"
      ]
     },
     "execution_count": 7,
     "metadata": {},
     "output_type": "execute_result"
    }
   ],
   "source": [
    "from langchain_community.tools import WikipediaQueryRun\n",
    "from langchain_community.utilities import WikipediaAPIWrapper\n",
    "wikipedia = WikipediaQueryRun(api_wrapper=WikipediaAPIWrapper(top_k_results=3, lang=\"ko\"))\n",
    "wikipedia"
   ]
  },
  {
   "cell_type": "code",
   "execution_count": 10,
   "metadata": {},
   "outputs": [
    {
     "name": "stdout",
     "output_type": "stream",
     "text": [
      "Page: 하계 올림픽\n",
      "Summary: 하계 올림픽(영어: Summer Olympic Games, 프랑스어: Jeux olympiques d'été)은 4년마다 열리는 국제 스포츠 대회로 국제올림픽위원회(IOC)가 주관한다. 지구촌 최대 스포츠 축제인 하계 올림픽은 국제 행사 중 가장 크고 잘 알려져 있으며 가장 많은 시청자들이 시청하는 이벤트이다. 메달 수상자에게는 큰 명예가 주어지게 되며, 수상자는 순위에 따라 금메달, 은메달, 동메달이 주어지며 이는 1904년 이후 이 전통이 유지되고 있다.\n",
      "올림픽은 하계 올림픽과 동계 올림픽이 있으며 하계 올림픽의 규모가 더 크다. 일반적으로 올림픽이라고 부르는 것은 하계 올림픽이다. 선수들은 각 나라의 국가 올림픽 위원회(NOC)에 의해 선발되며 각 나라를 대표한다. 국가와 국기는 메달 수여식을 장식하게 되고 각국의 메달 집계가 이루어진다.\n",
      "\n",
      "Page: 올림픽\n",
      "Summary: 올림픽(영어: Olympic Games, 프랑스어: Jeux olympiques)은 전 세계 각 대륙 각국에서 모인 수천 명의 선수가 참가해 여름과 겨울에 스포츠 경기를 하는 국제적인 대회이다. 전 세계에서 가장 큰 지구촌 최대의 스포츠 축제인 올림픽은 세계에서 가장 인지도있는 국제 행사이다. 올림픽은 2년마다 하계 올림픽과 동계 올림픽이 번갈아 열리며, 국제 올림픽 위원회(IOC)가 감독하고 있다. 또한 오늘날의 올림픽은 기원전 8세기부터 서기 5세기에 이르기까지 고대 그리스 올림피아에서 열렸던 올림피아 제전에서 비롯되었다. 그리고 19세기 말에 피에르 드 쿠베르탱 남작이 고대 올림피아 제전에서 영감을 얻어, 근대 올림픽을 부활시켰다. 이를 위해 쿠베르탱 남작은 1894년에 IOC를 창설했으며, 2년 뒤인 1896년에 그리스 아테네에서 제 1회 올림픽이 열렸다. 이때부터 IOC는 올림픽 운동의 감독 기구가 되었으며, 조직과 활동은 올림픽 헌장을 따른다. 오늘날 전 세계 대부분의 국가에서 올림픽 메달은 매우 큰 영예이며, 특히 올림픽 금메달리스트는 국가 영웅급의 대우를 받으며 스포츠 스타가 된다. 국가별로 올림픽 메달리스트들에게 지급하는 포상금도 크다. 대부분의 인기있는 종목들이나 일상에서 쉽게 접하고 즐길 수 있는 생활스포츠 종목들이 올림픽이라는 한 대회에서 동시에 열리고, 전 세계 대부분의 국가 출신의 선수들이 참여하는 만큼 전 세계 스포츠 팬들이 가장 많이 시청하는 이벤트이다. 2008 베이징 올림픽의 모든 종목 누적 시청자 수만 47억 명에 달하며, 이는 인류 역사상 가장 많은 수의 인구가 시청한 이벤트였다.\n",
      "또한 20세기에 올림픽 운동이 발전함에 따라, IOC는 변화하는 세계의 사회 환경에 적응해야 했다. 이러한 변화의 예로는 얼음과 눈을 이용한 경기 종목을 다루는 동계 올림픽, 장애인이 참여하는 패럴림픽, 스페셜 올림픽, 데플림픽, 10대 선수들이 참여하는 유스 올림픽 등을 들 수 있다. 그 뿐만 아니라 IOC는 20세기의 변화하는 경제, 정치, 기술 환경에도 적응해야 했다. 그리하여 올림픽은 피에르 드 쿠베르탱이 기대했던 순수한 아마추어 정신에서 벗어나서, 프로 선수도 참가할 수 있게 되었다. 올림픽은 점차 대중 매체의 중요성이 커짐에 따라 올림픽의 상업화와 기업 후원을 놓고도 논란이 생겨났다. 또한 올림픽을 치르며 발생한 보이콧, 도핑, 심판 매수, 테러와 같은 수많은 일들은 올림픽이 더욱 굳건히 성장할 수 있는 원동력이 되었다.\n",
      "올림픽은 국제경기연맹(IF), 국가 올림픽 위원회(NOC), 각 올림픽의 위원회(예-벤쿠버동계올림픽조직위원회)로 구성된다. 의사 결정 기구인 IOC는 올림픽 개최 도시를 선정하며, 각 올림픽 대회마다 열리는 올림픽 종목도 IOC에서 결정한다. 올림픽 경기 개최 도시는 경기 축하 의식이 올림픽 헌장에 부합하도록 조직하고 기금을 마련해야 한다. 올림픽 축하 행사로는 여러 의식과 상징을 들 수 있는데 올림픽기나 성화가 그 예이다.\n",
      "올림픽은 거의 모든 국가가 참여할 정도로 규모가 커졌다. 하계 올림픽은 33개의 종목과 약 400개의 세부종목에서 13,000명이 넘는 선수들이 겨루고 그중 각 종목별 1, 2, 3위는 각각 금/은/동을 수여받는다. 전 세계 언론에서 각각 4년마다 열리는 올림픽 경기를 중계하기 때문에 이름 없는 선수가 개인적, 국가적, 세계적으로 명성을 얻을 수 있는 기회가 된다. 이와 더불어 올림픽 경기는 개최지와 개최국에게도 전 세계에 그 이름을 널리 알리는 좋은 기회가 된다.\n",
      "\n",
      "Page: 2026년 동계 올림픽\n",
      "Summary: 2026년 동계 올림픽(이탈리아어: Olimpiadi invernali del 2026, 영어: 2026 Winter Olympics) 또는 제25회 동계 올림픽(이탈리아어: XXVI Giochi olimpici invernali, 영어: XXVI Olympic Winter Games)은 2026년 2월 6일부터 2월 22일까지 이탈리아 밀라노와 코르티나담페초에서 열릴 예정인 동계 올림픽이다.\n"
     ]
    }
   ],
   "source": [
    "result = wikipedia.run(\"최근 파리 올림픽 개최년도\")\n",
    "print(result)"
   ]
  },
  {
   "cell_type": "code",
   "execution_count": 9,
   "metadata": {},
   "outputs": [
    {
     "name": "stdout",
     "output_type": "stream",
     "text": [
      "('Page: 확률적 경사 하강법\\n'\n",
      " 'Summary: 확률적 경사 하강법(Stochastic gradient descent, SGD)은 적절한 평활성 특성(예: 미분 가능 '\n",
      " '또는 하위 미분 가능)을 사용하여 목적 함수를 최적화하기 위한 반복 방법이다. 이는 실제 기울기(전체 자료 집합에서 계산됨)를 해당 '\n",
      " '추정치(데이터의 무작위로 선택된 하위 집합에서 계산됨)로 대체하기 때문에 경사 하강법 최적화의 확률론적 근사치로 간주될 수 있다. 특히 '\n",
      " '고차원 최적화 문제에서 이는 매우 높은 계산 부담을 줄여 수렴률을 낮추는 대신 더 빠른 반복을 달성한다.\\n'\n",
      " '확률적 근사의 기본 아이디어는 1950년대 로빈스-몬로(Robbins-Monro) 알고리즘으로 거슬러 올라간다. 오늘날 확률적 경사 '\n",
      " '하강법은 기계 학습에서 중요한 최적화 방법이 되었다.\\n'\n",
      " '\\n'\n",
      " 'Page: 딥 러닝\\n'\n",
      " 'Summary: 심층 학습(深層學習) 또는 딥 러닝(영어: deep structured learning, deep learning 또는 '\n",
      " \"hierarchical learning)은 여러 '비선형 변환기법'의 조합을 통해 높은 수준의 추상화(abstractions, 다량의 \"\n",
      " '데이터나 복잡한 자료들 속에서 핵심적인 내용 또는 기능을 요약하는 작업)를 시도하는 기계 학습 알고리즘의 집합으로 정의되며, 큰 틀에서 '\n",
      " '사람의 사고방식을 컴퓨터에게 가르치는 기계학습의 한 분야라고 이야기할 수 있다.\\n'\n",
      " '어떠한 데이터가 있을 때 이를 컴퓨터가 알아 들을 수 있는 형태(예를 들어 이미지의 경우는 픽셀정보를 열벡터로 표현하는 등)로 '\n",
      " '표현(representation)하고 이를 학습에 적용하기 위해 많은 연구(어떻게 하면 더 좋은 표현기법을 만들고 또 어떻게 이것들을 '\n",
      " '학습할 모델을 만들지에 대한)가 진행되고 있으며, 이러한 노력의 결과로 deep neural networks, convolutional '\n",
      " 'deep neural networks, deep belief networks와 같은 다양한 딥 러닝 기법들이 컴퓨터 비전, 음성인식, '\n",
      " '자연어 처리, 음성/신호처리 등 최첨단 분야에 적용되고 있다.\\n'\n",
      " '2012년 스탠포드대학의 앤드류 응과 구글이 함께한 딥 러닝 프로젝트에서는 16,000개의 컴퓨터 프로세서와 10억 개 이상의 '\n",
      " 'neural networks 그리고 DNN(deep neural networks)을 이용하여 유튜브에 업로드 되어 있는 천만 개 넘는 '\n",
      " '비디오 중 고양이 인식에 성공하였다. 이 소프트웨어 프레임워크를 논문에서는 DistBelief로 언급하고 있다. 이뿐만 아니라 '\n",
      " '마이크로소프트, 페이스북 등도 연구팀을 인수하거나 자체 개발팀을 운영하면서 인상적인 업적들을 만들어 내고 있다.\\n'\n",
      " '\\n'\n",
      " 'Page: 정칙화\\n'\n",
      " 'Summary: 정칙화(正則化, regularization)는 역문제를 해결할때나 기계 학습에서 잘못 설정된 문제(ill-posed)를 '\n",
      " '풀거나 과적합을 방지하는 기법으로 티호노프 정칙화 등이 있다.\\n'\n",
      " '정규화 절차는 여러 가지 방법으로 나눌 수 있지만 다음과 같은 설명이 특히 유용한다.\\n'\n",
      " '\\n'\n",
      " '명시적 정규화는 최적화 문제에 용어를 명시적으로 추가할 때마다 정규화된다. 이러한 용어는 사전, 처벌 또는 제약이 될 수 있다. 명시적 '\n",
      " '정규화는 일반적으로 잘못된 최적화 문제에 사용된다. 정규화 항 또는 페널티는 최적의 솔루션을 고유하게 만들기 위해 최적화 함수에 비용을 '\n",
      " '부과한다.\\n'\n",
      " '암시적 정규화는 다른 모든 형태의 정규화이다. 예를 들어 조기 중지, 강력한 손실 함수 사용, 이상값 삭제 등이 여기에 포함된다. 암시적 '\n",
      " '정규화는 심층 신경망 훈련을 위한 확률적 경사하강법 및 앙상블 방법(예: 랜덤 포레스트 및 경사 강화 트리)을 비롯한 현대 기계 학습 '\n",
      " '접근 방식에서 본질적으로 어디에나 존재한다.')\n"
     ]
    }
   ],
   "source": [
    "from pprint import pprint\n",
    "pprint(result)"
   ]
  },
  {
   "cell_type": "code",
   "execution_count": null,
   "metadata": {},
   "outputs": [],
   "source": []
  }
 ],
 "metadata": {
  "kernelspec": {
   "display_name": ".venv",
   "language": "python",
   "name": "python3"
  },
  "language_info": {
   "codemirror_mode": {
    "name": "ipython",
    "version": 3
   },
   "file_extension": ".py",
   "mimetype": "text/x-python",
   "name": "python",
   "nbconvert_exporter": "python",
   "pygments_lexer": "ipython3",
   "version": "3.12.6"
  }
 },
 "nbformat": 4,
 "nbformat_minor": 2
}
