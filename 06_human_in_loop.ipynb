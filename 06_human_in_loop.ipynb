{
 "cells": [
  {
   "cell_type": "code",
   "execution_count": 1,
   "metadata": {},
   "outputs": [],
   "source": [
    "from IPython.display import Image, display\n",
    "\n",
    "from langchain_groq import ChatGroq\n",
    "from langchain_core.messages import SystemMessage, HumanMessage, RemoveMessage\n",
    "from langchain_core.runnables import RunnableConfig\n",
    "\n",
    "from langgraph.checkpoint.memory import MemorySaver\n",
    "from langgraph.graph import StateGraph, START, END\n",
    "from langgraph.graph import MessagesState"
   ]
  },
  {
   "cell_type": "code",
   "execution_count": 2,
   "metadata": {},
   "outputs": [],
   "source": [
    "model = ChatGroq(temperature=0, model_name= \"llama-3.3-70b-versatile\")"
   ]
  },
  {
   "cell_type": "code",
   "execution_count": 3,
   "metadata": {},
   "outputs": [],
   "source": [
    "# State \n",
    "class State(MessagesState):\n",
    "    summary: str"
   ]
  },
  {
   "cell_type": "code",
   "execution_count": 4,
   "metadata": {},
   "outputs": [],
   "source": [
    "# Define the logic to call the model\n",
    "def call_model(state: State, config: RunnableConfig):\n",
    "    \n",
    "    # Get summary if it exists\n",
    "    summary = state.get(\"summary\", \"\")\n",
    "\n",
    "    # If there is summary, then we add it\n",
    "    if summary:\n",
    "        \n",
    "        # Add summary to system message\n",
    "        system_message = f\"Summary of conversation earlier: {summary}\"\n",
    "\n",
    "        # Append summary to any newer messages\n",
    "        messages = [SystemMessage(content=system_message)] + state[\"messages\"]\n",
    "    \n",
    "    else:\n",
    "        messages = state[\"messages\"]\n",
    "    \n",
    "    response = model.invoke(messages, config)\n",
    "    return {\"messages\": response}\n",
    "\n",
    "def summarize_conversation(state: State):\n",
    "    \n",
    "    # First, we get any existing summary\n",
    "    summary = state.get(\"summary\", \"\")\n",
    "\n",
    "    # Create our summarization prompt \n",
    "    if summary:\n",
    "        \n",
    "        # A summary already exists\n",
    "        summary_message = (\n",
    "            f\"This is summary of the conversation to date: {summary}\\n\\n\"\n",
    "            \"Extend the summary by taking into account the new messages above:\"\n",
    "        )\n",
    "        \n",
    "    else:\n",
    "        summary_message = \"Create a summary of the conversation above:\"\n",
    "    \n",
    "    \n",
    "\n",
    "    # Add prompt to our history\n",
    "    messages = state[\"messages\"] + [HumanMessage(content=summary_message)]\n",
    "    response = model.invoke(messages)\n",
    "    print(f\">>> summary_message: {summary_message}\")\n",
    "    print(f\">>> summary_content: {response}\")\n",
    "    \n",
    "    # Delete all but the 2 most recent messages\n",
    "    delete_messages = [RemoveMessage(id=m.id) for m in state[\"messages\"][:-2]]\n",
    "    return {\"summary\": response.content, \"messages\": delete_messages}\n"
   ]
  },
  {
   "cell_type": "code",
   "execution_count": 5,
   "metadata": {},
   "outputs": [],
   "source": [
    "# Determine whether to end or summarize the conversation\n",
    "def should_continue(state: State):\n",
    "    \n",
    "    \"\"\"Return the next node to execute.\"\"\"\n",
    "    \n",
    "    messages = state[\"messages\"]\n",
    "    \n",
    "    # If there are more than six messages, then we summarize the conversation\n",
    "    if len(messages) > 6:\n",
    "        return \"summarize_conversation\"\n",
    "    \n",
    "    # Otherwise we can just end\n",
    "    return END"
   ]
  },
  {
   "cell_type": "code",
   "execution_count": 6,
   "metadata": {},
   "outputs": [
    {
     "data": {
      "image/png": "[encoded data removed]",
      "text/plain": [
       "<IPython.core.display.Image object>"
      ]
     },
     "metadata": {},
     "output_type": "display_data"
    }
   ],
   "source": [
    "# Define a new graph\n",
    "workflow = StateGraph(State)\n",
    "workflow.add_node(\"call_model\", call_model)\n",
    "workflow.add_node(\"summarize_conversation\", summarize_conversation)\n",
    "\n",
    "# Set the entrypoint as conversation\n",
    "workflow.add_edge(START, \"call_model\")\n",
    "workflow.add_conditional_edges(\"call_model\", should_continue)\n",
    "workflow.add_edge(\"summarize_conversation\", END)\n",
    "\n",
    "# Compile\n",
    "memory = MemorySaver()\n",
    "graph = workflow.compile(checkpointer=memory)\n",
    "display(Image(graph.get_graph().draw_mermaid_png()))"
   ]
  },
  {
   "cell_type": "code",
   "execution_count": 7,
   "metadata": {},
   "outputs": [
    {
     "name": "stdout",
     "output_type": "stream",
     "text": [
      "================================\u001b[1m Human Message \u001b[0m=================================\n",
      "\n",
      "한국의 수도는?\n",
      "---------------------------------------------------------------------------\n",
      "================================\u001b[1m Human Message \u001b[0m=================================\n",
      "\n",
      "한국의 수도는?\n",
      "==================================\u001b[1m Ai Message \u001b[0m==================================\n",
      "\n",
      "한국의 수도는 서울입니다.\n",
      "---------------------------------------------------------------------------\n"
     ]
    }
   ],
   "source": [
    "# Start conversation, again\n",
    "config = {\"configurable\": {\"thread_id\": \"1\"}}\n",
    "\n",
    "# Start conversation\n",
    "input_message = HumanMessage(content=\"한국의 수도는?\")\n",
    "for event in graph.stream({\"messages\": [input_message]}, config, stream_mode=\"values\"):\n",
    "    for m in event['messages']:\n",
    "        m.pretty_print()\n",
    "    print(\"---\"*25)"
   ]
  },
  {
   "cell_type": "code",
   "execution_count": 8,
   "metadata": {},
   "outputs": [
    {
     "name": "stdout",
     "output_type": "stream",
     "text": [
      "================================\u001b[1m Human Message \u001b[0m=================================\n",
      "\n",
      "한국의 수도는?\n",
      "==================================\u001b[1m Ai Message \u001b[0m==================================\n",
      "\n",
      "한국의 수도는 서울입니다.\n",
      "================================\u001b[1m Human Message \u001b[0m=================================\n",
      "\n",
      "일본의 수도는?\n",
      "---------------------------------------------------------------------------\n",
      "================================\u001b[1m Human Message \u001b[0m=================================\n",
      "\n",
      "한국의 수도는?\n",
      "==================================\u001b[1m Ai Message \u001b[0m==================================\n",
      "\n",
      "한국의 수도는 서울입니다.\n",
      "================================\u001b[1m Human Message \u001b[0m=================================\n",
      "\n",
      "일본의 수도는?\n",
      "==================================\u001b[1m Ai Message \u001b[0m==================================\n",
      "\n",
      "일본의 수도는 도쿄입니다.\n",
      "---------------------------------------------------------------------------\n"
     ]
    }
   ],
   "source": [
    "# Start conversation, again\n",
    "config = {\"configurable\": {\"thread_id\": \"1\"}}\n",
    "\n",
    "# Start conversation\n",
    "input_message = HumanMessage(content=\"일본의 수도는?\")\n",
    "for event in graph.stream({\"messages\": [input_message]}, config, stream_mode=\"values\"):\n",
    "    for m in event['messages']:\n",
    "        m.pretty_print()\n",
    "    print(\"---\"*25)"
   ]
  },
  {
   "cell_type": "code",
   "execution_count": 9,
   "metadata": {},
   "outputs": [
    {
     "name": "stdout",
     "output_type": "stream",
     "text": [
      "================================\u001b[1m Human Message \u001b[0m=================================\n",
      "\n",
      "한국의 수도는?\n",
      "==================================\u001b[1m Ai Message \u001b[0m==================================\n",
      "\n",
      "한국의 수도는 서울입니다.\n",
      "================================\u001b[1m Human Message \u001b[0m=================================\n",
      "\n",
      "일본의 수도는?\n",
      "==================================\u001b[1m Ai Message \u001b[0m==================================\n",
      "\n",
      "일본의 수도는 도쿄입니다.\n",
      "================================\u001b[1m Human Message \u001b[0m=================================\n",
      "\n",
      "중국의 수도는?\n",
      "---------------------------------------------------------------------------\n",
      "================================\u001b[1m Human Message \u001b[0m=================================\n",
      "\n",
      "한국의 수도는?\n",
      "==================================\u001b[1m Ai Message \u001b[0m==================================\n",
      "\n",
      "한국의 수도는 서울입니다.\n",
      "================================\u001b[1m Human Message \u001b[0m=================================\n",
      "\n",
      "일본의 수도는?\n",
      "==================================\u001b[1m Ai Message \u001b[0m==================================\n",
      "\n",
      "일본의 수도는 도쿄입니다.\n",
      "================================\u001b[1m Human Message \u001b[0m=================================\n",
      "\n",
      "중국의 수도는?\n",
      "==================================\u001b[1m Ai Message \u001b[0m==================================\n",
      "\n",
      "중국의 수도는 베이징입니다.\n",
      "---------------------------------------------------------------------------\n"
     ]
    }
   ],
   "source": [
    "# Start conversation, again\n",
    "config = {\"configurable\": {\"thread_id\": \"1\"}}\n",
    "\n",
    "# Start conversation\n",
    "input_message = HumanMessage(content=\"중국의 수도는?\")\n",
    "for event in graph.stream({\"messages\": [input_message]}, config, stream_mode=\"values\"):\n",
    "    for m in event['messages']:\n",
    "        m.pretty_print()\n",
    "    print(\"---\"*25)"
   ]
  },
  {
   "cell_type": "code",
   "execution_count": 10,
   "metadata": {},
   "outputs": [
    {
     "name": "stdout",
     "output_type": "stream",
     "text": [
      "================================\u001b[1m Human Message \u001b[0m=================================\n",
      "\n",
      "한국의 수도는?\n",
      "==================================\u001b[1m Ai Message \u001b[0m==================================\n",
      "\n",
      "한국의 수도는 서울입니다.\n",
      "================================\u001b[1m Human Message \u001b[0m=================================\n",
      "\n",
      "일본의 수도는?\n",
      "==================================\u001b[1m Ai Message \u001b[0m==================================\n",
      "\n",
      "일본의 수도는 도쿄입니다.\n",
      "================================\u001b[1m Human Message \u001b[0m=================================\n",
      "\n",
      "중국의 수도는?\n",
      "==================================\u001b[1m Ai Message \u001b[0m==================================\n",
      "\n",
      "중국의 수도는 베이징입니다.\n",
      "================================\u001b[1m Human Message \u001b[0m=================================\n",
      "\n",
      "미국의 수도는??\n",
      "---------------------------------------------------------------------------\n",
      "================================\u001b[1m Human Message \u001b[0m=================================\n",
      "\n",
      "한국의 수도는?\n",
      "==================================\u001b[1m Ai Message \u001b[0m==================================\n",
      "\n",
      "한국의 수도는 서울입니다.\n",
      "================================\u001b[1m Human Message \u001b[0m=================================\n",
      "\n",
      "일본의 수도는?\n",
      "==================================\u001b[1m Ai Message \u001b[0m==================================\n",
      "\n",
      "일본의 수도는 도쿄입니다.\n",
      "================================\u001b[1m Human Message \u001b[0m=================================\n",
      "\n",
      "중국의 수도는?\n",
      "==================================\u001b[1m Ai Message \u001b[0m==================================\n",
      "\n",
      "중국의 수도는 베이징입니다.\n",
      "================================\u001b[1m Human Message \u001b[0m=================================\n",
      "\n",
      "미국의 수도는??\n",
      "==================================\u001b[1m Ai Message \u001b[0m==================================\n",
      "\n",
      "미국의 수도는 워싱턴 D.C.입니다.\n",
      "---------------------------------------------------------------------------\n",
      ">>> summary_message: Create a summary of the conversation above:\n",
      ">>> summary_content: content=\"Here is a summary of our conversation:\\n\\nWe discussed the capitals of various countries:\\n- South Korea: Seoul\\n- Japan: Tokyo\\n- China: Beijing\\n- United States: Washington D.C.\\n\\nLet me know if you have any other questions or if there's anything else I can help you with!\" additional_kwargs={} response_metadata={'token_usage': {'completion_tokens': 62, 'prompt_tokens': 140, 'total_tokens': 202, 'completion_time': 0.225454545, 'prompt_time': 0.019343879, 'queue_time': 0.07409997099999999, 'total_time': 0.244798424}, 'model_name': 'llama-3.3-70b-versatile', 'system_fingerprint': 'fp_4e32347616', 'finish_reason': 'stop', 'logprobs': None} id='run-b05ad99e-d4aa-4626-a399-a4c4cdd32499-0' usage_metadata={'input_tokens': 140, 'output_tokens': 62, 'total_tokens': 202}\n",
      "================================\u001b[1m Human Message \u001b[0m=================================\n",
      "\n",
      "미국의 수도는??\n",
      "==================================\u001b[1m Ai Message \u001b[0m==================================\n",
      "\n",
      "미국의 수도는 워싱턴 D.C.입니다.\n",
      "---------------------------------------------------------------------------\n"
     ]
    }
   ],
   "source": [
    "# Start conversation, again\n",
    "config = {\"configurable\": {\"thread_id\": \"1\"}}\n",
    "\n",
    "# Start conversation\n",
    "input_message = HumanMessage(content=\"미국의 수도는??\")\n",
    "for event in graph.stream({\"messages\": [input_message]}, config, stream_mode=\"values\"):\n",
    "    for m in event['messages']:\n",
    "        m.pretty_print()\n",
    "    print(\"---\"*25)"
   ]
  },
  {
   "cell_type": "code",
   "execution_count": 11,
   "metadata": {},
   "outputs": [
    {
     "name": "stdout",
     "output_type": "stream",
     "text": [
      "================================\u001b[1m Human Message \u001b[0m=================================\n",
      "\n",
      "미국의 수도는??\n",
      "==================================\u001b[1m Ai Message \u001b[0m==================================\n",
      "\n",
      "미국의 수도는 워싱턴 D.C.입니다.\n",
      "================================\u001b[1m Human Message \u001b[0m=================================\n",
      "\n",
      "베트남의 수도는??\n",
      "---------------------------------------------------------------------------\n",
      "================================\u001b[1m Human Message \u001b[0m=================================\n",
      "\n",
      "미국의 수도는??\n",
      "==================================\u001b[1m Ai Message \u001b[0m==================================\n",
      "\n",
      "미국의 수도는 워싱턴 D.C.입니다.\n",
      "================================\u001b[1m Human Message \u001b[0m=================================\n",
      "\n",
      "베트남의 수도는??\n",
      "==================================\u001b[1m Ai Message \u001b[0m==================================\n",
      "\n",
      "베트남의 수도는 하노이입니다.\n",
      "---------------------------------------------------------------------------\n"
     ]
    }
   ],
   "source": [
    "# Start conversation, again\n",
    "config = {\"configurable\": {\"thread_id\": \"1\"}}\n",
    "\n",
    "# Start conversation\n",
    "input_message = HumanMessage(content=\"베트남의 수도는??\")\n",
    "for event in graph.stream({\"messages\": [input_message]}, config, stream_mode=\"values\"):\n",
    "    for m in event['messages']:\n",
    "        m.pretty_print()\n",
    "    print(\"---\"*25)"
   ]
  },
  {
   "cell_type": "code",
   "execution_count": 12,
   "metadata": {},
   "outputs": [
    {
     "name": "stdout",
     "output_type": "stream",
     "text": [
      "================================\u001b[1m Human Message \u001b[0m=================================\n",
      "\n",
      "미국의 수도는??\n",
      "==================================\u001b[1m Ai Message \u001b[0m==================================\n",
      "\n",
      "미국의 수도는 워싱턴 D.C.입니다.\n",
      "================================\u001b[1m Human Message \u001b[0m=================================\n",
      "\n",
      "베트남의 수도는??\n",
      "==================================\u001b[1m Ai Message \u001b[0m==================================\n",
      "\n",
      "베트남의 수도는 하노이입니다.\n",
      "================================\u001b[1m Human Message \u001b[0m=================================\n",
      "\n",
      "수도들 사이의 거리는?\n",
      "---------------------------------------------------------------------------\n",
      "================================\u001b[1m Human Message \u001b[0m=================================\n",
      "\n",
      "미국의 수도는??\n",
      "==================================\u001b[1m Ai Message \u001b[0m==================================\n",
      "\n",
      "미국의 수도는 워싱턴 D.C.입니다.\n",
      "================================\u001b[1m Human Message \u001b[0m=================================\n",
      "\n",
      "베트남의 수도는??\n",
      "==================================\u001b[1m Ai Message \u001b[0m==================================\n",
      "\n",
      "베트남의 수도는 하노이입니다.\n",
      "================================\u001b[1m Human Message \u001b[0m=================================\n",
      "\n",
      "수도들 사이의 거리는?\n",
      "==================================\u001b[1m Ai Message \u001b[0m==================================\n",
      "\n",
      "다음은 몇몇 수도들 사이의 거리입니다:\n",
      "\n",
      "* 서울(한국)와 도쿄(일본): 약 965km\n",
      "* 베이징(중국)와 서울(한국): 약 790km\n",
      "* 워싱턴 D.C.(미국)와 베이징(중국): 약 11,020km\n",
      "* 하노이(베트남)와 베이징(중국): 약 2,140km\n",
      "* 하노이(베트남)와 서울(한국): 약 2,730km\n",
      "* 도쿄(일본)와 하노이(베트남): 약 3,470km\n",
      "\n",
      "참고로, 이러한 거리들은 대략적인 값이며, 실제 거리는 항공 또는 육로 거리에 따라 다를 수 있습니다.\n",
      "---------------------------------------------------------------------------\n"
     ]
    }
   ],
   "source": [
    "# Start conversation, again\n",
    "config = {\"configurable\": {\"thread_id\": \"1\"}}\n",
    "\n",
    "# Start conversation\n",
    "input_message = HumanMessage(content=\"수도들 사이의 거리는?\")\n",
    "for event in graph.stream({\"messages\": [input_message]}, config, stream_mode=\"values\"):\n",
    "    for m in event['messages']:\n",
    "        m.pretty_print()\n",
    "    print(\"---\"*25)"
   ]
  },
  {
   "cell_type": "code",
   "execution_count": null,
   "metadata": {},
   "outputs": [],
   "source": []
  }
 ],
 "metadata": {
  "kernelspec": {
   "display_name": ".venv",
   "language": "python",
   "name": "python3"
  },
  "language_info": {
   "codemirror_mode": {
    "name": "ipython",
    "version": 3
   },
   "file_extension": ".py",
   "mimetype": "text/x-python",
   "name": "python",
   "nbconvert_exporter": "python",
   "pygments_lexer": "ipython3",
   "version": "3.12.6"
  }
 },
 "nbformat": 4,
 "nbformat_minor": 2
}
