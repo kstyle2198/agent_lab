{
 "cells": [
  {
   "cell_type": "code",
   "execution_count": 2,
   "metadata": {},
   "outputs": [],
   "source": [
    "from langchain_groq import ChatGroq\n",
    "llm_relevancy = ChatGroq(model=\"llama-3.3-70b-versatile\", temperature=0,)\n",
    "llm = ChatGroq(model=\"llama-3.3-70b-versatile\", temperature=0.6,max_tokens=3000,)"
   ]
  },
  {
   "cell_type": "code",
   "execution_count": null,
   "metadata": {},
   "outputs": [],
   "source": [
    "REAG_SYSTEM_PROMPT = \"\"\"\n",
    "# Role and Objective\n",
    "You are an intelligent knowledge retrieval assistant. Your task is to analyze provided documents or URLs to extract the most relevant information for user queries.\n",
    "\n",
    "# Instructions\n",
    "1. Analyze the user's query carefully to identify key concepts and requirements.\n",
    "2. Search through the provided sources for relevant information and output the relevant parts in the 'content' field.\n",
    "3. If you cannot find the necessary information in the documents, return 'isIrrelevant: true', otherwise return 'isIrrelevant: false'.\n",
    "\n",
    "# Constraints\n",
    "- Do not make assumptions beyond available data\n",
    "- Clearly indicate if relevant information is not found\n",
    "- Maintain objectivity in source selection\n",
    "\"\"\"\n",
    "\n"
   ]
  },
  {
   "cell_type": "code",
   "execution_count": 4,
   "metadata": {},
   "outputs": [],
   "source": [
    "from pydantic import BaseModel,Field\n",
    "from typing import List\n",
    "from langchain_core.output_parsers import JsonOutputParser\n",
    "\n",
    "class ResponseSchema(BaseModel):\n",
    "    content: str = Field(...,description=\"The page content of the document that is relevant or sufficient to answer the question asked\")\n",
    "    reasoning: str = Field(...,description=\"The reasoning for selecting The page content with respect to the question asked\")\n",
    "    is_irrelevant: bool = Field(...,description=\"Specify 'True' if the content in the document is not sufficient or relevant to answer the question asked otherwise specify 'False' if the context or page content is relevant to answer the question asked\")\n",
    "\n",
    "\n",
    "class RelevancySchemaMessage(BaseModel):\n",
    "    source: ResponseSchema\n",
    "\n",
    "relevancy_parser = JsonOutputParser(pydantic_object=RelevancySchemaMessage)"
   ]
  },
  {
   "cell_type": "code",
   "execution_count": 6,
   "metadata": {},
   "outputs": [
    {
     "name": "stdout",
     "output_type": "stream",
     "text": [
      "7\n",
      "{'source': './data/FWG.pdf', 'file_path': './data/FWG.pdf', 'page': 0, 'total_pages': 7, 'format': 'PDF 1.5', 'title': '', 'author': '', 'subject': '', 'keywords': '', 'creator': '', 'producer': 'PDF-XChange (xcpro40.DLL v4.0.0316.0001) (Windows)', 'creationDate': '', 'modDate': '', 'trapped': ''}\n"
     ]
    }
   ],
   "source": [
    "from langchain_community.document_loaders import PyMuPDFLoader\n",
    "\n",
    "file_path = \"./data/FWG.pdf\"\n",
    "loader = PyMuPDFLoader(file_path)\n",
    "#\n",
    "docs = loader.load()\n",
    "print(len(docs))\n",
    "print(docs[0].metadata)"
   ]
  },
  {
   "cell_type": "code",
   "execution_count": 7,
   "metadata": {},
   "outputs": [],
   "source": [
    "from langchain.schema import Document\n",
    "def format_doc(doc: Document) -> str:\n",
    "    return f\"Document_Title: {doc.metadata['title']}\\nPage: {doc.metadata['page']}\\nContent: {doc.page_content}\""
   ]
  },
  {
   "cell_type": "code",
   "execution_count": 24,
   "metadata": {},
   "outputs": [],
   "source": [
    "### Helper function to extract relevant context\n",
    "from langchain_core.prompts import PromptTemplate\n",
    "def extract_relevant_context(question,documents):\n",
    "    result = []\n",
    "    for doc in documents:\n",
    "        formatted_documents = format_doc(doc)\n",
    "        system = f\"{REAG_SYSTEM_PROMPT}\\n\\n# Available source\\n\\n{formatted_documents}\"\n",
    "        prompt = f\"\"\"Determine if the 'Avaiable source' content supplied is sufficient and relevant to ANSWER the QUESTION asked.\n",
    "        QUESTION: {question}\n",
    "        #INSTRUCTIONS TO FOLLOW\n",
    "        1. Analyze the context provided thoroughly to check its relevancy to help formulizing a response for the QUESTION asked.\n",
    "        2, STRICTLY PROVIDE THE RESPONSE IN A JSON STRUCTURE AS DESCRIBED BELOW:\n",
    "            ```json\n",
    "               {{\"content\":<<The page content of the document that is relevant or sufficient to answer the question asked>>,\n",
    "                 \"reasoning\":<<The reasoning for selecting The page content with respect to the question asked>>,\n",
    "                 \"is_irrelevant\":<<Specify 'True' if the content in the document is not sufficient or relevant.Specify 'False' if the page content is sufficient to answer the QUESTION>>\n",
    "                 }}\n",
    "            ```\n",
    "         \"\"\"\n",
    "        messages =[ {\"role\": \"system\", \"content\": system},\n",
    "                       {\"role\": \"user\", \"content\": prompt},\n",
    "                    ]\n",
    "        response = llm_relevancy.invoke(messages)    \n",
    "        print(response.content)\n",
    "        formatted_response = relevancy_parser.parse(response.content)\n",
    "        result.append(formatted_response)\n",
    "    final_context = []\n",
    "    final_reasons = []\n",
    "    for items in result:\n",
    "        if (items['is_irrelevant'] == False) or ( items['is_irrelevant'] == 'false') or (items['is_irrelevant'] == 'False'):\n",
    "            final_context.append(items['content'])\n",
    "            final_reasons.append(items['reasoning'])\n",
    "    return final_context, final_reasons"
   ]
  },
  {
   "cell_type": "code",
   "execution_count": null,
   "metadata": {},
   "outputs": [
    {
     "name": "stdout",
     "output_type": "stream",
     "text": [
      "```json\n",
      "{\n",
      "  \"content\": \"F.W. GENERATOR\",\n",
      "  \"reasoning\": \"The provided document content does not thoroughly describe the main features of the FW generator. It only mentions 'F.W. GENERATOR' as part of the 'PURCHASE ORDER SPECIFICATION FOR' section, without providing any detailed information about its features.\",\n",
      "  \"is_irrelevant\": \"True\"\n",
      "}\n",
      "```\n",
      "```json\n",
      "{\n",
      "  \"content\": \"F.W. GENERATOR EVAPORATING TYPE\",\n",
      "  \"reasoning\": \"The provided content mentions 'F.W. GENERATOR EVAPORATING TYPE' which seems to be related to the main features of the FW generator. However, the information is limited and does not provide a detailed description of the main features. The content only provides a brief description of the generator type.\",\n",
      "  \"is_irrelevant\": \"True\"\n",
      "}\n",
      "```\n",
      "```json\n",
      "{\n",
      "  \"content\": \"1. Type: Low pressure evaporating type. (M/E jacket water heating) Shell & Tube type. 2. Particular: 1) Q'ty/ship: One(1) Set, 2) Capacity: 25 ton/day with 15% fouling margin, 3) Shell vacuum: Maker's standard, 4) Salinity of distillate water: Max. 10 PPM, 5) Design condition: HEATING MEDIUM: M/E jacket cooling F.W., COOLING MEDIUM: S.W. 3. Construction and Material: 1) Construction: Fresh water generator to consist of evaporating chamber, condensing chamber, distillate pump, salinity indicator, brine/air ejector, and other accessories.\",\n",
      "  \"reasoning\": \"The provided content is relevant to the question about the main features of the FW generator because it explicitly mentions the type, particular specifications, and construction and material details of the FW generator. The content includes key information such as the type of generator, its capacity, and the materials used, which are essential features of the FW generator.\",\n",
      "  \"is_irrelevant\": \"False\"\n",
      "}\n",
      "```\n",
      "```json\n",
      "{\n",
      "  \"content\": \"4. Accessory and fittings To be in accordance with the requirements of Classification Society/Regulatory Bodies and maker's standard including following. 1 set - S.W. ejector for brine/air extraction 1 set - Thermometer and bulb with name plate(S.W. in/outlet, J.W. in/outlet, Condenser) 1 set - Pressure/Compound gauge with root valve and name plate. 1     - Motor driven distillate pump. 1     - Vacuum gauge with root valve and name plate. 1     - Vacuum breaker. 1     - Safety valve. 1     - Sight glass. 1     - Distillate flowmeter with by-pass line 1     - Solenoid dump valve 1     - Water treatment unit for evaporating chamber, if necessary 1     - Salinometer with automatic control to re-circulate distillate on high salinity 1     - F.W. generator chemical dosing unit\",\n",
      "  \"reasoning\": \"The provided content includes a list of accessories and fittings for the F.W. generator, which are essential features of the system. The list includes items such as thermometers, pressure gauges, pumps, valves, and other components that are crucial for the operation of the F.W. generator. This information is relevant to understanding the main features of the F.W. generator.\",\n",
      "  \"is_irrelevant\": \"False\"\n",
      "}\n",
      "```\n",
      "```json\n",
      "{\n",
      "  \"content\": \"F.W. GENERATOR 3/5 ... 12) If the power plug is supplied with the following equipment, the power plug to be of AC V, DIN type (W/T type, Non W/T type) - F.W. generator chemical dosing unit 13) The rated evaporation capacity shall be designed based on sea water temp. 32°C at M/E NCR load.\",\n",
      "  \"reasoning\": \"The provided content mentions 'F.W. GENERATOR' and provides some technical specifications related to it, such as the power plug type and the rated evaporation capacity. Although the content does not provide an exhaustive list of main features, it does offer some relevant information that can be associated with the F.W. generator.\",\n",
      "  \"is_irrelevant\": \"False\"\n",
      "}\n",
      "```\n",
      "```json\n",
      "{\n",
      "  \"content\": \"The provided document does not explicitly mention the main features of the FW generator. However, it does provide some technical specifications and general remarks for the generator, such as the material of insulation, gasket, and/or gland packing being asbestos-free, and the use of electric analogue type temp. sensors for remote reading & supervision.\",\n",
      "  \"reasoning\": \"The document appears to be a technical specification sheet for a generator, but it does not provide a clear and concise list of the main features of the FW generator. The content is more focused on the technical requirements and guidelines for the generator's construction and operation.\",\n",
      "  \"is_irrelevant\": \"True\"\n",
      "}\n",
      "```\n",
      "```json\n",
      "{\n",
      "  \"content\": \"F.W. GENERATOR\",\n",
      "  \"reasoning\": \"The provided content does not explicitly describe the main features of the FW generator. The mention of 'F.W. GENERATOR' on the page suggests that the document might be related to the technical specifications of the generator, but it does not provide detailed information about its main features. The content primarily focuses on technical specifications, insulation requirements, and equipment installation guidelines, which are not directly related to the main features of the FW generator.\",\n",
      "  \"is_irrelevant\": \"True\"\n",
      "}\n",
      "```\n",
      "3\n"
     ]
    }
   ],
   "source": [
    "# 현재는 전체 페이지별로 순환 검토 방식... 1차적으로 의미 검색 결과 대상으로 순환 검토하는 방식으로 개선 필요\n",
    "\n",
    "# question = \"What is the type of fw generator?\"\n",
    "question = \"main features of fw generator\"\n",
    "final_context, final_reasons = extract_relevant_context(question, docs)\n",
    "print(len(final_context))"
   ]
  },
  {
   "cell_type": "code",
   "execution_count": 27,
   "metadata": {},
   "outputs": [
    {
     "data": {
      "text/plain": [
       "[\"1. Type: Low pressure evaporating type. (M/E jacket water heating) Shell & Tube type. 2. Particular: 1) Q'ty/ship: One(1) Set, 2) Capacity: 25 ton/day with 15% fouling margin, 3) Shell vacuum: Maker's standard, 4) Salinity of distillate water: Max. 10 PPM, 5) Design condition: HEATING MEDIUM: M/E jacket cooling F.W., COOLING MEDIUM: S.W. 3. Construction and Material: 1) Construction: Fresh water generator to consist of evaporating chamber, condensing chamber, distillate pump, salinity indicator, brine/air ejector, and other accessories.\",\n",
       " \"4. Accessory and fittings To be in accordance with the requirements of Classification Society/Regulatory Bodies and maker's standard including following. 1 set - S.W. ejector for brine/air extraction 1 set - Thermometer and bulb with name plate(S.W. in/outlet, J.W. in/outlet, Condenser) 1 set - Pressure/Compound gauge with root valve and name plate. 1     - Motor driven distillate pump. 1     - Vacuum gauge with root valve and name plate. 1     - Vacuum breaker. 1     - Safety valve. 1     - Sight glass. 1     - Distillate flowmeter with by-pass line 1     - Solenoid dump valve 1     - Water treatment unit for evaporating chamber, if necessary 1     - Salinometer with automatic control to re-circulate distillate on high salinity 1     - F.W. generator chemical dosing unit\",\n",
       " 'F.W. GENERATOR 3/5 ... 12) If the power plug is supplied with the following equipment, the power plug to be of AC V, DIN type (W/T type, Non W/T type) - F.W. generator chemical dosing unit 13) The rated evaporation capacity shall be designed based on sea water temp. 32°C at M/E NCR load.']"
      ]
     },
     "execution_count": 27,
     "metadata": {},
     "output_type": "execute_result"
    }
   ],
   "source": [
    "final_context"
   ]
  },
  {
   "cell_type": "code",
   "execution_count": 28,
   "metadata": {},
   "outputs": [
    {
     "data": {
      "text/plain": [
       "['The provided content is relevant to the question about the main features of the FW generator because it explicitly mentions the type, particular specifications, and construction and material details of the FW generator. The content includes key information such as the type of generator, its capacity, and the materials used, which are essential features of the FW generator.',\n",
       " 'The provided content includes a list of accessories and fittings for the F.W. generator, which are essential features of the system. The list includes items such as thermometers, pressure gauges, pumps, valves, and other components that are crucial for the operation of the F.W. generator. This information is relevant to understanding the main features of the F.W. generator.',\n",
       " \"The provided content mentions 'F.W. GENERATOR' and provides some technical specifications related to it, such as the power plug type and the rated evaporation capacity. Although the content does not provide an exhaustive list of main features, it does offer some relevant information that can be associated with the F.W. generator.\"]"
      ]
     },
     "execution_count": 28,
     "metadata": {},
     "output_type": "execute_result"
    }
   ],
   "source": [
    "final_reasons"
   ]
  },
  {
   "cell_type": "code",
   "execution_count": null,
   "metadata": {},
   "outputs": [],
   "source": [
    "rag_prompt = \"\"\"You are an assistant for question-answering tasks. Use the following pieces of retrieved context to answer the question. If you don't know the answer, just say that you don't know. Use three sentences maximum and keep the answer concise.\n",
    "Question: {question} \n",
    "Context: {context} \n",
    "Answer:\n",
    "\"\"\"\n",
    "\n",
    "def generate_response(question,final_context):\n",
    "    prompt = PromptTemplate(template=rag_prompt,\n",
    "                                     input_variables=[\"question\",\"context\"],)\n",
    "    chain  = prompt | llm\n",
    "    response = chain.invoke({\"question\":question,\"context\":final_context})\n",
    "    # print(response.content.split(\"\\n\\n\")[-1])\n",
    "    return response.content.split(\"\\n\\n\")[-1]"
   ]
  },
  {
   "cell_type": "code",
   "execution_count": 20,
   "metadata": {},
   "outputs": [
    {
     "data": {
      "text/plain": [
       "'The main features of the FW generator include a low-pressure evaporating type with a shell and tube design, a capacity of 25 tons/day, and a salinity of distillate water of max 10 PPM. The generator consists of an evaporating chamber, condensing chamber, and other accessories. It also includes various fittings such as a distillate pump, salinity indicator, and vacuum gauge.'"
      ]
     },
     "execution_count": 20,
     "metadata": {},
     "output_type": "execute_result"
    }
   ],
   "source": [
    "final_response = generate_response(question,final_context)\n",
    "final_response"
   ]
  },
  {
   "cell_type": "code",
   "execution_count": 21,
   "metadata": {},
   "outputs": [
    {
     "name": "stdout",
     "output_type": "stream",
     "text": [
      "('The main features of the FW generator include a low-pressure evaporating '\n",
      " 'type with a shell and tube design, a capacity of 25 tons/day, and a salinity '\n",
      " 'of distillate water of max 10 PPM. The generator consists of an evaporating '\n",
      " 'chamber, condensing chamber, and other accessories. It also includes various '\n",
      " 'fittings such as a distillate pump, salinity indicator, and vacuum gauge.')\n"
     ]
    }
   ],
   "source": [
    "from pprint import pprint\n",
    "pprint(final_response)"
   ]
  },
  {
   "cell_type": "code",
   "execution_count": null,
   "metadata": {},
   "outputs": [],
   "source": []
  }
 ],
 "metadata": {
  "kernelspec": {
   "display_name": ".venv",
   "language": "python",
   "name": "python3"
  },
  "language_info": {
   "codemirror_mode": {
    "name": "ipython",
    "version": 3
   },
   "file_extension": ".py",
   "mimetype": "text/x-python",
   "name": "python",
   "nbconvert_exporter": "python",
   "pygments_lexer": "ipython3",
   "version": "3.12.6"
  }
 },
 "nbformat": 4,
 "nbformat_minor": 2
}
