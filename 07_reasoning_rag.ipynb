{
 "cells": [
  {
   "cell_type": "code",
   "execution_count": 73,
   "metadata": {},
   "outputs": [],
   "source": [
    "from langchain_groq import ChatGroq\n",
    "llm_relevancy = ChatGroq(model=\"llama-3.3-70b-versatile\", temperature=0,)\n",
    "llm = ChatGroq(model=\"llama-3.3-70b-versatile\", temperature=0,max_tokens=3000,)"
   ]
  },
  {
   "cell_type": "code",
   "execution_count": 44,
   "metadata": {},
   "outputs": [],
   "source": [
    "from pydantic import BaseModel,Field\n",
    "from typing import List\n",
    "from langchain_core.output_parsers import JsonOutputParser\n",
    "\n",
    "class ResponseSchema(BaseModel):\n",
    "    content: str = Field(...,description=\"The page content of the document that is relevant or sufficient to answer the question asked\")\n",
    "    reasoning: str = Field(...,description=\"The reasoning for selecting The page content with respect to the question asked\")\n",
    "    is_irrelevant: bool = Field(...,description=\"Specify 'True' if the content in the document is not sufficient or relevant to answer the question asked otherwise specify 'False' if the context or page content is relevant to answer the question asked\")\n",
    "\n",
    "\n",
    "class RelevancySchemaMessage(BaseModel):\n",
    "    source: ResponseSchema\n",
    "\n",
    "relevancy_parser = JsonOutputParser(pydantic_object=RelevancySchemaMessage)"
   ]
  },
  {
   "cell_type": "code",
   "execution_count": 56,
   "metadata": {},
   "outputs": [
    {
     "name": "stdout",
     "output_type": "stream",
     "text": [
      "7\n",
      "{'source': './data/FWG.pdf', 'file_path': './data/FWG.pdf', 'page': 0, 'total_pages': 7, 'format': 'PDF 1.5', 'title': '', 'author': '', 'subject': '', 'keywords': '', 'creator': '', 'producer': 'PDF-XChange (xcpro40.DLL v4.0.0316.0001) (Windows)', 'creationDate': '', 'modDate': '', 'trapped': ''}\n"
     ]
    }
   ],
   "source": [
    "from langchain_community.document_loaders import PyMuPDFLoader\n",
    "\n",
    "file_path = \"./data/FWG.pdf\"\n",
    "loader = PyMuPDFLoader(file_path)\n",
    "#\n",
    "docs = loader.load()\n",
    "print(len(docs))\n",
    "print(docs[0].metadata)"
   ]
  },
  {
   "cell_type": "code",
   "execution_count": 57,
   "metadata": {},
   "outputs": [],
   "source": [
    "from langchain.schema import Document\n",
    "def format_doc(doc: Document) -> str:\n",
    "    return f\"Document_Title: {doc.metadata['title']}\\nPage: {doc.metadata['page']}\\nContent: {doc.page_content}\""
   ]
  },
  {
   "cell_type": "code",
   "execution_count": 58,
   "metadata": {},
   "outputs": [],
   "source": [
    "### Helper function to extract relevant context\n",
    "\n",
    "REAG_SYSTEM_PROMPT = \"\"\"\n",
    "# Role and Objective\n",
    "You are an intelligent knowledge retrieval assistant. Your task is to analyze provided documents or URLs to extract the most relevant information for user queries.\n",
    "\n",
    "# Instructions\n",
    "1. Analyze the user's query carefully to identify key concepts and requirements.\n",
    "2. Search through the provided sources for relevant information and output the relevant parts in the 'content' field.\n",
    "3. If you cannot find the necessary information in the documents, return 'isIrrelevant: true', otherwise return 'isIrrelevant: false'.\n",
    "\n",
    "# Constraints\n",
    "- Do not make assumptions beyond available data\n",
    "- Clearly indicate if relevant information is not found\n",
    "- Maintain objectivity in source selection\n",
    "\"\"\"\n",
    "\n",
    "from langchain_core.prompts import PromptTemplate\n",
    "def extract_relevant_context(question,documents):\n",
    "    result = []\n",
    "    for doc in documents:\n",
    "        formatted_documents = format_doc(doc)\n",
    "        system = f\"{REAG_SYSTEM_PROMPT}\\n\\n# Available source\\n\\n{formatted_documents}\"\n",
    "        prompt = f\"\"\"Determine if the 'Avaiable source' content supplied is sufficient and relevant to ANSWER the QUESTION asked.\n",
    "        QUESTION: {question}\n",
    "        #INSTRUCTIONS TO FOLLOW\n",
    "        1. Analyze the context provided thoroughly to check its relevancy to help formulizing a response for the QUESTION asked.\n",
    "        2, STRICTLY PROVIDE THE RESPONSE IN A JSON STRUCTURE AS DESCRIBED BELOW:\n",
    "            ```json\n",
    "               {{\"content\":<<The page content of the document that is relevant or sufficient to answer the question asked>>,\n",
    "                 \"reasoning\":<<The reasoning for selecting The page content with respect to the question asked>>,\n",
    "                 \"is_irrelevant\":<<Specify 'True' if the content in the document is not sufficient or relevant.Specify 'False' if the page content is sufficient to answer the QUESTION>>\n",
    "                 }}\n",
    "            ```\n",
    "         \"\"\"\n",
    "        messages =[ {\"role\": \"system\", \"content\": system},\n",
    "                       {\"role\": \"user\", \"content\": prompt},\n",
    "                    ]\n",
    "        response = llm_relevancy.invoke(messages)    \n",
    "        print(response.content)\n",
    "        formatted_response = relevancy_parser.parse(response.content)\n",
    "        result.append(formatted_response)\n",
    "    final_context = []\n",
    "    final_reasons = []\n",
    "    for items in result:\n",
    "        if (items['is_irrelevant'] == False) or ( items['is_irrelevant'] == 'false') or (items['is_irrelevant'] == 'False'):\n",
    "            final_context.append(items['content'])\n",
    "            final_reasons.append(items['reasoning'])\n",
    "    return final_context, final_reasons"
   ]
  },
  {
   "cell_type": "code",
   "execution_count": 59,
   "metadata": {},
   "outputs": [
    {
     "name": "stdout",
     "output_type": "stream",
     "text": [
      "```json\n",
      "{\n",
      "  \"content\": \"PURCHASE ORDER SPECIFICATION FOR F.W. GENERATOR\",\n",
      "  \"reasoning\": \"The provided content mentions 'F.W. GENERATOR' in the context of a purchase order specification, but it does not explicitly state the type of F.W. generator. However, it implies that the document is related to the procurement of a specific F.W. generator for a crude oil carrier. The lack of detailed specifications or descriptions of the F.W. generator in the given content limits its relevance to fully answering the question.\",\n",
      "  \"is_irrelevant\": \"True\"\n",
      "}\n",
      "```\n",
      "```json\n",
      "{\n",
      "  \"content\": \"F.W. GENERATOR EVAPORATING TYPE\",\n",
      "  \"reasoning\": \"The question asks for the type of FW generator. The provided document contains a description of 'F.W. GENERATOR EVAPORATING TYPE' under the 'DESCRIPTION' column, which directly answers the question.\",\n",
      "  \"is_irrelevant\": \"False\"\n",
      "}\n",
      "```\n",
      "```json\n",
      "{\n",
      "  \"content\": \"1. Type Low pressure evaporating type. (M/E jacket water heating) Shell & Tube type\",\n",
      "  \"reasoning\": \"The question asks for the type of FW generator. The provided document contains a section titled '1. Type' which describes the FW generator as a 'Low pressure evaporating type' that is also a 'Shell & Tube type'. This information directly answers the question asked.\",\n",
      "  \"is_irrelevant\": \"False\"\n",
      "}\n",
      "```\n",
      "```json\n",
      "{\n",
      "  \"content\": \"F.W. GENERATOR\",\n",
      "  \"reasoning\": \"The content provided mentions 'F.W. GENERATOR' in the technical specification, but it does not specify the type of F.W. generator. However, it does provide details about the accessories and fittings required for the F.W. generator, such as the motor driven distillate pump, vacuum gauge, and safety valve.\",\n",
      "  \"is_irrelevant\": \"True\"\n",
      "}\n",
      "```\n",
      "```json\n",
      "{\n",
      "  \"content\": \"F.W. GENERATOR\",\n",
      "  \"reasoning\": \"The content provided mentions 'F.W. GENERATOR' which seems to be related to the question asked. However, it does not specify the type of F.W. generator. The mention of 'F.W. generator chemical dosing unit' in point 12 and 'F.W. generator' in the title suggests that the document is discussing the specifications of an F.W. generator, but it does not provide a clear answer to the question about the type of F.W. generator.\",\n",
      "  \"is_irrelevant\": \"True\"\n",
      "}\n",
      "```\n",
      "```json\n",
      "{\n",
      "  \"content\": \"F.W. GENERATOR\",\n",
      "  \"reasoning\": \"The content provided mentions 'F.W. GENERATOR' which seems to be related to the question about the type of FW generator. However, the provided text does not give a detailed description or specification of the generator type. It only mentions 'F.W. GENERATOR' as a heading or title, without further explanation.\",\n",
      "  \"is_irrelevant\": \"True\"\n",
      "}\n",
      "```\n",
      "```json\n",
      "{\n",
      "  \"content\": \"F.W. GENERATOR\",\n",
      "  \"reasoning\": \"The content provided mentions 'F.W. GENERATOR' which seems to be related to the question about the type of FW generator. However, it does not provide any detailed information about the type of FW generator. The mention of 'F.W. GENERATOR' is in the context of a technical specification, but it lacks specific details that would fully answer the question.\",\n",
      "  \"is_irrelevant\": \"True\"\n",
      "}\n",
      "```\n",
      "2\n"
     ]
    }
   ],
   "source": [
    "### 현재는 전체 페이지별로 순환 검토 방식... 1차적으로 의미 검색 결과 대상으로 순환 검토하는 방식으로 개선 필요\n",
    "\n",
    "question = \"What is the type of fw generator?\"\n",
    "# question = \"주요 기업의 챗지피티 사용 정책\"\n",
    "final_context, final_reasons = extract_relevant_context(question, docs)\n",
    "print(len(final_context))"
   ]
  },
  {
   "cell_type": "code",
   "execution_count": 60,
   "metadata": {},
   "outputs": [
    {
     "data": {
      "text/plain": [
       "['F.W. GENERATOR EVAPORATING TYPE',\n",
       " '1. Type Low pressure evaporating type. (M/E jacket water heating) Shell & Tube type']"
      ]
     },
     "execution_count": 60,
     "metadata": {},
     "output_type": "execute_result"
    }
   ],
   "source": [
    "final_context"
   ]
  },
  {
   "cell_type": "code",
   "execution_count": 61,
   "metadata": {},
   "outputs": [
    {
     "data": {
      "text/plain": [
       "[\"The question asks for the type of FW generator. The provided document contains a description of 'F.W. GENERATOR EVAPORATING TYPE' under the 'DESCRIPTION' column, which directly answers the question.\",\n",
       " \"The question asks for the type of FW generator. The provided document contains a section titled '1. Type' which describes the FW generator as a 'Low pressure evaporating type' that is also a 'Shell & Tube type'. This information directly answers the question asked.\"]"
      ]
     },
     "execution_count": 61,
     "metadata": {},
     "output_type": "execute_result"
    }
   ],
   "source": [
    "final_reasons"
   ]
  },
  {
   "cell_type": "code",
   "execution_count": null,
   "metadata": {},
   "outputs": [],
   "source": [
    "rag_prompt = \"\"\"You are an assistant for question-answering tasks. \n",
    "Use the following pieces of retrieved context to answer the question. \n",
    "If you don't know the answer, just say that you don't know. \n",
    "Use three sentences maximum and keep the answer concise.\n",
    "You Must Generate the answer in Korean or Han-gul.\n",
    "Question: {question} \n",
    "Context: {context} \n",
    "Answer:\n",
    "\"\"\"\n",
    "\n",
    "def generate_response(question,final_context):\n",
    "    prompt = PromptTemplate(template=rag_prompt,\n",
    "                                     input_variables=[\"question\",\"context\"],)\n",
    "    chain  = prompt | llm\n",
    "    response = chain.invoke({\"question\":question,\"context\":final_context})\n",
    "    return response.content.split(\"\\n\\n\")[-1]"
   ]
  },
  {
   "cell_type": "code",
   "execution_count": 77,
   "metadata": {},
   "outputs": [
    {
     "data": {
      "text/plain": [
       "'저압 증발형(F.W. GENERATOR EVAPORATING TYPE)입니다. 이 유형은 저압 증발형이며, 주 엔진 자켓 물을 가열하는 방식입니다. 셸과 튜브 형태를 가지고 있습니다.'"
      ]
     },
     "execution_count": 77,
     "metadata": {},
     "output_type": "execute_result"
    }
   ],
   "source": [
    "final_response = generate_response(question,final_context)\n",
    "final_response"
   ]
  },
  {
   "cell_type": "code",
   "execution_count": 78,
   "metadata": {},
   "outputs": [
    {
     "name": "stdout",
     "output_type": "stream",
     "text": [
      "('저압 증발형(F.W. GENERATOR EVAPORATING TYPE)입니다. 이 유형은 저압 증발형이며, 주 엔진 자켓 물을 가열하는 '\n",
      " '방식입니다. 셸과 튜브 형태를 가지고 있습니다.')\n"
     ]
    }
   ],
   "source": [
    "from pprint import pprint\n",
    "pprint(final_response)"
   ]
  },
  {
   "cell_type": "code",
   "execution_count": null,
   "metadata": {},
   "outputs": [],
   "source": []
  }
 ],
 "metadata": {
  "kernelspec": {
   "display_name": ".venv",
   "language": "python",
   "name": "python3"
  },
  "language_info": {
   "codemirror_mode": {
    "name": "ipython",
    "version": 3
   },
   "file_extension": ".py",
   "mimetype": "text/x-python",
   "name": "python",
   "nbconvert_exporter": "python",
   "pygments_lexer": "ipython3",
   "version": "3.12.6"
  }
 },
 "nbformat": 4,
 "nbformat_minor": 2
}
