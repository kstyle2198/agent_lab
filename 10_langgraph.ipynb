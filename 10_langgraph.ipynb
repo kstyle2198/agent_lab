{
 "cells": [
  {
   "cell_type": "markdown",
   "metadata": {},
   "source": [
    "# State Schema (pydantic 중심)\n",
    "- State Schema는 랭그래프가 사용할 데이터의 구조와 타입을 정의한다.\n",
    "- 모든 Node는 이 Schema 구조에 따라 소통한다. \n",
    "- Schema를 정의하는 라이브러리에는 TypeDict, Dataclass 방식도 있으나, 이 방식들은 구조에 맞지 않는 값이 들어오는 경우도 에러를 발생시키지 않는다.\n",
    "- pydandic은 구조에 맞지 않은 값이 들어오면 에러를 발생시킬 수 있어, 가장 안정적으로 Schema를 구성할 수 있다."
   ]
  },
  {
   "cell_type": "code",
   "execution_count": 1,
   "metadata": {},
   "outputs": [],
   "source": [
    "from pydantic import BaseModel, field_validator, ValidationError\n",
    "from typing import Literal\n",
    "\n",
    "class PydanticState(BaseModel):\n",
    "    name: str\n",
    "    mood: str\n",
    "\n",
    "    @field_validator('mood')\n",
    "    @classmethod\n",
    "    def validate_mood(cls, value):\n",
    "        # Ensure the mood is either \"happy\" or \"sad\"\n",
    "        if value not in [\"happy\", \"sad\"]:\n",
    "            raise ValueError(\"Each mood must be either 'happy' or 'sad'\")\n",
    "        return value"
   ]
  },
  {
   "cell_type": "code",
   "execution_count": 2,
   "metadata": {},
   "outputs": [
    {
     "name": "stdout",
     "output_type": "stream",
     "text": [
      "Validation Error: 1 validation error for PydanticState\n",
      "mood\n",
      "  Value error, Each mood must be either 'happy' or 'sad' [type=value_error, input_value='mad', input_type=str]\n",
      "    For further information visit https://errors.pydantic.dev/2.9/v/value_error\n"
     ]
    }
   ],
   "source": [
    "try:\n",
    "    state = PydanticState(name=\"John Doe\", mood=\"mad\")    # 에러 발생시킴\n",
    "    # state = PydanticState(name=\"John Doe\", mood=\"sad\")\n",
    "except ValidationError as e:\n",
    "    print(\"Validation Error:\", e)\n"
   ]
  },
  {
   "cell_type": "markdown",
   "metadata": {},
   "source": [
    "# Langraph 구성하기"
   ]
  },
  {
   "cell_type": "code",
   "execution_count": 3,
   "metadata": {},
   "outputs": [
    {
     "data": {
      "image/png": "[encoded data removed]",
      "text/plain": [
       "<IPython.core.display.Image object>"
      ]
     },
     "metadata": {},
     "output_type": "display_data"
    }
   ],
   "source": [
    "import random\n",
    "from IPython.display import Image, display\n",
    "from langgraph.graph import StateGraph, START, END\n",
    "\n",
    "def node_1(state):\n",
    "    print(\"---Node 1---\")\n",
    "    return {\"name\": state.name + \" is ... \"}\n",
    "\n",
    "def node_2(state):\n",
    "    print(\"---Node 2---\")\n",
    "    return {\"mood\": \"happy\"}\n",
    "\n",
    "def node_3(state):\n",
    "    print(\"---Node 3---\")\n",
    "    return {\"mood\": \"sad\"}\n",
    "\n",
    "def decide_mood(state) -> Literal[\"node_2\", \"node_3\"]:\n",
    "    # Here, let's just do a 50 / 50 split between nodes 2, 3\n",
    "    if random.random() < 0.5:\n",
    "        # 50% of the time, we return Node 2\n",
    "        return \"node_2\"\n",
    "    # 50% of the time, we return Node 3\n",
    "    return \"node_3\"\n",
    "\n",
    "# Build graph\n",
    "builder = StateGraph(PydanticState)\n",
    "builder.add_node(\"node_1\", node_1)\n",
    "builder.add_node(\"node_2\", node_2)\n",
    "builder.add_node(\"node_3\", node_3)\n",
    "\n",
    "# Logic\n",
    "builder.add_edge(START, \"node_1\")\n",
    "builder.add_conditional_edges(\"node_1\", decide_mood)\n",
    "builder.add_edge(\"node_2\", END)\n",
    "builder.add_edge(\"node_3\", END)\n",
    "\n",
    "# Add\n",
    "graph = builder.compile()\n",
    "\n",
    "# View\n",
    "display(Image(graph.get_graph().draw_mermaid_png()))"
   ]
  },
  {
   "cell_type": "code",
   "execution_count": 4,
   "metadata": {},
   "outputs": [
    {
     "data": {
      "text/plain": [
       "'Lance'"
      ]
     },
     "execution_count": 4,
     "metadata": {},
     "output_type": "execute_result"
    }
   ],
   "source": [
    "state = PydanticState(name=\"Lance\", mood=\"sad\")\n",
    "state.name"
   ]
  },
  {
   "cell_type": "code",
   "execution_count": 5,
   "metadata": {},
   "outputs": [
    {
     "name": "stdout",
     "output_type": "stream",
     "text": [
      "---Node 1---\n",
      "---Node 2---\n"
     ]
    },
    {
     "data": {
      "text/plain": [
       "{'name': 'Lance is ... ', 'mood': 'happy'}"
      ]
     },
     "execution_count": 5,
     "metadata": {},
     "output_type": "execute_result"
    }
   ],
   "source": [
    "graph.invoke(PydanticState(name=\"Lance\", mood=\"sad\"))"
   ]
  },
  {
   "cell_type": "markdown",
   "metadata": {},
   "source": [
    "# State Reducer\n",
    "- 단어가 어려우나, 노드가 분개되어 프로세스가 병렬로 진행되는 상황에서 State Schema 업데이트가 양쪽에서 동시에 발생하는 경우 복수의 업데이트 값을 어떻게 처리할 것인가?\n",
    "- 복수의 결과 값들을 리스트에 append 하는 방식으로 해결한다. ---> Annotated type을 사용할 수 있다.\n",
    "\n",
    "```\n",
    "Reducers are key to understanding how updates from nodes are applied to the State. Each key in the State has its own independent reducer function. If no reducer function is explicitly specified then it is assumed that all updates to that key should override it. There are a few different types of reducers, starting with the default type of reducer:\n",
    "```"
   ]
  },
  {
   "cell_type": "markdown",
   "metadata": {},
   "source": [
    "### 단순 직렬 연결 예시"
   ]
  },
  {
   "cell_type": "code",
   "execution_count": 6,
   "metadata": {},
   "outputs": [
    {
     "data": {
      "image/png": "[encoded data removed]",
      "text/plain": [
       "<IPython.core.display.Image object>"
      ]
     },
     "metadata": {},
     "output_type": "display_data"
    }
   ],
   "source": [
    "from operator import add\n",
    "from typing import Annotated\n",
    "\n",
    "class State(BaseModel):\n",
    "    foo: Annotated[list[int], add]    # Annoated 사용을 통해 list[int] 변수에 add 함수를 적용하는 관계를 정의\n",
    "\n",
    "def node_1(state):\n",
    "    print(\"---Node 1---\")\n",
    "    return {\"foo\": [state.foo[0] + 1]}\n",
    "\n",
    "# Build graph\n",
    "builder = StateGraph(State)\n",
    "builder.add_node(\"node_1\", node_1)\n",
    "\n",
    "# Logic\n",
    "builder.add_edge(START, \"node_1\")\n",
    "builder.add_edge(\"node_1\", END)\n",
    "\n",
    "# Add\n",
    "graph = builder.compile()\n",
    "\n",
    "# View\n",
    "display(Image(graph.get_graph().draw_mermaid_png()))"
   ]
  },
  {
   "cell_type": "code",
   "execution_count": 7,
   "metadata": {},
   "outputs": [
    {
     "name": "stdout",
     "output_type": "stream",
     "text": [
      "---Node 1---\n"
     ]
    },
    {
     "data": {
      "text/plain": [
       "{'foo': [1, 2]}"
      ]
     },
     "execution_count": 7,
     "metadata": {},
     "output_type": "execute_result"
    }
   ],
   "source": [
    "graph.invoke({\"foo\" : [1]})"
   ]
  },
  {
   "cell_type": "markdown",
   "metadata": {},
   "source": [
    "### 병렬 연결 예시"
   ]
  },
  {
   "cell_type": "code",
   "execution_count": 8,
   "metadata": {},
   "outputs": [
    {
     "data": {
      "image/png": "[encoded data removed]",
      "text/plain": [
       "<IPython.core.display.Image object>"
      ]
     },
     "metadata": {},
     "output_type": "display_data"
    }
   ],
   "source": [
    "def node_1(state):\n",
    "    print(\"---Node 1---\")\n",
    "    return {\"foo\": [state.foo[-1] + 1]}\n",
    "\n",
    "def node_2(state):\n",
    "    print(\"---Node 2---\")\n",
    "    return {\"foo\": [state.foo[-1] + 1]}\n",
    "\n",
    "def node_3(state):\n",
    "    print(\"---Node 3---\")\n",
    "    return {\"foo\": [state.foo[-1] + 1]}\n",
    "\n",
    "# Build graph\n",
    "builder = StateGraph(State)\n",
    "builder.add_node(\"node_1\", node_1)\n",
    "builder.add_node(\"node_2\", node_2)\n",
    "builder.add_node(\"node_3\", node_3)\n",
    "\n",
    "# Logic\n",
    "builder.add_edge(START, \"node_1\")\n",
    "builder.add_edge(\"node_1\", \"node_2\")\n",
    "builder.add_edge(\"node_1\", \"node_3\")\n",
    "builder.add_edge(\"node_2\", END)\n",
    "builder.add_edge(\"node_3\", END)\n",
    "\n",
    "# Add\n",
    "graph = builder.compile()\n",
    "\n",
    "# View\n",
    "display(Image(graph.get_graph().draw_mermaid_png()))"
   ]
  },
  {
   "cell_type": "code",
   "execution_count": 9,
   "metadata": {},
   "outputs": [
    {
     "name": "stdout",
     "output_type": "stream",
     "text": [
      "---Node 1---\n",
      "---Node 2---\n",
      "---Node 3---\n"
     ]
    },
    {
     "data": {
      "text/plain": [
       "{'foo': [1, 2, 3, 3]}"
      ]
     },
     "execution_count": 9,
     "metadata": {},
     "output_type": "execute_result"
    }
   ],
   "source": [
    "graph.invoke({\"foo\" : [1]})"
   ]
  },
  {
   "cell_type": "markdown",
   "metadata": {},
   "source": [
    "### built-in reducer : add_message or MessageState"
   ]
  },
  {
   "cell_type": "code",
   "execution_count": 10,
   "metadata": {},
   "outputs": [],
   "source": [
    "from typing import Annotated\n",
    "from langgraph.graph import MessagesState\n",
    "from langchain_core.messages import AnyMessage\n",
    "from langgraph.graph.message import add_messages\n",
    "\n",
    "# Define a custom TypedDict that includes a list of messages with add_messages reducer\n",
    "class CustomMessagesState(BaseModel):\n",
    "    messages: Annotated[list[AnyMessage], add_messages]\n",
    "    added_key_1: str\n",
    "    added_key_2: str\n",
    "    # etc\n",
    "\n",
    "# Use MessagesState, which includes the messages key with add_messages reducer\n",
    "class ExtendedMessagesState(MessagesState):\n",
    "    # Add any keys needed beyond messages, which is pre-built \n",
    "    added_key_1: str\n",
    "    added_key_2: str\n",
    "    # etc"
   ]
  },
  {
   "cell_type": "code",
   "execution_count": 11,
   "metadata": {},
   "outputs": [
    {
     "name": "stdout",
     "output_type": "stream",
     "text": [
      "3\n"
     ]
    },
    {
     "data": {
      "text/plain": [
       "[AIMessage(content='Hello! How can I assist you?', additional_kwargs={}, response_metadata={}, name='Model', id='a4c41723-1395-464a-8429-752ae979cea0'),\n",
       " HumanMessage(content=\"I'm looking for information on marine biology.\", additional_kwargs={}, response_metadata={}, name='Lance', id='f694ef75-e029-4d74-a3e7-34114d7de9c6'),\n",
       " AIMessage(content='Sure, I can help with that. What specifically are you interested in?', additional_kwargs={}, response_metadata={}, name='Model', id='d3a0c3af-a35c-4d84-bfd0-56e6a9ba9437')]"
      ]
     },
     "execution_count": 11,
     "metadata": {},
     "output_type": "execute_result"
    }
   ],
   "source": [
    "from langgraph.graph.message import add_messages\n",
    "from langchain_core.messages import AIMessage, HumanMessage\n",
    "\n",
    "# Initial state\n",
    "initial_messages = [AIMessage(content=\"Hello! How can I assist you?\", name=\"Model\"),\n",
    "                    HumanMessage(content=\"I'm looking for information on marine biology.\", name=\"Lance\")\n",
    "                   ]\n",
    "\n",
    "# New message to add\n",
    "new_message = AIMessage(content=\"Sure, I can help with that. What specifically are you interested in?\", name=\"Model\")\n",
    "\n",
    "# Test\n",
    "result = add_messages(initial_messages , new_message)\n",
    "print(len(result))\n",
    "result"
   ]
  },
  {
   "cell_type": "code",
   "execution_count": 12,
   "metadata": {},
   "outputs": [
    {
     "data": {
      "text/plain": [
       "[AIMessage(content='Hello! How can I assist you?', additional_kwargs={}, response_metadata={}, name='Model', id='1'),\n",
       " HumanMessage(content=\"I'm looking for information on whales, specifically\", additional_kwargs={}, response_metadata={}, name='Lance', id='2')]"
      ]
     },
     "execution_count": 12,
     "metadata": {},
     "output_type": "execute_result"
    }
   ],
   "source": [
    "## id 값을 추가하고, 같은 id 값이면 overwrite 한다.\n",
    "\n",
    "# Initial state\n",
    "initial_messages = [AIMessage(content=\"Hello! How can I assist you?\", name=\"Model\", id=\"1\"),\n",
    "                    HumanMessage(content=\"I'm looking for information on marine biology.\", name=\"Lance\", id=\"2\")\n",
    "                   ]\n",
    "\n",
    "# New message to add\n",
    "new_message = HumanMessage(content=\"I'm looking for information on whales, specifically\", name=\"Lance\", id=\"2\")\n",
    "\n",
    "# Test\n",
    "add_messages(initial_messages , new_message)"
   ]
  },
  {
   "cell_type": "code",
   "execution_count": 13,
   "metadata": {},
   "outputs": [
    {
     "name": "stdout",
     "output_type": "stream",
     "text": [
      "4\n",
      "2\n",
      "[RemoveMessage(content='', additional_kwargs={}, response_metadata={}, id='1'), RemoveMessage(content='', additional_kwargs={}, response_metadata={}, id='2')]\n"
     ]
    }
   ],
   "source": [
    "## 메모리 효율화를 위해 끝에 두개만 남기고 지우기\n",
    "from langchain_core.messages import RemoveMessage\n",
    "\n",
    "# Message list\n",
    "messages = [AIMessage(\"Hi.\", name=\"Bot\", id=\"1\")]\n",
    "messages.append(HumanMessage(\"Hi.\", name=\"Lance\", id=\"2\"))\n",
    "messages.append(AIMessage(\"So you said you were researching ocean mammals?\", name=\"Bot\", id=\"3\"))\n",
    "messages.append(HumanMessage(\"Yes, I know about whales. But what others should I learn about?\", name=\"Lance\", id=\"4\"))\n",
    "\n",
    "# Isolate messages to delete\n",
    "print(len(messages))\n",
    "delete_messages = [RemoveMessage(id=m.id) for m in messages[:-2]]\n",
    "print(len(delete_messages))\n",
    "print(delete_messages)"
   ]
  },
  {
   "cell_type": "markdown",
   "metadata": {},
   "source": [
    "# Simple Langgraph Chatbot (memory with last 4 pair sentences)"
   ]
  },
  {
   "cell_type": "code",
   "execution_count": 14,
   "metadata": {},
   "outputs": [
    {
     "data": {
      "image/png": "[encoded data removed]",
      "text/plain": [
       "<IPython.core.display.Image object>"
      ]
     },
     "metadata": {},
     "output_type": "display_data"
    }
   ],
   "source": [
    "from IPython.display import Image, display\n",
    "from langgraph.graph import MessagesState\n",
    "from langgraph.graph import StateGraph, START, END\n",
    "from langgraph.checkpoint.memory import MemorySaver\n",
    "from langchain_core.messages import RemoveMessage\n",
    "\n",
    "# Nodes\n",
    "def filter_messages(state: MessagesState):\n",
    "    # Delete all but the 2 most recent messages\n",
    "    print(f\">>> 필터 전 리스트 길이 : {len(state[\"messages\"])}\")\n",
    "    delete_messages = [RemoveMessage(id=m.id) for m in state[\"messages\"][:-4]]\n",
    "    print(f\">>> 필터 후 리스트 길이 : {len(state[\"messages\"]) - len(delete_messages)}\")\n",
    "    return {\"messages\": delete_messages}\n",
    "\n",
    "from langchain_groq import ChatGroq\n",
    "llm = ChatGroq(temperature=0, model_name= \"llama-3.1-8b-instant\")\n",
    "\n",
    "# Node\n",
    "def chat_model_node(state: MessagesState):\n",
    "    return {\"messages\": llm.invoke(state[\"messages\"])}\n",
    "\n",
    "# Build graph\n",
    "builder = StateGraph(MessagesState)\n",
    "builder.add_node(\"filter\", filter_messages)\n",
    "builder.add_node(\"chat_model\", chat_model_node)\n",
    "builder.add_edge(START, \"filter\")\n",
    "builder.add_edge(\"filter\", \"chat_model\")\n",
    "builder.add_edge(\"chat_model\", END)\n",
    "\n",
    "graph = builder.compile()\n",
    "\n",
    "# View\n",
    "display(Image(graph.get_graph().draw_mermaid_png()))"
   ]
  },
  {
   "cell_type": "code",
   "execution_count": 15,
   "metadata": {},
   "outputs": [
    {
     "name": "stdout",
     "output_type": "stream",
     "text": [
      ">>> 필터 전 리스트 길이 : 2\n",
      ">>> 필터 후 리스트 길이 : 2\n",
      ">>> 필터 전 리스트 길이 : 4\n",
      ">>> 필터 후 리스트 길이 : 4\n",
      ">>> 필터 전 리스트 길이 : 6\n",
      ">>> 필터 후 리스트 길이 : 4\n",
      ">>> 필터 전 리스트 길이 : 8\n",
      ">>> 필터 후 리스트 길이 : 4\n",
      ">>> 필터 전 리스트 길이 : 10\n",
      ">>> 필터 후 리스트 길이 : 4\n",
      "==================================\u001b[1m Ai Message \u001b[0m==================================\n",
      "\n",
      "The capital of China is Beijing.\n",
      "================================\u001b[1m Human Message \u001b[0m=================================\n",
      "Name: Kim\n",
      "\n",
      "what is the distance between two capitals ?\n",
      "==================================\u001b[1m Ai Message \u001b[0m==================================\n",
      "\n",
      "To calculate the distance between the two capitals, I'll need to know the specific capitals you're referring to. However, I can give you the approximate distance between Tokyo, Japan, and Beijing, China.\n",
      "\n",
      "The distance between Tokyo, Japan, and Beijing, China is approximately 1,864 kilometers (1,157 miles).\n",
      "================================\u001b[1m Human Message \u001b[0m=================================\n",
      "Name: Kim\n",
      "\n",
      "let me know the all capitals that is previously discussed ?\n",
      "==================================\u001b[1m Ai Message \u001b[0m==================================\n",
      "\n",
      "The capitals previously discussed are:\n",
      "\n",
      "1. Beijing (China)\n",
      "2. Tokyo (Japan)\n"
     ]
    }
   ],
   "source": [
    "from langchain_core.messages import AIMessage, HumanMessage\n",
    "\n",
    "messages = []\n",
    "messages = [AIMessage(\"Hi.\", name=\"Bot\", id=str(len(messages)))]\n",
    "\n",
    "question = \"what is the capital of south korea?\"\n",
    "messages.append(HumanMessage(question, name=\"Kim\", id=str(len(messages))))\n",
    "output = graph.invoke({'messages': messages})\n",
    "\n",
    "messages.append(output['messages'][-1])\n",
    "messages\n",
    "\n",
    "question = \"what is the capital of japan?\"\n",
    "messages.append(HumanMessage(question, name=\"Kim\", id=str(len(messages))))\n",
    "output = graph.invoke({'messages': messages})\n",
    "messages.append(output['messages'][-1])\n",
    "\n",
    "\n",
    "question = \"what is the capital of china?\"\n",
    "messages.append(HumanMessage(question, name=\"Kim\", id=str(len(messages))))\n",
    "output = graph.invoke({'messages': messages})\n",
    "messages.append(output['messages'][-1])\n",
    "\n",
    "question = \"what is the distance between two capitals ?\"\n",
    "messages.append(HumanMessage(question, name=\"Kim\", id=str(len(messages))))\n",
    "output = graph.invoke({'messages': messages})\n",
    "messages.append(output['messages'][-1])\n",
    "\n",
    "question = \"let me know the all capitals that is previously discussed ?\"\n",
    "messages.append(HumanMessage(question, name=\"Kim\", id=str(len(messages))))\n",
    "output = graph.invoke({'messages': messages})\n",
    "messages.append(output['messages'][-1])\n",
    "\n",
    "for m in output['messages']:\n",
    "    m.pretty_print()"
   ]
  },
  {
   "cell_type": "code",
   "execution_count": 16,
   "metadata": {},
   "outputs": [
    {
     "data": {
      "text/plain": [
       "5"
      ]
     },
     "execution_count": 16,
     "metadata": {},
     "output_type": "execute_result"
    }
   ],
   "source": [
    "len(output[\"messages\"])"
   ]
  },
  {
   "cell_type": "code",
   "execution_count": 17,
   "metadata": {},
   "outputs": [
    {
     "data": {
      "text/plain": [
       "[AIMessage(content='The capital of China is Beijing.', additional_kwargs={}, response_metadata={'token_usage': {'completion_tokens': 8, 'prompt_tokens': 79, 'total_tokens': 87, 'completion_time': 0.010666667, 'prompt_time': 0.010754523, 'queue_time': 0.003900697, 'total_time': 0.02142119}, 'model_name': 'llama-3.1-8b-instant', 'system_fingerprint': 'fp_9cb648b966', 'finish_reason': 'stop', 'logprobs': None}, id='run-7607128e-d2bc-4cbe-9e97-ada401504d44-0', usage_metadata={'input_tokens': 79, 'output_tokens': 8, 'total_tokens': 87}),\n",
       " HumanMessage(content='what is the distance between two capitals ?', additional_kwargs={}, response_metadata={}, name='Kim', id='7'),\n",
       " AIMessage(content=\"To calculate the distance between the two capitals, I'll need to know the specific capitals you're referring to. However, I can give you the approximate distance between Tokyo, Japan, and Beijing, China.\\n\\nThe distance between Tokyo, Japan, and Beijing, China is approximately 1,864 kilometers (1,157 miles).\", additional_kwargs={}, response_metadata={'token_usage': {'completion_tokens': 66, 'prompt_tokens': 79, 'total_tokens': 145, 'completion_time': 0.088, 'prompt_time': 0.005854263, 'queue_time': 0.008530507, 'total_time': 0.093854263}, 'model_name': 'llama-3.1-8b-instant', 'system_fingerprint': 'fp_f66ccb39ec', 'finish_reason': 'stop', 'logprobs': None}, id='run-f696ba59-5d73-4516-bad4-19f415495016-0', usage_metadata={'input_tokens': 79, 'output_tokens': 66, 'total_tokens': 145}),\n",
       " HumanMessage(content='let me know the all capitals that is previously discussed ?', additional_kwargs={}, response_metadata={}, name='Kim', id='9'),\n",
       " AIMessage(content='The capitals previously discussed are:\\n\\n1. Beijing (China)\\n2. Tokyo (Japan)', additional_kwargs={}, response_metadata={'token_usage': {'completion_tokens': 19, 'prompt_tokens': 141, 'total_tokens': 160, 'completion_time': 0.025333333, 'prompt_time': 0.008967537, 'queue_time': 0.005950451000000001, 'total_time': 0.03430087}, 'model_name': 'llama-3.1-8b-instant', 'system_fingerprint': 'fp_f66ccb39ec', 'finish_reason': 'stop', 'logprobs': None}, id='run-a7d6b7c6-0d4d-4394-be46-ebf1292d4615-0', usage_metadata={'input_tokens': 141, 'output_tokens': 19, 'total_tokens': 160})]"
      ]
     },
     "execution_count": 17,
     "metadata": {},
     "output_type": "execute_result"
    }
   ],
   "source": [
    "output[\"messages\"]"
   ]
  },
  {
   "cell_type": "code",
   "execution_count": 18,
   "metadata": {},
   "outputs": [
    {
     "data": {
      "text/plain": [
       "[AIMessage(content='Hi.', additional_kwargs={}, response_metadata={}, name='Bot', id='0'),\n",
       " HumanMessage(content='what is the capital of south korea?', additional_kwargs={}, response_metadata={}, name='Kim', id='1'),\n",
       " AIMessage(content='The capital of South Korea is Seoul.', additional_kwargs={}, response_metadata={'token_usage': {'completion_tokens': 9, 'prompt_tokens': 51, 'total_tokens': 60, 'completion_time': 0.012, 'prompt_time': 0.005654654, 'queue_time': 0.008612236, 'total_time': 0.017654654}, 'model_name': 'llama-3.1-8b-instant', 'system_fingerprint': 'fp_9cb648b966', 'finish_reason': 'stop', 'logprobs': None}, id='run-c404485d-16a9-4f2a-afd9-e560c738b1a6-0', usage_metadata={'input_tokens': 51, 'output_tokens': 9, 'total_tokens': 60}),\n",
       " HumanMessage(content='what is the capital of japan?', additional_kwargs={}, response_metadata={}, name='Kim', id='3'),\n",
       " AIMessage(content='The capital of Japan is Tokyo.', additional_kwargs={}, response_metadata={'token_usage': {'completion_tokens': 8, 'prompt_tokens': 76, 'total_tokens': 84, 'completion_time': 0.010666667, 'prompt_time': 0.008498756, 'queue_time': 0.005932474, 'total_time': 0.019165423}, 'model_name': 'llama-3.1-8b-instant', 'system_fingerprint': 'fp_9cb648b966', 'finish_reason': 'stop', 'logprobs': None}, id='run-ab5b9e73-dca2-48cf-904d-65903ea679d3-0', usage_metadata={'input_tokens': 76, 'output_tokens': 8, 'total_tokens': 84}),\n",
       " HumanMessage(content='what is the capital of china?', additional_kwargs={}, response_metadata={}, name='Kim', id='5'),\n",
       " AIMessage(content='The capital of China is Beijing.', additional_kwargs={}, response_metadata={'token_usage': {'completion_tokens': 8, 'prompt_tokens': 79, 'total_tokens': 87, 'completion_time': 0.010666667, 'prompt_time': 0.010754523, 'queue_time': 0.003900697, 'total_time': 0.02142119}, 'model_name': 'llama-3.1-8b-instant', 'system_fingerprint': 'fp_9cb648b966', 'finish_reason': 'stop', 'logprobs': None}, id='run-7607128e-d2bc-4cbe-9e97-ada401504d44-0', usage_metadata={'input_tokens': 79, 'output_tokens': 8, 'total_tokens': 87}),\n",
       " HumanMessage(content='what is the distance between two capitals ?', additional_kwargs={}, response_metadata={}, name='Kim', id='7'),\n",
       " AIMessage(content=\"To calculate the distance between the two capitals, I'll need to know the specific capitals you're referring to. However, I can give you the approximate distance between Tokyo, Japan, and Beijing, China.\\n\\nThe distance between Tokyo, Japan, and Beijing, China is approximately 1,864 kilometers (1,157 miles).\", additional_kwargs={}, response_metadata={'token_usage': {'completion_tokens': 66, 'prompt_tokens': 79, 'total_tokens': 145, 'completion_time': 0.088, 'prompt_time': 0.005854263, 'queue_time': 0.008530507, 'total_time': 0.093854263}, 'model_name': 'llama-3.1-8b-instant', 'system_fingerprint': 'fp_f66ccb39ec', 'finish_reason': 'stop', 'logprobs': None}, id='run-f696ba59-5d73-4516-bad4-19f415495016-0', usage_metadata={'input_tokens': 79, 'output_tokens': 66, 'total_tokens': 145}),\n",
       " HumanMessage(content='let me know the all capitals that is previously discussed ?', additional_kwargs={}, response_metadata={}, name='Kim', id='9'),\n",
       " AIMessage(content='The capitals previously discussed are:\\n\\n1. Beijing (China)\\n2. Tokyo (Japan)', additional_kwargs={}, response_metadata={'token_usage': {'completion_tokens': 19, 'prompt_tokens': 141, 'total_tokens': 160, 'completion_time': 0.025333333, 'prompt_time': 0.008967537, 'queue_time': 0.005950451000000001, 'total_time': 0.03430087}, 'model_name': 'llama-3.1-8b-instant', 'system_fingerprint': 'fp_f66ccb39ec', 'finish_reason': 'stop', 'logprobs': None}, id='run-a7d6b7c6-0d4d-4394-be46-ebf1292d4615-0', usage_metadata={'input_tokens': 141, 'output_tokens': 19, 'total_tokens': 160})]"
      ]
     },
     "execution_count": 18,
     "metadata": {},
     "output_type": "execute_result"
    }
   ],
   "source": [
    "messages"
   ]
  },
  {
   "cell_type": "markdown",
   "metadata": {},
   "source": [
    "# Message Summarization and Memory"
   ]
  },
  {
   "cell_type": "code",
   "execution_count": 19,
   "metadata": {},
   "outputs": [],
   "source": [
    "from langgraph.graph import MessagesState\n",
    "class State(MessagesState):\n",
    "    summary: str\n",
    "\n",
    "llm = ChatGroq(temperature=0, model_name= \"llama-3.1-8b-instant\")\n"
   ]
  },
  {
   "cell_type": "code",
   "execution_count": 20,
   "metadata": {},
   "outputs": [],
   "source": [
    "from langchain_core.messages import SystemMessage, HumanMessage, RemoveMessage\n",
    "\n",
    "# Define the logic to call the model\n",
    "def call_model(state: State):\n",
    "    \n",
    "    # Get summary if it exists\n",
    "    summary = state.get(\"summary\", \"\")\n",
    "\n",
    "    # If there is summary, then we add it\n",
    "    if summary:\n",
    "        \n",
    "        # Add summary to system message\n",
    "        system_message = f\"Summary of conversation earlier: {summary}\"\n",
    "\n",
    "        # Append summary to any newer messages\n",
    "        messages = [SystemMessage(content=system_message)] + state[\"messages\"]\n",
    "    \n",
    "    else:\n",
    "        messages = state[\"messages\"]\n",
    "    \n",
    "    response = llm.invoke(messages)\n",
    "    return {\"messages\": response}"
   ]
  },
  {
   "cell_type": "code",
   "execution_count": 21,
   "metadata": {},
   "outputs": [],
   "source": [
    "def summarize_conversation(state: State):\n",
    "    \n",
    "    # First, we get any existing summary\n",
    "    summary = state.get(\"summary\", \"\")\n",
    "\n",
    "    # Create our summarization prompt \n",
    "    if summary:\n",
    "        \n",
    "        # A summary already exists\n",
    "        summary_message = (\n",
    "            f\"This is summary of the conversation to date: {summary}\\n\\n\"\n",
    "            \"Extend the summary by taking into account the new messages above:\"\n",
    "        )\n",
    "        \n",
    "    else:\n",
    "        summary_message = \"Create a summary of the conversation above:\"\n",
    "\n",
    "    # Add prompt to our history\n",
    "    messages = state[\"messages\"] + [HumanMessage(content=summary_message)]\n",
    "    response = llm.invoke(messages)\n",
    "    \n",
    "    # Delete all but the 2 most recent messages\n",
    "    delete_messages = [RemoveMessage(id=m.id) for m in state[\"messages\"][:-2]]\n",
    "    return {\"summary\": response.content, \"messages\": delete_messages}"
   ]
  },
  {
   "cell_type": "code",
   "execution_count": 22,
   "metadata": {},
   "outputs": [],
   "source": [
    "def summarize_conversation(state: State):\n",
    "    \n",
    "    # First, we get any existing summary\n",
    "    summary = state.get(\"summary\", \"\")\n",
    "\n",
    "    # Create our summarization prompt \n",
    "    if summary:\n",
    "        \n",
    "        # A summary already exists\n",
    "        summary_message = (\n",
    "            f\"This is summary of the conversation to date: {summary}\\n\\n\"\n",
    "            \"Extend the summary by taking into account the new messages above:\"\n",
    "        )\n",
    "        \n",
    "    else:\n",
    "        summary_message = \"Create a summary of the conversation above:\"\n",
    "\n",
    "    # Add prompt to our history\n",
    "    messages = state[\"messages\"] + [HumanMessage(content=summary_message)]\n",
    "    response = llm.invoke(messages)\n",
    "    \n",
    "    # Delete all but the 2 most recent messages\n",
    "    delete_messages = [RemoveMessage(id=m.id) for m in state[\"messages\"][:-2]]\n",
    "    return {\"summary\": response.content, \"messages\": delete_messages}"
   ]
  },
  {
   "cell_type": "code",
   "execution_count": 23,
   "metadata": {},
   "outputs": [],
   "source": [
    "from langgraph.graph import END\n",
    "# Determine whether to end or summarize the conversation\n",
    "def should_continue(state: State):\n",
    "    \n",
    "    \"\"\"Return the next node to execute.\"\"\"\n",
    "    \n",
    "    messages = state[\"messages\"]\n",
    "    \n",
    "    # If there are more than six messages, then we summarize the conversation\n",
    "    if len(messages) > 6:\n",
    "        return \"summarize_conversation\"\n",
    "    \n",
    "    # Otherwise we can just end\n",
    "    return END"
   ]
  },
  {
   "cell_type": "code",
   "execution_count": 24,
   "metadata": {},
   "outputs": [
    {
     "data": {
      "image/png": "[encoded data removed]",
      "text/plain": [
       "<IPython.core.display.Image object>"
      ]
     },
     "metadata": {},
     "output_type": "display_data"
    }
   ],
   "source": [
    "from IPython.display import Image, display\n",
    "from langgraph.checkpoint.memory import MemorySaver\n",
    "from langgraph.graph import StateGraph, START\n",
    "\n",
    "# Define a new graph\n",
    "workflow = StateGraph(State)\n",
    "workflow.add_node(\"conversation\", call_model)\n",
    "workflow.add_node(summarize_conversation)\n",
    "\n",
    "# Set the entrypoint as conversation\n",
    "workflow.add_edge(START, \"conversation\")\n",
    "workflow.add_conditional_edges(\"conversation\", should_continue)\n",
    "workflow.add_edge(\"summarize_conversation\", END)\n",
    "\n",
    "# Compile\n",
    "memory = MemorySaver()\n",
    "graph = workflow.compile(checkpointer=memory)\n",
    "display(Image(graph.get_graph().draw_mermaid_png()))"
   ]
  },
  {
   "cell_type": "code",
   "execution_count": 25,
   "metadata": {},
   "outputs": [
    {
     "name": "stdout",
     "output_type": "stream",
     "text": [
      "================================\u001b[1m Human Message \u001b[0m=================================\n",
      "Name: Kim\n",
      "\n",
      "let me know the all capitals that is previously discussed ?\n",
      "==================================\u001b[1m Ai Message \u001b[0m==================================\n",
      "\n",
      "Here are the capitals we previously discussed:\n",
      "\n",
      "1. South Korea: Seoul\n",
      "2. Japan: Tokyo\n",
      "3. China: Beijing\n"
     ]
    }
   ],
   "source": [
    "from langchain_core.messages import AIMessage, HumanMessage\n",
    "\n",
    "config = {\"configurable\": {\"thread_id\": \"1\"}}\n",
    "\n",
    "messages = []\n",
    "messages = [AIMessage(\"Hi.\", name=\"Bot\", id=str(len(messages)))]\n",
    "\n",
    "question = \"what is the capital of south korea?\"\n",
    "messages.append(HumanMessage(question, name=\"Kim\", id=str(len(messages))))\n",
    "output = graph.invoke({'messages': messages}, config)\n",
    "\n",
    "messages.append(output['messages'][-1])\n",
    "messages\n",
    "\n",
    "question = \"what is the capital of japan?\"\n",
    "messages.append(HumanMessage(question, name=\"Kim\", id=str(len(messages))))\n",
    "output = graph.invoke({'messages': messages}, config)\n",
    "messages.append(output['messages'][-1])\n",
    "\n",
    "question = \"what is the capital of china?\"\n",
    "messages.append(HumanMessage(question, name=\"Kim\", id=str(len(messages))))\n",
    "output = graph.invoke({'messages': messages}, config)\n",
    "messages.append(output['messages'][-1])\n",
    "\n",
    "question = \"what is the distance between two capitals ?\"\n",
    "messages.append(HumanMessage(question, name=\"Kim\", id=str(len(messages))))\n",
    "output = graph.invoke({'messages': messages}, config)\n",
    "messages.append(output['messages'][-1])\n",
    "\n",
    "question = \"let me know the all capitals that is previously discussed ?\"\n",
    "messages.append(HumanMessage(question, name=\"Kim\", id=str(len(messages))))\n",
    "output = graph.invoke({'messages': messages}, config)\n",
    "messages.append(output['messages'][-1])\n",
    "\n",
    "for m in output['messages']:\n",
    "    m.pretty_print()"
   ]
  },
  {
   "cell_type": "code",
   "execution_count": 26,
   "metadata": {},
   "outputs": [
    {
     "data": {
      "text/plain": [
       "[HumanMessage(content='let me know the all capitals that is previously discussed ?', additional_kwargs={}, response_metadata={}, name='Kim', id='9'),\n",
       " AIMessage(content='Here are the capitals we previously discussed:\\n\\n1. South Korea: Seoul\\n2. Japan: Tokyo\\n3. China: Beijing', additional_kwargs={}, response_metadata={'token_usage': {'completion_tokens': 27, 'prompt_tokens': 398, 'total_tokens': 425, 'completion_time': 0.036, 'prompt_time': 0.025534741, 'queue_time': 0.001904144, 'total_time': 0.061534741}, 'model_name': 'llama-3.1-8b-instant', 'system_fingerprint': 'fp_f66ccb39ec', 'finish_reason': 'stop', 'logprobs': None}, id='run-edb89616-b961-4dcb-9159-7bf0de19a7a3-0', usage_metadata={'input_tokens': 398, 'output_tokens': 27, 'total_tokens': 425})]"
      ]
     },
     "execution_count": 26,
     "metadata": {},
     "output_type": "execute_result"
    }
   ],
   "source": [
    "output['messages']"
   ]
  },
  {
   "cell_type": "code",
   "execution_count": 27,
   "metadata": {},
   "outputs": [
    {
     "data": {
      "text/plain": [
       "[AIMessage(content='Hi.', additional_kwargs={}, response_metadata={}, name='Bot', id='0'),\n",
       " HumanMessage(content='what is the capital of south korea?', additional_kwargs={}, response_metadata={}, name='Kim', id='1'),\n",
       " AIMessage(content='The capital of South Korea is Seoul.', additional_kwargs={}, response_metadata={'token_usage': {'completion_tokens': 9, 'prompt_tokens': 51, 'total_tokens': 60, 'completion_time': 0.012, 'prompt_time': 0.006929927, 'queue_time': 0.007777033, 'total_time': 0.018929927}, 'model_name': 'llama-3.1-8b-instant', 'system_fingerprint': 'fp_9cb648b966', 'finish_reason': 'stop', 'logprobs': None}, id='run-c33213bd-4a7a-4194-8408-ee512785e21c-0', usage_metadata={'input_tokens': 51, 'output_tokens': 9, 'total_tokens': 60}),\n",
       " HumanMessage(content='what is the capital of japan?', additional_kwargs={}, response_metadata={}, name='Kim', id='3'),\n",
       " AIMessage(content='The capital of Japan is Tokyo.', additional_kwargs={}, response_metadata={'token_usage': {'completion_tokens': 8, 'prompt_tokens': 76, 'total_tokens': 84, 'completion_time': 0.010666667, 'prompt_time': 0.008300198, 'queue_time': 0.006246402, 'total_time': 0.018966865}, 'model_name': 'llama-3.1-8b-instant', 'system_fingerprint': 'fp_9cb648b966', 'finish_reason': 'stop', 'logprobs': None}, id='run-eb57193b-9354-4fb2-b366-85a7fa961447-0', usage_metadata={'input_tokens': 76, 'output_tokens': 8, 'total_tokens': 84}),\n",
       " HumanMessage(content='what is the capital of china?', additional_kwargs={}, response_metadata={}, name='Kim', id='5'),\n",
       " AIMessage(content='The capital of China is Beijing.', additional_kwargs={}, response_metadata={'token_usage': {'completion_tokens': 8, 'prompt_tokens': 100, 'total_tokens': 108, 'completion_time': 0.010666667, 'prompt_time': 0.00738261, 'queue_time': 0.00696169, 'total_time': 0.018049277}, 'model_name': 'llama-3.1-8b-instant', 'system_fingerprint': 'fp_f66ccb39ec', 'finish_reason': 'stop', 'logprobs': None}, id='run-e285fc6b-6e85-4025-b06e-8bfd152f6e31-0', usage_metadata={'input_tokens': 100, 'output_tokens': 8, 'total_tokens': 108}),\n",
       " HumanMessage(content='what is the distance between two capitals ?', additional_kwargs={}, response_metadata={}, name='Kim', id='7'),\n",
       " AIMessage(content=\"To calculate the distance between two capitals, we need to know which two capitals you are referring to. However, I can give you some approximate distances between the capitals we discussed earlier:\\n\\n- Between Beijing (China) and Seoul (South Korea): approximately 663 kilometers (412 miles)\\n- Between Beijing (China) and Tokyo (Japan): approximately 1,864 kilometers (1,158 miles)\\n- Between Seoul (South Korea) and Tokyo (Japan): approximately 946 kilometers (588 miles)\\n\\nPlease let me know if you'd like to know the distance between a different pair of capitals.\", additional_kwargs={}, response_metadata={'token_usage': {'completion_tokens': 119, 'prompt_tokens': 180, 'total_tokens': 299, 'completion_time': 0.158666667, 'prompt_time': 0.020072054, 'queue_time': 0.0020127660000000026, 'total_time': 0.178738721}, 'model_name': 'llama-3.1-8b-instant', 'system_fingerprint': 'fp_9cb648b966', 'finish_reason': 'stop', 'logprobs': None}, id='run-628e701d-badd-42ab-b3aa-72b45dd8a392-0', usage_metadata={'input_tokens': 180, 'output_tokens': 119, 'total_tokens': 299}),\n",
       " HumanMessage(content='let me know the all capitals that is previously discussed ?', additional_kwargs={}, response_metadata={}, name='Kim', id='9'),\n",
       " AIMessage(content='Here are the capitals we previously discussed:\\n\\n1. South Korea: Seoul\\n2. Japan: Tokyo\\n3. China: Beijing', additional_kwargs={}, response_metadata={'token_usage': {'completion_tokens': 27, 'prompt_tokens': 398, 'total_tokens': 425, 'completion_time': 0.036, 'prompt_time': 0.025534741, 'queue_time': 0.001904144, 'total_time': 0.061534741}, 'model_name': 'llama-3.1-8b-instant', 'system_fingerprint': 'fp_f66ccb39ec', 'finish_reason': 'stop', 'logprobs': None}, id='run-edb89616-b961-4dcb-9159-7bf0de19a7a3-0', usage_metadata={'input_tokens': 398, 'output_tokens': 27, 'total_tokens': 425})]"
      ]
     },
     "execution_count": 27,
     "metadata": {},
     "output_type": "execute_result"
    }
   ],
   "source": [
    "messages"
   ]
  },
  {
   "cell_type": "markdown",
   "metadata": {},
   "source": [
    "# Message summarization & external DB memory\n",
    "- https://langchain-ai.github.io/langgraph/how-tos/persistence_postgres/  나중에 postgres로 변환"
   ]
  },
  {
   "cell_type": "code",
   "execution_count": 28,
   "metadata": {},
   "outputs": [
    {
     "data": {
      "text/plain": [
       "<sqlite3.Connection at 0x1a806fd2980>"
      ]
     },
     "execution_count": 28,
     "metadata": {},
     "output_type": "execute_result"
    }
   ],
   "source": [
    "import sqlite3\n",
    "# In memory\n",
    "db_path = \"db/ex_memory_09.db\"\n",
    "conn = sqlite3.connect(db_path, check_same_thread=False)\n",
    "conn"
   ]
  },
  {
   "cell_type": "code",
   "execution_count": 29,
   "metadata": {},
   "outputs": [
    {
     "data": {
      "text/plain": [
       "<langgraph.checkpoint.sqlite.SqliteSaver at 0x1a806f07d40>"
      ]
     },
     "execution_count": 29,
     "metadata": {},
     "output_type": "execute_result"
    }
   ],
   "source": [
    "from langgraph.checkpoint.sqlite import SqliteSaver\n",
    "memory = SqliteSaver(conn)\n",
    "memory"
   ]
  },
  {
   "cell_type": "code",
   "execution_count": 30,
   "metadata": {},
   "outputs": [],
   "source": [
    "from langchain_groq import ChatGroq\n",
    "llm = ChatGroq(temperature=0, model_name= \"llama-3.1-8b-instant\")\n",
    "\n",
    "from langchain_core.messages import SystemMessage, HumanMessage, RemoveMessage\n",
    "\n",
    "from langgraph.graph import END\n",
    "from langgraph.graph import MessagesState\n",
    "\n",
    "class State(MessagesState):\n",
    "    summary: str\n",
    "\n",
    "# Define the logic to call the model\n",
    "def call_model(state: State):\n",
    "    \n",
    "    # Get summary if it exists\n",
    "    summary = state.get(\"summary\", \"\")\n",
    "\n",
    "    # If there is summary, then we add it\n",
    "    if summary:\n",
    "        \n",
    "        # Add summary to system message\n",
    "        system_message = f\"Summary of conversation earlier: {summary}\"\n",
    "\n",
    "        # Append summary to any newer messages\n",
    "        messages = [SystemMessage(content=system_message)] + state[\"messages\"]\n",
    "    \n",
    "    else:\n",
    "        messages = state[\"messages\"]\n",
    "    \n",
    "    response = llm.invoke(messages)\n",
    "    return {\"messages\": response}\n",
    "\n",
    "def summarize_conversation(state: State):\n",
    "    \n",
    "    # First, we get any existing summary\n",
    "    summary = state.get(\"summary\", \"\")\n",
    "\n",
    "    # Create our summarization prompt \n",
    "    if summary:\n",
    "        \n",
    "        # A summary already exists\n",
    "        summary_message = (\n",
    "            f\"This is summary of the conversation to date: {summary}\\n\\n\"\n",
    "            \"Extend the summary by taking into account the new messages above:\"\n",
    "        )\n",
    "        \n",
    "    else:\n",
    "        summary_message = \"Create a summary of the conversation above:\"\n",
    "\n",
    "    # Add prompt to our history\n",
    "    messages = state[\"messages\"] + [HumanMessage(content=summary_message)]\n",
    "    response = llm.invoke(messages)\n",
    "    \n",
    "    # Delete all but the 2 most recent messages\n",
    "    delete_messages = [RemoveMessage(id=m.id) for m in state[\"messages\"][:-2]]\n",
    "    return {\"summary\": response.content, \"messages\": delete_messages}\n",
    "\n",
    "# Determine whether to end or summarize the conversation\n",
    "def should_continue(state: State):\n",
    "    \n",
    "    \"\"\"Return the next node to execute.\"\"\"\n",
    "    \n",
    "    messages = state[\"messages\"]\n",
    "    \n",
    "    # If there are more than six messages, then we summarize the conversation\n",
    "    if len(messages) > 6:\n",
    "        return \"summarize_conversation\"\n",
    "    \n",
    "    # Otherwise we can just end\n",
    "    return END"
   ]
  },
  {
   "cell_type": "code",
   "execution_count": 31,
   "metadata": {},
   "outputs": [
    {
     "data": {
      "image/png": "[encoded data removed]",
      "text/plain": [
       "<IPython.core.display.Image object>"
      ]
     },
     "metadata": {},
     "output_type": "display_data"
    }
   ],
   "source": [
    "from IPython.display import Image, display\n",
    "from langgraph.graph import StateGraph, START\n",
    "\n",
    "# Define a new graph\n",
    "workflow = StateGraph(State)\n",
    "workflow.add_node(\"conversation\", call_model)\n",
    "workflow.add_node(summarize_conversation)\n",
    "\n",
    "# Set the entrypoint as conversation\n",
    "workflow.add_edge(START, \"conversation\")\n",
    "workflow.add_conditional_edges(\"conversation\", should_continue)\n",
    "workflow.add_edge(\"summarize_conversation\", END)\n",
    "\n",
    "# Compile\n",
    "graph = workflow.compile(checkpointer=memory)\n",
    "display(Image(graph.get_graph().draw_mermaid_png()))\n"
   ]
  },
  {
   "cell_type": "code",
   "execution_count": 32,
   "metadata": {},
   "outputs": [
    {
     "name": "stdout",
     "output_type": "stream",
     "text": [
      "================================\u001b[1m Human Message \u001b[0m=================================\n",
      "Name: Kim\n",
      "\n",
      "let me know the all capitals that is previously discussed ?\n",
      "==================================\u001b[1m Ai Message \u001b[0m==================================\n",
      "\n",
      "Here are the capitals we previously discussed:\n",
      "\n",
      "1. South Korea: Seoul\n",
      "2. Japan: Tokyo\n",
      "3. China: Beijing\n"
     ]
    }
   ],
   "source": [
    "from langchain_core.messages import AIMessage, HumanMessage\n",
    "\n",
    "config = {\"configurable\": {\"thread_id\": \"1\"}}\n",
    "\n",
    "messages = []\n",
    "messages = [AIMessage(\"Hi.\", name=\"Bot\", id=str(len(messages)))]\n",
    "\n",
    "question = \"what is the capital of south korea?\"\n",
    "messages.append(HumanMessage(question, name=\"Kim\", id=str(len(messages))))\n",
    "output = graph.invoke({'messages': messages}, config)\n",
    "\n",
    "messages.append(output['messages'][-1])\n",
    "messages\n",
    "\n",
    "question = \"what is the capital of japan?\"\n",
    "messages.append(HumanMessage(question, name=\"Kim\", id=str(len(messages))))\n",
    "output = graph.invoke({'messages': messages}, config)\n",
    "messages.append(output['messages'][-1])\n",
    "\n",
    "question = \"what is the capital of china?\"\n",
    "messages.append(HumanMessage(question, name=\"Kim\", id=str(len(messages))))\n",
    "output = graph.invoke({'messages': messages}, config)\n",
    "messages.append(output['messages'][-1])\n",
    "\n",
    "question = \"what is the distance between two capitals ?\"\n",
    "messages.append(HumanMessage(question, name=\"Kim\", id=str(len(messages))))\n",
    "output = graph.invoke({'messages': messages}, config)\n",
    "messages.append(output['messages'][-1])\n",
    "\n",
    "question = \"let me know the all capitals that is previously discussed ?\"\n",
    "messages.append(HumanMessage(question, name=\"Kim\", id=str(len(messages))))\n",
    "output = graph.invoke({'messages': messages}, config)\n",
    "messages.append(output['messages'][-1])\n",
    "\n",
    "for m in output['messages']:\n",
    "    m.pretty_print()"
   ]
  },
  {
   "cell_type": "code",
   "execution_count": 33,
   "metadata": {},
   "outputs": [
    {
     "data": {
      "text/plain": [
       "StateSnapshot(values={'messages': [HumanMessage(content='let me know the all capitals that is previously discussed ?', additional_kwargs={}, response_metadata={}, name='Kim', id='9'), AIMessage(content='Here are the capitals we previously discussed:\\n\\n1. South Korea: Seoul\\n2. Japan: Tokyo\\n3. China: Beijing', additional_kwargs={}, response_metadata={'token_usage': {'completion_tokens': 27, 'prompt_tokens': 398, 'total_tokens': 425, 'completion_time': 0.036, 'prompt_time': 0.025840848, 'queue_time': 0.0025513719999999997, 'total_time': 0.061840848}, 'model_name': 'llama-3.1-8b-instant', 'system_fingerprint': 'fp_f66ccb39ec', 'finish_reason': 'stop', 'logprobs': None}, id='run-f83cfed8-28a5-42f2-94a4-f63540f1594e-0', usage_metadata={'input_tokens': 398, 'output_tokens': 27, 'total_tokens': 425})], 'summary': \"Here's the updated summary of our conversation:\\n\\nWe discussed the capitals of four countries in East Asia:\\n\\n1. South Korea: Seoul\\n2. Japan: Tokyo\\n3. China: Beijing\\n4. We also calculated the approximate distances between these capitals:\\n   - Between Beijing (China) and Seoul (South Korea): approximately 663 kilometers (412 miles)\\n   - Between Beijing (China) and Tokyo (Japan): approximately 1,864 kilometers (1,158 miles)\\n   - Between Seoul (South Korea) and Tokyo (Japan): approximately 946 kilometers (588 miles)\\n5. You asked me to recall the capital of South Korea, and I confirmed that it is Seoul.\\n6. You asked me to recall the capital of Japan, and I confirmed that it is Tokyo.\\n7. You asked me to recall the capital of China, and I confirmed that it is Beijing.\\n8. You asked me to list all the capitals that we previously discussed, and I provided the list of Seoul, Tokyo, and Beijing.\"}, next=(), config={'configurable': {'thread_id': '1', 'checkpoint_ns': '', 'checkpoint_id': '1efa9256-81f3-64dc-8010-a8d779a69ce0'}}, metadata={'source': 'loop', 'writes': {'summarize_conversation': {'messages': [RemoveMessage(content='', additional_kwargs={}, response_metadata={}, id='7'), RemoveMessage(content='', additional_kwargs={}, response_metadata={}, id='run-ad764dda-f5d0-40e2-aa08-03a6de706996-0'), RemoveMessage(content='', additional_kwargs={}, response_metadata={}, id='0'), RemoveMessage(content='', additional_kwargs={}, response_metadata={}, id='1'), RemoveMessage(content='', additional_kwargs={}, response_metadata={}, id='run-dd94e8f0-d959-44cd-a52e-e86b5c0542ec-0'), RemoveMessage(content='', additional_kwargs={}, response_metadata={}, id='3'), RemoveMessage(content='', additional_kwargs={}, response_metadata={}, id='run-cc4070c0-4aa9-484c-9539-9427fb9dd4de-0'), RemoveMessage(content='', additional_kwargs={}, response_metadata={}, id='5'), RemoveMessage(content='', additional_kwargs={}, response_metadata={}, id='run-bd1b983f-bdfe-4fa1-9d62-7cdba7b9b12f-0')], 'summary': \"Here's the updated summary of our conversation:\\n\\nWe discussed the capitals of four countries in East Asia:\\n\\n1. South Korea: Seoul\\n2. Japan: Tokyo\\n3. China: Beijing\\n4. We also calculated the approximate distances between these capitals:\\n   - Between Beijing (China) and Seoul (South Korea): approximately 663 kilometers (412 miles)\\n   - Between Beijing (China) and Tokyo (Japan): approximately 1,864 kilometers (1,158 miles)\\n   - Between Seoul (South Korea) and Tokyo (Japan): approximately 946 kilometers (588 miles)\\n5. You asked me to recall the capital of South Korea, and I confirmed that it is Seoul.\\n6. You asked me to recall the capital of Japan, and I confirmed that it is Tokyo.\\n7. You asked me to recall the capital of China, and I confirmed that it is Beijing.\\n8. You asked me to list all the capitals that we previously discussed, and I provided the list of Seoul, Tokyo, and Beijing.\"}}, 'step': 16, 'parents': {}}, created_at='2024-11-22T22:59:19.753442+00:00', parent_config={'configurable': {'thread_id': '1', 'checkpoint_ns': '', 'checkpoint_id': '1efa9256-7d0d-6581-800f-ae51abe5b9b8'}}, tasks=())"
      ]
     },
     "execution_count": 33,
     "metadata": {},
     "output_type": "execute_result"
    }
   ],
   "source": [
    "config = {\"configurable\": {\"thread_id\": \"1\"}}\n",
    "graph_state = graph.get_state(config)\n",
    "graph_state"
   ]
  },
  {
   "cell_type": "code",
   "execution_count": 34,
   "metadata": {},
   "outputs": [
    {
     "data": {
      "text/plain": [
       "{'messages': [HumanMessage(content='let me know the all capitals that is previously discussed ?', additional_kwargs={}, response_metadata={}, name='Kim', id='9'),\n",
       "  AIMessage(content='Here are the capitals we previously discussed:\\n\\n1. South Korea: Seoul\\n2. Japan: Tokyo\\n3. China: Beijing', additional_kwargs={}, response_metadata={'token_usage': {'completion_tokens': 27, 'prompt_tokens': 398, 'total_tokens': 425, 'completion_time': 0.036, 'prompt_time': 0.025840848, 'queue_time': 0.0025513719999999997, 'total_time': 0.061840848}, 'model_name': 'llama-3.1-8b-instant', 'system_fingerprint': 'fp_f66ccb39ec', 'finish_reason': 'stop', 'logprobs': None}, id='run-f83cfed8-28a5-42f2-94a4-f63540f1594e-0', usage_metadata={'input_tokens': 398, 'output_tokens': 27, 'total_tokens': 425})],\n",
       " 'summary': \"Here's the updated summary of our conversation:\\n\\nWe discussed the capitals of four countries in East Asia:\\n\\n1. South Korea: Seoul\\n2. Japan: Tokyo\\n3. China: Beijing\\n4. We also calculated the approximate distances between these capitals:\\n   - Between Beijing (China) and Seoul (South Korea): approximately 663 kilometers (412 miles)\\n   - Between Beijing (China) and Tokyo (Japan): approximately 1,864 kilometers (1,158 miles)\\n   - Between Seoul (South Korea) and Tokyo (Japan): approximately 946 kilometers (588 miles)\\n5. You asked me to recall the capital of South Korea, and I confirmed that it is Seoul.\\n6. You asked me to recall the capital of Japan, and I confirmed that it is Tokyo.\\n7. You asked me to recall the capital of China, and I confirmed that it is Beijing.\\n8. You asked me to list all the capitals that we previously discussed, and I provided the list of Seoul, Tokyo, and Beijing.\"}"
      ]
     },
     "execution_count": 34,
     "metadata": {},
     "output_type": "execute_result"
    }
   ],
   "source": [
    "graph_state.values"
   ]
  },
  {
   "cell_type": "code",
   "execution_count": 35,
   "metadata": {},
   "outputs": [
    {
     "name": "stdout",
     "output_type": "stream",
     "text": [
      "Retrieved database schema.\n",
      "Table: checkpoints\n",
      "- thread_id: TEXT, Primary Key\n",
      "- checkpoint_ns: TEXT, Primary Key\n",
      "- checkpoint_id: TEXT, Primary Key\n",
      "- parent_checkpoint_id: TEXT\n",
      "- type: TEXT\n",
      "- checkpoint: BLOB\n",
      "- metadata: BLOB\n",
      "\n",
      "Table: writes\n",
      "- thread_id: TEXT, Primary Key\n",
      "- checkpoint_ns: TEXT, Primary Key\n",
      "- checkpoint_id: TEXT, Primary Key\n",
      "- task_id: TEXT, Primary Key\n",
      "- idx: INTEGER, Primary Key\n",
      "- channel: TEXT\n",
      "- type: TEXT\n",
      "- value: BLOB\n",
      "\n",
      "\n"
     ]
    }
   ],
   "source": [
    "import os\n",
    "from sqlalchemy import create_engine, Column, Integer, String, ForeignKey, Float\n",
    "from sqlalchemy.orm import sessionmaker, relationship, declarative_base\n",
    "from sqlalchemy import text, inspect\n",
    "\n",
    "DATABASE_URL = os.getenv(\"DATABASE_URL\", \"sqlite:///./db/ex_memory_09.db\")\n",
    "engine = create_engine(DATABASE_URL)\n",
    "\n",
    "def get_database_schema(engine):\n",
    "    inspector = inspect(engine)\n",
    "    schema = \"\"\n",
    "    for table_name in inspector.get_table_names():\n",
    "        schema += f\"Table: {table_name}\\n\"\n",
    "        for column in inspector.get_columns(table_name):\n",
    "            col_name = column[\"name\"]\n",
    "            col_type = str(column[\"type\"])\n",
    "            if column.get(\"primary_key\"):\n",
    "                col_type += \", Primary Key\"\n",
    "            if column.get(\"foreign_keys\"):\n",
    "                fk = list(column[\"foreign_keys\"])[0]\n",
    "                col_type += f\", Foreign Key to {fk.column.table.name}.{fk.column.name}\"\n",
    "            schema += f\"- {col_name}: {col_type}\\n\"\n",
    "        schema += \"\\n\"\n",
    "    print(\"Retrieved database schema.\")\n",
    "    return schema\n",
    "\n",
    "schema = get_database_schema(engine=engine)\n",
    "print(schema)"
   ]
  },
  {
   "cell_type": "code",
   "execution_count": 36,
   "metadata": {},
   "outputs": [
    {
     "name": "stdout",
     "output_type": "stream",
     "text": [
      "('1', '', '1efa9256-69cf-6d84-bfff-63dcfef99edd', None, 'msgpack', b'\\x87\\xa1v\\x01\\xa2ts\\xd9 2024-11-22T22:59:17.222336+00:00\\xa2id\\xd9$1efa9256-69cf-6d84-bfff-63dcfef99edd\\xaechannel_values\\x81\\xa9__start__\\x81\\xa8messages\\x92\\xc7\\xbc\\x05\\x94\\xbalangchain_core.messages.ai\\xa9AIMessage\\x8a\\xa7content\\xa3Hi.\\xb1additional_kwargs\\x80\\xb1response_metadata\\x80\\xa4type\\xa2ai\\xa4name\\xa3Bot\\xa2id\\xa10\\xa7example\\xc2\\xaatool_calls\\x90\\xb2invalid_tool_calls\\x90\\xaeusage_metadata\\xc0\\xb3model_validate_json\\xc7\\xb6\\x05\\x94\\xbdlangchain_core.messages.human\\xacHumanMessage\\x87\\xa7content\\xd9#what is the capital of south korea?\\xb1additional_kwargs\\x80\\xb1response_metadata\\x80\\xa4type\\xa5human\\xa4name\\xa3Kim\\xa2id\\xa11\\xa7example\\xc2\\xb3model_validate_json\\xb0channel_versions\\x81\\xa9__start__\\xd9300000000000000000000000000000001.0.8772266582026554\\xadversions_seen\\x81\\xa9__input__\\x80\\xadpending_sends\\x90', b'{\"source\": \"input\", \"writes\": {\"__start__\": {\"messages\": [{\"lc\": 1, \"type\": \"constructor\", \"id\": [\"langchain\", \"schema\", \"messages\", \"AIMessage\"], \"kwargs\": {\"content\": \"Hi.\", \"type\": \"ai\", \"name\": \"Bot\", \"id\": \"0\", \"tool_calls\": [], \"invalid_tool_calls\": []}}, {\"lc\": 1, \"type\": \"constructor\", \"id\": [\"langchain\", \"schema\", \"messages\", \"HumanMessage\"], \"kwargs\": {\"content\": \"what is the capital of south korea?\", \"type\": \"human\", \"name\": \"Kim\", \"id\": \"1\"}}]}}, \"step\": -1, \"parents\": {}}')\n",
      "('1', '', '1efa9256-69eb-6a0d-8000-4865102eb78d', '1efa9256-69cf-6d84-bfff-63dcfef99edd', 'msgpack', b'\\x87\\xa1v\\x01\\xa2ts\\xd9 2024-11-22T22:59:17.233716+00:00\\xa2id\\xd9$1efa9256-69eb-6a0d-8000-4865102eb78d\\xaechannel_values\\x82\\xa8messages\\x92\\xc7\\xbc\\x05\\x94\\xbalangchain_core.messages.ai\\xa9AIMessage\\x8a\\xa7content\\xa3Hi.\\xb1additional_kwargs\\x80\\xb1response_metadata\\x80\\xa4type\\xa2ai\\xa4name\\xa3Bot\\xa2id\\xa10\\xa7example\\xc2\\xaatool_calls\\x90\\xb2invalid_tool_calls\\x90\\xaeusage_metadata\\xc0\\xb3model_validate_json\\xc7\\xb6\\x05\\x94\\xbdlangchain_core.messages.human\\xacHumanMessage\\x87\\xa7content\\xd9#what is the capital of south korea?\\xb1additional_kwargs\\x80\\xb1response_metadata\\x80\\xa4type\\xa5human\\xa4name\\xa3Kim\\xa2id\\xa11\\xa7example\\xc2\\xb3model_validate_json\\xb2start:conversation\\xa9__start__\\xb0channel_versions\\x83\\xa9__start__\\xd9300000000000000000000000000000002.0.8520364687523427\\xa8messages\\xd9300000000000000000000000000000002.0.3321576460835224\\xb2start:conversation\\xd9300000000000000000000000000000002.0.9818710053247244\\xadversions_seen\\x82\\xa9__input__\\x80\\xa9__start__\\x81\\xa9__start__\\xd9300000000000000000000000000000001.0.8772266582026554\\xadpending_sends\\x90', b'{\"source\": \"loop\", \"writes\": null, \"step\": 0, \"parents\": {}}')\n",
      "('1', '', '1efa9256-6c32-6a17-8001-307982d82df7', '1efa9256-69eb-6a0d-8000-4865102eb78d', 'msgpack', b'\\x87\\xa1v\\x01\\xa2ts\\xd9 2024-11-22T22:59:17.472514+00:00\\xa2id\\xd9$1efa9256-6c32-6a17-8001-307982d82df7\\xaechannel_values\\x82\\xa8messages\\x93\\xc7\\xbc\\x05\\x94\\xbalangchain_core.messages.ai\\xa9AIMessage\\x8a\\xa7content\\xa3Hi.\\xb1additional_kwargs\\x80\\xb1response_metadata\\x80\\xa4type\\xa2ai\\xa4name\\xa3Bot\\xa2id\\xa10\\xa7example\\xc2\\xaatool_calls\\x90\\xb2invalid_tool_calls\\x90\\xaeusage_metadata\\xc0\\xb3model_validate_json\\xc7\\xb6\\x05\\x94\\xbdlangchain_core.messages.human\\xacHumanMessage\\x87\\xa7content\\xd9#what is the capital of south korea?\\xb1additional_kwargs\\x80\\xb1response_metadata\\x80\\xa4type\\xa5human\\xa4name\\xa3Kim\\xa2id\\xa11\\xa7example\\xc2\\xb3model_validate_json\\xc8\\x02!\\x05\\x94\\xbalangchain_core.messages.ai\\xa9AIMessage\\x8a\\xa7content\\xd9$The capital of South Korea is Seoul.\\xb1additional_kwargs\\x80\\xb1response_metadata\\x85\\xabtoken_usage\\x87\\xb1completion_tokens\\t\\xadprompt_tokens3\\xactotal_tokens<\\xafcompletion_time\\xcb?\\x88\\x93t\\xbcj~\\xfa\\xabprompt_time\\xcb?i\\x80\\x10\\xa8\\xe7\\x0b\\xe0\\xaaqueue_time\\xcb?\\x89\\xa1\\xa1GZT\\x00\\xaatotal_time\\xcb?\\x8e\\xf3x\\xe6\\xa4A\\xf2\\xaamodel_name\\xb4llama-3.1-8b-instant\\xb2system_fingerprint\\xadfp_f66ccb39ec\\xadfinish_reason\\xa4stop\\xa8logprobs\\xc0\\xa4type\\xa2ai\\xa4name\\xc0\\xa2id\\xd9*run-dd94e8f0-d959-44cd-a52e-e86b5c0542ec-0\\xa7example\\xc2\\xaatool_calls\\x90\\xb2invalid_tool_calls\\x90\\xaeusage_metadata\\x83\\xacinput_tokens3\\xadoutput_tokens\\t\\xactotal_tokens<\\xb3model_validate_json\\xacconversation\\xacconversation\\xb0channel_versions\\x84\\xa9__start__\\xd9300000000000000000000000000000002.0.8520364687523427\\xa8messages\\xd9200000000000000000000000000000003.0.251656920900999\\xb2start:conversation\\xd9300000000000000000000000000000003.0.9946052260839598\\xacconversation\\xd9200000000000000000000000000000003.0.685773303254052\\xadversions_seen\\x83\\xa9__input__\\x80\\xa9__start__\\x81\\xa9__start__\\xd9300000000000000000000000000000001.0.8772266582026554\\xacconversation\\x81\\xb2start:conversation\\xd9300000000000000000000000000000002.0.9818710053247244\\xadpending_sends\\x90', b'{\"source\": \"loop\", \"writes\": {\"conversation\": {\"messages\": {\"lc\": 1, \"type\": \"constructor\", \"id\": [\"langchain\", \"schema\", \"messages\", \"AIMessage\"], \"kwargs\": {\"content\": \"The capital of South Korea is Seoul.\", \"response_metadata\": {\"token_usage\": {\"completion_tokens\": 9, \"prompt_tokens\": 51, \"total_tokens\": 60, \"completion_time\": 0.012, \"prompt_time\": 0.003112824, \"queue_time\": 0.012515315999999999, \"total_time\": 0.015112824}, \"model_name\": \"llama-3.1-8b-instant\", \"system_fingerprint\": \"fp_f66ccb39ec\", \"finish_reason\": \"stop\", \"logprobs\": null}, \"type\": \"ai\", \"id\": \"run-dd94e8f0-d959-44cd-a52e-e86b5c0542ec-0\", \"usage_metadata\": {\"input_tokens\": 51, \"output_tokens\": 9, \"total_tokens\": 60}, \"tool_calls\": [], \"invalid_tool_calls\": []}}}}, \"step\": 1, \"parents\": {}}')\n",
      "('1', '', '1efa9256-6c53-6874-8002-a4595c009c4a', '1efa9256-6c32-6a17-8001-307982d82df7', 'msgpack', b'\\x87\\xa1v\\x01\\xa2ts\\xd9 2024-11-22T22:59:17.485989+00:00\\xa2id\\xd9$1efa9256-6c53-6874-8002-a4595c009c4a\\xaechannel_values\\x82\\xa8messages\\x93\\xc7\\xbc\\x05\\x94\\xbalangchain_core.messages.ai\\xa9AIMessage\\x8a\\xa7content\\xa3Hi.\\xb1additional_kwargs\\x80\\xb1response_metadata\\x80\\xa4type\\xa2ai\\xa4name\\xa3Bot\\xa2id\\xa10\\xa7example\\xc2\\xaatool_calls\\x90\\xb2invalid_tool_calls\\x90\\xaeusage_metadata\\xc0\\xb3model_validate_json\\xc7\\xb6\\x05\\x94\\xbdlangchain_core.messages.human\\xacHumanMessage\\x87\\xa7content\\xd9#what is the capital of south korea?\\xb1additional_kwargs\\x80\\xb1response_metadata\\x80\\xa4type\\xa5human\\xa4name\\xa3Kim\\xa2id\\xa11\\xa7example\\xc2\\xb3model_validate_json\\xc8\\x02!\\x05\\x94\\xbalangchain_core.messages.ai\\xa9AIMessage\\x8a\\xa7content\\xd9$The capital of South Korea is Seoul.\\xb1additional_kwargs\\x80\\xb1response_metadata\\x85\\xabtoken_usage\\x87\\xb1completion_tokens\\t\\xadprompt_tokens3\\xactotal_tokens<\\xafcompletion_time\\xcb?\\x88\\x93t\\xbcj~\\xfa\\xabprompt_time\\xcb?i\\x80\\x10\\xa8\\xe7\\x0b\\xe0\\xaaqueue_time\\xcb?\\x89\\xa1\\xa1GZT\\x00\\xaatotal_time\\xcb?\\x8e\\xf3x\\xe6\\xa4A\\xf2\\xaamodel_name\\xb4llama-3.1-8b-instant\\xb2system_fingerprint\\xadfp_f66ccb39ec\\xadfinish_reason\\xa4stop\\xa8logprobs\\xc0\\xa4type\\xa2ai\\xa4name\\xc0\\xa2id\\xd9*run-dd94e8f0-d959-44cd-a52e-e86b5c0542ec-0\\xa7example\\xc2\\xaatool_calls\\x90\\xb2invalid_tool_calls\\x90\\xaeusage_metadata\\x83\\xacinput_tokens3\\xadoutput_tokens\\t\\xactotal_tokens<\\xb3model_validate_json\\xa9__start__\\x81\\xa8messages\\x94\\xc7\\xbc\\x05\\x94\\xbalangchain_core.messages.ai\\xa9AIMessage\\x8a\\xa7content\\xa3Hi.\\xb1additional_kwargs\\x80\\xb1response_metadata\\x80\\xa4type\\xa2ai\\xa4name\\xa3Bot\\xa2id\\xa10\\xa7example\\xc2\\xaatool_calls\\x90\\xb2invalid_tool_calls\\x90\\xaeusage_metadata\\xc0\\xb3model_validate_json\\xc7\\xb6\\x05\\x94\\xbdlangchain_core.messages.human\\xacHumanMessage\\x87\\xa7content\\xd9#what is the capital of south korea?\\xb1additional_kwargs\\x80\\xb1response_metadata\\x80\\xa4type\\xa5human\\xa4name\\xa3Kim\\xa2id\\xa11\\xa7example\\xc2\\xb3model_validate_json\\xc8\\x02!\\x05\\x94\\xbalangchain_core.messages.ai\\xa9AIMessage\\x8a\\xa7content\\xd9$The capital of South Korea is Seoul.\\xb1additional_kwargs\\x80\\xb1response_metadata\\x85\\xabtoken_usage\\x87\\xb1completion_tokens\\t\\xadprompt_tokens3\\xactotal_tokens<\\xafcompletion_time\\xcb?\\x88\\x93t\\xbcj~\\xfa\\xabprompt_time\\xcb?i\\x80\\x10\\xa8\\xe7\\x0b\\xe0\\xaaqueue_time\\xcb?\\x89\\xa1\\xa1GZT\\x00\\xaatotal_time\\xcb?\\x8e\\xf3x\\xe6\\xa4A\\xf2\\xaamodel_name\\xb4llama-3.1-8b-instant\\xb2system_fingerprint\\xadfp_f66ccb39ec\\xadfinish_reason\\xa4stop\\xa8logprobs\\xc0\\xa4type\\xa2ai\\xa4name\\xc0\\xa2id\\xd9*run-dd94e8f0-d959-44cd-a52e-e86b5c0542ec-0\\xa7example\\xc2\\xaatool_calls\\x90\\xb2invalid_tool_calls\\x90\\xaeusage_metadata\\x83\\xacinput_tokens3\\xadoutput_tokens\\t\\xactotal_tokens<\\xb3model_validate_json\\xc7\\xaf\\x05\\x94\\xbdlangchain_core.messages.human\\xacHumanMessage\\x87\\xa7content\\xbdwhat is the capital of japan?\\xb1additional_kwargs\\x80\\xb1response_metadata\\x80\\xa4type\\xa5human\\xa4name\\xa3Kim\\xa2id\\xa13\\xa7example\\xc2\\xb3model_validate_json\\xb0channel_versions\\x84\\xa9__start__\\xd9300000000000000000000000000000004.0.5560052315072407\\xa8messages\\xd9200000000000000000000000000000003.0.251656920900999\\xb2start:conversation\\xd9300000000000000000000000000000003.0.9946052260839598\\xacconversation\\xd9200000000000000000000000000000004.0.788193790126197\\xadversions_seen\\x83\\xa9__input__\\x80\\xa9__start__\\x81\\xa9__start__\\xd9300000000000000000000000000000001.0.8772266582026554\\xacconversation\\x81\\xb2start:conversation\\xd9300000000000000000000000000000002.0.9818710053247244\\xadpending_sends\\x90', b'{\"source\": \"input\", \"writes\": {\"__start__\": {\"messages\": [{\"lc\": 1, \"type\": \"constructor\", \"id\": [\"langchain\", \"schema\", \"messages\", \"AIMessage\"], \"kwargs\": {\"content\": \"Hi.\", \"type\": \"ai\", \"name\": \"Bot\", \"id\": \"0\", \"tool_calls\": [], \"invalid_tool_calls\": []}}, {\"lc\": 1, \"type\": \"constructor\", \"id\": [\"langchain\", \"schema\", \"messages\", \"HumanMessage\"], \"kwargs\": {\"content\": \"what is the capital of south korea?\", \"type\": \"human\", \"name\": \"Kim\", \"id\": \"1\"}}, {\"lc\": 1, \"type\": \"constructor\", \"id\": [\"langchain\", \"schema\", \"messages\", \"AIMessage\"], \"kwargs\": {\"content\": \"The capital of South Korea is Seoul.\", \"response_metadata\": {\"token_usage\": {\"completion_tokens\": 9, \"prompt_tokens\": 51, \"total_tokens\": 60, \"completion_time\": 0.012, \"prompt_time\": 0.003112824, \"queue_time\": 0.012515315999999999, \"total_time\": 0.015112824}, \"model_name\": \"llama-3.1-8b-instant\", \"system_fingerprint\": \"fp_f66ccb39ec\", \"finish_reason\": \"stop\", \"logprobs\": null}, \"type\": \"ai\", \"id\": \"run-dd94e8f0-d959-44cd-a52e-e86b5c0542ec-0\", \"usage_metadata\": {\"input_tokens\": 51, \"output_tokens\": 9, \"total_tokens\": 60}, \"tool_calls\": [], \"invalid_tool_calls\": []}}, {\"lc\": 1, \"type\": \"constructor\", \"id\": [\"langchain\", \"schema\", \"messages\", \"HumanMessage\"], \"kwargs\": {\"content\": \"what is the capital of japan?\", \"type\": \"human\", \"name\": \"Kim\", \"id\": \"3\"}}]}}, \"step\": 2, \"parents\": {}}')\n",
      "('1', '', '1efa9256-6c59-6872-8003-b93d9106b1f6', '1efa9256-6c53-6874-8002-a4595c009c4a', 'msgpack', b'\\x87\\xa1v\\x01\\xa2ts\\xd9 2024-11-22T22:59:17.488446+00:00\\xa2id\\xd9$1efa9256-6c59-6872-8003-b93d9106b1f6\\xaechannel_values\\x82\\xa8messages\\x94\\xc7\\xbc\\x05\\x94\\xbalangchain_core.messages.ai\\xa9AIMessage\\x8a\\xa7content\\xa3Hi.\\xb1additional_kwargs\\x80\\xb1response_metadata\\x80\\xa4type\\xa2ai\\xa4name\\xa3Bot\\xa2id\\xa10\\xa7example\\xc2\\xaatool_calls\\x90\\xb2invalid_tool_calls\\x90\\xaeusage_metadata\\xc0\\xb3model_validate_json\\xc7\\xb6\\x05\\x94\\xbdlangchain_core.messages.human\\xacHumanMessage\\x87\\xa7content\\xd9#what is the capital of south korea?\\xb1additional_kwargs\\x80\\xb1response_metadata\\x80\\xa4type\\xa5human\\xa4name\\xa3Kim\\xa2id\\xa11\\xa7example\\xc2\\xb3model_validate_json\\xc8\\x02!\\x05\\x94\\xbalangchain_core.messages.ai\\xa9AIMessage\\x8a\\xa7content\\xd9$The capital of South Korea is Seoul.\\xb1additional_kwargs\\x80\\xb1response_metadata\\x85\\xabtoken_usage\\x87\\xb1completion_tokens\\t\\xadprompt_tokens3\\xactotal_tokens<\\xafcompletion_time\\xcb?\\x88\\x93t\\xbcj~\\xfa\\xabprompt_time\\xcb?i\\x80\\x10\\xa8\\xe7\\x0b\\xe0\\xaaqueue_time\\xcb?\\x89\\xa1\\xa1GZT\\x00\\xaatotal_time\\xcb?\\x8e\\xf3x\\xe6\\xa4A\\xf2\\xaamodel_name\\xb4llama-3.1-8b-instant\\xb2system_fingerprint\\xadfp_f66ccb39ec\\xadfinish_reason\\xa4stop\\xa8logprobs\\xc0\\xa4type\\xa2ai\\xa4name\\xc0\\xa2id\\xd9*run-dd94e8f0-d959-44cd-a52e-e86b5c0542ec-0\\xa7example\\xc2\\xaatool_calls\\x90\\xb2invalid_tool_calls\\x90\\xaeusage_metadata\\x83\\xacinput_tokens3\\xadoutput_tokens\\t\\xactotal_tokens<\\xb3model_validate_json\\xc7\\xaf\\x05\\x94\\xbdlangchain_core.messages.human\\xacHumanMessage\\x87\\xa7content\\xbdwhat is the capital of japan?\\xb1additional_kwargs\\x80\\xb1response_metadata\\x80\\xa4type\\xa5human\\xa4name\\xa3Kim\\xa2id\\xa13\\xa7example\\xc2\\xb3model_validate_json\\xb2start:conversation\\xa9__start__\\xb0channel_versions\\x84\\xa9__start__\\xd9400000000000000000000000000000005.0.21396915845465347\\xa8messages\\xd9300000000000000000000000000000005.0.9062529709485122\\xb2start:conversation\\xd9200000000000000000000000000000005.0.297435571307344\\xacconversation\\xd9200000000000000000000000000000004.0.788193790126197\\xadversions_seen\\x83\\xa9__input__\\x80\\xa9__start__\\x81\\xa9__start__\\xd9300000000000000000000000000000004.0.5560052315072407\\xacconversation\\x81\\xb2start:conversation\\xd9300000000000000000000000000000002.0.9818710053247244\\xadpending_sends\\x90', b'{\"source\": \"loop\", \"writes\": null, \"step\": 3, \"parents\": {}}')\n",
      "('1', '', '1efa9256-6ea6-60d8-8004-fce9133b28f2', '1efa9256-6c59-6872-8003-b93d9106b1f6', 'msgpack', b'\\x87\\xa1v\\x01\\xa2ts\\xd9 2024-11-22T22:59:17.729506+00:00\\xa2id\\xd9$1efa9256-6ea6-60d8-8004-fce9133b28f2\\xaechannel_values\\x82\\xa8messages\\x95\\xc7\\xbc\\x05\\x94\\xbalangchain_core.messages.ai\\xa9AIMessage\\x8a\\xa7content\\xa3Hi.\\xb1additional_kwargs\\x80\\xb1response_metadata\\x80\\xa4type\\xa2ai\\xa4name\\xa3Bot\\xa2id\\xa10\\xa7example\\xc2\\xaatool_calls\\x90\\xb2invalid_tool_calls\\x90\\xaeusage_metadata\\xc0\\xb3model_validate_json\\xc7\\xb6\\x05\\x94\\xbdlangchain_core.messages.human\\xacHumanMessage\\x87\\xa7content\\xd9#what is the capital of south korea?\\xb1additional_kwargs\\x80\\xb1response_metadata\\x80\\xa4type\\xa5human\\xa4name\\xa3Kim\\xa2id\\xa11\\xa7example\\xc2\\xb3model_validate_json\\xc8\\x02!\\x05\\x94\\xbalangchain_core.messages.ai\\xa9AIMessage\\x8a\\xa7content\\xd9$The capital of South Korea is Seoul.\\xb1additional_kwargs\\x80\\xb1response_metadata\\x85\\xabtoken_usage\\x87\\xb1completion_tokens\\t\\xadprompt_tokens3\\xactotal_tokens<\\xafcompletion_time\\xcb?\\x88\\x93t\\xbcj~\\xfa\\xabprompt_time\\xcb?i\\x80\\x10\\xa8\\xe7\\x0b\\xe0\\xaaqueue_time\\xcb?\\x89\\xa1\\xa1GZT\\x00\\xaatotal_time\\xcb?\\x8e\\xf3x\\xe6\\xa4A\\xf2\\xaamodel_name\\xb4llama-3.1-8b-instant\\xb2system_fingerprint\\xadfp_f66ccb39ec\\xadfinish_reason\\xa4stop\\xa8logprobs\\xc0\\xa4type\\xa2ai\\xa4name\\xc0\\xa2id\\xd9*run-dd94e8f0-d959-44cd-a52e-e86b5c0542ec-0\\xa7example\\xc2\\xaatool_calls\\x90\\xb2invalid_tool_calls\\x90\\xaeusage_metadata\\x83\\xacinput_tokens3\\xadoutput_tokens\\t\\xactotal_tokens<\\xb3model_validate_json\\xc7\\xaf\\x05\\x94\\xbdlangchain_core.messages.human\\xacHumanMessage\\x87\\xa7content\\xbdwhat is the capital of japan?\\xb1additional_kwargs\\x80\\xb1response_metadata\\x80\\xa4type\\xa5human\\xa4name\\xa3Kim\\xa2id\\xa13\\xa7example\\xc2\\xb3model_validate_json\\xc8\\x02\\x1a\\x05\\x94\\xbalangchain_core.messages.ai\\xa9AIMessage\\x8a\\xa7content\\xbeThe capital of Japan is Tokyo.\\xb1additional_kwargs\\x80\\xb1response_metadata\\x85\\xabtoken_usage\\x87\\xb1completion_tokens\\x08\\xadprompt_tokensL\\xactotal_tokensT\\xafcompletion_time\\xcb?\\x85\\xd8g\\xcf`\\xea\\x95\\xabprompt_time\\xcb?\\x85;U@\\xa44\\xfe\\xaaqueue_time\\xcb?\\xaa\\xf3\\t!\\x91\\xcb\\x18\\xaatotal_time\\xcb?\\x95\\x89\\xde\\x88\\x02\\x8f\\xca\\xaamodel_name\\xb4llama-3.1-8b-instant\\xb2system_fingerprint\\xadfp_9cb648b966\\xadfinish_reason\\xa4stop\\xa8logprobs\\xc0\\xa4type\\xa2ai\\xa4name\\xc0\\xa2id\\xd9*run-cc4070c0-4aa9-484c-9539-9427fb9dd4de-0\\xa7example\\xc2\\xaatool_calls\\x90\\xb2invalid_tool_calls\\x90\\xaeusage_metadata\\x83\\xacinput_tokensL\\xadoutput_tokens\\x08\\xactotal_tokensT\\xb3model_validate_json\\xacconversation\\xacconversation\\xb0channel_versions\\x84\\xa9__start__\\xd9400000000000000000000000000000005.0.21396915845465347\\xa8messages\\xd9300000000000000000000000000000006.0.2295221008912729\\xb2start:conversation\\xd9300000000000000000000000000000006.0.5324672277500719\\xacconversation\\xd9200000000000000000000000000000006.0.655190175994247\\xadversions_seen\\x83\\xa9__input__\\x80\\xa9__start__\\x81\\xa9__start__\\xd9300000000000000000000000000000004.0.5560052315072407\\xacconversation\\x81\\xb2start:conversation\\xd9200000000000000000000000000000005.0.297435571307344\\xadpending_sends\\x90', b'{\"source\": \"loop\", \"writes\": {\"conversation\": {\"messages\": {\"lc\": 1, \"type\": \"constructor\", \"id\": [\"langchain\", \"schema\", \"messages\", \"AIMessage\"], \"kwargs\": {\"content\": \"The capital of Japan is Tokyo.\", \"response_metadata\": {\"token_usage\": {\"completion_tokens\": 8, \"prompt_tokens\": 76, \"total_tokens\": 84, \"completion_time\": 0.010666667, \"prompt_time\": 0.010367075, \"queue_time\": 0.05263546499999999, \"total_time\": 0.021033742}, \"model_name\": \"llama-3.1-8b-instant\", \"system_fingerprint\": \"fp_9cb648b966\", \"finish_reason\": \"stop\", \"logprobs\": null}, \"type\": \"ai\", \"id\": \"run-cc4070c0-4aa9-484c-9539-9427fb9dd4de-0\", \"usage_metadata\": {\"input_tokens\": 76, \"output_tokens\": 8, \"total_tokens\": 84}, \"tool_calls\": [], \"invalid_tool_calls\": []}}}}, \"step\": 4, \"parents\": {}}')\n",
      "('1', '', '1efa9256-6ed0-6523-8005-5678012ed4e2', '1efa9256-6ea6-60d8-8004-fce9133b28f2', 'msgpack', b'\\x87\\xa1v\\x01\\xa2ts\\xd9 2024-11-22T22:59:17.746819+00:00\\xa2id\\xd9$1efa9256-6ed0-6523-8005-5678012ed4e2\\xaechannel_values\\x82\\xa8messages\\x95\\xc7\\xbc\\x05\\x94\\xbalangchain_core.messages.ai\\xa9AIMessage\\x8a\\xa7content\\xa3Hi.\\xb1additional_kwargs\\x80\\xb1response_metadata\\x80\\xa4type\\xa2ai\\xa4name\\xa3Bot\\xa2id\\xa10\\xa7example\\xc2\\xaatool_calls\\x90\\xb2invalid_tool_calls\\x90\\xaeusage_metadata\\xc0\\xb3model_validate_json\\xc7\\xb6\\x05\\x94\\xbdlangchain_core.messages.human\\xacHumanMessage\\x87\\xa7content\\xd9#what is the capital of south korea?\\xb1additional_kwargs\\x80\\xb1response_metadata\\x80\\xa4type\\xa5human\\xa4name\\xa3Kim\\xa2id\\xa11\\xa7example\\xc2\\xb3model_validate_json\\xc8\\x02!\\x05\\x94\\xbalangchain_core.messages.ai\\xa9AIMessage\\x8a\\xa7content\\xd9$The capital of South Korea is Seoul.\\xb1additional_kwargs\\x80\\xb1response_metadata\\x85\\xabtoken_usage\\x87\\xb1completion_tokens\\t\\xadprompt_tokens3\\xactotal_tokens<\\xafcompletion_time\\xcb?\\x88\\x93t\\xbcj~\\xfa\\xabprompt_time\\xcb?i\\x80\\x10\\xa8\\xe7\\x0b\\xe0\\xaaqueue_time\\xcb?\\x89\\xa1\\xa1GZT\\x00\\xaatotal_time\\xcb?\\x8e\\xf3x\\xe6\\xa4A\\xf2\\xaamodel_name\\xb4llama-3.1-8b-instant\\xb2system_fingerprint\\xadfp_f66ccb39ec\\xadfinish_reason\\xa4stop\\xa8logprobs\\xc0\\xa4type\\xa2ai\\xa4name\\xc0\\xa2id\\xd9*run-dd94e8f0-d959-44cd-a52e-e86b5c0542ec-0\\xa7example\\xc2\\xaatool_calls\\x90\\xb2invalid_tool_calls\\x90\\xaeusage_metadata\\x83\\xacinput_tokens3\\xadoutput_tokens\\t\\xactotal_tokens<\\xb3model_validate_json\\xc7\\xaf\\x05\\x94\\xbdlangchain_core.messages.human\\xacHumanMessage\\x87\\xa7content\\xbdwhat is the capital of japan?\\xb1additional_kwargs\\x80\\xb1response_metadata\\x80\\xa4type\\xa5human\\xa4name\\xa3Kim\\xa2id\\xa13\\xa7example\\xc2\\xb3model_validate_json\\xc8\\x02\\x1a\\x05\\x94\\xbalangchain_core.messages.ai\\xa9AIMessage\\x8a\\xa7content\\xbeThe capital of Japan is Tokyo.\\xb1additional_kwargs\\x80\\xb1response_metadata\\x85\\xabtoken_usage\\x87\\xb1completion_tokens\\x08\\xadprompt_tokensL\\xactotal_tokensT\\xafcompletion_time\\xcb?\\x85\\xd8g\\xcf`\\xea\\x95\\xabprompt_time\\xcb?\\x85;U@\\xa44\\xfe\\xaaqueue_time\\xcb?\\xaa\\xf3\\t!\\x91\\xcb\\x18\\xaatotal_time\\xcb?\\x95\\x89\\xde\\x88\\x02\\x8f\\xca\\xaamodel_name\\xb4llama-3.1-8b-instant\\xb2system_fingerprint\\xadfp_9cb648b966\\xadfinish_reason\\xa4stop\\xa8logprobs\\xc0\\xa4type\\xa2ai\\xa4name\\xc0\\xa2id\\xd9*run-cc4070c0-4aa9-484c-9539-9427fb9dd4de-0\\xa7example\\xc2\\xaatool_calls\\x90\\xb2invalid_tool_calls\\x90\\xaeusage_metadata\\x83\\xacinput_tokensL\\xadoutput_tokens\\x08\\xactotal_tokensT\\xb3model_validate_json\\xa9__start__\\x81\\xa8messages\\x96\\xc7\\xbc\\x05\\x94\\xbalangchain_core.messages.ai\\xa9AIMessage\\x8a\\xa7content\\xa3Hi.\\xb1additional_kwargs\\x80\\xb1response_metadata\\x80\\xa4type\\xa2ai\\xa4name\\xa3Bot\\xa2id\\xa10\\xa7example\\xc2\\xaatool_calls\\x90\\xb2invalid_tool_calls\\x90\\xaeusage_metadata\\xc0\\xb3model_validate_json\\xc7\\xb6\\x05\\x94\\xbdlangchain_core.messages.human\\xacHumanMessage\\x87\\xa7content\\xd9#what is the capital of south korea?\\xb1additional_kwargs\\x80\\xb1response_metadata\\x80\\xa4type\\xa5human\\xa4name\\xa3Kim\\xa2id\\xa11\\xa7example\\xc2\\xb3model_validate_json\\xc8\\x02!\\x05\\x94\\xbalangchain_core.messages.ai\\xa9AIMessage\\x8a\\xa7content\\xd9$The capital of South Korea is Seoul.\\xb1additional_kwargs\\x80\\xb1response_metadata\\x85\\xabtoken_usage\\x87\\xb1completion_tokens\\t\\xadprompt_tokens3\\xactotal_tokens<\\xafcompletion_time\\xcb?\\x88\\x93t\\xbcj~\\xfa\\xabprompt_time\\xcb?i\\x80\\x10\\xa8\\xe7\\x0b\\xe0\\xaaqueue_time\\xcb?\\x89\\xa1\\xa1GZT\\x00\\xaatotal_time\\xcb?\\x8e\\xf3x\\xe6\\xa4A\\xf2\\xaamodel_name\\xb4llama-3.1-8b-instant\\xb2system_fingerprint\\xadfp_f66ccb39ec\\xadfinish_reason\\xa4stop\\xa8logprobs\\xc0\\xa4type\\xa2ai\\xa4name\\xc0\\xa2id\\xd9*run-dd94e8f0-d959-44cd-a52e-e86b5c0542ec-0\\xa7example\\xc2\\xaatool_calls\\x90\\xb2invalid_tool_calls\\x90\\xaeusage_metadata\\x83\\xacinput_tokens3\\xadoutput_tokens\\t\\xactotal_tokens<\\xb3model_validate_json\\xc7\\xaf\\x05\\x94\\xbdlangchain_core.messages.human\\xacHumanMessage\\x87\\xa7content\\xbdwhat is the capital of japan?\\xb1additional_kwargs\\x80\\xb1response_metadata\\x80\\xa4type\\xa5human\\xa4name\\xa3Kim\\xa2id\\xa13\\xa7example\\xc2\\xb3model_validate_json\\xc8\\x02\\x1a\\x05\\x94\\xbalangchain_core.messages.ai\\xa9AIMessage\\x8a\\xa7content\\xbeThe capital of Japan is Tokyo.\\xb1additional_kwargs\\x80\\xb1response_metadata\\x85\\xabtoken_usage\\x87\\xb1completion_tokens\\x08\\xadprompt_tokensL\\xactotal_tokensT\\xafcompletion_time\\xcb?\\x85\\xd8g\\xcf`\\xea\\x95\\xabprompt_time\\xcb?\\x85;U@\\xa44\\xfe\\xaaqueue_time\\xcb?\\xaa\\xf3\\t!\\x91\\xcb\\x18\\xaatotal_time\\xcb?\\x95\\x89\\xde\\x88\\x02\\x8f\\xca\\xaamodel_name\\xb4llama-3.1-8b-instant\\xb2system_fingerprint\\xadfp_9cb648b966\\xadfinish_reason\\xa4stop\\xa8logprobs\\xc0\\xa4type\\xa2ai\\xa4name\\xc0\\xa2id\\xd9*run-cc4070c0-4aa9-484c-9539-9427fb9dd4de-0\\xa7example\\xc2\\xaatool_calls\\x90\\xb2invalid_tool_calls\\x90\\xaeusage_metadata\\x83\\xacinput_tokensL\\xadoutput_tokens\\x08\\xactotal_tokensT\\xb3model_validate_json\\xc7\\xaf\\x05\\x94\\xbdlangchain_core.messages.human\\xacHumanMessage\\x87\\xa7content\\xbdwhat is the capital of china?\\xb1additional_kwargs\\x80\\xb1response_metadata\\x80\\xa4type\\xa5human\\xa4name\\xa3Kim\\xa2id\\xa15\\xa7example\\xc2\\xb3model_validate_json\\xb0channel_versions\\x84\\xa9__start__\\xd9200000000000000000000000000000007.0.364058899278239\\xa8messages\\xd9300000000000000000000000000000006.0.2295221008912729\\xb2start:conversation\\xd9300000000000000000000000000000006.0.5324672277500719\\xacconversation\\xd9400000000000000000000000000000007.0.30838711280847864\\xadversions_seen\\x83\\xa9__input__\\x80\\xa9__start__\\x81\\xa9__start__\\xd9300000000000000000000000000000004.0.5560052315072407\\xacconversation\\x81\\xb2start:conversation\\xd9200000000000000000000000000000005.0.297435571307344\\xadpending_sends\\x90', b'{\"source\": \"input\", \"writes\": {\"__start__\": {\"messages\": [{\"lc\": 1, \"type\": \"constructor\", \"id\": [\"langchain\", \"schema\", \"messages\", \"AIMessage\"], \"kwargs\": {\"content\": \"Hi.\", \"type\": \"ai\", \"name\": \"Bot\", \"id\": \"0\", \"tool_calls\": [], \"invalid_tool_calls\": []}}, {\"lc\": 1, \"type\": \"constructor\", \"id\": [\"langchain\", \"schema\", \"messages\", \"HumanMessage\"], \"kwargs\": {\"content\": \"what is the capital of south korea?\", \"type\": \"human\", \"name\": \"Kim\", \"id\": \"1\"}}, {\"lc\": 1, \"type\": \"constructor\", \"id\": [\"langchain\", \"schema\", \"messages\", \"AIMessage\"], \"kwargs\": {\"content\": \"The capital of South Korea is Seoul.\", \"response_metadata\": {\"token_usage\": {\"completion_tokens\": 9, \"prompt_tokens\": 51, \"total_tokens\": 60, \"completion_time\": 0.012, \"prompt_time\": 0.003112824, \"queue_time\": 0.012515315999999999, \"total_time\": 0.015112824}, \"model_name\": \"llama-3.1-8b-instant\", \"system_fingerprint\": \"fp_f66ccb39ec\", \"finish_reason\": \"stop\", \"logprobs\": null}, \"type\": \"ai\", \"id\": \"run-dd94e8f0-d959-44cd-a52e-e86b5c0542ec-0\", \"usage_metadata\": {\"input_tokens\": 51, \"output_tokens\": 9, \"total_tokens\": 60}, \"tool_calls\": [], \"invalid_tool_calls\": []}}, {\"lc\": 1, \"type\": \"constructor\", \"id\": [\"langchain\", \"schema\", \"messages\", \"HumanMessage\"], \"kwargs\": {\"content\": \"what is the capital of japan?\", \"type\": \"human\", \"name\": \"Kim\", \"id\": \"3\"}}, {\"lc\": 1, \"type\": \"constructor\", \"id\": [\"langchain\", \"schema\", \"messages\", \"AIMessage\"], \"kwargs\": {\"content\": \"The capital of Japan is Tokyo.\", \"response_metadata\": {\"token_usage\": {\"completion_tokens\": 8, \"prompt_tokens\": 76, \"total_tokens\": 84, \"completion_time\": 0.010666667, \"prompt_time\": 0.010367075, \"queue_time\": 0.05263546499999999, \"total_time\": 0.021033742}, \"model_name\": \"llama-3.1-8b-instant\", \"system_fingerprint\": \"fp_9cb648b966\", \"finish_reason\": \"stop\", \"logprobs\": null}, \"type\": \"ai\", \"id\": \"run-cc4070c0-4aa9-484c-9539-9427fb9dd4de-0\", \"usage_metadata\": {\"input_tokens\": 76, \"output_tokens\": 8, \"total_tokens\": 84}, \"tool_calls\": [], \"invalid_tool_calls\": []}}, {\"lc\": 1, \"type\": \"constructor\", \"id\": [\"langchain\", \"schema\", \"messages\", \"HumanMessage\"], \"kwargs\": {\"content\": \"what is the capital of china?\", \"type\": \"human\", \"name\": \"Kim\", \"id\": \"5\"}}]}}, \"step\": 5, \"parents\": {}}')\n",
      "('1', '', '1efa9256-6ed6-6763-8006-cbcdbf36cec4', '1efa9256-6ed0-6523-8005-5678012ed4e2', 'msgpack', b'\\x87\\xa1v\\x01\\xa2ts\\xd9 2024-11-22T22:59:17.749334+00:00\\xa2id\\xd9$1efa9256-6ed6-6763-8006-cbcdbf36cec4\\xaechannel_values\\x82\\xa8messages\\x96\\xc7\\xbc\\x05\\x94\\xbalangchain_core.messages.ai\\xa9AIMessage\\x8a\\xa7content\\xa3Hi.\\xb1additional_kwargs\\x80\\xb1response_metadata\\x80\\xa4type\\xa2ai\\xa4name\\xa3Bot\\xa2id\\xa10\\xa7example\\xc2\\xaatool_calls\\x90\\xb2invalid_tool_calls\\x90\\xaeusage_metadata\\xc0\\xb3model_validate_json\\xc7\\xb6\\x05\\x94\\xbdlangchain_core.messages.human\\xacHumanMessage\\x87\\xa7content\\xd9#what is the capital of south korea?\\xb1additional_kwargs\\x80\\xb1response_metadata\\x80\\xa4type\\xa5human\\xa4name\\xa3Kim\\xa2id\\xa11\\xa7example\\xc2\\xb3model_validate_json\\xc8\\x02!\\x05\\x94\\xbalangchain_core.messages.ai\\xa9AIMessage\\x8a\\xa7content\\xd9$The capital of South Korea is Seoul.\\xb1additional_kwargs\\x80\\xb1response_metadata\\x85\\xabtoken_usage\\x87\\xb1completion_tokens\\t\\xadprompt_tokens3\\xactotal_tokens<\\xafcompletion_time\\xcb?\\x88\\x93t\\xbcj~\\xfa\\xabprompt_time\\xcb?i\\x80\\x10\\xa8\\xe7\\x0b\\xe0\\xaaqueue_time\\xcb?\\x89\\xa1\\xa1GZT\\x00\\xaatotal_time\\xcb?\\x8e\\xf3x\\xe6\\xa4A\\xf2\\xaamodel_name\\xb4llama-3.1-8b-instant\\xb2system_fingerprint\\xadfp_f66ccb39ec\\xadfinish_reason\\xa4stop\\xa8logprobs\\xc0\\xa4type\\xa2ai\\xa4name\\xc0\\xa2id\\xd9*run-dd94e8f0-d959-44cd-a52e-e86b5c0542ec-0\\xa7example\\xc2\\xaatool_calls\\x90\\xb2invalid_tool_calls\\x90\\xaeusage_metadata\\x83\\xacinput_tokens3\\xadoutput_tokens\\t\\xactotal_tokens<\\xb3model_validate_json\\xc7\\xaf\\x05\\x94\\xbdlangchain_core.messages.human\\xacHumanMessage\\x87\\xa7content\\xbdwhat is the capital of japan?\\xb1additional_kwargs\\x80\\xb1response_metadata\\x80\\xa4type\\xa5human\\xa4name\\xa3Kim\\xa2id\\xa13\\xa7example\\xc2\\xb3model_validate_json\\xc8\\x02\\x1a\\x05\\x94\\xbalangchain_core.messages.ai\\xa9AIMessage\\x8a\\xa7content\\xbeThe capital of Japan is Tokyo.\\xb1additional_kwargs\\x80\\xb1response_metadata\\x85\\xabtoken_usage\\x87\\xb1completion_tokens\\x08\\xadprompt_tokensL\\xactotal_tokensT\\xafcompletion_time\\xcb?\\x85\\xd8g\\xcf`\\xea\\x95\\xabprompt_time\\xcb?\\x85;U@\\xa44\\xfe\\xaaqueue_time\\xcb?\\xaa\\xf3\\t!\\x91\\xcb\\x18\\xaatotal_time\\xcb?\\x95\\x89\\xde\\x88\\x02\\x8f\\xca\\xaamodel_name\\xb4llama-3.1-8b-instant\\xb2system_fingerprint\\xadfp_9cb648b966\\xadfinish_reason\\xa4stop\\xa8logprobs\\xc0\\xa4type\\xa2ai\\xa4name\\xc0\\xa2id\\xd9*run-cc4070c0-4aa9-484c-9539-9427fb9dd4de-0\\xa7example\\xc2\\xaatool_calls\\x90\\xb2invalid_tool_calls\\x90\\xaeusage_metadata\\x83\\xacinput_tokensL\\xadoutput_tokens\\x08\\xactotal_tokensT\\xb3model_validate_json\\xc7\\xaf\\x05\\x94\\xbdlangchain_core.messages.human\\xacHumanMessage\\x87\\xa7content\\xbdwhat is the capital of china?\\xb1additional_kwargs\\x80\\xb1response_metadata\\x80\\xa4type\\xa5human\\xa4name\\xa3Kim\\xa2id\\xa15\\xa7example\\xc2\\xb3model_validate_json\\xb2start:conversation\\xa9__start__\\xb0channel_versions\\x84\\xa9__start__\\xd9500000000000000000000000000000008.0.061863058456391506\\xa8messages\\xd9300000000000000000000000000000008.0.8629902404722821\\xb2start:conversation\\xd9400000000000000000000000000000008.0.16232047941980132\\xacconversation\\xd9400000000000000000000000000000007.0.30838711280847864\\xadversions_seen\\x83\\xa9__input__\\x80\\xa9__start__\\x81\\xa9__start__\\xd9200000000000000000000000000000007.0.364058899278239\\xacconversation\\x81\\xb2start:conversation\\xd9200000000000000000000000000000005.0.297435571307344\\xadpending_sends\\x90', b'{\"source\": \"loop\", \"writes\": null, \"step\": 6, \"parents\": {}}')\n",
      "('1', '', '1efa9256-70b7-6447-8007-a5643034a117', '1efa9256-6ed6-6763-8006-cbcdbf36cec4', 'msgpack', b'\\x87\\xa1v\\x01\\xa2ts\\xd9 2024-11-22T22:59:17.946272+00:00\\xa2id\\xd9$1efa9256-70b7-6447-8007-a5643034a117\\xaechannel_values\\x83\\xa8messages\\x97\\xc7\\xbc\\x05\\x94\\xbalangchain_core.messages.ai\\xa9AIMessage\\x8a\\xa7content\\xa3Hi.\\xb1additional_kwargs\\x80\\xb1response_metadata\\x80\\xa4type\\xa2ai\\xa4name\\xa3Bot\\xa2id\\xa10\\xa7example\\xc2\\xaatool_calls\\x90\\xb2invalid_tool_calls\\x90\\xaeusage_metadata\\xc0\\xb3model_validate_json\\xc7\\xb6\\x05\\x94\\xbdlangchain_core.messages.human\\xacHumanMessage\\x87\\xa7content\\xd9#what is the capital of south korea?\\xb1additional_kwargs\\x80\\xb1response_metadata\\x80\\xa4type\\xa5human\\xa4name\\xa3Kim\\xa2id\\xa11\\xa7example\\xc2\\xb3model_validate_json\\xc8\\x02!\\x05\\x94\\xbalangchain_core.messages.ai\\xa9AIMessage\\x8a\\xa7content\\xd9$The capital of South Korea is Seoul.\\xb1additional_kwargs\\x80\\xb1response_metadata\\x85\\xabtoken_usage\\x87\\xb1completion_tokens\\t\\xadprompt_tokens3\\xactotal_tokens<\\xafcompletion_time\\xcb?\\x88\\x93t\\xbcj~\\xfa\\xabprompt_time\\xcb?i\\x80\\x10\\xa8\\xe7\\x0b\\xe0\\xaaqueue_time\\xcb?\\x89\\xa1\\xa1GZT\\x00\\xaatotal_time\\xcb?\\x8e\\xf3x\\xe6\\xa4A\\xf2\\xaamodel_name\\xb4llama-3.1-8b-instant\\xb2system_fingerprint\\xadfp_f66ccb39ec\\xadfinish_reason\\xa4stop\\xa8logprobs\\xc0\\xa4type\\xa2ai\\xa4name\\xc0\\xa2id\\xd9*run-dd94e8f0-d959-44cd-a52e-e86b5c0542ec-0\\xa7example\\xc2\\xaatool_calls\\x90\\xb2invalid_tool_calls\\x90\\xaeusage_metadata\\x83\\xacinput_tokens3\\xadoutput_tokens\\t\\xactotal_tokens<\\xb3model_validate_json\\xc7\\xaf\\x05\\x94\\xbdlangchain_core.messages.human\\xacHumanMessage\\x87\\xa7content\\xbdwhat is the capital of japan?\\xb1additional_kwargs\\x80\\xb1response_metadata\\x80\\xa4type\\xa5human\\xa4name\\xa3Kim\\xa2id\\xa13\\xa7example\\xc2\\xb3model_validate_json\\xc8\\x02\\x1a\\x05\\x94\\xbalangchain_core.messages.ai\\xa9AIMessage\\x8a\\xa7content\\xbeThe capital of Japan is Tokyo.\\xb1additional_kwargs\\x80\\xb1response_metadata\\x85\\xabtoken_usage\\x87\\xb1completion_tokens\\x08\\xadprompt_tokensL\\xactotal_tokensT\\xafcompletion_time\\xcb?\\x85\\xd8g\\xcf`\\xea\\x95\\xabprompt_time\\xcb?\\x85;U@\\xa44\\xfe\\xaaqueue_time\\xcb?\\xaa\\xf3\\t!\\x91\\xcb\\x18\\xaatotal_time\\xcb?\\x95\\x89\\xde\\x88\\x02\\x8f\\xca\\xaamodel_name\\xb4llama-3.1-8b-instant\\xb2system_fingerprint\\xadfp_9cb648b966\\xadfinish_reason\\xa4stop\\xa8logprobs\\xc0\\xa4type\\xa2ai\\xa4name\\xc0\\xa2id\\xd9*run-cc4070c0-4aa9-484c-9539-9427fb9dd4de-0\\xa7example\\xc2\\xaatool_calls\\x90\\xb2invalid_tool_calls\\x90\\xaeusage_metadata\\x83\\xacinput_tokensL\\xadoutput_tokens\\x08\\xactotal_tokensT\\xb3model_validate_json\\xc7\\xaf\\x05\\x94\\xbdlangchain_core.messages.human\\xacHumanMessage\\x87\\xa7content\\xbdwhat is the capital of china?\\xb1additional_kwargs\\x80\\xb1response_metadata\\x80\\xa4type\\xa5human\\xa4name\\xa3Kim\\xa2id\\xa15\\xa7example\\xc2\\xb3model_validate_json\\xc8\\x02\\x1d\\x05\\x94\\xbalangchain_core.messages.ai\\xa9AIMessage\\x8a\\xa7content\\xd9 The capital of China is Beijing.\\xb1additional_kwargs\\x80\\xb1response_metadata\\x85\\xabtoken_usage\\x87\\xb1completion_tokens\\x08\\xadprompt_tokensd\\xactotal_tokensl\\xafcompletion_time\\xcb?\\x85\\xd8g\\xcf`\\xea\\x95\\xabprompt_time\\xcb?\\x86\\xa7\\x02/Q\\x9e\\xa6\\xaaqueue_time\\xcb?m%\\x8fS\\x11\\x16t\\xaatotal_time\\xcb?\\x96?\\xb4\\xffYD\\x9d\\xaamodel_name\\xb4llama-3.1-8b-instant\\xb2system_fingerprint\\xadfp_9cb648b966\\xadfinish_reason\\xa4stop\\xa8logprobs\\xc0\\xa4type\\xa2ai\\xa4name\\xc0\\xa2id\\xd9*run-bd1b983f-bdfe-4fa1-9d62-7cdba7b9b12f-0\\xa7example\\xc2\\xaatool_calls\\x90\\xb2invalid_tool_calls\\x90\\xaeusage_metadata\\x83\\xacinput_tokensd\\xadoutput_tokens\\x08\\xactotal_tokensl\\xb3model_validate_json\\xacconversation\\xacconversation\\xd9:branch:conversation:should_continue:summarize_conversation\\xacconversation\\xb0channel_versions\\x85\\xa9__start__\\xd9500000000000000000000000000000008.0.061863058456391506\\xa8messages\\xd9600000000000000000000000000000009.0.0020967729787790823\\xb2start:conversation\\xd9300000000000000000000000000000009.0.6230075331018771\\xacconversation\\xd9300000000000000000000000000000009.0.4796870630125851\\xd9:branch:conversation:should_continue:summarize_conversation\\xd9400000000000000000000000000000009.0.37772830856744966\\xadversions_seen\\x83\\xa9__input__\\x80\\xa9__start__\\x81\\xa9__start__\\xd9200000000000000000000000000000007.0.364058899278239\\xacconversation\\x81\\xb2start:conversation\\xd9400000000000000000000000000000008.0.16232047941980132\\xadpending_sends\\x90', b'{\"source\": \"loop\", \"writes\": {\"conversation\": {\"messages\": {\"lc\": 1, \"type\": \"constructor\", \"id\": [\"langchain\", \"schema\", \"messages\", \"AIMessage\"], \"kwargs\": {\"content\": \"The capital of China is Beijing.\", \"response_metadata\": {\"token_usage\": {\"completion_tokens\": 8, \"prompt_tokens\": 100, \"total_tokens\": 108, \"completion_time\": 0.010666667, \"prompt_time\": 0.011060731, \"queue_time\": 0.0035579489999999995, \"total_time\": 0.021727398}, \"model_name\": \"llama-3.1-8b-instant\", \"system_fingerprint\": \"fp_9cb648b966\", \"finish_reason\": \"stop\", \"logprobs\": null}, \"type\": \"ai\", \"id\": \"run-bd1b983f-bdfe-4fa1-9d62-7cdba7b9b12f-0\", \"usage_metadata\": {\"input_tokens\": 100, \"output_tokens\": 8, \"total_tokens\": 108}, \"tool_calls\": [], \"invalid_tool_calls\": []}}}}, \"step\": 7, \"parents\": {}}')\n",
      "('1', '', '1efa9256-733f-6176-8008-16e15d283a60', '1efa9256-70b7-6447-8007-a5643034a117', 'msgpack', b\"\\x87\\xa1v\\x01\\xa2ts\\xd9 2024-11-22T22:59:18.211621+00:00\\xa2id\\xd9$1efa9256-733f-6176-8008-16e15d283a60\\xaechannel_values\\x83\\xa8messages\\x92\\xc7\\xaf\\x05\\x94\\xbdlangchain_core.messages.human\\xacHumanMessage\\x87\\xa7content\\xbdwhat is the capital of china?\\xb1additional_kwargs\\x80\\xb1response_metadata\\x80\\xa4type\\xa5human\\xa4name\\xa3Kim\\xa2id\\xa15\\xa7example\\xc2\\xb3model_validate_json\\xc8\\x02\\x1d\\x05\\x94\\xbalangchain_core.messages.ai\\xa9AIMessage\\x8a\\xa7content\\xd9 The capital of China is Beijing.\\xb1additional_kwargs\\x80\\xb1response_metadata\\x85\\xabtoken_usage\\x87\\xb1completion_tokens\\x08\\xadprompt_tokensd\\xactotal_tokensl\\xafcompletion_time\\xcb?\\x85\\xd8g\\xcf`\\xea\\x95\\xabprompt_time\\xcb?\\x86\\xa7\\x02/Q\\x9e\\xa6\\xaaqueue_time\\xcb?m%\\x8fS\\x11\\x16t\\xaatotal_time\\xcb?\\x96?\\xb4\\xffYD\\x9d\\xaamodel_name\\xb4llama-3.1-8b-instant\\xb2system_fingerprint\\xadfp_9cb648b966\\xadfinish_reason\\xa4stop\\xa8logprobs\\xc0\\xa4type\\xa2ai\\xa4name\\xc0\\xa2id\\xd9*run-bd1b983f-bdfe-4fa1-9d62-7cdba7b9b12f-0\\xa7example\\xc2\\xaatool_calls\\x90\\xb2invalid_tool_calls\\x90\\xaeusage_metadata\\x83\\xacinput_tokensd\\xadoutput_tokens\\x08\\xactotal_tokensl\\xb3model_validate_json\\xa7summary\\xd9\\xcfHere's a summary of our conversation:\\n\\nWe discussed the capitals of three countries in East Asia:\\n\\n1. South Korea: Seoul\\n2. Japan: Tokyo\\n3. China: Beijing\\n\\nLet me know if you'd like to discuss anything else!\\xb6summarize_conversation\\xb6summarize_conversation\\xb0channel_versions\\x87\\xa9__start__\\xd9500000000000000000000000000000008.0.061863058456391506\\xa8messages\\xd9300000000000000000000000000000010.0.5767930038344671\\xb2start:conversation\\xd9300000000000000000000000000000009.0.6230075331018771\\xacconversation\\xd9300000000000000000000000000000010.0.4295068200476264\\xd9:branch:conversation:should_continue:summarize_conversation\\xd9400000000000000000000000000000010.0.29980430385940005\\xb6summarize_conversation\\xd9400000000000000000000000000000010.0.04687181315817379\\xa7summary\\xd9500000000000000000000000000000010.0.015943949166427607\\xadversions_seen\\x84\\xa9__input__\\x80\\xa9__start__\\x81\\xa9__start__\\xd9200000000000000000000000000000007.0.364058899278239\\xacconversation\\x81\\xb2start:conversation\\xd9400000000000000000000000000000008.0.16232047941980132\\xb6summarize_conversation\\x81\\xd9:branch:conversation:should_continue:summarize_conversation\\xd9400000000000000000000000000000009.0.37772830856744966\\xadpending_sends\\x90\", b'{\"source\": \"loop\", \"writes\": {\"summarize_conversation\": {\"messages\": [{\"lc\": 1, \"type\": \"constructor\", \"id\": [\"langchain\", \"schema\", \"messages\", \"RemoveMessage\"], \"kwargs\": {\"content\": \"\", \"type\": \"remove\", \"id\": \"0\"}}, {\"lc\": 1, \"type\": \"constructor\", \"id\": [\"langchain\", \"schema\", \"messages\", \"RemoveMessage\"], \"kwargs\": {\"content\": \"\", \"type\": \"remove\", \"id\": \"1\"}}, {\"lc\": 1, \"type\": \"constructor\", \"id\": [\"langchain\", \"schema\", \"messages\", \"RemoveMessage\"], \"kwargs\": {\"content\": \"\", \"type\": \"remove\", \"id\": \"run-dd94e8f0-d959-44cd-a52e-e86b5c0542ec-0\"}}, {\"lc\": 1, \"type\": \"constructor\", \"id\": [\"langchain\", \"schema\", \"messages\", \"RemoveMessage\"], \"kwargs\": {\"content\": \"\", \"type\": \"remove\", \"id\": \"3\"}}, {\"lc\": 1, \"type\": \"constructor\", \"id\": [\"langchain\", \"schema\", \"messages\", \"RemoveMessage\"], \"kwargs\": {\"content\": \"\", \"type\": \"remove\", \"id\": \"run-cc4070c0-4aa9-484c-9539-9427fb9dd4de-0\"}}], \"summary\": \"Here\\'s a summary of our conversation:\\\\n\\\\nWe discussed the capitals of three countries in East Asia:\\\\n\\\\n1. South Korea: Seoul\\\\n2. Japan: Tokyo\\\\n3. China: Beijing\\\\n\\\\nLet me know if you\\'d like to discuss anything else!\"}}, \"step\": 8, \"parents\": {}}')\n",
      "('1', '', '1efa9256-7366-6b97-8009-4e8a5b05dada', '1efa9256-733f-6176-8008-16e15d283a60', 'msgpack', b\"\\x87\\xa1v\\x01\\xa2ts\\xd9 2024-11-22T22:59:18.227855+00:00\\xa2id\\xd9$1efa9256-7366-6b97-8009-4e8a5b05dada\\xaechannel_values\\x83\\xa8messages\\x92\\xc7\\xaf\\x05\\x94\\xbdlangchain_core.messages.human\\xacHumanMessage\\x87\\xa7content\\xbdwhat is the capital of china?\\xb1additional_kwargs\\x80\\xb1response_metadata\\x80\\xa4type\\xa5human\\xa4name\\xa3Kim\\xa2id\\xa15\\xa7example\\xc2\\xb3model_validate_json\\xc8\\x02\\x1d\\x05\\x94\\xbalangchain_core.messages.ai\\xa9AIMessage\\x8a\\xa7content\\xd9 The capital of China is Beijing.\\xb1additional_kwargs\\x80\\xb1response_metadata\\x85\\xabtoken_usage\\x87\\xb1completion_tokens\\x08\\xadprompt_tokensd\\xactotal_tokensl\\xafcompletion_time\\xcb?\\x85\\xd8g\\xcf`\\xea\\x95\\xabprompt_time\\xcb?\\x86\\xa7\\x02/Q\\x9e\\xa6\\xaaqueue_time\\xcb?m%\\x8fS\\x11\\x16t\\xaatotal_time\\xcb?\\x96?\\xb4\\xffYD\\x9d\\xaamodel_name\\xb4llama-3.1-8b-instant\\xb2system_fingerprint\\xadfp_9cb648b966\\xadfinish_reason\\xa4stop\\xa8logprobs\\xc0\\xa4type\\xa2ai\\xa4name\\xc0\\xa2id\\xd9*run-bd1b983f-bdfe-4fa1-9d62-7cdba7b9b12f-0\\xa7example\\xc2\\xaatool_calls\\x90\\xb2invalid_tool_calls\\x90\\xaeusage_metadata\\x83\\xacinput_tokensd\\xadoutput_tokens\\x08\\xactotal_tokensl\\xb3model_validate_json\\xa7summary\\xd9\\xcfHere's a summary of our conversation:\\n\\nWe discussed the capitals of three countries in East Asia:\\n\\n1. South Korea: Seoul\\n2. Japan: Tokyo\\n3. China: Beijing\\n\\nLet me know if you'd like to discuss anything else!\\xa9__start__\\x81\\xa8messages\\x98\\xc7\\xbc\\x05\\x94\\xbalangchain_core.messages.ai\\xa9AIMessage\\x8a\\xa7content\\xa3Hi.\\xb1additional_kwargs\\x80\\xb1response_metadata\\x80\\xa4type\\xa2ai\\xa4name\\xa3Bot\\xa2id\\xa10\\xa7example\\xc2\\xaatool_calls\\x90\\xb2invalid_tool_calls\\x90\\xaeusage_metadata\\xc0\\xb3model_validate_json\\xc7\\xb6\\x05\\x94\\xbdlangchain_core.messages.human\\xacHumanMessage\\x87\\xa7content\\xd9#what is the capital of south korea?\\xb1additional_kwargs\\x80\\xb1response_metadata\\x80\\xa4type\\xa5human\\xa4name\\xa3Kim\\xa2id\\xa11\\xa7example\\xc2\\xb3model_validate_json\\xc8\\x02!\\x05\\x94\\xbalangchain_core.messages.ai\\xa9AIMessage\\x8a\\xa7content\\xd9$The capital of South Korea is Seoul.\\xb1additional_kwargs\\x80\\xb1response_metadata\\x85\\xabtoken_usage\\x87\\xb1completion_tokens\\t\\xadprompt_tokens3\\xactotal_tokens<\\xafcompletion_time\\xcb?\\x88\\x93t\\xbcj~\\xfa\\xabprompt_time\\xcb?i\\x80\\x10\\xa8\\xe7\\x0b\\xe0\\xaaqueue_time\\xcb?\\x89\\xa1\\xa1GZT\\x00\\xaatotal_time\\xcb?\\x8e\\xf3x\\xe6\\xa4A\\xf2\\xaamodel_name\\xb4llama-3.1-8b-instant\\xb2system_fingerprint\\xadfp_f66ccb39ec\\xadfinish_reason\\xa4stop\\xa8logprobs\\xc0\\xa4type\\xa2ai\\xa4name\\xc0\\xa2id\\xd9*run-dd94e8f0-d959-44cd-a52e-e86b5c0542ec-0\\xa7example\\xc2\\xaatool_calls\\x90\\xb2invalid_tool_calls\\x90\\xaeusage_metadata\\x83\\xacinput_tokens3\\xadoutput_tokens\\t\\xactotal_tokens<\\xb3model_validate_json\\xc7\\xaf\\x05\\x94\\xbdlangchain_core.messages.human\\xacHumanMessage\\x87\\xa7content\\xbdwhat is the capital of japan?\\xb1additional_kwargs\\x80\\xb1response_metadata\\x80\\xa4type\\xa5human\\xa4name\\xa3Kim\\xa2id\\xa13\\xa7example\\xc2\\xb3model_validate_json\\xc8\\x02\\x1a\\x05\\x94\\xbalangchain_core.messages.ai\\xa9AIMessage\\x8a\\xa7content\\xbeThe capital of Japan is Tokyo.\\xb1additional_kwargs\\x80\\xb1response_metadata\\x85\\xabtoken_usage\\x87\\xb1completion_tokens\\x08\\xadprompt_tokensL\\xactotal_tokensT\\xafcompletion_time\\xcb?\\x85\\xd8g\\xcf`\\xea\\x95\\xabprompt_time\\xcb?\\x85;U@\\xa44\\xfe\\xaaqueue_time\\xcb?\\xaa\\xf3\\t!\\x91\\xcb\\x18\\xaatotal_time\\xcb?\\x95\\x89\\xde\\x88\\x02\\x8f\\xca\\xaamodel_name\\xb4llama-3.1-8b-instant\\xb2system_fingerprint\\xadfp_9cb648b966\\xadfinish_reason\\xa4stop\\xa8logprobs\\xc0\\xa4type\\xa2ai\\xa4name\\xc0\\xa2id\\xd9*run-cc4070c0-4aa9-484c-9539-9427fb9dd4de-0\\xa7example\\xc2\\xaatool_calls\\x90\\xb2invalid_tool_calls\\x90\\xaeusage_metadata\\x83\\xacinput_tokensL\\xadoutput_tokens\\x08\\xactotal_tokensT\\xb3model_validate_json\\xc7\\xaf\\x05\\x94\\xbdlangchain_core.messages.human\\xacHumanMessage\\x87\\xa7content\\xbdwhat is the capital of china?\\xb1additional_kwargs\\x80\\xb1response_metadata\\x80\\xa4type\\xa5human\\xa4name\\xa3Kim\\xa2id\\xa15\\xa7example\\xc2\\xb3model_validate_json\\xc8\\x02\\x1d\\x05\\x94\\xbalangchain_core.messages.ai\\xa9AIMessage\\x8a\\xa7content\\xd9 The capital of China is Beijing.\\xb1additional_kwargs\\x80\\xb1response_metadata\\x85\\xabtoken_usage\\x87\\xb1completion_tokens\\x08\\xadprompt_tokensd\\xactotal_tokensl\\xafcompletion_time\\xcb?\\x85\\xd8g\\xcf`\\xea\\x95\\xabprompt_time\\xcb?\\x86\\xa7\\x02/Q\\x9e\\xa6\\xaaqueue_time\\xcb?m%\\x8fS\\x11\\x16t\\xaatotal_time\\xcb?\\x96?\\xb4\\xffYD\\x9d\\xaamodel_name\\xb4llama-3.1-8b-instant\\xb2system_fingerprint\\xadfp_9cb648b966\\xadfinish_reason\\xa4stop\\xa8logprobs\\xc0\\xa4type\\xa2ai\\xa4name\\xc0\\xa2id\\xd9*run-bd1b983f-bdfe-4fa1-9d62-7cdba7b9b12f-0\\xa7example\\xc2\\xaatool_calls\\x90\\xb2invalid_tool_calls\\x90\\xaeusage_metadata\\x83\\xacinput_tokensd\\xadoutput_tokens\\x08\\xactotal_tokensl\\xb3model_validate_json\\xc7\\xbe\\x05\\x94\\xbdlangchain_core.messages.human\\xacHumanMessage\\x87\\xa7content\\xd9+what is the distance between two capitals ?\\xb1additional_kwargs\\x80\\xb1response_metadata\\x80\\xa4type\\xa5human\\xa4name\\xa3Kim\\xa2id\\xa17\\xa7example\\xc2\\xb3model_validate_json\\xb0channel_versions\\x87\\xa9__start__\\xd9400000000000000000000000000000011.0.42592156172161477\\xa8messages\\xd9300000000000000000000000000000010.0.5767930038344671\\xb2start:conversation\\xd9300000000000000000000000000000009.0.6230075331018771\\xacconversation\\xd9300000000000000000000000000000010.0.4295068200476264\\xd9:branch:conversation:should_continue:summarize_conversation\\xd9400000000000000000000000000000010.0.29980430385940005\\xb6summarize_conversation\\xd9300000000000000000000000000000011.0.7944159668033738\\xa7summary\\xd9500000000000000000000000000000010.0.015943949166427607\\xadversions_seen\\x84\\xa9__input__\\x80\\xa9__start__\\x81\\xa9__start__\\xd9200000000000000000000000000000007.0.364058899278239\\xacconversation\\x81\\xb2start:conversation\\xd9400000000000000000000000000000008.0.16232047941980132\\xb6summarize_conversation\\x81\\xd9:branch:conversation:should_continue:summarize_conversation\\xd9400000000000000000000000000000009.0.37772830856744966\\xadpending_sends\\x90\", b'{\"source\": \"input\", \"writes\": {\"__start__\": {\"messages\": [{\"lc\": 1, \"type\": \"constructor\", \"id\": [\"langchain\", \"schema\", \"messages\", \"AIMessage\"], \"kwargs\": {\"content\": \"Hi.\", \"type\": \"ai\", \"name\": \"Bot\", \"id\": \"0\", \"tool_calls\": [], \"invalid_tool_calls\": []}}, {\"lc\": 1, \"type\": \"constructor\", \"id\": [\"langchain\", \"schema\", \"messages\", \"HumanMessage\"], \"kwargs\": {\"content\": \"what is the capital of south korea?\", \"type\": \"human\", \"name\": \"Kim\", \"id\": \"1\"}}, {\"lc\": 1, \"type\": \"constructor\", \"id\": [\"langchain\", \"schema\", \"messages\", \"AIMessage\"], \"kwargs\": {\"content\": \"The capital of South Korea is Seoul.\", \"response_metadata\": {\"token_usage\": {\"completion_tokens\": 9, \"prompt_tokens\": 51, \"total_tokens\": 60, \"completion_time\": 0.012, \"prompt_time\": 0.003112824, \"queue_time\": 0.012515315999999999, \"total_time\": 0.015112824}, \"model_name\": \"llama-3.1-8b-instant\", \"system_fingerprint\": \"fp_f66ccb39ec\", \"finish_reason\": \"stop\", \"logprobs\": null}, \"type\": \"ai\", \"id\": \"run-dd94e8f0-d959-44cd-a52e-e86b5c0542ec-0\", \"usage_metadata\": {\"input_tokens\": 51, \"output_tokens\": 9, \"total_tokens\": 60}, \"tool_calls\": [], \"invalid_tool_calls\": []}}, {\"lc\": 1, \"type\": \"constructor\", \"id\": [\"langchain\", \"schema\", \"messages\", \"HumanMessage\"], \"kwargs\": {\"content\": \"what is the capital of japan?\", \"type\": \"human\", \"name\": \"Kim\", \"id\": \"3\"}}, {\"lc\": 1, \"type\": \"constructor\", \"id\": [\"langchain\", \"schema\", \"messages\", \"AIMessage\"], \"kwargs\": {\"content\": \"The capital of Japan is Tokyo.\", \"response_metadata\": {\"token_usage\": {\"completion_tokens\": 8, \"prompt_tokens\": 76, \"total_tokens\": 84, \"completion_time\": 0.010666667, \"prompt_time\": 0.010367075, \"queue_time\": 0.05263546499999999, \"total_time\": 0.021033742}, \"model_name\": \"llama-3.1-8b-instant\", \"system_fingerprint\": \"fp_9cb648b966\", \"finish_reason\": \"stop\", \"logprobs\": null}, \"type\": \"ai\", \"id\": \"run-cc4070c0-4aa9-484c-9539-9427fb9dd4de-0\", \"usage_metadata\": {\"input_tokens\": 76, \"output_tokens\": 8, \"total_tokens\": 84}, \"tool_calls\": [], \"invalid_tool_calls\": []}}, {\"lc\": 1, \"type\": \"constructor\", \"id\": [\"langchain\", \"schema\", \"messages\", \"HumanMessage\"], \"kwargs\": {\"content\": \"what is the capital of china?\", \"type\": \"human\", \"name\": \"Kim\", \"id\": \"5\"}}, {\"lc\": 1, \"type\": \"constructor\", \"id\": [\"langchain\", \"schema\", \"messages\", \"AIMessage\"], \"kwargs\": {\"content\": \"The capital of China is Beijing.\", \"response_metadata\": {\"token_usage\": {\"completion_tokens\": 8, \"prompt_tokens\": 100, \"total_tokens\": 108, \"completion_time\": 0.010666667, \"prompt_time\": 0.011060731, \"queue_time\": 0.0035579489999999995, \"total_time\": 0.021727398}, \"model_name\": \"llama-3.1-8b-instant\", \"system_fingerprint\": \"fp_9cb648b966\", \"finish_reason\": \"stop\", \"logprobs\": null}, \"type\": \"ai\", \"id\": \"run-bd1b983f-bdfe-4fa1-9d62-7cdba7b9b12f-0\", \"usage_metadata\": {\"input_tokens\": 100, \"output_tokens\": 8, \"total_tokens\": 108}, \"tool_calls\": [], \"invalid_tool_calls\": []}}, {\"lc\": 1, \"type\": \"constructor\", \"id\": [\"langchain\", \"schema\", \"messages\", \"HumanMessage\"], \"kwargs\": {\"content\": \"what is the distance between two capitals ?\", \"type\": \"human\", \"name\": \"Kim\", \"id\": \"7\"}}]}}, \"step\": 9, \"parents\": {}}')\n",
      "('1', '', '1efa9256-736d-6644-800a-16b397bcef9a', '1efa9256-7366-6b97-8009-4e8a5b05dada', 'msgpack', b\"\\x87\\xa1v\\x01\\xa2ts\\xd9 2024-11-22T22:59:18.230586+00:00\\xa2id\\xd9$1efa9256-736d-6644-800a-16b397bcef9a\\xaechannel_values\\x83\\xa8messages\\x98\\xc7\\xaf\\x05\\x94\\xbdlangchain_core.messages.human\\xacHumanMessage\\x87\\xa7content\\xbdwhat is the capital of china?\\xb1additional_kwargs\\x80\\xb1response_metadata\\x80\\xa4type\\xa5human\\xa4name\\xa3Kim\\xa2id\\xa15\\xa7example\\xc2\\xb3model_validate_json\\xc8\\x02\\x1d\\x05\\x94\\xbalangchain_core.messages.ai\\xa9AIMessage\\x8a\\xa7content\\xd9 The capital of China is Beijing.\\xb1additional_kwargs\\x80\\xb1response_metadata\\x85\\xabtoken_usage\\x87\\xb1completion_tokens\\x08\\xadprompt_tokensd\\xactotal_tokensl\\xafcompletion_time\\xcb?\\x85\\xd8g\\xcf`\\xea\\x95\\xabprompt_time\\xcb?\\x86\\xa7\\x02/Q\\x9e\\xa6\\xaaqueue_time\\xcb?m%\\x8fS\\x11\\x16t\\xaatotal_time\\xcb?\\x96?\\xb4\\xffYD\\x9d\\xaamodel_name\\xb4llama-3.1-8b-instant\\xb2system_fingerprint\\xadfp_9cb648b966\\xadfinish_reason\\xa4stop\\xa8logprobs\\xc0\\xa4type\\xa2ai\\xa4name\\xc0\\xa2id\\xd9*run-bd1b983f-bdfe-4fa1-9d62-7cdba7b9b12f-0\\xa7example\\xc2\\xaatool_calls\\x90\\xb2invalid_tool_calls\\x90\\xaeusage_metadata\\x83\\xacinput_tokensd\\xadoutput_tokens\\x08\\xactotal_tokensl\\xb3model_validate_json\\xc7\\xbc\\x05\\x94\\xbalangchain_core.messages.ai\\xa9AIMessage\\x8a\\xa7content\\xa3Hi.\\xb1additional_kwargs\\x80\\xb1response_metadata\\x80\\xa4type\\xa2ai\\xa4name\\xa3Bot\\xa2id\\xa10\\xa7example\\xc2\\xaatool_calls\\x90\\xb2invalid_tool_calls\\x90\\xaeusage_metadata\\xc0\\xb3model_validate_json\\xc7\\xb6\\x05\\x94\\xbdlangchain_core.messages.human\\xacHumanMessage\\x87\\xa7content\\xd9#what is the capital of south korea?\\xb1additional_kwargs\\x80\\xb1response_metadata\\x80\\xa4type\\xa5human\\xa4name\\xa3Kim\\xa2id\\xa11\\xa7example\\xc2\\xb3model_validate_json\\xc8\\x02!\\x05\\x94\\xbalangchain_core.messages.ai\\xa9AIMessage\\x8a\\xa7content\\xd9$The capital of South Korea is Seoul.\\xb1additional_kwargs\\x80\\xb1response_metadata\\x85\\xabtoken_usage\\x87\\xb1completion_tokens\\t\\xadprompt_tokens3\\xactotal_tokens<\\xafcompletion_time\\xcb?\\x88\\x93t\\xbcj~\\xfa\\xabprompt_time\\xcb?i\\x80\\x10\\xa8\\xe7\\x0b\\xe0\\xaaqueue_time\\xcb?\\x89\\xa1\\xa1GZT\\x00\\xaatotal_time\\xcb?\\x8e\\xf3x\\xe6\\xa4A\\xf2\\xaamodel_name\\xb4llama-3.1-8b-instant\\xb2system_fingerprint\\xadfp_f66ccb39ec\\xadfinish_reason\\xa4stop\\xa8logprobs\\xc0\\xa4type\\xa2ai\\xa4name\\xc0\\xa2id\\xd9*run-dd94e8f0-d959-44cd-a52e-e86b5c0542ec-0\\xa7example\\xc2\\xaatool_calls\\x90\\xb2invalid_tool_calls\\x90\\xaeusage_metadata\\x83\\xacinput_tokens3\\xadoutput_tokens\\t\\xactotal_tokens<\\xb3model_validate_json\\xc7\\xaf\\x05\\x94\\xbdlangchain_core.messages.human\\xacHumanMessage\\x87\\xa7content\\xbdwhat is the capital of japan?\\xb1additional_kwargs\\x80\\xb1response_metadata\\x80\\xa4type\\xa5human\\xa4name\\xa3Kim\\xa2id\\xa13\\xa7example\\xc2\\xb3model_validate_json\\xc8\\x02\\x1a\\x05\\x94\\xbalangchain_core.messages.ai\\xa9AIMessage\\x8a\\xa7content\\xbeThe capital of Japan is Tokyo.\\xb1additional_kwargs\\x80\\xb1response_metadata\\x85\\xabtoken_usage\\x87\\xb1completion_tokens\\x08\\xadprompt_tokensL\\xactotal_tokensT\\xafcompletion_time\\xcb?\\x85\\xd8g\\xcf`\\xea\\x95\\xabprompt_time\\xcb?\\x85;U@\\xa44\\xfe\\xaaqueue_time\\xcb?\\xaa\\xf3\\t!\\x91\\xcb\\x18\\xaatotal_time\\xcb?\\x95\\x89\\xde\\x88\\x02\\x8f\\xca\\xaamodel_name\\xb4llama-3.1-8b-instant\\xb2system_fingerprint\\xadfp_9cb648b966\\xadfinish_reason\\xa4stop\\xa8logprobs\\xc0\\xa4type\\xa2ai\\xa4name\\xc0\\xa2id\\xd9*run-cc4070c0-4aa9-484c-9539-9427fb9dd4de-0\\xa7example\\xc2\\xaatool_calls\\x90\\xb2invalid_tool_calls\\x90\\xaeusage_metadata\\x83\\xacinput_tokensL\\xadoutput_tokens\\x08\\xactotal_tokensT\\xb3model_validate_json\\xc7\\xbe\\x05\\x94\\xbdlangchain_core.messages.human\\xacHumanMessage\\x87\\xa7content\\xd9+what is the distance between two capitals ?\\xb1additional_kwargs\\x80\\xb1response_metadata\\x80\\xa4type\\xa5human\\xa4name\\xa3Kim\\xa2id\\xa17\\xa7example\\xc2\\xb3model_validate_json\\xa7summary\\xd9\\xcfHere's a summary of our conversation:\\n\\nWe discussed the capitals of three countries in East Asia:\\n\\n1. South Korea: Seoul\\n2. Japan: Tokyo\\n3. China: Beijing\\n\\nLet me know if you'd like to discuss anything else!\\xb2start:conversation\\xa9__start__\\xb0channel_versions\\x87\\xa9__start__\\xd9300000000000000000000000000000012.0.7589967012214741\\xa8messages\\xd9400000000000000000000000000000012.0.33487459426440025\\xb2start:conversation\\xd9300000000000000000000000000000012.0.1872099405319666\\xacconversation\\xd9300000000000000000000000000000010.0.4295068200476264\\xd9:branch:conversation:should_continue:summarize_conversation\\xd9400000000000000000000000000000010.0.29980430385940005\\xb6summarize_conversation\\xd9300000000000000000000000000000011.0.7944159668033738\\xa7summary\\xd9500000000000000000000000000000010.0.015943949166427607\\xadversions_seen\\x84\\xa9__input__\\x80\\xa9__start__\\x81\\xa9__start__\\xd9400000000000000000000000000000011.0.42592156172161477\\xacconversation\\x81\\xb2start:conversation\\xd9400000000000000000000000000000008.0.16232047941980132\\xb6summarize_conversation\\x81\\xd9:branch:conversation:should_continue:summarize_conversation\\xd9400000000000000000000000000000009.0.37772830856744966\\xadpending_sends\\x90\", b'{\"source\": \"loop\", \"writes\": null, \"step\": 10, \"parents\": {}}')\n",
      "('1', '', '1efa9256-76e3-62e3-800b-c766aa4685da', '1efa9256-736d-6644-800a-16b397bcef9a', 'msgpack', b'\\x87\\xa1v\\x01\\xa2ts\\xd9 2024-11-22T22:59:18.593405+00:00\\xa2id\\xd9$1efa9256-76e3-62e3-800b-c766aa4685da\\xaechannel_values\\x84\\xa8messages\\x99\\xc7\\xaf\\x05\\x94\\xbdlangchain_core.messages.human\\xacHumanMessage\\x87\\xa7content\\xbdwhat is the capital of china?\\xb1additional_kwargs\\x80\\xb1response_metadata\\x80\\xa4type\\xa5human\\xa4name\\xa3Kim\\xa2id\\xa15\\xa7example\\xc2\\xb3model_validate_json\\xc8\\x02\\x1d\\x05\\x94\\xbalangchain_core.messages.ai\\xa9AIMessage\\x8a\\xa7content\\xd9 The capital of China is Beijing.\\xb1additional_kwargs\\x80\\xb1response_metadata\\x85\\xabtoken_usage\\x87\\xb1completion_tokens\\x08\\xadprompt_tokensd\\xactotal_tokensl\\xafcompletion_time\\xcb?\\x85\\xd8g\\xcf`\\xea\\x95\\xabprompt_time\\xcb?\\x86\\xa7\\x02/Q\\x9e\\xa6\\xaaqueue_time\\xcb?m%\\x8fS\\x11\\x16t\\xaatotal_time\\xcb?\\x96?\\xb4\\xffYD\\x9d\\xaamodel_name\\xb4llama-3.1-8b-instant\\xb2system_fingerprint\\xadfp_9cb648b966\\xadfinish_reason\\xa4stop\\xa8logprobs\\xc0\\xa4type\\xa2ai\\xa4name\\xc0\\xa2id\\xd9*run-bd1b983f-bdfe-4fa1-9d62-7cdba7b9b12f-0\\xa7example\\xc2\\xaatool_calls\\x90\\xb2invalid_tool_calls\\x90\\xaeusage_metadata\\x83\\xacinput_tokensd\\xadoutput_tokens\\x08\\xactotal_tokensl\\xb3model_validate_json\\xc7\\xbc\\x05\\x94\\xbalangchain_core.messages.ai\\xa9AIMessage\\x8a\\xa7content\\xa3Hi.\\xb1additional_kwargs\\x80\\xb1response_metadata\\x80\\xa4type\\xa2ai\\xa4name\\xa3Bot\\xa2id\\xa10\\xa7example\\xc2\\xaatool_calls\\x90\\xb2invalid_tool_calls\\x90\\xaeusage_metadata\\xc0\\xb3model_validate_json\\xc7\\xb6\\x05\\x94\\xbdlangchain_core.messages.human\\xacHumanMessage\\x87\\xa7content\\xd9#what is the capital of south korea?\\xb1additional_kwargs\\x80\\xb1response_metadata\\x80\\xa4type\\xa5human\\xa4name\\xa3Kim\\xa2id\\xa11\\xa7example\\xc2\\xb3model_validate_json\\xc8\\x02!\\x05\\x94\\xbalangchain_core.messages.ai\\xa9AIMessage\\x8a\\xa7content\\xd9$The capital of South Korea is Seoul.\\xb1additional_kwargs\\x80\\xb1response_metadata\\x85\\xabtoken_usage\\x87\\xb1completion_tokens\\t\\xadprompt_tokens3\\xactotal_tokens<\\xafcompletion_time\\xcb?\\x88\\x93t\\xbcj~\\xfa\\xabprompt_time\\xcb?i\\x80\\x10\\xa8\\xe7\\x0b\\xe0\\xaaqueue_time\\xcb?\\x89\\xa1\\xa1GZT\\x00\\xaatotal_time\\xcb?\\x8e\\xf3x\\xe6\\xa4A\\xf2\\xaamodel_name\\xb4llama-3.1-8b-instant\\xb2system_fingerprint\\xadfp_f66ccb39ec\\xadfinish_reason\\xa4stop\\xa8logprobs\\xc0\\xa4type\\xa2ai\\xa4name\\xc0\\xa2id\\xd9*run-dd94e8f0-d959-44cd-a52e-e86b5c0542ec-0\\xa7example\\xc2\\xaatool_calls\\x90\\xb2invalid_tool_calls\\x90\\xaeusage_metadata\\x83\\xacinput_tokens3\\xadoutput_tokens\\t\\xactotal_tokens<\\xb3model_validate_json\\xc7\\xaf\\x05\\x94\\xbdlangchain_core.messages.human\\xacHumanMessage\\x87\\xa7content\\xbdwhat is the capital of japan?\\xb1additional_kwargs\\x80\\xb1response_metadata\\x80\\xa4type\\xa5human\\xa4name\\xa3Kim\\xa2id\\xa13\\xa7example\\xc2\\xb3model_validate_json\\xc8\\x02\\x1a\\x05\\x94\\xbalangchain_core.messages.ai\\xa9AIMessage\\x8a\\xa7content\\xbeThe capital of Japan is Tokyo.\\xb1additional_kwargs\\x80\\xb1response_metadata\\x85\\xabtoken_usage\\x87\\xb1completion_tokens\\x08\\xadprompt_tokensL\\xactotal_tokensT\\xafcompletion_time\\xcb?\\x85\\xd8g\\xcf`\\xea\\x95\\xabprompt_time\\xcb?\\x85;U@\\xa44\\xfe\\xaaqueue_time\\xcb?\\xaa\\xf3\\t!\\x91\\xcb\\x18\\xaatotal_time\\xcb?\\x95\\x89\\xde\\x88\\x02\\x8f\\xca\\xaamodel_name\\xb4llama-3.1-8b-instant\\xb2system_fingerprint\\xadfp_9cb648b966\\xadfinish_reason\\xa4stop\\xa8logprobs\\xc0\\xa4type\\xa2ai\\xa4name\\xc0\\xa2id\\xd9*run-cc4070c0-4aa9-484c-9539-9427fb9dd4de-0\\xa7example\\xc2\\xaatool_calls\\x90\\xb2invalid_tool_calls\\x90\\xaeusage_metadata\\x83\\xacinput_tokensL\\xadoutput_tokens\\x08\\xactotal_tokensT\\xb3model_validate_json\\xc7\\xbe\\x05\\x94\\xbdlangchain_core.messages.human\\xacHumanMessage\\x87\\xa7content\\xd9+what is the distance between two capitals ?\\xb1additional_kwargs\\x80\\xb1response_metadata\\x80\\xa4type\\xa5human\\xa4name\\xa3Kim\\xa2id\\xa17\\xa7example\\xc2\\xb3model_validate_json\\xc8\\x048\\x05\\x94\\xbalangchain_core.messages.ai\\xa9AIMessage\\x8a\\xa7content\\xda\\x024To calculate the distance between two capitals, we need to know which two capitals you are referring to. However, I can give you some approximate distances between the capitals we discussed earlier:\\n\\n- Between Beijing (China) and Seoul (South Korea): approximately 663 kilometers (412 miles)\\n- Between Beijing (China) and Tokyo (Japan): approximately 1,864 kilometers (1,158 miles)\\n- Between Seoul (South Korea) and Tokyo (Japan): approximately 946 kilometers (588 miles)\\n\\nPlease let me know if you\\'d like to know the distance between a different pair of capitals.\\xb1additional_kwargs\\x80\\xb1response_metadata\\x85\\xabtoken_usage\\x87\\xb1completion_tokensw\\xadprompt_tokens\\xcc\\xb4\\xactotal_tokens\\xcd\\x01+\\xafcompletion_time\\xcb?\\xc4O0x\\xdd{5\\xabprompt_time\\xcb?\\x94\\x88T;\\xb0I\"\\xaaqueue_time\\xcb?]rG\\xacM6\\xb0\\xaatotal_time\\xcb?\\xc6\\xe0;\\x00S\\x84Y\\xaamodel_name\\xb4llama-3.1-8b-instant\\xb2system_fingerprint\\xadfp_9cb648b966\\xadfinish_reason\\xa4stop\\xa8logprobs\\xc0\\xa4type\\xa2ai\\xa4name\\xc0\\xa2id\\xd9*run-ad764dda-f5d0-40e2-aa08-03a6de706996-0\\xa7example\\xc2\\xaatool_calls\\x90\\xb2invalid_tool_calls\\x90\\xaeusage_metadata\\x83\\xacinput_tokens\\xcc\\xb4\\xadoutput_tokensw\\xactotal_tokens\\xcd\\x01+\\xb3model_validate_json\\xa7summary\\xd9\\xcfHere\\'s a summary of our conversation:\\n\\nWe discussed the capitals of three countries in East Asia:\\n\\n1. South Korea: Seoul\\n2. Japan: Tokyo\\n3. China: Beijing\\n\\nLet me know if you\\'d like to discuss anything else!\\xacconversation\\xacconversation\\xd9:branch:conversation:should_continue:summarize_conversation\\xacconversation\\xb0channel_versions\\x87\\xa9__start__\\xd9300000000000000000000000000000012.0.7589967012214741\\xa8messages\\xd9200000000000000000000000000000013.0.955355330317719\\xb2start:conversation\\xd9300000000000000000000000000000013.0.8769110496410416\\xacconversation\\xd9300000000000000000000000000000013.0.5581689081521801\\xd9:branch:conversation:should_continue:summarize_conversation\\xd9300000000000000000000000000000013.0.3077029740893644\\xb6summarize_conversation\\xd9300000000000000000000000000000011.0.7944159668033738\\xa7summary\\xd9500000000000000000000000000000010.0.015943949166427607\\xadversions_seen\\x84\\xa9__input__\\x80\\xa9__start__\\x81\\xa9__start__\\xd9400000000000000000000000000000011.0.42592156172161477\\xacconversation\\x81\\xb2start:conversation\\xd9300000000000000000000000000000012.0.1872099405319666\\xb6summarize_conversation\\x81\\xd9:branch:conversation:should_continue:summarize_conversation\\xd9400000000000000000000000000000009.0.37772830856744966\\xadpending_sends\\x90', b'{\"source\": \"loop\", \"writes\": {\"conversation\": {\"messages\": {\"lc\": 1, \"type\": \"constructor\", \"id\": [\"langchain\", \"schema\", \"messages\", \"AIMessage\"], \"kwargs\": {\"content\": \"To calculate the distance between two capitals, we need to know which two capitals you are referring to. However, I can give you some approximate distances between the capitals we discussed earlier:\\\\n\\\\n- Between Beijing (China) and Seoul (South Korea): approximately 663 kilometers (412 miles)\\\\n- Between Beijing (China) and Tokyo (Japan): approximately 1,864 kilometers (1,158 miles)\\\\n- Between Seoul (South Korea) and Tokyo (Japan): approximately 946 kilometers (588 miles)\\\\n\\\\nPlease let me know if you\\'d like to know the distance between a different pair of capitals.\", \"response_metadata\": {\"token_usage\": {\"completion_tokens\": 119, \"prompt_tokens\": 180, \"total_tokens\": 299, \"completion_time\": 0.158666667, \"prompt_time\": 0.020051304, \"queue_time\": 0.0017972660000000022, \"total_time\": 0.178717971}, \"model_name\": \"llama-3.1-8b-instant\", \"system_fingerprint\": \"fp_9cb648b966\", \"finish_reason\": \"stop\", \"logprobs\": null}, \"type\": \"ai\", \"id\": \"run-ad764dda-f5d0-40e2-aa08-03a6de706996-0\", \"usage_metadata\": {\"input_tokens\": 180, \"output_tokens\": 119, \"total_tokens\": 299}, \"tool_calls\": [], \"invalid_tool_calls\": []}}}}, \"step\": 11, \"parents\": {}}')\n",
      "('1', '', '1efa9256-7a91-61f6-800c-e2787085950e', '1efa9256-76e3-62e3-800b-c766aa4685da', 'msgpack', b'\\x87\\xa1v\\x01\\xa2ts\\xd9 2024-11-22T22:59:18.979224+00:00\\xa2id\\xd9$1efa9256-7a91-61f6-800c-e2787085950e\\xaechannel_values\\x83\\xa8messages\\x92\\xc7\\xbe\\x05\\x94\\xbdlangchain_core.messages.human\\xacHumanMessage\\x87\\xa7content\\xd9+what is the distance between two capitals ?\\xb1additional_kwargs\\x80\\xb1response_metadata\\x80\\xa4type\\xa5human\\xa4name\\xa3Kim\\xa2id\\xa17\\xa7example\\xc2\\xb3model_validate_json\\xc8\\x048\\x05\\x94\\xbalangchain_core.messages.ai\\xa9AIMessage\\x8a\\xa7content\\xda\\x024To calculate the distance between two capitals, we need to know which two capitals you are referring to. However, I can give you some approximate distances between the capitals we discussed earlier:\\n\\n- Between Beijing (China) and Seoul (South Korea): approximately 663 kilometers (412 miles)\\n- Between Beijing (China) and Tokyo (Japan): approximately 1,864 kilometers (1,158 miles)\\n- Between Seoul (South Korea) and Tokyo (Japan): approximately 946 kilometers (588 miles)\\n\\nPlease let me know if you\\'d like to know the distance between a different pair of capitals.\\xb1additional_kwargs\\x80\\xb1response_metadata\\x85\\xabtoken_usage\\x87\\xb1completion_tokensw\\xadprompt_tokens\\xcc\\xb4\\xactotal_tokens\\xcd\\x01+\\xafcompletion_time\\xcb?\\xc4O0x\\xdd{5\\xabprompt_time\\xcb?\\x94\\x88T;\\xb0I\"\\xaaqueue_time\\xcb?]rG\\xacM6\\xb0\\xaatotal_time\\xcb?\\xc6\\xe0;\\x00S\\x84Y\\xaamodel_name\\xb4llama-3.1-8b-instant\\xb2system_fingerprint\\xadfp_9cb648b966\\xadfinish_reason\\xa4stop\\xa8logprobs\\xc0\\xa4type\\xa2ai\\xa4name\\xc0\\xa2id\\xd9*run-ad764dda-f5d0-40e2-aa08-03a6de706996-0\\xa7example\\xc2\\xaatool_calls\\x90\\xb2invalid_tool_calls\\x90\\xaeusage_metadata\\x83\\xacinput_tokens\\xcc\\xb4\\xadoutput_tokensw\\xactotal_tokens\\xcd\\x01+\\xb3model_validate_json\\xa7summary\\xda\\x028Here\\'s an updated summary of our conversation:\\n\\nWe discussed the capitals of four countries in East Asia:\\n\\n1. South Korea: Seoul\\n2. Japan: Tokyo\\n3. China: Beijing\\n4. We also calculated the approximate distances between these capitals:\\n   - Between Beijing (China) and Seoul (South Korea): approximately 663 kilometers (412 miles)\\n   - Between Beijing (China) and Tokyo (Japan): approximately 1,864 kilometers (1,158 miles)\\n   - Between Seoul (South Korea) and Tokyo (Japan): approximately 946 kilometers (588 miles)\\n\\nLet me know if you\\'d like to discuss anything else!\\xb6summarize_conversation\\xb6summarize_conversation\\xb0channel_versions\\x87\\xa9__start__\\xd9300000000000000000000000000000012.0.7589967012214741\\xa8messages\\xd9300000000000000000000000000000014.0.7543708151509471\\xb2start:conversation\\xd9300000000000000000000000000000013.0.8769110496410416\\xacconversation\\xd9400000000000000000000000000000014.0.21229459366583647\\xd9:branch:conversation:should_continue:summarize_conversation\\xd9300000000000000000000000000000014.0.7012264684058048\\xb6summarize_conversation\\xd9300000000000000000000000000000014.0.6363770370310508\\xa7summary\\xd9400000000000000000000000000000014.0.31194185010809206\\xadversions_seen\\x84\\xa9__input__\\x80\\xa9__start__\\x81\\xa9__start__\\xd9400000000000000000000000000000011.0.42592156172161477\\xacconversation\\x81\\xb2start:conversation\\xd9300000000000000000000000000000012.0.1872099405319666\\xb6summarize_conversation\\x81\\xd9:branch:conversation:should_continue:summarize_conversation\\xd9300000000000000000000000000000013.0.3077029740893644\\xadpending_sends\\x90', b'{\"source\": \"loop\", \"writes\": {\"summarize_conversation\": {\"messages\": [{\"lc\": 1, \"type\": \"constructor\", \"id\": [\"langchain\", \"schema\", \"messages\", \"RemoveMessage\"], \"kwargs\": {\"content\": \"\", \"type\": \"remove\", \"id\": \"5\"}}, {\"lc\": 1, \"type\": \"constructor\", \"id\": [\"langchain\", \"schema\", \"messages\", \"RemoveMessage\"], \"kwargs\": {\"content\": \"\", \"type\": \"remove\", \"id\": \"run-bd1b983f-bdfe-4fa1-9d62-7cdba7b9b12f-0\"}}, {\"lc\": 1, \"type\": \"constructor\", \"id\": [\"langchain\", \"schema\", \"messages\", \"RemoveMessage\"], \"kwargs\": {\"content\": \"\", \"type\": \"remove\", \"id\": \"0\"}}, {\"lc\": 1, \"type\": \"constructor\", \"id\": [\"langchain\", \"schema\", \"messages\", \"RemoveMessage\"], \"kwargs\": {\"content\": \"\", \"type\": \"remove\", \"id\": \"1\"}}, {\"lc\": 1, \"type\": \"constructor\", \"id\": [\"langchain\", \"schema\", \"messages\", \"RemoveMessage\"], \"kwargs\": {\"content\": \"\", \"type\": \"remove\", \"id\": \"run-dd94e8f0-d959-44cd-a52e-e86b5c0542ec-0\"}}, {\"lc\": 1, \"type\": \"constructor\", \"id\": [\"langchain\", \"schema\", \"messages\", \"RemoveMessage\"], \"kwargs\": {\"content\": \"\", \"type\": \"remove\", \"id\": \"3\"}}, {\"lc\": 1, \"type\": \"constructor\", \"id\": [\"langchain\", \"schema\", \"messages\", \"RemoveMessage\"], \"kwargs\": {\"content\": \"\", \"type\": \"remove\", \"id\": \"run-cc4070c0-4aa9-484c-9539-9427fb9dd4de-0\"}}], \"summary\": \"Here\\'s an updated summary of our conversation:\\\\n\\\\nWe discussed the capitals of four countries in East Asia:\\\\n\\\\n1. South Korea: Seoul\\\\n2. Japan: Tokyo\\\\n3. China: Beijing\\\\n4. We also calculated the approximate distances between these capitals:\\\\n   - Between Beijing (China) and Seoul (South Korea): approximately 663 kilometers (412 miles)\\\\n   - Between Beijing (China) and Tokyo (Japan): approximately 1,864 kilometers (1,158 miles)\\\\n   - Between Seoul (South Korea) and Tokyo (Japan): approximately 946 kilometers (588 miles)\\\\n\\\\nLet me know if you\\'d like to discuss anything else!\"}}, \"step\": 12, \"parents\": {}}')\n",
      "('1', '', '1efa9256-7aa9-60b7-800d-784a935a9571', '1efa9256-7a91-61f6-800c-e2787085950e', 'msgpack', b'\\x87\\xa1v\\x01\\xa2ts\\xd9 2024-11-22T22:59:18.989023+00:00\\xa2id\\xd9$1efa9256-7aa9-60b7-800d-784a935a9571\\xaechannel_values\\x83\\xa8messages\\x92\\xc7\\xbe\\x05\\x94\\xbdlangchain_core.messages.human\\xacHumanMessage\\x87\\xa7content\\xd9+what is the distance between two capitals ?\\xb1additional_kwargs\\x80\\xb1response_metadata\\x80\\xa4type\\xa5human\\xa4name\\xa3Kim\\xa2id\\xa17\\xa7example\\xc2\\xb3model_validate_json\\xc8\\x048\\x05\\x94\\xbalangchain_core.messages.ai\\xa9AIMessage\\x8a\\xa7content\\xda\\x024To calculate the distance between two capitals, we need to know which two capitals you are referring to. However, I can give you some approximate distances between the capitals we discussed earlier:\\n\\n- Between Beijing (China) and Seoul (South Korea): approximately 663 kilometers (412 miles)\\n- Between Beijing (China) and Tokyo (Japan): approximately 1,864 kilometers (1,158 miles)\\n- Between Seoul (South Korea) and Tokyo (Japan): approximately 946 kilometers (588 miles)\\n\\nPlease let me know if you\\'d like to know the distance between a different pair of capitals.\\xb1additional_kwargs\\x80\\xb1response_metadata\\x85\\xabtoken_usage\\x87\\xb1completion_tokensw\\xadprompt_tokens\\xcc\\xb4\\xactotal_tokens\\xcd\\x01+\\xafcompletion_time\\xcb?\\xc4O0x\\xdd{5\\xabprompt_time\\xcb?\\x94\\x88T;\\xb0I\"\\xaaqueue_time\\xcb?]rG\\xacM6\\xb0\\xaatotal_time\\xcb?\\xc6\\xe0;\\x00S\\x84Y\\xaamodel_name\\xb4llama-3.1-8b-instant\\xb2system_fingerprint\\xadfp_9cb648b966\\xadfinish_reason\\xa4stop\\xa8logprobs\\xc0\\xa4type\\xa2ai\\xa4name\\xc0\\xa2id\\xd9*run-ad764dda-f5d0-40e2-aa08-03a6de706996-0\\xa7example\\xc2\\xaatool_calls\\x90\\xb2invalid_tool_calls\\x90\\xaeusage_metadata\\x83\\xacinput_tokens\\xcc\\xb4\\xadoutput_tokensw\\xactotal_tokens\\xcd\\x01+\\xb3model_validate_json\\xa7summary\\xda\\x028Here\\'s an updated summary of our conversation:\\n\\nWe discussed the capitals of four countries in East Asia:\\n\\n1. South Korea: Seoul\\n2. Japan: Tokyo\\n3. China: Beijing\\n4. We also calculated the approximate distances between these capitals:\\n   - Between Beijing (China) and Seoul (South Korea): approximately 663 kilometers (412 miles)\\n   - Between Beijing (China) and Tokyo (Japan): approximately 1,864 kilometers (1,158 miles)\\n   - Between Seoul (South Korea) and Tokyo (Japan): approximately 946 kilometers (588 miles)\\n\\nLet me know if you\\'d like to discuss anything else!\\xa9__start__\\x81\\xa8messages\\x9a\\xc7\\xbc\\x05\\x94\\xbalangchain_core.messages.ai\\xa9AIMessage\\x8a\\xa7content\\xa3Hi.\\xb1additional_kwargs\\x80\\xb1response_metadata\\x80\\xa4type\\xa2ai\\xa4name\\xa3Bot\\xa2id\\xa10\\xa7example\\xc2\\xaatool_calls\\x90\\xb2invalid_tool_calls\\x90\\xaeusage_metadata\\xc0\\xb3model_validate_json\\xc7\\xb6\\x05\\x94\\xbdlangchain_core.messages.human\\xacHumanMessage\\x87\\xa7content\\xd9#what is the capital of south korea?\\xb1additional_kwargs\\x80\\xb1response_metadata\\x80\\xa4type\\xa5human\\xa4name\\xa3Kim\\xa2id\\xa11\\xa7example\\xc2\\xb3model_validate_json\\xc8\\x02!\\x05\\x94\\xbalangchain_core.messages.ai\\xa9AIMessage\\x8a\\xa7content\\xd9$The capital of South Korea is Seoul.\\xb1additional_kwargs\\x80\\xb1response_metadata\\x85\\xabtoken_usage\\x87\\xb1completion_tokens\\t\\xadprompt_tokens3\\xactotal_tokens<\\xafcompletion_time\\xcb?\\x88\\x93t\\xbcj~\\xfa\\xabprompt_time\\xcb?i\\x80\\x10\\xa8\\xe7\\x0b\\xe0\\xaaqueue_time\\xcb?\\x89\\xa1\\xa1GZT\\x00\\xaatotal_time\\xcb?\\x8e\\xf3x\\xe6\\xa4A\\xf2\\xaamodel_name\\xb4llama-3.1-8b-instant\\xb2system_fingerprint\\xadfp_f66ccb39ec\\xadfinish_reason\\xa4stop\\xa8logprobs\\xc0\\xa4type\\xa2ai\\xa4name\\xc0\\xa2id\\xd9*run-dd94e8f0-d959-44cd-a52e-e86b5c0542ec-0\\xa7example\\xc2\\xaatool_calls\\x90\\xb2invalid_tool_calls\\x90\\xaeusage_metadata\\x83\\xacinput_tokens3\\xadoutput_tokens\\t\\xactotal_tokens<\\xb3model_validate_json\\xc7\\xaf\\x05\\x94\\xbdlangchain_core.messages.human\\xacHumanMessage\\x87\\xa7content\\xbdwhat is the capital of japan?\\xb1additional_kwargs\\x80\\xb1response_metadata\\x80\\xa4type\\xa5human\\xa4name\\xa3Kim\\xa2id\\xa13\\xa7example\\xc2\\xb3model_validate_json\\xc8\\x02\\x1a\\x05\\x94\\xbalangchain_core.messages.ai\\xa9AIMessage\\x8a\\xa7content\\xbeThe capital of Japan is Tokyo.\\xb1additional_kwargs\\x80\\xb1response_metadata\\x85\\xabtoken_usage\\x87\\xb1completion_tokens\\x08\\xadprompt_tokensL\\xactotal_tokensT\\xafcompletion_time\\xcb?\\x85\\xd8g\\xcf`\\xea\\x95\\xabprompt_time\\xcb?\\x85;U@\\xa44\\xfe\\xaaqueue_time\\xcb?\\xaa\\xf3\\t!\\x91\\xcb\\x18\\xaatotal_time\\xcb?\\x95\\x89\\xde\\x88\\x02\\x8f\\xca\\xaamodel_name\\xb4llama-3.1-8b-instant\\xb2system_fingerprint\\xadfp_9cb648b966\\xadfinish_reason\\xa4stop\\xa8logprobs\\xc0\\xa4type\\xa2ai\\xa4name\\xc0\\xa2id\\xd9*run-cc4070c0-4aa9-484c-9539-9427fb9dd4de-0\\xa7example\\xc2\\xaatool_calls\\x90\\xb2invalid_tool_calls\\x90\\xaeusage_metadata\\x83\\xacinput_tokensL\\xadoutput_tokens\\x08\\xactotal_tokensT\\xb3model_validate_json\\xc7\\xaf\\x05\\x94\\xbdlangchain_core.messages.human\\xacHumanMessage\\x87\\xa7content\\xbdwhat is the capital of china?\\xb1additional_kwargs\\x80\\xb1response_metadata\\x80\\xa4type\\xa5human\\xa4name\\xa3Kim\\xa2id\\xa15\\xa7example\\xc2\\xb3model_validate_json\\xc8\\x02\\x1d\\x05\\x94\\xbalangchain_core.messages.ai\\xa9AIMessage\\x8a\\xa7content\\xd9 The capital of China is Beijing.\\xb1additional_kwargs\\x80\\xb1response_metadata\\x85\\xabtoken_usage\\x87\\xb1completion_tokens\\x08\\xadprompt_tokensd\\xactotal_tokensl\\xafcompletion_time\\xcb?\\x85\\xd8g\\xcf`\\xea\\x95\\xabprompt_time\\xcb?\\x86\\xa7\\x02/Q\\x9e\\xa6\\xaaqueue_time\\xcb?m%\\x8fS\\x11\\x16t\\xaatotal_time\\xcb?\\x96?\\xb4\\xffYD\\x9d\\xaamodel_name\\xb4llama-3.1-8b-instant\\xb2system_fingerprint\\xadfp_9cb648b966\\xadfinish_reason\\xa4stop\\xa8logprobs\\xc0\\xa4type\\xa2ai\\xa4name\\xc0\\xa2id\\xd9*run-bd1b983f-bdfe-4fa1-9d62-7cdba7b9b12f-0\\xa7example\\xc2\\xaatool_calls\\x90\\xb2invalid_tool_calls\\x90\\xaeusage_metadata\\x83\\xacinput_tokensd\\xadoutput_tokens\\x08\\xactotal_tokensl\\xb3model_validate_json\\xc7\\xbe\\x05\\x94\\xbdlangchain_core.messages.human\\xacHumanMessage\\x87\\xa7content\\xd9+what is the distance between two capitals ?\\xb1additional_kwargs\\x80\\xb1response_metadata\\x80\\xa4type\\xa5human\\xa4name\\xa3Kim\\xa2id\\xa17\\xa7example\\xc2\\xb3model_validate_json\\xc8\\x048\\x05\\x94\\xbalangchain_core.messages.ai\\xa9AIMessage\\x8a\\xa7content\\xda\\x024To calculate the distance between two capitals, we need to know which two capitals you are referring to. However, I can give you some approximate distances between the capitals we discussed earlier:\\n\\n- Between Beijing (China) and Seoul (South Korea): approximately 663 kilometers (412 miles)\\n- Between Beijing (China) and Tokyo (Japan): approximately 1,864 kilometers (1,158 miles)\\n- Between Seoul (South Korea) and Tokyo (Japan): approximately 946 kilometers (588 miles)\\n\\nPlease let me know if you\\'d like to know the distance between a different pair of capitals.\\xb1additional_kwargs\\x80\\xb1response_metadata\\x85\\xabtoken_usage\\x87\\xb1completion_tokensw\\xadprompt_tokens\\xcc\\xb4\\xactotal_tokens\\xcd\\x01+\\xafcompletion_time\\xcb?\\xc4O0x\\xdd{5\\xabprompt_time\\xcb?\\x94\\x88T;\\xb0I\"\\xaaqueue_time\\xcb?]rG\\xacM6\\xb0\\xaatotal_time\\xcb?\\xc6\\xe0;\\x00S\\x84Y\\xaamodel_name\\xb4llama-3.1-8b-instant\\xb2system_fingerprint\\xadfp_9cb648b966\\xadfinish_reason\\xa4stop\\xa8logprobs\\xc0\\xa4type\\xa2ai\\xa4name\\xc0\\xa2id\\xd9*run-ad764dda-f5d0-40e2-aa08-03a6de706996-0\\xa7example\\xc2\\xaatool_calls\\x90\\xb2invalid_tool_calls\\x90\\xaeusage_metadata\\x83\\xacinput_tokens\\xcc\\xb4\\xadoutput_tokensw\\xactotal_tokens\\xcd\\x01+\\xb3model_validate_json\\xc7\\xce\\x05\\x94\\xbdlangchain_core.messages.human\\xacHumanMessage\\x87\\xa7content\\xd9;let me know the all capitals that is previously discussed ?\\xb1additional_kwargs\\x80\\xb1response_metadata\\x80\\xa4type\\xa5human\\xa4name\\xa3Kim\\xa2id\\xa19\\xa7example\\xc2\\xb3model_validate_json\\xb0channel_versions\\x87\\xa9__start__\\xd9100000000000000000000000000000015.0.98809255316837\\xa8messages\\xd9300000000000000000000000000000014.0.7543708151509471\\xb2start:conversation\\xd9300000000000000000000000000000013.0.8769110496410416\\xacconversation\\xd9400000000000000000000000000000014.0.21229459366583647\\xd9:branch:conversation:should_continue:summarize_conversation\\xd9300000000000000000000000000000014.0.7012264684058048\\xb6summarize_conversation\\xd9200000000000000000000000000000015.0.458555968245999\\xa7summary\\xd9400000000000000000000000000000014.0.31194185010809206\\xadversions_seen\\x84\\xa9__input__\\x80\\xa9__start__\\x81\\xa9__start__\\xd9400000000000000000000000000000011.0.42592156172161477\\xacconversation\\x81\\xb2start:conversation\\xd9300000000000000000000000000000012.0.1872099405319666\\xb6summarize_conversation\\x81\\xd9:branch:conversation:should_continue:summarize_conversation\\xd9300000000000000000000000000000013.0.3077029740893644\\xadpending_sends\\x90', b'{\"source\": \"input\", \"writes\": {\"__start__\": {\"messages\": [{\"lc\": 1, \"type\": \"constructor\", \"id\": [\"langchain\", \"schema\", \"messages\", \"AIMessage\"], \"kwargs\": {\"content\": \"Hi.\", \"type\": \"ai\", \"name\": \"Bot\", \"id\": \"0\", \"tool_calls\": [], \"invalid_tool_calls\": []}}, {\"lc\": 1, \"type\": \"constructor\", \"id\": [\"langchain\", \"schema\", \"messages\", \"HumanMessage\"], \"kwargs\": {\"content\": \"what is the capital of south korea?\", \"type\": \"human\", \"name\": \"Kim\", \"id\": \"1\"}}, {\"lc\": 1, \"type\": \"constructor\", \"id\": [\"langchain\", \"schema\", \"messages\", \"AIMessage\"], \"kwargs\": {\"content\": \"The capital of South Korea is Seoul.\", \"response_metadata\": {\"token_usage\": {\"completion_tokens\": 9, \"prompt_tokens\": 51, \"total_tokens\": 60, \"completion_time\": 0.012, \"prompt_time\": 0.003112824, \"queue_time\": 0.012515315999999999, \"total_time\": 0.015112824}, \"model_name\": \"llama-3.1-8b-instant\", \"system_fingerprint\": \"fp_f66ccb39ec\", \"finish_reason\": \"stop\", \"logprobs\": null}, \"type\": \"ai\", \"id\": \"run-dd94e8f0-d959-44cd-a52e-e86b5c0542ec-0\", \"usage_metadata\": {\"input_tokens\": 51, \"output_tokens\": 9, \"total_tokens\": 60}, \"tool_calls\": [], \"invalid_tool_calls\": []}}, {\"lc\": 1, \"type\": \"constructor\", \"id\": [\"langchain\", \"schema\", \"messages\", \"HumanMessage\"], \"kwargs\": {\"content\": \"what is the capital of japan?\", \"type\": \"human\", \"name\": \"Kim\", \"id\": \"3\"}}, {\"lc\": 1, \"type\": \"constructor\", \"id\": [\"langchain\", \"schema\", \"messages\", \"AIMessage\"], \"kwargs\": {\"content\": \"The capital of Japan is Tokyo.\", \"response_metadata\": {\"token_usage\": {\"completion_tokens\": 8, \"prompt_tokens\": 76, \"total_tokens\": 84, \"completion_time\": 0.010666667, \"prompt_time\": 0.010367075, \"queue_time\": 0.05263546499999999, \"total_time\": 0.021033742}, \"model_name\": \"llama-3.1-8b-instant\", \"system_fingerprint\": \"fp_9cb648b966\", \"finish_reason\": \"stop\", \"logprobs\": null}, \"type\": \"ai\", \"id\": \"run-cc4070c0-4aa9-484c-9539-9427fb9dd4de-0\", \"usage_metadata\": {\"input_tokens\": 76, \"output_tokens\": 8, \"total_tokens\": 84}, \"tool_calls\": [], \"invalid_tool_calls\": []}}, {\"lc\": 1, \"type\": \"constructor\", \"id\": [\"langchain\", \"schema\", \"messages\", \"HumanMessage\"], \"kwargs\": {\"content\": \"what is the capital of china?\", \"type\": \"human\", \"name\": \"Kim\", \"id\": \"5\"}}, {\"lc\": 1, \"type\": \"constructor\", \"id\": [\"langchain\", \"schema\", \"messages\", \"AIMessage\"], \"kwargs\": {\"content\": \"The capital of China is Beijing.\", \"response_metadata\": {\"token_usage\": {\"completion_tokens\": 8, \"prompt_tokens\": 100, \"total_tokens\": 108, \"completion_time\": 0.010666667, \"prompt_time\": 0.011060731, \"queue_time\": 0.0035579489999999995, \"total_time\": 0.021727398}, \"model_name\": \"llama-3.1-8b-instant\", \"system_fingerprint\": \"fp_9cb648b966\", \"finish_reason\": \"stop\", \"logprobs\": null}, \"type\": \"ai\", \"id\": \"run-bd1b983f-bdfe-4fa1-9d62-7cdba7b9b12f-0\", \"usage_metadata\": {\"input_tokens\": 100, \"output_tokens\": 8, \"total_tokens\": 108}, \"tool_calls\": [], \"invalid_tool_calls\": []}}, {\"lc\": 1, \"type\": \"constructor\", \"id\": [\"langchain\", \"schema\", \"messages\", \"HumanMessage\"], \"kwargs\": {\"content\": \"what is the distance between two capitals ?\", \"type\": \"human\", \"name\": \"Kim\", \"id\": \"7\"}}, {\"lc\": 1, \"type\": \"constructor\", \"id\": [\"langchain\", \"schema\", \"messages\", \"AIMessage\"], \"kwargs\": {\"content\": \"To calculate the distance between two capitals, we need to know which two capitals you are referring to. However, I can give you some approximate distances between the capitals we discussed earlier:\\\\n\\\\n- Between Beijing (China) and Seoul (South Korea): approximately 663 kilometers (412 miles)\\\\n- Between Beijing (China) and Tokyo (Japan): approximately 1,864 kilometers (1,158 miles)\\\\n- Between Seoul (South Korea) and Tokyo (Japan): approximately 946 kilometers (588 miles)\\\\n\\\\nPlease let me know if you\\'d like to know the distance between a different pair of capitals.\", \"response_metadata\": {\"token_usage\": {\"completion_tokens\": 119, \"prompt_tokens\": 180, \"total_tokens\": 299, \"completion_time\": 0.158666667, \"prompt_time\": 0.020051304, \"queue_time\": 0.0017972660000000022, \"total_time\": 0.178717971}, \"model_name\": \"llama-3.1-8b-instant\", \"system_fingerprint\": \"fp_9cb648b966\", \"finish_reason\": \"stop\", \"logprobs\": null}, \"type\": \"ai\", \"id\": \"run-ad764dda-f5d0-40e2-aa08-03a6de706996-0\", \"usage_metadata\": {\"input_tokens\": 180, \"output_tokens\": 119, \"total_tokens\": 299}, \"tool_calls\": [], \"invalid_tool_calls\": []}}, {\"lc\": 1, \"type\": \"constructor\", \"id\": [\"langchain\", \"schema\", \"messages\", \"HumanMessage\"], \"kwargs\": {\"content\": \"let me know the all capitals that is previously discussed ?\", \"type\": \"human\", \"name\": \"Kim\", \"id\": \"9\"}}]}}, \"step\": 13, \"parents\": {}}')\n",
      "('1', '', '1efa9256-7aa9-60b8-800e-dd665b48bc18', '1efa9256-7aa9-60b7-800d-784a935a9571', 'msgpack', b'\\x87\\xa1v\\x01\\xa2ts\\xd9 2024-11-22T22:59:18.989023+00:00\\xa2id\\xd9$1efa9256-7aa9-60b8-800e-dd665b48bc18\\xaechannel_values\\x83\\xa8messages\\x9a\\xc7\\xbe\\x05\\x94\\xbdlangchain_core.messages.human\\xacHumanMessage\\x87\\xa7content\\xd9+what is the distance between two capitals ?\\xb1additional_kwargs\\x80\\xb1response_metadata\\x80\\xa4type\\xa5human\\xa4name\\xa3Kim\\xa2id\\xa17\\xa7example\\xc2\\xb3model_validate_json\\xc8\\x048\\x05\\x94\\xbalangchain_core.messages.ai\\xa9AIMessage\\x8a\\xa7content\\xda\\x024To calculate the distance between two capitals, we need to know which two capitals you are referring to. However, I can give you some approximate distances between the capitals we discussed earlier:\\n\\n- Between Beijing (China) and Seoul (South Korea): approximately 663 kilometers (412 miles)\\n- Between Beijing (China) and Tokyo (Japan): approximately 1,864 kilometers (1,158 miles)\\n- Between Seoul (South Korea) and Tokyo (Japan): approximately 946 kilometers (588 miles)\\n\\nPlease let me know if you\\'d like to know the distance between a different pair of capitals.\\xb1additional_kwargs\\x80\\xb1response_metadata\\x85\\xabtoken_usage\\x87\\xb1completion_tokensw\\xadprompt_tokens\\xcc\\xb4\\xactotal_tokens\\xcd\\x01+\\xafcompletion_time\\xcb?\\xc4O0x\\xdd{5\\xabprompt_time\\xcb?\\x94\\x88T;\\xb0I\"\\xaaqueue_time\\xcb?]rG\\xacM6\\xb0\\xaatotal_time\\xcb?\\xc6\\xe0;\\x00S\\x84Y\\xaamodel_name\\xb4llama-3.1-8b-instant\\xb2system_fingerprint\\xadfp_9cb648b966\\xadfinish_reason\\xa4stop\\xa8logprobs\\xc0\\xa4type\\xa2ai\\xa4name\\xc0\\xa2id\\xd9*run-ad764dda-f5d0-40e2-aa08-03a6de706996-0\\xa7example\\xc2\\xaatool_calls\\x90\\xb2invalid_tool_calls\\x90\\xaeusage_metadata\\x83\\xacinput_tokens\\xcc\\xb4\\xadoutput_tokensw\\xactotal_tokens\\xcd\\x01+\\xb3model_validate_json\\xc7\\xbc\\x05\\x94\\xbalangchain_core.messages.ai\\xa9AIMessage\\x8a\\xa7content\\xa3Hi.\\xb1additional_kwargs\\x80\\xb1response_metadata\\x80\\xa4type\\xa2ai\\xa4name\\xa3Bot\\xa2id\\xa10\\xa7example\\xc2\\xaatool_calls\\x90\\xb2invalid_tool_calls\\x90\\xaeusage_metadata\\xc0\\xb3model_validate_json\\xc7\\xb6\\x05\\x94\\xbdlangchain_core.messages.human\\xacHumanMessage\\x87\\xa7content\\xd9#what is the capital of south korea?\\xb1additional_kwargs\\x80\\xb1response_metadata\\x80\\xa4type\\xa5human\\xa4name\\xa3Kim\\xa2id\\xa11\\xa7example\\xc2\\xb3model_validate_json\\xc8\\x02!\\x05\\x94\\xbalangchain_core.messages.ai\\xa9AIMessage\\x8a\\xa7content\\xd9$The capital of South Korea is Seoul.\\xb1additional_kwargs\\x80\\xb1response_metadata\\x85\\xabtoken_usage\\x87\\xb1completion_tokens\\t\\xadprompt_tokens3\\xactotal_tokens<\\xafcompletion_time\\xcb?\\x88\\x93t\\xbcj~\\xfa\\xabprompt_time\\xcb?i\\x80\\x10\\xa8\\xe7\\x0b\\xe0\\xaaqueue_time\\xcb?\\x89\\xa1\\xa1GZT\\x00\\xaatotal_time\\xcb?\\x8e\\xf3x\\xe6\\xa4A\\xf2\\xaamodel_name\\xb4llama-3.1-8b-instant\\xb2system_fingerprint\\xadfp_f66ccb39ec\\xadfinish_reason\\xa4stop\\xa8logprobs\\xc0\\xa4type\\xa2ai\\xa4name\\xc0\\xa2id\\xd9*run-dd94e8f0-d959-44cd-a52e-e86b5c0542ec-0\\xa7example\\xc2\\xaatool_calls\\x90\\xb2invalid_tool_calls\\x90\\xaeusage_metadata\\x83\\xacinput_tokens3\\xadoutput_tokens\\t\\xactotal_tokens<\\xb3model_validate_json\\xc7\\xaf\\x05\\x94\\xbdlangchain_core.messages.human\\xacHumanMessage\\x87\\xa7content\\xbdwhat is the capital of japan?\\xb1additional_kwargs\\x80\\xb1response_metadata\\x80\\xa4type\\xa5human\\xa4name\\xa3Kim\\xa2id\\xa13\\xa7example\\xc2\\xb3model_validate_json\\xc8\\x02\\x1a\\x05\\x94\\xbalangchain_core.messages.ai\\xa9AIMessage\\x8a\\xa7content\\xbeThe capital of Japan is Tokyo.\\xb1additional_kwargs\\x80\\xb1response_metadata\\x85\\xabtoken_usage\\x87\\xb1completion_tokens\\x08\\xadprompt_tokensL\\xactotal_tokensT\\xafcompletion_time\\xcb?\\x85\\xd8g\\xcf`\\xea\\x95\\xabprompt_time\\xcb?\\x85;U@\\xa44\\xfe\\xaaqueue_time\\xcb?\\xaa\\xf3\\t!\\x91\\xcb\\x18\\xaatotal_time\\xcb?\\x95\\x89\\xde\\x88\\x02\\x8f\\xca\\xaamodel_name\\xb4llama-3.1-8b-instant\\xb2system_fingerprint\\xadfp_9cb648b966\\xadfinish_reason\\xa4stop\\xa8logprobs\\xc0\\xa4type\\xa2ai\\xa4name\\xc0\\xa2id\\xd9*run-cc4070c0-4aa9-484c-9539-9427fb9dd4de-0\\xa7example\\xc2\\xaatool_calls\\x90\\xb2invalid_tool_calls\\x90\\xaeusage_metadata\\x83\\xacinput_tokensL\\xadoutput_tokens\\x08\\xactotal_tokensT\\xb3model_validate_json\\xc7\\xaf\\x05\\x94\\xbdlangchain_core.messages.human\\xacHumanMessage\\x87\\xa7content\\xbdwhat is the capital of china?\\xb1additional_kwargs\\x80\\xb1response_metadata\\x80\\xa4type\\xa5human\\xa4name\\xa3Kim\\xa2id\\xa15\\xa7example\\xc2\\xb3model_validate_json\\xc8\\x02\\x1d\\x05\\x94\\xbalangchain_core.messages.ai\\xa9AIMessage\\x8a\\xa7content\\xd9 The capital of China is Beijing.\\xb1additional_kwargs\\x80\\xb1response_metadata\\x85\\xabtoken_usage\\x87\\xb1completion_tokens\\x08\\xadprompt_tokensd\\xactotal_tokensl\\xafcompletion_time\\xcb?\\x85\\xd8g\\xcf`\\xea\\x95\\xabprompt_time\\xcb?\\x86\\xa7\\x02/Q\\x9e\\xa6\\xaaqueue_time\\xcb?m%\\x8fS\\x11\\x16t\\xaatotal_time\\xcb?\\x96?\\xb4\\xffYD\\x9d\\xaamodel_name\\xb4llama-3.1-8b-instant\\xb2system_fingerprint\\xadfp_9cb648b966\\xadfinish_reason\\xa4stop\\xa8logprobs\\xc0\\xa4type\\xa2ai\\xa4name\\xc0\\xa2id\\xd9*run-bd1b983f-bdfe-4fa1-9d62-7cdba7b9b12f-0\\xa7example\\xc2\\xaatool_calls\\x90\\xb2invalid_tool_calls\\x90\\xaeusage_metadata\\x83\\xacinput_tokensd\\xadoutput_tokens\\x08\\xactotal_tokensl\\xb3model_validate_json\\xc7\\xce\\x05\\x94\\xbdlangchain_core.messages.human\\xacHumanMessage\\x87\\xa7content\\xd9;let me know the all capitals that is previously discussed ?\\xb1additional_kwargs\\x80\\xb1response_metadata\\x80\\xa4type\\xa5human\\xa4name\\xa3Kim\\xa2id\\xa19\\xa7example\\xc2\\xb3model_validate_json\\xa7summary\\xda\\x028Here\\'s an updated summary of our conversation:\\n\\nWe discussed the capitals of four countries in East Asia:\\n\\n1. South Korea: Seoul\\n2. Japan: Tokyo\\n3. China: Beijing\\n4. We also calculated the approximate distances between these capitals:\\n   - Between Beijing (China) and Seoul (South Korea): approximately 663 kilometers (412 miles)\\n   - Between Beijing (China) and Tokyo (Japan): approximately 1,864 kilometers (1,158 miles)\\n   - Between Seoul (South Korea) and Tokyo (Japan): approximately 946 kilometers (588 miles)\\n\\nLet me know if you\\'d like to discuss anything else!\\xb2start:conversation\\xa9__start__\\xb0channel_versions\\x87\\xa9__start__\\xd9400000000000000000000000000000016.0.39506158538043346\\xa8messages\\xd9300000000000000000000000000000016.0.6970119832132753\\xb2start:conversation\\xd9400000000000000000000000000000016.0.08381878472273063\\xacconversation\\xd9400000000000000000000000000000014.0.21229459366583647\\xd9:branch:conversation:should_continue:summarize_conversation\\xd9300000000000000000000000000000014.0.7012264684058048\\xb6summarize_conversation\\xd9200000000000000000000000000000015.0.458555968245999\\xa7summary\\xd9400000000000000000000000000000014.0.31194185010809206\\xadversions_seen\\x84\\xa9__input__\\x80\\xa9__start__\\x81\\xa9__start__\\xd9100000000000000000000000000000015.0.98809255316837\\xacconversation\\x81\\xb2start:conversation\\xd9300000000000000000000000000000012.0.1872099405319666\\xb6summarize_conversation\\x81\\xd9:branch:conversation:should_continue:summarize_conversation\\xd9300000000000000000000000000000013.0.3077029740893644\\xadpending_sends\\x90', b'{\"source\": \"loop\", \"writes\": null, \"step\": 14, \"parents\": {}}')\n",
      "('1', '', '1efa9256-7d0d-6581-800f-ae51abe5b9b8', '1efa9256-7aa9-60b8-800e-dd665b48bc18', 'msgpack', b'\\x87\\xa1v\\x01\\xa2ts\\xd9 2024-11-22T22:59:19.239820+00:00\\xa2id\\xd9$1efa9256-7d0d-6581-800f-ae51abe5b9b8\\xaechannel_values\\x84\\xa8messages\\x9b\\xc7\\xbe\\x05\\x94\\xbdlangchain_core.messages.human\\xacHumanMessage\\x87\\xa7content\\xd9+what is the distance between two capitals ?\\xb1additional_kwargs\\x80\\xb1response_metadata\\x80\\xa4type\\xa5human\\xa4name\\xa3Kim\\xa2id\\xa17\\xa7example\\xc2\\xb3model_validate_json\\xc8\\x048\\x05\\x94\\xbalangchain_core.messages.ai\\xa9AIMessage\\x8a\\xa7content\\xda\\x024To calculate the distance between two capitals, we need to know which two capitals you are referring to. However, I can give you some approximate distances between the capitals we discussed earlier:\\n\\n- Between Beijing (China) and Seoul (South Korea): approximately 663 kilometers (412 miles)\\n- Between Beijing (China) and Tokyo (Japan): approximately 1,864 kilometers (1,158 miles)\\n- Between Seoul (South Korea) and Tokyo (Japan): approximately 946 kilometers (588 miles)\\n\\nPlease let me know if you\\'d like to know the distance between a different pair of capitals.\\xb1additional_kwargs\\x80\\xb1response_metadata\\x85\\xabtoken_usage\\x87\\xb1completion_tokensw\\xadprompt_tokens\\xcc\\xb4\\xactotal_tokens\\xcd\\x01+\\xafcompletion_time\\xcb?\\xc4O0x\\xdd{5\\xabprompt_time\\xcb?\\x94\\x88T;\\xb0I\"\\xaaqueue_time\\xcb?]rG\\xacM6\\xb0\\xaatotal_time\\xcb?\\xc6\\xe0;\\x00S\\x84Y\\xaamodel_name\\xb4llama-3.1-8b-instant\\xb2system_fingerprint\\xadfp_9cb648b966\\xadfinish_reason\\xa4stop\\xa8logprobs\\xc0\\xa4type\\xa2ai\\xa4name\\xc0\\xa2id\\xd9*run-ad764dda-f5d0-40e2-aa08-03a6de706996-0\\xa7example\\xc2\\xaatool_calls\\x90\\xb2invalid_tool_calls\\x90\\xaeusage_metadata\\x83\\xacinput_tokens\\xcc\\xb4\\xadoutput_tokensw\\xactotal_tokens\\xcd\\x01+\\xb3model_validate_json\\xc7\\xbc\\x05\\x94\\xbalangchain_core.messages.ai\\xa9AIMessage\\x8a\\xa7content\\xa3Hi.\\xb1additional_kwargs\\x80\\xb1response_metadata\\x80\\xa4type\\xa2ai\\xa4name\\xa3Bot\\xa2id\\xa10\\xa7example\\xc2\\xaatool_calls\\x90\\xb2invalid_tool_calls\\x90\\xaeusage_metadata\\xc0\\xb3model_validate_json\\xc7\\xb6\\x05\\x94\\xbdlangchain_core.messages.human\\xacHumanMessage\\x87\\xa7content\\xd9#what is the capital of south korea?\\xb1additional_kwargs\\x80\\xb1response_metadata\\x80\\xa4type\\xa5human\\xa4name\\xa3Kim\\xa2id\\xa11\\xa7example\\xc2\\xb3model_validate_json\\xc8\\x02!\\x05\\x94\\xbalangchain_core.messages.ai\\xa9AIMessage\\x8a\\xa7content\\xd9$The capital of South Korea is Seoul.\\xb1additional_kwargs\\x80\\xb1response_metadata\\x85\\xabtoken_usage\\x87\\xb1completion_tokens\\t\\xadprompt_tokens3\\xactotal_tokens<\\xafcompletion_time\\xcb?\\x88\\x93t\\xbcj~\\xfa\\xabprompt_time\\xcb?i\\x80\\x10\\xa8\\xe7\\x0b\\xe0\\xaaqueue_time\\xcb?\\x89\\xa1\\xa1GZT\\x00\\xaatotal_time\\xcb?\\x8e\\xf3x\\xe6\\xa4A\\xf2\\xaamodel_name\\xb4llama-3.1-8b-instant\\xb2system_fingerprint\\xadfp_f66ccb39ec\\xadfinish_reason\\xa4stop\\xa8logprobs\\xc0\\xa4type\\xa2ai\\xa4name\\xc0\\xa2id\\xd9*run-dd94e8f0-d959-44cd-a52e-e86b5c0542ec-0\\xa7example\\xc2\\xaatool_calls\\x90\\xb2invalid_tool_calls\\x90\\xaeusage_metadata\\x83\\xacinput_tokens3\\xadoutput_tokens\\t\\xactotal_tokens<\\xb3model_validate_json\\xc7\\xaf\\x05\\x94\\xbdlangchain_core.messages.human\\xacHumanMessage\\x87\\xa7content\\xbdwhat is the capital of japan?\\xb1additional_kwargs\\x80\\xb1response_metadata\\x80\\xa4type\\xa5human\\xa4name\\xa3Kim\\xa2id\\xa13\\xa7example\\xc2\\xb3model_validate_json\\xc8\\x02\\x1a\\x05\\x94\\xbalangchain_core.messages.ai\\xa9AIMessage\\x8a\\xa7content\\xbeThe capital of Japan is Tokyo.\\xb1additional_kwargs\\x80\\xb1response_metadata\\x85\\xabtoken_usage\\x87\\xb1completion_tokens\\x08\\xadprompt_tokensL\\xactotal_tokensT\\xafcompletion_time\\xcb?\\x85\\xd8g\\xcf`\\xea\\x95\\xabprompt_time\\xcb?\\x85;U@\\xa44\\xfe\\xaaqueue_time\\xcb?\\xaa\\xf3\\t!\\x91\\xcb\\x18\\xaatotal_time\\xcb?\\x95\\x89\\xde\\x88\\x02\\x8f\\xca\\xaamodel_name\\xb4llama-3.1-8b-instant\\xb2system_fingerprint\\xadfp_9cb648b966\\xadfinish_reason\\xa4stop\\xa8logprobs\\xc0\\xa4type\\xa2ai\\xa4name\\xc0\\xa2id\\xd9*run-cc4070c0-4aa9-484c-9539-9427fb9dd4de-0\\xa7example\\xc2\\xaatool_calls\\x90\\xb2invalid_tool_calls\\x90\\xaeusage_metadata\\x83\\xacinput_tokensL\\xadoutput_tokens\\x08\\xactotal_tokensT\\xb3model_validate_json\\xc7\\xaf\\x05\\x94\\xbdlangchain_core.messages.human\\xacHumanMessage\\x87\\xa7content\\xbdwhat is the capital of china?\\xb1additional_kwargs\\x80\\xb1response_metadata\\x80\\xa4type\\xa5human\\xa4name\\xa3Kim\\xa2id\\xa15\\xa7example\\xc2\\xb3model_validate_json\\xc8\\x02\\x1d\\x05\\x94\\xbalangchain_core.messages.ai\\xa9AIMessage\\x8a\\xa7content\\xd9 The capital of China is Beijing.\\xb1additional_kwargs\\x80\\xb1response_metadata\\x85\\xabtoken_usage\\x87\\xb1completion_tokens\\x08\\xadprompt_tokensd\\xactotal_tokensl\\xafcompletion_time\\xcb?\\x85\\xd8g\\xcf`\\xea\\x95\\xabprompt_time\\xcb?\\x86\\xa7\\x02/Q\\x9e\\xa6\\xaaqueue_time\\xcb?m%\\x8fS\\x11\\x16t\\xaatotal_time\\xcb?\\x96?\\xb4\\xffYD\\x9d\\xaamodel_name\\xb4llama-3.1-8b-instant\\xb2system_fingerprint\\xadfp_9cb648b966\\xadfinish_reason\\xa4stop\\xa8logprobs\\xc0\\xa4type\\xa2ai\\xa4name\\xc0\\xa2id\\xd9*run-bd1b983f-bdfe-4fa1-9d62-7cdba7b9b12f-0\\xa7example\\xc2\\xaatool_calls\\x90\\xb2invalid_tool_calls\\x90\\xaeusage_metadata\\x83\\xacinput_tokensd\\xadoutput_tokens\\x08\\xactotal_tokensl\\xb3model_validate_json\\xc7\\xce\\x05\\x94\\xbdlangchain_core.messages.human\\xacHumanMessage\\x87\\xa7content\\xd9;let me know the all capitals that is previously discussed ?\\xb1additional_kwargs\\x80\\xb1response_metadata\\x80\\xa4type\\xa5human\\xa4name\\xa3Kim\\xa2id\\xa19\\xa7example\\xc2\\xb3model_validate_json\\xc8\\x02l\\x05\\x94\\xbalangchain_core.messages.ai\\xa9AIMessage\\x8a\\xa7content\\xd9gHere are the capitals we previously discussed:\\n\\n1. South Korea: Seoul\\n2. Japan: Tokyo\\n3. China: Beijing\\xb1additional_kwargs\\x80\\xb1response_metadata\\x85\\xabtoken_usage\\x87\\xb1completion_tokens\\x1b\\xadprompt_tokens\\xcd\\x01\\x8e\\xactotal_tokens\\xcd\\x01\\xa9\\xafcompletion_time\\xcb?\\xa2n\\x97\\x8dO\\xdf;\\xabprompt_time\\xcb?\\x9av\\x05\\xf4>^h\\xaaqueue_time\\xcb?d\\xe6\\x9di\\x99\\x07\\x08\\xaatotal_time\\xcb?\\xaf\\xa9\\x9a\\x87o\\x0eo\\xaamodel_name\\xb4llama-3.1-8b-instant\\xb2system_fingerprint\\xadfp_f66ccb39ec\\xadfinish_reason\\xa4stop\\xa8logprobs\\xc0\\xa4type\\xa2ai\\xa4name\\xc0\\xa2id\\xd9*run-f83cfed8-28a5-42f2-94a4-f63540f1594e-0\\xa7example\\xc2\\xaatool_calls\\x90\\xb2invalid_tool_calls\\x90\\xaeusage_metadata\\x83\\xacinput_tokens\\xcd\\x01\\x8e\\xadoutput_tokens\\x1b\\xactotal_tokens\\xcd\\x01\\xa9\\xb3model_validate_json\\xa7summary\\xda\\x028Here\\'s an updated summary of our conversation:\\n\\nWe discussed the capitals of four countries in East Asia:\\n\\n1. South Korea: Seoul\\n2. Japan: Tokyo\\n3. China: Beijing\\n4. We also calculated the approximate distances between these capitals:\\n   - Between Beijing (China) and Seoul (South Korea): approximately 663 kilometers (412 miles)\\n   - Between Beijing (China) and Tokyo (Japan): approximately 1,864 kilometers (1,158 miles)\\n   - Between Seoul (South Korea) and Tokyo (Japan): approximately 946 kilometers (588 miles)\\n\\nLet me know if you\\'d like to discuss anything else!\\xacconversation\\xacconversation\\xd9:branch:conversation:should_continue:summarize_conversation\\xacconversation\\xb0channel_versions\\x87\\xa9__start__\\xd9400000000000000000000000000000016.0.39506158538043346\\xa8messages\\xd9400000000000000000000000000000017.0.21496762974503603\\xb2start:conversation\\xd9300000000000000000000000000000017.0.9879283071650722\\xacconversation\\xd9300000000000000000000000000000017.0.6794192326650395\\xd9:branch:conversation:should_continue:summarize_conversation\\xd9300000000000000000000000000000017.0.6756326469031351\\xb6summarize_conversation\\xd9200000000000000000000000000000015.0.458555968245999\\xa7summary\\xd9400000000000000000000000000000014.0.31194185010809206\\xadversions_seen\\x84\\xa9__input__\\x80\\xa9__start__\\x81\\xa9__start__\\xd9100000000000000000000000000000015.0.98809255316837\\xacconversation\\x81\\xb2start:conversation\\xd9400000000000000000000000000000016.0.08381878472273063\\xb6summarize_conversation\\x81\\xd9:branch:conversation:should_continue:summarize_conversation\\xd9300000000000000000000000000000013.0.3077029740893644\\xadpending_sends\\x90', b'{\"source\": \"loop\", \"writes\": {\"conversation\": {\"messages\": {\"lc\": 1, \"type\": \"constructor\", \"id\": [\"langchain\", \"schema\", \"messages\", \"AIMessage\"], \"kwargs\": {\"content\": \"Here are the capitals we previously discussed:\\\\n\\\\n1. South Korea: Seoul\\\\n2. Japan: Tokyo\\\\n3. China: Beijing\", \"response_metadata\": {\"token_usage\": {\"completion_tokens\": 27, \"prompt_tokens\": 398, \"total_tokens\": 425, \"completion_time\": 0.036, \"prompt_time\": 0.025840848, \"queue_time\": 0.0025513719999999997, \"total_time\": 0.061840848}, \"model_name\": \"llama-3.1-8b-instant\", \"system_fingerprint\": \"fp_f66ccb39ec\", \"finish_reason\": \"stop\", \"logprobs\": null}, \"type\": \"ai\", \"id\": \"run-f83cfed8-28a5-42f2-94a4-f63540f1594e-0\", \"usage_metadata\": {\"input_tokens\": 398, \"output_tokens\": 27, \"total_tokens\": 425}, \"tool_calls\": [], \"invalid_tool_calls\": []}}}}, \"step\": 15, \"parents\": {}}')\n",
      "('1', '', '1efa9256-81f3-64dc-8010-a8d779a69ce0', '1efa9256-7d0d-6581-800f-ae51abe5b9b8', 'msgpack', b\"\\x87\\xa1v\\x01\\xa2ts\\xd9 2024-11-22T22:59:19.753442+00:00\\xa2id\\xd9$1efa9256-81f3-64dc-8010-a8d779a69ce0\\xaechannel_values\\x83\\xa8messages\\x92\\xc7\\xce\\x05\\x94\\xbdlangchain_core.messages.human\\xacHumanMessage\\x87\\xa7content\\xd9;let me know the all capitals that is previously discussed ?\\xb1additional_kwargs\\x80\\xb1response_metadata\\x80\\xa4type\\xa5human\\xa4name\\xa3Kim\\xa2id\\xa19\\xa7example\\xc2\\xb3model_validate_json\\xc8\\x02l\\x05\\x94\\xbalangchain_core.messages.ai\\xa9AIMessage\\x8a\\xa7content\\xd9gHere are the capitals we previously discussed:\\n\\n1. South Korea: Seoul\\n2. Japan: Tokyo\\n3. China: Beijing\\xb1additional_kwargs\\x80\\xb1response_metadata\\x85\\xabtoken_usage\\x87\\xb1completion_tokens\\x1b\\xadprompt_tokens\\xcd\\x01\\x8e\\xactotal_tokens\\xcd\\x01\\xa9\\xafcompletion_time\\xcb?\\xa2n\\x97\\x8dO\\xdf;\\xabprompt_time\\xcb?\\x9av\\x05\\xf4>^h\\xaaqueue_time\\xcb?d\\xe6\\x9di\\x99\\x07\\x08\\xaatotal_time\\xcb?\\xaf\\xa9\\x9a\\x87o\\x0eo\\xaamodel_name\\xb4llama-3.1-8b-instant\\xb2system_fingerprint\\xadfp_f66ccb39ec\\xadfinish_reason\\xa4stop\\xa8logprobs\\xc0\\xa4type\\xa2ai\\xa4name\\xc0\\xa2id\\xd9*run-f83cfed8-28a5-42f2-94a4-f63540f1594e-0\\xa7example\\xc2\\xaatool_calls\\x90\\xb2invalid_tool_calls\\x90\\xaeusage_metadata\\x83\\xacinput_tokens\\xcd\\x01\\x8e\\xadoutput_tokens\\x1b\\xactotal_tokens\\xcd\\x01\\xa9\\xb3model_validate_json\\xa7summary\\xda\\x03\\x7fHere's the updated summary of our conversation:\\n\\nWe discussed the capitals of four countries in East Asia:\\n\\n1. South Korea: Seoul\\n2. Japan: Tokyo\\n3. China: Beijing\\n4. We also calculated the approximate distances between these capitals:\\n   - Between Beijing (China) and Seoul (South Korea): approximately 663 kilometers (412 miles)\\n   - Between Beijing (China) and Tokyo (Japan): approximately 1,864 kilometers (1,158 miles)\\n   - Between Seoul (South Korea) and Tokyo (Japan): approximately 946 kilometers (588 miles)\\n5. You asked me to recall the capital of South Korea, and I confirmed that it is Seoul.\\n6. You asked me to recall the capital of Japan, and I confirmed that it is Tokyo.\\n7. You asked me to recall the capital of China, and I confirmed that it is Beijing.\\n8. You asked me to list all the capitals that we previously discussed, and I provided the list of Seoul, Tokyo, and Beijing.\\xb6summarize_conversation\\xb6summarize_conversation\\xb0channel_versions\\x87\\xa9__start__\\xd9400000000000000000000000000000016.0.39506158538043346\\xa8messages\\xd9300000000000000000000000000000018.0.9858066632377505\\xb2start:conversation\\xd9300000000000000000000000000000017.0.9879283071650722\\xacconversation\\xd9300000000000000000000000000000018.0.7685559862716448\\xd9:branch:conversation:should_continue:summarize_conversation\\xd9300000000000000000000000000000018.0.3194806382294836\\xb6summarize_conversation\\xd9400000000000000000000000000000018.0.12961457086350092\\xa7summary\\xd9400000000000000000000000000000018.0.05752247598648075\\xadversions_seen\\x84\\xa9__input__\\x80\\xa9__start__\\x81\\xa9__start__\\xd9100000000000000000000000000000015.0.98809255316837\\xacconversation\\x81\\xb2start:conversation\\xd9400000000000000000000000000000016.0.08381878472273063\\xb6summarize_conversation\\x81\\xd9:branch:conversation:should_continue:summarize_conversation\\xd9300000000000000000000000000000017.0.6756326469031351\\xadpending_sends\\x90\", b'{\"source\": \"loop\", \"writes\": {\"summarize_conversation\": {\"messages\": [{\"lc\": 1, \"type\": \"constructor\", \"id\": [\"langchain\", \"schema\", \"messages\", \"RemoveMessage\"], \"kwargs\": {\"content\": \"\", \"type\": \"remove\", \"id\": \"7\"}}, {\"lc\": 1, \"type\": \"constructor\", \"id\": [\"langchain\", \"schema\", \"messages\", \"RemoveMessage\"], \"kwargs\": {\"content\": \"\", \"type\": \"remove\", \"id\": \"run-ad764dda-f5d0-40e2-aa08-03a6de706996-0\"}}, {\"lc\": 1, \"type\": \"constructor\", \"id\": [\"langchain\", \"schema\", \"messages\", \"RemoveMessage\"], \"kwargs\": {\"content\": \"\", \"type\": \"remove\", \"id\": \"0\"}}, {\"lc\": 1, \"type\": \"constructor\", \"id\": [\"langchain\", \"schema\", \"messages\", \"RemoveMessage\"], \"kwargs\": {\"content\": \"\", \"type\": \"remove\", \"id\": \"1\"}}, {\"lc\": 1, \"type\": \"constructor\", \"id\": [\"langchain\", \"schema\", \"messages\", \"RemoveMessage\"], \"kwargs\": {\"content\": \"\", \"type\": \"remove\", \"id\": \"run-dd94e8f0-d959-44cd-a52e-e86b5c0542ec-0\"}}, {\"lc\": 1, \"type\": \"constructor\", \"id\": [\"langchain\", \"schema\", \"messages\", \"RemoveMessage\"], \"kwargs\": {\"content\": \"\", \"type\": \"remove\", \"id\": \"3\"}}, {\"lc\": 1, \"type\": \"constructor\", \"id\": [\"langchain\", \"schema\", \"messages\", \"RemoveMessage\"], \"kwargs\": {\"content\": \"\", \"type\": \"remove\", \"id\": \"run-cc4070c0-4aa9-484c-9539-9427fb9dd4de-0\"}}, {\"lc\": 1, \"type\": \"constructor\", \"id\": [\"langchain\", \"schema\", \"messages\", \"RemoveMessage\"], \"kwargs\": {\"content\": \"\", \"type\": \"remove\", \"id\": \"5\"}}, {\"lc\": 1, \"type\": \"constructor\", \"id\": [\"langchain\", \"schema\", \"messages\", \"RemoveMessage\"], \"kwargs\": {\"content\": \"\", \"type\": \"remove\", \"id\": \"run-bd1b983f-bdfe-4fa1-9d62-7cdba7b9b12f-0\"}}], \"summary\": \"Here\\'s the updated summary of our conversation:\\\\n\\\\nWe discussed the capitals of four countries in East Asia:\\\\n\\\\n1. South Korea: Seoul\\\\n2. Japan: Tokyo\\\\n3. China: Beijing\\\\n4. We also calculated the approximate distances between these capitals:\\\\n   - Between Beijing (China) and Seoul (South Korea): approximately 663 kilometers (412 miles)\\\\n   - Between Beijing (China) and Tokyo (Japan): approximately 1,864 kilometers (1,158 miles)\\\\n   - Between Seoul (South Korea) and Tokyo (Japan): approximately 946 kilometers (588 miles)\\\\n5. You asked me to recall the capital of South Korea, and I confirmed that it is Seoul.\\\\n6. You asked me to recall the capital of Japan, and I confirmed that it is Tokyo.\\\\n7. You asked me to recall the capital of China, and I confirmed that it is Beijing.\\\\n8. You asked me to list all the capitals that we previously discussed, and I provided the list of Seoul, Tokyo, and Beijing.\"}}, \"step\": 16, \"parents\": {}}')\n"
     ]
    }
   ],
   "source": [
    "conn = sqlite3.connect('./db/ex_memory_09.db')\n",
    "cursor = conn.cursor()\n",
    "\n",
    "query = \"SELECT * FROM checkpoints\"\n",
    "cursor.execute(query)\n",
    "\n",
    "# Fetch all rows from the result\n",
    "rows = cursor.fetchall()\n",
    "\n",
    "# Iterate over the rows and print the data\n",
    "for row in rows:\n",
    "    print(row)\n",
    "\n",
    "# Close the cursor and the connection\n",
    "cursor.close()\n",
    "conn.close()"
   ]
  },
  {
   "cell_type": "markdown",
   "metadata": {},
   "source": [
    "# Streaming"
   ]
  },
  {
   "cell_type": "code",
   "execution_count": 37,
   "metadata": {},
   "outputs": [
    {
     "data": {
      "image/png": "[encoded data removed]",
      "text/plain": [
       "<IPython.core.display.Image object>"
      ]
     },
     "metadata": {},
     "output_type": "display_data"
    }
   ],
   "source": [
    "from IPython.display import Image, display\n",
    "\n",
    "from langchain_core.messages import SystemMessage, HumanMessage, RemoveMessage\n",
    "from langchain_core.runnables import RunnableConfig\n",
    "\n",
    "from langgraph.checkpoint.memory import MemorySaver\n",
    "from langgraph.graph import StateGraph, START, END\n",
    "from langgraph.graph import MessagesState\n",
    "\n",
    "# LLM\n",
    "from langchain_groq import ChatGroq\n",
    "model = ChatGroq(temperature=0, model_name= \"llama-3.1-8b-instant\")\n",
    "\n",
    "# State \n",
    "class State(MessagesState):\n",
    "    summary: str\n",
    "\n",
    "# Define the logic to call the model\n",
    "def call_model(state: State, config: RunnableConfig):\n",
    "    \n",
    "    # Get summary if it exists\n",
    "    summary = state.get(\"summary\", \"\")\n",
    "\n",
    "    # If there is summary, then we add it\n",
    "    if summary:\n",
    "        \n",
    "        # Add summary to system message\n",
    "        system_message = f\"Summary of conversation earlier: {summary}\"\n",
    "\n",
    "        # Append summary to any newer messages\n",
    "        messages = [SystemMessage(content=system_message)] + state[\"messages\"]\n",
    "    \n",
    "    else:\n",
    "        messages = state[\"messages\"]\n",
    "    \n",
    "    response = model.invoke(messages, config)\n",
    "    return {\"messages\": response}\n",
    "\n",
    "def summarize_conversation(state: State):\n",
    "    \n",
    "    # First, we get any existing summary\n",
    "    summary = state.get(\"summary\", \"\")\n",
    "\n",
    "    # Create our summarization prompt \n",
    "    if summary:\n",
    "        \n",
    "        # A summary already exists\n",
    "        summary_message = (\n",
    "            f\"This is summary of the conversation to date: {summary}\\n\\n\"\n",
    "            \"Extend the summary by taking into account the new messages above:\"\n",
    "        )\n",
    "        \n",
    "    else:\n",
    "        summary_message = \"Create a summary of the conversation above:\"\n",
    "\n",
    "    # Add prompt to our history\n",
    "    messages = state[\"messages\"] + [HumanMessage(content=summary_message)]\n",
    "    response = model.invoke(messages)\n",
    "    \n",
    "    # Delete all but the 2 most recent messages\n",
    "    delete_messages = [RemoveMessage(id=m.id) for m in state[\"messages\"][:-2]]\n",
    "    return {\"summary\": response.content, \"messages\": delete_messages}\n",
    "\n",
    "# Determine whether to end or summarize the conversation\n",
    "def should_continue(state: State):\n",
    "    \n",
    "    \"\"\"Return the next node to execute.\"\"\"\n",
    "    \n",
    "    messages = state[\"messages\"]\n",
    "    \n",
    "    # If there are more than six messages, then we summarize the conversation\n",
    "    if len(messages) > 6:\n",
    "        return \"summarize_conversation\"\n",
    "    \n",
    "    # Otherwise we can just end\n",
    "    return END\n",
    "\n",
    "# Define a new graph\n",
    "workflow = StateGraph(State)\n",
    "workflow.add_node(\"conversation\", call_model)\n",
    "workflow.add_node(summarize_conversation)\n",
    "\n",
    "# Set the entrypoint as conversation\n",
    "workflow.add_edge(START, \"conversation\")\n",
    "workflow.add_conditional_edges(\"conversation\", should_continue)\n",
    "workflow.add_edge(\"summarize_conversation\", END)\n",
    "\n",
    "# Compile\n",
    "memory = MemorySaver()\n",
    "graph = workflow.compile(checkpointer=memory)\n",
    "display(Image(graph.get_graph().draw_mermaid_png()))"
   ]
  },
  {
   "cell_type": "code",
   "execution_count": 38,
   "metadata": {},
   "outputs": [
    {
     "name": "stdout",
     "output_type": "stream",
     "text": [
      "================================\u001b[1m Human Message \u001b[0m=================================\n",
      "Name: Kim\n",
      "\n",
      "let me know the all capitals that is previously discussed ?\n",
      "==================================\u001b[1m Ai Message \u001b[0m==================================\n",
      "\n",
      "Here are the capitals we previously discussed:\n",
      "\n",
      "1. South Korea: Seoul\n",
      "2. Japan: Tokyo\n",
      "3. China: Beijing\n"
     ]
    }
   ],
   "source": [
    "from langchain_core.messages import AIMessage, HumanMessage\n",
    "\n",
    "config = {\"configurable\": {\"thread_id\": \"1\"}}\n",
    "\n",
    "messages = []\n",
    "messages = [AIMessage(\"Hi.\", name=\"Bot\", id=str(len(messages)))]\n",
    "\n",
    "question = \"what is the capital of south korea?\"\n",
    "messages.append(HumanMessage(question, name=\"Kim\", id=str(len(messages))))\n",
    "output = graph.invoke({'messages': messages}, config)\n",
    "\n",
    "messages.append(output['messages'][-1])\n",
    "messages\n",
    "\n",
    "question = \"what is the capital of japan?\"\n",
    "messages.append(HumanMessage(question, name=\"Kim\", id=str(len(messages))))\n",
    "output = graph.invoke({'messages': messages}, config)\n",
    "messages.append(output['messages'][-1])\n",
    "\n",
    "question = \"what is the capital of china?\"\n",
    "messages.append(HumanMessage(question, name=\"Kim\", id=str(len(messages))))\n",
    "output = graph.invoke({'messages': messages}, config)\n",
    "messages.append(output['messages'][-1])\n",
    "\n",
    "question = \"what is the distance between two capitals ?\"\n",
    "messages.append(HumanMessage(question, name=\"Kim\", id=str(len(messages))))\n",
    "output = graph.invoke({'messages': messages}, config)\n",
    "messages.append(output['messages'][-1])\n",
    "\n",
    "question = \"let me know the all capitals that is previously discussed ?\"\n",
    "messages.append(HumanMessage(question, name=\"Kim\", id=str(len(messages))))\n",
    "output = graph.invoke({'messages': messages}, config)\n",
    "messages.append(output['messages'][-1])\n",
    "\n",
    "for m in output['messages']:\n",
    "    m.pretty_print()"
   ]
  },
  {
   "attachments": {
    "image.png": {
     "image/png": "[encoded data removed]"
    }
   },
   "cell_type": "markdown",
   "metadata": {},
   "source": [
    "![image.png](attachment:image.png)"
   ]
  },
  {
   "cell_type": "code",
   "execution_count": 39,
   "metadata": {},
   "outputs": [
    {
     "name": "stdout",
     "output_type": "stream",
     "text": [
      "{'conversation': {'messages': AIMessage(content='The capital of the United States of America (USA) is Washington, D.C. (short for District of Columbia).', additional_kwargs={}, response_metadata={'token_usage': {'completion_tokens': 25, 'prompt_tokens': 299, 'total_tokens': 324, 'completion_time': 0.033333333, 'prompt_time': 0.019433081, 'queue_time': 0.0023107359999999973, 'total_time': 0.052766414}, 'model_name': 'llama-3.1-8b-instant', 'system_fingerprint': 'fp_f66ccb39ec', 'finish_reason': 'stop', 'logprobs': None}, id='run-e337c8e1-fd0f-45b1-8389-733fa2e2e135-0', usage_metadata={'input_tokens': 299, 'output_tokens': 25, 'total_tokens': 324})}}\n"
     ]
    }
   ],
   "source": [
    "config = {\"configurable\": {\"thread_id\": \"1\"}}\n",
    "\n",
    "# Start conversation\n",
    "for chunk in graph.stream({\"messages\": [HumanMessage(content=\"what is the capital of USA\")]}, config, stream_mode=\"updates\"):\n",
    "    print(chunk)"
   ]
  },
  {
   "cell_type": "code",
   "execution_count": 40,
   "metadata": {},
   "outputs": [
    {
     "name": "stdout",
     "output_type": "stream",
     "text": [
      "================================\u001b[1m Human Message \u001b[0m=================================\n",
      "\n",
      "hi! I'm Lance\n",
      "---------------------------------------------------------------------------\n",
      "================================\u001b[1m Human Message \u001b[0m=================================\n",
      "\n",
      "hi! I'm Lance\n",
      "==================================\u001b[1m Ai Message \u001b[0m==================================\n",
      "\n",
      "Hi Lance, it's nice to meet you. Is there something I can help you with or would you like to chat?\n",
      "---------------------------------------------------------------------------\n"
     ]
    }
   ],
   "source": [
    "# Start conversation, again\n",
    "config = {\"configurable\": {\"thread_id\": \"2\"}}\n",
    "\n",
    "# Start conversation\n",
    "input_message = HumanMessage(content=\"hi! I'm Lance\")\n",
    "for event in graph.stream({\"messages\": [input_message]}, config, stream_mode=\"values\"):\n",
    "    for m in event['messages']:\n",
    "        m.pretty_print()\n",
    "    print(\"---\"*25)"
   ]
  },
  {
   "cell_type": "code",
   "execution_count": 41,
   "metadata": {},
   "outputs": [
    {
     "name": "stdout",
     "output_type": "stream",
     "text": [
      "Node: . Type: on_chain_start. Name: LangGraph\n",
      "Node: __start__. Type: on_chain_start. Name: __start__\n",
      "Node: __start__. Type: on_chain_end. Name: __start__\n",
      "Node: conversation. Type: on_chain_start. Name: conversation\n",
      "Node: conversation. Type: on_chat_model_start. Name: ChatGroq\n",
      "Node: conversation. Type: on_chat_model_stream. Name: ChatGroq\n",
      "Node: conversation. Type: on_chat_model_stream. Name: ChatGroq\n",
      "Node: conversation. Type: on_chat_model_stream. Name: ChatGroq\n",
      "Node: conversation. Type: on_chat_model_stream. Name: ChatGroq\n",
      "Node: conversation. Type: on_chat_model_stream. Name: ChatGroq\n",
      "Node: conversation. Type: on_chat_model_stream. Name: ChatGroq\n",
      "Node: conversation. Type: on_chat_model_stream. Name: ChatGroq\n",
      "Node: conversation. Type: on_chat_model_stream. Name: ChatGroq\n",
      "Node: conversation. Type: on_chat_model_stream. Name: ChatGroq\n",
      "Node: conversation. Type: on_chat_model_stream. Name: ChatGroq\n",
      "Node: conversation. Type: on_chat_model_stream. Name: ChatGroq\n",
      "Node: conversation. Type: on_chat_model_stream. Name: ChatGroq\n",
      "Node: conversation. Type: on_chat_model_stream. Name: ChatGroq\n",
      "Node: conversation. Type: on_chat_model_stream. Name: ChatGroq\n",
      "Node: conversation. Type: on_chat_model_stream. Name: ChatGroq\n",
      "Node: conversation. Type: on_chat_model_stream. Name: ChatGroq\n",
      "Node: conversation. Type: on_chat_model_stream. Name: ChatGroq\n",
      "Node: conversation. Type: on_chat_model_stream. Name: ChatGroq\n",
      "Node: conversation. Type: on_chat_model_stream. Name: ChatGroq\n",
      "Node: conversation. Type: on_chat_model_stream. Name: ChatGroq\n",
      "Node: conversation. Type: on_chat_model_stream. Name: ChatGroq\n",
      "Node: conversation. Type: on_chat_model_stream. Name: ChatGroq\n",
      "Node: conversation. Type: on_chat_model_stream. Name: ChatGroq\n",
      "Node: conversation. Type: on_chat_model_stream. Name: ChatGroq\n",
      "Node: conversation. Type: on_chat_model_stream. Name: ChatGroq\n",
      "Node: conversation. Type: on_chat_model_stream. Name: ChatGroq\n",
      "Node: conversation. Type: on_chat_model_stream. Name: ChatGroq\n",
      "Node: conversation. Type: on_chat_model_stream. Name: ChatGroq\n",
      "Node: conversation. Type: on_chat_model_stream. Name: ChatGroq\n",
      "Node: conversation. Type: on_chat_model_stream. Name: ChatGroq\n",
      "Node: conversation. Type: on_chat_model_stream. Name: ChatGroq\n",
      "Node: conversation. Type: on_chat_model_stream. Name: ChatGroq\n",
      "Node: conversation. Type: on_chat_model_stream. Name: ChatGroq\n",
      "Node: conversation. Type: on_chat_model_stream. Name: ChatGroq\n",
      "Node: conversation. Type: on_chat_model_stream. Name: ChatGroq\n",
      "Node: conversation. Type: on_chat_model_stream. Name: ChatGroq\n",
      "Node: conversation. Type: on_chat_model_stream. Name: ChatGroq\n",
      "Node: conversation. Type: on_chat_model_stream. Name: ChatGroq\n",
      "Node: conversation. Type: on_chat_model_stream. Name: ChatGroq\n",
      "Node: conversation. Type: on_chat_model_stream. Name: ChatGroq\n",
      "Node: conversation. Type: on_chat_model_stream. Name: ChatGroq\n",
      "Node: conversation. Type: on_chat_model_stream. Name: ChatGroq\n",
      "Node: conversation. Type: on_chat_model_stream. Name: ChatGroq\n",
      "Node: conversation. Type: on_chat_model_stream. Name: ChatGroq\n",
      "Node: conversation. Type: on_chat_model_stream. Name: ChatGroq\n",
      "Node: conversation. Type: on_chat_model_stream. Name: ChatGroq\n",
      "Node: conversation. Type: on_chat_model_stream. Name: ChatGroq\n",
      "Node: conversation. Type: on_chat_model_stream. Name: ChatGroq\n",
      "Node: conversation. Type: on_chat_model_stream. Name: ChatGroq\n",
      "Node: conversation. Type: on_chat_model_stream. Name: ChatGroq\n",
      "Node: conversation. Type: on_chat_model_stream. Name: ChatGroq\n",
      "Node: conversation. Type: on_chat_model_stream. Name: ChatGroq\n",
      "Node: conversation. Type: on_chat_model_stream. Name: ChatGroq\n",
      "Node: conversation. Type: on_chat_model_stream. Name: ChatGroq\n",
      "Node: conversation. Type: on_chat_model_stream. Name: ChatGroq\n",
      "Node: conversation. Type: on_chat_model_stream. Name: ChatGroq\n",
      "Node: conversation. Type: on_chat_model_stream. Name: ChatGroq\n",
      "Node: conversation. Type: on_chat_model_stream. Name: ChatGroq\n",
      "Node: conversation. Type: on_chat_model_stream. Name: ChatGroq\n",
      "Node: conversation. Type: on_chat_model_stream. Name: ChatGroq\n",
      "Node: conversation. Type: on_chat_model_stream. Name: ChatGroq\n",
      "Node: conversation. Type: on_chat_model_stream. Name: ChatGroq\n",
      "Node: conversation. Type: on_chat_model_stream. Name: ChatGroq\n",
      "Node: conversation. Type: on_chat_model_stream. Name: ChatGroq\n",
      "Node: conversation. Type: on_chat_model_stream. Name: ChatGroq\n",
      "Node: conversation. Type: on_chat_model_stream. Name: ChatGroq\n",
      "Node: conversation. Type: on_chat_model_stream. Name: ChatGroq\n",
      "Node: conversation. Type: on_chat_model_stream. Name: ChatGroq\n",
      "Node: conversation. Type: on_chat_model_stream. Name: ChatGroq\n",
      "Node: conversation. Type: on_chat_model_stream. Name: ChatGroq\n",
      "Node: conversation. Type: on_chat_model_stream. Name: ChatGroq\n",
      "Node: conversation. Type: on_chat_model_stream. Name: ChatGroq\n",
      "Node: conversation. Type: on_chat_model_stream. Name: ChatGroq\n",
      "Node: conversation. Type: on_chat_model_stream. Name: ChatGroq\n",
      "Node: conversation. Type: on_chat_model_stream. Name: ChatGroq\n",
      "Node: conversation. Type: on_chat_model_stream. Name: ChatGroq\n",
      "Node: conversation. Type: on_chat_model_stream. Name: ChatGroq\n",
      "Node: conversation. Type: on_chat_model_stream. Name: ChatGroq\n",
      "Node: conversation. Type: on_chat_model_stream. Name: ChatGroq\n",
      "Node: conversation. Type: on_chat_model_stream. Name: ChatGroq\n",
      "Node: conversation. Type: on_chat_model_stream. Name: ChatGroq\n",
      "Node: conversation. Type: on_chat_model_stream. Name: ChatGroq\n",
      "Node: conversation. Type: on_chat_model_stream. Name: ChatGroq\n",
      "Node: conversation. Type: on_chat_model_stream. Name: ChatGroq\n",
      "Node: conversation. Type: on_chat_model_stream. Name: ChatGroq\n",
      "Node: conversation. Type: on_chat_model_stream. Name: ChatGroq\n",
      "Node: conversation. Type: on_chat_model_stream. Name: ChatGroq\n",
      "Node: conversation. Type: on_chat_model_stream. Name: ChatGroq\n",
      "Node: conversation. Type: on_chat_model_stream. Name: ChatGroq\n",
      "Node: conversation. Type: on_chat_model_stream. Name: ChatGroq\n",
      "Node: conversation. Type: on_chat_model_stream. Name: ChatGroq\n",
      "Node: conversation. Type: on_chat_model_stream. Name: ChatGroq\n",
      "Node: conversation. Type: on_chat_model_stream. Name: ChatGroq\n",
      "Node: conversation. Type: on_chat_model_stream. Name: ChatGroq\n",
      "Node: conversation. Type: on_chat_model_stream. Name: ChatGroq\n",
      "Node: conversation. Type: on_chat_model_stream. Name: ChatGroq\n",
      "Node: conversation. Type: on_chat_model_stream. Name: ChatGroq\n",
      "Node: conversation. Type: on_chat_model_stream. Name: ChatGroq\n",
      "Node: conversation. Type: on_chat_model_stream. Name: ChatGroq\n",
      "Node: conversation. Type: on_chat_model_stream. Name: ChatGroq\n",
      "Node: conversation. Type: on_chat_model_stream. Name: ChatGroq\n",
      "Node: conversation. Type: on_chat_model_stream. Name: ChatGroq\n",
      "Node: conversation. Type: on_chat_model_stream. Name: ChatGroq\n",
      "Node: conversation. Type: on_chat_model_stream. Name: ChatGroq\n",
      "Node: conversation. Type: on_chat_model_stream. Name: ChatGroq\n",
      "Node: conversation. Type: on_chat_model_stream. Name: ChatGroq\n",
      "Node: conversation. Type: on_chat_model_stream. Name: ChatGroq\n",
      "Node: conversation. Type: on_chat_model_stream. Name: ChatGroq\n",
      "Node: conversation. Type: on_chat_model_stream. Name: ChatGroq\n",
      "Node: conversation. Type: on_chat_model_stream. Name: ChatGroq\n",
      "Node: conversation. Type: on_chat_model_stream. Name: ChatGroq\n",
      "Node: conversation. Type: on_chat_model_stream. Name: ChatGroq\n",
      "Node: conversation. Type: on_chat_model_stream. Name: ChatGroq\n",
      "Node: conversation. Type: on_chat_model_stream. Name: ChatGroq\n",
      "Node: conversation. Type: on_chat_model_stream. Name: ChatGroq\n",
      "Node: conversation. Type: on_chat_model_stream. Name: ChatGroq\n",
      "Node: conversation. Type: on_chat_model_stream. Name: ChatGroq\n",
      "Node: conversation. Type: on_chat_model_stream. Name: ChatGroq\n",
      "Node: conversation. Type: on_chat_model_stream. Name: ChatGroq\n",
      "Node: conversation. Type: on_chat_model_stream. Name: ChatGroq\n",
      "Node: conversation. Type: on_chat_model_stream. Name: ChatGroq\n",
      "Node: conversation. Type: on_chat_model_stream. Name: ChatGroq\n",
      "Node: conversation. Type: on_chat_model_stream. Name: ChatGroq\n",
      "Node: conversation. Type: on_chat_model_stream. Name: ChatGroq\n",
      "Node: conversation. Type: on_chat_model_stream. Name: ChatGroq\n",
      "Node: conversation. Type: on_chat_model_stream. Name: ChatGroq\n",
      "Node: conversation. Type: on_chat_model_stream. Name: ChatGroq\n",
      "Node: conversation. Type: on_chat_model_stream. Name: ChatGroq\n",
      "Node: conversation. Type: on_chat_model_stream. Name: ChatGroq\n",
      "Node: conversation. Type: on_chat_model_stream. Name: ChatGroq\n",
      "Node: conversation. Type: on_chat_model_stream. Name: ChatGroq\n",
      "Node: conversation. Type: on_chat_model_stream. Name: ChatGroq\n",
      "Node: conversation. Type: on_chat_model_stream. Name: ChatGroq\n",
      "Node: conversation. Type: on_chat_model_stream. Name: ChatGroq\n",
      "Node: conversation. Type: on_chat_model_stream. Name: ChatGroq\n",
      "Node: conversation. Type: on_chat_model_stream. Name: ChatGroq\n",
      "Node: conversation. Type: on_chat_model_stream. Name: ChatGroq\n",
      "Node: conversation. Type: on_chat_model_stream. Name: ChatGroq\n",
      "Node: conversation. Type: on_chat_model_stream. Name: ChatGroq\n",
      "Node: conversation. Type: on_chat_model_stream. Name: ChatGroq\n",
      "Node: conversation. Type: on_chat_model_stream. Name: ChatGroq\n",
      "Node: conversation. Type: on_chat_model_stream. Name: ChatGroq\n",
      "Node: conversation. Type: on_chat_model_stream. Name: ChatGroq\n",
      "Node: conversation. Type: on_chat_model_stream. Name: ChatGroq\n",
      "Node: conversation. Type: on_chat_model_stream. Name: ChatGroq\n",
      "Node: conversation. Type: on_chat_model_stream. Name: ChatGroq\n",
      "Node: conversation. Type: on_chat_model_stream. Name: ChatGroq\n",
      "Node: conversation. Type: on_chat_model_stream. Name: ChatGroq\n",
      "Node: conversation. Type: on_chat_model_stream. Name: ChatGroq\n",
      "Node: conversation. Type: on_chat_model_stream. Name: ChatGroq\n",
      "Node: conversation. Type: on_chat_model_stream. Name: ChatGroq\n",
      "Node: conversation. Type: on_chat_model_stream. Name: ChatGroq\n",
      "Node: conversation. Type: on_chat_model_stream. Name: ChatGroq\n",
      "Node: conversation. Type: on_chat_model_stream. Name: ChatGroq\n",
      "Node: conversation. Type: on_chat_model_stream. Name: ChatGroq\n",
      "Node: conversation. Type: on_chat_model_stream. Name: ChatGroq\n",
      "Node: conversation. Type: on_chat_model_stream. Name: ChatGroq\n",
      "Node: conversation. Type: on_chat_model_stream. Name: ChatGroq\n",
      "Node: conversation. Type: on_chat_model_stream. Name: ChatGroq\n",
      "Node: conversation. Type: on_chat_model_stream. Name: ChatGroq\n",
      "Node: conversation. Type: on_chat_model_stream. Name: ChatGroq\n",
      "Node: conversation. Type: on_chat_model_stream. Name: ChatGroq\n",
      "Node: conversation. Type: on_chat_model_stream. Name: ChatGroq\n",
      "Node: conversation. Type: on_chat_model_stream. Name: ChatGroq\n",
      "Node: conversation. Type: on_chat_model_stream. Name: ChatGroq\n",
      "Node: conversation. Type: on_chat_model_stream. Name: ChatGroq\n",
      "Node: conversation. Type: on_chat_model_stream. Name: ChatGroq\n",
      "Node: conversation. Type: on_chat_model_stream. Name: ChatGroq\n",
      "Node: conversation. Type: on_chat_model_stream. Name: ChatGroq\n",
      "Node: conversation. Type: on_chat_model_stream. Name: ChatGroq\n",
      "Node: conversation. Type: on_chat_model_stream. Name: ChatGroq\n",
      "Node: conversation. Type: on_chat_model_stream. Name: ChatGroq\n",
      "Node: conversation. Type: on_chat_model_stream. Name: ChatGroq\n",
      "Node: conversation. Type: on_chat_model_stream. Name: ChatGroq\n",
      "Node: conversation. Type: on_chat_model_stream. Name: ChatGroq\n",
      "Node: conversation. Type: on_chat_model_stream. Name: ChatGroq\n",
      "Node: conversation. Type: on_chat_model_stream. Name: ChatGroq\n",
      "Node: conversation. Type: on_chat_model_stream. Name: ChatGroq\n",
      "Node: conversation. Type: on_chat_model_stream. Name: ChatGroq\n",
      "Node: conversation. Type: on_chat_model_stream. Name: ChatGroq\n",
      "Node: conversation. Type: on_chat_model_stream. Name: ChatGroq\n",
      "Node: conversation. Type: on_chat_model_stream. Name: ChatGroq\n",
      "Node: conversation. Type: on_chat_model_stream. Name: ChatGroq\n",
      "Node: conversation. Type: on_chat_model_stream. Name: ChatGroq\n",
      "Node: conversation. Type: on_chat_model_stream. Name: ChatGroq\n",
      "Node: conversation. Type: on_chat_model_stream. Name: ChatGroq\n",
      "Node: conversation. Type: on_chat_model_stream. Name: ChatGroq\n",
      "Node: conversation. Type: on_chat_model_stream. Name: ChatGroq\n",
      "Node: conversation. Type: on_chat_model_stream. Name: ChatGroq\n",
      "Node: conversation. Type: on_chat_model_stream. Name: ChatGroq\n",
      "Node: conversation. Type: on_chat_model_stream. Name: ChatGroq\n",
      "Node: conversation. Type: on_chat_model_stream. Name: ChatGroq\n",
      "Node: conversation. Type: on_chat_model_stream. Name: ChatGroq\n",
      "Node: conversation. Type: on_chat_model_stream. Name: ChatGroq\n",
      "Node: conversation. Type: on_chat_model_stream. Name: ChatGroq\n",
      "Node: conversation. Type: on_chat_model_stream. Name: ChatGroq\n",
      "Node: conversation. Type: on_chat_model_stream. Name: ChatGroq\n",
      "Node: conversation. Type: on_chat_model_stream. Name: ChatGroq\n",
      "Node: conversation. Type: on_chat_model_stream. Name: ChatGroq\n",
      "Node: conversation. Type: on_chat_model_stream. Name: ChatGroq\n",
      "Node: conversation. Type: on_chat_model_stream. Name: ChatGroq\n",
      "Node: conversation. Type: on_chat_model_stream. Name: ChatGroq\n",
      "Node: conversation. Type: on_chat_model_stream. Name: ChatGroq\n",
      "Node: conversation. Type: on_chat_model_stream. Name: ChatGroq\n",
      "Node: conversation. Type: on_chat_model_stream. Name: ChatGroq\n",
      "Node: conversation. Type: on_chat_model_stream. Name: ChatGroq\n",
      "Node: conversation. Type: on_chat_model_stream. Name: ChatGroq\n",
      "Node: conversation. Type: on_chat_model_stream. Name: ChatGroq\n",
      "Node: conversation. Type: on_chat_model_stream. Name: ChatGroq\n",
      "Node: conversation. Type: on_chat_model_stream. Name: ChatGroq\n",
      "Node: conversation. Type: on_chat_model_stream. Name: ChatGroq\n",
      "Node: conversation. Type: on_chat_model_stream. Name: ChatGroq\n",
      "Node: conversation. Type: on_chat_model_stream. Name: ChatGroq\n",
      "Node: conversation. Type: on_chat_model_stream. Name: ChatGroq\n",
      "Node: conversation. Type: on_chat_model_stream. Name: ChatGroq\n",
      "Node: conversation. Type: on_chat_model_stream. Name: ChatGroq\n",
      "Node: conversation. Type: on_chat_model_stream. Name: ChatGroq\n",
      "Node: conversation. Type: on_chat_model_stream. Name: ChatGroq\n",
      "Node: conversation. Type: on_chat_model_stream. Name: ChatGroq\n",
      "Node: conversation. Type: on_chat_model_stream. Name: ChatGroq\n",
      "Node: conversation. Type: on_chat_model_stream. Name: ChatGroq\n",
      "Node: conversation. Type: on_chat_model_stream. Name: ChatGroq\n",
      "Node: conversation. Type: on_chat_model_stream. Name: ChatGroq\n",
      "Node: conversation. Type: on_chat_model_stream. Name: ChatGroq\n",
      "Node: conversation. Type: on_chat_model_stream. Name: ChatGroq\n",
      "Node: conversation. Type: on_chat_model_stream. Name: ChatGroq\n",
      "Node: conversation. Type: on_chat_model_stream. Name: ChatGroq\n",
      "Node: conversation. Type: on_chat_model_stream. Name: ChatGroq\n",
      "Node: conversation. Type: on_chat_model_stream. Name: ChatGroq\n",
      "Node: conversation. Type: on_chat_model_stream. Name: ChatGroq\n",
      "Node: conversation. Type: on_chat_model_stream. Name: ChatGroq\n",
      "Node: conversation. Type: on_chat_model_stream. Name: ChatGroq\n",
      "Node: conversation. Type: on_chat_model_stream. Name: ChatGroq\n",
      "Node: conversation. Type: on_chat_model_stream. Name: ChatGroq\n",
      "Node: conversation. Type: on_chat_model_stream. Name: ChatGroq\n",
      "Node: conversation. Type: on_chat_model_stream. Name: ChatGroq\n",
      "Node: conversation. Type: on_chat_model_stream. Name: ChatGroq\n",
      "Node: conversation. Type: on_chat_model_stream. Name: ChatGroq\n",
      "Node: conversation. Type: on_chat_model_stream. Name: ChatGroq\n",
      "Node: conversation. Type: on_chat_model_stream. Name: ChatGroq\n",
      "Node: conversation. Type: on_chat_model_stream. Name: ChatGroq\n",
      "Node: conversation. Type: on_chat_model_stream. Name: ChatGroq\n",
      "Node: conversation. Type: on_chat_model_stream. Name: ChatGroq\n",
      "Node: conversation. Type: on_chat_model_stream. Name: ChatGroq\n",
      "Node: conversation. Type: on_chat_model_stream. Name: ChatGroq\n",
      "Node: conversation. Type: on_chat_model_stream. Name: ChatGroq\n",
      "Node: conversation. Type: on_chat_model_stream. Name: ChatGroq\n",
      "Node: conversation. Type: on_chat_model_stream. Name: ChatGroq\n",
      "Node: conversation. Type: on_chat_model_stream. Name: ChatGroq\n",
      "Node: conversation. Type: on_chat_model_stream. Name: ChatGroq\n",
      "Node: conversation. Type: on_chat_model_stream. Name: ChatGroq\n",
      "Node: conversation. Type: on_chat_model_stream. Name: ChatGroq\n",
      "Node: conversation. Type: on_chat_model_stream. Name: ChatGroq\n",
      "Node: conversation. Type: on_chat_model_stream. Name: ChatGroq\n",
      "Node: conversation. Type: on_chat_model_stream. Name: ChatGroq\n",
      "Node: conversation. Type: on_chat_model_stream. Name: ChatGroq\n",
      "Node: conversation. Type: on_chat_model_stream. Name: ChatGroq\n",
      "Node: conversation. Type: on_chat_model_stream. Name: ChatGroq\n",
      "Node: conversation. Type: on_chat_model_stream. Name: ChatGroq\n",
      "Node: conversation. Type: on_chat_model_stream. Name: ChatGroq\n",
      "Node: conversation. Type: on_chat_model_stream. Name: ChatGroq\n",
      "Node: conversation. Type: on_chat_model_stream. Name: ChatGroq\n",
      "Node: conversation. Type: on_chat_model_stream. Name: ChatGroq\n",
      "Node: conversation. Type: on_chat_model_stream. Name: ChatGroq\n",
      "Node: conversation. Type: on_chat_model_stream. Name: ChatGroq\n",
      "Node: conversation. Type: on_chat_model_stream. Name: ChatGroq\n",
      "Node: conversation. Type: on_chat_model_stream. Name: ChatGroq\n",
      "Node: conversation. Type: on_chat_model_stream. Name: ChatGroq\n",
      "Node: conversation. Type: on_chat_model_stream. Name: ChatGroq\n",
      "Node: conversation. Type: on_chat_model_stream. Name: ChatGroq\n",
      "Node: conversation. Type: on_chat_model_stream. Name: ChatGroq\n",
      "Node: conversation. Type: on_chat_model_stream. Name: ChatGroq\n",
      "Node: conversation. Type: on_chat_model_stream. Name: ChatGroq\n",
      "Node: conversation. Type: on_chat_model_stream. Name: ChatGroq\n",
      "Node: conversation. Type: on_chat_model_stream. Name: ChatGroq\n",
      "Node: conversation. Type: on_chat_model_stream. Name: ChatGroq\n",
      "Node: conversation. Type: on_chat_model_stream. Name: ChatGroq\n",
      "Node: conversation. Type: on_chat_model_stream. Name: ChatGroq\n",
      "Node: conversation. Type: on_chat_model_stream. Name: ChatGroq\n",
      "Node: conversation. Type: on_chat_model_stream. Name: ChatGroq\n",
      "Node: conversation. Type: on_chat_model_stream. Name: ChatGroq\n",
      "Node: conversation. Type: on_chat_model_stream. Name: ChatGroq\n",
      "Node: conversation. Type: on_chat_model_stream. Name: ChatGroq\n",
      "Node: conversation. Type: on_chat_model_stream. Name: ChatGroq\n",
      "Node: conversation. Type: on_chat_model_stream. Name: ChatGroq\n",
      "Node: conversation. Type: on_chat_model_stream. Name: ChatGroq\n",
      "Node: conversation. Type: on_chat_model_stream. Name: ChatGroq\n",
      "Node: conversation. Type: on_chat_model_stream. Name: ChatGroq\n",
      "Node: conversation. Type: on_chat_model_stream. Name: ChatGroq\n",
      "Node: conversation. Type: on_chat_model_stream. Name: ChatGroq\n",
      "Node: conversation. Type: on_chat_model_stream. Name: ChatGroq\n",
      "Node: conversation. Type: on_chat_model_stream. Name: ChatGroq\n",
      "Node: conversation. Type: on_chat_model_stream. Name: ChatGroq\n",
      "Node: conversation. Type: on_chat_model_stream. Name: ChatGroq\n",
      "Node: conversation. Type: on_chat_model_stream. Name: ChatGroq\n",
      "Node: conversation. Type: on_chat_model_stream. Name: ChatGroq\n",
      "Node: conversation. Type: on_chat_model_stream. Name: ChatGroq\n",
      "Node: conversation. Type: on_chat_model_stream. Name: ChatGroq\n",
      "Node: conversation. Type: on_chat_model_stream. Name: ChatGroq\n",
      "Node: conversation. Type: on_chat_model_stream. Name: ChatGroq\n",
      "Node: conversation. Type: on_chat_model_stream. Name: ChatGroq\n",
      "Node: conversation. Type: on_chat_model_stream. Name: ChatGroq\n",
      "Node: conversation. Type: on_chat_model_stream. Name: ChatGroq\n",
      "Node: conversation. Type: on_chat_model_stream. Name: ChatGroq\n",
      "Node: conversation. Type: on_chat_model_stream. Name: ChatGroq\n",
      "Node: conversation. Type: on_chat_model_stream. Name: ChatGroq\n",
      "Node: conversation. Type: on_chat_model_stream. Name: ChatGroq\n",
      "Node: conversation. Type: on_chat_model_stream. Name: ChatGroq\n",
      "Node: conversation. Type: on_chat_model_stream. Name: ChatGroq\n",
      "Node: conversation. Type: on_chat_model_stream. Name: ChatGroq\n",
      "Node: conversation. Type: on_chat_model_stream. Name: ChatGroq\n",
      "Node: conversation. Type: on_chat_model_stream. Name: ChatGroq\n",
      "Node: conversation. Type: on_chat_model_stream. Name: ChatGroq\n",
      "Node: conversation. Type: on_chat_model_stream. Name: ChatGroq\n",
      "Node: conversation. Type: on_chat_model_stream. Name: ChatGroq\n",
      "Node: conversation. Type: on_chat_model_stream. Name: ChatGroq\n",
      "Node: conversation. Type: on_chat_model_stream. Name: ChatGroq\n",
      "Node: conversation. Type: on_chat_model_stream. Name: ChatGroq\n",
      "Node: conversation. Type: on_chat_model_stream. Name: ChatGroq\n",
      "Node: conversation. Type: on_chat_model_stream. Name: ChatGroq\n",
      "Node: conversation. Type: on_chat_model_stream. Name: ChatGroq\n",
      "Node: conversation. Type: on_chat_model_stream. Name: ChatGroq\n",
      "Node: conversation. Type: on_chat_model_stream. Name: ChatGroq\n",
      "Node: conversation. Type: on_chat_model_stream. Name: ChatGroq\n",
      "Node: conversation. Type: on_chat_model_stream. Name: ChatGroq\n",
      "Node: conversation. Type: on_chat_model_stream. Name: ChatGroq\n",
      "Node: conversation. Type: on_chat_model_stream. Name: ChatGroq\n",
      "Node: conversation. Type: on_chat_model_stream. Name: ChatGroq\n",
      "Node: conversation. Type: on_chat_model_stream. Name: ChatGroq\n",
      "Node: conversation. Type: on_chat_model_stream. Name: ChatGroq\n",
      "Node: conversation. Type: on_chat_model_stream. Name: ChatGroq\n",
      "Node: conversation. Type: on_chat_model_stream. Name: ChatGroq\n",
      "Node: conversation. Type: on_chat_model_stream. Name: ChatGroq\n",
      "Node: conversation. Type: on_chat_model_stream. Name: ChatGroq\n",
      "Node: conversation. Type: on_chat_model_stream. Name: ChatGroq\n",
      "Node: conversation. Type: on_chat_model_stream. Name: ChatGroq\n",
      "Node: conversation. Type: on_chat_model_stream. Name: ChatGroq\n",
      "Node: conversation. Type: on_chat_model_stream. Name: ChatGroq\n",
      "Node: conversation. Type: on_chat_model_stream. Name: ChatGroq\n",
      "Node: conversation. Type: on_chat_model_stream. Name: ChatGroq\n",
      "Node: conversation. Type: on_chat_model_stream. Name: ChatGroq\n",
      "Node: conversation. Type: on_chat_model_stream. Name: ChatGroq\n",
      "Node: conversation. Type: on_chat_model_stream. Name: ChatGroq\n",
      "Node: conversation. Type: on_chat_model_stream. Name: ChatGroq\n",
      "Node: conversation. Type: on_chat_model_stream. Name: ChatGroq\n",
      "Node: conversation. Type: on_chat_model_stream. Name: ChatGroq\n",
      "Node: conversation. Type: on_chat_model_stream. Name: ChatGroq\n",
      "Node: conversation. Type: on_chat_model_stream. Name: ChatGroq\n",
      "Node: conversation. Type: on_chat_model_stream. Name: ChatGroq\n",
      "Node: conversation. Type: on_chat_model_stream. Name: ChatGroq\n",
      "Node: conversation. Type: on_chat_model_stream. Name: ChatGroq\n",
      "Node: conversation. Type: on_chat_model_stream. Name: ChatGroq\n",
      "Node: conversation. Type: on_chat_model_stream. Name: ChatGroq\n",
      "Node: conversation. Type: on_chat_model_stream. Name: ChatGroq\n",
      "Node: conversation. Type: on_chat_model_stream. Name: ChatGroq\n",
      "Node: conversation. Type: on_chat_model_stream. Name: ChatGroq\n",
      "Node: conversation. Type: on_chat_model_stream. Name: ChatGroq\n",
      "Node: conversation. Type: on_chat_model_stream. Name: ChatGroq\n",
      "Node: conversation. Type: on_chat_model_stream. Name: ChatGroq\n",
      "Node: conversation. Type: on_chat_model_stream. Name: ChatGroq\n",
      "Node: conversation. Type: on_chat_model_stream. Name: ChatGroq\n",
      "Node: conversation. Type: on_chat_model_stream. Name: ChatGroq\n",
      "Node: conversation. Type: on_chat_model_stream. Name: ChatGroq\n",
      "Node: conversation. Type: on_chat_model_stream. Name: ChatGroq\n",
      "Node: conversation. Type: on_chat_model_stream. Name: ChatGroq\n",
      "Node: conversation. Type: on_chat_model_stream. Name: ChatGroq\n",
      "Node: conversation. Type: on_chat_model_stream. Name: ChatGroq\n",
      "Node: conversation. Type: on_chat_model_stream. Name: ChatGroq\n",
      "Node: conversation. Type: on_chat_model_stream. Name: ChatGroq\n",
      "Node: conversation. Type: on_chat_model_stream. Name: ChatGroq\n",
      "Node: conversation. Type: on_chat_model_stream. Name: ChatGroq\n",
      "Node: conversation. Type: on_chat_model_stream. Name: ChatGroq\n",
      "Node: conversation. Type: on_chat_model_stream. Name: ChatGroq\n",
      "Node: conversation. Type: on_chat_model_stream. Name: ChatGroq\n",
      "Node: conversation. Type: on_chat_model_stream. Name: ChatGroq\n",
      "Node: conversation. Type: on_chat_model_stream. Name: ChatGroq\n",
      "Node: conversation. Type: on_chat_model_stream. Name: ChatGroq\n",
      "Node: conversation. Type: on_chat_model_stream. Name: ChatGroq\n",
      "Node: conversation. Type: on_chat_model_stream. Name: ChatGroq\n",
      "Node: conversation. Type: on_chat_model_stream. Name: ChatGroq\n",
      "Node: conversation. Type: on_chat_model_stream. Name: ChatGroq\n",
      "Node: conversation. Type: on_chat_model_stream. Name: ChatGroq\n",
      "Node: conversation. Type: on_chat_model_stream. Name: ChatGroq\n",
      "Node: conversation. Type: on_chat_model_stream. Name: ChatGroq\n",
      "Node: conversation. Type: on_chat_model_stream. Name: ChatGroq\n",
      "Node: conversation. Type: on_chat_model_stream. Name: ChatGroq\n",
      "Node: conversation. Type: on_chat_model_stream. Name: ChatGroq\n",
      "Node: conversation. Type: on_chat_model_stream. Name: ChatGroq\n",
      "Node: conversation. Type: on_chat_model_stream. Name: ChatGroq\n",
      "Node: conversation. Type: on_chat_model_stream. Name: ChatGroq\n",
      "Node: conversation. Type: on_chat_model_stream. Name: ChatGroq\n",
      "Node: conversation. Type: on_chat_model_stream. Name: ChatGroq\n",
      "Node: conversation. Type: on_chat_model_stream. Name: ChatGroq\n",
      "Node: conversation. Type: on_chat_model_stream. Name: ChatGroq\n",
      "Node: conversation. Type: on_chat_model_stream. Name: ChatGroq\n",
      "Node: conversation. Type: on_chat_model_stream. Name: ChatGroq\n",
      "Node: conversation. Type: on_chat_model_stream. Name: ChatGroq\n",
      "Node: conversation. Type: on_chat_model_stream. Name: ChatGroq\n",
      "Node: conversation. Type: on_chat_model_stream. Name: ChatGroq\n",
      "Node: conversation. Type: on_chat_model_stream. Name: ChatGroq\n",
      "Node: conversation. Type: on_chat_model_stream. Name: ChatGroq\n",
      "Node: conversation. Type: on_chat_model_stream. Name: ChatGroq\n",
      "Node: conversation. Type: on_chat_model_stream. Name: ChatGroq\n",
      "Node: conversation. Type: on_chat_model_stream. Name: ChatGroq\n",
      "Node: conversation. Type: on_chat_model_stream. Name: ChatGroq\n",
      "Node: conversation. Type: on_chat_model_stream. Name: ChatGroq\n",
      "Node: conversation. Type: on_chat_model_stream. Name: ChatGroq\n",
      "Node: conversation. Type: on_chat_model_stream. Name: ChatGroq\n",
      "Node: conversation. Type: on_chat_model_stream. Name: ChatGroq\n",
      "Node: conversation. Type: on_chat_model_stream. Name: ChatGroq\n",
      "Node: conversation. Type: on_chat_model_stream. Name: ChatGroq\n",
      "Node: conversation. Type: on_chat_model_stream. Name: ChatGroq\n",
      "Node: conversation. Type: on_chat_model_stream. Name: ChatGroq\n",
      "Node: conversation. Type: on_chat_model_stream. Name: ChatGroq\n",
      "Node: conversation. Type: on_chat_model_stream. Name: ChatGroq\n",
      "Node: conversation. Type: on_chat_model_stream. Name: ChatGroq\n",
      "Node: conversation. Type: on_chat_model_stream. Name: ChatGroq\n",
      "Node: conversation. Type: on_chat_model_stream. Name: ChatGroq\n",
      "Node: conversation. Type: on_chat_model_stream. Name: ChatGroq\n",
      "Node: conversation. Type: on_chat_model_stream. Name: ChatGroq\n",
      "Node: conversation. Type: on_chat_model_stream. Name: ChatGroq\n",
      "Node: conversation. Type: on_chat_model_stream. Name: ChatGroq\n",
      "Node: conversation. Type: on_chat_model_stream. Name: ChatGroq\n",
      "Node: conversation. Type: on_chat_model_stream. Name: ChatGroq\n",
      "Node: conversation. Type: on_chat_model_stream. Name: ChatGroq\n",
      "Node: conversation. Type: on_chat_model_stream. Name: ChatGroq\n",
      "Node: conversation. Type: on_chat_model_stream. Name: ChatGroq\n",
      "Node: conversation. Type: on_chat_model_stream. Name: ChatGroq\n",
      "Node: conversation. Type: on_chat_model_stream. Name: ChatGroq\n",
      "Node: conversation. Type: on_chat_model_stream. Name: ChatGroq\n",
      "Node: conversation. Type: on_chat_model_stream. Name: ChatGroq\n",
      "Node: conversation. Type: on_chat_model_stream. Name: ChatGroq\n",
      "Node: conversation. Type: on_chat_model_stream. Name: ChatGroq\n",
      "Node: conversation. Type: on_chat_model_stream. Name: ChatGroq\n",
      "Node: conversation. Type: on_chat_model_stream. Name: ChatGroq\n",
      "Node: conversation. Type: on_chat_model_stream. Name: ChatGroq\n",
      "Node: conversation. Type: on_chat_model_stream. Name: ChatGroq\n",
      "Node: conversation. Type: on_chat_model_stream. Name: ChatGroq\n",
      "Node: conversation. Type: on_chat_model_stream. Name: ChatGroq\n",
      "Node: conversation. Type: on_chat_model_stream. Name: ChatGroq\n",
      "Node: conversation. Type: on_chat_model_stream. Name: ChatGroq\n",
      "Node: conversation. Type: on_chat_model_stream. Name: ChatGroq\n",
      "Node: conversation. Type: on_chat_model_stream. Name: ChatGroq\n",
      "Node: conversation. Type: on_chat_model_stream. Name: ChatGroq\n",
      "Node: conversation. Type: on_chat_model_stream. Name: ChatGroq\n",
      "Node: conversation. Type: on_chat_model_stream. Name: ChatGroq\n",
      "Node: conversation. Type: on_chat_model_stream. Name: ChatGroq\n",
      "Node: conversation. Type: on_chat_model_stream. Name: ChatGroq\n",
      "Node: conversation. Type: on_chat_model_stream. Name: ChatGroq\n",
      "Node: conversation. Type: on_chat_model_stream. Name: ChatGroq\n",
      "Node: conversation. Type: on_chat_model_stream. Name: ChatGroq\n",
      "Node: conversation. Type: on_chat_model_stream. Name: ChatGroq\n",
      "Node: conversation. Type: on_chat_model_stream. Name: ChatGroq\n",
      "Node: conversation. Type: on_chat_model_stream. Name: ChatGroq\n",
      "Node: conversation. Type: on_chat_model_stream. Name: ChatGroq\n",
      "Node: conversation. Type: on_chat_model_stream. Name: ChatGroq\n",
      "Node: conversation. Type: on_chat_model_stream. Name: ChatGroq\n",
      "Node: conversation. Type: on_chat_model_stream. Name: ChatGroq\n",
      "Node: conversation. Type: on_chat_model_stream. Name: ChatGroq\n",
      "Node: conversation. Type: on_chat_model_stream. Name: ChatGroq\n",
      "Node: conversation. Type: on_chat_model_stream. Name: ChatGroq\n",
      "Node: conversation. Type: on_chat_model_stream. Name: ChatGroq\n",
      "Node: conversation. Type: on_chat_model_stream. Name: ChatGroq\n",
      "Node: conversation. Type: on_chat_model_stream. Name: ChatGroq\n",
      "Node: conversation. Type: on_chat_model_stream. Name: ChatGroq\n",
      "Node: conversation. Type: on_chat_model_stream. Name: ChatGroq\n",
      "Node: conversation. Type: on_chat_model_stream. Name: ChatGroq\n",
      "Node: conversation. Type: on_chat_model_stream. Name: ChatGroq\n",
      "Node: conversation. Type: on_chat_model_stream. Name: ChatGroq\n",
      "Node: conversation. Type: on_chat_model_stream. Name: ChatGroq\n",
      "Node: conversation. Type: on_chat_model_stream. Name: ChatGroq\n",
      "Node: conversation. Type: on_chat_model_stream. Name: ChatGroq\n",
      "Node: conversation. Type: on_chat_model_stream. Name: ChatGroq\n",
      "Node: conversation. Type: on_chat_model_stream. Name: ChatGroq\n",
      "Node: conversation. Type: on_chat_model_stream. Name: ChatGroq\n",
      "Node: conversation. Type: on_chat_model_stream. Name: ChatGroq\n",
      "Node: conversation. Type: on_chat_model_stream. Name: ChatGroq\n",
      "Node: conversation. Type: on_chat_model_stream. Name: ChatGroq\n",
      "Node: conversation. Type: on_chat_model_stream. Name: ChatGroq\n",
      "Node: conversation. Type: on_chat_model_stream. Name: ChatGroq\n",
      "Node: conversation. Type: on_chat_model_stream. Name: ChatGroq\n",
      "Node: conversation. Type: on_chat_model_stream. Name: ChatGroq\n",
      "Node: conversation. Type: on_chat_model_stream. Name: ChatGroq\n",
      "Node: conversation. Type: on_chat_model_stream. Name: ChatGroq\n",
      "Node: conversation. Type: on_chat_model_stream. Name: ChatGroq\n",
      "Node: conversation. Type: on_chat_model_stream. Name: ChatGroq\n",
      "Node: conversation. Type: on_chat_model_stream. Name: ChatGroq\n",
      "Node: conversation. Type: on_chat_model_stream. Name: ChatGroq\n",
      "Node: conversation. Type: on_chat_model_stream. Name: ChatGroq\n",
      "Node: conversation. Type: on_chat_model_stream. Name: ChatGroq\n",
      "Node: conversation. Type: on_chat_model_stream. Name: ChatGroq\n",
      "Node: conversation. Type: on_chat_model_stream. Name: ChatGroq\n",
      "Node: conversation. Type: on_chat_model_stream. Name: ChatGroq\n",
      "Node: conversation. Type: on_chat_model_stream. Name: ChatGroq\n",
      "Node: conversation. Type: on_chat_model_stream. Name: ChatGroq\n",
      "Node: conversation. Type: on_chat_model_stream. Name: ChatGroq\n",
      "Node: conversation. Type: on_chat_model_stream. Name: ChatGroq\n",
      "Node: conversation. Type: on_chat_model_stream. Name: ChatGroq\n",
      "Node: conversation. Type: on_chat_model_stream. Name: ChatGroq\n",
      "Node: conversation. Type: on_chat_model_stream. Name: ChatGroq\n",
      "Node: conversation. Type: on_chat_model_stream. Name: ChatGroq\n",
      "Node: conversation. Type: on_chat_model_stream. Name: ChatGroq\n",
      "Node: conversation. Type: on_chat_model_stream. Name: ChatGroq\n",
      "Node: conversation. Type: on_chat_model_stream. Name: ChatGroq\n",
      "Node: conversation. Type: on_chat_model_stream. Name: ChatGroq\n",
      "Node: conversation. Type: on_chat_model_stream. Name: ChatGroq\n",
      "Node: conversation. Type: on_chat_model_stream. Name: ChatGroq\n",
      "Node: conversation. Type: on_chat_model_stream. Name: ChatGroq\n",
      "Node: conversation. Type: on_chat_model_stream. Name: ChatGroq\n",
      "Node: conversation. Type: on_chat_model_stream. Name: ChatGroq\n",
      "Node: conversation. Type: on_chat_model_stream. Name: ChatGroq\n",
      "Node: conversation. Type: on_chat_model_stream. Name: ChatGroq\n",
      "Node: conversation. Type: on_chat_model_stream. Name: ChatGroq\n",
      "Node: conversation. Type: on_chat_model_stream. Name: ChatGroq\n",
      "Node: conversation. Type: on_chat_model_stream. Name: ChatGroq\n",
      "Node: conversation. Type: on_chat_model_stream. Name: ChatGroq\n",
      "Node: conversation. Type: on_chat_model_stream. Name: ChatGroq\n",
      "Node: conversation. Type: on_chat_model_stream. Name: ChatGroq\n",
      "Node: conversation. Type: on_chat_model_stream. Name: ChatGroq\n",
      "Node: conversation. Type: on_chat_model_stream. Name: ChatGroq\n",
      "Node: conversation. Type: on_chat_model_stream. Name: ChatGroq\n",
      "Node: conversation. Type: on_chat_model_stream. Name: ChatGroq\n",
      "Node: conversation. Type: on_chat_model_stream. Name: ChatGroq\n",
      "Node: conversation. Type: on_chat_model_stream. Name: ChatGroq\n",
      "Node: conversation. Type: on_chat_model_stream. Name: ChatGroq\n",
      "Node: conversation. Type: on_chat_model_stream. Name: ChatGroq\n",
      "Node: conversation. Type: on_chat_model_stream. Name: ChatGroq\n",
      "Node: conversation. Type: on_chat_model_stream. Name: ChatGroq\n",
      "Node: conversation. Type: on_chat_model_stream. Name: ChatGroq\n",
      "Node: conversation. Type: on_chat_model_stream. Name: ChatGroq\n",
      "Node: conversation. Type: on_chat_model_stream. Name: ChatGroq\n",
      "Node: conversation. Type: on_chat_model_stream. Name: ChatGroq\n",
      "Node: conversation. Type: on_chat_model_stream. Name: ChatGroq\n",
      "Node: conversation. Type: on_chat_model_stream. Name: ChatGroq\n",
      "Node: conversation. Type: on_chat_model_stream. Name: ChatGroq\n",
      "Node: conversation. Type: on_chat_model_stream. Name: ChatGroq\n",
      "Node: conversation. Type: on_chat_model_end. Name: ChatGroq\n",
      "Node: conversation. Type: on_chain_start. Name: _write\n",
      "Node: conversation. Type: on_chain_end. Name: _write\n",
      "Node: conversation. Type: on_chain_start. Name: should_continue\n",
      "Node: conversation. Type: on_chain_end. Name: should_continue\n",
      "Node: conversation. Type: on_chain_stream. Name: conversation\n",
      "Node: conversation. Type: on_chain_end. Name: conversation\n",
      "Node: . Type: on_chain_stream. Name: LangGraph\n",
      "Node: . Type: on_chain_end. Name: LangGraph\n"
     ]
    }
   ],
   "source": [
    "\"\"\"\n",
    "We can do this using the .astream_events method, which streams back events as they happen inside nodes!\n",
    "\n",
    "Each event is a dict with a few keys:\n",
    "\n",
    "    event: This is the type of event that is being emitted.\n",
    "    name: This is the name of event.\n",
    "    data: This is the data associated with the event.\n",
    "    metadata: Containslanggraph_node, the node emitting the event.\n",
    "\n",
    "\"\"\"\n",
    "\n",
    "config = {\"configurable\": {\"thread_id\": \"3\"}}\n",
    "input_message = HumanMessage(content=\"Tell me about the 49ers NFL team\")\n",
    "async for event in graph.astream_events({\"messages\": [input_message]}, config, version=\"v2\"):\n",
    "    print(f\"Node: {event['metadata'].get('langgraph_node','')}. Type: {event['event']}. Name: {event['name']}\")"
   ]
  },
  {
   "cell_type": "code",
   "execution_count": 42,
   "metadata": {},
   "outputs": [
    {
     "name": "stdout",
     "output_type": "stream",
     "text": [
      "{'chunk': AIMessageChunk(content='', additional_kwargs={}, response_metadata={}, id='run-458ab737-fe49-48b0-a7a9-dff1127dac17')}\n",
      "{'chunk': AIMessageChunk(content='The', additional_kwargs={}, response_metadata={}, id='run-458ab737-fe49-48b0-a7a9-dff1127dac17')}\n",
      "{'chunk': AIMessageChunk(content=' capital', additional_kwargs={}, response_metadata={}, id='run-458ab737-fe49-48b0-a7a9-dff1127dac17')}\n",
      "{'chunk': AIMessageChunk(content=' of', additional_kwargs={}, response_metadata={}, id='run-458ab737-fe49-48b0-a7a9-dff1127dac17')}\n",
      "{'chunk': AIMessageChunk(content=' Japan', additional_kwargs={}, response_metadata={}, id='run-458ab737-fe49-48b0-a7a9-dff1127dac17')}\n",
      "{'chunk': AIMessageChunk(content=' is', additional_kwargs={}, response_metadata={}, id='run-458ab737-fe49-48b0-a7a9-dff1127dac17')}\n",
      "{'chunk': AIMessageChunk(content=' Tokyo', additional_kwargs={}, response_metadata={}, id='run-458ab737-fe49-48b0-a7a9-dff1127dac17')}\n",
      "{'chunk': AIMessageChunk(content='.', additional_kwargs={}, response_metadata={}, id='run-458ab737-fe49-48b0-a7a9-dff1127dac17')}\n",
      "{'chunk': AIMessageChunk(content='', additional_kwargs={}, response_metadata={'finish_reason': 'stop'}, id='run-458ab737-fe49-48b0-a7a9-dff1127dac17', usage_metadata={'input_tokens': 41, 'output_tokens': 8, 'total_tokens': 49})}\n"
     ]
    }
   ],
   "source": [
    "\"\"\"\n",
    "The central point is that tokens from chat models within your graph have the on_chat_model_stream type.\n",
    "We can use event['metadata']['langgraph_node'] to select the node to stream from.\n",
    "And we can use event['data'] to get the actual data for each event, which in this case is an AIMessageChunk.\n",
    "\"\"\"\n",
    "\n",
    "node_to_stream = 'conversation'\n",
    "config = {\"configurable\": {\"thread_id\": \"4\"}}\n",
    "input_message = HumanMessage(content=\"what is the capital of japan\")\n",
    "async for event in graph.astream_events({\"messages\": [input_message]}, config, version=\"v2\"):\n",
    "    # Get chat model tokens from a particular node \n",
    "    if event[\"event\"] == \"on_chat_model_stream\" and event['metadata'].get('langgraph_node','') == node_to_stream:\n",
    "        print(event[\"data\"])"
   ]
  },
  {
   "cell_type": "code",
   "execution_count": 43,
   "metadata": {},
   "outputs": [
    {
     "name": "stdout",
     "output_type": "stream",
     "text": [
      "|The| capital| of| Japan| is| Tokyo|.||"
     ]
    }
   ],
   "source": [
    "config = {\"configurable\": {\"thread_id\": \"5\"}}\n",
    "input_message = HumanMessage(content=\"what is the capital of japan\")\n",
    "async for event in graph.astream_events({\"messages\": [input_message]}, config, version=\"v2\"):\n",
    "    # Get chat model tokens from a particular node \n",
    "    if event[\"event\"] == \"on_chat_model_stream\" and event['metadata'].get('langgraph_node','') == node_to_stream:\n",
    "        data = event[\"data\"]\n",
    "        print(data[\"chunk\"].content, end=\"|\")"
   ]
  },
  {
   "cell_type": "markdown",
   "metadata": {},
   "source": [
    "# Breakpoints\n",
    "\n",
    "Now, let's talk about the motivations for human-in-the-loop:\n",
    "\n",
    "(1) Approval - We can interrupt our agent, surface state to a user, and allow the user to accept an action\n",
    "\n",
    "(2) Debugging - We can rewind the graph to reproduce or avoid issues\n",
    "\n",
    "(3) Editing - You can modify the state\n",
    "\n",
    "LangGraph offers several ways to get or update agent state to support various human-in-the-loop workflows.\n",
    "\n",
    "First, we'll introduce breakpoints, which provide a simple way to stop the graph at specific steps.\n",
    "\n",
    "We'll show how this enables user approval."
   ]
  },
  {
   "cell_type": "code",
   "execution_count": 44,
   "metadata": {},
   "outputs": [],
   "source": [
    "# LLM\n",
    "from langchain_groq import ChatGroq\n",
    "llm = ChatGroq(temperature=0, model_name= \"llama-3.1-8b-instant\")"
   ]
  },
  {
   "cell_type": "code",
   "execution_count": 45,
   "metadata": {},
   "outputs": [
    {
     "data": {
      "text/plain": [
       "RunnableBinding(bound=ChatGroq(client=<groq.resources.chat.completions.Completions object at 0x000001A808BC21B0>, async_client=<groq.resources.chat.completions.AsyncCompletions object at 0x000001A808BBF200>, model_name='llama-3.1-8b-instant', temperature=1e-08, model_kwargs={}, groq_api_key=SecretStr('**********')), kwargs={'tools': [{'type': 'function', 'function': {'name': 'add', 'description': 'Adds a and b.', 'parameters': {'properties': {'a': {'description': 'first int', 'type': 'integer'}, 'b': {'description': 'second int', 'type': 'integer'}}, 'required': ['a', 'b'], 'type': 'object'}}}, {'type': 'function', 'function': {'name': 'multiply', 'description': 'Multiply a and b.', 'parameters': {'properties': {'a': {'description': 'first int', 'type': 'integer'}, 'b': {'description': 'second int', 'type': 'integer'}}, 'required': ['a', 'b'], 'type': 'object'}}}, {'type': 'function', 'function': {'name': 'divide', 'description': 'Adds a and b.', 'parameters': {'properties': {'a': {'description': 'first int', 'type': 'integer'}, 'b': {'description': 'second int', 'type': 'integer'}}, 'required': ['a', 'b'], 'type': 'object'}}}]}, config={}, config_factories=[])"
      ]
     },
     "execution_count": 45,
     "metadata": {},
     "output_type": "execute_result"
    }
   ],
   "source": [
    "def multiply(a: int, b: int) -> int:\n",
    "    \"\"\"Multiply a and b.\n",
    "\n",
    "    Args:\n",
    "        a: first int\n",
    "        b: second int\n",
    "    \"\"\"\n",
    "    return a * b\n",
    "\n",
    "# This will be a tool\n",
    "def add(a: int, b: int) -> int:\n",
    "    \"\"\"Adds a and b.\n",
    "\n",
    "    Args:\n",
    "        a: first int\n",
    "        b: second int\n",
    "    \"\"\"\n",
    "    return a + b\n",
    "\n",
    "def divide(a: int, b: int) -> float:\n",
    "    \"\"\"Adds a and b.\n",
    "\n",
    "    Args:\n",
    "        a: first int\n",
    "        b: second int\n",
    "    \"\"\"\n",
    "    return a / b\n",
    "\n",
    "tools = [add, multiply, divide]\n",
    "llm_with_tools = llm.bind_tools(tools)\n",
    "llm_with_tools"
   ]
  },
  {
   "cell_type": "code",
   "execution_count": 64,
   "metadata": {},
   "outputs": [
    {
     "data": {
      "image/png": "[encoded data removed]",
      "text/plain": [
       "<IPython.core.display.Image object>"
      ]
     },
     "metadata": {},
     "output_type": "display_data"
    }
   ],
   "source": [
    "from IPython.display import Image, display\n",
    "\n",
    "from langgraph.checkpoint.memory import MemorySaver\n",
    "from langgraph.graph import MessagesState\n",
    "from langgraph.graph import START, StateGraph\n",
    "from langgraph.prebuilt import tools_condition, ToolNode\n",
    "\n",
    "from langchain_core.messages import AIMessage, HumanMessage, SystemMessage\n",
    "\n",
    "# System message\n",
    "sys_msg = SystemMessage(content=\"You are a helpful assistant tasked with performing arithmetic on a set of inputs.\")\n",
    "\n",
    "# Node\n",
    "def assistant(state: MessagesState):\n",
    "   return {\"messages\": [llm_with_tools.invoke([sys_msg] + state[\"messages\"])]}\n",
    "\n",
    "# Graph\n",
    "builder = StateGraph(MessagesState)\n",
    "\n",
    "# Define nodes: these do the work\n",
    "builder.add_node(\"assistant\", assistant)\n",
    "builder.add_node(\"tools\", ToolNode(tools))\n",
    "\n",
    "# Define edges: these determine the control flow\n",
    "builder.add_edge(START, \"assistant\")\n",
    "builder.add_conditional_edges(\n",
    "    \"assistant\",\n",
    "    # If the latest message (result) from assistant is a tool call -> tools_condition routes to tools\n",
    "    # If the latest message (result) from assistant is a not a tool call -> tools_condition routes to END\n",
    "    tools_condition,\n",
    ")\n",
    "builder.add_edge(\"tools\", \"assistant\")\n",
    "\n",
    "'''\n",
    "Let's re-consider the simple agent that we worked with in Module 1.\n",
    "Let's assume that are concerned about tool use: we want to approve the agent to use any of its tools.\n",
    "All we need to do is simply compile the graph with interrupt_before=[\"tools\"] where tools is our tools node.\n",
    "This means that the execution will be interrupted before the node tools, which executes the tool call.\n",
    "'''\n",
    "\n",
    "memory = MemorySaver()\n",
    "graph = builder.compile(interrupt_before=[\"tools\"], checkpointer=memory)\n",
    "\n",
    "# Show\n",
    "display(Image(graph.get_graph(xray=True).draw_mermaid_png()))"
   ]
  },
  {
   "cell_type": "code",
   "execution_count": 65,
   "metadata": {},
   "outputs": [
    {
     "name": "stdout",
     "output_type": "stream",
     "text": [
      "================================\u001b[1m Human Message \u001b[0m=================================\n",
      "\n",
      "Multiply 2 and 4\n",
      "==================================\u001b[1m Ai Message \u001b[0m==================================\n",
      "Tool Calls:\n",
      "  multiply (call_jt9x)\n",
      " Call ID: call_jt9x\n",
      "  Args:\n",
      "    a: 2\n",
      "    b: 4\n"
     ]
    }
   ],
   "source": [
    "# Input\n",
    "initial_input = {\"messages\": HumanMessage(content=\"Multiply 2 and 4\")}\n",
    "\n",
    "# Thread\n",
    "thread = {\"configurable\": {\"thread_id\": \"20\"}}\n",
    "\n",
    "# Run the graph until the first interruption\n",
    "for event in graph.stream(initial_input, thread, stream_mode=\"values\"):\n",
    "    # print(event)\n",
    "    event['messages'][-1].pretty_print()"
   ]
  },
  {
   "cell_type": "code",
   "execution_count": 66,
   "metadata": {},
   "outputs": [
    {
     "data": {
      "text/plain": [
       "('tools',)"
      ]
     },
     "execution_count": 66,
     "metadata": {},
     "output_type": "execute_result"
    }
   ],
   "source": [
    "state = graph.get_state(thread)\n",
    "state.next"
   ]
  },
  {
   "cell_type": "code",
   "execution_count": 67,
   "metadata": {},
   "outputs": [
    {
     "name": "stdout",
     "output_type": "stream",
     "text": [
      "==================================\u001b[1m Ai Message \u001b[0m==================================\n",
      "Tool Calls:\n",
      "  multiply (call_jt9x)\n",
      " Call ID: call_jt9x\n",
      "  Args:\n",
      "    a: 2\n",
      "    b: 4\n",
      "=================================\u001b[1m Tool Message \u001b[0m=================================\n",
      "Name: multiply\n",
      "\n",
      "8\n",
      "==================================\u001b[1m Ai Message \u001b[0m==================================\n",
      "Tool Calls:\n",
      "  add (call_cvdm)\n",
      " Call ID: call_cvdm\n",
      "  Args:\n",
      "    a: 2\n",
      "    b: 4\n"
     ]
    }
   ],
   "source": [
    "for event in graph.stream(None, thread, stream_mode=\"values\"):\n",
    "    event['messages'][-1].pretty_print()"
   ]
  },
  {
   "cell_type": "code",
   "execution_count": null,
   "metadata": {},
   "outputs": [
    {
     "name": "stdout",
     "output_type": "stream",
     "text": [
      "================================\u001b[1m Human Message \u001b[0m=================================\n",
      "\n",
      "Multiply 2 and 3\n",
      "==================================\u001b[1m Ai Message \u001b[0m==================================\n",
      "Tool Calls:\n",
      "  multiply (call_6t0t)\n",
      " Call ID: call_6t0t\n",
      "  Args:\n",
      "    a: 2\n",
      "    b: 3\n",
      "==================================\u001b[1m Ai Message \u001b[0m==================================\n",
      "Tool Calls:\n",
      "  multiply (call_6t0t)\n",
      " Call ID: call_6t0t\n",
      "  Args:\n",
      "    a: 2\n",
      "    b: 3\n",
      "=================================\u001b[1m Tool Message \u001b[0m=================================\n",
      "Name: multiply\n",
      "\n",
      "6\n",
      "==================================\u001b[1m Ai Message \u001b[0m==================================\n",
      "\n",
      "The result of the multiplication is 6.\n"
     ]
    }
   ],
   "source": [
    "### 전체 프로세스 연결해보기 #####################\n",
    "# Input\n",
    "initial_input = {\"messages\": HumanMessage(content=\"Multiply 2 and 3\")}\n",
    "\n",
    "# Thread\n",
    "thread = {\"configurable\": {\"thread_id\": \"21\"}}\n",
    "\n",
    "# Run the graph until the first interruption\n",
    "for event in graph.stream(initial_input, thread, stream_mode=\"values\"):\n",
    "    event['messages'][-1].pretty_print()\n",
    "\n",
    "# Get user feedback\n",
    "user_approval = input(\"Do you want to call the tool? (yes/no): \")\n",
    "\n",
    "# Check approval\n",
    "if user_approval.lower() == \"yes\":\n",
    "    \n",
    "    # If approved, continue the graph execution  (When we invoke the graph with None, it will just continue from the last state checkpoint!)\n",
    "    for event in graph.stream(None, thread, stream_mode=\"values\"):\n",
    "        event['messages'][-1].pretty_print()\n",
    "        \n",
    "else:\n",
    "    print(\"Operation cancelled by user.\")"
   ]
  },
  {
   "cell_type": "markdown",
   "metadata": {},
   "source": [
    "# Editing Graph State\n",
    "- We showed how breakpoints support user approval, but don't yet know how to modify our graph state once our graph is interrupted!\n",
    "- Now, let's show how to directly edit the graph state and insert human feedback."
   ]
  },
  {
   "cell_type": "code",
   "execution_count": 72,
   "metadata": {},
   "outputs": [],
   "source": [
    "# LLM\n",
    "from langchain_groq import ChatGroq\n",
    "llm = ChatGroq(temperature=0, model_name= \"llama-3.1-8b-instant\")"
   ]
  },
  {
   "cell_type": "code",
   "execution_count": 73,
   "metadata": {},
   "outputs": [],
   "source": [
    "def multiply(a: int, b: int) -> int:\n",
    "    \"\"\"Multiply a and b.\n",
    "\n",
    "    Args:\n",
    "        a: first int\n",
    "        b: second int\n",
    "    \"\"\"\n",
    "    return a * b\n",
    "\n",
    "# This will be a tool\n",
    "def add(a: int, b: int) -> int:\n",
    "    \"\"\"Adds a and b.\n",
    "\n",
    "    Args:\n",
    "        a: first int\n",
    "        b: second int\n",
    "    \"\"\"\n",
    "    return a + b\n",
    "\n",
    "def divide(a: int, b: int) -> float:\n",
    "    \"\"\"Adds a and b.\n",
    "\n",
    "    Args:\n",
    "        a: first int\n",
    "        b: second int\n",
    "    \"\"\"\n",
    "    return a / b\n",
    "\n",
    "tools = [add, multiply, divide]\n",
    "llm_with_tools = llm.bind_tools(tools)"
   ]
  },
  {
   "cell_type": "code",
   "execution_count": 74,
   "metadata": {},
   "outputs": [
    {
     "data": {
      "image/png": "[encoded data removed]",
      "text/plain": [
       "<IPython.core.display.Image object>"
      ]
     },
     "metadata": {},
     "output_type": "display_data"
    }
   ],
   "source": [
    "from IPython.display import Image, display\n",
    "\n",
    "from langgraph.checkpoint.memory import MemorySaver\n",
    "from langgraph.graph import MessagesState\n",
    "from langgraph.graph import START, StateGraph\n",
    "from langgraph.prebuilt import tools_condition, ToolNode\n",
    "\n",
    "from langchain_core.messages import HumanMessage, SystemMessage\n",
    "\n",
    "# System message\n",
    "sys_msg = SystemMessage(content=\"You are a helpful assistant tasked with performing arithmetic on a set of inputs.\")\n",
    "\n",
    "# Node\n",
    "def assistant(state: MessagesState):\n",
    "   return {\"messages\": [llm_with_tools.invoke([sys_msg] + state[\"messages\"])]}\n",
    "\n",
    "# Graph\n",
    "builder = StateGraph(MessagesState)\n",
    "\n",
    "# Define nodes: these do the work\n",
    "builder.add_node(\"assistant\", assistant)\n",
    "builder.add_node(\"tools\", ToolNode(tools))\n",
    "\n",
    "# Define edges: these determine the control flow\n",
    "builder.add_edge(START, \"assistant\")\n",
    "builder.add_conditional_edges(\n",
    "    \"assistant\",\n",
    "    # If the latest message (result) from assistant is a tool call -> tools_condition routes to tools\n",
    "    # If the latest message (result) from assistant is a not a tool call -> tools_condition routes to END\n",
    "    tools_condition,\n",
    ")\n",
    "builder.add_edge(\"tools\", \"assistant\")\n",
    "\n",
    "memory = MemorySaver()\n",
    "graph = builder.compile(interrupt_before=[\"assistant\"], checkpointer=memory)\n",
    "\n",
    "# Show\n",
    "display(Image(graph.get_graph(xray=True).draw_mermaid_png()))"
   ]
  },
  {
   "cell_type": "code",
   "execution_count": 75,
   "metadata": {},
   "outputs": [
    {
     "name": "stdout",
     "output_type": "stream",
     "text": [
      "================================\u001b[1m Human Message \u001b[0m=================================\n",
      "\n",
      "Multiply 2 and 3\n"
     ]
    }
   ],
   "source": [
    "# Input\n",
    "initial_input = {\"messages\": \"Multiply 2 and 3\"}\n",
    "\n",
    "# Thread\n",
    "thread = {\"configurable\": {\"thread_id\": \"1\"}}\n",
    "\n",
    "# Run the graph until the first interruption\n",
    "for event in graph.stream(initial_input, thread, stream_mode=\"values\"):\n",
    "    event['messages'][-1].pretty_print()"
   ]
  },
  {
   "cell_type": "code",
   "execution_count": 76,
   "metadata": {},
   "outputs": [
    {
     "data": {
      "text/plain": [
       "StateSnapshot(values={'messages': [HumanMessage(content='Multiply 2 and 3', additional_kwargs={}, response_metadata={}, id='c63ed846-ffea-4886-8e8a-88c9ebc697a6')]}, next=('assistant',), config={'configurable': {'thread_id': '1', 'checkpoint_ns': '', 'checkpoint_id': '1efa9280-62e1-6a7f-8000-cf52e37aaf3c'}}, metadata={'source': 'loop', 'writes': None, 'step': 0, 'parents': {}}, created_at='2024-11-22T23:18:03.924543+00:00', parent_config={'configurable': {'thread_id': '1', 'checkpoint_ns': '', 'checkpoint_id': '1efa9280-62db-64c9-bfff-f8e7637d1b02'}}, tasks=(PregelTask(id='386dbeb5-ecf0-f25e-7113-c47c555586e7', name='assistant', path=('__pregel_pull', 'assistant'), error=None, interrupts=(), state=None, result=None),))"
      ]
     },
     "execution_count": 76,
     "metadata": {},
     "output_type": "execute_result"
    }
   ],
   "source": [
    "state = graph.get_state(thread)\n",
    "state"
   ]
  },
  {
   "cell_type": "code",
   "execution_count": 77,
   "metadata": {},
   "outputs": [
    {
     "data": {
      "text/plain": [
       "{'configurable': {'thread_id': '1',\n",
       "  'checkpoint_ns': '',\n",
       "  'checkpoint_id': '1efa9281-bbda-619f-8001-d03c0e960e91'}}"
      ]
     },
     "execution_count": 77,
     "metadata": {},
     "output_type": "execute_result"
    }
   ],
   "source": [
    "graph.update_state(\n",
    "    thread,\n",
    "    {\"messages\": [HumanMessage(content=\"No, actually multiply 3 and 3!\")]},\n",
    ")"
   ]
  },
  {
   "cell_type": "code",
   "execution_count": 79,
   "metadata": {},
   "outputs": [
    {
     "name": "stdout",
     "output_type": "stream",
     "text": [
      "================================\u001b[1m Human Message \u001b[0m=================================\n",
      "\n",
      "Multiply 2 and 3\n",
      "================================\u001b[1m Human Message \u001b[0m=================================\n",
      "\n",
      "No, actually multiply 3 and 3!\n"
     ]
    }
   ],
   "source": [
    "new_state = graph.get_state(thread).values\n",
    "for m in new_state['messages']:\n",
    "    m.pretty_print()"
   ]
  },
  {
   "cell_type": "code",
   "execution_count": 80,
   "metadata": {},
   "outputs": [
    {
     "name": "stdout",
     "output_type": "stream",
     "text": [
      "================================\u001b[1m Human Message \u001b[0m=================================\n",
      "\n",
      "No, actually multiply 3 and 3!\n",
      "==================================\u001b[1m Ai Message \u001b[0m==================================\n",
      "Tool Calls:\n",
      "  multiply (call_61e7)\n",
      " Call ID: call_61e7\n",
      "  Args:\n",
      "    a: 3\n",
      "    b: 3\n",
      "=================================\u001b[1m Tool Message \u001b[0m=================================\n",
      "Name: multiply\n",
      "\n",
      "9\n"
     ]
    }
   ],
   "source": [
    "for event in graph.stream(None, thread, stream_mode=\"values\"):\n",
    "    event['messages'][-1].pretty_print()"
   ]
  },
  {
   "cell_type": "code",
   "execution_count": 81,
   "metadata": {},
   "outputs": [
    {
     "name": "stdout",
     "output_type": "stream",
     "text": [
      "=================================\u001b[1m Tool Message \u001b[0m=================================\n",
      "Name: multiply\n",
      "\n",
      "9\n",
      "==================================\u001b[1m Ai Message \u001b[0m==================================\n",
      "Tool Calls:\n",
      "  multiply (call_5jhk)\n",
      " Call ID: call_5jhk\n",
      "  Args:\n",
      "    a: 2\n",
      "    b: 3\n",
      "=================================\u001b[1m Tool Message \u001b[0m=================================\n",
      "Name: multiply\n",
      "\n",
      "6\n"
     ]
    }
   ],
   "source": [
    "for event in graph.stream(None, thread, stream_mode=\"values\"):\n",
    "    event['messages'][-1].pretty_print()"
   ]
  },
  {
   "cell_type": "markdown",
   "metadata": {},
   "source": [
    "## ALL in One"
   ]
  },
  {
   "cell_type": "code",
   "execution_count": 87,
   "metadata": {},
   "outputs": [
    {
     "data": {
      "image/png": "[encoded data removed]",
      "text/plain": [
       "<IPython.core.display.Image object>"
      ]
     },
     "metadata": {},
     "output_type": "display_data"
    }
   ],
   "source": [
    "# System message\n",
    "sys_msg = SystemMessage(content=\"You are a helpful assistant tasked with performing arithmetic on a set of inputs.\")\n",
    "\n",
    "# no-op node that should be interrupted on\n",
    "def human_feedback(state: MessagesState):\n",
    "    pass\n",
    "\n",
    "# Assistant node\n",
    "def assistant(state: MessagesState):\n",
    "   return {\"messages\": [llm_with_tools.invoke([sys_msg] + state[\"messages\"])]}\n",
    "\n",
    "# Graph\n",
    "builder = StateGraph(MessagesState)\n",
    "\n",
    "# Define nodes: these do the work\n",
    "builder.add_node(\"assistant\", assistant)\n",
    "builder.add_node(\"tools\", ToolNode(tools))\n",
    "builder.add_node(\"human_feedback\", human_feedback)\n",
    "\n",
    "# Define edges: these determine the control flow\n",
    "builder.add_edge(START, \"human_feedback\")\n",
    "builder.add_edge(\"human_feedback\", \"assistant\")\n",
    "builder.add_conditional_edges(\n",
    "    \"assistant\",\n",
    "    # If the latest message (result) from assistant is a tool call -> tools_condition routes to tools\n",
    "    # If the latest message (result) from assistant is a not a tool call -> tools_condition routes to END\n",
    "    tools_condition,\n",
    ")\n",
    "builder.add_edge(\"tools\", \"human_feedback\")\n",
    "\n",
    "memory = MemorySaver()\n",
    "graph = builder.compile(interrupt_before=[\"human_feedback\"], checkpointer=memory)\n",
    "display(Image(graph.get_graph().draw_mermaid_png()))"
   ]
  },
  {
   "cell_type": "code",
   "execution_count": 88,
   "metadata": {},
   "outputs": [
    {
     "name": "stdout",
     "output_type": "stream",
     "text": [
      "================================\u001b[1m Human Message \u001b[0m=================================\n",
      "\n",
      "Multiply 2 and 3\n",
      "================================\u001b[1m Human Message \u001b[0m=================================\n",
      "\n",
      "multiply 100 and 2\n",
      "==================================\u001b[1m Ai Message \u001b[0m==================================\n",
      "\n",
      "<multiply>{\"a\": 100, \"b\": 2}</multiply>\n"
     ]
    }
   ],
   "source": [
    "#### ALL in One\n",
    "# Input\n",
    "initial_input = {\"messages\": \"Multiply 2 and 3\"}\n",
    "\n",
    "# Thread\n",
    "thread = {\"configurable\": {\"thread_id\": \"5\"}}\n",
    "\n",
    "# Run the graph until the first interruption\n",
    "for event in graph.stream(initial_input, thread, stream_mode=\"values\"):\n",
    "    event[\"messages\"][-1].pretty_print()\n",
    "    \n",
    "# Get user input\n",
    "user_input = input(\"Tell me how you want to update the state: \")\n",
    "\n",
    "# We now update the state as if we are the human_feedback node\n",
    "graph.update_state(thread, {\"messages\": user_input}, as_node=\"human_feedback\")\n",
    "\n",
    "# Continue the graph execution\n",
    "for event in graph.stream(None, thread, stream_mode=\"values\"):\n",
    "    event[\"messages\"][-1].pretty_print()"
   ]
  },
  {
   "cell_type": "markdown",
   "metadata": {},
   "source": [
    "# Dynamic Breakpoints\n",
    "- Breakpoints are set by the developer on a specific node during graph compilation.\n",
    "- But, sometimes it is helpful to allow the graph dynamically interrupt itself!\n",
    "- This is an internal breakpoint, and can be achieved using NodeInterrupt.\n",
    "- This has a few specific benefits:\n",
    "- (1) you can do it conditionally (from inside a node based on developer-defined logic).\n",
    "- (2) you can communicate to the user why its interrupted (by passing whatever you want to the NodeInterrupt)."
   ]
  },
  {
   "cell_type": "code",
   "execution_count": 90,
   "metadata": {},
   "outputs": [],
   "source": [
    "# LLM\n",
    "from langchain_groq import ChatGroq\n",
    "model = ChatGroq(temperature=0, model_name= \"llama-3.1-8b-instant\")"
   ]
  },
  {
   "cell_type": "code",
   "execution_count": 109,
   "metadata": {},
   "outputs": [
    {
     "data": {
      "image/png": "[encoded data removed]",
      "text/plain": [
       "<IPython.core.display.Image object>"
      ]
     },
     "metadata": {},
     "output_type": "display_data"
    }
   ],
   "source": [
    "from IPython.display import Image, display\n",
    "\n",
    "from typing_extensions import TypedDict\n",
    "from langgraph.checkpoint.memory import MemorySaver\n",
    "from langgraph.errors import NodeInterrupt\n",
    "from langgraph.graph import START, END, StateGraph\n",
    "\n",
    "class State(TypedDict):\n",
    "    input: str\n",
    "\n",
    "def step_1(state: State) -> State:\n",
    "    print(\"---Step 1---\")\n",
    "    return state\n",
    "\n",
    "def step_2(state: State) -> State:\n",
    "    # Let's optionally raise a NodeInterrupt if the length of the input is longer than 5 characters\n",
    "    if len(state['input']) > 5:\n",
    "        raise NodeInterrupt(f\"Received input that is longer than 5 characters: {state['input']}\")\n",
    "    \n",
    "    print(\"---Step 2---\")\n",
    "    return state\n",
    "\n",
    "def step_3(state: State) -> State:\n",
    "    print(\"---Step 3---\")\n",
    "    return state\n",
    "\n",
    "builder = StateGraph(State)\n",
    "builder.add_node(\"step_1\", step_1)\n",
    "builder.add_node(\"step_2\", step_2)\n",
    "builder.add_node(\"step_3\", step_3)\n",
    "builder.add_edge(START, \"step_1\")\n",
    "builder.add_edge(\"step_1\", \"step_2\")\n",
    "builder.add_edge(\"step_2\", \"step_3\")\n",
    "builder.add_edge(\"step_3\", END)\n",
    "\n",
    "# Set up memory\n",
    "memory = MemorySaver()\n",
    "\n",
    "# Compile the graph with memory\n",
    "graph = builder.compile(checkpointer=memory)\n",
    "\n",
    "# View\n",
    "display(Image(graph.get_graph().draw_mermaid_png()))"
   ]
  },
  {
   "cell_type": "code",
   "execution_count": 110,
   "metadata": {},
   "outputs": [
    {
     "name": "stdout",
     "output_type": "stream",
     "text": [
      "{'input': 'hello world'}\n",
      "('step_1',)\n",
      "---Step 1---\n",
      "{'input': 'hello world'}\n",
      "('step_1',)\n"
     ]
    }
   ],
   "source": [
    "initial_input = {\"input\": \"hello world\"}\n",
    "thread_config = {\"configurable\": {\"thread_id\": \"100\"}}\n",
    "\n",
    "# Run the graph until the first interruption\n",
    "for event in graph.stream(initial_input, thread_config, stream_mode=\"values\"):\n",
    "    print(event)\n",
    "    state = graph.get_state(thread_config)\n",
    "    print(state.next)"
   ]
  },
  {
   "cell_type": "code",
   "execution_count": 112,
   "metadata": {},
   "outputs": [
    {
     "name": "stdout",
     "output_type": "stream",
     "text": [
      "{'input': 'hello world'}\n",
      "('step_2',)\n"
     ]
    }
   ],
   "source": [
    "for event in graph.stream(None, thread_config, stream_mode=\"values\"):\n",
    "    print(event)\n",
    "state = graph.get_state(thread_config)\n",
    "print(state.next)   ## None으로 재요청을 날려도 상태가 진행되지 않는다."
   ]
  },
  {
   "cell_type": "code",
   "execution_count": 113,
   "metadata": {},
   "outputs": [
    {
     "name": "stdout",
     "output_type": "stream",
     "text": [
      "{'input': 'hi'}\n",
      "('step_2',)\n",
      "---Step 2---\n",
      "{'input': 'hi'}\n",
      "('step_2',)\n",
      "---Step 3---\n",
      "{'input': 'hi'}\n",
      "()\n"
     ]
    }
   ],
   "source": [
    "graph.update_state(\n",
    "    thread_config,\n",
    "    {\"input\": \"hi\"},     # 글자수 5개 미만 조건을 충족하도록 state를 업데이트해야 상태가 진행된다.\n",
    ")\n",
    "for event in graph.stream(None, thread_config, stream_mode=\"values\"):\n",
    "    print(event)\n",
    "    state = graph.get_state(thread_config)\n",
    "    print(state.next)   ## None으로 재요청을 날려도 상태가 진행되지 않는다."
   ]
  },
  {
   "cell_type": "markdown",
   "metadata": {},
   "source": [
    "# Time Travel (debugging)\n",
    "- Now, let's show how LangGraph supports debugging by viewing, re-playing, and even forking from past states.\n",
    "- We call this time travel."
   ]
  },
  {
   "cell_type": "code",
   "execution_count": 116,
   "metadata": {},
   "outputs": [],
   "source": [
    "# LLM\n",
    "from langchain_groq import ChatGroq\n",
    "llm = ChatGroq(temperature=0, model_name= \"llama-3.1-8b-instant\")"
   ]
  },
  {
   "cell_type": "code",
   "execution_count": 119,
   "metadata": {},
   "outputs": [],
   "source": [
    "def multiply(a: int, b: int) -> int:\n",
    "    \"\"\"Multiply a and b.\n",
    "\n",
    "    Args:\n",
    "        a: first int\n",
    "        b: second int\n",
    "    \"\"\"\n",
    "    return a * b\n",
    "\n",
    "# This will be a tool\n",
    "def add(a: int, b: int) -> int:\n",
    "    \"\"\"Adds a and b.\n",
    "\n",
    "    Args:\n",
    "        a: first int\n",
    "        b: second int\n",
    "    \"\"\"\n",
    "    return a + b\n",
    "\n",
    "def divide(a: int, b: int) -> float:\n",
    "    \"\"\"Adds a and b.\n",
    "\n",
    "    Args:\n",
    "        a: first int\n",
    "        b: second int\n",
    "    \"\"\"\n",
    "    return a / b\n",
    "\n",
    "tools = [add, multiply, divide]\n",
    "llm_with_tools = llm.bind_tools(tools)"
   ]
  },
  {
   "cell_type": "code",
   "execution_count": 120,
   "metadata": {},
   "outputs": [
    {
     "data": {
      "image/png": "[encoded data removed]",
      "text/plain": [
       "<IPython.core.display.Image object>"
      ]
     },
     "metadata": {},
     "output_type": "display_data"
    }
   ],
   "source": [
    "from IPython.display import Image, display\n",
    "\n",
    "from langgraph.checkpoint.memory import MemorySaver\n",
    "from langgraph.graph import MessagesState\n",
    "from langgraph.graph import START, END, StateGraph\n",
    "from langgraph.prebuilt import tools_condition, ToolNode\n",
    "\n",
    "from langchain_core.messages import AIMessage, HumanMessage, SystemMessage\n",
    "\n",
    "# System message\n",
    "sys_msg = SystemMessage(content=\"You are a helpful assistant tasked with performing arithmetic on a set of inputs.\")\n",
    "\n",
    "# Node\n",
    "def assistant(state: MessagesState):\n",
    "   return {\"messages\": [llm_with_tools.invoke([sys_msg] + state[\"messages\"])]}\n",
    "\n",
    "# Graph\n",
    "builder = StateGraph(MessagesState)\n",
    "\n",
    "# Define nodes: these do the work\n",
    "builder.add_node(\"assistant\", assistant)\n",
    "builder.add_node(\"tools\", ToolNode(tools))\n",
    "\n",
    "# Define edges: these determine the control flow\n",
    "builder.add_edge(START, \"assistant\")\n",
    "builder.add_conditional_edges(\n",
    "    \"assistant\",\n",
    "    # If the latest message (result) from assistant is a tool call -> tools_condition routes to tools\n",
    "    # If the latest message (result) from assistant is a not a tool call -> tools_condition routes to END\n",
    "    tools_condition,\n",
    ")\n",
    "builder.add_edge(\"tools\", \"assistant\")\n",
    "\n",
    "memory = MemorySaver()\n",
    "graph = builder.compile(checkpointer=MemorySaver())\n",
    "\n",
    "# Show\n",
    "display(Image(graph.get_graph(xray=True).draw_mermaid_png()))"
   ]
  },
  {
   "cell_type": "code",
   "execution_count": 121,
   "metadata": {},
   "outputs": [
    {
     "name": "stdout",
     "output_type": "stream",
     "text": [
      "================================\u001b[1m Human Message \u001b[0m=================================\n",
      "\n",
      "Multiply 2 and 3\n",
      "==================================\u001b[1m Ai Message \u001b[0m==================================\n",
      "Tool Calls:\n",
      "  multiply (call_gnrb)\n",
      " Call ID: call_gnrb\n",
      "  Args:\n",
      "    a: 2\n",
      "    b: 3\n",
      "=================================\u001b[1m Tool Message \u001b[0m=================================\n",
      "Name: multiply\n",
      "\n",
      "6\n",
      "==================================\u001b[1m Ai Message \u001b[0m==================================\n",
      "\n",
      "The result of the multiplication is 6.\n"
     ]
    }
   ],
   "source": [
    "# Input\n",
    "initial_input = {\"messages\": HumanMessage(content=\"Multiply 2 and 3\")}\n",
    "\n",
    "# Thread\n",
    "thread = {\"configurable\": {\"thread_id\": \"1000\"}}\n",
    "\n",
    "# Run the graph until the first interruption\n",
    "for event in graph.stream(initial_input, thread, stream_mode=\"values\"):\n",
    "    event['messages'][-1].pretty_print()"
   ]
  },
  {
   "cell_type": "code",
   "execution_count": 123,
   "metadata": {},
   "outputs": [
    {
     "data": {
      "text/plain": [
       "StateSnapshot(values={'messages': [HumanMessage(content='Multiply 2 and 3', additional_kwargs={}, response_metadata={}, id='9a0b886d-6ed6-4b47-b02b-8c23cc3bacde'), AIMessage(content='', additional_kwargs={'tool_calls': [{'id': 'call_gnrb', 'function': {'arguments': '{\"a\": 2, \"b\": 3}', 'name': 'multiply'}, 'type': 'function'}]}, response_metadata={'token_usage': {'completion_tokens': 19, 'prompt_tokens': 371, 'total_tokens': 390, 'completion_time': 0.025333333, 'prompt_time': 0.023863603, 'queue_time': 0.0025797270000000004, 'total_time': 0.049196936}, 'model_name': 'llama-3.1-8b-instant', 'system_fingerprint': 'fp_f66ccb39ec', 'finish_reason': 'tool_calls', 'logprobs': None}, id='run-9736ef79-bbb0-4427-9c20-bce149f89edd-0', tool_calls=[{'name': 'multiply', 'args': {'a': 2, 'b': 3}, 'id': 'call_gnrb', 'type': 'tool_call'}], usage_metadata={'input_tokens': 371, 'output_tokens': 19, 'total_tokens': 390}), ToolMessage(content='6', name='multiply', id='32adcd1a-238f-4920-9ac9-67b140cc73da', tool_call_id='call_gnrb'), AIMessage(content='The result of the multiplication is 6.', additional_kwargs={}, response_metadata={'token_usage': {'completion_tokens': 10, 'prompt_tokens': 401, 'total_tokens': 411, 'completion_time': 0.013333333, 'prompt_time': 0.044980716, 'queue_time': 0.0018359240000000027, 'total_time': 0.058314049}, 'model_name': 'llama-3.1-8b-instant', 'system_fingerprint': 'fp_9cb648b966', 'finish_reason': 'stop', 'logprobs': None}, id='run-fe6018c1-f34f-4315-8e0b-7d7b76fa59b2-0', usage_metadata={'input_tokens': 401, 'output_tokens': 10, 'total_tokens': 411})]}, next=(), config={'configurable': {'thread_id': '1000', 'checkpoint_ns': '', 'checkpoint_id': '1efa92b0-035a-6d34-8003-e15caadbf37a'}}, metadata={'source': 'loop', 'writes': {'assistant': {'messages': [AIMessage(content='The result of the multiplication is 6.', additional_kwargs={}, response_metadata={'token_usage': {'completion_tokens': 10, 'prompt_tokens': 401, 'total_tokens': 411, 'completion_time': 0.013333333, 'prompt_time': 0.044980716, 'queue_time': 0.0018359240000000027, 'total_time': 0.058314049}, 'model_name': 'llama-3.1-8b-instant', 'system_fingerprint': 'fp_9cb648b966', 'finish_reason': 'stop', 'logprobs': None}, id='run-fe6018c1-f34f-4315-8e0b-7d7b76fa59b2-0', usage_metadata={'input_tokens': 401, 'output_tokens': 10, 'total_tokens': 411})]}}, 'step': 3, 'parents': {}}, created_at='2024-11-22T23:39:22.398034+00:00', parent_config={'configurable': {'thread_id': '1000', 'checkpoint_ns': '', 'checkpoint_id': '1efa92b0-012b-6d36-8002-91474d7beac8'}}, tasks=())"
      ]
     },
     "execution_count": 123,
     "metadata": {},
     "output_type": "execute_result"
    }
   ],
   "source": [
    "## We can use get_state to look at the current state of our graph, given the thread_id!\n",
    "\n",
    "graph.get_state({'configurable': {'thread_id': '1000'}})"
   ]
  },
  {
   "cell_type": "code",
   "execution_count": 124,
   "metadata": {},
   "outputs": [
    {
     "data": {
      "text/plain": [
       "5"
      ]
     },
     "execution_count": 124,
     "metadata": {},
     "output_type": "execute_result"
    }
   ],
   "source": [
    "all_states = [s for s in graph.get_state_history(thread)]\n",
    "len(all_states)"
   ]
  },
  {
   "cell_type": "code",
   "execution_count": 127,
   "metadata": {},
   "outputs": [
    {
     "data": {
      "text/plain": [
       "[StateSnapshot(values={'messages': [HumanMessage(content='Multiply 2 and 3', additional_kwargs={}, response_metadata={}, id='9a0b886d-6ed6-4b47-b02b-8c23cc3bacde'), AIMessage(content='', additional_kwargs={'tool_calls': [{'id': 'call_gnrb', 'function': {'arguments': '{\"a\": 2, \"b\": 3}', 'name': 'multiply'}, 'type': 'function'}]}, response_metadata={'token_usage': {'completion_tokens': 19, 'prompt_tokens': 371, 'total_tokens': 390, 'completion_time': 0.025333333, 'prompt_time': 0.023863603, 'queue_time': 0.0025797270000000004, 'total_time': 0.049196936}, 'model_name': 'llama-3.1-8b-instant', 'system_fingerprint': 'fp_f66ccb39ec', 'finish_reason': 'tool_calls', 'logprobs': None}, id='run-9736ef79-bbb0-4427-9c20-bce149f89edd-0', tool_calls=[{'name': 'multiply', 'args': {'a': 2, 'b': 3}, 'id': 'call_gnrb', 'type': 'tool_call'}], usage_metadata={'input_tokens': 371, 'output_tokens': 19, 'total_tokens': 390}), ToolMessage(content='6', name='multiply', id='32adcd1a-238f-4920-9ac9-67b140cc73da', tool_call_id='call_gnrb'), AIMessage(content='The result of the multiplication is 6.', additional_kwargs={}, response_metadata={'token_usage': {'completion_tokens': 10, 'prompt_tokens': 401, 'total_tokens': 411, 'completion_time': 0.013333333, 'prompt_time': 0.044980716, 'queue_time': 0.0018359240000000027, 'total_time': 0.058314049}, 'model_name': 'llama-3.1-8b-instant', 'system_fingerprint': 'fp_9cb648b966', 'finish_reason': 'stop', 'logprobs': None}, id='run-fe6018c1-f34f-4315-8e0b-7d7b76fa59b2-0', usage_metadata={'input_tokens': 401, 'output_tokens': 10, 'total_tokens': 411})]}, next=(), config={'configurable': {'thread_id': '1000', 'checkpoint_ns': '', 'checkpoint_id': '1efa92b0-035a-6d34-8003-e15caadbf37a'}}, metadata={'source': 'loop', 'writes': {'assistant': {'messages': [AIMessage(content='The result of the multiplication is 6.', additional_kwargs={}, response_metadata={'token_usage': {'completion_tokens': 10, 'prompt_tokens': 401, 'total_tokens': 411, 'completion_time': 0.013333333, 'prompt_time': 0.044980716, 'queue_time': 0.0018359240000000027, 'total_time': 0.058314049}, 'model_name': 'llama-3.1-8b-instant', 'system_fingerprint': 'fp_9cb648b966', 'finish_reason': 'stop', 'logprobs': None}, id='run-fe6018c1-f34f-4315-8e0b-7d7b76fa59b2-0', usage_metadata={'input_tokens': 401, 'output_tokens': 10, 'total_tokens': 411})]}}, 'step': 3, 'parents': {}}, created_at='2024-11-22T23:39:22.398034+00:00', parent_config={'configurable': {'thread_id': '1000', 'checkpoint_ns': '', 'checkpoint_id': '1efa92b0-012b-6d36-8002-91474d7beac8'}}, tasks=()),\n",
       " StateSnapshot(values={'messages': [HumanMessage(content='Multiply 2 and 3', additional_kwargs={}, response_metadata={}, id='9a0b886d-6ed6-4b47-b02b-8c23cc3bacde'), AIMessage(content='', additional_kwargs={'tool_calls': [{'id': 'call_gnrb', 'function': {'arguments': '{\"a\": 2, \"b\": 3}', 'name': 'multiply'}, 'type': 'function'}]}, response_metadata={'token_usage': {'completion_tokens': 19, 'prompt_tokens': 371, 'total_tokens': 390, 'completion_time': 0.025333333, 'prompt_time': 0.023863603, 'queue_time': 0.0025797270000000004, 'total_time': 0.049196936}, 'model_name': 'llama-3.1-8b-instant', 'system_fingerprint': 'fp_f66ccb39ec', 'finish_reason': 'tool_calls', 'logprobs': None}, id='run-9736ef79-bbb0-4427-9c20-bce149f89edd-0', tool_calls=[{'name': 'multiply', 'args': {'a': 2, 'b': 3}, 'id': 'call_gnrb', 'type': 'tool_call'}], usage_metadata={'input_tokens': 371, 'output_tokens': 19, 'total_tokens': 390}), ToolMessage(content='6', name='multiply', id='32adcd1a-238f-4920-9ac9-67b140cc73da', tool_call_id='call_gnrb')]}, next=('assistant',), config={'configurable': {'thread_id': '1000', 'checkpoint_ns': '', 'checkpoint_id': '1efa92b0-012b-6d36-8002-91474d7beac8'}}, metadata={'source': 'loop', 'writes': {'tools': {'messages': [ToolMessage(content='6', name='multiply', id='32adcd1a-238f-4920-9ac9-67b140cc73da', tool_call_id='call_gnrb')]}}, 'step': 2, 'parents': {}}, created_at='2024-11-22T23:39:22.169067+00:00', parent_config={'configurable': {'thread_id': '1000', 'checkpoint_ns': '', 'checkpoint_id': '1efa92b0-0125-699a-8001-9f55ace30bbe'}}, tasks=(PregelTask(id='b8b6bb14-c80d-a619-f13a-76eb5d087b60', name='assistant', path=('__pregel_pull', 'assistant'), error=None, interrupts=(), state=None, result={'messages': [AIMessage(content='The result of the multiplication is 6.', additional_kwargs={}, response_metadata={'token_usage': {'completion_tokens': 10, 'prompt_tokens': 401, 'total_tokens': 411, 'completion_time': 0.013333333, 'prompt_time': 0.044980716, 'queue_time': 0.0018359240000000027, 'total_time': 0.058314049}, 'model_name': 'llama-3.1-8b-instant', 'system_fingerprint': 'fp_9cb648b966', 'finish_reason': 'stop', 'logprobs': None}, id='run-fe6018c1-f34f-4315-8e0b-7d7b76fa59b2-0', usage_metadata={'input_tokens': 401, 'output_tokens': 10, 'total_tokens': 411})]}),)),\n",
       " StateSnapshot(values={'messages': [HumanMessage(content='Multiply 2 and 3', additional_kwargs={}, response_metadata={}, id='9a0b886d-6ed6-4b47-b02b-8c23cc3bacde'), AIMessage(content='', additional_kwargs={'tool_calls': [{'id': 'call_gnrb', 'function': {'arguments': '{\"a\": 2, \"b\": 3}', 'name': 'multiply'}, 'type': 'function'}]}, response_metadata={'token_usage': {'completion_tokens': 19, 'prompt_tokens': 371, 'total_tokens': 390, 'completion_time': 0.025333333, 'prompt_time': 0.023863603, 'queue_time': 0.0025797270000000004, 'total_time': 0.049196936}, 'model_name': 'llama-3.1-8b-instant', 'system_fingerprint': 'fp_f66ccb39ec', 'finish_reason': 'tool_calls', 'logprobs': None}, id='run-9736ef79-bbb0-4427-9c20-bce149f89edd-0', tool_calls=[{'name': 'multiply', 'args': {'a': 2, 'b': 3}, 'id': 'call_gnrb', 'type': 'tool_call'}], usage_metadata={'input_tokens': 371, 'output_tokens': 19, 'total_tokens': 390})]}, next=('tools',), config={'configurable': {'thread_id': '1000', 'checkpoint_ns': '', 'checkpoint_id': '1efa92b0-0125-699a-8001-9f55ace30bbe'}}, metadata={'source': 'loop', 'writes': {'assistant': {'messages': [AIMessage(content='', additional_kwargs={'tool_calls': [{'id': 'call_gnrb', 'function': {'arguments': '{\"a\": 2, \"b\": 3}', 'name': 'multiply'}, 'type': 'function'}]}, response_metadata={'token_usage': {'completion_tokens': 19, 'prompt_tokens': 371, 'total_tokens': 390, 'completion_time': 0.025333333, 'prompt_time': 0.023863603, 'queue_time': 0.0025797270000000004, 'total_time': 0.049196936}, 'model_name': 'llama-3.1-8b-instant', 'system_fingerprint': 'fp_f66ccb39ec', 'finish_reason': 'tool_calls', 'logprobs': None}, id='run-9736ef79-bbb0-4427-9c20-bce149f89edd-0', tool_calls=[{'name': 'multiply', 'args': {'a': 2, 'b': 3}, 'id': 'call_gnrb', 'type': 'tool_call'}], usage_metadata={'input_tokens': 371, 'output_tokens': 19, 'total_tokens': 390})]}}, 'step': 1, 'parents': {}}, created_at='2024-11-22T23:39:22.166517+00:00', parent_config={'configurable': {'thread_id': '1000', 'checkpoint_ns': '', 'checkpoint_id': '1efa92af-fda5-6776-8000-54a5275759f6'}}, tasks=(PregelTask(id='bb473316-66a6-b182-497f-bf19c39d027c', name='tools', path=('__pregel_pull', 'tools'), error=None, interrupts=(), state=None, result={'messages': [ToolMessage(content='6', name='multiply', id='32adcd1a-238f-4920-9ac9-67b140cc73da', tool_call_id='call_gnrb')]}),)),\n",
       " StateSnapshot(values={'messages': [HumanMessage(content='Multiply 2 and 3', additional_kwargs={}, response_metadata={}, id='9a0b886d-6ed6-4b47-b02b-8c23cc3bacde')]}, next=('assistant',), config={'configurable': {'thread_id': '1000', 'checkpoint_ns': '', 'checkpoint_id': '1efa92af-fda5-6776-8000-54a5275759f6'}}, metadata={'source': 'loop', 'writes': None, 'step': 0, 'parents': {}}, created_at='2024-11-22T23:39:21.799461+00:00', parent_config={'configurable': {'thread_id': '1000', 'checkpoint_ns': '', 'checkpoint_id': '1efa92af-fda4-60f5-bfff-9126cca11c12'}}, tasks=(PregelTask(id='0d239ea2-e437-2676-d0f9-53262ed0a780', name='assistant', path=('__pregel_pull', 'assistant'), error=None, interrupts=(), state=None, result={'messages': [AIMessage(content='', additional_kwargs={'tool_calls': [{'id': 'call_gnrb', 'function': {'arguments': '{\"a\": 2, \"b\": 3}', 'name': 'multiply'}, 'type': 'function'}]}, response_metadata={'token_usage': {'completion_tokens': 19, 'prompt_tokens': 371, 'total_tokens': 390, 'completion_time': 0.025333333, 'prompt_time': 0.023863603, 'queue_time': 0.0025797270000000004, 'total_time': 0.049196936}, 'model_name': 'llama-3.1-8b-instant', 'system_fingerprint': 'fp_f66ccb39ec', 'finish_reason': 'tool_calls', 'logprobs': None}, id='run-9736ef79-bbb0-4427-9c20-bce149f89edd-0', tool_calls=[{'name': 'multiply', 'args': {'a': 2, 'b': 3}, 'id': 'call_gnrb', 'type': 'tool_call'}], usage_metadata={'input_tokens': 371, 'output_tokens': 19, 'total_tokens': 390})]}),)),\n",
       " StateSnapshot(values={'messages': []}, next=('__start__',), config={'configurable': {'thread_id': '1000', 'checkpoint_ns': '', 'checkpoint_id': '1efa92af-fda4-60f5-bfff-9126cca11c12'}}, metadata={'source': 'input', 'writes': {'__start__': {'messages': HumanMessage(content='Multiply 2 and 3', additional_kwargs={}, response_metadata={})}}, 'step': -1, 'parents': {}}, created_at='2024-11-22T23:39:21.798885+00:00', parent_config=None, tasks=(PregelTask(id='e8b9fc94-c724-9e3d-213b-c44f412851e5', name='__start__', path=('__pregel_pull', '__start__'), error=None, interrupts=(), state=None, result={'messages': HumanMessage(content='Multiply 2 and 3', additional_kwargs={}, response_metadata={}, id='9a0b886d-6ed6-4b47-b02b-8c23cc3bacde')}),))]"
      ]
     },
     "execution_count": 127,
     "metadata": {},
     "output_type": "execute_result"
    }
   ],
   "source": [
    "all_states"
   ]
  },
  {
   "cell_type": "code",
   "execution_count": 129,
   "metadata": {},
   "outputs": [
    {
     "data": {
      "text/plain": [
       "StateSnapshot(values={'messages': [HumanMessage(content='Multiply 2 and 3', additional_kwargs={}, response_metadata={}, id='9a0b886d-6ed6-4b47-b02b-8c23cc3bacde')]}, next=('assistant',), config={'configurable': {'thread_id': '1000', 'checkpoint_ns': '', 'checkpoint_id': '1efa92af-fda5-6776-8000-54a5275759f6'}}, metadata={'source': 'loop', 'writes': None, 'step': 0, 'parents': {}}, created_at='2024-11-22T23:39:21.799461+00:00', parent_config={'configurable': {'thread_id': '1000', 'checkpoint_ns': '', 'checkpoint_id': '1efa92af-fda4-60f5-bfff-9126cca11c12'}}, tasks=(PregelTask(id='0d239ea2-e437-2676-d0f9-53262ed0a780', name='assistant', path=('__pregel_pull', 'assistant'), error=None, interrupts=(), state=None, result={'messages': [AIMessage(content='', additional_kwargs={'tool_calls': [{'id': 'call_gnrb', 'function': {'arguments': '{\"a\": 2, \"b\": 3}', 'name': 'multiply'}, 'type': 'function'}]}, response_metadata={'token_usage': {'completion_tokens': 19, 'prompt_tokens': 371, 'total_tokens': 390, 'completion_time': 0.025333333, 'prompt_time': 0.023863603, 'queue_time': 0.0025797270000000004, 'total_time': 0.049196936}, 'model_name': 'llama-3.1-8b-instant', 'system_fingerprint': 'fp_f66ccb39ec', 'finish_reason': 'tool_calls', 'logprobs': None}, id='run-9736ef79-bbb0-4427-9c20-bce149f89edd-0', tool_calls=[{'name': 'multiply', 'args': {'a': 2, 'b': 3}, 'id': 'call_gnrb', 'type': 'tool_call'}], usage_metadata={'input_tokens': 371, 'output_tokens': 19, 'total_tokens': 390})]}),))"
      ]
     },
     "execution_count": 129,
     "metadata": {},
     "output_type": "execute_result"
    }
   ],
   "source": [
    "all_states[-2]   # The first element is the current state, just as we got from get_state."
   ]
  },
  {
   "cell_type": "markdown",
   "metadata": {},
   "source": [
    "## RE-play"
   ]
  },
  {
   "cell_type": "code",
   "execution_count": 130,
   "metadata": {},
   "outputs": [
    {
     "data": {
      "text/plain": [
       "StateSnapshot(values={'messages': [HumanMessage(content='Multiply 2 and 3', additional_kwargs={}, response_metadata={}, id='9a0b886d-6ed6-4b47-b02b-8c23cc3bacde')]}, next=('assistant',), config={'configurable': {'thread_id': '1000', 'checkpoint_ns': '', 'checkpoint_id': '1efa92af-fda5-6776-8000-54a5275759f6'}}, metadata={'source': 'loop', 'writes': None, 'step': 0, 'parents': {}}, created_at='2024-11-22T23:39:21.799461+00:00', parent_config={'configurable': {'thread_id': '1000', 'checkpoint_ns': '', 'checkpoint_id': '1efa92af-fda4-60f5-bfff-9126cca11c12'}}, tasks=(PregelTask(id='0d239ea2-e437-2676-d0f9-53262ed0a780', name='assistant', path=('__pregel_pull', 'assistant'), error=None, interrupts=(), state=None, result={'messages': [AIMessage(content='', additional_kwargs={'tool_calls': [{'id': 'call_gnrb', 'function': {'arguments': '{\"a\": 2, \"b\": 3}', 'name': 'multiply'}, 'type': 'function'}]}, response_metadata={'token_usage': {'completion_tokens': 19, 'prompt_tokens': 371, 'total_tokens': 390, 'completion_time': 0.025333333, 'prompt_time': 0.023863603, 'queue_time': 0.0025797270000000004, 'total_time': 0.049196936}, 'model_name': 'llama-3.1-8b-instant', 'system_fingerprint': 'fp_f66ccb39ec', 'finish_reason': 'tool_calls', 'logprobs': None}, id='run-9736ef79-bbb0-4427-9c20-bce149f89edd-0', tool_calls=[{'name': 'multiply', 'args': {'a': 2, 'b': 3}, 'id': 'call_gnrb', 'type': 'tool_call'}], usage_metadata={'input_tokens': 371, 'output_tokens': 19, 'total_tokens': 390})]}),))"
      ]
     },
     "execution_count": 130,
     "metadata": {},
     "output_type": "execute_result"
    }
   ],
   "source": [
    "to_replay = all_states[-2]\n",
    "to_replay"
   ]
  },
  {
   "cell_type": "code",
   "execution_count": 131,
   "metadata": {},
   "outputs": [
    {
     "data": {
      "text/plain": [
       "{'messages': [HumanMessage(content='Multiply 2 and 3', additional_kwargs={}, response_metadata={}, id='9a0b886d-6ed6-4b47-b02b-8c23cc3bacde')]}"
      ]
     },
     "execution_count": 131,
     "metadata": {},
     "output_type": "execute_result"
    }
   ],
   "source": [
    "to_replay.values"
   ]
  },
  {
   "cell_type": "code",
   "execution_count": 132,
   "metadata": {},
   "outputs": [
    {
     "data": {
      "text/plain": [
       "{'configurable': {'thread_id': '1000',\n",
       "  'checkpoint_ns': '',\n",
       "  'checkpoint_id': '1efa92af-fda5-6776-8000-54a5275759f6'}}"
      ]
     },
     "execution_count": 132,
     "metadata": {},
     "output_type": "execute_result"
    }
   ],
   "source": [
    "to_replay.config"
   ]
  },
  {
   "cell_type": "code",
   "execution_count": 133,
   "metadata": {},
   "outputs": [
    {
     "name": "stdout",
     "output_type": "stream",
     "text": [
      "================================\u001b[1m Human Message \u001b[0m=================================\n",
      "\n",
      "Multiply 2 and 3\n",
      "==================================\u001b[1m Ai Message \u001b[0m==================================\n",
      "Tool Calls:\n",
      "  multiply (call_29zd)\n",
      " Call ID: call_29zd\n",
      "  Args:\n",
      "    a: 2\n",
      "    b: 3\n",
      "=================================\u001b[1m Tool Message \u001b[0m=================================\n",
      "Name: multiply\n",
      "\n",
      "6\n",
      "==================================\u001b[1m Ai Message \u001b[0m==================================\n",
      "\n",
      "The result of the multiplication is 6.\n"
     ]
    }
   ],
   "source": [
    "for event in graph.stream(None, to_replay.config, stream_mode=\"values\"):\n",
    "    event['messages'][-1].pretty_print()"
   ]
  },
  {
   "cell_type": "markdown",
   "metadata": {},
   "source": [
    "## Fork\n",
    "- What if we want to run from that same step, but with a different input."
   ]
  },
  {
   "cell_type": "code",
   "execution_count": 134,
   "metadata": {},
   "outputs": [
    {
     "data": {
      "text/plain": [
       "[HumanMessage(content='Multiply 2 and 3', additional_kwargs={}, response_metadata={}, id='9a0b886d-6ed6-4b47-b02b-8c23cc3bacde')]"
      ]
     },
     "execution_count": 134,
     "metadata": {},
     "output_type": "execute_result"
    }
   ],
   "source": [
    "to_fork = all_states[-2]\n",
    "to_fork.values[\"messages\"]"
   ]
  },
  {
   "cell_type": "code",
   "execution_count": 135,
   "metadata": {},
   "outputs": [
    {
     "data": {
      "text/plain": [
       "{'configurable': {'thread_id': '1000',\n",
       "  'checkpoint_ns': '',\n",
       "  'checkpoint_id': '1efa92af-fda5-6776-8000-54a5275759f6'}}"
      ]
     },
     "execution_count": 135,
     "metadata": {},
     "output_type": "execute_result"
    }
   ],
   "source": [
    "to_fork.config"
   ]
  },
  {
   "cell_type": "code",
   "execution_count": 137,
   "metadata": {},
   "outputs": [
    {
     "data": {
      "text/plain": [
       "{'configurable': {'thread_id': '1000',\n",
       "  'checkpoint_ns': '',\n",
       "  'checkpoint_id': '1efa92be-f9cb-623b-8001-eebe973e3a42'}}"
      ]
     },
     "execution_count": 137,
     "metadata": {},
     "output_type": "execute_result"
    }
   ],
   "source": [
    "fork_config = graph.update_state(\n",
    "    to_fork.config,\n",
    "    {\"messages\": [HumanMessage(content='Multiply 5 and 3', \n",
    "                               id=to_fork.values[\"messages\"][0].id)]},\n",
    ")\n",
    "fork_config"
   ]
  },
  {
   "cell_type": "code",
   "execution_count": 138,
   "metadata": {},
   "outputs": [
    {
     "data": {
      "text/plain": [
       "[HumanMessage(content='Multiply 5 and 3', additional_kwargs={}, response_metadata={}, id='9a0b886d-6ed6-4b47-b02b-8c23cc3bacde')]"
      ]
     },
     "execution_count": 138,
     "metadata": {},
     "output_type": "execute_result"
    }
   ],
   "source": [
    "all_states = [state for state in graph.get_state_history(thread) ]\n",
    "all_states[0].values[\"messages\"]"
   ]
  },
  {
   "cell_type": "code",
   "execution_count": 141,
   "metadata": {},
   "outputs": [
    {
     "data": {
      "text/plain": [
       "StateSnapshot(values={'messages': [HumanMessage(content='Multiply 5 and 3', additional_kwargs={}, response_metadata={}, id='9a0b886d-6ed6-4b47-b02b-8c23cc3bacde'), AIMessage(content='', additional_kwargs={'tool_calls': [{'id': 'call_xh92', 'function': {'arguments': '{\"a\": 5, \"b\": 3}', 'name': 'multiply'}, 'type': 'function'}]}, response_metadata={'token_usage': {'completion_tokens': 19, 'prompt_tokens': 371, 'total_tokens': 390, 'completion_time': 0.025333333, 'prompt_time': 0.023800913, 'queue_time': 0.0021201019999999987, 'total_time': 0.049134246}, 'model_name': 'llama-3.1-8b-instant', 'system_fingerprint': 'fp_f66ccb39ec', 'finish_reason': 'tool_calls', 'logprobs': None}, id='run-c55754c5-788a-4023-a7f0-885cf7113641-0', tool_calls=[{'name': 'multiply', 'args': {'a': 5, 'b': 3}, 'id': 'call_xh92', 'type': 'tool_call'}], usage_metadata={'input_tokens': 371, 'output_tokens': 19, 'total_tokens': 390}), ToolMessage(content='15', name='multiply', id='3010a83e-9e17-4c5e-898a-31429bc347c1', tool_call_id='call_xh92'), AIMessage(content='', additional_kwargs={'tool_calls': [{'id': 'call_4085', 'function': {'arguments': '{\"a\": 15, \"b\": 5}', 'name': 'divide'}, 'type': 'function'}]}, response_metadata={'token_usage': {'completion_tokens': 19, 'prompt_tokens': 401, 'total_tokens': 420, 'completion_time': 0.025333333, 'prompt_time': 0.0258103, 'queue_time': 0.002124329999999997, 'total_time': 0.051143633}, 'model_name': 'llama-3.1-8b-instant', 'system_fingerprint': 'fp_f66ccb39ec', 'finish_reason': 'tool_calls', 'logprobs': None}, id='run-28e374f4-5682-4f3a-929d-7bec7e8e0f89-0', tool_calls=[{'name': 'divide', 'args': {'a': 15, 'b': 5}, 'id': 'call_4085', 'type': 'tool_call'}], usage_metadata={'input_tokens': 401, 'output_tokens': 19, 'total_tokens': 420}), ToolMessage(content='3.0', name='divide', id='869de1be-ee2c-41f3-8cc3-640ba499f41d', tool_call_id='call_4085'), AIMessage(content='', additional_kwargs={'tool_calls': [{'id': 'call_6f7d', 'function': {'arguments': '{\"a\": 15, \"b\": 3}', 'name': 'divide'}, 'type': 'function'}]}, response_metadata={'token_usage': {'completion_tokens': 19, 'prompt_tokens': 433, 'total_tokens': 452, 'completion_time': 0.025333333, 'prompt_time': 0.027930688, 'queue_time': 0.002078277, 'total_time': 0.053264021}, 'model_name': 'llama-3.1-8b-instant', 'system_fingerprint': 'fp_f66ccb39ec', 'finish_reason': 'tool_calls', 'logprobs': None}, id='run-1960ffa0-7f67-482f-a49d-5ed47e57d0cc-0', tool_calls=[{'name': 'divide', 'args': {'a': 15, 'b': 3}, 'id': 'call_6f7d', 'type': 'tool_call'}], usage_metadata={'input_tokens': 433, 'output_tokens': 19, 'total_tokens': 452}), ToolMessage(content='5.0', name='divide', id='26ad0188-e099-4db4-9d50-e4f4f73769d5', tool_call_id='call_6f7d'), AIMessage(content='', additional_kwargs={'tool_calls': [{'id': 'call_sfbg', 'function': {'arguments': '{\"a\": 5, \"b\": 5.0}', 'name': 'add'}, 'type': 'function'}]}, response_metadata={'token_usage': {'completion_tokens': 20, 'prompt_tokens': 465, 'total_tokens': 485, 'completion_time': 0.026666667, 'prompt_time': 0.052683939, 'queue_time': 0.0020817799999999984, 'total_time': 0.079350606}, 'model_name': 'llama-3.1-8b-instant', 'system_fingerprint': 'fp_9cb648b966', 'finish_reason': 'tool_calls', 'logprobs': None}, id='run-e19acea0-eb45-408f-a8a5-64d0848fdded-0', tool_calls=[{'name': 'add', 'args': {'a': 5, 'b': 5.0}, 'id': 'call_sfbg', 'type': 'tool_call'}], usage_metadata={'input_tokens': 465, 'output_tokens': 20, 'total_tokens': 485}), ToolMessage(content='10', name='add', id='2a696b6d-6111-4451-97fa-097a3510337e', tool_call_id='call_sfbg'), AIMessage(content='', additional_kwargs={'tool_calls': [{'id': 'call_pb5y', 'function': {'arguments': '{\"a\": 10, \"b\": 5.0}', 'name': 'add'}, 'type': 'function'}]}, response_metadata={'token_usage': {'completion_tokens': 20, 'prompt_tokens': 496, 'total_tokens': 516, 'completion_time': 0.026666667, 'prompt_time': 0.055921347, 'queue_time': 0.0021016129999999952, 'total_time': 0.082588014}, 'model_name': 'llama-3.1-8b-instant', 'system_fingerprint': 'fp_9cb648b966', 'finish_reason': 'tool_calls', 'logprobs': None}, id='run-4edb4743-3f68-4ebd-9552-15bdfaf5186b-0', tool_calls=[{'name': 'add', 'args': {'a': 10, 'b': 5.0}, 'id': 'call_pb5y', 'type': 'tool_call'}], usage_metadata={'input_tokens': 496, 'output_tokens': 20, 'total_tokens': 516}), ToolMessage(content='15', name='add', id='c4a7d223-c4c7-4a64-b22a-37ba8dc62e93', tool_call_id='call_pb5y'), AIMessage(content='', additional_kwargs={'tool_calls': [{'id': 'call_1qe4', 'function': {'arguments': '{\"a\": 15, \"b\": 5.0}', 'name': 'divide'}, 'type': 'function'}]}, response_metadata={'token_usage': {'completion_tokens': 21, 'prompt_tokens': 527, 'total_tokens': 548, 'completion_time': 0.028, 'prompt_time': 0.059331605, 'queue_time': 0.0020987249999999957, 'total_time': 0.087331605}, 'model_name': 'llama-3.1-8b-instant', 'system_fingerprint': 'fp_9cb648b966', 'finish_reason': 'tool_calls', 'logprobs': None}, id='run-31b91afd-11e2-4803-be0f-c7e5486aac54-0', tool_calls=[{'name': 'divide', 'args': {'a': 15, 'b': 5.0}, 'id': 'call_1qe4', 'type': 'tool_call'}], usage_metadata={'input_tokens': 527, 'output_tokens': 21, 'total_tokens': 548}), ToolMessage(content='3.0', name='divide', id='df0a3c4b-1199-4239-8d02-4596b87a87d4', tool_call_id='call_1qe4'), AIMessage(content='', additional_kwargs={'tool_calls': [{'id': 'call_aks3', 'function': {'arguments': '{\"a\": 15, \"b\": 3.0}', 'name': 'divide'}, 'type': 'function'}]}, response_metadata={'token_usage': {'completion_tokens': 21, 'prompt_tokens': 561, 'total_tokens': 582, 'completion_time': 0.028, 'prompt_time': 0.036327796, 'queue_time': 0.0023463229999999974, 'total_time': 0.064327796}, 'model_name': 'llama-3.1-8b-instant', 'system_fingerprint': 'fp_f66ccb39ec', 'finish_reason': 'tool_calls', 'logprobs': None}, id='run-41ac0801-1846-492b-9276-6c7309a98d19-0', tool_calls=[{'name': 'divide', 'args': {'a': 15, 'b': 3.0}, 'id': 'call_aks3', 'type': 'tool_call'}], usage_metadata={'input_tokens': 561, 'output_tokens': 21, 'total_tokens': 582}), ToolMessage(content='5.0', name='divide', id='43869db2-7c7b-4b29-a1e3-6f54bf7fd601', tool_call_id='call_aks3'), AIMessage(content='', additional_kwargs={'tool_calls': [{'id': 'call_mpbx', 'function': {'arguments': '{\"a\": 5.0, \"b\": 5.0}', 'name': 'add'}, 'type': 'function'}]}, response_metadata={'token_usage': {'completion_tokens': 22, 'prompt_tokens': 595, 'total_tokens': 617, 'completion_time': 0.029333333, 'prompt_time': 0.038353872, 'queue_time': 0.002343602, 'total_time': 0.067687205}, 'model_name': 'llama-3.1-8b-instant', 'system_fingerprint': 'fp_f66ccb39ec', 'finish_reason': 'tool_calls', 'logprobs': None}, id='run-cf271e4a-c944-4be7-8656-12c5986679fb-0', tool_calls=[{'name': 'add', 'args': {'a': 5.0, 'b': 5.0}, 'id': 'call_mpbx', 'type': 'tool_call'}], usage_metadata={'input_tokens': 595, 'output_tokens': 22, 'total_tokens': 617}), ToolMessage(content='10', name='add', id='151263c3-2208-4be3-a79a-fb0bb79caecd', tool_call_id='call_mpbx'), AIMessage(content='', additional_kwargs={'tool_calls': [{'id': 'call_cabe', 'function': {'arguments': '{\"a\": 10, \"b\": 5.0}', 'name': 'add'}, 'type': 'function'}]}, response_metadata={'token_usage': {'completion_tokens': 20, 'prompt_tokens': 628, 'total_tokens': 648, 'completion_time': 0.026666667, 'prompt_time': 0.070927838, 'queue_time': 0.0018017019999999884, 'total_time': 0.097594505}, 'model_name': 'llama-3.1-8b-instant', 'system_fingerprint': 'fp_9cb648b966', 'finish_reason': 'tool_calls', 'logprobs': None}, id='run-d9b2a645-e278-4205-b72f-dc35f8c3db16-0', tool_calls=[{'name': 'add', 'args': {'a': 10, 'b': 5.0}, 'id': 'call_cabe', 'type': 'tool_call'}], usage_metadata={'input_tokens': 628, 'output_tokens': 20, 'total_tokens': 648}), ToolMessage(content='15', name='add', id='c14d4ffb-3eeb-4925-966f-598166022906', tool_call_id='call_cabe'), AIMessage(content='', additional_kwargs={'tool_calls': [{'id': 'call_najc', 'function': {'arguments': '{\"a\": 15, \"b\": 5.0}', 'name': 'divide'}, 'type': 'function'}]}, response_metadata={'token_usage': {'completion_tokens': 21, 'prompt_tokens': 659, 'total_tokens': 680, 'completion_time': 0.028, 'prompt_time': 0.042505596, 'queue_time': 0.002161613999999999, 'total_time': 0.070505596}, 'model_name': 'llama-3.1-8b-instant', 'system_fingerprint': 'fp_f66ccb39ec', 'finish_reason': 'tool_calls', 'logprobs': None}, id='run-78dc61c1-7b2c-492c-b4a5-b34169659a2b-0', tool_calls=[{'name': 'divide', 'args': {'a': 15, 'b': 5.0}, 'id': 'call_najc', 'type': 'tool_call'}], usage_metadata={'input_tokens': 659, 'output_tokens': 21, 'total_tokens': 680}), ToolMessage(content='3.0', name='divide', id='5466b16e-0b32-4739-a94e-f525116d5da0', tool_call_id='call_najc'), AIMessage(content='', additional_kwargs={'tool_calls': [{'id': 'call_wwj3', 'function': {'arguments': '{\"a\": 15, \"b\": 3.0}', 'name': 'divide'}, 'type': 'function'}]}, response_metadata={'token_usage': {'completion_tokens': 21, 'prompt_tokens': 693, 'total_tokens': 714, 'completion_time': 0.028, 'prompt_time': 0.047196008, 'queue_time': 0.017110471000000002, 'total_time': 0.075196008}, 'model_name': 'llama-3.1-8b-instant', 'system_fingerprint': 'fp_f66ccb39ec', 'finish_reason': 'tool_calls', 'logprobs': None}, id='run-f6883af5-1f4a-42e3-8ea9-571ee2622311-0', tool_calls=[{'name': 'divide', 'args': {'a': 15, 'b': 3.0}, 'id': 'call_wwj3', 'type': 'tool_call'}], usage_metadata={'input_tokens': 693, 'output_tokens': 21, 'total_tokens': 714}), ToolMessage(content='5.0', name='divide', id='a424b411-e40b-4c3a-b891-ed5c84d534ee', tool_call_id='call_wwj3'), AIMessage(content='', additional_kwargs={'tool_calls': [{'id': 'call_8c82', 'function': {'arguments': '{\"a\": 5.0, \"b\": 5.0}', 'name': 'add'}, 'type': 'function'}]}, response_metadata={'token_usage': {'completion_tokens': 22, 'prompt_tokens': 727, 'total_tokens': 749, 'completion_time': 0.029333333, 'prompt_time': 0.082124313, 'queue_time': 0.0021934669999999906, 'total_time': 0.111457646}, 'model_name': 'llama-3.1-8b-instant', 'system_fingerprint': 'fp_9cb648b966', 'finish_reason': 'tool_calls', 'logprobs': None}, id='run-29f7f4e4-38ec-4d59-b9b6-e94320430094-0', tool_calls=[{'name': 'add', 'args': {'a': 5.0, 'b': 5.0}, 'id': 'call_8c82', 'type': 'tool_call'}], usage_metadata={'input_tokens': 727, 'output_tokens': 22, 'total_tokens': 749}), ToolMessage(content='10', name='add', id='7b4c7226-892a-42eb-bb36-515bb69841cb', tool_call_id='call_8c82'), AIMessage(content='', additional_kwargs={'tool_calls': [{'id': 'call_89s0', 'function': {'arguments': '{\"a\": 10, \"b\": 5.0}', 'name': 'add'}, 'type': 'function'}]}, response_metadata={'token_usage': {'completion_tokens': 20, 'prompt_tokens': 760, 'total_tokens': 780, 'completion_time': 0.026666667, 'prompt_time': 0.08547567, 'queue_time': 0.001955129, 'total_time': 0.112142337}, 'model_name': 'llama-3.1-8b-instant', 'system_fingerprint': 'fp_9cb648b966', 'finish_reason': 'tool_calls', 'logprobs': None}, id='run-01d03b72-9e32-496d-a37d-f2f67c15a57c-0', tool_calls=[{'name': 'add', 'args': {'a': 10, 'b': 5.0}, 'id': 'call_89s0', 'type': 'tool_call'}], usage_metadata={'input_tokens': 760, 'output_tokens': 20, 'total_tokens': 780}), ToolMessage(content='15', name='add', id='3bd064ce-d9aa-40f6-9f75-afba21e85c71', tool_call_id='call_89s0'), AIMessage(content='', additional_kwargs={'tool_calls': [{'id': 'call_g784', 'function': {'arguments': '{\"a\": 15, \"b\": 5.0}', 'name': 'divide'}, 'type': 'function'}]}, response_metadata={'token_usage': {'completion_tokens': 21, 'prompt_tokens': 791, 'total_tokens': 812, 'completion_time': 0.028, 'prompt_time': 0.089392574, 'queue_time': 0.0019119150000000001, 'total_time': 0.117392574}, 'model_name': 'llama-3.1-8b-instant', 'system_fingerprint': 'fp_9cb648b966', 'finish_reason': 'tool_calls', 'logprobs': None}, id='run-7d668593-8d49-43f0-9fec-468ba1087a0d-0', tool_calls=[{'name': 'divide', 'args': {'a': 15, 'b': 5.0}, 'id': 'call_g784', 'type': 'tool_call'}], usage_metadata={'input_tokens': 791, 'output_tokens': 21, 'total_tokens': 812})]}, next=('tools',), config={'configurable': {'thread_id': '1000', 'checkpoint_ns': '', 'checkpoint_id': '1efa92c0-b681-6e27-801c-8d6019b473fa'}}, metadata={'source': 'loop', 'writes': {'assistant': {'messages': [AIMessage(content='', additional_kwargs={'tool_calls': [{'id': 'call_g784', 'function': {'arguments': '{\"a\": 15, \"b\": 5.0}', 'name': 'divide'}, 'type': 'function'}]}, response_metadata={'token_usage': {'completion_tokens': 21, 'prompt_tokens': 791, 'total_tokens': 812, 'completion_time': 0.028, 'prompt_time': 0.089392574, 'queue_time': 0.0019119150000000001, 'total_time': 0.117392574}, 'model_name': 'llama-3.1-8b-instant', 'system_fingerprint': 'fp_9cb648b966', 'finish_reason': 'tool_calls', 'logprobs': None}, id='run-7d668593-8d49-43f0-9fec-468ba1087a0d-0', tool_calls=[{'name': 'divide', 'args': {'a': 15, 'b': 5.0}, 'id': 'call_g784', 'type': 'tool_call'}], usage_metadata={'input_tokens': 791, 'output_tokens': 21, 'total_tokens': 812})]}}, 'step': 28, 'parents': {}}, created_at='2024-11-22T23:46:50.680272+00:00', parent_config={'configurable': {'thread_id': '1000', 'checkpoint_ns': '', 'checkpoint_id': '1efa92c0-b3a2-61b5-801b-3983fc1044eb'}}, tasks=(PregelTask(id='6b4110d5-a586-a264-d0e1-f085782bed36', name='tools', path=('__pregel_pull', 'tools'), error=None, interrupts=(), state=None, result=None),))"
      ]
     },
     "execution_count": 141,
     "metadata": {},
     "output_type": "execute_result"
    }
   ],
   "source": [
    "graph.get_state({'configurable': {'thread_id': '1000'}})"
   ]
  },
  {
   "cell_type": "code",
   "execution_count": 142,
   "metadata": {},
   "outputs": [
    {
     "name": "stdout",
     "output_type": "stream",
     "text": [
      "================================\u001b[1m Human Message \u001b[0m=================================\n",
      "\n",
      "Multiply 5 and 3\n",
      "==================================\u001b[1m Ai Message \u001b[0m==================================\n",
      "Tool Calls:\n",
      "  multiply (call_n464)\n",
      " Call ID: call_n464\n",
      "  Args:\n",
      "    a: 5\n",
      "    b: 3\n",
      "=================================\u001b[1m Tool Message \u001b[0m=================================\n",
      "Name: multiply\n",
      "\n",
      "15\n",
      "==================================\u001b[1m Ai Message \u001b[0m==================================\n",
      "Tool Calls:\n",
      "  divide (call_ddsh)\n",
      " Call ID: call_ddsh\n",
      "  Args:\n",
      "    a: 15\n",
      "    b: 5\n",
      "=================================\u001b[1m Tool Message \u001b[0m=================================\n",
      "Name: divide\n",
      "\n",
      "3.0\n",
      "==================================\u001b[1m Ai Message \u001b[0m==================================\n",
      "Tool Calls:\n",
      "  divide (call_jmjv)\n",
      " Call ID: call_jmjv\n",
      "  Args:\n",
      "    a: 15\n",
      "    b: 3\n",
      "=================================\u001b[1m Tool Message \u001b[0m=================================\n",
      "Name: divide\n",
      "\n",
      "5.0\n",
      "==================================\u001b[1m Ai Message \u001b[0m==================================\n",
      "Tool Calls:\n",
      "  add (call_aa11)\n",
      " Call ID: call_aa11\n",
      "  Args:\n",
      "    a: 5\n",
      "    b: 5.0\n",
      "=================================\u001b[1m Tool Message \u001b[0m=================================\n",
      "Name: add\n",
      "\n",
      "10\n",
      "==================================\u001b[1m Ai Message \u001b[0m==================================\n",
      "Tool Calls:\n",
      "  add (call_xm37)\n",
      " Call ID: call_xm37\n",
      "  Args:\n",
      "    a: 10\n",
      "    b: 5.0\n",
      "=================================\u001b[1m Tool Message \u001b[0m=================================\n",
      "Name: add\n",
      "\n",
      "15\n",
      "==================================\u001b[1m Ai Message \u001b[0m==================================\n",
      "Tool Calls:\n",
      "  divide (call_g4h3)\n",
      " Call ID: call_g4h3\n",
      "  Args:\n",
      "    a: 15\n",
      "    b: 5.0\n",
      "=================================\u001b[1m Tool Message \u001b[0m=================================\n",
      "Name: divide\n",
      "\n",
      "3.0\n",
      "==================================\u001b[1m Ai Message \u001b[0m==================================\n",
      "Tool Calls:\n",
      "  divide (call_sz9s)\n",
      " Call ID: call_sz9s\n",
      "  Args:\n",
      "    a: 15\n",
      "    b: 3.0\n",
      "=================================\u001b[1m Tool Message \u001b[0m=================================\n",
      "Name: divide\n",
      "\n",
      "5.0\n",
      "==================================\u001b[1m Ai Message \u001b[0m==================================\n",
      "Tool Calls:\n",
      "  add (call_5wxt)\n",
      " Call ID: call_5wxt\n",
      "  Args:\n",
      "    a: 5.0\n",
      "    b: 5.0\n",
      "=================================\u001b[1m Tool Message \u001b[0m=================================\n",
      "Name: add\n",
      "\n",
      "10\n",
      "==================================\u001b[1m Ai Message \u001b[0m==================================\n",
      "Tool Calls:\n",
      "  add (call_96h3)\n",
      " Call ID: call_96h3\n",
      "  Args:\n",
      "    a: 10\n",
      "    b: 5.0\n",
      "=================================\u001b[1m Tool Message \u001b[0m=================================\n",
      "Name: add\n",
      "\n",
      "15\n",
      "==================================\u001b[1m Ai Message \u001b[0m==================================\n",
      "Tool Calls:\n",
      "  divide (call_fta9)\n",
      " Call ID: call_fta9\n",
      "  Args:\n",
      "    a: 15\n",
      "    b: 5.0\n",
      "=================================\u001b[1m Tool Message \u001b[0m=================================\n",
      "Name: divide\n",
      "\n",
      "3.0\n",
      "==================================\u001b[1m Ai Message \u001b[0m==================================\n",
      "Tool Calls:\n",
      "  divide (call_4v7g)\n",
      " Call ID: call_4v7g\n",
      "  Args:\n",
      "    a: 15\n",
      "    b: 3.0\n",
      "=================================\u001b[1m Tool Message \u001b[0m=================================\n",
      "Name: divide\n",
      "\n",
      "5.0\n",
      "==================================\u001b[1m Ai Message \u001b[0m==================================\n",
      "Tool Calls:\n",
      "  add (call_ghqc)\n",
      " Call ID: call_ghqc\n",
      "  Args:\n",
      "    a: 5.0\n",
      "    b: 5.0\n",
      "=================================\u001b[1m Tool Message \u001b[0m=================================\n",
      "Name: add\n",
      "\n",
      "10\n",
      "==================================\u001b[1m Ai Message \u001b[0m==================================\n",
      "Tool Calls:\n",
      "  add (call_k3ks)\n",
      " Call ID: call_k3ks\n",
      "  Args:\n",
      "    a: 10\n",
      "    b: 5.0\n",
      "=================================\u001b[1m Tool Message \u001b[0m=================================\n",
      "Name: add\n",
      "\n",
      "15\n",
      "==================================\u001b[1m Ai Message \u001b[0m==================================\n",
      "Tool Calls:\n",
      "  divide (call_4hh1)\n",
      " Call ID: call_4hh1\n",
      "  Args:\n",
      "    a: 15\n",
      "    b: 5.0\n"
     ]
    },
    {
     "ename": "GraphRecursionError",
     "evalue": "Recursion limit of 25 reached without hitting a stop condition. You can increase the limit by setting the `recursion_limit` config key.\nFor troubleshooting, visit: https://python.langchain.com/docs/troubleshooting/errors/GRAPH_RECURSION_LIMIT",
     "output_type": "error",
     "traceback": [
      "\u001b[1;31m---------------------------------------------------------------------------\u001b[0m",
      "\u001b[1;31mGraphRecursionError\u001b[0m                       Traceback (most recent call last)",
      "Cell \u001b[1;32mIn[142], line 1\u001b[0m\n\u001b[1;32m----> 1\u001b[0m \u001b[38;5;28;43;01mfor\u001b[39;49;00m\u001b[43m \u001b[49m\u001b[43mevent\u001b[49m\u001b[43m \u001b[49m\u001b[38;5;129;43;01min\u001b[39;49;00m\u001b[43m \u001b[49m\u001b[43mgraph\u001b[49m\u001b[38;5;241;43m.\u001b[39;49m\u001b[43mstream\u001b[49m\u001b[43m(\u001b[49m\u001b[38;5;28;43;01mNone\u001b[39;49;00m\u001b[43m,\u001b[49m\u001b[43m \u001b[49m\u001b[43mfork_config\u001b[49m\u001b[43m,\u001b[49m\u001b[43m \u001b[49m\u001b[43mstream_mode\u001b[49m\u001b[38;5;241;43m=\u001b[39;49m\u001b[38;5;124;43m\"\u001b[39;49m\u001b[38;5;124;43mvalues\u001b[39;49m\u001b[38;5;124;43m\"\u001b[39;49m\u001b[43m)\u001b[49m\u001b[43m:\u001b[49m\n\u001b[0;32m      2\u001b[0m \u001b[43m    \u001b[49m\u001b[43mevent\u001b[49m\u001b[43m[\u001b[49m\u001b[38;5;124;43m'\u001b[39;49m\u001b[38;5;124;43mmessages\u001b[39;49m\u001b[38;5;124;43m'\u001b[39;49m\u001b[43m]\u001b[49m\u001b[43m[\u001b[49m\u001b[38;5;241;43m-\u001b[39;49m\u001b[38;5;241;43m1\u001b[39;49m\u001b[43m]\u001b[49m\u001b[38;5;241;43m.\u001b[39;49m\u001b[43mpretty_print\u001b[49m\u001b[43m(\u001b[49m\u001b[43m)\u001b[49m\n",
      "File \u001b[1;32md:\\agent_lab\\.venv\\Lib\\site-packages\\langgraph\\pregel\\__init__.py:1348\u001b[0m, in \u001b[0;36mPregel.stream\u001b[1;34m(self, input, config, stream_mode, output_keys, interrupt_before, interrupt_after, debug, subgraphs)\u001b[0m\n\u001b[0;32m   1339\u001b[0m \u001b[38;5;28;01mif\u001b[39;00m loop\u001b[38;5;241m.\u001b[39mstatus \u001b[38;5;241m==\u001b[39m \u001b[38;5;124m\"\u001b[39m\u001b[38;5;124mout_of_steps\u001b[39m\u001b[38;5;124m\"\u001b[39m:\n\u001b[0;32m   1340\u001b[0m     msg \u001b[38;5;241m=\u001b[39m create_error_message(\n\u001b[0;32m   1341\u001b[0m         message\u001b[38;5;241m=\u001b[39m(\n\u001b[0;32m   1342\u001b[0m             \u001b[38;5;124mf\u001b[39m\u001b[38;5;124m\"\u001b[39m\u001b[38;5;124mRecursion limit of \u001b[39m\u001b[38;5;132;01m{\u001b[39;00mconfig[\u001b[38;5;124m'\u001b[39m\u001b[38;5;124mrecursion_limit\u001b[39m\u001b[38;5;124m'\u001b[39m]\u001b[38;5;132;01m}\u001b[39;00m\u001b[38;5;124m reached \u001b[39m\u001b[38;5;124m\"\u001b[39m\n\u001b[1;32m   (...)\u001b[0m\n\u001b[0;32m   1346\u001b[0m         error_code\u001b[38;5;241m=\u001b[39mErrorCode\u001b[38;5;241m.\u001b[39mGRAPH_RECURSION_LIMIT,\n\u001b[0;32m   1347\u001b[0m     )\n\u001b[1;32m-> 1348\u001b[0m     \u001b[38;5;28;01mraise\u001b[39;00m GraphRecursionError(msg)\n\u001b[0;32m   1349\u001b[0m \u001b[38;5;66;03m# set final channel values as run output\u001b[39;00m\n\u001b[0;32m   1350\u001b[0m run_manager\u001b[38;5;241m.\u001b[39mon_chain_end(loop\u001b[38;5;241m.\u001b[39moutput)\n",
      "\u001b[1;31mGraphRecursionError\u001b[0m: Recursion limit of 25 reached without hitting a stop condition. You can increase the limit by setting the `recursion_limit` config key.\nFor troubleshooting, visit: https://python.langchain.com/docs/troubleshooting/errors/GRAPH_RECURSION_LIMIT"
     ]
    }
   ],
   "source": [
    "for event in graph.stream(None, fork_config, stream_mode=\"values\"):\n",
    "    event['messages'][-1].pretty_print()"
   ]
  },
  {
   "cell_type": "markdown",
   "metadata": {},
   "source": [
    "# Parallel node execution\n",
    "- https://langchain-ai.github.io/langgraph/how-tos/branching/#how-to-create-branches-for-parallel-node-execution"
   ]
  },
  {
   "cell_type": "code",
   "execution_count": 143,
   "metadata": {},
   "outputs": [],
   "source": [
    "# LLM\n",
    "from langchain_groq import ChatGroq\n",
    "model = ChatGroq(temperature=0, model_name= \"llama-3.1-8b-instant\")"
   ]
  },
  {
   "cell_type": "code",
   "execution_count": 144,
   "metadata": {},
   "outputs": [
    {
     "data": {
      "image/png": "[encoded data removed]",
      "text/plain": [
       "<IPython.core.display.Image object>"
      ]
     },
     "metadata": {},
     "output_type": "display_data"
    }
   ],
   "source": [
    "from IPython.display import Image, display\n",
    "\n",
    "from typing import Any\n",
    "from typing_extensions import TypedDict\n",
    "\n",
    "from langgraph.graph import StateGraph, START, END\n",
    "\n",
    "class State(TypedDict):\n",
    "    # The operator.add reducer fn makes this append-only\n",
    "    state: str\n",
    "\n",
    "class ReturnNodeValue:\n",
    "    def __init__(self, node_secret: str):\n",
    "        self._value = node_secret\n",
    "\n",
    "    def __call__(self, state: State) -> Any:\n",
    "        print(f\"Adding {self._value} to {state['state']}\")\n",
    "        return {\"state\": [self._value]}\n",
    "    \n",
    "builder = StateGraph(State)\n",
    "\n",
    "# Initialize each node with node_secret \n",
    "builder.add_node(\"a\", ReturnNodeValue(\"I'm A\"))\n",
    "builder.add_node(\"b\", ReturnNodeValue(\"I'm B\"))\n",
    "builder.add_node(\"c\", ReturnNodeValue(\"I'm C\"))\n",
    "builder.add_node(\"d\", ReturnNodeValue(\"I'm D\"))\n",
    "\n",
    "# Flow\n",
    "builder.add_edge(START, \"a\")\n",
    "builder.add_edge(\"a\", \"b\")\n",
    "builder.add_edge(\"a\", \"c\")\n",
    "builder.add_edge(\"b\", \"d\")\n",
    "builder.add_edge(\"c\", \"d\")\n",
    "builder.add_edge(\"d\", END)\n",
    "graph = builder.compile()\n",
    "\n",
    "display(Image(graph.get_graph().draw_mermaid_png()))"
   ]
  },
  {
   "cell_type": "code",
   "execution_count": 151,
   "metadata": {},
   "outputs": [
    {
     "name": "stdout",
     "output_type": "stream",
     "text": [
      "Adding I'm A to []\n",
      "Adding I'm B to [\"I'm A\"]\n",
      "Adding I'm C to [\"I'm A\"]\n",
      "병렬처리 error occurred: At key 'state': Can receive only one value per step. Use an Annotated key to handle multiple values.\n",
      "For troubleshooting, visit: https://python.langchain.com/docs/troubleshooting/errors/INVALID_CONCURRENT_GRAPH_UPDATE\n"
     ]
    }
   ],
   "source": [
    "from langgraph.errors import InvalidUpdateError\n",
    "try:\n",
    "    graph.invoke({\"state\": []})\n",
    "except InvalidUpdateError as e:\n",
    "    print(f\"병렬처리 error occurred: {e}\")"
   ]
  },
  {
   "cell_type": "code",
   "execution_count": 155,
   "metadata": {},
   "outputs": [
    {
     "data": {
      "image/png": "[encoded data removed]",
      "text/plain": [
       "<IPython.core.display.Image object>"
      ]
     },
     "metadata": {},
     "output_type": "display_data"
    }
   ],
   "source": [
    "import operator\n",
    "from typing import Annotated\n",
    "\n",
    "class State(TypedDict):  # 복수의 결과를 리스트에 담을 수 있는 형태로 변경\n",
    "    # The operator.add reducer fn makes this append-only\n",
    "    state: Annotated[list, operator.add]\n",
    "\n",
    "class ReturnNodeValue:\n",
    "    def __init__(self, node_secret: str):\n",
    "        self._value = node_secret\n",
    "\n",
    "    def __call__(self, state: State) -> Any:\n",
    "        print(f\"Adding {self._value} to {state['state']}\")\n",
    "        return {\"state\": [self._value]}\n",
    "    \n",
    "builder = StateGraph(State)\n",
    "\n",
    "# Initialize each node with node_secret \n",
    "builder.add_node(\"a\", ReturnNodeValue(\"I'm A\"))\n",
    "builder.add_node(\"b\", ReturnNodeValue(\"I'm B\"))\n",
    "builder.add_node(\"c\", ReturnNodeValue(\"I'm C\"))\n",
    "builder.add_node(\"d\", ReturnNodeValue(\"I'm D\"))\n",
    "\n",
    "# Flow\n",
    "builder.add_edge(START, \"a\")\n",
    "builder.add_edge(\"a\", \"b\")\n",
    "builder.add_edge(\"a\", \"c\")\n",
    "builder.add_edge(\"b\", \"d\")\n",
    "builder.add_edge(\"c\", \"d\")\n",
    "builder.add_edge(\"d\", END)\n",
    "graph = builder.compile()\n",
    "\n",
    "display(Image(graph.get_graph().draw_mermaid_png()))"
   ]
  },
  {
   "cell_type": "code",
   "execution_count": 156,
   "metadata": {},
   "outputs": [
    {
     "name": "stdout",
     "output_type": "stream",
     "text": [
      "Adding I'm A to []\n",
      "Adding I'm B to [\"I'm A\"]\n",
      "Adding I'm C to [\"I'm A\"]\n",
      "Adding I'm D to [\"I'm A\", \"I'm B\", \"I'm C\"]\n"
     ]
    }
   ],
   "source": [
    "try:\n",
    "    graph.invoke({\"state\": []})\n",
    "except InvalidUpdateError as e:\n",
    "    print(f\"병렬처리 error occurred: {e}\")"
   ]
  },
  {
   "cell_type": "markdown",
   "metadata": {},
   "source": [
    "## Real Case (tavily and wiki)"
   ]
  },
  {
   "cell_type": "code",
   "execution_count": 159,
   "metadata": {},
   "outputs": [],
   "source": [
    "class State(TypedDict):\n",
    "    question: str\n",
    "    answer: str\n",
    "    context: Annotated[list, operator.add]"
   ]
  },
  {
   "cell_type": "code",
   "execution_count": null,
   "metadata": {},
   "outputs": [
    {
     "data": {
      "image/png": "[encoded data removed]",
      "text/plain": [
       "<IPython.core.display.Image object>"
      ]
     },
     "metadata": {},
     "output_type": "display_data"
    }
   ],
   "source": [
    "from langchain_core.messages import HumanMessage, SystemMessage\n",
    "from langchain_community.document_loaders import WikipediaLoader\n",
    "from langchain_community.tools import TavilySearchResults\n",
    "\n",
    "def search_web(state):\n",
    "    \n",
    "    \"\"\" Retrieve docs from web search \"\"\"\n",
    "\n",
    "    # Search\n",
    "    tavily_search = TavilySearchResults(max_results=3)\n",
    "    search_docs = tavily_search.invoke(state['question'])\n",
    "\n",
    "     # Format\n",
    "    formatted_search_docs = \"\\n\\n---\\n\\n\".join(\n",
    "        [\n",
    "            f'<Document href=\"{doc[\"url\"]}\"/>\\n{doc[\"content\"]}\\n</Document>'\n",
    "            for doc in search_docs\n",
    "        ]\n",
    "    )\n",
    "\n",
    "    return {\"context\": [formatted_search_docs]} \n",
    "\n",
    "def search_wikipedia(state):\n",
    "    \n",
    "    \"\"\" Retrieve docs from wikipedia \"\"\"\n",
    "\n",
    "    # Search\n",
    "    search_docs = WikipediaLoader(query=state['question'], \n",
    "                                  load_max_docs=2).load()\n",
    "\n",
    "     # Format\n",
    "    formatted_search_docs = \"\\n\\n---\\n\\n\".join(\n",
    "        [\n",
    "            f'<Document source=\"{doc.metadata[\"source\"]}\" page=\"{doc.metadata.get(\"page\", \"\")}\"/>\\n{doc.page_content}\\n</Document>'\n",
    "            for doc in search_docs\n",
    "        ]\n",
    "    )\n",
    "\n",
    "    return {\"context\": [formatted_search_docs]} \n",
    "\n",
    "def generate_answer(state):\n",
    "    \n",
    "    \"\"\" Node to answer a question \"\"\"\n",
    "\n",
    "    # Get state\n",
    "    context = state[\"context\"]\n",
    "    question = state[\"question\"]\n",
    "\n",
    "    # Template\n",
    "    answer_template = \"\"\"Answer the question {question} using this context: {context}\"\"\"\n",
    "    answer_instructions = answer_template.format(question=question, \n",
    "                                                       context=context)    \n",
    "    \n",
    "    # Answer\n",
    "    answer = llm.invoke([SystemMessage(content=answer_instructions)]+[HumanMessage(content=f\"Answer the question.\")])\n",
    "      \n",
    "    # Append it to state\n",
    "    return {\"answer\": answer}\n",
    "\n",
    "# Add nodes\n",
    "builder = StateGraph(State)\n",
    "\n",
    "# Initialize each node with node_secret \n",
    "builder.add_node(\"search_web\",search_web)\n",
    "builder.add_node(\"search_wikipedia\", search_wikipedia)\n",
    "builder.add_node(\"generate_answer\", generate_answer)\n",
    "\n",
    "# Flow\n",
    "builder.add_edge(START, \"search_wikipedia\")\n",
    "builder.add_edge(START, \"search_web\")\n",
    "builder.add_edge(\"search_wikipedia\", \"generate_answer\")\n",
    "builder.add_edge(\"search_web\", \"generate_answer\")\n",
    "builder.add_edge(\"generate_answer\", END)\n",
    "graph = builder.compile()\n",
    "\n",
    "display(Image(graph.get_graph().draw_mermaid_png()))"
   ]
  },
  {
   "cell_type": "code",
   "execution_count": 168,
   "metadata": {},
   "outputs": [
    {
     "data": {
      "text/plain": [
       "\"Nvidia's Q2 2024 earnings exceeded consensus expectations. The company reported $0.81 adjusted earnings per share, or $19.3 billion net income, in the three-month period ending last month, topping average analyst projections of $0.75 EPS, or $17.4 billion net income, according to FactSet. The semiconductor chip architect generated $35.1 billion in sales, crushing estimates of $33.2 billion.\""
      ]
     },
     "execution_count": 168,
     "metadata": {},
     "output_type": "execute_result"
    }
   ],
   "source": [
    "result = graph.invoke({\"question\": \"How were Nvidia's Q2 2024 earnings\"})\n",
    "result['answer'].content"
   ]
  },
  {
   "cell_type": "code",
   "execution_count": 169,
   "metadata": {},
   "outputs": [
    {
     "data": {
      "text/plain": [
       "{'question': \"How were Nvidia's Q2 2024 earnings\",\n",
       " 'answer': AIMessage(content=\"Nvidia's Q2 2024 earnings exceeded consensus expectations. The company reported $0.81 adjusted earnings per share, or $19.3 billion net income, in the three-month period ending last month, topping average analyst projections of $0.75 EPS, or $17.4 billion net income, according to FactSet. The semiconductor chip architect generated $35.1 billion in sales, crushing estimates of $33.2 billion.\", additional_kwargs={}, response_metadata={'token_usage': {'completion_tokens': 91, 'prompt_tokens': 2435, 'total_tokens': 2526, 'completion_time': 0.121333333, 'prompt_time': 0.158673813, 'queue_time': 0.0025635310000000078, 'total_time': 0.280007146}, 'model_name': 'llama-3.1-8b-instant', 'system_fingerprint': 'fp_f66ccb39ec', 'finish_reason': 'stop', 'logprobs': None}, id='run-5f26838f-ec3b-47c2-84ba-57b7b4b0de96-0', usage_metadata={'input_tokens': 2435, 'output_tokens': 91, 'total_tokens': 2526}),\n",
       " 'context': ['<Document href=\"https://www.forbes.com/sites/dereksaul/2024/11/20/nvidia-earnings-another-record-quarter-for-ai-leader/\"/>\\nNvidia’s hotly anticipated earnings report exceeded consensus expectations, as the world’s biggest company continued its streak of delivering explosive financial growth as the clearest beneficiary of the artificial intelligence gold rush, though its stock still slipped following the report. Nvidia reported $0.81 adjusted earnings per share, or $19.3 billion net income, in the three-month period ending last month, topping average analyst projections of $0.75 EPS, or $17.4 billion net income, according to FactSet. The semiconductor chip architect generated $35.1 billion in sales, crushing estimates of $33.2 billion. The stock trimmed losses to less than 2% following the start of the company’s 5 p.m. EST earnings call as Collette Kress, Nvidia’s chief financial officer, touted “staggering” demand for the company’s newest graphics processing unit platform, Blackwell. That was the market capitalization loss implied by Nvidia stock’s initial post-earnings drop.\\n</Document>\\n\\n---\\n\\n<Document href=\"https://www.fool.com/investing/2024/11/18/nvidia-stock-has-done-this-after-its-last-four-qua/\"/>\\nBest AI Stocks Best Growth Stocks How to Invest in Stocks Best AI Stocks Best Growth Stocks How to Invest in Stocks When Nvidia released its fiscal 2024 Q3 results a year ago, the stock fell thanks to concerns about the company\\'s business in China on account of restrictions by the U.S. government on exports to the country. However, the bigger picture is that Nvidia stock has tripled in the past year after taking into account the immediate fluctuations in price following its quarterly results. Get stock recommendations, portfolio guidance, and more from The Motley Fool\\'s premium services.\\n</Document>\\n\\n---\\n\\n<Document href=\"https://www.cnbc.com/2023/08/23/nvidia-nvda-earnings-report-q2-2024.html\"/>\\nBest Credit Cards Best Credit Cards for Small Business Best Small Business Loans Best Personal Loans for Bad Credit Nvidia\\'s performance was driven by its data center business, which includes the A100 and H100 AI chips that are needed to build and run artificial intelligence applications like ChatGPT. Nvidia reported $10.32 billion in data center revenue, which was up 171% year over year. Nvidia\\'s performance was driven by its data center business, which includes AI chips, as cloud service providers and large consumer internet companies like Alphabet, Amazon and Meta snapped up next-generation processors. The gaming division, which used to be Nvidia\\'s core business, saw revenue increase 22% from a year earlier to $2.49 billion, topping the $2.38 billion average estimate.\\n</Document>',\n",
       "  '<Document source=\"https://en.wikipedia.org/wiki/Nvidia\" page=\"\"/>\\nNvidia Corporation (, en-VID-ee-ə) is an American multinational corporation and technology company headquartered in Santa Clara, California, and incorporated in Delaware. It is a software and fabless company which designs and supplies graphics processing units (GPUs), application programming interfaces (APIs) for data science and high-performance computing, as well as system on a chip units (SoCs) for the mobile computing and automotive market. Nvidia is also a dominant supplier of artificial intelligence (AI) hardware and software.\\nNvidia\\'s professional line of GPUs are used for edge-to-cloud computing and in supercomputers and workstations for applications in fields such as architecture, engineering and construction, media and entertainment, automotive, scientific research, and manufacturing design. Its GeForce line of GPUs are aimed at the consumer market and are used in applications such as video editing, 3D rendering, and PC gaming. With a market share of 80.2% in the second quarter of 2023, Nvidia leads the market for discrete desktop GPUs by a wide margin. The company expanded its presence in the gaming industry with the introduction of the Shield Portable (a handheld game console), Shield Tablet (a gaming tablet), and Shield TV (a digital media player), as well as its cloud gaming service GeForce Now.\\nIn addition to GPU design and outsourcing manufacturing, Nvidia provides the CUDA software platform and API that allows the creation of massively parallel programs which utilize GPUs. They are deployed in supercomputing sites around the world. In the late 2000s, Nvidia had moved into the mobile computing market, where it produces Tegra mobile processors for smartphones and tablets as well as vehicle navigation and entertainment systems. Its competitors include AMD, Intel, Qualcomm, and AI accelerator companies such as Cerebras and Graphcore. It also makes AI-powered software for audio and video processing (e.g., Nvidia Maxine).\\nNvidia\\'s offer to acquire Arm from SoftBank in September 2020 failed to materialize following extended regulatory scrutiny, leading to the termination of the deal in February 2022 in what would have been the largest semiconductor acquisition. In 2023, Nvidia became the seventh public U.S. company to be valued at over $1 trillion, and the company\\'s valuation has skyrocketed since then as the company became a leader in data center chips with AI capabilities in the midst of the AI boom. In June 2024, for one day, Nvidia overtook Microsoft as the world\\'s most valuable publicly traded company, with a market capitalization of over $3.3 trillion.\\n\\n\\n== History ==\\n\\n\\n=== Founding ===\\n\\nNvidia was founded on April 5, 1993, by Jensen Huang (CEO as of 2024), a Taiwanese-American electrical engineer who was previously the director of CoreWare at LSI Logic and a microprocessor designer at AMD; Chris Malachowsky, an engineer who worked at Sun Microsystems; and Curtis Priem, who was previously a senior staff engineer and graphics chip designer at IBM and Sun Microsystems. The three men agreed to start the company in a meeting at a Denny\\'s roadside diner on Berryessa Road in East San Jose.\\nAt the time, Malachowsky and Priem were frustrated with Sun\\'s management and were looking to leave, but Huang was on \"firmer ground\", in that he was already running his own division at LSI. The three co-founders discussed a vision of the future which was so compelling that Huang decided to leave LSI and become the chief executive officer of their new startup.\\nIn 1993, the three co-founders envisioned that the ideal trajectory for the forthcoming wave of computing would be in the realm of accelerated computing, specifically in graphics-based processing. This path was chosen due to its unique ability to tackle challenges that eluded general-purpose computing methods. As Huang later explained: \"We also observed that video games were simultaneously one of the most computationally challenging problems and would have incredibly high sale\\n</Document>\\n\\n---\\n\\n<Document source=\"https://en.wikipedia.org/wiki/TSMC\" page=\"\"/>\\nTaiwan Semiconductor Manufacturing Company Limited (TSMC or Taiwan Semiconductor) is a Taiwanese multinational semiconductor contract manufacturing and design company. It is the world\\'s most valuable semiconductor company, the world\\'s largest dedicated independent (\"pure-play\") semiconductor foundry, and its country\\'s largest company, with headquarters and main operations located in the Hsinchu Science Park in Hsinchu, Taiwan. Although the central government of Taiwan is the largest individual shareholder, the majority of TSMC is owned by foreign investors. In 2023, the company was ranked 44th in the Forbes Global 2000. Taiwan\\'s exports of integrated circuits amounted to $184 billion in 2022, accounted for nearly 25 percent of Taiwan\\'s GDP. TSMC constitutes about 30 percent of the Taiwan Stock Exchange\\'s main index.\\nTSMC was founded in Taiwan in 1987 by Morris Chang as the world\\'s first dedicated semiconductor foundry. It has long been the leading company in its field. When Chang retired in 2018, after 31 years of TSMC leadership, Mark Liu became chairman and C. C. Wei became Chief Executive. It has been listed on the Taiwan Stock Exchange since 1993; in 1997 it became the first Taiwanese company to be listed on the New York Stock Exchange. Since 1994, TSMC has had a compound annual growth rate (CAGR) of 17.4% in revenue and a CAGR of 16.1% in earnings.\\nMost fabless semiconductor companies such as AMD, Apple, ARM, Broadcom, Marvell, MediaTek, Qualcomm, and Nvidia are customers of TSMC, as are emerging companies such as Allwinner Technology, HiSilicon, Spectra7, and UNISOC. Programmable logic device companies Xilinx and previously Altera also make or made use of TSMC\\'s foundry services. Some integrated device manufacturers that have their own fabrication facilities, such as Intel, NXP, STMicroelectronics, and Texas Instruments, outsource some of their production to TSMC. At least one semiconductor company, LSI, re-sells TSMC wafers through its ASIC design services and design IP portfolio.\\nTSMC has a global capacity of about thirteen million 300 mm-equivalent wafers per year as of 2020 and produces chips for customers with process nodes from 2 microns to 3 nanometres. TSMC was the first foundry to market 7-nanometre and 5-nanometre (used by the 2020 Apple A14 and M1 SoCs, the MediaTek Dimensity 8100, and AMD Ryzen 7000 series processors) production capabilities, and the first to commercialize ASML\\'s extreme ultraviolet (EUV) lithography technology in high volume.\\n\\n\\n== History ==\\nIn 1986, Li Kwoh-ting, representing the Executive Yuan, invited Morris Chang to serve as the president of the Industrial Technology Research Institute (ITRI) and offered him a blank check to build Taiwan\\'s chip industry. At that time, the Taiwanese government wanted to develop its semiconductor industry, but its high investment and high risk nature made it difficult to find investors. Texas Instruments and Intel turned down Chang. Only Philips was willing to sign a joint venture contract with Taiwan to put up $58 million, transfer its production technology, and license intellectual property in exchange for a 27.5 percent stake in TSMC. Alongside generous tax benefits, the Taiwanese government, through the National Development Fund, Executive Yuan, provided another 48 percent of the startup capital for TSMC, and the rest of the capital was raised from several of the island\\'s wealthiest families, who owned firms that specialized in plastics, textiles, and chemicals. These wealthy Taiwanese were directly \"asked\" by the government to invest. \"What generally happened was that one of the ministers in the government would call a businessman in Taiwan,\" Chang explained, \"to get him to invest.\" From day one, TSMC was not really a private business: it was a project of the Taiwanese state. Its first CEO was James E. Dykes, who left after a year and Morris Chang became the CEO.\\nSince then, the company has continued to grow, albeit subject to the cycles of demand. In\\n</Document>']}"
      ]
     },
     "execution_count": 169,
     "metadata": {},
     "output_type": "execute_result"
    }
   ],
   "source": [
    "result"
   ]
  },
  {
   "cell_type": "markdown",
   "metadata": {},
   "source": [
    "# Sub-Graph\n",
    "```\n",
    "Sub-graphs allow you to create and manage different states in different parts of your graph.\n",
    "\n",
    "This is particularly useful for multi-agent systems, with teams of agents that each have their own state.\n",
    "\n",
    "Let's consider a toy example:\n",
    "\n",
    "    I have a system that accepts logs\n",
    "    It performs two separate sub-tasks by different agents (summarize logs, find failure modes)\n",
    "    I want to perform these two operations in two different sub-graphs.\n",
    "\n",
    "The most critical thing to understand is how the graphs communicate!\n",
    "\n",
    "In short, communication is done with over-lapping keys:\n",
    "\n",
    "    The sub-graphs can access docs from the parent\n",
    "    The parent can access summary/failure_report from the sub-graphs\n",
    "\n",
    "```"
   ]
  },
  {
   "cell_type": "code",
   "execution_count": 170,
   "metadata": {},
   "outputs": [],
   "source": [
    "# LLM\n",
    "from langchain_groq import ChatGroq\n",
    "llm = ChatGroq(temperature=0, model_name= \"llama-3.1-8b-instant\")"
   ]
  },
  {
   "cell_type": "code",
   "execution_count": 171,
   "metadata": {},
   "outputs": [],
   "source": [
    "from operator import add\n",
    "from typing_extensions import TypedDict\n",
    "from typing import List, Optional, Annotated\n",
    "\n",
    "# The structure of the logs\n",
    "class Log(TypedDict):\n",
    "    id: str\n",
    "    question: str\n",
    "    docs: Optional[List]\n",
    "    answer: str\n",
    "    grade: Optional[int]\n",
    "    grader: Optional[str]\n",
    "    feedback: Optional[str]"
   ]
  },
  {
   "cell_type": "markdown",
   "metadata": {},
   "source": [
    "## Here is the failure analysis sub-graph, which uses FailureAnalysisState."
   ]
  },
  {
   "cell_type": "code",
   "execution_count": 172,
   "metadata": {},
   "outputs": [
    {
     "name": "stderr",
     "output_type": "stream",
     "text": [
      "C:\\Users\\jongb\\AppData\\Local\\Temp\\ipykernel_20828\\1870112535.py:28: LangGraphDeprecationWarning: Initializing StateGraph without state_schema is deprecated. Please pass in an explicit state_schema instead of just an input and output schema.\n",
      "  fa_builder = StateGraph(input=FailureAnalysisState,output=FailureAnalysisOutputState)\n"
     ]
    },
    {
     "data": {
      "image/png": "[encoded data removed]",
      "text/plain": [
       "<IPython.core.display.Image object>"
      ]
     },
     "metadata": {},
     "output_type": "display_data"
    }
   ],
   "source": [
    "from IPython.display import Image, display\n",
    "from langgraph.graph import StateGraph, START, END\n",
    "\n",
    "# Failure Analysis Sub-graph\n",
    "class FailureAnalysisState(TypedDict):\n",
    "    cleaned_logs: List[Log]\n",
    "    failures: List[Log]\n",
    "    fa_summary: str\n",
    "    processed_logs: List[str]\n",
    "\n",
    "class FailureAnalysisOutputState(TypedDict):\n",
    "    fa_summary: str\n",
    "    processed_logs: List[str]\n",
    "\n",
    "def get_failures(state):\n",
    "    \"\"\" Get logs that contain a failure \"\"\"\n",
    "    cleaned_logs = state[\"cleaned_logs\"]\n",
    "    failures = [log for log in cleaned_logs if \"grade\" in log]\n",
    "    return {\"failures\": failures}\n",
    "\n",
    "def generate_summary(state):\n",
    "    \"\"\" Generate summary of failures \"\"\"\n",
    "    failures = state[\"failures\"]\n",
    "    # Add fxn: fa_summary = summarize(failures)\n",
    "    fa_summary = \"Poor quality retrieval of Chroma documentation.\"\n",
    "    return {\"fa_summary\": fa_summary, \"processed_logs\": [f\"failure-analysis-on-log-{failure['id']}\" for failure in failures]}\n",
    "\n",
    "fa_builder = StateGraph(input=FailureAnalysisState,output=FailureAnalysisOutputState)\n",
    "fa_builder.add_node(\"get_failures\", get_failures)\n",
    "fa_builder.add_node(\"generate_summary\", generate_summary)\n",
    "fa_builder.add_edge(START, \"get_failures\")\n",
    "fa_builder.add_edge(\"get_failures\", \"generate_summary\")\n",
    "fa_builder.add_edge(\"generate_summary\", END)\n",
    "\n",
    "graph = fa_builder.compile()\n",
    "display(Image(graph.get_graph().draw_mermaid_png()))"
   ]
  },
  {
   "cell_type": "markdown",
   "metadata": {},
   "source": [
    "## Here is the question summarization sub-grap, which uses QuestionSummarizationState."
   ]
  },
  {
   "cell_type": "code",
   "execution_count": 174,
   "metadata": {},
   "outputs": [
    {
     "name": "stderr",
     "output_type": "stream",
     "text": [
      "C:\\Users\\jongb\\AppData\\Local\\Temp\\ipykernel_20828\\1669619007.py:24: LangGraphDeprecationWarning: Initializing StateGraph without state_schema is deprecated. Please pass in an explicit state_schema instead of just an input and output schema.\n",
      "  qs_builder = StateGraph(input=QuestionSummarizationState,output=QuestionSummarizationOutputState)\n"
     ]
    },
    {
     "data": {
      "image/png": "[encoded data removed]",
      "text/plain": [
       "<IPython.core.display.Image object>"
      ]
     },
     "metadata": {},
     "output_type": "display_data"
    }
   ],
   "source": [
    "# Summarization subgraph\n",
    "class QuestionSummarizationState(TypedDict):\n",
    "    cleaned_logs: List[Log]\n",
    "    qs_summary: str\n",
    "    report: str\n",
    "    processed_logs: List[str]\n",
    "\n",
    "class QuestionSummarizationOutputState(TypedDict):\n",
    "    report: str\n",
    "    processed_logs: List[str]\n",
    "\n",
    "def generate_summary(state):\n",
    "    cleaned_logs = state[\"cleaned_logs\"]\n",
    "    # Add fxn: summary = summarize(generate_summary)\n",
    "    summary = \"Questions focused on usage of ChatOllama and Chroma vector store.\"\n",
    "    return {\"qs_summary\": summary, \"processed_logs\": [f\"summary-on-log-{log['id']}\" for log in cleaned_logs]}\n",
    "\n",
    "def send_to_slack(state):\n",
    "    qs_summary = state[\"qs_summary\"]\n",
    "    # Add fxn: report = report_generation(qs_summary)\n",
    "    report = \"foo bar baz\"\n",
    "    return {\"report\": report}\n",
    "\n",
    "qs_builder = StateGraph(input=QuestionSummarizationState,output=QuestionSummarizationOutputState)\n",
    "qs_builder.add_node(\"generate_summary\", generate_summary)\n",
    "qs_builder.add_node(\"send_to_slack\", send_to_slack)\n",
    "qs_builder.add_edge(START, \"generate_summary\")\n",
    "qs_builder.add_edge(\"generate_summary\", \"send_to_slack\")\n",
    "qs_builder.add_edge(\"send_to_slack\", END)\n",
    "\n",
    "graph = qs_builder.compile()\n",
    "display(Image(graph.get_graph().draw_mermaid_png()))"
   ]
  },
  {
   "cell_type": "markdown",
   "metadata": {},
   "source": [
    "## Adding sub graphs to our parent graph"
   ]
  },
  {
   "cell_type": "code",
   "execution_count": 175,
   "metadata": {},
   "outputs": [],
   "source": [
    "# Entry Graph\n",
    "class EntryGraphState(TypedDict):\n",
    "    raw_logs: List[Log]\n",
    "    cleaned_logs: Annotated[List[Log], add] # This will be USED BY in BOTH sub-graphs\n",
    "    fa_summary: str # This will only be generated in the FA sub-graph\n",
    "    report: str # This will only be generated in the QS sub-graph\n",
    "    processed_logs:  Annotated[List[int], add] # This will be generated in BOTH sub-graphs"
   ]
  },
  {
   "cell_type": "code",
   "execution_count": 176,
   "metadata": {},
   "outputs": [
    {
     "data": {
      "image/png": "[encoded data removed]",
      "text/plain": [
       "<IPython.core.display.Image object>"
      ]
     },
     "metadata": {},
     "output_type": "display_data"
    }
   ],
   "source": [
    "# Entry Graph\n",
    "class EntryGraphState(TypedDict):\n",
    "    raw_logs: List[Log]\n",
    "    cleaned_logs: List[Log]\n",
    "    fa_summary: str # This will only be generated in the FA sub-graph\n",
    "    report: str # This will only be generated in the QS sub-graph\n",
    "    processed_logs:  Annotated[List[int], add] # This will be generated in BOTH sub-graphs\n",
    "\n",
    "def clean_logs(state):\n",
    "    # Get logs\n",
    "    raw_logs = state[\"raw_logs\"]\n",
    "    # Data cleaning raw_logs -> docs \n",
    "    cleaned_logs = raw_logs\n",
    "    return {\"cleaned_logs\": cleaned_logs}\n",
    "\n",
    "entry_builder = StateGraph(EntryGraphState)\n",
    "entry_builder.add_node(\"clean_logs\", clean_logs)\n",
    "entry_builder.add_node(\"question_summarization\", qs_builder.compile())\n",
    "entry_builder.add_node(\"failure_analysis\", fa_builder.compile())\n",
    "\n",
    "entry_builder.add_edge(START, \"clean_logs\")\n",
    "entry_builder.add_edge(\"clean_logs\", \"failure_analysis\")\n",
    "entry_builder.add_edge(\"clean_logs\", \"question_summarization\")\n",
    "entry_builder.add_edge(\"failure_analysis\", END)\n",
    "entry_builder.add_edge(\"question_summarization\", END)\n",
    "\n",
    "graph = entry_builder.compile()\n",
    "\n",
    "from IPython.display import Image, display\n",
    "\n",
    "# Setting xray to 1 will show the internal structure of the nested graph\n",
    "display(Image(graph.get_graph(xray=1).draw_mermaid_png()))"
   ]
  },
  {
   "cell_type": "code",
   "execution_count": 178,
   "metadata": {},
   "outputs": [
    {
     "data": {
      "text/plain": [
       "{'raw_logs': [{'id': '1',\n",
       "   'question': 'How can I import ChatOllama?',\n",
       "   'answer': \"To import ChatOllama, use: 'from langchain_community.chat_models import ChatOllama.'\"},\n",
       "  {'id': '2',\n",
       "   'question': 'How can I use Chroma vector store?',\n",
       "   'answer': 'To use Chroma, define: rag_chain = create_retrieval_chain(retriever, question_answer_chain).',\n",
       "   'grade': 0,\n",
       "   'grader': 'Document Relevance Recall',\n",
       "   'feedback': 'The retrieved documents discuss vector stores in general, but not Chroma specifically'}],\n",
       " 'cleaned_logs': [{'id': '1',\n",
       "   'question': 'How can I import ChatOllama?',\n",
       "   'answer': \"To import ChatOllama, use: 'from langchain_community.chat_models import ChatOllama.'\"},\n",
       "  {'id': '2',\n",
       "   'question': 'How can I use Chroma vector store?',\n",
       "   'answer': 'To use Chroma, define: rag_chain = create_retrieval_chain(retriever, question_answer_chain).',\n",
       "   'grade': 0,\n",
       "   'grader': 'Document Relevance Recall',\n",
       "   'feedback': 'The retrieved documents discuss vector stores in general, but not Chroma specifically'}],\n",
       " 'fa_summary': 'Poor quality retrieval of Chroma documentation.',\n",
       " 'report': 'foo bar baz',\n",
       " 'processed_logs': ['summary-on-log-1',\n",
       "  'summary-on-log-2',\n",
       "  'failure-analysis-on-log-2']}"
      ]
     },
     "execution_count": 178,
     "metadata": {},
     "output_type": "execute_result"
    }
   ],
   "source": [
    "# Dummy logs\n",
    "question_answer = Log(\n",
    "    id=\"1\",\n",
    "    question=\"How can I import ChatOllama?\",\n",
    "    answer=\"To import ChatOllama, use: 'from langchain_community.chat_models import ChatOllama.'\",\n",
    ")\n",
    "\n",
    "question_answer_feedback = Log(\n",
    "    id=\"2\",\n",
    "    question=\"How can I use Chroma vector store?\",\n",
    "    answer=\"To use Chroma, define: rag_chain = create_retrieval_chain(retriever, question_answer_chain).\",\n",
    "    grade=0,\n",
    "    grader=\"Document Relevance Recall\",\n",
    "    feedback=\"The retrieved documents discuss vector stores in general, but not Chroma specifically\",\n",
    ")\n",
    "\n",
    "raw_logs = [question_answer,question_answer_feedback]\n",
    "graph.invoke({\"raw_logs\": raw_logs})"
   ]
  },
  {
   "attachments": {
    "image.png": {
     "image/png": "[encoded data removed]"
    }
   },
   "cell_type": "markdown",
   "metadata": {},
   "source": [
    "# Map-Reduce\n",
    "- https://langchain-ai.github.io/langgraph/how-tos/map-reduce/\n",
    "\n",
    "![image.png](attachment:image.png)"
   ]
  },
  {
   "cell_type": "markdown",
   "metadata": {},
   "source": [
    "```\n",
    "Map-reduce operations are essential for efficient task decomposition and parallel processing.\n",
    "It has two phases:\n",
    "(1) Map - Break a task into smaller sub-tasks, processing each sub-task in parallel.\n",
    "(2) Reduce - Aggregate the results across all of the completed, parallelized sub-tasks.\n",
    "\n",
    "Let's design a system that will do two things:\n",
    "(1) Map - Create a set of jokes about a topic.\n",
    "(2) Reduce - Pick the best joke from the list.\n",
    "\n",
    "We'll use an LLM to do the job generation and selection.\n",
    "```"
   ]
  },
  {
   "cell_type": "code",
   "execution_count": 194,
   "metadata": {},
   "outputs": [],
   "source": [
    "# LLM\n",
    "from langchain_groq import ChatGroq\n",
    "model = ChatGroq(temperature=0, model_name= \"llama-3.1-8b-instant\")\n",
    "\n",
    "# Prompts we will use\n",
    "subjects_prompt = \"\"\"Generate a list of 4 sub-topics that are all related to this overall topic: {topic}.\"\"\"\n",
    "joke_prompt = \"\"\"Generate a joke about {subject}\"\"\"\n",
    "best_joke_prompt = \"\"\"Below are a bunch of jokes about {topic}. Select the best one! Return the ID of the best one, starting 0 as the ID for the first joke. Jokes: \\n\\n  {jokes}\"\"\"\n"
   ]
  },
  {
   "cell_type": "code",
   "execution_count": 195,
   "metadata": {},
   "outputs": [],
   "source": [
    "import operator\n",
    "from typing import Annotated\n",
    "from typing_extensions import TypedDict\n",
    "from pydantic import BaseModel\n",
    "\n",
    "class Subjects(BaseModel):\n",
    "    subjects: list[str]\n",
    "\n",
    "class BestJoke(BaseModel):\n",
    "    id: int\n",
    "    \n",
    "class OverallState(TypedDict):\n",
    "    topic: str\n",
    "    subjects: list\n",
    "    jokes: Annotated[list, operator.add]\n",
    "    best_selected_joke: str"
   ]
  },
  {
   "cell_type": "code",
   "execution_count": 196,
   "metadata": {},
   "outputs": [],
   "source": [
    "def generate_topics(state: OverallState):\n",
    "    prompt = subjects_prompt.format(topic=state[\"topic\"])\n",
    "    response = model.with_structured_output(Subjects).invoke(prompt)\n",
    "    return {\"subjects\": response.subjects}"
   ]
  },
  {
   "cell_type": "code",
   "execution_count": 197,
   "metadata": {},
   "outputs": [
    {
     "data": {
      "text/plain": [
       "' \\nHere is the magic: we use the Send to create a joke for each subject.\\nThis is very useful! It can automatically parallelize joke generation for any number of subjects.\\n    generate_joke: the name of the node in the graph\\n    {\"subject\": s}: the state to send\\n\\nSend allow you to pass any state that you want to generate_joke! It does not have to align with OverallState.\\nIn this case, generate_joke is using its own internal state, and we can popular this via Send.\\n'"
      ]
     },
     "execution_count": 197,
     "metadata": {},
     "output_type": "execute_result"
    }
   ],
   "source": [
    "from langgraph.constants import Send\n",
    "def continue_to_jokes(state: OverallState):\n",
    "    return [Send(\"generate_joke\", {\"subject\": s}) for s in state[\"subjects\"]]\n",
    "\n",
    "\"\"\" \n",
    "Here is the magic: we use the Send to create a joke for each subject.\n",
    "This is very useful! It can automatically parallelize joke generation for any number of subjects.\n",
    "    generate_joke: the name of the node in the graph\n",
    "    {\"subject\": s}: the state to send\n",
    "\n",
    "Send allow you to pass any state that you want to generate_joke! It does not have to align with OverallState.\n",
    "In this case, generate_joke is using its own internal state, and we can popular this via Send.\n",
    "\"\"\""
   ]
  },
  {
   "cell_type": "markdown",
   "metadata": {},
   "source": [
    "## Map"
   ]
  },
  {
   "cell_type": "code",
   "execution_count": 198,
   "metadata": {},
   "outputs": [],
   "source": [
    "class JokeState(TypedDict):\n",
    "    subject: str\n",
    "\n",
    "class Joke(BaseModel):\n",
    "    joke: str\n",
    "\n",
    "def generate_joke(state: JokeState):\n",
    "    prompt = joke_prompt.format(subject=state[\"subject\"])\n",
    "    response = model.with_structured_output(Joke).invoke(prompt)\n",
    "    return {\"jokes\": [response.joke]}"
   ]
  },
  {
   "cell_type": "markdown",
   "metadata": {},
   "source": [
    "## Reduce"
   ]
  },
  {
   "cell_type": "code",
   "execution_count": 199,
   "metadata": {},
   "outputs": [],
   "source": [
    "def best_joke(state: OverallState):\n",
    "    jokes = \"\\n\\n\".join(state[\"jokes\"])\n",
    "    prompt = best_joke_prompt.format(topic=state[\"topic\"], jokes=jokes)\n",
    "    response = model.with_structured_output(BestJoke).invoke(prompt)\n",
    "    return {\"best_selected_joke\": state[\"jokes\"][response.id]}"
   ]
  },
  {
   "cell_type": "markdown",
   "metadata": {},
   "source": [
    "## Compile"
   ]
  },
  {
   "cell_type": "code",
   "execution_count": 200,
   "metadata": {},
   "outputs": [
    {
     "data": {
      "image/png": "[encoded data removed]",
      "text/plain": [
       "<IPython.core.display.Image object>"
      ]
     },
     "execution_count": 200,
     "metadata": {},
     "output_type": "execute_result"
    }
   ],
   "source": [
    "from IPython.display import Image\n",
    "from langgraph.graph import END, StateGraph, START\n",
    "\n",
    "# Construct the graph: here we put everything together to construct our graph\n",
    "graph = StateGraph(OverallState)\n",
    "graph.add_node(\"generate_topics\", generate_topics)\n",
    "graph.add_node(\"generate_joke\", generate_joke)\n",
    "graph.add_node(\"best_joke\", best_joke)\n",
    "graph.add_edge(START, \"generate_topics\")\n",
    "graph.add_conditional_edges(\"generate_topics\", continue_to_jokes, [\"generate_joke\"])\n",
    "graph.add_edge(\"generate_joke\", \"best_joke\")\n",
    "graph.add_edge(\"best_joke\", END)\n",
    "\n",
    "# Compile the graph\n",
    "app = graph.compile()\n",
    "Image(app.get_graph().draw_mermaid_png())"
   ]
  },
  {
   "cell_type": "code",
   "execution_count": 201,
   "metadata": {},
   "outputs": [
    {
     "name": "stdout",
     "output_type": "stream",
     "text": [
      "{'generate_topics': {'subjects': ['mammals', 'reptiles', 'amphibians', 'birds']}}\n",
      "{'generate_joke': {'jokes': ['Why did the cat join a band? Because it wanted to be the purr-cussionist!']}}\n",
      "{'generate_joke': {'jokes': ['Why did the frog go to the doctor? Because it wasn’t feeling well-toed!']}}\n",
      "{'generate_joke': {'jokes': ['Why did the bird go to the doctor? It had a fowl cough!']}}\n",
      "{'generate_joke': {'jokes': ['Why did the reptile go to the party? Because he was a snappy dresser!']}}\n",
      "{'best_joke': {'best_selected_joke': 'Why did the cat join a band? Because it wanted to be the purr-cussionist!'}}\n"
     ]
    }
   ],
   "source": [
    "# Call the graph: here we call it to generate a list of jokes\n",
    "for s in app.stream({\"topic\": \"animals\"}):\n",
    "    print(s)"
   ]
  },
  {
   "cell_type": "markdown",
   "metadata": {},
   "source": [
    "# END"
   ]
  },
  {
   "cell_type": "code",
   "execution_count": null,
   "metadata": {},
   "outputs": [],
   "source": []
  },
  {
   "cell_type": "markdown",
   "metadata": {},
   "source": []
  }
 ],
 "metadata": {
  "kernelspec": {
   "display_name": ".venv",
   "language": "python",
   "name": "python3"
  },
  "language_info": {
   "codemirror_mode": {
    "name": "ipython",
    "version": 3
   },
   "file_extension": ".py",
   "mimetype": "text/x-python",
   "name": "python",
   "nbconvert_exporter": "python",
   "pygments_lexer": "ipython3",
   "version": "3.12.6"
  }
 },
 "nbformat": 4,
 "nbformat_minor": 2
}
