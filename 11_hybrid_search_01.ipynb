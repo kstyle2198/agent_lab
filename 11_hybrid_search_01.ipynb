{
 "cells": [
  {
   "cell_type": "code",
   "execution_count": 1,
   "metadata": {},
   "outputs": [],
   "source": [
    "import chromadb\n",
    "import ollama\n",
    "from langchain_chroma import Chroma\n",
    "from langchain_ollama import OllamaEmbeddings\n",
    "import pandas as pd"
   ]
  },
  {
   "cell_type": "code",
   "execution_count": 2,
   "metadata": {},
   "outputs": [],
   "source": [
    "def read_vectordb_as_df(db_path:str):\n",
    "    client = chromadb.PersistentClient(path=db_path)\n",
    "    for collection in client.list_collections():\n",
    "        data = collection.get(include=['embeddings', 'documents', 'metadatas'])\n",
    "        df = pd.DataFrame({\"ids\":data[\"ids\"], \n",
    "                            \"metadatas\":data[\"metadatas\"], \n",
    "                            \"documents\":data[\"documents\"]})\n",
    "        df[\"first_div\"] = df[\"metadatas\"].apply(lambda x: x[\"First Division\"])\n",
    "        df[\"second_div\"] = df[\"metadatas\"].apply(lambda x: x[\"Second Division\"])\n",
    "        df[\"filename\"] = df[\"metadatas\"].apply(lambda x: x[\"File Name\"])\n",
    "        df = df[[\"ids\", \"first_div\", \"second_div\",\"filename\",\"documents\", \"metadatas\"]]\n",
    "    return df"
   ]
  },
  {
   "cell_type": "code",
   "execution_count": 3,
   "metadata": {},
   "outputs": [
    {
     "name": "stdout",
     "output_type": "stream",
     "text": [
      "<langchain_chroma.vectorstores.Chroma object at 0x000001F5E67E9250>\n"
     ]
    }
   ],
   "source": [
    "db_path = \"./db/chroma_db_02\"\n",
    "vector_store = Chroma(collection_name=\"collection_01\", persist_directory=db_path, embedding_function=OllamaEmbeddings(model=\"bge-m3:latest\"))\n",
    "print(vector_store)"
   ]
  },
  {
   "cell_type": "code",
   "execution_count": 18,
   "metadata": {},
   "outputs": [
    {
     "data": {
      "text/plain": [
       "[Document(metadata={'File Name': 'DNV Rules for Classification of Ships _2016_55_Nautical Safety', 'File Path': '/content/drive/MyDrive/Rules/DNV/DNV Rules for Classification of Ships _2016_55_Nautical Safety.pdf', 'First Division': 'Rules', 'Page': 82, 'Second Division': 'DNV'}, page_content='This page explains DNV Rules for Classification of Ships _2016_55_Nautical Safety, that belongs to catogories of Rules and DNV./nRules for Ships, January 2014  Pt.6 Ch.8 Sec.7 Network based integration of naviga tion systems (ICS) – Page 83 DET N ORSKE V ERITAS AS — time — ENC — radar video. 302  The position, heading and speed information shall b e displayed together with the indication of its sou rce. Guidance note: Sensor data, e.g. GYR 1, GYR 2, GPS 1, GPS 2, EM log, Dop pler log, GPS, radar 1, radar 2 etc.; -or result of calculation or manual input; -unit if ambiguous, e.g. UTC for time. ---e-n-d---of---G-u-i-d-a-n-c-e---n-o-t-e-- 303  Display of sensor output data The ICS shall be capable of displaying non-processe d information directly from the output data availab le from the sensors upon request from the user. Guidance note: It shall be possible for the OOW to call upon and read the stream of received IEC61162 messages (ASCII) from sensors in a separate window. ---e-n-d---of---G-u-i-d-a-n-c-e---n-o-t-e-- C 400 Accuracy and performance 401  The ICS processing shall not degrade the attributes of the'),\n",
       " Document(metadata={'File Name': 'DNV Rules for Classification of Ships _2016_55_Nautical Safety', 'File Path': '/content/drive/MyDrive/Rules/DNV/DNV Rules for Classification of Ships _2016_55_Nautical Safety.pdf', 'First Division': 'Rules', 'Page': 15, 'Second Division': 'DNV'}, page_content='This page explains DNV Rules for Classification of Ships _2016_55_Nautical Safety, that belongs to catogories of Rules and DNV./nperformance degradations and their causes for each individual equipment — the local effect displayed on the individual equipment and transmitted via the interface — the resulting effect on the functions being processed on the ICS system level — method of failure detection on the ICS system level including related alarms, warnings and indications — system related corrective action including fall-back mode(s) of operation (as applicable) and associated indications; — identification of failures potentially resulting in a change of rudder order or speed order (in automatic control mode). AP ICS manuals Z160 – Operation manuals The operation manual shall include: — an overall drawing and description of the ICS and its components — description of the redundancy concept and the availability of ICS functions — a description of possible failures and their effects on the system — guidance for the adjustment of limits for alarms and warning indications — the implications of using different'),\n",
       " Document(metadata={'File Name': 'DNV Rules for Classification of Ships _2016_67_Nautical Safety – Offshore Service Vessels', 'File Path': '/content/drive/MyDrive/Rules/DNV/DNV Rules for Classification of Ships _2016_67_Nautical Safety – Offshore Service Vessels.pdf', 'First Division': 'Rules', 'Page': 52, 'Second Division': 'DNV'}, page_content=\"This page explains DNV Rules for Classification of Ships _2016_67_Nautical Safety – Offshore Service Vessels, that belongs to catogories of Rules and DNV./nworkstation monitoring. See IEC 61174 Annex G for further details about ECD IS Back-up. ---e-n-d---of---G-u-i-d-a-n-c-e---n-o-t-e-- 703  ECDIS shall be able to transfer route information t o chart radar for enabling display of active route on the chart radar. Guidance note: Route information shall be in accordance with IEC 61162 and shall be possible to send directly to chart radar without use of external media such as diskettes. ---e-n-d---of---G-u-i-d-a-n-c-e---n-o-t-e-- B 800 AIS MKD 801  The ECDIS and/or the radar installed at the worksta tion for navigating & manoeuvring shall support the AIS MKD (possibility to operate the AIS from the wo rkstation). B 900 Bridge navigational watch alarm system (BNWAS) 901  The ship's wheelhouse shall be equipped with a surv eillance system continuously monitoring the presence of an alert OOW. The BNWAS shall maintain supervision of the wheelhouse to ensure the navigational watch being attended when the ship is underway at sea. The BNWAS system\")]"
      ]
     },
     "execution_count": 18,
     "metadata": {},
     "output_type": "execute_result"
    }
   ],
   "source": [
    "query = \"\"\"\n",
    "according to \"iss\" \"manual\", what is the \"noon report\" in \"iss system\"?\n",
    "\"\"\"\n",
    "retriever = vector_store.as_retriever(search_type=\"mmr\", search_kwargs={'k': 3, \"fetch_k\":5})\n",
    "result = retriever.invoke(query)\n",
    "result"
   ]
  },
  {
   "cell_type": "code",
   "execution_count": 19,
   "metadata": {},
   "outputs": [
    {
     "data": {
      "text/html": [
       "<div>\n",
       "<style scoped>\n",
       "    .dataframe tbody tr th:only-of-type {\n",
       "        vertical-align: middle;\n",
       "    }\n",
       "\n",
       "    .dataframe tbody tr th {\n",
       "        vertical-align: top;\n",
       "    }\n",
       "\n",
       "    .dataframe thead th {\n",
       "        text-align: right;\n",
       "    }\n",
       "</style>\n",
       "<table border=\"1\" class=\"dataframe\">\n",
       "  <thead>\n",
       "    <tr style=\"text-align: right;\">\n",
       "      <th></th>\n",
       "      <th>ids</th>\n",
       "      <th>first_div</th>\n",
       "      <th>second_div</th>\n",
       "      <th>filename</th>\n",
       "      <th>documents</th>\n",
       "      <th>metadatas</th>\n",
       "    </tr>\n",
       "  </thead>\n",
       "  <tbody>\n",
       "    <tr>\n",
       "      <th>0</th>\n",
       "      <td>faace8c4-ab2c-43b4-9b4e-7fc15319bc78</td>\n",
       "      <td>MANUAL</td>\n",
       "      <td>Common</td>\n",
       "      <td>[KISA Insight 2023 Vol.03] ChatGPT(챗GPT) 보ᄋ...</td>\n",
       "      <td>This page explains [KISA Insight 2023 Vol.03] ...</td>\n",
       "      <td>{'File Name': '[KISA Insight 2023 Vol.03] Chat...</td>\n",
       "    </tr>\n",
       "    <tr>\n",
       "      <th>1</th>\n",
       "      <td>1a3d1b93-e5d3-4a96-990d-e4ba6b976e29</td>\n",
       "      <td>MANUAL</td>\n",
       "      <td>Common</td>\n",
       "      <td>[KISA Insight 2023 Vol.03] ChatGPT(챗GPT) 보ᄋ...</td>\n",
       "      <td>This page explains [KISA Insight 2023 Vol.03] ...</td>\n",
       "      <td>{'File Name': '[KISA Insight 2023 Vol.03] Chat...</td>\n",
       "    </tr>\n",
       "  </tbody>\n",
       "</table>\n",
       "</div>"
      ],
      "text/plain": [
       "                                    ids first_div second_div  \\\n",
       "0  faace8c4-ab2c-43b4-9b4e-7fc15319bc78    MANUAL     Common   \n",
       "1  1a3d1b93-e5d3-4a96-990d-e4ba6b976e29    MANUAL     Common   \n",
       "\n",
       "                                            filename  \\\n",
       "0  [KISA Insight 2023 Vol.03] ChatGPT(챗GPT) 보ᄋ...   \n",
       "1  [KISA Insight 2023 Vol.03] ChatGPT(챗GPT) 보ᄋ...   \n",
       "\n",
       "                                           documents  \\\n",
       "0  This page explains [KISA Insight 2023 Vol.03] ...   \n",
       "1  This page explains [KISA Insight 2023 Vol.03] ...   \n",
       "\n",
       "                                           metadatas  \n",
       "0  {'File Name': '[KISA Insight 2023 Vol.03] Chat...  \n",
       "1  {'File Name': '[KISA Insight 2023 Vol.03] Chat...  "
      ]
     },
     "execution_count": 19,
     "metadata": {},
     "output_type": "execute_result"
    }
   ],
   "source": [
    "df = read_vectordb_as_df(db_path=db_path)\n",
    "df.head(2)"
   ]
  },
  {
   "cell_type": "code",
   "execution_count": 5,
   "metadata": {},
   "outputs": [],
   "source": [
    "# d = \"I like a apple\"\n",
    "# response = ollama.embeddings(model=\"bge-m3:latest\", prompt=d)\n",
    "# response"
   ]
  },
  {
   "cell_type": "code",
   "execution_count": 20,
   "metadata": {},
   "outputs": [
    {
     "data": {
      "text/plain": [
       "array([64942, 64738, 68280, ..., 64225, 18917, 32203], dtype=int64)"
      ]
     },
     "execution_count": 20,
     "metadata": {},
     "output_type": "execute_result"
    }
   ],
   "source": [
    "import numpy as np\n",
    "from sentence_transformers.util import cos_sim\n",
    "\n",
    "def get_similarity_search_score_rank(query:str, db_path:str):\n",
    "    embedded_query = ollama.embeddings(model=\"bge-m3:latest\", prompt=query)\n",
    "    embedded_query=[np.float64(k) for k in embedded_query['embedding']]\n",
    "\n",
    "    client = chromadb.PersistentClient(path=db_path)\n",
    "    for collection in client.list_collections():\n",
    "        data = collection.get(include=['embeddings'])\n",
    "    \n",
    "    results = []\n",
    "    for d in data['embeddings']:\n",
    "        similarity = cos_sim(embedded_query, d)\n",
    "        results.append(similarity)\n",
    "\n",
    "    results = [r.item() for r in results]\n",
    "\n",
    "    sorted_indices = np.argsort(results)  # 값에 대한 정렬된 인덱스\n",
    "    order_values = np.empty_like(sorted_indices)\n",
    "    order_values[sorted_indices] = np.arange(len(results))\n",
    "\n",
    "    return order_values\n",
    "\n",
    "res1 = get_similarity_search_score_rank(query=query, db_path=db_path)\n",
    "res1"
   ]
  },
  {
   "cell_type": "code",
   "execution_count": 22,
   "metadata": {},
   "outputs": [
    {
     "data": {
      "text/plain": [
       "68848"
      ]
     },
     "execution_count": 22,
     "metadata": {},
     "output_type": "execute_result"
    }
   ],
   "source": [
    "len(res1)"
   ]
  },
  {
   "cell_type": "code",
   "execution_count": 23,
   "metadata": {},
   "outputs": [
    {
     "name": "stdout",
     "output_type": "stream",
     "text": [
      "['iss', 'manual', 'noon report', 'iss system']\n"
     ]
    },
    {
     "data": {
      "text/plain": [
       "array([    0, 45454, 45455, ..., 22770, 11642, 66965], dtype=int64)"
      ]
     },
     "execution_count": 23,
     "metadata": {},
     "output_type": "execute_result"
    }
   ],
   "source": [
    "import re\n",
    "import numpy as np\n",
    "from rank_bm25 import BM25Okapi\n",
    "\n",
    "def bm25_search_rank(query:str, db_path:str):\n",
    "    client = chromadb.PersistentClient(path=db_path)\n",
    "    for collection in client.list_collections():\n",
    "        data = collection.get(include=['documents', 'metadatas'])\n",
    "    tokenized_corpus = [doc.split(\" \") for doc in data[\"documents\"]]\n",
    "    bm25 = BM25Okapi(tokenized_corpus)\n",
    "\n",
    "    pattern = r'\"(.*?)\"'  # 따옴표로 둘러싸인 단어만 검색 대상으로 리스트에 담기\n",
    "    tokenized_query = re.findall(pattern, query)\n",
    "    print(tokenized_query)\n",
    "\n",
    "    doc_scores = bm25.get_scores(tokenized_query)\n",
    "\n",
    "    sorted_indices = np.argsort(doc_scores)  # 값에 대한 정렬된 인덱스\n",
    "    order_values = np.empty_like(sorted_indices)\n",
    "    order_values[sorted_indices] = np.arange(len(doc_scores))\n",
    "\n",
    "\n",
    "    return order_values\n",
    "\n",
    "res2 = bm25_search_rank(query=query, db_path=db_path)\n",
    "res2"
   ]
  },
  {
   "cell_type": "code",
   "execution_count": 24,
   "metadata": {},
   "outputs": [
    {
     "data": {
      "text/plain": [
       "68848"
      ]
     },
     "execution_count": 24,
     "metadata": {},
     "output_type": "execute_result"
    }
   ],
   "source": [
    "len(res2)"
   ]
  },
  {
   "cell_type": "code",
   "execution_count": 25,
   "metadata": {},
   "outputs": [],
   "source": [
    "def rrf(all_rankings: list[list[int]]):\n",
    "    \"\"\"Takes in list of rankings produced by multiple retrieval algorithms,\n",
    "    and returns newly of ranked and scored items.\"\"\"\n",
    "    scores = {} # key is the index and value is the score of that index\n",
    "    # 1. Take every retrieval algorithm ranking\n",
    "    for algorithm_ranks in all_rankings:\n",
    "        # 2. For each ranking, take the index and the ranked position\n",
    "        for rank, idx in enumerate(algorithm_ranks):\n",
    "            # 3. Calculate the score and add it to the index\n",
    "            if idx in scores:\n",
    "                scores[idx] += 1 / (60 + rank)\n",
    "            else:\n",
    "                scores[idx] = 1 / (60 + rank)\n",
    "\n",
    "    # 4. Sort the indices based on accumulated scores\n",
    "    sorted_scores = sorted(scores.items(), key=lambda item: item[1], reverse=True)\n",
    "    return sorted_scores"
   ]
  },
  {
   "cell_type": "code",
   "execution_count": 26,
   "metadata": {},
   "outputs": [
    {
     "data": {
      "text/plain": [
       "[(45458, 0.01677157793662648),\n",
       " (0, 0.016721766121182067),\n",
       " (64942, 0.016708704669020795),\n",
       " (45454, 0.016532312224395065),\n",
       " (64738, 0.016435364313233374),\n",
       " (68280, 0.016152219050867334),\n",
       " (45455, 0.016144346897328188),\n",
       " (45456, 0.015909929863418236),\n",
       " (31432, 0.015889654254434126),\n",
       " (45462, 0.015684648736418443)]"
      ]
     },
     "execution_count": 26,
     "metadata": {},
     "output_type": "execute_result"
    }
   ],
   "source": [
    "new_ranks = rrf([res1, res2])\n",
    "new_ranks[:10]"
   ]
  },
  {
   "cell_type": "code",
   "execution_count": 31,
   "metadata": {},
   "outputs": [
    {
     "name": "stdout",
     "output_type": "stream",
     "text": [
      "{'File Name': \"Lloyd's Register Rules and Regulations for the Classification \"\n",
      "              'of Ships, July 2022',\n",
      " 'File Path': \"/content/drive/MyDrive/Rules/LR/Lloyd's Register Rules and \"\n",
      "              'Regulations for the Classification of Ships, July 2022.pdf',\n",
      " 'First Division': 'Rules',\n",
      " 'Page': 930,\n",
      " 'Second Division': 'LR'}\n",
      "(\"This page explains Lloyd's Register Rules and Regulations for the \"\n",
      " 'Classification of Ships, July 2022, that belongs to catogories of Rules and '\n",
      " 'LR./nD1/4D1/4 D1/2D1/2 9 8765431 CL21Figure 10.6.3 Hull envelope plating '\n",
      " 'Itemisation of parts n Section 7 Construction details and minimum thickness '\n",
      " '7.1 Symbols 7.1.1 The symbols used in this Section are defined in Pt 4, Ch '\n",
      " '9, 10.1 Symbols . 7.2 Compartment minimum thickness 7.2.1 The requirements '\n",
      " 'of Pt 4, Ch 9, 10.2 Compartment minimum thickness are also applicable to '\n",
      " 'small conventional single hull tankers. 7.3 Geometric properties and '\n",
      " 'proportions of members 7.3.1 The depth of the web of any primary member is '\n",
      " 'to be not less than 2,5 times the depth of the cut-outs for the passage of '\n",
      " 'secondary members, except where compensation is arranged to provide '\n",
      " 'satisfactory resistance to deflection and shear buckling in the web. 7.3.2 '\n",
      " 'The area of material in the face plate of any primary member is not to '\n",
      " 'exceed: 0, 00667dwtwcm2 nor is it to be less than: 0, '\n",
      " '0167stdwcm2forthebottomcentrelinegirder 0, 00417stdwcm2elsewhere. 7.3.3 The '\n",
      " 'geometric properties of rolled stiffeners and built sections are to be')\n"
     ]
    }
   ],
   "source": [
    "num = 64942\n",
    "t_df = df.iloc[num:num+1, :]\n",
    "t_df\n",
    "from pprint import pprint\n",
    "pprint(t_df[\"metadatas\"].values[0])\n",
    "pprint(t_df[\"documents\"].values[0])"
   ]
  },
  {
   "cell_type": "code",
   "execution_count": null,
   "metadata": {},
   "outputs": [],
   "source": []
  }
 ],
 "metadata": {
  "kernelspec": {
   "display_name": ".venv",
   "language": "python",
   "name": "python3"
  },
  "language_info": {
   "codemirror_mode": {
    "name": "ipython",
    "version": 3
   },
   "file_extension": ".py",
   "mimetype": "text/x-python",
   "name": "python",
   "nbconvert_exporter": "python",
   "pygments_lexer": "ipython3",
   "version": "3.12.7"
  }
 },
 "nbformat": 4,
 "nbformat_minor": 2
}
