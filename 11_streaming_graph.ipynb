{
 "cells": [
  {
   "cell_type": "code",
   "execution_count": 1,
   "metadata": {},
   "outputs": [],
   "source": [
    "from dotenv import load_dotenv\n",
    "load_dotenv()\n",
    "\n",
    "# from langchain_groq import ChatGroq\n",
    "# llm = ChatGroq(model_name= \"llama-3.1-70b-versatile\")\n",
    "\n",
    "from langchain_ollama import OllamaLLM, ChatOllama\n",
    "llm = OllamaLLM(base_url=\"http://localhost:11434\", model=\"qwen2.5:7b\")\n",
    "\n",
    "from langgraph.graph import StateGraph, MessagesState, START, END"
   ]
  },
  {
   "cell_type": "code",
   "execution_count": 2,
   "metadata": {},
   "outputs": [],
   "source": [
    "def call_model(state: MessagesState):\n",
    "    filtered_messages = state[\"messages\"][-4:]    ## filtering code\n",
    "    response = llm.invoke(filtered_messages)\n",
    "    return {\"messages\": response}\n"
   ]
  },
  {
   "cell_type": "code",
   "execution_count": 4,
   "metadata": {},
   "outputs": [],
   "source": [
    "def graph_builder():\n",
    "    workflow = StateGraph(MessagesState)\n",
    "    workflow.add_node(call_model)\n",
    "    workflow.add_edge(START, \"call_model\")\n",
    "    workflow.add_edge(\"call_model\", END)\n",
    "    app = workflow.compile()\n",
    "    return app\n",
    "\n",
    "app = graph_builder()\n",
    "# app"
   ]
  },
  {
   "cell_type": "code",
   "execution_count": 5,
   "metadata": {},
   "outputs": [],
   "source": [
    "## Memory\n",
    "import time\n",
    "inputs = []\n",
    "input = {\"role\": \"user\", \"content\": \"what is the capital of south korea?\"}\n",
    "# input = {\"role\": \"user\", \"content\": \"대한민국 고용노동부의 중대재해 예방 가이드에 대해 설명해주세요\"}\n",
    "\n",
    "inputs.append(input)\n",
    "temp = []"
   ]
  },
  {
   "cell_type": "code",
   "execution_count": 6,
   "metadata": {},
   "outputs": [
    {
     "name": "stdout",
     "output_type": "stream",
     "text": [
      "The capital of South Korea is Seoul."
     ]
    }
   ],
   "source": [
    "async for event in app.astream_events({\"messages\": inputs}, version=\"v1\"):\n",
    "    if event['event'] == 'on_chat_model_stream' or event['event'] == 'on_llm_stream':\n",
    "        try:\n",
    "            response = event['data']['chunk'].content    # groq\n",
    "            temp.append(response)\n",
    "            print(response, end=\"\")  \n",
    "            time.sleep(0.1)\n",
    "        except:\n",
    "            response = event['data']['chunk']   # ollama\n",
    "            temp.append(response)\n",
    "            print(response, end=\"\")    \n",
    "            time.sleep(0.1)\n",
    "        finally: pass\n",
    "    else: pass"
   ]
  },
  {
   "cell_type": "code",
   "execution_count": 7,
   "metadata": {},
   "outputs": [
    {
     "name": "stdout",
     "output_type": "stream",
     "text": [
      "[{'role': 'user', 'content': 'what is the capital of south korea?'}, {'role': 'ai', 'content': 'The capital of South Korea is Seoul.'}]\n",
      "2\n"
     ]
    }
   ],
   "source": [
    "total_res = \"\".join(temp[:])\n",
    "inputs.append({\"role\": \"ai\", \"content\": total_res})\n",
    "print(inputs)\n",
    "print(len(inputs))\n"
   ]
  },
  {
   "cell_type": "code",
   "execution_count": 8,
   "metadata": {},
   "outputs": [
    {
     "name": "stdout",
     "output_type": "stream",
     "text": [
      "The capital of Japan is Tokyo.\n",
      "[{'role': 'user', 'content': 'what is the capital of south korea?'}, {'role': 'ai', 'content': 'The capital of South Korea is Seoul.'}, {'role': 'user', 'content': 'what is the capital of japan?'}, {'role': 'ai', 'content': 'The capital of Japan is Tokyo.'}]\n",
      "4\n"
     ]
    }
   ],
   "source": [
    "input = {\"role\": \"user\", \"content\": \"what is the capital of japan?\"}\n",
    "inputs.append(input)\n",
    "temp = []\n",
    "\n",
    "async for event in app.astream_events({\"messages\": inputs}, version=\"v1\"):\n",
    "    if event['event'] == 'on_chat_model_stream' or event['event'] == 'on_llm_stream':\n",
    "        try:\n",
    "            response = event['data']['chunk'].content   # groq\n",
    "            temp.append(response)\n",
    "            print(response, end=\"\")   \n",
    "            time.sleep(0.1)\n",
    "        except:\n",
    "            response = event['data']['chunk']   # ollama\n",
    "            temp.append(response)\n",
    "            print(response, end=\"\")    \n",
    "            time.sleep(0.1)\n",
    "        finally: pass\n",
    "    else: pass\n",
    "\n",
    "total_res = \"\".join(temp[:])\n",
    "inputs.append({\"role\": \"ai\", \"content\": total_res})\n",
    "print(\"\")\n",
    "print(inputs)\n",
    "print(len(inputs))"
   ]
  },
  {
   "cell_type": "code",
   "execution_count": 9,
   "metadata": {},
   "outputs": [
    {
     "name": "stdout",
     "output_type": "stream",
     "text": [
      "The straight-line distance (as the crow flies) between Seoul and Tokyo is approximately 340 kilometers (211 miles). However, if you are considering travel by road or air, the distances can vary. For example, the distance by road can be around 560 to 680 kilometers depending on the route taken.\n",
      "[{'role': 'user', 'content': 'what is the capital of south korea?'}, {'role': 'ai', 'content': 'The capital of South Korea is Seoul.'}, {'role': 'user', 'content': 'what is the capital of japan?'}, {'role': 'ai', 'content': 'The capital of Japan is Tokyo.'}, {'role': 'user', 'content': 'what is the distance of the two cities?'}, {'role': 'ai', 'content': 'The straight-line distance (as the crow flies) between Seoul and Tokyo is approximately 340 kilometers (211 miles). However, if you are considering travel by road or air, the distances can vary. For example, the distance by road can be around 560 to 680 kilometers depending on the route taken.'}]\n",
      "6\n"
     ]
    }
   ],
   "source": [
    "input = {\"role\": \"user\", \"content\": \"what is the distance of the two cities?\"}\n",
    "inputs.append(input)\n",
    "temp = []\n",
    "\n",
    "async for event in app.astream_events({\"messages\": inputs}, version=\"v1\"):\n",
    "    if event['event'] == 'on_chat_model_stream' or event['event'] == 'on_llm_stream':\n",
    "        try:\n",
    "            response = event['data']['chunk'].content   # groq\n",
    "            temp.append(response)\n",
    "            print(response, end=\"\")   \n",
    "            time.sleep(0.1)\n",
    "        except:\n",
    "            response = event['data']['chunk']   # ollama\n",
    "            temp.append(response)\n",
    "            print(response, end=\"\")    \n",
    "            time.sleep(0.1)\n",
    "        finally: pass \n",
    "    else: pass\n",
    "\n",
    "total_res = \"\".join(temp[:])\n",
    "inputs.append({\"role\": \"ai\", \"content\": total_res})\n",
    "print(\"\")\n",
    "print(inputs)\n",
    "print(len(inputs))"
   ]
  },
  {
   "cell_type": "code",
   "execution_count": 154,
   "metadata": {},
   "outputs": [
    {
     "name": "stdout",
     "output_type": "stream",
     "text": [
      "The capital mentioned earlier was \"JAPAN\".\n",
      "[{'role': 'user', 'content': 'what is the capital of south korea?'}, {'role': 'ai', 'content': 'Seoul is the capital of South Korea.'}, {'role': 'user', 'content': 'what is the capital of japan?'}, {'role': 'ai', 'content': 'Tokyo is the capital of Japan.'}, {'role': 'user', 'content': 'what is the distance of the two cities?'}, {'role': 'ai', 'content': 'The distance between Seoul, South Korea and Tokyo, Japan depends on the specific route taken. However, here are some approximate distances:\\n\\n* By air: The flight distance from Seoul Incheon International Airport (ICN) to Tokyo Narita International Airport (NRT) or Tokyo Haneda Airport (HND) is approximately 1,300-1,400 km (800-870 miles).\\n* By land and sea: If you were to drive from Seoul to Tokyo via the Korean Peninsula and Japan, the distance would be significantly longer, around 3,500-4,000 km (2,175-2,485 miles), depending on the route taken.\\n* By straight line: The straight-line distance between the two cities is approximately 1,200-1,300 km (750-810 miles).'}, {'role': 'user', 'content': 'let me know the all capitals that is previously discussed'}, {'role': 'ai', 'content': 'The capital mentioned earlier was \"JAPAN\".'}]\n",
      "8\n"
     ]
    }
   ],
   "source": [
    "input = {\"role\": \"user\", \"content\": \"let me know the all capitals that is previously discussed\"}\n",
    "inputs.append(input)\n",
    "temp = []\n",
    "\n",
    "async for event in app.astream_events({\"messages\": inputs}, version=\"v1\"):\n",
    "    if event['event'] == 'on_chat_model_stream' or event['event'] == 'on_llm_stream':\n",
    "        try:\n",
    "            response = event['data']['chunk'].content   # groq\n",
    "            temp.append(response)\n",
    "            print(response, end=\"\")   \n",
    "            time.sleep(0.1)\n",
    "        except: \n",
    "            response = event['data']['chunk']  # ollama\n",
    "            temp.append(response)\n",
    "            print(response, end=\"\")    \n",
    "            time.sleep(0.1)\n",
    "        finally: pass\n",
    "    else: pass\n",
    "\n",
    "total_res = \"\".join(temp[:])\n",
    "inputs.append({\"role\": \"ai\", \"content\": total_res})\n",
    "print(\"\")\n",
    "print(inputs)\n",
    "print(len(inputs))"
   ]
  },
  {
   "cell_type": "code",
   "execution_count": null,
   "metadata": {},
   "outputs": [],
   "source": []
  }
 ],
 "metadata": {
  "kernelspec": {
   "display_name": ".venv",
   "language": "python",
   "name": "python3"
  },
  "language_info": {
   "codemirror_mode": {
    "name": "ipython",
    "version": 3
   },
   "file_extension": ".py",
   "mimetype": "text/x-python",
   "name": "python",
   "nbconvert_exporter": "python",
   "pygments_lexer": "ipython3",
   "version": "3.12.6"
  }
 },
 "nbformat": 4,
 "nbformat_minor": 2
}
