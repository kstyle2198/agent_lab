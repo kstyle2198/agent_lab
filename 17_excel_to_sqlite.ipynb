{
 "cells": [
  {
   "cell_type": "code",
   "execution_count": 1,
   "metadata": {},
   "outputs": [],
   "source": [
    "import sqlite3\n",
    "import pandas as pd"
   ]
  },
  {
   "cell_type": "code",
   "execution_count": 2,
   "metadata": {},
   "outputs": [],
   "source": [
    "def create_sqlite_table(xl_path:str, sheet_name:str, db_path:str, table_name:str):\n",
    "    sqlite_db = db_path  # \"./db/hr.db\"  # Replace with your database name\n",
    "    conn = sqlite3.connect(sqlite_db)\n",
    "    df = pd.read_excel(xl_path, sheet_name=sheet_name)\n",
    "    df.to_sql(table_name, conn, if_exists='replace', index=False)\n",
    "    conn.close()"
   ]
  },
  {
   "cell_type": "code",
   "execution_count": 3,
   "metadata": {},
   "outputs": [],
   "source": [
    "xl_path = \"./data/HR_DATA.xlsx\"\n",
    "sheet_name = \"PERSONNEL\"\n",
    "db_path = \"./db/hr.db\"\n",
    "table_name = sheet_name"
   ]
  },
  {
   "cell_type": "code",
   "execution_count": 4,
   "metadata": {},
   "outputs": [],
   "source": [
    "create_sqlite_table(xl_path=xl_path, sheet_name=sheet_name, db_path=db_path, table_name=table_name)"
   ]
  },
  {
   "cell_type": "code",
   "execution_count": 5,
   "metadata": {},
   "outputs": [
    {
     "data": {
      "text/plain": [
       "['PERSONNEL']"
      ]
     },
     "execution_count": 5,
     "metadata": {},
     "output_type": "execute_result"
    }
   ],
   "source": [
    "import os\n",
    "from sqlalchemy import text, inspect\n",
    "from sqlalchemy import create_engine, Column, Integer, String, ForeignKey, Float, TIMESTAMP \n",
    "DATABASE_URL = os.getenv(\"DATABASE_URL\", \"sqlite:///./db/hr.db\")\n",
    "engine = create_engine(DATABASE_URL)\n",
    "inspector = inspect(engine)\n",
    "inspector.get_table_names()"
   ]
  },
  {
   "cell_type": "code",
   "execution_count": 6,
   "metadata": {},
   "outputs": [
    {
     "name": "stdout",
     "output_type": "stream",
     "text": [
      "Retrieved database schema.\n",
      "Table: PERSONNEL\n",
      "- ID: TEXT\n",
      "- NAME: TEXT\n",
      "- BIRTH: TIMESTAMP\n",
      "- AGE: INTEGER\n",
      "- GENDER: TEXT\n",
      "- POSITION: TEXT\n",
      "- DEPT: TEXT\n",
      "- LEADERSHIP: TEXT\n",
      "- EMPLOYMENT_DATE: TIMESTAMP\n",
      "- PROMOTION_DATE: TIMESTAMP\n",
      "- LEADERSHIP_DATE: TIMESTAMP\n",
      "- 인사평가평균: REAL\n",
      "- 인사평가석차비율: REAL\n",
      "- 출신학교: TEXT\n",
      "- 전공: TEXT\n",
      "- 최근_주요_근무경력: TEXT\n",
      "- 강점: TEXT\n",
      "- 약점: TEXT\n",
      "\n",
      "\n"
     ]
    }
   ],
   "source": [
    "import os\n",
    "from sqlalchemy import text, inspect\n",
    "from sqlalchemy import create_engine, Column, Integer, String, ForeignKey, Float, TIMESTAMP \n",
    "\n",
    "def get_database_schema(db_path:str=\"sqlite:///./db/hr.db\"):\n",
    "    DATABASE_URL = os.getenv(\"DATABASE_URL\", db_path)\n",
    "    engine = create_engine(DATABASE_URL)\n",
    "    inspector = inspect(engine)\n",
    "    schema = \"\"\n",
    "    for table_name in inspector.get_table_names():\n",
    "        schema += f\"Table: {table_name}\\n\"\n",
    "        for column in inspector.get_columns(table_name):\n",
    "            col_name = column[\"name\"]\n",
    "            col_type = str(column[\"type\"])\n",
    "            if column.get(\"primary_key\"):\n",
    "                col_type += \", Primary Key\"\n",
    "            if column.get(\"foreign_keys\"):\n",
    "                fk = list(column[\"foreign_keys\"])[0]\n",
    "                col_type += f\", Foreign Key to {fk.column.table.name}.{fk.column.name}\"\n",
    "            schema += f\"- {col_name}: {col_type}\\n\"\n",
    "        schema += \"\\n\"\n",
    "    print(\"Retrieved database schema.\")\n",
    "    return schema\n",
    "\n",
    "schema = get_database_schema()\n",
    "print(schema)"
   ]
  },
  {
   "cell_type": "code",
   "execution_count": 7,
   "metadata": {},
   "outputs": [
    {
     "name": "stdout",
     "output_type": "stream",
     "text": [
      "Data from table 'PERSONNEL':\n",
      "['ID', 'NAME', 'BIRTH', 'AGE', 'GENDER', 'POSITION', 'DEPT', 'LEADERSHIP', 'EMPLOYMENT_DATE', 'PROMOTION_DATE', 'LEADERSHIP_DATE', '인사평가평균', '인사평가석차비율', '출신학교', '전공', '최근_주요_근무경력', '강점', '약점']\n",
      "('A10000', '홍길동', '1980-09-10 00:00:00', 45, '남성', '책임매니저', '경영분석팀', '부서장', '2006-07-02 00:00:00', '2021-01-01 00:00:00', '2024-01-01 00:00:00', 8.0, 0.42857142857142855, '서울대학교', '경영학', '경영분석팀(1년), 조선원가부(4년), 회계팀(3년)', '○ 다년간의 경영계획 수립 업무 수행을\\n    잘 완수해왔으며, 사전에 비용관련\\n    리스크를 잘 점검하고 대책을 마련함', '○ 근무 경력이 재무/원가 부문에 집중되어\\n    다른 조직에 대한 이해도 부족\\n○ 전사적 예산 통제시 조직간 소통을 통한\\n    갈등 조율 능력 보완 필요')\n",
      "('A10001', '류현진', '1982-06-30 00:00:00', 43, '남성', '책임연구원', '사업기획부', '직책과장', '2015-05-03 00:00:00', '2022-01-01 00:00:00', '2021-05-05 00:00:00', 7.5, 0.5714285714285714, '고려대학교', '산업공학', '사업기획부(3년), 건조1부(8년)', '○ 생산부서와 사업기획부서 근무 경험을\\n    보유하여 계획와 실행에 대한 구체적\\n    이해도 보유', '○ ')\n",
      "('A10002', '김광현', '1985-07-15 00:00:00', 40, '남성', '선임매니저', '총무부', None, '2018-04-03 00:00:00', '2021-01-01 00:00:00', None, 8.5, 0.2857142857142857, '연세대학교', '법학', '총무팀(3년), 인사팀(3년)', '○ 솔선 수범하는 자세로 현장 지원 업무를\\n    수행함\\n○ 평소 책임감 있는 자세로 현장 문제를\\n    해결함', '○ 팀원들 성장을 이끌 수 있도록\\n    수시 피드백과 교육지원에도\\n    신경을 쓸 필요가 있음')\n",
      "('A10003', '이정우', '1988-04-20 00:00:00', 37, '남성', '매니저', '기장설계1부', None, '2020-09-15 00:00:00', '2023-01-01 00:00:00', None, 7.5, 0.5714285714285714, '충남대학교', '기계공학', '기장설계1부(5년), 의장부(2년)', '○ 설계부서와 생산부서 근무경험을\\n    바탕으로 생산부서 후공정을 고려한\\n    설계업무를 잘 수행하고 있음', '○ 설계 부문내 다른 직종에 대한\\n    근무경험으로 설계 전반에 대한\\n    이해도 보강 필요')\n",
      "('A10004', '오타니', '1975-02-01 00:00:00', 50, '남성', '매니저', '전장설계2부', None, '2005-06-04 00:00:00', '2010-01-01 00:00:00', None, 9.0, 0.14285714285714285, '경상대학교', '전기전자', '전장설계2부(1년), 전장설계1부(5년)', None, '○ 전장 분야의 전문가 이기는 하나,\\n    상대적으로 다른 분야에 대한 경험이\\n    부족함')\n",
      "('A10005', '전지연', '1986-09-21 00:00:00', 39, '여성', '책임연구원', '신소재연구실', '파트장', '2015-06-04 00:00:00', '2023-01-01 00:00:00', '2023-01-01 00:00:00', 7.0, 0.8571428571428571, '부경대학교', '신소재공학', '신소재연구실(8년)', '○ 신규 연구 프로젝트에 대해서도\\n    도전적인 자세로 연구를 수행함', None)\n",
      "('A10006', '장원영', '1992-06-15 00:00:00', 33, '여성', '매니저', '영업3팀', None, '2019-05-04 00:00:00', '2022-01-01 00:00:00', None, 6.5, 1.0, '전북대학교', '영문학', '영업3팀(5년), 영업기획팀(2년)', '○ 다년간 영업부서 근무 경험을 통해\\n    고객과의 깊은 신뢰 관계를 유지하고 \\n    있음', '○ 근무 경력이 영업에만 집중되어\\n    타 부서 근무 경험을 통해 사업\\n    전반에 대한 이해도 보강 필요')\n"
     ]
    }
   ],
   "source": [
    "## Read Sqlite\n",
    "# Connect to SQLite database\n",
    "sqlite_db = \"./db/hr.db\"\n",
    "conn = sqlite3.connect(sqlite_db)\n",
    "cursor = conn.cursor()\n",
    "\n",
    "# Query the database\n",
    "table_name = table_name  # Replace with your table name\n",
    "query = f\"SELECT * FROM {table_name};\"\n",
    "\n",
    "try:\n",
    "    # Execute the query\n",
    "    cursor.execute(query)\n",
    "    \n",
    "    # Fetch all rows\n",
    "    rows = cursor.fetchall()\n",
    "    \n",
    "    # Get column names\n",
    "    column_names = [description[0] for description in cursor.description]\n",
    "    \n",
    "    # Print the data\n",
    "    print(f\"Data from table '{table_name}':\")\n",
    "    print(column_names)  # Print column names\n",
    "    for row in rows:\n",
    "        print(row)  # Print each row of data\n",
    "except sqlite3.Error as e:\n",
    "    print(f\"An error occurred: {e}\")\n",
    "finally:\n",
    "    # Close the connection\n",
    "    conn.close()"
   ]
  },
  {
   "cell_type": "code",
   "execution_count": null,
   "metadata": {},
   "outputs": [],
   "source": []
  },
  {
   "cell_type": "code",
   "execution_count": null,
   "metadata": {},
   "outputs": [],
   "source": []
  }
 ],
 "metadata": {
  "kernelspec": {
   "display_name": ".venv",
   "language": "python",
   "name": "python3"
  },
  "language_info": {
   "codemirror_mode": {
    "name": "ipython",
    "version": 3
   },
   "file_extension": ".py",
   "mimetype": "text/x-python",
   "name": "python",
   "nbconvert_exporter": "python",
   "pygments_lexer": "ipython3",
   "version": "3.12.6"
  }
 },
 "nbformat": 4,
 "nbformat_minor": 2
}
