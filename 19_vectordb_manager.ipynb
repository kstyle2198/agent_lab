{
 "cells": [
  {
   "cell_type": "code",
   "execution_count": 1,
   "metadata": {},
   "outputs": [],
   "source": [
    "import chromadb\n",
    "from langchain_chroma import Chroma\n",
    "from langchain_ollama import OllamaEmbeddings\n",
    "from pprint import pprint\n",
    "import pandas as pd"
   ]
  },
  {
   "cell_type": "code",
   "execution_count": 2,
   "metadata": {},
   "outputs": [],
   "source": [
    "def read_vectordb_as_df(db_path:str):\n",
    "    client = chromadb.PersistentClient(path=db_path)\n",
    "    for collection in client.list_collections():\n",
    "        data = collection.get(include=['embeddings', 'documents', 'metadatas'])\n",
    "        df = pd.DataFrame({\"ids\":data[\"ids\"], \n",
    "                            \"metadatas\":data[\"metadatas\"], \n",
    "                            \"documents\":data[\"documents\"]})\n",
    "        df[\"first_div\"] = df[\"metadatas\"].apply(lambda x: x[\"First Division\"])\n",
    "        df[\"second_div\"] = df[\"metadatas\"].apply(lambda x: x[\"Second Division\"])\n",
    "        df[\"filename\"] = df[\"metadatas\"].apply(lambda x: x[\"File Name\"])\n",
    "        df = df[[\"ids\", \"first_div\", \"second_div\",\"filename\",\"documents\", \"metadatas\"]]\n",
    "    return df"
   ]
  },
  {
   "cell_type": "code",
   "execution_count": 3,
   "metadata": {},
   "outputs": [],
   "source": [
    "def read_vectordb_as_data(db_path:str):\n",
    "    client = chromadb.PersistentClient(path=db_path)\n",
    "    for collection in client.list_collections():\n",
    "        data = collection.get(include=['embeddings', 'documents', 'metadatas'])\n",
    "    return data"
   ]
  },
  {
   "cell_type": "code",
   "execution_count": 4,
   "metadata": {},
   "outputs": [],
   "source": [
    "def delete_document(filename:str, db_path:str):\n",
    "  vector_store = Chroma(collection_name=\"collection_01\", persist_directory=db_path, embedding_function=OllamaEmbeddings(model=\"bge-m3:latest\"))\n",
    "  del_ids = vector_store.get(where={'File Name':filename})[\"ids\"]\n",
    "  vector_store.delete(del_ids)\n",
    "  print(\"Document is deleted\")"
   ]
  },
  {
   "cell_type": "code",
   "execution_count": 6,
   "metadata": {},
   "outputs": [
    {
     "name": "stdout",
     "output_type": "stream",
     "text": [
      "<langchain_chroma.vectorstores.Chroma object at 0x0000018C66F07410>\n"
     ]
    }
   ],
   "source": [
    "db_path = \"./db/chroma_db_02\"\n",
    "vector_store = Chroma(collection_name=\"collection_01\", persist_directory=db_path, embedding_function=OllamaEmbeddings(model=\"bge-m3:latest\"))\n",
    "print(vector_store)"
   ]
  },
  {
   "cell_type": "code",
   "execution_count": 7,
   "metadata": {},
   "outputs": [
    {
     "data": {
      "text/html": [
       "<div>\n",
       "<style scoped>\n",
       "    .dataframe tbody tr th:only-of-type {\n",
       "        vertical-align: middle;\n",
       "    }\n",
       "\n",
       "    .dataframe tbody tr th {\n",
       "        vertical-align: top;\n",
       "    }\n",
       "\n",
       "    .dataframe thead th {\n",
       "        text-align: right;\n",
       "    }\n",
       "</style>\n",
       "<table border=\"1\" class=\"dataframe\">\n",
       "  <thead>\n",
       "    <tr style=\"text-align: right;\">\n",
       "      <th></th>\n",
       "      <th>ids</th>\n",
       "      <th>first_div</th>\n",
       "      <th>second_div</th>\n",
       "      <th>filename</th>\n",
       "      <th>documents</th>\n",
       "      <th>metadatas</th>\n",
       "    </tr>\n",
       "  </thead>\n",
       "  <tbody>\n",
       "    <tr>\n",
       "      <th>0</th>\n",
       "      <td>faace8c4-ab2c-43b4-9b4e-7fc15319bc78</td>\n",
       "      <td>MANUAL</td>\n",
       "      <td>Common</td>\n",
       "      <td>[KISA Insight 2023 Vol.03] ChatGPT(챗GPT) 보ᄋ...</td>\n",
       "      <td>This page explains [KISA Insight 2023 Vol.03] ...</td>\n",
       "      <td>{'File Name': '[KISA Insight 2023 Vol.03] Chat...</td>\n",
       "    </tr>\n",
       "    <tr>\n",
       "      <th>1</th>\n",
       "      <td>1a3d1b93-e5d3-4a96-990d-e4ba6b976e29</td>\n",
       "      <td>MANUAL</td>\n",
       "      <td>Common</td>\n",
       "      <td>[KISA Insight 2023 Vol.03] ChatGPT(챗GPT) 보ᄋ...</td>\n",
       "      <td>This page explains [KISA Insight 2023 Vol.03] ...</td>\n",
       "      <td>{'File Name': '[KISA Insight 2023 Vol.03] Chat...</td>\n",
       "    </tr>\n",
       "    <tr>\n",
       "      <th>2</th>\n",
       "      <td>f67ce384-3df7-4ffe-aa13-9d187d73cb13</td>\n",
       "      <td>MANUAL</td>\n",
       "      <td>Common</td>\n",
       "      <td>[KISA Insight 2023 Vol.03] ChatGPT(챗GPT) 보ᄋ...</td>\n",
       "      <td>This page explains [KISA Insight 2023 Vol.03] ...</td>\n",
       "      <td>{'File Name': '[KISA Insight 2023 Vol.03] Chat...</td>\n",
       "    </tr>\n",
       "    <tr>\n",
       "      <th>3</th>\n",
       "      <td>5f7bdc1f-deb2-4f3d-9afb-2eafbf5d5192</td>\n",
       "      <td>MANUAL</td>\n",
       "      <td>Common</td>\n",
       "      <td>[KISA Insight 2023 Vol.03] ChatGPT(챗GPT) 보ᄋ...</td>\n",
       "      <td>This page explains [KISA Insight 2023 Vol.03] ...</td>\n",
       "      <td>{'File Name': '[KISA Insight 2023 Vol.03] Chat...</td>\n",
       "    </tr>\n",
       "    <tr>\n",
       "      <th>4</th>\n",
       "      <td>5edec5fa-fdde-41e4-a688-b77fb1fb75c3</td>\n",
       "      <td>MANUAL</td>\n",
       "      <td>Common</td>\n",
       "      <td>[KISA Insight 2023 Vol.03] ChatGPT(챗GPT) 보ᄋ...</td>\n",
       "      <td>This page explains [KISA Insight 2023 Vol.03] ...</td>\n",
       "      <td>{'File Name': '[KISA Insight 2023 Vol.03] Chat...</td>\n",
       "    </tr>\n",
       "  </tbody>\n",
       "</table>\n",
       "</div>"
      ],
      "text/plain": [
       "                                    ids first_div second_div  \\\n",
       "0  faace8c4-ab2c-43b4-9b4e-7fc15319bc78    MANUAL     Common   \n",
       "1  1a3d1b93-e5d3-4a96-990d-e4ba6b976e29    MANUAL     Common   \n",
       "2  f67ce384-3df7-4ffe-aa13-9d187d73cb13    MANUAL     Common   \n",
       "3  5f7bdc1f-deb2-4f3d-9afb-2eafbf5d5192    MANUAL     Common   \n",
       "4  5edec5fa-fdde-41e4-a688-b77fb1fb75c3    MANUAL     Common   \n",
       "\n",
       "                                            filename  \\\n",
       "0  [KISA Insight 2023 Vol.03] ChatGPT(챗GPT) 보ᄋ...   \n",
       "1  [KISA Insight 2023 Vol.03] ChatGPT(챗GPT) 보ᄋ...   \n",
       "2  [KISA Insight 2023 Vol.03] ChatGPT(챗GPT) 보ᄋ...   \n",
       "3  [KISA Insight 2023 Vol.03] ChatGPT(챗GPT) 보ᄋ...   \n",
       "4  [KISA Insight 2023 Vol.03] ChatGPT(챗GPT) 보ᄋ...   \n",
       "\n",
       "                                           documents  \\\n",
       "0  This page explains [KISA Insight 2023 Vol.03] ...   \n",
       "1  This page explains [KISA Insight 2023 Vol.03] ...   \n",
       "2  This page explains [KISA Insight 2023 Vol.03] ...   \n",
       "3  This page explains [KISA Insight 2023 Vol.03] ...   \n",
       "4  This page explains [KISA Insight 2023 Vol.03] ...   \n",
       "\n",
       "                                           metadatas  \n",
       "0  {'File Name': '[KISA Insight 2023 Vol.03] Chat...  \n",
       "1  {'File Name': '[KISA Insight 2023 Vol.03] Chat...  \n",
       "2  {'File Name': '[KISA Insight 2023 Vol.03] Chat...  \n",
       "3  {'File Name': '[KISA Insight 2023 Vol.03] Chat...  \n",
       "4  {'File Name': '[KISA Insight 2023 Vol.03] Chat...  "
      ]
     },
     "execution_count": 7,
     "metadata": {},
     "output_type": "execute_result"
    }
   ],
   "source": [
    "df = read_vectordb_as_df(db_path=db_path)\n",
    "df.head()"
   ]
  },
  {
   "cell_type": "code",
   "execution_count": 8,
   "metadata": {},
   "outputs": [
    {
     "name": "stdout",
     "output_type": "stream",
     "text": [
      "['faace8c4-ab2c-43b4-9b4e-7fc15319bc78', '1a3d1b93-e5d3-4a96-990d-e4ba6b976e29', 'f67ce384-3df7-4ffe-aa13-9d187d73cb13', '5f7bdc1f-deb2-4f3d-9afb-2eafbf5d5192', '5edec5fa-fdde-41e4-a688-b77fb1fb75c3']\n",
      "[{'File Name': '[KISA Insight 2023 Vol.03] ChatGPT(챗GPT) 보안 위협과 시사점', 'File Path': '/content/drive/MyDrive/MANUAL/Common/[KISA Insight 2023 Vol.03] ChatGPT(챗GPT) 보안 위협과 시사점.pdf', 'First Division': 'MANUAL', 'Page': 0, 'Second Division': 'Common'}, {'File Name': '[KISA Insight 2023 Vol.03] ChatGPT(챗GPT) 보안 위협과 시사점', 'File Path': '/content/drive/MyDrive/MANUAL/Common/[KISA Insight 2023 Vol.03] ChatGPT(챗GPT) 보안 위협과 시사점.pdf', 'First Division': 'MANUAL', 'Page': 1, 'Second Division': 'Common'}, {'File Name': '[KISA Insight 2023 Vol.03] ChatGPT(챗GPT) 보안 위협과 시사점', 'File Path': '/content/drive/MyDrive/MANUAL/Common/[KISA Insight 2023 Vol.03] ChatGPT(챗GPT) 보안 위협과 시사점.pdf', 'First Division': 'MANUAL', 'Page': 2, 'Second Division': 'Common'}, {'File Name': '[KISA Insight 2023 Vol.03] ChatGPT(챗GPT) 보안 위협과 시사점', 'File Path': '/content/drive/MyDrive/MANUAL/Common/[KISA Insight 2023 Vol.03] ChatGPT(챗GPT) 보안 위협과 시사점.pdf', 'First Division': 'MANUAL', 'Page': 3, 'Second Division': 'Common'}, {'File Name': '[KISA Insight 2023 Vol.03] ChatGPT(챗GPT) 보안 위협과 시사점', 'File Path': '/content/drive/MyDrive/MANUAL/Common/[KISA Insight 2023 Vol.03] ChatGPT(챗GPT) 보안 위협과 시사점.pdf', 'First Division': 'MANUAL', 'Page': 4, 'Second Division': 'Common'}]\n",
      "['This page explains [KISA Insight 2023 Vol.03] ChatGPT(챗GPT) 보안 위협과 시사점, that belongs to catogories of MANUAL and Common./nChatGPT (챗GPT) 보안 위협과 시사점 한국인터넷진흥원(KISA) 김도원, 김성훈, 이재광, 박정훈, 김병재, 정태인, 최은아2023 VOL. 3', 'This page explains [KISA Insight 2023 Vol.03] ChatGPT(챗GPT) 보안 위협과 시사점, that belongs to catogories of MANUAL and Common./nⅠ 개요 1-1. ChatGPT 2 1-2. ChatGPT에 대한 평가 6 ⅡChatGPT 보안 이슈 및 활용 ･규제 동향 2-1. 보안 이슈 동향 8 2-2. 활용 ･규제 동향 12 ⅢChatGPT 주요 보안 위협 분석 3-1. 피싱 메일 및 악성코드 생성 17 3-2. 민감정보 유출과 결과물 오남용 22 3-3. 인공지능에 대한 공격 24 Ⅳ시사점 4-1. 악용에 대한 선제적 대응 254-2. 안전한 활용 및 도입 촉진 25 4-3. 인공지능 보안 정책 마련 26ChatGPT (챗GPT) 보안 위협과 시사점2023 VOL. 3', 'This page explains [KISA Insight 2023 Vol.03] ChatGPT(챗GPT) 보안 위협과 시사점, that belongs to catogories of MANUAL and Common./n『KISA Insight』는 디지털·정보보호 관련 글로벌 트렌드 및 주요 이슈를 분석하여 정책 자료로 활용하기 위해 한국인터넷진흥원에서 기획, 발간하는 심층보고서입니다. 한국인터넷진흥원의 승인 없이 본 보고서의 무단전재나 복제를 금하며 인용하실 때는 반드시 『KISA Insight』라고 밝혀주시기 바랍니다. 본문 내용은 한국인터넷진흥원의 공식 견해가 아님을 알려드립니다. [작성] 한국인터넷진흥원(KISA) 미래정책연구실 정책개발팀 김성훈 팀장 김도원 선임연구원 061-820-1426 061-820-1228 shkim@kisa.or.kr dowonkim@kisa.or.kr 한국인터넷진흥원(KISA) 사이버침해대응본부 종합분석팀 (악성코드 생성 테스트) 이재광 팀장 박정훈 수석연구원 김병재 책임연구원 02-405-5662 02-405-5542 02-405-5297 leejk@kisa.or.kr pack@kisa.or.kr kimbyeongjae@kisa.or.kr 한국인터넷진흥원(KISA) 개인정보본부 개인정보협력팀 (이탈리아 단독처분) 정태인 팀장 최은아 선임연구원 061-820-1804 061-820-1438 tijung@kisa.or.kr euna.choi@kisa.or.kr', 'This page explains [KISA Insight 2023 Vol.03] ChatGPT(챗GPT) 보안 위협과 시사점, that belongs to catogories of MANUAL and Common./nChatGPT가 출시되면서 혁신적인 기 능으로 인해 주목을 받고 있지만, 그에 따른 부작용으로 인한 다양한 보안 이슈도 발발 ∙ ChatGPT의 혁신적인 결과물 생산으로 출시됨과 동시에 폭발적인 관심 을 받았으며, 비즈니스 과정 에서 생산성을 향상 시키고, 의료, 법률, 미디어 등 다양한 산업 분야 에 활용되어 큰 영향을 줄 수 있음 ∙ 거짓 답변 을 사실처럼 대답 하거나, 최신 정보 에 대한 내용은 답변하지 못하는 등 다양한 한계점이 존재 하며, ChatGPT 활용 과정에서 다양한 부작용 발생 가능 보안 전문가들은 ChatGPT가 사이버 범죄에 악용될 수 있다고 전망하며, 해외 주요국 및 기업 등에서는 인공지능에 대한 규제 논의가 촉진되고 있음 ∙ ChatGPT 개발사인 OpenAI는 ChatGPT가 안전하게 활용 될 수 있도록, 해당 서비스의 활용 을 허용하지 않는 용도 를 제시 ∙ 보안 전문가들도 ChatGPT 가 좋은 목적으로 활용 될 수 있고 사이버보안 활동 에도 도움을 줄 수 있지만, 사이버 범죄 에도 얼마든지 활용될 수 있음 을 강조 ∙ 이탈리아 는 ChatGPT 접속을 일시적으로 차단 하였다가 OpenAI의 보안 조치 후 다시 해제 하였으며, EU나 미국 등에서 인공지능 규제 에 대한 논의 촉진 ChatGPT의 결과물이 사이버 공격에 악용되거나, 민감정보 유출 및 결과물 오남용 문제가 발생할 수 있으며, 인공 지능 모델에 대한 공격도 고려 필요 ∙ 공격자들은 피싱 메일 작성, 악성코드 생성 등 ChatGPT의 결과물 을 사이버 공격에 활용하거나, ChatGPT를 통해 사이버 위협 행위에 대한 도움 을 받을 수 있음 ∙ 무분별한 입력으로 민감정보 의 유출 가능성이 존재 하며, ChatGPT의 잘못된 결과물 생산은 잘못된 정보의 오용 및 확산 이나 다양한 보안 문제 등을 야기할 수 있음 ∙ 인공지능 모델 고유의 보안 위협 이 존재하며, 개발 단계부터 안전한 활용단계까지  보안 위협에 대한 대응방안 마련 필요요 약', 'This page explains [KISA Insight 2023 Vol.03] ChatGPT(챗GPT) 보안 위협과 시사점, that belongs to catogories of MANUAL and Common./n2023 VOL. 3 21-1. ChatGPT ChatGPT, 초거대 인공지능이라는 게임 체인저의 시발점 ∙ ChatGPT 는 언어 처리 인공지능 모델인 GPT-3.5와 GPT-4를 기반으로 하는 대화형 인공지능 서비스 ’22년 11월 , 인공지능 연구기관인 OpenAI 가 GPT-3.5를 기반으로 제작된 ChatGPT 공개 ’23년 3월 , OpenAI는 성능이 개선된 GPT-4를 공개 하였으며, ChatGPT의 유료서비스*를 통해 사용 가능  * ChatGPT Plus : 원활한 접속 및 빠른 응답시간, 새로운 기능을 먼저 사용할 수 있는 구독형 서 비스($20/월) ∙ 텍스트 생성 (이메일, 기사, 시 ･소설 등) , 답변, 대화, 번역, 요약, 소스코드 생성 및 수정 등 가능 상위모델인 GPT-4는 이미지 입력까지 가능하나 아직 ChatGPT에 구현되지 않음 ∙ 기존 챗봇 은 단답형 대화 나 주어진 정보 내에서 답변 이 가능했다면, ChatGPT는 사용자가 입력한 텍스트의 맥락 을 이해하고 과거 대화를 기억 함으로써 일상적인 언어 를 통해 사람과 의사소통 가능 ∙ 미국 와튼스쿨 MBA, 미국 의사면허시험 (USMLE) 등을 통과하는 성능을 보였으며, GPT-4 는 미국 변호사 시험 에서 상위 10%의 점수 를 받을 수 있을만큼 성능 향상  ※ GPT 미국 변호사 시험 점수 : GPT-3.5(213점/400점 ) → GPT-4(298점/400점) 인류에게 이익을 주기위한 인 공지능 회사, OpenAI ∙ ’15년 12월, 샘 알트만, 일론 머스크, 일리야 서츠케버, 그렉 브로만 등은 안전한 인공지능 개발 및 발전 을 위해 비영리기관 OpenAI 설립 비영리기관으로 설립된 OpenAI는 초거대 인공지능 모델 ‘GPT’ 개발에 착수 하면서, ’19년 영리기업을 분리 등록 하면서 마이크로소프트(MS)의 10억 달러 투자 유치  ※ 비영리 단체인 OpenAI Inc. 와 영리 기업인 O penAI LP로 구성 Ⅰ 개요\\n\\n||2|||\\n|-|-|||']\n"
     ]
    }
   ],
   "source": [
    "data = read_vectordb_as_data(db_path=db_path)\n",
    "print(data['ids'][:5])\n",
    "print(data['metadatas'][:5])\n",
    "print(data['documents'][:5])"
   ]
  },
  {
   "cell_type": "code",
   "execution_count": 9,
   "metadata": {},
   "outputs": [
    {
     "data": {
      "text/plain": [
       "(array(['MANUAL', 'Rules', 'PORT'], dtype=object),\n",
       " array(['Common', 'Integrated Smart Ship(ISS)', 'ABS', 'DNV', 'KR',\n",
       "        'MARPOL', 'SOLAS', 'BV', 'Port Regulation', 'Win GD', 'Cryostar',\n",
       "        'LR'], dtype=object))"
      ]
     },
     "execution_count": 9,
     "metadata": {},
     "output_type": "execute_result"
    }
   ],
   "source": [
    "df[\"first_div\"].unique(), df[\"second_div\"].unique()"
   ]
  },
  {
   "cell_type": "code",
   "execution_count": 11,
   "metadata": {},
   "outputs": [
    {
     "data": {
      "text/plain": [
       "(191,\n",
       " array(['Act on Port Regulations_Japan_1948',\n",
       "        'Maritime and Port Authority of Singapore_2000',\n",
       "        'Port Information Guide_Rotterdam_2024',\n",
       "        'Port Regulations_EU_2017', 'Harbor Act_Republic of Korea_2017'],\n",
       "       dtype=object))"
      ]
     },
     "execution_count": 11,
     "metadata": {},
     "output_type": "execute_result"
    }
   ],
   "source": [
    "len(df[\"filename\"].unique()), df[df[\"second_div\"]==\"Port Regulation\"][\"filename\"].unique()"
   ]
  },
  {
   "cell_type": "code",
   "execution_count": 12,
   "metadata": {},
   "outputs": [
    {
     "data": {
      "text/plain": [
       "(72, 6)"
      ]
     },
     "execution_count": 12,
     "metadata": {},
     "output_type": "execute_result"
    }
   ],
   "source": [
    "df[df[\"filename\"]==\"Harbor Act_Republic of Korea_2017\"].shape"
   ]
  },
  {
   "cell_type": "code",
   "execution_count": 15,
   "metadata": {},
   "outputs": [
    {
     "name": "stdout",
     "output_type": "stream",
     "text": [
      "This page explains Harbor Act_Republic of Korea_2017, that belongs to catogories of PORT and Port Regulation./n24.10.19. 2 12:40 Statutes of the Republic of Korea. and utilizing the harbor hinterland complex, he/she may request the Minister of Oceans and Fisheries to amend the plan to develop the harbor hinterland complex.. <Amended by Act No,11690, Mar. 23, 2013> (5)A plan to develop a harbor hinterland complex referred to in paragraph (2) shall contain the followinq: Provided, That matters referred to in subparagraph 7 may be included in a plan to develop a harbor hinterland complex after the harbor hinterland complex is designated, if it is deemed inevitable to formulate the plan: <Amended by Act No. 12545, Mar. 24, 2014; Act No. 14452, Dec. 20, 2016> 1.The name, location, and area of the harbor hinterland complex;. 2.The purposes for which the harbor hinterland complex is designated; 3.An entity that implements the development project of the harbor hinterland complex, and a period for, and methods of, developing the harbor hinterland complex; 4.A land use plan and a plan to establish major\n",
      "This page explains Harbor Act_Republic of Korea_2017, that belongs to catogories of PORT and Port Regulation./n4.A land use plan and a plan to establish major infrastructure; 5.Major facilities to be located therein and the standards for the installation thereof; 6.A financing plan;. 7.A detailed list of land, buildings, other goods, and rights subject to expropriation or use, if any; 7- Land to be supplied as undeveloped under Article 60-3 and direction-setting for. 2. development (limited to the development of harbor hinterland complexes to which Article 46-2 (1) applies mutatis mutandis and where land to be supplied as undeveloped exists with regard to such development); 8.Other matters specified by Presidential Decree. Article 43 (Public Notice of Designation of Harbor Hinterland Complexes, etc.) When the Minister of Oceans and Fisheries designates a harbor hinterland complex or amends any term and condition of the designation of a harbor hinterland complex,. he/she shall give public notice of the matters specified by Presidential Decree through the Official Gazette or the official\n",
      "This page explains Harbor Act_Republic of Korea_2017, that belongs to catogories of PORT and Port Regulation./nthrough the Official Gazette or the official bulletin issued by the Special Metropolitan City, a Metropolitan City, a Do or a Special Self-Governing Province, as the case may be, and shall forward copies of relevant documents to the head of the competent Si/Gun/Gu (the head of a Gu means the head of an autonomous Gu; the same shall apply hereinafter). <Amended by Act No. 11690, Mar. 23, 2013> Article 44 (Cancellation of Designation of Harbor Hinterland Complexes) (1)If no implementation plan for a harbor hinterland complex development project for all or part of a harbor hinterland complex has been formulated within a period prescribed by Presidential Decree not exceeding five years from the date of designation and public announcement of the harbor hinterland complex, the designation of the area as a harbor hinterland complex shall be deemed cancelled on the day immediately after the expiration of such period: Provided, That the period may be extended by up to one. year, if the\n",
      "This page explains Harbor Act_Republic of Korea_2017, that belongs to catogories of PORT and Port Regulation./nperiod may be extended by up to one. year, if the formulation of the implementation plan for a harbor hinterland complex development project is delayed due to any natural disaster or other inevitable ground specified by Presidential Decree. <Amended by Act No. 14452, Dec. 20, 2016> (2)If any of the followings applies to a harbor hinterland complex, the Minister of Oceans and Fisheries may cancel designation of all or part of a harbor hinterland complex,. https://elaw.kIri.re.kr/eng_mobile/viewer.do?hseq=46264&type=part&key=42 19/56\n",
      "This page explains Harbor Act_Republic of Korea_2017, that belongs to catogories of PORT and Port Regulation./n24. 10. 19. 2 12:40 Statutes of the Republic of Korea. following deliberation by the Central Council, as prescribed by Presidential Decree. <Amended by Act No. 12545, Mar. 24, 2014> 1.Where it becomes impracticable to develop all or any part of the designated harbor hinterland complex according to the harbor hinterland complex development plan; 2.where it is deemed that the operation of the harbor would not be hindered even if the area designated as a Class 2 harbor hinterland complex is managed as an urban area Act, after the development of the harbor hinterland complex is completed according to the harbor hinterland development plan. (3)If the designation of a harbor hinterland complex is cancelled pursuant to paragraph (1) or (2), the Minister of Oceans and Fisheries shall notify the competent Mayor/Do Governor and the heads of the relevant administrative agencies of such fact and publicly announce the same. <Amended by Act No. 11690, Mar. 23, 2013> Article 45 Deleted. <by Act No.\n"
     ]
    }
   ],
   "source": [
    "for i in df[df[\"filename\"]==\"Harbor Act_Republic of Korea_2017\"][\"documents\"][-5:]:\n",
    "    print(i)"
   ]
  },
  {
   "cell_type": "code",
   "execution_count": 52,
   "metadata": {},
   "outputs": [
    {
     "data": {
      "text/plain": [
       "[(Document(metadata={'File Name': 'DNV Rules for Classification of Ships _2016_55_Nautical Safety', 'File Path': '/content/drive/MyDrive/Rules/DNV/DNV Rules for Classification of Ships _2016_55_Nautical Safety.pdf', 'First Division': 'Rules', 'Page': 82, 'Second Division': 'DNV'}, page_content='This page explains DNV Rules for Classification of Ships _2016_55_Nautical Safety, that belongs to catogories of Rules and DNV./nRules for Ships, January 2014  Pt.6 Ch.8 Sec.7 Network based integration of naviga tion systems (ICS) – Page 83 DET N ORSKE V ERITAS AS — time — ENC — radar video. 302  The position, heading and speed information shall b e displayed together with the indication of its sou rce. Guidance note: Sensor data, e.g. GYR 1, GYR 2, GPS 1, GPS 2, EM log, Dop pler log, GPS, radar 1, radar 2 etc.; -or result of calculation or manual input; -unit if ambiguous, e.g. UTC for time. ---e-n-d---of---G-u-i-d-a-n-c-e---n-o-t-e-- 303  Display of sensor output data The ICS shall be capable of displaying non-processe d information directly from the output data availab le from the sensors upon request from the user. Guidance note: It shall be possible for the OOW to call upon and read the stream of received IEC61162 messages (ASCII) from sensors in a separate window. ---e-n-d---of---G-u-i-d-a-n-c-e---n-o-t-e-- C 400 Accuracy and performance 401  The ICS processing shall not degrade the attributes of the'),\n",
       "  0.2513917228469573),\n",
       " (Document(metadata={'File Name': 'DNV Rules for Classification of Ships _2016_67_Nautical Safety – Offshore Service Vessels', 'File Path': '/content/drive/MyDrive/Rules/DNV/DNV Rules for Classification of Ships _2016_67_Nautical Safety – Offshore Service Vessels.pdf', 'First Division': 'Rules', 'Page': 52, 'Second Division': 'DNV'}, page_content=\"This page explains DNV Rules for Classification of Ships _2016_67_Nautical Safety – Offshore Service Vessels, that belongs to catogories of Rules and DNV./nworkstation monitoring. See IEC 61174 Annex G for further details about ECD IS Back-up. ---e-n-d---of---G-u-i-d-a-n-c-e---n-o-t-e-- 703  ECDIS shall be able to transfer route information t o chart radar for enabling display of active route on the chart radar. Guidance note: Route information shall be in accordance with IEC 61162 and shall be possible to send directly to chart radar without use of external media such as diskettes. ---e-n-d---of---G-u-i-d-a-n-c-e---n-o-t-e-- B 800 AIS MKD 801  The ECDIS and/or the radar installed at the worksta tion for navigating & manoeuvring shall support the AIS MKD (possibility to operate the AIS from the wo rkstation). B 900 Bridge navigational watch alarm system (BNWAS) 901  The ship's wheelhouse shall be equipped with a surv eillance system continuously monitoring the presence of an alert OOW. The BNWAS shall maintain supervision of the wheelhouse to ensure the navigational watch being attended when the ship is underway at sea. The BNWAS system\"),\n",
       "  0.23287534789066622),\n",
       " (Document(metadata={'File Name': 'DNV Rules for Classification of Ships _2016_55_Nautical Safety', 'File Path': '/content/drive/MyDrive/Rules/DNV/DNV Rules for Classification of Ships _2016_55_Nautical Safety.pdf', 'First Division': 'Rules', 'Page': 82, 'Second Division': 'DNV'}, page_content='This page explains DNV Rules for Classification of Ships _2016_55_Nautical Safety, that belongs to catogories of Rules and DNV./nshall not degrade the attributes of the essential information being provided by the sensors. Guidance note: Such attributes include accuracy, update rate, range, resolut ion, validity, etc. as specified in the relevant internati onal standards. ---e-n-d---of---G-u-i-d-a-n-c-e---n-o-t-e-- 402  Latency of data Data latency shall be consistent with the data requ irements of the individual parts and their relevant international standards. Guidance note: The latency should be less than 1.0 second for information to be di splayed only while it should be less than 0.1 seconds for information being critical for the performance of an automa tic control system, e.g. heading in HCS. ---e-n-d---of---G-u-i-d-a-n-c-e---n-o-t-e-- 403  Consistent common reference system The ICS shall ensure that essential sensor informat ion is distributed to the relevant parts of the sys tem, applying a consistent common reference system. The ICS shall ensure that: — all parts and displays are provided with the same'),\n",
       "  0.21835752874630066)]"
      ]
     },
     "execution_count": 52,
     "metadata": {},
     "output_type": "execute_result"
    }
   ],
   "source": [
    "def similarity_search(query:str, db_path:str, k:int=3):\n",
    "    vector_store = Chroma(collection_name=\"collection_01\", persist_directory=db_path, embedding_function=OllamaEmbeddings(model=\"bge-m3:latest\"))\n",
    "    results = vector_store.similarity_search_with_relevance_scores(query, k=k)\n",
    "    return results\n",
    "\n",
    "query = \"\"\"\n",
    "what is the noon report in iss system?\n",
    "\"\"\"\n",
    "res1 = similarity_search(query=query, db_path=db_path, k=3)\n",
    "res1"
   ]
  },
  {
   "cell_type": "code",
   "execution_count": null,
   "metadata": {},
   "outputs": [],
   "source": []
  }
 ],
 "metadata": {
  "kernelspec": {
   "display_name": ".venv",
   "language": "python",
   "name": "python3"
  },
  "language_info": {
   "codemirror_mode": {
    "name": "ipython",
    "version": 3
   },
   "file_extension": ".py",
   "mimetype": "text/x-python",
   "name": "python",
   "nbconvert_exporter": "python",
   "pygments_lexer": "ipython3",
   "version": "3.12.7"
  }
 },
 "nbformat": 4,
 "nbformat_minor": 2
}
