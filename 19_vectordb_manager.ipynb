{
 "cells": [
  {
   "cell_type": "code",
   "execution_count": 12,
   "metadata": {},
   "outputs": [],
   "source": [
    "import chromadb\n",
    "from langchain_chroma import Chroma\n",
    "from langchain_ollama import OllamaEmbeddings\n",
    "from pprint import pprint\n",
    "import pandas as pd"
   ]
  },
  {
   "cell_type": "code",
   "execution_count": 13,
   "metadata": {},
   "outputs": [],
   "source": [
    "def read_vectordb_as_df(db_path:str):\n",
    "    client = chromadb.PersistentClient(path=db_path)\n",
    "    for collection in client.list_collections():\n",
    "        data = collection.get(include=['embeddings', 'documents', 'metadatas'])\n",
    "        df = pd.DataFrame({\"ids\":data[\"ids\"], \n",
    "                            \"metadatas\":data[\"metadatas\"], \n",
    "                            \"documents\":data[\"documents\"]})\n",
    "        df[\"first_div\"] = df[\"metadatas\"].apply(lambda x: x[\"First Division\"])\n",
    "        df[\"second_div\"] = df[\"metadatas\"].apply(lambda x: x[\"Second Division\"])\n",
    "        df[\"filename\"] = df[\"metadatas\"].apply(lambda x: x[\"File Name\"])\n",
    "        df = df[[\"ids\", \"first_div\", \"second_div\",\"filename\",\"documents\", \"metadatas\"]]\n",
    "    return df"
   ]
  },
  {
   "cell_type": "code",
   "execution_count": 23,
   "metadata": {},
   "outputs": [],
   "source": [
    "def read_vectordb_as_data(db_path:str):\n",
    "    client = chromadb.PersistentClient(path=db_path)\n",
    "    for collection in client.list_collections():\n",
    "        data = collection.get(include=['embeddings', 'documents', 'metadatas'])\n",
    "    return data"
   ]
  },
  {
   "cell_type": "code",
   "execution_count": 14,
   "metadata": {},
   "outputs": [],
   "source": [
    "def delete_document(filename:str, db_path:str):\n",
    "  vector_store = Chroma(collection_name=\"collection_01\", persist_directory=db_path, embedding_function=OllamaEmbeddings(model=\"bge-m3:latest\"))\n",
    "  del_ids = vector_store.get(where={'File Name':filename})[\"ids\"]\n",
    "  vector_store.delete(del_ids)\n",
    "  print(\"Document is deleted\")"
   ]
  },
  {
   "cell_type": "code",
   "execution_count": 32,
   "metadata": {},
   "outputs": [
    {
     "name": "stdout",
     "output_type": "stream",
     "text": [
      "<langchain_chroma.vectorstores.Chroma object at 0x0000021E4EE7E360>\n"
     ]
    }
   ],
   "source": [
    "db_path = \"./db/chroma_db_02\"\n",
    "vector_store = Chroma(collection_name=\"my_collection\", persist_directory=db_path, embedding_function=OllamaEmbeddings(model=\"bge-m3:latest\"))\n",
    "print(vector_store)"
   ]
  },
  {
   "cell_type": "code",
   "execution_count": 39,
   "metadata": {},
   "outputs": [
    {
     "data": {
      "text/html": [
       "<div>\n",
       "<style scoped>\n",
       "    .dataframe tbody tr th:only-of-type {\n",
       "        vertical-align: middle;\n",
       "    }\n",
       "\n",
       "    .dataframe tbody tr th {\n",
       "        vertical-align: top;\n",
       "    }\n",
       "\n",
       "    .dataframe thead th {\n",
       "        text-align: right;\n",
       "    }\n",
       "</style>\n",
       "<table border=\"1\" class=\"dataframe\">\n",
       "  <thead>\n",
       "    <tr style=\"text-align: right;\">\n",
       "      <th></th>\n",
       "      <th>ids</th>\n",
       "      <th>first_div</th>\n",
       "      <th>second_div</th>\n",
       "      <th>filename</th>\n",
       "      <th>documents</th>\n",
       "      <th>metadatas</th>\n",
       "    </tr>\n",
       "  </thead>\n",
       "  <tbody>\n",
       "    <tr>\n",
       "      <th>0</th>\n",
       "      <td>faace8c4-ab2c-43b4-9b4e-7fc15319bc78</td>\n",
       "      <td>MANUAL</td>\n",
       "      <td>Common</td>\n",
       "      <td>[KISA Insight 2023 Vol.03] ChatGPT(챗GPT) 보ᄋ...</td>\n",
       "      <td>This page explains [KISA Insight 2023 Vol.03] ...</td>\n",
       "      <td>{'File Name': '[KISA Insight 2023 Vol.03] Chat...</td>\n",
       "    </tr>\n",
       "    <tr>\n",
       "      <th>1</th>\n",
       "      <td>1a3d1b93-e5d3-4a96-990d-e4ba6b976e29</td>\n",
       "      <td>MANUAL</td>\n",
       "      <td>Common</td>\n",
       "      <td>[KISA Insight 2023 Vol.03] ChatGPT(챗GPT) 보ᄋ...</td>\n",
       "      <td>This page explains [KISA Insight 2023 Vol.03] ...</td>\n",
       "      <td>{'File Name': '[KISA Insight 2023 Vol.03] Chat...</td>\n",
       "    </tr>\n",
       "    <tr>\n",
       "      <th>2</th>\n",
       "      <td>f67ce384-3df7-4ffe-aa13-9d187d73cb13</td>\n",
       "      <td>MANUAL</td>\n",
       "      <td>Common</td>\n",
       "      <td>[KISA Insight 2023 Vol.03] ChatGPT(챗GPT) 보ᄋ...</td>\n",
       "      <td>This page explains [KISA Insight 2023 Vol.03] ...</td>\n",
       "      <td>{'File Name': '[KISA Insight 2023 Vol.03] Chat...</td>\n",
       "    </tr>\n",
       "    <tr>\n",
       "      <th>3</th>\n",
       "      <td>5f7bdc1f-deb2-4f3d-9afb-2eafbf5d5192</td>\n",
       "      <td>MANUAL</td>\n",
       "      <td>Common</td>\n",
       "      <td>[KISA Insight 2023 Vol.03] ChatGPT(챗GPT) 보ᄋ...</td>\n",
       "      <td>This page explains [KISA Insight 2023 Vol.03] ...</td>\n",
       "      <td>{'File Name': '[KISA Insight 2023 Vol.03] Chat...</td>\n",
       "    </tr>\n",
       "    <tr>\n",
       "      <th>4</th>\n",
       "      <td>5edec5fa-fdde-41e4-a688-b77fb1fb75c3</td>\n",
       "      <td>MANUAL</td>\n",
       "      <td>Common</td>\n",
       "      <td>[KISA Insight 2023 Vol.03] ChatGPT(챗GPT) 보ᄋ...</td>\n",
       "      <td>This page explains [KISA Insight 2023 Vol.03] ...</td>\n",
       "      <td>{'File Name': '[KISA Insight 2023 Vol.03] Chat...</td>\n",
       "    </tr>\n",
       "  </tbody>\n",
       "</table>\n",
       "</div>"
      ],
      "text/plain": [
       "                                    ids first_div second_div  \\\n",
       "0  faace8c4-ab2c-43b4-9b4e-7fc15319bc78    MANUAL     Common   \n",
       "1  1a3d1b93-e5d3-4a96-990d-e4ba6b976e29    MANUAL     Common   \n",
       "2  f67ce384-3df7-4ffe-aa13-9d187d73cb13    MANUAL     Common   \n",
       "3  5f7bdc1f-deb2-4f3d-9afb-2eafbf5d5192    MANUAL     Common   \n",
       "4  5edec5fa-fdde-41e4-a688-b77fb1fb75c3    MANUAL     Common   \n",
       "\n",
       "                                            filename  \\\n",
       "0  [KISA Insight 2023 Vol.03] ChatGPT(챗GPT) 보ᄋ...   \n",
       "1  [KISA Insight 2023 Vol.03] ChatGPT(챗GPT) 보ᄋ...   \n",
       "2  [KISA Insight 2023 Vol.03] ChatGPT(챗GPT) 보ᄋ...   \n",
       "3  [KISA Insight 2023 Vol.03] ChatGPT(챗GPT) 보ᄋ...   \n",
       "4  [KISA Insight 2023 Vol.03] ChatGPT(챗GPT) 보ᄋ...   \n",
       "\n",
       "                                           documents  \\\n",
       "0  This page explains [KISA Insight 2023 Vol.03] ...   \n",
       "1  This page explains [KISA Insight 2023 Vol.03] ...   \n",
       "2  This page explains [KISA Insight 2023 Vol.03] ...   \n",
       "3  This page explains [KISA Insight 2023 Vol.03] ...   \n",
       "4  This page explains [KISA Insight 2023 Vol.03] ...   \n",
       "\n",
       "                                           metadatas  \n",
       "0  {'File Name': '[KISA Insight 2023 Vol.03] Chat...  \n",
       "1  {'File Name': '[KISA Insight 2023 Vol.03] Chat...  \n",
       "2  {'File Name': '[KISA Insight 2023 Vol.03] Chat...  \n",
       "3  {'File Name': '[KISA Insight 2023 Vol.03] Chat...  \n",
       "4  {'File Name': '[KISA Insight 2023 Vol.03] Chat...  "
      ]
     },
     "execution_count": 39,
     "metadata": {},
     "output_type": "execute_result"
    }
   ],
   "source": [
    "df = read_vectordb_as_df(db_path=db_path)\n",
    "df.head()"
   ]
  },
  {
   "cell_type": "code",
   "execution_count": 40,
   "metadata": {},
   "outputs": [
    {
     "name": "stdout",
     "output_type": "stream",
     "text": [
      "['faace8c4-ab2c-43b4-9b4e-7fc15319bc78', '1a3d1b93-e5d3-4a96-990d-e4ba6b976e29', 'f67ce384-3df7-4ffe-aa13-9d187d73cb13', '5f7bdc1f-deb2-4f3d-9afb-2eafbf5d5192', '5edec5fa-fdde-41e4-a688-b77fb1fb75c3']\n",
      "[{'File Name': '[KISA Insight 2023 Vol.03] ChatGPT(챗GPT) 보안 위협과 시사점', 'File Path': '/content/drive/MyDrive/MANUAL/Common/[KISA Insight 2023 Vol.03] ChatGPT(챗GPT) 보안 위협과 시사점.pdf', 'First Division': 'MANUAL', 'Page': 0, 'Second Division': 'Common'}, {'File Name': '[KISA Insight 2023 Vol.03] ChatGPT(챗GPT) 보안 위협과 시사점', 'File Path': '/content/drive/MyDrive/MANUAL/Common/[KISA Insight 2023 Vol.03] ChatGPT(챗GPT) 보안 위협과 시사점.pdf', 'First Division': 'MANUAL', 'Page': 1, 'Second Division': 'Common'}, {'File Name': '[KISA Insight 2023 Vol.03] ChatGPT(챗GPT) 보안 위협과 시사점', 'File Path': '/content/drive/MyDrive/MANUAL/Common/[KISA Insight 2023 Vol.03] ChatGPT(챗GPT) 보안 위협과 시사점.pdf', 'First Division': 'MANUAL', 'Page': 2, 'Second Division': 'Common'}, {'File Name': '[KISA Insight 2023 Vol.03] ChatGPT(챗GPT) 보안 위협과 시사점', 'File Path': '/content/drive/MyDrive/MANUAL/Common/[KISA Insight 2023 Vol.03] ChatGPT(챗GPT) 보안 위협과 시사점.pdf', 'First Division': 'MANUAL', 'Page': 3, 'Second Division': 'Common'}, {'File Name': '[KISA Insight 2023 Vol.03] ChatGPT(챗GPT) 보안 위협과 시사점', 'File Path': '/content/drive/MyDrive/MANUAL/Common/[KISA Insight 2023 Vol.03] ChatGPT(챗GPT) 보안 위협과 시사점.pdf', 'First Division': 'MANUAL', 'Page': 4, 'Second Division': 'Common'}]\n",
      "['This page explains [KISA Insight 2023 Vol.03] ChatGPT(챗GPT) 보안 위협과 시사점, that belongs to catogories of MANUAL and Common./nChatGPT (챗GPT) 보안 위협과 시사점 한국인터넷진흥원(KISA) 김도원, 김성훈, 이재광, 박정훈, 김병재, 정태인, 최은아2023 VOL. 3', 'This page explains [KISA Insight 2023 Vol.03] ChatGPT(챗GPT) 보안 위협과 시사점, that belongs to catogories of MANUAL and Common./nⅠ 개요 1-1. ChatGPT 2 1-2. ChatGPT에 대한 평가 6 ⅡChatGPT 보안 이슈 및 활용 ･규제 동향 2-1. 보안 이슈 동향 8 2-2. 활용 ･규제 동향 12 ⅢChatGPT 주요 보안 위협 분석 3-1. 피싱 메일 및 악성코드 생성 17 3-2. 민감정보 유출과 결과물 오남용 22 3-3. 인공지능에 대한 공격 24 Ⅳ시사점 4-1. 악용에 대한 선제적 대응 254-2. 안전한 활용 및 도입 촉진 25 4-3. 인공지능 보안 정책 마련 26ChatGPT (챗GPT) 보안 위협과 시사점2023 VOL. 3', 'This page explains [KISA Insight 2023 Vol.03] ChatGPT(챗GPT) 보안 위협과 시사점, that belongs to catogories of MANUAL and Common./n『KISA Insight』는 디지털·정보보호 관련 글로벌 트렌드 및 주요 이슈를 분석하여 정책 자료로 활용하기 위해 한국인터넷진흥원에서 기획, 발간하는 심층보고서입니다. 한국인터넷진흥원의 승인 없이 본 보고서의 무단전재나 복제를 금하며 인용하실 때는 반드시 『KISA Insight』라고 밝혀주시기 바랍니다. 본문 내용은 한국인터넷진흥원의 공식 견해가 아님을 알려드립니다. [작성] 한국인터넷진흥원(KISA) 미래정책연구실 정책개발팀 김성훈 팀장 김도원 선임연구원 061-820-1426 061-820-1228 shkim@kisa.or.kr dowonkim@kisa.or.kr 한국인터넷진흥원(KISA) 사이버침해대응본부 종합분석팀 (악성코드 생성 테스트) 이재광 팀장 박정훈 수석연구원 김병재 책임연구원 02-405-5662 02-405-5542 02-405-5297 leejk@kisa.or.kr pack@kisa.or.kr kimbyeongjae@kisa.or.kr 한국인터넷진흥원(KISA) 개인정보본부 개인정보협력팀 (이탈리아 단독처분) 정태인 팀장 최은아 선임연구원 061-820-1804 061-820-1438 tijung@kisa.or.kr euna.choi@kisa.or.kr', 'This page explains [KISA Insight 2023 Vol.03] ChatGPT(챗GPT) 보안 위협과 시사점, that belongs to catogories of MANUAL and Common./nChatGPT가 출시되면서 혁신적인 기 능으로 인해 주목을 받고 있지만, 그에 따른 부작용으로 인한 다양한 보안 이슈도 발발 ∙ ChatGPT의 혁신적인 결과물 생산으로 출시됨과 동시에 폭발적인 관심 을 받았으며, 비즈니스 과정 에서 생산성을 향상 시키고, 의료, 법률, 미디어 등 다양한 산업 분야 에 활용되어 큰 영향을 줄 수 있음 ∙ 거짓 답변 을 사실처럼 대답 하거나, 최신 정보 에 대한 내용은 답변하지 못하는 등 다양한 한계점이 존재 하며, ChatGPT 활용 과정에서 다양한 부작용 발생 가능 보안 전문가들은 ChatGPT가 사이버 범죄에 악용될 수 있다고 전망하며, 해외 주요국 및 기업 등에서는 인공지능에 대한 규제 논의가 촉진되고 있음 ∙ ChatGPT 개발사인 OpenAI는 ChatGPT가 안전하게 활용 될 수 있도록, 해당 서비스의 활용 을 허용하지 않는 용도 를 제시 ∙ 보안 전문가들도 ChatGPT 가 좋은 목적으로 활용 될 수 있고 사이버보안 활동 에도 도움을 줄 수 있지만, 사이버 범죄 에도 얼마든지 활용될 수 있음 을 강조 ∙ 이탈리아 는 ChatGPT 접속을 일시적으로 차단 하였다가 OpenAI의 보안 조치 후 다시 해제 하였으며, EU나 미국 등에서 인공지능 규제 에 대한 논의 촉진 ChatGPT의 결과물이 사이버 공격에 악용되거나, 민감정보 유출 및 결과물 오남용 문제가 발생할 수 있으며, 인공 지능 모델에 대한 공격도 고려 필요 ∙ 공격자들은 피싱 메일 작성, 악성코드 생성 등 ChatGPT의 결과물 을 사이버 공격에 활용하거나, ChatGPT를 통해 사이버 위협 행위에 대한 도움 을 받을 수 있음 ∙ 무분별한 입력으로 민감정보 의 유출 가능성이 존재 하며, ChatGPT의 잘못된 결과물 생산은 잘못된 정보의 오용 및 확산 이나 다양한 보안 문제 등을 야기할 수 있음 ∙ 인공지능 모델 고유의 보안 위협 이 존재하며, 개발 단계부터 안전한 활용단계까지  보안 위협에 대한 대응방안 마련 필요요 약', 'This page explains [KISA Insight 2023 Vol.03] ChatGPT(챗GPT) 보안 위협과 시사점, that belongs to catogories of MANUAL and Common./n2023 VOL. 3 21-1. ChatGPT ChatGPT, 초거대 인공지능이라는 게임 체인저의 시발점 ∙ ChatGPT 는 언어 처리 인공지능 모델인 GPT-3.5와 GPT-4를 기반으로 하는 대화형 인공지능 서비스 ’22년 11월 , 인공지능 연구기관인 OpenAI 가 GPT-3.5를 기반으로 제작된 ChatGPT 공개 ’23년 3월 , OpenAI는 성능이 개선된 GPT-4를 공개 하였으며, ChatGPT의 유료서비스*를 통해 사용 가능  * ChatGPT Plus : 원활한 접속 및 빠른 응답시간, 새로운 기능을 먼저 사용할 수 있는 구독형 서 비스($20/월) ∙ 텍스트 생성 (이메일, 기사, 시 ･소설 등) , 답변, 대화, 번역, 요약, 소스코드 생성 및 수정 등 가능 상위모델인 GPT-4는 이미지 입력까지 가능하나 아직 ChatGPT에 구현되지 않음 ∙ 기존 챗봇 은 단답형 대화 나 주어진 정보 내에서 답변 이 가능했다면, ChatGPT는 사용자가 입력한 텍스트의 맥락 을 이해하고 과거 대화를 기억 함으로써 일상적인 언어 를 통해 사람과 의사소통 가능 ∙ 미국 와튼스쿨 MBA, 미국 의사면허시험 (USMLE) 등을 통과하는 성능을 보였으며, GPT-4 는 미국 변호사 시험 에서 상위 10%의 점수 를 받을 수 있을만큼 성능 향상  ※ GPT 미국 변호사 시험 점수 : GPT-3.5(213점/400점 ) → GPT-4(298점/400점) 인류에게 이익을 주기위한 인 공지능 회사, OpenAI ∙ ’15년 12월, 샘 알트만, 일론 머스크, 일리야 서츠케버, 그렉 브로만 등은 안전한 인공지능 개발 및 발전 을 위해 비영리기관 OpenAI 설립 비영리기관으로 설립된 OpenAI는 초거대 인공지능 모델 ‘GPT’ 개발에 착수 하면서, ’19년 영리기업을 분리 등록 하면서 마이크로소프트(MS)의 10억 달러 투자 유치  ※ 비영리 단체인 OpenAI Inc. 와 영리 기업인 O penAI LP로 구성 Ⅰ 개요\\n\\n||2|||\\n|-|-|||']\n"
     ]
    }
   ],
   "source": [
    "data = read_vectordb_as_data(db_path=db_path)\n",
    "print(data['ids'][:5])\n",
    "print(data['metadatas'][:5])\n",
    "print(data['documents'][:5])"
   ]
  },
  {
   "cell_type": "code",
   "execution_count": 35,
   "metadata": {},
   "outputs": [
    {
     "data": {
      "text/plain": [
       "(array(['MANUAL', 'Rules', 'PORT'], dtype=object),\n",
       " array(['Common', 'Integrated Smart Ship(ISS)', 'ABS', 'DNV', 'KR',\n",
       "        'MARPOL', 'SOLAS', 'BV', 'Port Regulation', 'Win GD', 'Cryostar'],\n",
       "       dtype=object))"
      ]
     },
     "execution_count": 35,
     "metadata": {},
     "output_type": "execute_result"
    }
   ],
   "source": [
    "df[\"first_div\"].unique(), df[\"second_div\"].unique()"
   ]
  },
  {
   "cell_type": "code",
   "execution_count": 36,
   "metadata": {},
   "outputs": [
    {
     "data": {
      "text/plain": [
       "(179,\n",
       " array(['[KISA Insight 2023 Vol.03] ChatGPT(챗GPT) 보안 위협과 시사점',\n",
       "        'Integrated Smart Ship(ISS1.0)',\n",
       "        '00-part-1A-ships-jul24_Conditions of Classification',\n",
       "        '00-part-1D-alternative-jan24_ Alternative Arrangements, Novel Concepts and New Technologies',\n",
       "        'DNV Rules for Classification of Ships _2016_07_User information and current rule chapters',\n",
       "        'DNV Rules for Classification of Ships _2016_08_Introduction to Ship Classification',\n",
       "        'DNV Rules for Classification of Ships _2016_09_Plan Approval Documentation Types – Definitions',\n",
       "        'DNV Rules for Classification of Ships _2016_11_General regulations',\n",
       "        'DNV Rules for Classification of Ships _2016_12_Class notations',\n",
       "        'DNV Rules for Classification of Ships _2016_14_General Requirements for Materials',\n",
       "        'DNV Rules for Classification of Ships _2016_15_Metallic materials',\n",
       "        'DNV Rules for Classification of Ships _2016_16_Fabrication and testing of ships',\n",
       "        'DNV Rules for Classification of Ships _2016_18_Hull structural design - Ships with length 100 metres and above',\n",
       "        'DNV Rules for Classification of Ships _2016_19_Hull structural design - Ships with length less than 100 metres',\n",
       "        'DNV Rules for Classification of Ships _2016_20_Hull equipment and safety',\n",
       "        'DNV Rules for Classification of Ships _2016_22_Machinery systems - general',\n",
       "        'DNV Rules for Classification of Ships _2016_23_Rotating Machinery, General',\n",
       "        'DNV Rules for Classification of Ships _2016_24_Rotating machinery, drivers',\n",
       "        'DNV Rules for Classification of Ships _2016_25_Rotating machinery - power transmission',\n",
       "        'DNV Rules for Classification of Ships _2016_26_Rotating Machinery, Driven Units',\n",
       "        'DNV Rules for Classification of Ships _2016_27_Piping systems',\n",
       "        'DNV Rules for Classification of Ships _2016_28_Pressure Vessels',\n",
       "        'DNV Rules for Classification of Ships _2016_29_Electrical installations',\n",
       "        'DNV Rules for Classification of Ships _2016_30_Control and Monitoring Systems',\n",
       "        'DNV Rules for Classification of Ships _2016_31_Fire Safety',\n",
       "        'DNV Rules for Classification of Ships _2016_32_Steering Gear',\n",
       "        'DNV Rules for Classification of Ships _2016_34_Ships for navigation in ice',\n",
       "        'DNV Rules for Classification of Ships _2016_35_Passenger and dry cargo ships',\n",
       "        'DNV Rules for Classification of Ships _2016_36_Oil carriers',\n",
       "        'DNV Rules for Classification of Ships _2016_37_Chemical carriers',\n",
       "        'DNV Rules for Classification of Ships _2016_38_Liquefied gas carriers',\n",
       "        'DNV Rules for Classification of Ships _2016_44_Carriage of Potable Water',\n",
       "        'DNV Rules for Classification of Ships _2016_45_Naval and Naval Support Vessels',\n",
       "        'DNV Rules for Classification of Ships _2016_46_Compressed natural gas carriers',\n",
       "        'DNV Rules for Classification of Ships _2016_47_Diving Support Vessels and Diving Systems',\n",
       "        'DNV Rules for Classification of Ships _2016_49_Miscellaneous Notations',\n",
       "        'DNV Rules for Classification of Ships _2016_50_Redundant Propulsion',\n",
       "        'DNV Rules for Classification of Ships _2016_51_Periodically Unattended Machinery Space',\n",
       "        'DNV Rules for Classification of Ships _2016_52_Additional Fire Protection (F-AMC)',\n",
       "        'DNV Rules for Classification of Ships _2016_53_Centralised Cargo Control for Liquid Cargoes',\n",
       "        'DNV Rules for Classification of Ships _2016_54_Dynamic Positioning Systems',\n",
       "        'DNV Rules for Classification of Ships _2016_55_Nautical Safety',\n",
       "        'DNV Rules for Classification of Ships _2016_56_Loading Computer Systems (LCS) for Stability and Longitudinal Strength',\n",
       "        'DNV Rules for Classification of Ships _2016_57_Vapour control systems',\n",
       "        'DNV Rules for Classification of Ships _2016_58_Hull Monitoring Systems',\n",
       "        'DNV Rules for Classification of Ships _2016_59_Environmental class',\n",
       "        'DNV Rules for Classification of Ships _2016_60_Gas fuelled ship installations',\n",
       "        'DNV Rules for Classification of Ships _2016_61_Fuel Treatment and Conditioning Systems',\n",
       "        'DNV Rules for Classification of Ships _2016_62_Vibration Class',\n",
       "        'DNV Rules for Classification of Ships _2016_63_NAV-O Class Notation',\n",
       "        'DNV Rules for Classification of Ships _2016_64_Safety of Navigation for Naval Vessels',\n",
       "        'DNV Rules for Classification of Ships _2016_65_Ballast water management',\n",
       "        'DNV Rules for Classification of Ships _2016_66_Alternative Propulsion',\n",
       "        'DNV Rules for Classification of Ships _2016_67_Nautical Safety – Offshore Service Vessels',\n",
       "        'DNV Rules for Classification of Ships _2016_68_Enhanced System Verification',\n",
       "        'DNV Rules for Classification of Ships _2016_69_Fuel Cell Installations',\n",
       "        'DNV Rules for Classification of Ships _2016_70_SILENT Class Notation',\n",
       "        'DNV Rules for Classification of Ships _2016_71_Systems and Arrangement for Meeting Regulations in Emission Control Areas (ECA)',\n",
       "        'DNV Rules for Classification of Ships _2016_72_Dynamic positioning system with enhanced reliability',\n",
       "        'DNV Rules for Classification of Ships _2016_73_Recycling',\n",
       "        'DNV Rules for Classification of Ships _2016_74_Tentative rules for battery power',\n",
       "        'DNV Rules for Classification of Ships _2016_75_Electrical Shore Connections',\n",
       "        'DNV Rules for Classification of Ships _2016_76_Regasification',\n",
       "        'DNV Rules for Classification of Ships _2016_77_Coating',\n",
       "        'DNV Rules for Classification of Ships _2016_78_Tentative rules for low flashpoint liquid fuelled ship installations',\n",
       "        'DNV Rules for Classification of Ships _2016_79_Comfort Class',\n",
       "        'DNV Rules for Classification of Ships _2016_80_Boiler Monitoring',\n",
       "        'DNV Rules for Classification of Ships _2016_81_Tentative rules for Gas ready ships',\n",
       "        'DNV Rules for Classification of Ships _2016_82_Gas bunker vessels',\n",
       "        'DNV Rules for Classification of Ships _2016_84_Survey requirements for fleet in service',\n",
       "        'DNV Rules for Classification of Ships _2016_85_Retroactive Requirements',\n",
       "        'DNV Rules for Classification of Ships _2016_86_IACS Common structural rules for bulk carriers and oil tankers',\n",
       "        'DNV Rules for Classification of Ships _2016_86_Main-changes',\n",
       "        'DNV Rules for Classification of Ships _2016_Contents',\n",
       "        'Casebook on Interpretations_Eng_2022',\n",
       "        'Guidance for Approval of Risk-based Ship Design_2015',\n",
       "        'Guidance for Approval of Service Suppliers_2024',\n",
       "        'Guidance for Autonomous Ships_2024',\n",
       "        'Guidance for Battery Systems on Board Ships_2024',\n",
       "        'Guidance for Cyber Resilience of Ships and Systems_2024',\n",
       "        'Guidance for Fatigue Strength Assessment Including Springing_2020',\n",
       "        'Guidance for Floating LNG Bunkering Terminal_2018',\n",
       "        'Guidance for LNG Fuel Ready Ships_2021',\n",
       "        'Guidance for Maritime Cyber security System_2024',\n",
       "        'Guidance for Noise and Vibration_2020',\n",
       "        'Guidance for Shiplift and Transfer Systems_2017',\n",
       "        'Guidance for Ships for Navigation in Ice_2024',\n",
       "        'Guidance for Smart Systems_2024',\n",
       "        'Guidance for Strength Assessment of Membrane-Type LNG Tanks under Sloshing Loads_2022',\n",
       "        'Guidance for Structural Strength Assessment of Pump Tower of LNG Carriers_2017',\n",
       "        'Guidance on Strength Assessment of Container ships Considering the Whipping Effect_2024',\n",
       "        'Introduction to the Classification Technical Rules_2024',\n",
       "        'KR Notation Guide_2024', 'PART 4_2024_Hull Equipment',\n",
       "        'PART 6_2024_Electrical Equipment and Control System',\n",
       "        'PART 10_2024_Hull Structure and Equipment of Small Stell Ships',\n",
       "        'PART 8_2024_Fire protection and Fire Extinction',\n",
       "        'Class_News_16_2020_RESOLUTION_MEPC.316_74__',\n",
       "        'Class_News_16_2020_RESOLUTION_MEPC.317_74__',\n",
       "        'Class_News_RESOLUTION_MEPC.314_74_', 'MEPC.248(66)',\n",
       "        'MEPC.251(66)', 'MEPC.258(67)', 'MEPC.266(68)', 'MEPC.271(69)',\n",
       "        'MEPC.274(69)', 'MEPC.275(69)', 'MEPC.277(70)', 'MEPC.278(70)',\n",
       "        'MEPC.286(71)', 'MEPC.305(73)', 'MEPC.324(75)', 'MEPC.360(79)',\n",
       "        'MEPC.381(80)', 'MEPC.382(80)',\n",
       "        'Res_MEPC_361_79____Amendments_to_Annex_VI___MED_SECA',\n",
       "        'Resolution_MEPC.329_76_',\n",
       "        'Focus on IMO - SOLAS, the International Convention for the Safety, of Life at Sea, 1974 (October 1998)',\n",
       "        'SOLAS_volume-1184-I-18961-English',\n",
       "        'Approval testing of welders_476-NR_2022-01',\n",
       "        'Classification of compressed natural gas carriers_517-NR_2007-04',\n",
       "        'Ammonia-fuelled ships - Tentative Rules_671-NR_2024-09',\n",
       "        'Approval of computerized maintenance management systems used on board ships_496-NR_2022-07',\n",
       "        'Approval of service suppliers_533-NR_2024-02',\n",
       "        'Approval of the manufacturing process of metallic materials_480-NR_2024-07',\n",
       "        'Classification and certification of high integrity protection system (HIPS)_524-NI_2006-11',\n",
       "        'Classification of floating gas units_542-NR_2019-05',\n",
       "        'Classification of mooring systems for permanent and mobile offshore units_493-NR_2021-07',\n",
       "        'Coating performance standard_530-NR_2023-07',\n",
       "        'Condition monitoring systems_674-NR_2024-07',\n",
       "        'Construction survey of steel structures of offshore units and installations_426-NR_2024-01',\n",
       "        'Container lashing assessment_648-NI_2018-10',\n",
       "        'Emergency response service (ERS)_556-NR_2023-04',\n",
       "        'Gas fuelled ships_529-NR_2024-07',\n",
       "        'Green passport_528-NR_2024-07',\n",
       "        'Guidelines for corrosion protection of seawater ballast tanks and hold spaces_409-NI_1995-09',\n",
       "        'Guidelines for management of COVID-19 and infectious diseases_673-NI_2020-06',\n",
       "        'Guidelines for the use of low sulphur fuel oils (IMO 2020 compliance)_559-NI_2019-05',\n",
       "        'Hull arrangement, stability and systems for ships less than 500 GT_566-NR_2022-07',\n",
       "        'LNG Carrier conversion to FSRU or FSU_655-NI_2018-07',\n",
       "        'Methanol and Ethanol Fuelled Ships_670-NR_2024-07',\n",
       "        'Power generation units_656-NR_2018-11',\n",
       "        'RULES FOR THE CLASSIFICATION OF STEEL SHIPS_467-NR_PartA_2024-07',\n",
       "        'Requirements for survey of materials and equipment for the classification of ships and offshore units_266-NR_2024-03',\n",
       "        'Rules for the certification of lifting appliances onboard ships and offshore units_526-NR_2021-07',\n",
       "        'Rules for the classification of ships operating in polar waters and icebreakers_527-NR_2024-07',\n",
       "        'Rules on cyber security for the classification of marine units_659-NR_2024-07',\n",
       "        'Act on Port Regulations_Japan_1948',\n",
       "        'Maritime and Port Authority of Singapore_2000',\n",
       "        'Port Information Guide_Rotterdam_2024',\n",
       "        'Port Regulations_EU_2017', 'Harbor Act_Republic of Korea_2017',\n",
       "        'PART 2_2024_Materials and Welding',\n",
       "        'PART 1_2024_Classification and Surveys',\n",
       "        'PART 3_2024_Hull Structures',\n",
       "        'PART 5_2024_Machinery Installations',\n",
       "        'PART 9_2024_Additional Installations',\n",
       "        'WinGD-Portfolio-Engines_2024_Digital', '16-06-pres-kit_x92',\n",
       "        'cimac2016_173_brueckl_paper_virtualdesign-and-simulation-in2strokemarineenginedevelopment',\n",
       "        'wingd-paper_engine_selection_for_very_large_container_vessels_201609',\n",
       "        'CRYOGENIC-TRANSFER-PUMPS-FOR-LIQUEFIED-GASES-web',\n",
       "        'Catalogue_LNG T&T_WEB', 'Catalogue_POMPES-PISTON-v2023_WEB',\n",
       "        'HYDROCARBON-TURBO_EXPANDERS',\n",
       "        'equipment-solutions-for-lng-and-lbl',\n",
       "        'PART 14_2024_Structural Rules for Container Ships',\n",
       "        'PART 15_2024_Structural Rules for Membrane Type Liquefied Natural Gas Carriers',\n",
       "        'PART 7(CH 5, CH 6)_2024_Ships of Special Service(CH5, 6)',\n",
       "        'PART 7_2024_Ships of Special Service(Ch1_4, 7_10)',\n",
       "        'PART 12_2014_Common Structural Rules for Double Hull Oil Tankers',\n",
       "        'Rules on materials and welding for the classification of marine units_216-NR_2024-07',\n",
       "        'Strength assessment of LNG membrane tanks under sloshing loads_564-NI_2011-05',\n",
       "        'Wind propulsion systems_206-NR_2024-01',\n",
       "        'RULES FOR THE CLASSIFICATION OF STEEL SHIPS_467-NR_PartE_2024-07',\n",
       "        'RULES FOR THE CLASSIFICATION OF STEEL SHIPS_467-NR_PartB_2024-07',\n",
       "        'RULES FOR THE CLASSIFICATION OF STEEL SHIPS_467-NR_PartC_2024-07',\n",
       "        'RULES FOR THE CLASSIFICATION OF STEEL SHIPS_467-NR_PartD_2024-07',\n",
       "        'RULES FOR THE CLASSIFICATION OF STEEL SHIPS_467-NR_PartF_2024-07'],\n",
       "       dtype=object))"
      ]
     },
     "execution_count": 36,
     "metadata": {},
     "output_type": "execute_result"
    }
   ],
   "source": [
    "len(df[\"filename\"].unique()), df[\"filename\"].unique()"
   ]
  },
  {
   "cell_type": "code",
   "execution_count": 52,
   "metadata": {},
   "outputs": [
    {
     "data": {
      "text/plain": [
       "[(Document(metadata={'File Name': 'DNV Rules for Classification of Ships _2016_55_Nautical Safety', 'File Path': '/content/drive/MyDrive/Rules/DNV/DNV Rules for Classification of Ships _2016_55_Nautical Safety.pdf', 'First Division': 'Rules', 'Page': 82, 'Second Division': 'DNV'}, page_content='This page explains DNV Rules for Classification of Ships _2016_55_Nautical Safety, that belongs to catogories of Rules and DNV./nRules for Ships, January 2014  Pt.6 Ch.8 Sec.7 Network based integration of naviga tion systems (ICS) – Page 83 DET N ORSKE V ERITAS AS — time — ENC — radar video. 302  The position, heading and speed information shall b e displayed together with the indication of its sou rce. Guidance note: Sensor data, e.g. GYR 1, GYR 2, GPS 1, GPS 2, EM log, Dop pler log, GPS, radar 1, radar 2 etc.; -or result of calculation or manual input; -unit if ambiguous, e.g. UTC for time. ---e-n-d---of---G-u-i-d-a-n-c-e---n-o-t-e-- 303  Display of sensor output data The ICS shall be capable of displaying non-processe d information directly from the output data availab le from the sensors upon request from the user. Guidance note: It shall be possible for the OOW to call upon and read the stream of received IEC61162 messages (ASCII) from sensors in a separate window. ---e-n-d---of---G-u-i-d-a-n-c-e---n-o-t-e-- C 400 Accuracy and performance 401  The ICS processing shall not degrade the attributes of the'),\n",
       "  0.2513917228469573),\n",
       " (Document(metadata={'File Name': 'DNV Rules for Classification of Ships _2016_67_Nautical Safety – Offshore Service Vessels', 'File Path': '/content/drive/MyDrive/Rules/DNV/DNV Rules for Classification of Ships _2016_67_Nautical Safety – Offshore Service Vessels.pdf', 'First Division': 'Rules', 'Page': 52, 'Second Division': 'DNV'}, page_content=\"This page explains DNV Rules for Classification of Ships _2016_67_Nautical Safety – Offshore Service Vessels, that belongs to catogories of Rules and DNV./nworkstation monitoring. See IEC 61174 Annex G for further details about ECD IS Back-up. ---e-n-d---of---G-u-i-d-a-n-c-e---n-o-t-e-- 703  ECDIS shall be able to transfer route information t o chart radar for enabling display of active route on the chart radar. Guidance note: Route information shall be in accordance with IEC 61162 and shall be possible to send directly to chart radar without use of external media such as diskettes. ---e-n-d---of---G-u-i-d-a-n-c-e---n-o-t-e-- B 800 AIS MKD 801  The ECDIS and/or the radar installed at the worksta tion for navigating & manoeuvring shall support the AIS MKD (possibility to operate the AIS from the wo rkstation). B 900 Bridge navigational watch alarm system (BNWAS) 901  The ship's wheelhouse shall be equipped with a surv eillance system continuously monitoring the presence of an alert OOW. The BNWAS shall maintain supervision of the wheelhouse to ensure the navigational watch being attended when the ship is underway at sea. The BNWAS system\"),\n",
       "  0.23287534789066622),\n",
       " (Document(metadata={'File Name': 'DNV Rules for Classification of Ships _2016_55_Nautical Safety', 'File Path': '/content/drive/MyDrive/Rules/DNV/DNV Rules for Classification of Ships _2016_55_Nautical Safety.pdf', 'First Division': 'Rules', 'Page': 82, 'Second Division': 'DNV'}, page_content='This page explains DNV Rules for Classification of Ships _2016_55_Nautical Safety, that belongs to catogories of Rules and DNV./nshall not degrade the attributes of the essential information being provided by the sensors. Guidance note: Such attributes include accuracy, update rate, range, resolut ion, validity, etc. as specified in the relevant internati onal standards. ---e-n-d---of---G-u-i-d-a-n-c-e---n-o-t-e-- 402  Latency of data Data latency shall be consistent with the data requ irements of the individual parts and their relevant international standards. Guidance note: The latency should be less than 1.0 second for information to be di splayed only while it should be less than 0.1 seconds for information being critical for the performance of an automa tic control system, e.g. heading in HCS. ---e-n-d---of---G-u-i-d-a-n-c-e---n-o-t-e-- 403  Consistent common reference system The ICS shall ensure that essential sensor informat ion is distributed to the relevant parts of the sys tem, applying a consistent common reference system. The ICS shall ensure that: — all parts and displays are provided with the same'),\n",
       "  0.21835752874630066)]"
      ]
     },
     "execution_count": 52,
     "metadata": {},
     "output_type": "execute_result"
    }
   ],
   "source": [
    "def similarity_search(query:str, db_path:str, k:int=3):\n",
    "    vector_store = Chroma(collection_name=\"collection_01\", persist_directory=db_path, embedding_function=OllamaEmbeddings(model=\"bge-m3:latest\"))\n",
    "    results = vector_store.similarity_search_with_relevance_scores(query, k=k)\n",
    "    return results\n",
    "\n",
    "query = \"\"\"\n",
    "what is the noon report in iss system?\n",
    "\"\"\"\n",
    "res1 = similarity_search(query=query, db_path=db_path, k=3)\n",
    "res1"
   ]
  },
  {
   "cell_type": "code",
   "execution_count": 53,
   "metadata": {},
   "outputs": [
    {
     "name": "stdout",
     "output_type": "stream",
     "text": [
      "['what', 'noon report', 'iss']\n"
     ]
    },
    {
     "data": {
      "text/plain": [
       "[(Document(metadata={'File Name': '00-part-1D-alternative-jan24_ Alternative Arrangements, Novel Concepts and New Technologies', 'File Path': '/content/drive/MyDrive/Rules/ABS/00-part-1D-alternative-jan24_ Alternative Arrangements, Novel Concepts and New Technologies.pdf', 'First Division': 'Rules', 'Page': 120, 'Second Division': 'ABS'}, page_content='This page explains 00-part-1D-alternative-jan24_ Alternative Arrangements, Novel Concepts and New Technologies, that belongs to catogories of Rules and ABS./n|Qualification Stage|Item #|Question|Yes/No/NA|Evidence to support?|\\n|-------------------|------|--------|---------|--------------------|\\n|Feasibility Stage|1|Has what is specifically new and/or unique about the concept been clearly identified?|||\\n|None|2|Has what specifically needs qualification been defined?|||\\n|None|3|Have potential applications been identified?|||\\n|None|4|Have goals, functional requirements, and fundamental objectives (e.g., RAM) for the identified application been identified?|||\\n|None|5|Have basic functionality and durability of the technology been analyzed?|||\\n|None|6|Have basic principles been observed and reported?|||\\n|None|7|Have lessons learned from similar technology been reviewed and documented?|||\\n|None|8|Have basic design calculations been performed?|||\\n|None|9|Have conceptual research and development been completed?|||\\n|None|10|Has a preliminary list of reliability drivers been prepared?|||'),\n",
       "  9.76202767272458),\n",
       " (Document(metadata={'File Name': 'DNV Rules for Classification of Ships _2016_55_Nautical Safety', 'File Path': '/content/drive/MyDrive/Rules/DNV/DNV Rules for Classification of Ships _2016_55_Nautical Safety.pdf', 'First Division': 'Rules', 'Page': 93, 'Second Division': 'DNV'}, page_content='This page explains DNV Rules for Classification of Ships _2016_55_Nautical Safety, that belongs to catogories of Rules and DNV./nge in case of irregular operational conditions including situations causing excessive workloads. 102  It is assumed that the ship operator and ship maste r ensures that all the requirements of this section are complied with. C. Qualifications C 100 General 101  All officers being assigned the responsibility of t he navigational watch should be fully qualified to operate the navigational equipment and systems inst alled on the particular ship. The master and all OO W should hold a certificate of competence documenting completion of TCS training. 102  The OOW should have attained the required competenc e prior to be assigned a single-man watch. 103  It is the responsibility of the ship operator to ma ke certain that the master and the navigation offic ers have completed the necessary training and courses prior to their full assignment. 104  The master, holding a certificate of competence iss ued by the manufacturer of the TCS and having sufficient practical experience, may train and'),\n",
       "  9.161182548835646),\n",
       " (Document(metadata={'File Name': 'DNV Rules for Classification of Ships _2016_09_Plan Approval Documentation Types – Definitions', 'File Path': '/content/drive/MyDrive/Rules/DNV/DNV Rules for Classification of Ships _2016_09_Plan Approval Documentation Types – Definitions.pdf', 'First Division': 'Rules', 'Page': 20, 'Second Division': 'DNV'}, page_content='This page explains DNV Rules for Classification of Ships _2016_09_Plan Approval Documentation Types – Definitions, that belongs to catogories of Rules and DNV./nG180 – Shutdown hierarchy A document showing in a simplified manner: — the shutdown levels — what causes that activate the shutdown levels'),\n",
       "  9.006662281547236)]"
      ]
     },
     "execution_count": 53,
     "metadata": {},
     "output_type": "execute_result"
    }
   ],
   "source": [
    "import re\n",
    "import numpy as np\n",
    "from rank_bm25 import BM25Okapi\n",
    "from langchain_core.documents import Document\n",
    "\n",
    "def bm25_search(query:str, db_path:str):\n",
    "    client = chromadb.PersistentClient(path=db_path)\n",
    "    for collection in client.list_collections():\n",
    "        data = collection.get(include=['documents', 'metadatas'])\n",
    "    tokenized_corpus = [doc.split(\" \") for doc in data[\"documents\"]]\n",
    "    bm25 = BM25Okapi(tokenized_corpus)\n",
    "\n",
    "    pattern = r'\"(.*?)\"'  # 따옴표로 둘러싸인 단어만 검색 대상으로 리스트에 담기\n",
    "    tokenized_query = re.findall(pattern, query)\n",
    "    print(tokenized_query)\n",
    "\n",
    "    doc_scores = bm25.get_scores(tokenized_query)\n",
    "    top_indices = np.argsort(doc_scores)[-3:]   # 유사도 스코어 상위 3개 추리기\n",
    "    top_indices = top_indices[::-1]   # 유사도 내림차순 정렬\n",
    "\n",
    "    results = []  # 결과를 langchain Document 형태로 변경 (Similarity Search와 같은 형태로 만들어서 리턴)\n",
    "    for idx in top_indices:\n",
    "        document = (Document(metadata=data[\"metadatas\"][idx], page_content=data[\"documents\"][idx]), doc_scores[idx])\n",
    "        results.append(document)\n",
    "    \n",
    "    return results\n",
    "\n",
    "res2 = bm25_search(query='\"what\" is the \"noon report\" in \"iss\" system', db_path=\"./db/chroma_db_02\")\n",
    "res2"
   ]
  },
  {
   "cell_type": "code",
   "execution_count": 63,
   "metadata": {},
   "outputs": [
    {
     "name": "stdout",
     "output_type": "stream",
     "text": [
      "[0.2513917228469573, 0.23287534789066622, 0.21835752874630066]\n",
      "[9.76202767272458, 9.161182548835646, 9.006662281547236]\n"
     ]
    }
   ],
   "source": [
    "semantic_top_5_matches_idx = [i[1] for i in res1]\n",
    "print(semantic_top_5_matches_idx)\n",
    "keyword_top_5_matches_idx = [i[1] for i in res2]\n",
    "print(keyword_top_5_matches_idx)"
   ]
  },
  {
   "cell_type": "code",
   "execution_count": 68,
   "metadata": {},
   "outputs": [],
   "source": [
    "def rrf(all_rankings: list[list[int]]):\n",
    "    \"\"\"Takes in list of rankings produced by multiple retrieval algorithms,\n",
    "    and returns newly of ranked and scored items.\"\"\"\n",
    "    scores = {} # key is the index and value is the score of that index\n",
    "    # 1. Take every retrieval algorithm ranking\n",
    "    for algorithm_ranks in all_rankings:\n",
    "        print(algorithm_ranks)\n",
    "        # 2. For each ranking, take the index and the ranked position\n",
    "        for rank, idx in enumerate(algorithm_ranks):\n",
    "            print(rank, idx)\n",
    "            # 3. Calculate the score and add it to the index\n",
    "            if idx in scores:\n",
    "                scores[idx] += 1 / (60 + rank)\n",
    "            else:\n",
    "                scores[idx] = 1 / (60 + rank)\n",
    "\n",
    "    # 4. Sort the indices based on accumulated scores\n",
    "    sorted_scores = sorted(scores.items(), key=lambda item: item[1], reverse=True)\n",
    "    return sorted_scores"
   ]
  },
  {
   "cell_type": "code",
   "execution_count": 69,
   "metadata": {},
   "outputs": [
    {
     "name": "stdout",
     "output_type": "stream",
     "text": [
      "[0.2513917228469573, 0.23287534789066622, 0.21835752874630066]\n",
      "0 0.2513917228469573\n",
      "1 0.23287534789066622\n",
      "2 0.21835752874630066\n",
      "[9.76202767272458, 9.161182548835646, 9.006662281547236]\n",
      "0 9.76202767272458\n",
      "1 9.161182548835646\n",
      "2 9.006662281547236\n"
     ]
    },
    {
     "data": {
      "text/plain": [
       "[(0.2513917228469573, 0.016666666666666666),\n",
       " (9.76202767272458, 0.016666666666666666),\n",
       " (0.23287534789066622, 0.01639344262295082),\n",
       " (9.161182548835646, 0.01639344262295082),\n",
       " (0.21835752874630066, 0.016129032258064516),\n",
       " (9.006662281547236, 0.016129032258064516)]"
      ]
     },
     "execution_count": 69,
     "metadata": {},
     "output_type": "execute_result"
    }
   ],
   "source": [
    "new_ranks = rrf([semantic_top_5_matches_idx, keyword_top_5_matches_idx])\n",
    "new_ranks"
   ]
  },
  {
   "cell_type": "code",
   "execution_count": null,
   "metadata": {},
   "outputs": [],
   "source": []
  }
 ],
 "metadata": {
  "kernelspec": {
   "display_name": ".venv",
   "language": "python",
   "name": "python3"
  },
  "language_info": {
   "codemirror_mode": {
    "name": "ipython",
    "version": 3
   },
   "file_extension": ".py",
   "mimetype": "text/x-python",
   "name": "python",
   "nbconvert_exporter": "python",
   "pygments_lexer": "ipython3",
   "version": "3.12.7"
  }
 },
 "nbformat": 4,
 "nbformat_minor": 2
}
