{
 "cells": [
  {
   "cell_type": "code",
   "execution_count": null,
   "id": "1a6bc2d8",
   "metadata": {},
   "outputs": [],
   "source": [
    "import os\n",
    "import random\n",
    "import base64\n",
    "import numpy as np\n",
    "from dotenv import load_dotenv\n",
    "load_dotenv()\n",
    "# import streamlit as st\n",
    "from datetime import datetime\n",
    "from pathlib import Path\n",
    "from pydantic.v1 import BaseModel, Field\n",
    "\n",
    "from langchain_community.document_loaders import PyPDFLoader\n",
    "from langchain_community.document_loaders import WebBaseLoader\n",
    "from langchain_community.vectorstores import Chroma\n",
    "from langchain_community.document_loaders import PyPDFLoader\n",
    "from langchain_community.tools.yahoo_finance_news import YahooFinanceNewsTool\n",
    "from langchain_core.prompts import ChatPromptTemplate\n",
    "from langchain_core.output_parsers import StrOutputParser\n",
    "from langchain.agents import AgentType, initialize_agent, create_structured_chat_agent\n",
    "from langchain.agents import Tool\n",
    "from langchain.globals import set_debug\n",
    "from langchain.text_splitter import RecursiveCharacterTextSplitter\n",
    "from langchain.chains import create_retrieval_chain, RetrievalQA\n",
    "from langchain.chains.combine_documents import create_stuff_documents_chain\n",
    "\n",
    "from langchain_openai import OpenAIEmbeddings\n",
    "from langchain_groq import ChatGroq\n",
    "from groq import Groq\n",
    "from openai import OpenAI\n",
    "\n",
    "# from byaldi import RAGMultiModalModel\n",
    "from langchain_core.messages import SystemMessage, HumanMessage"
   ]
  },
  {
   "cell_type": "code",
   "execution_count": 3,
   "id": "3283c504",
   "metadata": {},
   "outputs": [],
   "source": [
    "def encode_image(image_path):\n",
    "  with open(image_path, \"rb\") as image_file:\n",
    "    return base64.b64encode(image_file.read()).decode('utf-8')"
   ]
  },
  {
   "cell_type": "code",
   "execution_count": null,
   "id": "eac76e2a",
   "metadata": {},
   "outputs": [],
   "source": [
    "def image_chat(image_path:str, query:str, model_name:str):\n",
    "    base64_image = encode_image(image_path)\n",
    "    client = Groq()\n",
    "    # client = OpenAI(base_url=\"http://localhost:11434/v1\", api_key=\"ollama\")\n",
    "\n",
    "    chat_completion  = client.chat.completions.create(\n",
    "        model=model_name,\n",
    "        messages=[\n",
    "        {\n",
    "            \"role\": \"user\",\n",
    "            \"content\": [\n",
    "                {\"type\": \"text\", \"text\": f\"{query}\"},\n",
    "                {\n",
    "                    \"type\": \"image_url\",\n",
    "                    \"image_url\": {\n",
    "                        \"url\": f\"data:image/jpeg;base64,{base64_image}\",\n",
    "                    },\n",
    "                },\n",
    "            ],\n",
    "        }\n",
    "    ],\n",
    "        temperature=0,\n",
    "        max_tokens=1024,\n",
    "        top_p=1,\n",
    "        stream=False,\n",
    "        stop=None,\n",
    "    )\n",
    "    return chat_completion.choices[0].message.content"
   ]
  },
  {
   "cell_type": "code",
   "execution_count": 24,
   "metadata": {},
   "outputs": [
    {
     "name": "stdout",
     "output_type": "stream",
     "text": [
      "Sure, here is a key-value pair representation of the invoice:\n",
      "\n",
      "{\n",
      "    \"ISSUED TO\": \"Richard Sanchez\",\n",
      "    \"ISSUED TO ADDRESS\": \"Thynk Unlimited 123 Anywhere St., Any City\",\n",
      "    \"INVOICE NO\": \"01234\",\n",
      "    \"DATE\": \"11.02.2030\",\n",
      "    \"DUE DATE\": \"11.03.2030\",\n",
      "    \"PAY TO\": \"Barclays Bank\",\n",
      "    \"PAY TO ACCOUNT NAME\": \"Adeline Palmerston\",\n",
      "    \"PAY TO ACCOUNT NO\": \"0123 4567 8901\",\n",
      "    \"DESCRIPTION\": {\n",
      "        \"Brand consultation\": 100,\n",
      "        \"logo design\": 100,\n",
      "        \"Website design\": 100,\n",
      "        \"Social media templates\": 100,\n",
      "        \"Brand photography\": 100,\n",
      "        \"Brand guide\": 100\n",
      "    },\n",
      "    \"UNIT PRICE\": 100,\n",
      "    \"QTY\": 1,\n",
      "    \"TOTAL\": 100,\n",
      "    \"SUBTOTAL\": 400,\n",
      "    \"TAX\": 10,\n",
      "    \"TOTAL\": 440\n",
      "}\n"
     ]
    }
   ],
   "source": [
    "image_path = \"./data/invoice_01.png\"\n",
    "model_name = \"llama-3.2-11b-vision-preview\"\n",
    "query = \"\"\"첨부 파일의 주요 내용을 key, value pair json 형식으로 요약해주세요.\n",
    "\"\"\"\n",
    "\n",
    "result = image_chat(image_path=image_path, query=query, model_name=model_name)\n",
    "print(result)"
   ]
  },
  {
   "cell_type": "code",
   "execution_count": null,
   "id": "d133c675",
   "metadata": {},
   "outputs": [],
   "source": []
  }
 ],
 "metadata": {
  "kernelspec": {
   "display_name": ".venv",
   "language": "python",
   "name": "python3"
  },
  "language_info": {
   "codemirror_mode": {
    "name": "ipython",
    "version": 3
   },
   "file_extension": ".py",
   "mimetype": "text/x-python",
   "name": "python",
   "nbconvert_exporter": "python",
   "pygments_lexer": "ipython3",
   "version": "3.12.6"
  }
 },
 "nbformat": 4,
 "nbformat_minor": 5
}
