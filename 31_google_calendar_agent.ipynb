{
 "cells": [
  {
   "cell_type": "markdown",
   "id": "073403a5",
   "metadata": {},
   "source": [
    "# Google Oauth"
   ]
  },
  {
   "cell_type": "code",
   "execution_count": 1,
   "id": "231fe5cb",
   "metadata": {},
   "outputs": [],
   "source": [
    "import os.path\n",
    "from google.oauth2.credentials import Credentials\n",
    "from google_auth_oauthlib.flow import InstalledAppFlow\n",
    "from google.auth.transport.requests import Request\n",
    "from googleapiclient.discovery import build"
   ]
  },
  {
   "cell_type": "code",
   "execution_count": 6,
   "id": "cb8fd735",
   "metadata": {},
   "outputs": [],
   "source": [
    "# SCOPES = [\"https://www.googleapis.com/auth/calendar\"]\n",
    "# creds = None\n",
    "\n",
    "# if os.path.exists('token.json'):\n",
    "#     creds = Credentials.from_authorized_user_file('token.json', SCOPES)\n",
    "\n",
    "# # 자격 증명이 없거나 만료됐으면 새로 로그인\n",
    "# if not creds or not creds.valid:\n",
    "#     if creds and creds.expired and creds.refresh_token:\n",
    "#         creds.refresh(Request())\n",
    "#     else:\n",
    "#         # credentials.json 파일에서 클라이언트 비밀키 불러오기\n",
    "#         flow = InstalledAppFlow.from_client_secrets_file(\n",
    "#             './data/client_secret_39562377782-nge5sdugil9eurkbgn54temjtgq06tbh.apps.googleusercontent.com.json', SCOPES)\n",
    "#         creds = flow.run_local_server(port=0)\n",
    "\n",
    "#     # token.json에 저장\n",
    "#     with open('./data/token.json', 'w') as token:\n",
    "#         token.write(creds.to_json())"
   ]
  },
  {
   "cell_type": "markdown",
   "id": "8afa727b",
   "metadata": {},
   "source": [
    "# CalendarToolkit Setting"
   ]
  },
  {
   "cell_type": "code",
   "execution_count": 7,
   "id": "5192e784",
   "metadata": {},
   "outputs": [
    {
     "data": {
      "text/plain": [
       "CalendarToolkit(api_resource=<googleapiclient.discovery.Resource object at 0x000001B849380AD0>)"
      ]
     },
     "execution_count": 7,
     "metadata": {},
     "output_type": "execute_result"
    }
   ],
   "source": [
    "from langchain_google_community import CalendarToolkit\n",
    "from langchain_google_community.calendar.utils import (\n",
    "    build_resource_service,\n",
    "    get_google_credentials,\n",
    ")\n",
    "\n",
    "# Can review scopes here: https://developers.google.com/calendar/api/auth\n",
    "# For instance, readonly scope is https://www.googleapis.com/auth/calendar.readonly\n",
    "credentials = get_google_credentials(\n",
    "    token_file=\"./data/token.json\",\n",
    "    scopes=[\"https://www.googleapis.com/auth/calendar\"],\n",
    "    client_secrets_file=\"./data/client_secret_39562377782-nge5sdugil9eurkbgn54temjtgq06tbh.apps.googleusercontent.com.json\",\n",
    ")\n",
    "\n",
    "api_resource = build_resource_service(credentials=credentials)\n",
    "toolkit = CalendarToolkit(api_resource=api_resource)\n",
    "toolkit"
   ]
  },
  {
   "cell_type": "code",
   "execution_count": 8,
   "id": "809b6a4c",
   "metadata": {},
   "outputs": [
    {
     "data": {
      "text/plain": [
       "[CalendarCreateEvent(api_resource=<googleapiclient.discovery.Resource object at 0x000001B849380AD0>),\n",
       " CalendarSearchEvents(api_resource=<googleapiclient.discovery.Resource object at 0x000001B849380AD0>),\n",
       " CalendarUpdateEvent(api_resource=<googleapiclient.discovery.Resource object at 0x000001B849380AD0>),\n",
       " GetCalendarsInfo(api_resource=<googleapiclient.discovery.Resource object at 0x000001B849380AD0>),\n",
       " CalendarMoveEvent(api_resource=<googleapiclient.discovery.Resource object at 0x000001B849380AD0>),\n",
       " CalendarDeleteEvent(api_resource=<googleapiclient.discovery.Resource object at 0x000001B849380AD0>),\n",
       " GetCurrentDatetime(api_resource=<googleapiclient.discovery.Resource object at 0x000001B849380AD0>)]"
      ]
     },
     "execution_count": 8,
     "metadata": {},
     "output_type": "execute_result"
    }
   ],
   "source": [
    "tools = toolkit.get_tools()\n",
    "tools"
   ]
  },
  {
   "cell_type": "markdown",
   "id": "1f6f915b",
   "metadata": {},
   "source": [
    "# 캘린더 목록 조회"
   ]
  },
  {
   "cell_type": "code",
   "execution_count": 9,
   "id": "cd3a2230",
   "metadata": {},
   "outputs": [
    {
     "name": "stdout",
     "output_type": "stream",
     "text": [
      "캘린더 목록:\n",
      "- 대한민국의 휴일 (ID: ko.south_korea#holiday@group.v.calendar.google.com)\n",
      "- 가족 (ID: family13100623974177768096@group.calendar.google.com)\n",
      "- jongbaekim0710@gmail.com (ID: jongbaekim0710@gmail.com)\n"
     ]
    }
   ],
   "source": [
    "def list_calendars():\n",
    "    calendar_list = api_resource.calendarList().list().execute()\n",
    "    items = calendar_list.get('items', [])\n",
    "    \n",
    "    print(\"캘린더 목록:\")\n",
    "    for calendar in items:\n",
    "        print(f\"- {calendar.get('summary')} (ID: {calendar.get('id')})\")\n",
    "res = list_calendars()\n",
    "res"
   ]
  },
  {
   "cell_type": "markdown",
   "id": "d9a34af6",
   "metadata": {},
   "source": [
    "# 캘린더 이벤트 추가"
   ]
  },
  {
   "cell_type": "code",
   "execution_count": 10,
   "id": "978061df",
   "metadata": {},
   "outputs": [],
   "source": [
    "from datetime import datetime, timedelta\n",
    "def add_meeting_event(calendar_id: str, start_datetime: datetime, summary: str = \"회의\"):\n",
    "    end_datetime = start_datetime + timedelta(hours=1)\n",
    "\n",
    "    event = {\n",
    "        \"summary\": summary,\n",
    "        \"start\": {\n",
    "            \"dateTime\": start_datetime.isoformat(),\n",
    "            \"timeZone\": \"Asia/Seoul\",  # 필요 시 변경\n",
    "        },\n",
    "        \"end\": {\n",
    "            \"dateTime\": end_datetime.isoformat(),\n",
    "            \"timeZone\": \"Asia/Seoul\",\n",
    "        },\n",
    "    }\n",
    "\n",
    "    created_event = api_resource.events().insert(calendarId=calendar_id, body=event).execute()\n",
    "    print(f\"일정이 추가되었습니다: {created_event.get('htmlLink')}\")"
   ]
  },
  {
   "cell_type": "code",
   "execution_count": 16,
   "id": "588f1fd6",
   "metadata": {},
   "outputs": [
    {
     "data": {
      "text/plain": [
       "(datetime.datetime(2025, 5, 13, 14, 0), datetime.datetime)"
      ]
     },
     "execution_count": 16,
     "metadata": {},
     "output_type": "execute_result"
    }
   ],
   "source": [
    "start_time = datetime(2025, 5, 13, 14, 0)\n",
    "start_time, type(start_time)"
   ]
  },
  {
   "cell_type": "code",
   "execution_count": 11,
   "id": "d8a00058",
   "metadata": {},
   "outputs": [
    {
     "name": "stdout",
     "output_type": "stream",
     "text": [
      "일정이 추가되었습니다: https://www.google.com/calendar/event?eid=dHBmM2xqdGoyaDVhcjZtYjIzOHB0YWx0djAgam9uZ2JhZWtpbTA3MTBAbQ\n"
     ]
    }
   ],
   "source": [
    "calendar_id = \"jongbaekim0710@gmail.com\"  # 또는 사용자 캘린더 ID\n",
    "start_time = datetime(2025, 5, 13, 14, 0)  # 2025년 5월 15일 오후 2시\n",
    "add_meeting_event(calendar_id, start_time)"
   ]
  },
  {
   "cell_type": "markdown",
   "id": "7f46d2b7",
   "metadata": {},
   "source": [
    "# 캘린더 이벤트 아이디 조회"
   ]
  },
  {
   "cell_type": "code",
   "execution_count": 12,
   "id": "824cb401",
   "metadata": {},
   "outputs": [
    {
     "name": "stdout",
     "output_type": "stream",
     "text": [
      "제목: 2년차연수(강유), ID: 0hg7ajd63gk91g4nukf54f3sbe\n",
      "제목: 워케이션(성덕), ID: 0j7mhreb1lqafkrt30d2tkivns\n",
      "제목: 미래위저녁약속, ID: 13rjiqao39krafn9r3m1bv1483\n",
      "제목: 삼호정기회의, ID: 3sdq9as4jmga4kac385um8n42l_20250513T000000Z\n",
      "제목: 조별식사, ID: 54bqr154m643g5o968qd0tphkf\n",
      "제목: 회의, ID: tpf3ljtj2h5ar6mb238ptaltv0\n",
      "제목: 2년차연수(세은, 진형), ID: 2m8jhop9f786b0g6ik2ibsjpqf\n"
     ]
    }
   ],
   "source": [
    "def list_events(calendar_id: str, date: datetime):\n",
    "    time_min = date.isoformat() + \"Z\"\n",
    "    time_max = (date + timedelta(days=1)).isoformat() + \"Z\"\n",
    "\n",
    "    events_result = api_resource.events().list(\n",
    "        calendarId=calendar_id,\n",
    "        timeMin=time_min,\n",
    "        timeMax=time_max,\n",
    "        singleEvents=True,\n",
    "        orderBy=\"startTime\"\n",
    "    ).execute()\n",
    "    \n",
    "    events = events_result.get(\"items\", [])\n",
    "    for event in events:\n",
    "        print(f\"제목: {event.get('summary')}, ID: {event.get('id')}\")\n",
    "\n",
    "# 사용 예시\n",
    "from datetime import datetime, timedelta\n",
    "list_events(\"primary\", datetime(2025, 5, 13))  # 해당 날짜의 이벤트 목록 확인"
   ]
  },
  {
   "cell_type": "markdown",
   "id": "2d0a2fbb",
   "metadata": {},
   "source": [
    "# 캘린더 이벤트 삭제"
   ]
  },
  {
   "cell_type": "code",
   "execution_count": 14,
   "id": "74887cdf",
   "metadata": {},
   "outputs": [],
   "source": [
    "def delete_event(calendar_id: str, event_id: str):\n",
    "    try:\n",
    "        api_resource.events().delete(calendarId=calendar_id, eventId=event_id).execute()\n",
    "        print(f\"이벤트(ID: {event_id})가 삭제되었습니다.\")\n",
    "    except Exception as e:\n",
    "        print(f\"이벤트 삭제 중 오류 발생: {e}\")"
   ]
  },
  {
   "cell_type": "code",
   "execution_count": 15,
   "id": "a73de0d6",
   "metadata": {},
   "outputs": [
    {
     "name": "stdout",
     "output_type": "stream",
     "text": [
      "이벤트(ID: tpf3ljtj2h5ar6mb238ptaltv0)가 삭제되었습니다.\n"
     ]
    }
   ],
   "source": [
    "calendar_id = \"jongbaekim0710@gmail.com\"  # 또는 다른 캘린더 ID\n",
    "event_id = \"tpf3ljtj2h5ar6mb238ptaltv0\"  # 예: '5a4sk8s9d0fsdkf0sdg'\n",
    "delete_event(calendar_id, event_id)"
   ]
  }
 ],
 "metadata": {
  "kernelspec": {
   "display_name": ".venv",
   "language": "python",
   "name": "python3"
  },
  "language_info": {
   "codemirror_mode": {
    "name": "ipython",
    "version": 3
   },
   "file_extension": ".py",
   "mimetype": "text/x-python",
   "name": "python",
   "nbconvert_exporter": "python",
   "pygments_lexer": "ipython3",
   "version": "3.12.6"
  }
 },
 "nbformat": 4,
 "nbformat_minor": 5
}
